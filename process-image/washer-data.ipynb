{
 "cells": [
  {
   "cell_type": "code",
   "execution_count": 1,
   "id": "33aa16e8",
   "metadata": {},
   "outputs": [
    {
     "name": "stdout",
     "output_type": "stream",
     "text": [
      "Collecting pyts\n",
      "  Downloading pyts-0.12.0-py3-none-any.whl (2.5 MB)\n",
      "Requirement already satisfied: joblib>=0.12 in c:\\users\\saeth\\anaconda3\\lib\\site-packages (from pyts) (1.1.0)\n",
      "Requirement already satisfied: numpy>=1.17.5 in c:\\users\\saeth\\anaconda3\\lib\\site-packages (from pyts) (1.21.5)\n",
      "Requirement already satisfied: scikit-learn>=0.22.1 in c:\\users\\saeth\\anaconda3\\lib\\site-packages (from pyts) (1.0.2)\n",
      "Requirement already satisfied: numba>=0.48.0 in c:\\users\\saeth\\anaconda3\\lib\\site-packages (from pyts) (0.55.1)\n",
      "Requirement already satisfied: scipy>=1.3.0 in c:\\users\\saeth\\anaconda3\\lib\\site-packages (from pyts) (1.7.3)\n",
      "Requirement already satisfied: setuptools in c:\\users\\saeth\\anaconda3\\lib\\site-packages (from numba>=0.48.0->pyts) (61.2.0)\n",
      "Requirement already satisfied: llvmlite<0.39,>=0.38.0rc1 in c:\\users\\saeth\\anaconda3\\lib\\site-packages (from numba>=0.48.0->pyts) (0.38.0)\n",
      "Requirement already satisfied: threadpoolctl>=2.0.0 in c:\\users\\saeth\\anaconda3\\lib\\site-packages (from scikit-learn>=0.22.1->pyts) (2.2.0)\n",
      "Installing collected packages: pyts\n",
      "Successfully installed pyts-0.12.0\n"
     ]
    }
   ],
   "source": [
    "!pip install pyts"
   ]
  },
  {
   "cell_type": "code",
   "execution_count": 1,
   "id": "d252995b",
   "metadata": {},
   "outputs": [],
   "source": [
    "import pandas as pd\n",
    "import numpy as np\n",
    "import timeit\n",
    "import matplotlib.pyplot as plt\n",
    "from pyts.image import GramianAngularField\n",
    "\n",
    "%matplotlib inline"
   ]
  },
  {
   "cell_type": "code",
   "execution_count": 2,
   "id": "e7fc5f94",
   "metadata": {},
   "outputs": [],
   "source": [
    "gafs_diff = GramianAngularField(method='difference')"
   ]
  },
  {
   "cell_type": "code",
   "execution_count": 3,
   "id": "3d181271",
   "metadata": {},
   "outputs": [],
   "source": [
    "def ceated_deactiveimage(data1, data2, folder_name):\n",
    "\n",
    "    set_date = set()\n",
    "    temp_power = []\n",
    "    start = timeit.default_timer()\n",
    "    data = data1.join(data2.set_index('date'), on = 'date')\n",
    "    data['power_device']=data['power_device'].fillna(value = data['power_device'].mean())\n",
    "    data['power_deactive'] = pd.Series([max(0, i) for i in data['power_active']-data['power_device']])\n",
    "    stop = timeit.default_timer()\n",
    "    print('create Dataframe ' , stop-start)\n",
    "    \n",
    "    start = timeit.default_timer()\n",
    "    for index in range(len(data)):\n",
    "\n",
    "        year = data.iloc[index]['year']\n",
    "        month = data.iloc[index]['month']\n",
    "        day = data.iloc[index]['day']\n",
    "            \n",
    "        \n",
    "        if index == 0:\n",
    "            set_date.add(tuple((year,month,day)))\n",
    "            temp_power.append(data.iloc[index]['power_deactive'])\n",
    "        \n",
    "        else:\n",
    "            if tuple((year,month,day)) not in set_date:\n",
    "                set_date.add(tuple((year,month,day)))\n",
    "\n",
    "                #fit transform with gasf\n",
    "                gafs_power = gafs_diff.fit_transform(np.array(temp_power).reshape((1,-1)))\n",
    "                #print(gafs_power[0])\n",
    "                name = str(year) + '-' + str(month) + '-' + str(day) + '.png'\n",
    "                #create image for this day\n",
    "                plt.imsave('/Users/gracepichar/Documents/GitHub/Data-Science-project/OFF/'+ folder_name +'\\\\' + name, gafs_power[0] , cmap='gray')\n",
    "\n",
    "                #create new list for power series\n",
    "                temp_power = []\n",
    "                temp_power.append(data.iloc[index]['power_deactive'])\n",
    "\n",
    "            else:\n",
    "                temp_power.append(data.iloc[index]['power_deactive'])\n",
    "        \n",
    "    if (index+1)%1000000==0:\n",
    "        stop = timeit.default_timer()\n",
    "        print('iteration ' + str(index+1) + ' :', stop-start)\n",
    "        start = timeit.default_timer()\n"
   ]
  },
  {
   "cell_type": "code",
   "execution_count": 4,
   "id": "b67d78a3",
   "metadata": {},
   "outputs": [
    {
     "name": "stdout",
     "output_type": "stream",
     "text": [
      "create Dataframe  75.7137466\n"
     ]
    }
   ],
   "source": [
    "\n",
    "folder_names = ['OFF_WasherDryer']\n",
    "file_name = ['washerdryer_building1']\n",
    "for j in [0]:\n",
    "    ukdale_building1 = pd.read_csv('ukdale_building1.csv')\n",
    "    ukdale_building1.drop('Unnamed: 0', axis=1, inplace=True)\n",
    "    washerdryer_building1 =  pd.read_csv('/Users/gracepichar/Downloads/' + file_name[j] + '.csv')\n",
    "    washerdryer_building1.drop('Unnamed: 0', axis=1, inplace=True)\n",
    "    ceated_deactiveimage(ukdale_building1, washerdryer_building1, folder_names[j])"
   ]
  },
  {
   "cell_type": "code",
   "execution_count": 4,
   "id": "9f8af694",
   "metadata": {},
   "outputs": [
    {
     "data": {
      "text/plain": [
       "1629"
      ]
     },
     "execution_count": 4,
     "metadata": {},
     "output_type": "execute_result"
    }
   ],
   "source": [
    "import os\n",
    "path = '/Users/gracepichar/Documents/GitHub/Data-Science-project/OFF_WasherDryer'\n",
    "files = os.listdir(path)\n",
    "len(files)"
   ]
  },
  {
   "cell_type": "code",
   "execution_count": 2,
   "id": "dbf33f73",
   "metadata": {},
   "outputs": [],
   "source": [
    "import numpy as np\n",
    "import seaborn as sns\n",
    "import matplotlib.pyplot as plt\n",
    "from PIL import Image \n",
    "from PIL import Image, ImageOps\n",
    "Image.MAX_IMAGE_PIXELS = 1000000000"
   ]
  },
  {
   "cell_type": "code",
   "execution_count": 6,
   "id": "e02ca17d",
   "metadata": {},
   "outputs": [],
   "source": [
    "for image_file in files:\n",
    "    if image_file[-4:] == '.png':\n",
    "        image = Image.open(path + image_file)\n",
    "        resize = image.resize((224, 224))\n",
    "        #gray_scale = ImageOps.grayscale(resize)\n",
    "        resize.save('/Users/gracepichar/Documents/GitHub/Data-Science-project/OFF_WasherDryer_reshape'+ image_file)\n",
    "    else:\n",
    "        pass"
   ]
  },
  {
   "cell_type": "markdown",
   "id": "dc14c723",
   "metadata": {},
   "source": [
    "# Apply Singular value decomposition (SVD)"
   ]
  },
  {
   "cell_type": "markdown",
   "id": "68d9c6de",
   "metadata": {},
   "source": [
    "* washer drayer"
   ]
  },
  {
   "cell_type": "markdown",
   "id": "59d447cc",
   "metadata": {},
   "source": [
    "Compute top k variance"
   ]
  },
  {
   "cell_type": "code",
   "execution_count": 10,
   "id": "6663a9fb",
   "metadata": {},
   "outputs": [
    {
     "name": "stdout",
     "output_type": "stream",
     "text": [
      "variance Explained by Top 20 singular values:\n",
      "[9.72586e-01 2.53490e-02 2.06000e-03 1.00000e-06 1.00000e-06 0.00000e+00\n",
      " 0.00000e+00 0.00000e+00 0.00000e+00 0.00000e+00 0.00000e+00 0.00000e+00\n",
      " 0.00000e+00 0.00000e+00 0.00000e+00 0.00000e+00 0.00000e+00 0.00000e+00\n",
      " 0.00000e+00 0.00000e+00]\n"
     ]
    },
    {
     "data": {
      "image/png": "[encoded data removed]",
      "text/plain": [
       "<Figure size 432x288 with 1 Axes>"
      ]
     },
     "metadata": {
      "needs_background": "light"
     },
     "output_type": "display_data"
    }
   ],
   "source": [
    "img = Image.open('/Users/gracepichar/Documents/GitHub/Data-Science-project/OFF-process/OFF_WasherDryer_reshape/2012-11-28.png')\n",
    "imggray = img.convert('LA')\n",
    "\n",
    "imgmat = np.array(list(imggray.getdata(band=0)), float)\n",
    "imgmat.shape = (imggray .size[1], imggray.size[0])\n",
    "imgmat = np.matrix(imgmat)\n",
    "\n",
    "U, sigma, V = np.linalg.svd(imgmat)\n",
    "var_explained = np.round(sigma**2/np.sum(sigma**2), decimals=6)\n",
    " \n",
    "# Variance explained top Singular vectors\n",
    "print(f'variance Explained by Top 20 singular values:\\n{var_explained[0:20]}')\n",
    " \n",
    "sns.barplot(x=list(range(1, 21)),\n",
    "            y=var_explained[0:20], color=\"dodgerblue\")\n",
    " \n",
    "plt.title('Variance Explained Graph')\n",
    "plt.xlabel('Singular Vector', fontsize=16)\n",
    "plt.ylabel('Variance Explained', fontsize=16)\n",
    "plt.tight_layout()\n",
    "plt.show()\n"
   ]
  },
  {
   "cell_type": "code",
   "execution_count": 4,
   "id": "c10dbf1e",
   "metadata": {},
   "outputs": [],
   "source": [
    "import os"
   ]
  },
  {
   "cell_type": "code",
   "execution_count": 15,
   "id": "2bae1a52",
   "metadata": {},
   "outputs": [],
   "source": [
    "path_resize_washer = '/Users/gracepichar/Documents/GitHub/Data-Science-project/OFF-process/OFF_WasherDryer_reshape/'\n",
    "files_resize_washer = os.listdir(path_resize_washer)"
   ]
  },
  {
   "cell_type": "code",
   "execution_count": 16,
   "id": "00f96a14",
   "metadata": {},
   "outputs": [],
   "source": [
    "for image_file in files_resize_washer:\n",
    "    if image_file[-4:] == '.png':\n",
    "        image = Image.open(path_resize_washer + image_file)\n",
    "        imggray = image.convert('LA')\n",
    "        imgmat = np.array(list(imggray.getdata(band=0)), float)\n",
    "        imgmat.shape = (imggray .size[1], imggray.size[0])\n",
    "        imgmat = np.matrix(imgmat)\n",
    "        U, sigma, V = np.linalg.svd(imgmat)\n",
    "        reconstimg = np.matrix(U[:, :1]) * np.diag(sigma[:1]) * np.matrix(V[:1, :])\n",
    "        plt.imsave('/Users/gracepichar/Documents/GitHub/Data-Science-project/SVD/OFF-SVD/washer-SVD/'+ image_file + '.png', reconstimg, cmap = 'gray')\n",
    "    else:\n",
    "        pass"
   ]
  },
  {
   "cell_type": "markdown",
   "id": "91c5ac69",
   "metadata": {},
   "source": [
    "* fridge"
   ]
  },
  {
   "cell_type": "code",
   "execution_count": 21,
   "id": "dc25e880",
   "metadata": {},
   "outputs": [
    {
     "name": "stdout",
     "output_type": "stream",
     "text": [
      "variance Explained by Top 20 singular values:\n",
      "[9.95175e-01 4.82300e-03 1.00000e-06 0.00000e+00 0.00000e+00 0.00000e+00\n",
      " 0.00000e+00 0.00000e+00 0.00000e+00 0.00000e+00 0.00000e+00 0.00000e+00\n",
      " 0.00000e+00 0.00000e+00 0.00000e+00 0.00000e+00 0.00000e+00 0.00000e+00\n",
      " 0.00000e+00 0.00000e+00]\n"
     ]
    },
    {
     "data": {
      "image/png": "[encoded data removed]",
      "text/plain": [
       "<Figure size 432x288 with 1 Axes>"
      ]
     },
     "metadata": {
      "needs_background": "light"
     },
     "output_type": "display_data"
    }
   ],
   "source": [
    "img = Image.open('/Users/gracepichar/Documents/GitHub/Data-Science-project/OFF-process/OFF_Fridge_reshape/2012-11-27.png')\n",
    "imggray = img.convert('LA')\n",
    "\n",
    "imgmat = np.array(list(imggray.getdata(band=0)), float)\n",
    "imgmat.shape = (imggray .size[1], imggray.size[0])\n",
    "imgmat = np.matrix(imgmat)\n",
    "\n",
    "U, sigma, V = np.linalg.svd(imgmat)\n",
    "var_explained = np.round(sigma**2/np.sum(sigma**2), decimals=6)\n",
    " \n",
    "# Variance explained top Singular vectors\n",
    "print(f'variance Explained by Top 20 singular values:\\n{var_explained[0:20]}')\n",
    " \n",
    "sns.barplot(x=list(range(1, 21)),\n",
    "            y=var_explained[0:20], color=\"dodgerblue\")\n",
    " \n",
    "plt.title('Variance Explained Graph')\n",
    "plt.xlabel('Singular Vector', fontsize=16)\n",
    "plt.ylabel('Variance Explained', fontsize=16)\n",
    "plt.tight_layout()\n",
    "plt.show()\n"
   ]
  },
  {
   "cell_type": "code",
   "execution_count": 5,
   "id": "ee7696b6",
   "metadata": {},
   "outputs": [],
   "source": [
    "path_resize_fridge = '/Users/gracepichar/Documents/GitHub/Data-Science-project/OFF-process/OFF_Fridge_reshape/'\n",
    "files_resize_fridge = os.listdir(path_resize_fridge)"
   ]
  },
  {
   "cell_type": "code",
   "execution_count": 6,
   "id": "1c9f583d",
   "metadata": {},
   "outputs": [],
   "source": [
    "for image_file in files_resize_fridge:\n",
    "    if image_file[-4:] == '.png':\n",
    "        image = Image.open(path_resize_fridge + image_file)\n",
    "        imggray = image.convert('LA')\n",
    "        imgmat = np.array(list(imggray.getdata(band=0)), float)\n",
    "        imgmat.shape = (imggray .size[1], imggray.size[0])\n",
    "        imgmat = np.matrix(imgmat)\n",
    "        U, sigma, V = np.linalg.svd(imgmat)\n",
    "        reconstimg = np.matrix(U[:, :1]) * np.diag(sigma[:1]) * np.matrix(V[:1, :])\n",
    "        plt.imsave('/Users/gracepichar/Documents/GitHub/Data-Science-project/SVD/OFF-SVD/fridge-SVD/'+ image_file + '.png', reconstimg, cmap = 'gray')\n",
    "    else:\n",
    "        pass"
   ]
  },
  {
   "cell_type": "code",
   "execution_count": null,
   "id": "1a983dff",
   "metadata": {},
   "outputs": [],
   "source": []
  }
 ],
 "metadata": {
  "kernelspec": {
   "display_name": "Python 3",
   "language": "python",
   "name": "python3"
  },
  "language_info": {
   "codemirror_mode": {
    "name": "ipython",
    "version": 3
   },
   "file_extension": ".py",
   "mimetype": "text/x-python",
   "name": "python",
   "nbconvert_exporter": "python",
   "pygments_lexer": "ipython3",
   "version": "3.8.8"
  }
 },
 "nbformat": 4,
 "nbformat_minor": 5
}
