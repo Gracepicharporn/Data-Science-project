{
 "cells": [
  {
   "cell_type": "code",
   "execution_count": 1,
   "id": "33aa16e8",
   "metadata": {},
   "outputs": [
    {
     "name": "stdout",
     "output_type": "stream",
     "text": [
      "Collecting pyts\n",
      "  Downloading pyts-0.12.0-py3-none-any.whl (2.5 MB)\n",
      "Requirement already satisfied: joblib>=0.12 in c:\\users\\saeth\\anaconda3\\lib\\site-packages (from pyts) (1.1.0)\n",
      "Requirement already satisfied: numpy>=1.17.5 in c:\\users\\saeth\\anaconda3\\lib\\site-packages (from pyts) (1.21.5)\n",
      "Requirement already satisfied: scikit-learn>=0.22.1 in c:\\users\\saeth\\anaconda3\\lib\\site-packages (from pyts) (1.0.2)\n",
      "Requirement already satisfied: numba>=0.48.0 in c:\\users\\saeth\\anaconda3\\lib\\site-packages (from pyts) (0.55.1)\n",
      "Requirement already satisfied: scipy>=1.3.0 in c:\\users\\saeth\\anaconda3\\lib\\site-packages (from pyts) (1.7.3)\n",
      "Requirement already satisfied: setuptools in c:\\users\\saeth\\anaconda3\\lib\\site-packages (from numba>=0.48.0->pyts) (61.2.0)\n",
      "Requirement already satisfied: llvmlite<0.39,>=0.38.0rc1 in c:\\users\\saeth\\anaconda3\\lib\\site-packages (from numba>=0.48.0->pyts) (0.38.0)\n",
      "Requirement already satisfied: threadpoolctl>=2.0.0 in c:\\users\\saeth\\anaconda3\\lib\\site-packages (from scikit-learn>=0.22.1->pyts) (2.2.0)\n",
      "Installing collected packages: pyts\n",
      "Successfully installed pyts-0.12.0\n"
     ]
    }
   ],
   "source": [
    "!pip install pyts"
   ]
  },
  {
   "cell_type": "code",
   "execution_count": 1,
   "id": "d252995b",
   "metadata": {},
   "outputs": [],
   "source": [
    "import pandas as pd\n",
    "import numpy as np\n",
    "import timeit\n",
    "import matplotlib.pyplot as plt\n",
    "from pyts.image import GramianAngularField\n",
    "\n",
    "%matplotlib inline"
   ]
  },
  {
   "cell_type": "code",
   "execution_count": 2,
   "id": "e7fc5f94",
   "metadata": {},
   "outputs": [],
   "source": [
    "gafs_diff = GramianAngularField(method='difference')"
   ]
  },
  {
   "cell_type": "code",
   "execution_count": 3,
   "id": "3d181271",
   "metadata": {},
   "outputs": [],
   "source": [
    "def ceated_deactiveimage(data1, data2, folder_name):\n",
    "\n",
    "    set_date = set()\n",
    "    temp_power = []\n",
    "    start = timeit.default_timer()\n",
    "    data = data1.join(data2.set_index('date'), on = 'date')\n",
    "    data['power_device']=data['power_device'].fillna(value = data['power_device'].mean())\n",
    "    data['power_deactive'] = pd.Series([max(0, i) for i in data['power_active']-data['power_device']])\n",
    "    stop = timeit.default_timer()\n",
    "    print('create Dataframe ' , stop-start)\n",
    "    \n",
    "    start = timeit.default_timer()\n",
    "    for index in range(len(data)):\n",
    "\n",
    "        year = data.iloc[index]['year']\n",
    "        month = data.iloc[index]['month']\n",
    "        day = data.iloc[index]['day']\n",
    "            \n",
    "        \n",
    "        if index == 0:\n",
    "            set_date.add(tuple((year,month,day)))\n",
    "            temp_power.append(data.iloc[index]['power_deactive'])\n",
    "        \n",
    "        else:\n",
    "            if tuple((year,month,day)) not in set_date:\n",
    "                set_date.add(tuple((year,month,day)))\n",
    "\n",
    "                #fit transform with gasf\n",
    "                gafs_power = gafs_diff.fit_transform(np.array(temp_power).reshape((1,-1)))\n",
    "                #print(gafs_power[0])\n",
    "                name = str(year) + '-' + str(month) + '-' + str(day) + '.png'\n",
    "                #create image for this day\n",
    "                plt.imsave('C:\\\\Users\\\\Saeth\\\\Downloads\\\\'+ folder_name +'\\\\' + name, gafs_power[0] , cmap='gray')\n",
    "\n",
    "                #create new list for power series\n",
    "                temp_power = []\n",
    "                temp_power.append(data.iloc[index]['power_deactive'])\n",
    "\n",
    "            else:\n",
    "                temp_power.append(data.iloc[index]['power_deactive'])\n",
    "        \n",
    "    if (index+1)%1000000==0:\n",
    "        stop = timeit.default_timer()\n",
    "        print('iteration ' + str(index+1) + ' :', stop-start)\n",
    "        start = timeit.default_timer()\n"
   ]
  },
  {
   "cell_type": "code",
   "execution_count": 4,
   "id": "b67d78a3",
   "metadata": {},
   "outputs": [
    {
     "name": "stdout",
     "output_type": "stream",
     "text": [
      "create Dataframe  75.7137466\n"
     ]
    }
   ],
   "source": [
    "\n",
    "folder_names = ['OFF_WasherDryer']\n",
    "file_name = ['washerdryer_building1']\n",
    "for j in [0]:\n",
    "    ukdale_building1 = pd.read_csv('C:\\\\Users\\\\Saeth\\\\Downloads\\\\ukdale_building1.csv')\n",
    "    ukdale_building1.drop('Unnamed: 0', axis=1, inplace=True)\n",
    "    washerdryer_building1 =  pd.read_csv('C:\\\\Users\\\\Saeth\\\\Downloads\\\\' + file_name[j] + '.csv')\n",
    "    washerdryer_building1.drop('Unnamed: 0', axis=1, inplace=True)\n",
    "    ceated_deactiveimage(ukdale_building1, washerdryer_building1, folder_names[j])"
   ]
  },
  {
   "cell_type": "code",
   "execution_count": 4,
   "id": "9f8af694",
   "metadata": {},
   "outputs": [
    {
     "data": {
      "text/plain": [
       "1629"
      ]
     },
     "execution_count": 4,
     "metadata": {},
     "output_type": "execute_result"
    }
   ],
   "source": [
    "import os\n",
    "path = 'C:\\\\Users\\\\Saeth\\\\Downloads\\\\OFF_WasherDryer\\\\'\n",
    "files = os.listdir(path)\n",
    "len(files)"
   ]
  },
  {
   "cell_type": "code",
   "execution_count": 5,
   "id": "dbf33f73",
   "metadata": {},
   "outputs": [],
   "source": [
    "from PIL import Image \n",
    "from PIL import Image, ImageOps\n",
    "Image.MAX_IMAGE_PIXELS = 1000000000"
   ]
  },
  {
   "cell_type": "code",
   "execution_count": 6,
   "id": "e02ca17d",
   "metadata": {},
   "outputs": [],
   "source": [
    "for image_file in files:\n",
    "    if image_file[-4:] == '.png':\n",
    "        image = Image.open(path + image_file)\n",
    "        resize = image.resize((224, 224))\n",
    "        #gray_scale = ImageOps.grayscale(resize)\n",
    "        resize.save('C:\\\\Users\\\\Saeth\\\\Downloads\\\\OFF_WasherDryer_reshape\\\\'+ image_file)\n",
    "    else:\n",
    "        pass"
   ]
  },
  {
   "cell_type": "code",
   "execution_count": null,
   "id": "8b956035",
   "metadata": {},
   "outputs": [],
   "source": []
  }
 ],
 "metadata": {
  "kernelspec": {
   "display_name": "Python 3 (ipykernel)",
   "language": "python",
   "name": "python3"
  },
  "language_info": {
   "codemirror_mode": {
    "name": "ipython",
    "version": 3
   },
   "file_extension": ".py",
   "mimetype": "text/x-python",
   "name": "python",
   "nbconvert_exporter": "python",
   "pygments_lexer": "ipython3",
   "version": "3.9.12"
  }
 },
 "nbformat": 4,
 "nbformat_minor": 5
}
