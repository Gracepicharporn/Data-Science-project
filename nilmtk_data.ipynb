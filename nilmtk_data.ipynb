{
  "nbformat": 4,
  "nbformat_minor": 0,
  "metadata": {
    "colab": {
      "name": " nilmtk-data.ipynb",
      "provenance": [],
      "include_colab_link": true
    },
    "kernelspec": {
      "name": "python3",
      "display_name": "Python 3"
    },
    "language_info": {
      "name": "python"
    }
  },
  "cells": [
    {
      "cell_type": "markdown",
      "metadata": {
        "id": "view-in-github",
        "colab_type": "text"
      },
      "source": [
        "<a href=\"https://colab.research.google.com/github/Gracepicharporn/Data-Science-project/blob/main/nilmtk_data.ipynb\" target=\"_parent\"><img src=\"https://colab.research.google.com/assets/colab-badge.svg\" alt=\"Open In Colab\"/></a>"
      ]
    },
    {
      "cell_type": "markdown",
      "source": [
        "## Install NILMTK package"
      ],
      "metadata": {
        "id": "Bd5b3Rlf6r-J"
      }
    },
    {
      "cell_type": "code",
      "execution_count": null,
      "metadata": {
        "colab": {
          "base_uri": "https://localhost:8080/"
        },
        "id": "mCl3iclBmKI2",
        "outputId": "7ca72bb7-8000-4be6-d576-ec95a76fd7b9"
      },
      "outputs": [
        {
          "output_type": "stream",
          "name": "stdout",
          "text": [
            "Cloning into 'nilmtk'...\n",
            "remote: Enumerating objects: 12349, done.\u001b[K\n",
            "remote: Counting objects: 100% (139/139), done.\u001b[K\n",
            "remote: Compressing objects: 100% (64/64), done.\u001b[K\n",
            "remote: Total 12349 (delta 78), reused 124 (delta 74), pack-reused 12210\u001b[K\n",
            "Receiving objects: 100% (12349/12349), 51.88 MiB | 13.89 MiB/s, done.\n",
            "Resolving deltas: 100% (8784/8784), done.\n"
          ]
        }
      ],
      "source": [
        "!git clone https://github.com/nilmtk/nilmtk.git"
      ]
    },
    {
      "cell_type": "code",
      "source": [
        "!pip install git+https://github.com/nilmtk/nilmtk.git"
      ],
      "metadata": {
        "colab": {
          "base_uri": "https://localhost:8080/",
          "height": 1000
        },
        "id": "cOYXajsbmMdI",
        "outputId": "392db9e8-6867-4425-e907-f9daf626d1cc"
      },
      "execution_count": null,
      "outputs": [
        {
          "output_type": "stream",
          "name": "stdout",
          "text": [
            "Looking in indexes: https://pypi.org/simple, https://us-python.pkg.dev/colab-wheels/public/simple/\n",
            "Collecting git+https://github.com/nilmtk/nilmtk.git\n",
            "  Cloning https://github.com/nilmtk/nilmtk.git to /tmp/pip-req-build-sod_6fmo\n",
            "  Running command git clone -q https://github.com/nilmtk/nilmtk.git /tmp/pip-req-build-sod_6fmo\n",
            "Collecting pandas==0.25.3\n",
            "  Downloading pandas-0.25.3-cp37-cp37m-manylinux1_x86_64.whl (10.4 MB)\n",
            "\u001b[K     |████████████████████████████████| 10.4 MB 3.9 MB/s \n",
            "\u001b[?25hCollecting numpy<1.20.0,>=1.13.3\n",
            "  Downloading numpy-1.19.5-cp37-cp37m-manylinux2010_x86_64.whl (14.8 MB)\n",
            "\u001b[K     |████████████████████████████████| 14.8 MB 38.0 MB/s \n",
            "\u001b[?25hCollecting networkx==2.1\n",
            "  Downloading networkx-2.1.zip (1.6 MB)\n",
            "\u001b[K     |████████████████████████████████| 1.6 MB 54.4 MB/s \n",
            "\u001b[?25hRequirement already satisfied: scipy in /usr/local/lib/python3.7/dist-packages (from nilmtk==0.4.0.dev1+git.ddd3a34) (1.4.1)\n",
            "Requirement already satisfied: tables in /usr/local/lib/python3.7/dist-packages (from nilmtk==0.4.0.dev1+git.ddd3a34) (3.7.0)\n",
            "Requirement already satisfied: scikit-learn>=0.21.2 in /usr/local/lib/python3.7/dist-packages (from nilmtk==0.4.0.dev1+git.ddd3a34) (1.0.2)\n",
            "Collecting hmmlearn>=0.2.1\n",
            "  Downloading hmmlearn-0.2.7-cp37-cp37m-manylinux_2_12_x86_64.manylinux2010_x86_64.whl (129 kB)\n",
            "\u001b[K     |████████████████████████████████| 129 kB 62.0 MB/s \n",
            "\u001b[?25hRequirement already satisfied: pyyaml in /usr/local/lib/python3.7/dist-packages (from nilmtk==0.4.0.dev1+git.ddd3a34) (3.13)\n",
            "Collecting matplotlib==3.1.3\n",
            "  Downloading matplotlib-3.1.3-cp37-cp37m-manylinux1_x86_64.whl (13.1 MB)\n",
            "\u001b[K     |████████████████████████████████| 13.1 MB 24.1 MB/s \n",
            "\u001b[?25hCollecting jupyterlab\n",
            "  Downloading jupyterlab-3.4.3-py3-none-any.whl (8.8 MB)\n",
            "\u001b[K     |████████████████████████████████| 8.8 MB 46.5 MB/s \n",
            "\u001b[?25hRequirement already satisfied: cycler>=0.10 in /usr/local/lib/python3.7/dist-packages (from matplotlib==3.1.3->nilmtk==0.4.0.dev1+git.ddd3a34) (0.11.0)\n",
            "Requirement already satisfied: pyparsing!=2.0.4,!=2.1.2,!=2.1.6,>=2.0.1 in /usr/local/lib/python3.7/dist-packages (from matplotlib==3.1.3->nilmtk==0.4.0.dev1+git.ddd3a34) (3.0.9)\n",
            "Requirement already satisfied: python-dateutil>=2.1 in /usr/local/lib/python3.7/dist-packages (from matplotlib==3.1.3->nilmtk==0.4.0.dev1+git.ddd3a34) (2.8.2)\n",
            "Requirement already satisfied: kiwisolver>=1.0.1 in /usr/local/lib/python3.7/dist-packages (from matplotlib==3.1.3->nilmtk==0.4.0.dev1+git.ddd3a34) (1.4.3)\n",
            "Requirement already satisfied: decorator>=4.1.0 in /usr/local/lib/python3.7/dist-packages (from networkx==2.1->nilmtk==0.4.0.dev1+git.ddd3a34) (4.4.2)\n",
            "Requirement already satisfied: pytz>=2017.2 in /usr/local/lib/python3.7/dist-packages (from pandas==0.25.3->nilmtk==0.4.0.dev1+git.ddd3a34) (2022.1)\n",
            "Requirement already satisfied: typing-extensions in /usr/local/lib/python3.7/dist-packages (from kiwisolver>=1.0.1->matplotlib==3.1.3->nilmtk==0.4.0.dev1+git.ddd3a34) (4.1.1)\n",
            "Requirement already satisfied: six>=1.5 in /usr/local/lib/python3.7/dist-packages (from python-dateutil>=2.1->matplotlib==3.1.3->nilmtk==0.4.0.dev1+git.ddd3a34) (1.15.0)\n",
            "Requirement already satisfied: threadpoolctl>=2.0.0 in /usr/local/lib/python3.7/dist-packages (from scikit-learn>=0.21.2->nilmtk==0.4.0.dev1+git.ddd3a34) (3.1.0)\n",
            "Requirement already satisfied: joblib>=0.11 in /usr/local/lib/python3.7/dist-packages (from scikit-learn>=0.21.2->nilmtk==0.4.0.dev1+git.ddd3a34) (1.1.0)\n",
            "Requirement already satisfied: ipython in /usr/local/lib/python3.7/dist-packages (from jupyterlab->nilmtk==0.4.0.dev1+git.ddd3a34) (5.5.0)\n",
            "Collecting jupyter-server~=1.16\n",
            "  Downloading jupyter_server-1.18.1-py3-none-any.whl (344 kB)\n",
            "\u001b[K     |████████████████████████████████| 344 kB 51.7 MB/s \n",
            "\u001b[?25hRequirement already satisfied: jinja2>=2.1 in /usr/local/lib/python3.7/dist-packages (from jupyterlab->nilmtk==0.4.0.dev1+git.ddd3a34) (2.11.3)\n",
            "Collecting nbclassic~=0.2\n",
            "  Downloading nbclassic-0.4.2-py3-none-any.whl (9.7 MB)\n",
            "\u001b[K     |████████████████████████████████| 9.7 MB 37.5 MB/s \n",
            "\u001b[?25hCollecting jupyterlab-server~=2.10\n",
            "  Downloading jupyterlab_server-2.15.0-py3-none-any.whl (54 kB)\n",
            "\u001b[K     |████████████████████████████████| 54 kB 3.1 MB/s \n",
            "\u001b[?25hRequirement already satisfied: jupyter-core in /usr/local/lib/python3.7/dist-packages (from jupyterlab->nilmtk==0.4.0.dev1+git.ddd3a34) (4.10.0)\n",
            "Requirement already satisfied: packaging in /usr/local/lib/python3.7/dist-packages (from jupyterlab->nilmtk==0.4.0.dev1+git.ddd3a34) (21.3)\n",
            "Collecting tornado>=6.1.0\n",
            "  Downloading tornado-6.2-cp37-abi3-manylinux_2_5_x86_64.manylinux1_x86_64.manylinux_2_17_x86_64.manylinux2014_x86_64.whl (423 kB)\n",
            "\u001b[K     |████████████████████████████████| 423 kB 50.1 MB/s \n",
            "\u001b[?25hRequirement already satisfied: MarkupSafe>=0.23 in /usr/local/lib/python3.7/dist-packages (from jinja2>=2.1->jupyterlab->nilmtk==0.4.0.dev1+git.ddd3a34) (2.0.1)\n",
            "Requirement already satisfied: terminado>=0.8.3 in /usr/local/lib/python3.7/dist-packages (from jupyter-server~=1.16->jupyterlab->nilmtk==0.4.0.dev1+git.ddd3a34) (0.13.3)\n",
            "Collecting jupyter-client>=6.1.12\n",
            "  Downloading jupyter_client-7.3.4-py3-none-any.whl (132 kB)\n",
            "\u001b[K     |████████████████████████████████| 132 kB 61.5 MB/s \n",
            "\u001b[?25hRequirement already satisfied: nbformat>=5.2.0 in /usr/local/lib/python3.7/dist-packages (from jupyter-server~=1.16->jupyterlab->nilmtk==0.4.0.dev1+git.ddd3a34) (5.4.0)\n",
            "Requirement already satisfied: Send2Trash in /usr/local/lib/python3.7/dist-packages (from jupyter-server~=1.16->jupyterlab->nilmtk==0.4.0.dev1+git.ddd3a34) (1.8.0)\n",
            "Collecting websocket-client\n",
            "  Downloading websocket_client-1.3.3-py3-none-any.whl (54 kB)\n",
            "\u001b[K     |████████████████████████████████| 54 kB 3.0 MB/s \n",
            "\u001b[?25hRequirement already satisfied: traitlets>=5.1 in /usr/local/lib/python3.7/dist-packages (from jupyter-server~=1.16->jupyterlab->nilmtk==0.4.0.dev1+git.ddd3a34) (5.1.1)\n",
            "Requirement already satisfied: prometheus-client in /usr/local/lib/python3.7/dist-packages (from jupyter-server~=1.16->jupyterlab->nilmtk==0.4.0.dev1+git.ddd3a34) (0.14.1)\n",
            "Requirement already satisfied: pyzmq>=17 in /usr/local/lib/python3.7/dist-packages (from jupyter-server~=1.16->jupyterlab->nilmtk==0.4.0.dev1+git.ddd3a34) (23.1.0)\n",
            "Collecting nbconvert>=6.4.4\n",
            "  Downloading nbconvert-6.5.0-py3-none-any.whl (561 kB)\n",
            "\u001b[K     |████████████████████████████████| 561 kB 51.5 MB/s \n",
            "\u001b[?25hCollecting anyio<4,>=3.1.0\n",
            "  Downloading anyio-3.6.1-py3-none-any.whl (80 kB)\n",
            "\u001b[K     |████████████████████████████████| 80 kB 2.3 MB/s \n",
            "\u001b[?25hRequirement already satisfied: argon2-cffi in /usr/local/lib/python3.7/dist-packages (from jupyter-server~=1.16->jupyterlab->nilmtk==0.4.0.dev1+git.ddd3a34) (21.3.0)\n",
            "Collecting sniffio>=1.1\n",
            "  Downloading sniffio-1.2.0-py3-none-any.whl (10 kB)\n",
            "Requirement already satisfied: idna>=2.8 in /usr/local/lib/python3.7/dist-packages (from anyio<4,>=3.1.0->jupyter-server~=1.16->jupyterlab->nilmtk==0.4.0.dev1+git.ddd3a34) (2.10)\n",
            "Requirement already satisfied: nest-asyncio>=1.5.4 in /usr/local/lib/python3.7/dist-packages (from jupyter-client>=6.1.12->jupyter-server~=1.16->jupyterlab->nilmtk==0.4.0.dev1+git.ddd3a34) (1.5.5)\n",
            "Requirement already satisfied: entrypoints in /usr/local/lib/python3.7/dist-packages (from jupyter-client>=6.1.12->jupyter-server~=1.16->jupyterlab->nilmtk==0.4.0.dev1+git.ddd3a34) (0.4)\n",
            "Collecting jinja2>=2.1\n",
            "  Downloading Jinja2-3.1.2-py3-none-any.whl (133 kB)\n",
            "\u001b[K     |████████████████████████████████| 133 kB 59.0 MB/s \n",
            "\u001b[?25hRequirement already satisfied: importlib-metadata>=3.6 in /usr/local/lib/python3.7/dist-packages (from jupyterlab-server~=2.10->jupyterlab->nilmtk==0.4.0.dev1+git.ddd3a34) (4.11.4)\n",
            "Requirement already satisfied: requests in /usr/local/lib/python3.7/dist-packages (from jupyterlab-server~=2.10->jupyterlab->nilmtk==0.4.0.dev1+git.ddd3a34) (2.23.0)\n",
            "Requirement already satisfied: jsonschema>=3.0.1 in /usr/local/lib/python3.7/dist-packages (from jupyterlab-server~=2.10->jupyterlab->nilmtk==0.4.0.dev1+git.ddd3a34) (4.3.3)\n",
            "Requirement already satisfied: babel in /usr/local/lib/python3.7/dist-packages (from jupyterlab-server~=2.10->jupyterlab->nilmtk==0.4.0.dev1+git.ddd3a34) (2.10.2)\n",
            "Collecting json5\n",
            "  Downloading json5-0.9.8.tar.gz (22 kB)\n",
            "Requirement already satisfied: zipp>=0.5 in /usr/local/lib/python3.7/dist-packages (from importlib-metadata>=3.6->jupyterlab-server~=2.10->jupyterlab->nilmtk==0.4.0.dev1+git.ddd3a34) (3.8.0)\n",
            "Requirement already satisfied: attrs>=17.4.0 in /usr/local/lib/python3.7/dist-packages (from jsonschema>=3.0.1->jupyterlab-server~=2.10->jupyterlab->nilmtk==0.4.0.dev1+git.ddd3a34) (21.4.0)\n",
            "Requirement already satisfied: importlib-resources>=1.4.0 in /usr/local/lib/python3.7/dist-packages (from jsonschema>=3.0.1->jupyterlab-server~=2.10->jupyterlab->nilmtk==0.4.0.dev1+git.ddd3a34) (5.7.1)\n",
            "Requirement already satisfied: pyrsistent!=0.17.0,!=0.17.1,!=0.17.2,>=0.14.0 in /usr/local/lib/python3.7/dist-packages (from jsonschema>=3.0.1->jupyterlab-server~=2.10->jupyterlab->nilmtk==0.4.0.dev1+git.ddd3a34) (0.18.1)\n",
            "Collecting notebook-shim>=0.1.0\n",
            "  Downloading notebook_shim-0.1.0-py3-none-any.whl (13 kB)\n",
            "Requirement already satisfied: ipykernel in /usr/local/lib/python3.7/dist-packages (from nbclassic~=0.2->jupyterlab->nilmtk==0.4.0.dev1+git.ddd3a34) (4.10.1)\n",
            "Requirement already satisfied: ipython-genutils in /usr/local/lib/python3.7/dist-packages (from nbclassic~=0.2->jupyterlab->nilmtk==0.4.0.dev1+git.ddd3a34) (0.2.0)\n",
            "Requirement already satisfied: tinycss2 in /usr/local/lib/python3.7/dist-packages (from nbconvert>=6.4.4->jupyter-server~=1.16->jupyterlab->nilmtk==0.4.0.dev1+git.ddd3a34) (1.1.1)\n",
            "Requirement already satisfied: jupyterlab-pygments in /usr/local/lib/python3.7/dist-packages (from nbconvert>=6.4.4->jupyter-server~=1.16->jupyterlab->nilmtk==0.4.0.dev1+git.ddd3a34) (0.2.2)\n",
            "Requirement already satisfied: pandocfilters>=1.4.1 in /usr/local/lib/python3.7/dist-packages (from nbconvert>=6.4.4->jupyter-server~=1.16->jupyterlab->nilmtk==0.4.0.dev1+git.ddd3a34) (1.5.0)\n",
            "Requirement already satisfied: beautifulsoup4 in /usr/local/lib/python3.7/dist-packages (from nbconvert>=6.4.4->jupyter-server~=1.16->jupyterlab->nilmtk==0.4.0.dev1+git.ddd3a34) (4.6.3)\n",
            "Requirement already satisfied: mistune<2,>=0.8.1 in /usr/local/lib/python3.7/dist-packages (from nbconvert>=6.4.4->jupyter-server~=1.16->jupyterlab->nilmtk==0.4.0.dev1+git.ddd3a34) (0.8.4)\n",
            "Requirement already satisfied: bleach in /usr/local/lib/python3.7/dist-packages (from nbconvert>=6.4.4->jupyter-server~=1.16->jupyterlab->nilmtk==0.4.0.dev1+git.ddd3a34) (5.0.0)\n",
            "Requirement already satisfied: defusedxml in /usr/local/lib/python3.7/dist-packages (from nbconvert>=6.4.4->jupyter-server~=1.16->jupyterlab->nilmtk==0.4.0.dev1+git.ddd3a34) (0.7.1)\n",
            "Requirement already satisfied: nbclient>=0.5.0 in /usr/local/lib/python3.7/dist-packages (from nbconvert>=6.4.4->jupyter-server~=1.16->jupyterlab->nilmtk==0.4.0.dev1+git.ddd3a34) (0.6.6)\n",
            "Requirement already satisfied: pygments>=2.4.1 in /usr/local/lib/python3.7/dist-packages (from nbconvert>=6.4.4->jupyter-server~=1.16->jupyterlab->nilmtk==0.4.0.dev1+git.ddd3a34) (2.6.1)\n",
            "Collecting traitlets>=5.1\n",
            "  Downloading traitlets-5.3.0-py3-none-any.whl (106 kB)\n",
            "\u001b[K     |████████████████████████████████| 106 kB 34.6 MB/s \n",
            "\u001b[?25hRequirement already satisfied: fastjsonschema in /usr/local/lib/python3.7/dist-packages (from nbformat>=5.2.0->jupyter-server~=1.16->jupyterlab->nilmtk==0.4.0.dev1+git.ddd3a34) (2.15.3)\n",
            "Requirement already satisfied: ptyprocess in /usr/local/lib/python3.7/dist-packages (from terminado>=0.8.3->jupyter-server~=1.16->jupyterlab->nilmtk==0.4.0.dev1+git.ddd3a34) (0.7.0)\n",
            "Requirement already satisfied: argon2-cffi-bindings in /usr/local/lib/python3.7/dist-packages (from argon2-cffi->jupyter-server~=1.16->jupyterlab->nilmtk==0.4.0.dev1+git.ddd3a34) (21.2.0)\n",
            "Requirement already satisfied: cffi>=1.0.1 in /usr/local/lib/python3.7/dist-packages (from argon2-cffi-bindings->argon2-cffi->jupyter-server~=1.16->jupyterlab->nilmtk==0.4.0.dev1+git.ddd3a34) (1.15.0)\n",
            "Requirement already satisfied: pycparser in /usr/local/lib/python3.7/dist-packages (from cffi>=1.0.1->argon2-cffi-bindings->argon2-cffi->jupyter-server~=1.16->jupyterlab->nilmtk==0.4.0.dev1+git.ddd3a34) (2.21)\n",
            "Requirement already satisfied: webencodings in /usr/local/lib/python3.7/dist-packages (from bleach->nbconvert>=6.4.4->jupyter-server~=1.16->jupyterlab->nilmtk==0.4.0.dev1+git.ddd3a34) (0.5.1)\n",
            "Requirement already satisfied: prompt-toolkit<2.0.0,>=1.0.4 in /usr/local/lib/python3.7/dist-packages (from ipython->jupyterlab->nilmtk==0.4.0.dev1+git.ddd3a34) (1.0.18)\n",
            "Requirement already satisfied: setuptools>=18.5 in /usr/local/lib/python3.7/dist-packages (from ipython->jupyterlab->nilmtk==0.4.0.dev1+git.ddd3a34) (57.4.0)\n",
            "Requirement already satisfied: pexpect in /usr/local/lib/python3.7/dist-packages (from ipython->jupyterlab->nilmtk==0.4.0.dev1+git.ddd3a34) (4.8.0)\n",
            "Requirement already satisfied: pickleshare in /usr/local/lib/python3.7/dist-packages (from ipython->jupyterlab->nilmtk==0.4.0.dev1+git.ddd3a34) (0.7.5)\n",
            "Requirement already satisfied: simplegeneric>0.8 in /usr/local/lib/python3.7/dist-packages (from ipython->jupyterlab->nilmtk==0.4.0.dev1+git.ddd3a34) (0.8.1)\n",
            "Requirement already satisfied: wcwidth in /usr/local/lib/python3.7/dist-packages (from prompt-toolkit<2.0.0,>=1.0.4->ipython->jupyterlab->nilmtk==0.4.0.dev1+git.ddd3a34) (0.2.5)\n",
            "Requirement already satisfied: chardet<4,>=3.0.2 in /usr/local/lib/python3.7/dist-packages (from requests->jupyterlab-server~=2.10->jupyterlab->nilmtk==0.4.0.dev1+git.ddd3a34) (3.0.4)\n",
            "Requirement already satisfied: certifi>=2017.4.17 in /usr/local/lib/python3.7/dist-packages (from requests->jupyterlab-server~=2.10->jupyterlab->nilmtk==0.4.0.dev1+git.ddd3a34) (2022.6.15)\n",
            "Requirement already satisfied: urllib3!=1.25.0,!=1.25.1,<1.26,>=1.21.1 in /usr/local/lib/python3.7/dist-packages (from requests->jupyterlab-server~=2.10->jupyterlab->nilmtk==0.4.0.dev1+git.ddd3a34) (1.24.3)\n",
            "Requirement already satisfied: numexpr>=2.6.2 in /usr/local/lib/python3.7/dist-packages (from tables->nilmtk==0.4.0.dev1+git.ddd3a34) (2.8.1)\n",
            "Building wheels for collected packages: nilmtk, networkx, json5\n",
            "  Building wheel for nilmtk (setup.py) ... \u001b[?25l\u001b[?25hdone\n",
            "  Created wheel for nilmtk: filename=nilmtk-0.4.0.dev1+git.ddd3a34-py3-none-any.whl size=279073 sha256=02b18398cb203621625e3f11eef7f601f94f943f7e2ebabe8e03533ecbf7a8c6\n",
            "  Stored in directory: /tmp/pip-ephem-wheel-cache-uvsjcy93/wheels/e9/f6/5b/7b9410192ab63291ae9bf1ba54765f8da5b8eb39839b36c923\n",
            "  Building wheel for networkx (setup.py) ... \u001b[?25l\u001b[?25hdone\n",
            "  Created wheel for networkx: filename=networkx-2.1-py2.py3-none-any.whl size=1447361 sha256=dda9a4c1452c3c89dc14fa3fbe1cabcfe25fe1f78328a73e6c99d2026d9370dd\n",
            "  Stored in directory: /root/.cache/pip/wheels/48/b1/c4/94ca0cdd84961331402e857d562d9822ccfcb0567c3d064bf2\n",
            "  Building wheel for json5 (setup.py) ... \u001b[?25l\u001b[?25hdone\n",
            "  Created wheel for json5: filename=json5-0.9.8-py2.py3-none-any.whl size=18604 sha256=f5ac9736375aaa1911a66b738183b8d564867113df6447c17c3dc8609abf7eb7\n",
            "  Stored in directory: /root/.cache/pip/wheels/ac/9b/de/6e4fd8f159d3dfa42c42ceddf2184fda29ea7fb1e8f5f8371c\n",
            "Successfully built nilmtk networkx json5\n",
            "Installing collected packages: traitlets, tornado, jupyter-client, sniffio, jinja2, websocket-client, nbconvert, anyio, numpy, jupyter-server, notebook-shim, json5, nbclassic, jupyterlab-server, pandas, networkx, matplotlib, jupyterlab, hmmlearn, nilmtk\n",
            "  Attempting uninstall: traitlets\n",
            "    Found existing installation: traitlets 5.1.1\n",
            "    Uninstalling traitlets-5.1.1:\n",
            "      Successfully uninstalled traitlets-5.1.1\n",
            "  Attempting uninstall: tornado\n",
            "    Found existing installation: tornado 5.1.1\n",
            "    Uninstalling tornado-5.1.1:\n",
            "      Successfully uninstalled tornado-5.1.1\n",
            "  Attempting uninstall: jupyter-client\n",
            "    Found existing installation: jupyter-client 5.3.5\n",
            "    Uninstalling jupyter-client-5.3.5:\n",
            "      Successfully uninstalled jupyter-client-5.3.5\n",
            "  Attempting uninstall: jinja2\n",
            "    Found existing installation: Jinja2 2.11.3\n",
            "    Uninstalling Jinja2-2.11.3:\n",
            "      Successfully uninstalled Jinja2-2.11.3\n",
            "  Attempting uninstall: nbconvert\n",
            "    Found existing installation: nbconvert 5.6.1\n",
            "    Uninstalling nbconvert-5.6.1:\n",
            "      Successfully uninstalled nbconvert-5.6.1\n",
            "  Attempting uninstall: numpy\n",
            "    Found existing installation: numpy 1.21.6\n",
            "    Uninstalling numpy-1.21.6:\n",
            "      Successfully uninstalled numpy-1.21.6\n",
            "  Attempting uninstall: pandas\n",
            "    Found existing installation: pandas 1.3.5\n",
            "    Uninstalling pandas-1.3.5:\n",
            "      Successfully uninstalled pandas-1.3.5\n",
            "  Attempting uninstall: networkx\n",
            "    Found existing installation: networkx 2.6.3\n",
            "    Uninstalling networkx-2.6.3:\n",
            "      Successfully uninstalled networkx-2.6.3\n",
            "  Attempting uninstall: matplotlib\n",
            "    Found existing installation: matplotlib 3.2.2\n",
            "    Uninstalling matplotlib-3.2.2:\n",
            "      Successfully uninstalled matplotlib-3.2.2\n",
            "\u001b[31mERROR: pip's dependency resolver does not currently take into account all the packages that are installed. This behaviour is the source of the following dependency conflicts.\n",
            "xarray 0.20.2 requires pandas>=1.1, but you have pandas 0.25.3 which is incompatible.\n",
            "xarray-einstats 0.2.2 requires numpy>=1.21, but you have numpy 1.19.5 which is incompatible.\n",
            "tensorflow 2.8.2+zzzcolab20220527125636 requires numpy>=1.20, but you have numpy 1.19.5 which is incompatible.\n",
            "google-colab 1.0.0 requires pandas>=1.1.0; python_version >= \"3.0\", but you have pandas 0.25.3 which is incompatible.\n",
            "google-colab 1.0.0 requires tornado~=5.1.0; python_version >= \"3.0\", but you have tornado 6.2 which is incompatible.\n",
            "flask 1.1.4 requires Jinja2<3.0,>=2.10.1, but you have jinja2 3.1.2 which is incompatible.\n",
            "fbprophet 0.7.1 requires pandas>=1.0.4, but you have pandas 0.25.3 which is incompatible.\n",
            "datascience 0.10.6 requires folium==0.2.1, but you have folium 0.8.3 which is incompatible.\n",
            "albumentations 0.1.12 requires imgaug<0.2.7,>=0.2.5, but you have imgaug 0.2.9 which is incompatible.\u001b[0m\n",
            "Successfully installed anyio-3.6.1 hmmlearn-0.2.7 jinja2-3.1.2 json5-0.9.8 jupyter-client-7.3.4 jupyter-server-1.18.1 jupyterlab-3.4.3 jupyterlab-server-2.15.0 matplotlib-3.1.3 nbclassic-0.4.2 nbconvert-6.5.0 networkx-2.1 nilmtk-0.4.0.dev1+git.ddd3a34 notebook-shim-0.1.0 numpy-1.19.5 pandas-0.25.3 sniffio-1.2.0 tornado-6.2 traitlets-5.3.0 websocket-client-1.3.3\n"
          ]
        },
        {
          "output_type": "display_data",
          "data": {
            "application/vnd.colab-display-data+json": {
              "pip_warning": {
                "packages": [
                  "matplotlib",
                  "mpl_toolkits",
                  "numpy",
                  "tornado"
                ]
              }
            }
          },
          "metadata": {}
        }
      ]
    },
    {
      "cell_type": "code",
      "source": [
        "!pip install git+https://github.com/nilmtk/nilm_metadata.git"
      ],
      "metadata": {
        "colab": {
          "base_uri": "https://localhost:8080/"
        },
        "id": "dafvNECqmQXr",
        "outputId": "0f83a85d-b3eb-4019-f79a-9baa5e4d0016"
      },
      "execution_count": null,
      "outputs": [
        {
          "output_type": "stream",
          "name": "stdout",
          "text": [
            "Looking in indexes: https://pypi.org/simple, https://us-python.pkg.dev/colab-wheels/public/simple/\n",
            "Collecting git+https://github.com/nilmtk/nilm_metadata.git\n",
            "  Cloning https://github.com/nilmtk/nilm_metadata.git to /tmp/pip-req-build-a0ix6__b\n",
            "  Running command git clone -q https://github.com/nilmtk/nilm_metadata.git /tmp/pip-req-build-a0ix6__b\n",
            "Requirement already satisfied: PyYAML in /usr/local/lib/python3.7/dist-packages (from nilm-metadata==0.2.5) (3.13)\n",
            "Requirement already satisfied: six in /usr/local/lib/python3.7/dist-packages (from nilm-metadata==0.2.5) (1.15.0)\n",
            "Requirement already satisfied: pandas in /usr/local/lib/python3.7/dist-packages (from nilm-metadata==0.2.5) (0.25.3)\n",
            "Requirement already satisfied: pytz>=2017.2 in /usr/local/lib/python3.7/dist-packages (from pandas->nilm-metadata==0.2.5) (2022.1)\n",
            "Requirement already satisfied: numpy>=1.13.3 in /usr/local/lib/python3.7/dist-packages (from pandas->nilm-metadata==0.2.5) (1.19.5)\n",
            "Requirement already satisfied: python-dateutil>=2.6.1 in /usr/local/lib/python3.7/dist-packages (from pandas->nilm-metadata==0.2.5) (2.8.2)\n",
            "Building wheels for collected packages: nilm-metadata\n",
            "  Building wheel for nilm-metadata (setup.py) ... \u001b[?25l\u001b[?25hdone\n",
            "  Created wheel for nilm-metadata: filename=nilm_metadata-0.2.5-py3-none-any.whl size=24357 sha256=66b3a85a6158b68837984a3df7a9ff68111e441371cf09a6bf7ed79a53e54872\n",
            "  Stored in directory: /tmp/pip-ephem-wheel-cache-dinot88_/wheels/41/4d/78/58358b558feb05c5f7be68f3ef65dc4ac6f3b75fa2af39bbf0\n",
            "Successfully built nilm-metadata\n",
            "Installing collected packages: nilm-metadata\n",
            "Successfully installed nilm-metadata-0.2.5\n"
          ]
        }
      ]
    },
    {
      "cell_type": "markdown",
      "source": [
        "**import the important package**"
      ],
      "metadata": {
        "id": "HOVeLNiO7m8O"
      }
    },
    {
      "cell_type": "code",
      "source": [
        "import nilmtk\n",
        "from nilmtk import DataSet, MeterGroup\n",
        "import numpy as np\n",
        "import pandas as pd\n",
        "import matplotlib as plt\n",
        "from nilmtk.utils import print_dict\n",
        "import matplotlib.pyplot as plt\n",
        "from matplotlib.dates import DateFormatter\n",
        "import matplotlib.font_manager\n",
        "from datetime import datetime, timedelta\n",
        "import matplotlib.pyplot as plt\n",
        "\n",
        "%matplotlib inline"
      ],
      "metadata": {
        "id": "8gzOJvr9mfLH"
      },
      "execution_count": 37,
      "outputs": []
    },
    {
      "cell_type": "code",
      "source": [
        "from nilmtk import DataSet, MeterGroup"
      ],
      "metadata": {
        "id": "JBfjjfT4mh8K"
      },
      "execution_count": null,
      "outputs": []
    },
    {
      "cell_type": "code",
      "source": [
        "from nilmtk import DataSet\n",
        "from nilmtk.utils import print_dict"
      ],
      "metadata": {
        "colab": {
          "base_uri": "https://localhost:8080/"
        },
        "id": "WACDYGxakOaW",
        "outputId": "1e9579f5-f4ed-4525-9082-de1fcba93ef7"
      },
      "execution_count": null,
      "outputs": [
        {
          "output_type": "stream",
          "name": "stderr",
          "text": [
            "/usr/local/lib/python3.7/dist-packages/nilmtk/metergroup.py:86: RuntimeWarning: Building 1 has an empty 'appliances' list.\n",
            "  .format(building_id.instance), RuntimeWarning)\n"
          ]
        }
      ]
    },
    {
      "cell_type": "code",
      "source": [
        "ds = DataSet('random.h5')\n",
        "elec = ds.buildings[1].elec\n",
        "\n",
        "print(elec)\n",
        "plt.plot(elec[1].power_series_all_data())"
      ],
      "metadata": {
        "colab": {
          "base_uri": "https://localhost:8080/",
          "height": 571
        },
        "id": "sS6NmhgWmHIS",
        "outputId": "a27ec295-258b-4beb-b9ed-18f74fb994c9"
      },
      "execution_count": null,
      "outputs": [
        {
          "output_type": "stream",
          "name": "stdout",
          "text": [
            "MeterGroup(meters=\n",
            "  ElecMeter(instance=1, building=1, dataset=None, appliances=[])\n",
            "  ElecMeter(instance=2, building=1, dataset=None, appliances=[])\n",
            "  ElecMeter(instance=3, building=1, dataset=None, appliances=[])\n",
            "  ElecMeter(instance=4, building=1, dataset=None, appliances=[])\n",
            "  ElecMeter(instance=5, building=1, dataset=None, appliances=[])\n",
            ")\n"
          ]
        },
        {
          "output_type": "stream",
          "name": "stderr",
          "text": [
            "/usr/local/lib/python3.7/dist-packages/nilmtk/metergroup.py:86: RuntimeWarning: Building 1 has an empty 'appliances' list.\n",
            "  .format(building_id.instance), RuntimeWarning)\n",
            "/usr/local/lib/python3.7/dist-packages/pandas/plotting/_matplotlib/converter.py:103: FutureWarning: Using an implicitly registered datetime converter for a matplotlib plotting method. The converter was registered by pandas on import. Future versions of pandas will require you to explicitly register matplotlib converters.\n",
            "\n",
            "To register the converters:\n",
            "\t>>> from pandas.plotting import register_matplotlib_converters\n",
            "\t>>> register_matplotlib_converters()\n",
            "  warnings.warn(msg, FutureWarning)\n"
          ]
        },
        {
          "output_type": "execute_result",
          "data": {
            "text/plain": [
              "[<matplotlib.lines.Line2D at 0x7fe080f96e50>]"
            ]
          },
          "metadata": {},
          "execution_count": 10
        },
        {
          "output_type": "display_data",
          "data": {
            "text/plain": [
              "<Figure size 432x288 with 1 Axes>"
            ],
            "image/png": "[encoded data removed]"
          },
          "metadata": {
            "needs_background": "light"
          }
        }
      ]
    },
    {
      "cell_type": "markdown",
      "source": [
        "## Import and Download the REDD and UK-DALE dataset"
      ],
      "metadata": {
        "id": "FcbUQN2N8Ixs"
      }
    },
    {
      "cell_type": "markdown",
      "source": [
        "**1. REDD dataset** "
      ],
      "metadata": {
        "id": "kuyDm3Mk82yl"
      }
    },
    {
      "cell_type": "markdown",
      "source": [
        "* open google drive which store files"
      ],
      "metadata": {
        "id": "o7fJhUBn8lb_"
      }
    },
    {
      "cell_type": "code",
      "source": [
        "from google.colab import drive\n",
        "drive.mount('/content/gdrive')"
      ],
      "metadata": {
        "colab": {
          "base_uri": "https://localhost:8080/"
        },
        "id": "WPmBbwdJormN",
        "outputId": "2bdf05a2-4896-4823-e854-4c41d876076e"
      },
      "execution_count": null,
      "outputs": [
        {
          "output_type": "stream",
          "name": "stdout",
          "text": [
            "Drive already mounted at /content/gdrive; to attempt to forcibly remount, call drive.mount(\"/content/gdrive\", force_remount=True).\n"
          ]
        }
      ]
    },
    {
      "cell_type": "markdown",
      "source": [
        "* unzip the REEDD dataset"
      ],
      "metadata": {
        "id": "lndHcoICCMVc"
      }
    },
    {
      "cell_type": "code",
      "source": [
        "!unzip gdrive/My\\ Drive/data/low_freq.zip"
      ],
      "metadata": {
        "id": "_4B6FWhWpDnG",
        "outputId": "85138df8-331d-4fc6-db60-2748cb8f3fed",
        "colab": {
          "base_uri": "https://localhost:8080/"
        }
      },
      "execution_count": null,
      "outputs": [
        {
          "output_type": "stream",
          "name": "stdout",
          "text": [
            "Archive:  gdrive/My Drive/data/low_freq.zip\n",
            "   creating: low_freq/\n",
            "  inflating: __MACOSX/._low_freq     \n",
            "  inflating: low_freq/.DS_Store      \n",
            "  inflating: __MACOSX/low_freq/._.DS_Store  \n",
            "   creating: low_freq/house_2/\n",
            "  inflating: __MACOSX/low_freq/._house_2  \n",
            "   creating: low_freq/house_5/\n",
            "  inflating: __MACOSX/low_freq/._house_5  \n",
            "   creating: low_freq/house_4/\n",
            "  inflating: __MACOSX/low_freq/._house_4  \n",
            "   creating: low_freq/house_3/\n",
            "  inflating: __MACOSX/low_freq/._house_3  \n",
            "   creating: low_freq/house_6/\n",
            "  inflating: __MACOSX/low_freq/._house_6  \n",
            "   creating: low_freq/house_1/\n",
            "  inflating: __MACOSX/low_freq/._house_1  \n",
            "  inflating: low_freq/house_2/channel_9.dat  \n",
            "  inflating: __MACOSX/low_freq/house_2/._channel_9.dat  \n",
            "  inflating: low_freq/house_2/channel_8.dat  \n",
            "  inflating: __MACOSX/low_freq/house_2/._channel_8.dat  \n",
            "  inflating: low_freq/house_2/channel_1.dat  \n",
            "  inflating: __MACOSX/low_freq/house_2/._channel_1.dat  \n",
            "  inflating: low_freq/house_2/channel_3.dat  \n",
            "  inflating: __MACOSX/low_freq/house_2/._channel_3.dat  \n",
            "  inflating: low_freq/house_2/channel_2.dat  \n",
            "  inflating: __MACOSX/low_freq/house_2/._channel_2.dat  \n",
            "  inflating: low_freq/house_2/channel_6.dat  \n",
            "  inflating: __MACOSX/low_freq/house_2/._channel_6.dat  \n",
            "  inflating: low_freq/house_2/channel_7.dat  \n",
            "  inflating: __MACOSX/low_freq/house_2/._channel_7.dat  \n",
            "  inflating: low_freq/house_2/channel_5.dat  \n",
            "  inflating: __MACOSX/low_freq/house_2/._channel_5.dat  \n",
            "  inflating: low_freq/house_2/channel_4.dat  \n",
            "  inflating: __MACOSX/low_freq/house_2/._channel_4.dat  \n",
            "  inflating: low_freq/house_2/channel_11.dat  \n",
            "  inflating: __MACOSX/low_freq/house_2/._channel_11.dat  \n",
            "  inflating: low_freq/house_2/labels.dat  \n",
            "  inflating: __MACOSX/low_freq/house_2/._labels.dat  \n",
            "  inflating: low_freq/house_2/channel_10.dat  \n",
            "  inflating: __MACOSX/low_freq/house_2/._channel_10.dat  \n",
            "  inflating: low_freq/house_5/channel_22.dat  \n",
            "  inflating: __MACOSX/low_freq/house_5/._channel_22.dat  \n",
            "  inflating: low_freq/house_5/channel_23.dat  \n",
            "  inflating: __MACOSX/low_freq/house_5/._channel_23.dat  \n",
            "  inflating: low_freq/house_5/channel_21.dat  \n",
            "  inflating: __MACOSX/low_freq/house_5/._channel_21.dat  \n",
            "  inflating: low_freq/house_5/channel_20.dat  \n",
            "  inflating: __MACOSX/low_freq/house_5/._channel_20.dat  \n",
            "  inflating: low_freq/house_5/channel_18.dat  \n",
            "  inflating: __MACOSX/low_freq/house_5/._channel_18.dat  \n",
            "  inflating: low_freq/house_5/channel_24.dat  \n",
            "  inflating: __MACOSX/low_freq/house_5/._channel_24.dat  \n",
            "  inflating: low_freq/house_5/channel_25.dat  \n",
            "  inflating: __MACOSX/low_freq/house_5/._channel_25.dat  \n",
            "  inflating: low_freq/house_5/channel_19.dat  \n",
            "  inflating: __MACOSX/low_freq/house_5/._channel_19.dat  \n",
            "  inflating: low_freq/house_5/channel_26.dat  \n",
            "  inflating: __MACOSX/low_freq/house_5/._channel_26.dat  \n",
            "  inflating: low_freq/house_5/channel_9.dat  \n",
            "  inflating: __MACOSX/low_freq/house_5/._channel_9.dat  \n",
            "  inflating: low_freq/house_5/channel_8.dat  \n",
            "  inflating: __MACOSX/low_freq/house_5/._channel_8.dat  \n",
            "  inflating: low_freq/house_5/channel_1.dat  \n",
            "  inflating: __MACOSX/low_freq/house_5/._channel_1.dat  \n",
            "  inflating: low_freq/house_5/channel_3.dat  \n",
            "  inflating: __MACOSX/low_freq/house_5/._channel_3.dat  \n",
            "  inflating: low_freq/house_5/channel_2.dat  \n",
            "  inflating: __MACOSX/low_freq/house_5/._channel_2.dat  \n",
            "  inflating: low_freq/house_5/channel_6.dat  \n",
            "  inflating: __MACOSX/low_freq/house_5/._channel_6.dat  \n",
            "  inflating: low_freq/house_5/channel_7.dat  \n",
            "  inflating: __MACOSX/low_freq/house_5/._channel_7.dat  \n",
            "  inflating: low_freq/house_5/channel_5.dat  \n",
            "  inflating: __MACOSX/low_freq/house_5/._channel_5.dat  \n",
            "  inflating: low_freq/house_5/channel_4.dat  \n",
            "  inflating: __MACOSX/low_freq/house_5/._channel_4.dat  \n",
            "  inflating: low_freq/house_5/channel_17.dat  \n",
            "  inflating: __MACOSX/low_freq/house_5/._channel_17.dat  \n",
            "  inflating: low_freq/house_5/channel_16.dat  \n",
            "  inflating: __MACOSX/low_freq/house_5/._channel_16.dat  \n",
            "  inflating: low_freq/house_5/channel_14.dat  \n",
            "  inflating: __MACOSX/low_freq/house_5/._channel_14.dat  \n",
            "  inflating: low_freq/house_5/channel_15.dat  \n",
            "  inflating: __MACOSX/low_freq/house_5/._channel_15.dat  \n",
            "  inflating: low_freq/house_5/channel_11.dat  \n",
            "  inflating: __MACOSX/low_freq/house_5/._channel_11.dat  \n",
            "  inflating: low_freq/house_5/labels.dat  \n",
            "  inflating: __MACOSX/low_freq/house_5/._labels.dat  \n",
            "  inflating: low_freq/house_5/channel_10.dat  \n",
            "  inflating: __MACOSX/low_freq/house_5/._channel_10.dat  \n",
            "  inflating: low_freq/house_5/channel_12.dat  \n",
            "  inflating: __MACOSX/low_freq/house_5/._channel_12.dat  \n",
            "  inflating: low_freq/house_5/channel_13.dat  \n",
            "  inflating: __MACOSX/low_freq/house_5/._channel_13.dat  \n",
            "  inflating: low_freq/house_4/channel_20.dat  \n",
            "  inflating: __MACOSX/low_freq/house_4/._channel_20.dat  \n",
            "  inflating: low_freq/house_4/channel_18.dat  \n",
            "  inflating: __MACOSX/low_freq/house_4/._channel_18.dat  \n",
            "  inflating: low_freq/house_4/channel_19.dat  \n",
            "  inflating: __MACOSX/low_freq/house_4/._channel_19.dat  \n",
            "  inflating: low_freq/house_4/channel_9.dat  \n",
            "  inflating: __MACOSX/low_freq/house_4/._channel_9.dat  \n",
            "  inflating: low_freq/house_4/channel_8.dat  \n",
            "  inflating: __MACOSX/low_freq/house_4/._channel_8.dat  \n",
            "  inflating: low_freq/house_4/channel_1.dat  \n",
            "  inflating: __MACOSX/low_freq/house_4/._channel_1.dat  \n",
            "  inflating: low_freq/house_4/channel_3.dat  \n",
            "  inflating: __MACOSX/low_freq/house_4/._channel_3.dat  \n",
            "  inflating: low_freq/house_4/channel_2.dat  \n",
            "  inflating: __MACOSX/low_freq/house_4/._channel_2.dat  \n",
            "  inflating: low_freq/house_4/channel_6.dat  \n",
            "  inflating: __MACOSX/low_freq/house_4/._channel_6.dat  \n",
            "  inflating: low_freq/house_4/channel_7.dat  \n",
            "  inflating: __MACOSX/low_freq/house_4/._channel_7.dat  \n",
            "  inflating: low_freq/house_4/channel_5.dat  \n",
            "  inflating: __MACOSX/low_freq/house_4/._channel_5.dat  \n",
            "  inflating: low_freq/house_4/channel_4.dat  \n",
            "  inflating: __MACOSX/low_freq/house_4/._channel_4.dat  \n",
            "  inflating: low_freq/house_4/channel_17.dat  \n",
            "  inflating: __MACOSX/low_freq/house_4/._channel_17.dat  \n",
            "  inflating: low_freq/house_4/channel_16.dat  \n",
            "  inflating: __MACOSX/low_freq/house_4/._channel_16.dat  \n",
            "  inflating: low_freq/house_4/channel_14.dat  \n",
            "  inflating: __MACOSX/low_freq/house_4/._channel_14.dat  \n",
            "  inflating: low_freq/house_4/channel_15.dat  \n",
            "  inflating: __MACOSX/low_freq/house_4/._channel_15.dat  \n",
            "  inflating: low_freq/house_4/channel_11.dat  \n",
            "  inflating: __MACOSX/low_freq/house_4/._channel_11.dat  \n",
            "  inflating: low_freq/house_4/labels.dat  \n",
            "  inflating: __MACOSX/low_freq/house_4/._labels.dat  \n",
            "  inflating: low_freq/house_4/channel_10.dat  \n",
            "  inflating: __MACOSX/low_freq/house_4/._channel_10.dat  \n",
            "  inflating: low_freq/house_4/channel_12.dat  \n",
            "  inflating: __MACOSX/low_freq/house_4/._channel_12.dat  \n",
            "  inflating: low_freq/house_4/channel_13.dat  \n",
            "  inflating: __MACOSX/low_freq/house_4/._channel_13.dat  \n",
            "  inflating: low_freq/house_3/channel_22.dat  \n",
            "  inflating: __MACOSX/low_freq/house_3/._channel_22.dat  \n",
            "  inflating: low_freq/house_3/channel_21.dat  \n",
            "  inflating: __MACOSX/low_freq/house_3/._channel_21.dat  \n",
            "  inflating: low_freq/house_3/channel_20.dat  \n",
            "  inflating: __MACOSX/low_freq/house_3/._channel_20.dat  \n",
            "  inflating: low_freq/house_3/channel_18.dat  \n",
            "  inflating: __MACOSX/low_freq/house_3/._channel_18.dat  \n",
            "  inflating: low_freq/house_3/channel_19.dat  \n",
            "  inflating: __MACOSX/low_freq/house_3/._channel_19.dat  \n",
            "  inflating: low_freq/house_3/channel_9.dat  \n",
            "  inflating: __MACOSX/low_freq/house_3/._channel_9.dat  \n",
            "  inflating: low_freq/house_3/channel_8.dat  \n",
            "  inflating: __MACOSX/low_freq/house_3/._channel_8.dat  \n",
            "  inflating: low_freq/house_3/channel_1.dat  \n",
            "  inflating: __MACOSX/low_freq/house_3/._channel_1.dat  \n",
            "  inflating: low_freq/house_3/channel_3.dat  \n",
            "  inflating: __MACOSX/low_freq/house_3/._channel_3.dat  \n",
            "  inflating: low_freq/house_3/channel_2.dat  \n",
            "  inflating: __MACOSX/low_freq/house_3/._channel_2.dat  \n",
            "  inflating: low_freq/house_3/channel_6.dat  \n",
            "  inflating: __MACOSX/low_freq/house_3/._channel_6.dat  \n",
            "  inflating: low_freq/house_3/channel_7.dat  \n",
            "  inflating: __MACOSX/low_freq/house_3/._channel_7.dat  \n",
            "  inflating: low_freq/house_3/channel_5.dat  \n",
            "  inflating: __MACOSX/low_freq/house_3/._channel_5.dat  \n",
            "  inflating: low_freq/house_3/channel_4.dat  \n",
            "  inflating: __MACOSX/low_freq/house_3/._channel_4.dat  \n",
            "  inflating: low_freq/house_3/channel_17.dat  \n",
            "  inflating: __MACOSX/low_freq/house_3/._channel_17.dat  \n",
            "  inflating: low_freq/house_3/channel_16.dat  \n",
            "  inflating: __MACOSX/low_freq/house_3/._channel_16.dat  \n",
            "  inflating: low_freq/house_3/channel_14.dat  \n",
            "  inflating: __MACOSX/low_freq/house_3/._channel_14.dat  \n",
            "  inflating: low_freq/house_3/channel_15.dat  \n",
            "  inflating: __MACOSX/low_freq/house_3/._channel_15.dat  \n",
            "  inflating: low_freq/house_3/channel_11.dat  \n",
            "  inflating: __MACOSX/low_freq/house_3/._channel_11.dat  \n",
            "  inflating: low_freq/house_3/labels.dat  \n",
            "  inflating: __MACOSX/low_freq/house_3/._labels.dat  \n",
            "  inflating: low_freq/house_3/channel_10.dat  \n",
            "  inflating: __MACOSX/low_freq/house_3/._channel_10.dat  \n",
            "  inflating: low_freq/house_3/channel_12.dat  \n",
            "  inflating: __MACOSX/low_freq/house_3/._channel_12.dat  \n",
            "  inflating: low_freq/house_3/channel_13.dat  \n",
            "  inflating: __MACOSX/low_freq/house_3/._channel_13.dat  \n",
            "  inflating: low_freq/house_6/channel_9.dat  \n",
            "  inflating: __MACOSX/low_freq/house_6/._channel_9.dat  \n",
            "  inflating: low_freq/house_6/channel_8.dat  \n",
            "  inflating: __MACOSX/low_freq/house_6/._channel_8.dat  \n",
            "  inflating: low_freq/house_6/channel_1.dat  \n",
            "  inflating: __MACOSX/low_freq/house_6/._channel_1.dat  \n",
            "  inflating: low_freq/house_6/channel_3.dat  \n",
            "  inflating: __MACOSX/low_freq/house_6/._channel_3.dat  \n",
            "  inflating: low_freq/house_6/channel_2.dat  \n",
            "  inflating: __MACOSX/low_freq/house_6/._channel_2.dat  \n",
            "  inflating: low_freq/house_6/channel_6.dat  \n",
            "  inflating: __MACOSX/low_freq/house_6/._channel_6.dat  \n",
            "  inflating: low_freq/house_6/channel_7.dat  \n",
            "  inflating: __MACOSX/low_freq/house_6/._channel_7.dat  \n",
            "  inflating: low_freq/house_6/channel_5.dat  \n",
            "  inflating: __MACOSX/low_freq/house_6/._channel_5.dat  \n",
            "  inflating: low_freq/house_6/channel_4.dat  \n",
            "  inflating: __MACOSX/low_freq/house_6/._channel_4.dat  \n",
            "  inflating: low_freq/house_6/channel_17.dat  \n",
            "  inflating: __MACOSX/low_freq/house_6/._channel_17.dat  \n",
            "  inflating: low_freq/house_6/channel_16.dat  \n",
            "  inflating: __MACOSX/low_freq/house_6/._channel_16.dat  \n",
            "  inflating: low_freq/house_6/channel_14.dat  \n",
            "  inflating: __MACOSX/low_freq/house_6/._channel_14.dat  \n",
            "  inflating: low_freq/house_6/channel_15.dat  \n",
            "  inflating: __MACOSX/low_freq/house_6/._channel_15.dat  \n",
            "  inflating: low_freq/house_6/channel_11.dat  \n",
            "  inflating: __MACOSX/low_freq/house_6/._channel_11.dat  \n",
            "  inflating: low_freq/house_6/labels.dat  \n",
            "  inflating: __MACOSX/low_freq/house_6/._labels.dat  \n",
            "  inflating: low_freq/house_6/channel_10.dat  \n",
            "  inflating: __MACOSX/low_freq/house_6/._channel_10.dat  \n",
            "  inflating: low_freq/house_6/channel_12.dat  \n",
            "  inflating: __MACOSX/low_freq/house_6/._channel_12.dat  \n",
            "  inflating: low_freq/house_6/channel_13.dat  \n",
            "  inflating: __MACOSX/low_freq/house_6/._channel_13.dat  \n",
            "  inflating: low_freq/house_1/channel_20.dat  \n",
            "  inflating: __MACOSX/low_freq/house_1/._channel_20.dat  \n",
            "  inflating: low_freq/house_1/channel_18.dat  \n",
            "  inflating: __MACOSX/low_freq/house_1/._channel_18.dat  \n",
            "  inflating: low_freq/house_1/channel_19.dat  \n",
            "  inflating: __MACOSX/low_freq/house_1/._channel_19.dat  \n",
            "  inflating: low_freq/house_1/channel_9.dat  \n",
            "  inflating: __MACOSX/low_freq/house_1/._channel_9.dat  \n",
            "  inflating: low_freq/house_1/channel_8.dat  \n",
            "  inflating: __MACOSX/low_freq/house_1/._channel_8.dat  \n",
            "  inflating: low_freq/house_1/channel_1.dat  \n",
            "  inflating: __MACOSX/low_freq/house_1/._channel_1.dat  \n",
            "  inflating: low_freq/house_1/channel_3.dat  \n",
            "  inflating: __MACOSX/low_freq/house_1/._channel_3.dat  \n",
            "  inflating: low_freq/house_1/channel_2.dat  \n",
            "  inflating: __MACOSX/low_freq/house_1/._channel_2.dat  \n",
            "  inflating: low_freq/house_1/channel_6.dat  \n",
            "  inflating: __MACOSX/low_freq/house_1/._channel_6.dat  \n",
            "  inflating: low_freq/house_1/channel_7.dat  \n",
            "  inflating: __MACOSX/low_freq/house_1/._channel_7.dat  \n",
            "  inflating: low_freq/house_1/channel_5.dat  \n",
            "  inflating: __MACOSX/low_freq/house_1/._channel_5.dat  \n",
            "  inflating: low_freq/house_1/channel_4.dat  "
          ]
        }
      ]
    },
    {
      "cell_type": "markdown",
      "source": [
        "* convert this file to HDF5 version"
      ],
      "metadata": {
        "id": "moKfVfHRCWsG"
      }
    },
    {
      "cell_type": "code",
      "source": [
        "from nilmtk.dataset_converters import convert_redd\n",
        "convert_redd('low_freq', 'redd.h5')"
      ],
      "metadata": {
        "id": "mv0DrBtDzld3",
        "colab": {
          "base_uri": "https://localhost:8080/"
        },
        "outputId": "1fe1e2af-e0c1-476c-976c-f67aac1a6e1f"
      },
      "execution_count": 24,
      "outputs": [
        {
          "output_type": "stream",
          "name": "stdout",
          "text": [
            "Loading house 1... 1 2 3 4 5 6 7 8 9 10 11 12 13 14 15 16 17 18 19 20 \n",
            "Loading house 2... 1 2 3 4 5 6 7 8 9 10 11 \n",
            "Loading house 3... 1 2 3 4 5 6 7 8 9 10 11 12 13 14 15 16 17 18 19 20 21 22 \n",
            "Loading house 4... 1 2 3 4 5 6 7 8 9 10 11 12 13 14 15 16 17 18 19 20 \n",
            "Loading house 5... 1 2 3 4 5 6 7 8 9 10 11 12 13 14 15 16 17 18 19 20 21 22 23 24 25 26 \n",
            "Loading house 6... 1 2 3 4 5 6 7 8 9 10 11 12 13 14 15 16 17 \n",
            "Loaded metadata\n",
            "Done converting YAML metadata to HDF5!\n",
            "Done converting REDD to HDF5!\n"
          ]
        }
      ]
    },
    {
      "cell_type": "markdown",
      "source": [
        "* download the REEDD dataset"
      ],
      "metadata": {
        "id": "s227FDmcDwmK"
      }
    },
    {
      "cell_type": "code",
      "source": [
        "redd = DataSet('redd.h5')"
      ],
      "metadata": {
        "id": "M5jWqkWc3Ul3"
      },
      "execution_count": 26,
      "outputs": []
    },
    {
      "cell_type": "code",
      "source": [
        "print_dict(redd.metadata)"
      ],
      "metadata": {
        "colab": {
          "base_uri": "https://localhost:8080/",
          "height": 929
        },
        "id": "_A2f0vqy4EUF",
        "outputId": "3952ee27-ab3c-4d24-830d-62364ede4da2"
      },
      "execution_count": 27,
      "outputs": [
        {
          "output_type": "display_data",
          "data": {
            "text/plain": [
              "<IPython.core.display.HTML object>"
            ],
            "text/html": [
              "<ul><li><strong>name</strong>: REDD</li><li><strong>long_name</strong>: The Reference Energy Disaggregation Data set</li><li><strong>creators</strong>: <ul><li>Kolter, Zico</li><li>Johnson, Matthew</li></ul></li><li><strong>publication_date</strong>: 2011</li><li><strong>institution</strong>: Massachusetts Institute of Technology (MIT)</li><li><strong>contact</strong>: zkolter@cs.cmu.edu</li><li><strong>description</strong>: Several weeks of power data for 6 different homes.</li><li><strong>subject</strong>: Disaggregated power demand from domestic buildings.</li><li><strong>number_of_buildings</strong>: 6</li><li><strong>timezone</strong>: US/Eastern</li><li><strong>geo_location</strong>: <ul><li><strong>locality</strong>: Massachusetts</li><li><strong>country</strong>: US</li><li><strong>latitude</strong>: 42.360091</li><li><strong>longitude</strong>: -71.09416</li></ul></li><li><strong>related_documents</strong>: <ul><li><a href=\"http://redd.csail.mit.edu\">http://redd.csail.mit.edu</a></li><li>J. Zico Kolter and Matthew J. Johnson. REDD: A public data set for energy disaggregation research. In proceedings of the SustKDD workshop on Data Mining Applications in Sustainability, 2011. <a href=\"http://redd.csail.mit.edu/kolter-kddsust11.pdf\">http://redd.csail.mit.edu/kolter-kddsust11.pdf</a>\n",
              "</li></ul></li><li><strong>schema</strong>: <a href=\"https://github.com/nilmtk/nilm_metadata/tree/v0.2\">https://github.com/nilmtk/nilm_metadata/tree/v0.2</a></li><li><strong>meter_devices</strong>: <ul><li><strong>eMonitor</strong>: <ul><li><strong>model</strong>: eMonitor</li><li><strong>manufacturer</strong>: Powerhouse Dynamics</li><li><strong>manufacturer_url</strong>: <a href=\"http://powerhousedynamics.com\">http://powerhousedynamics.com</a></li><li><strong>description</strong>: Measures circuit-level power demand.  Comes with 24 CTs. This FAQ page suggests the eMonitor measures real (active) power: <a href=\"http://www.energycircle.com/node/14103\">http://www.energycircle.com/node/14103</a>  although the REDD readme.txt says all channels record apparent power.\n",
              "</li><li><strong>sample_period</strong>: 3</li><li><strong>max_sample_period</strong>: 50</li><li><strong>measurements</strong>: <ul><li>{'physical_quantity': 'power', 'type': 'active', 'upper_limit': 5000, 'lower_limit': 0}</li></ul></li><li><strong>wireless</strong>: False</li></ul></li><li><strong>REDD_whole_house</strong>: <ul><li><strong>description</strong>: REDD's DIY power meter used to measure whole-home AC waveforms at high frequency.  To quote from their paper: \"CTs from TED (<a href=\"http://www.theenergydetective.com\">http://www.theenergydetective.com</a>) to measure current in the power mains, a Pico TA041 oscilloscope probe (<a href=\"http://www.picotechnologies.com\">http://www.picotechnologies.com</a>) to measure voltage for one of the two phases in the home, and a National Instruments NI-9239 analog to digital converter to transform both these analog signals to digital readings. This A/D converter has 24 bit resolution with noise of approximately 70 µV, which determines the noise level of our current and voltage readings: the TED CTs are rated for 200 amp circuits and a maximum of 3 volts, so we are able to differentiate between currents of approximately ((200))(70 × 10−6)/(3) = 4.66mA, corresponding to power changes of about 0.5 watts. Similarly, since we use a 1:100 voltage stepdown in the oscilloscope probe, we can detect voltage differences of about 7mV.\"\n",
              "</li><li><strong>sample_period</strong>: 1</li><li><strong>max_sample_period</strong>: 30</li><li><strong>measurements</strong>: <ul><li>{'physical_quantity': 'power', 'type': 'apparent', 'upper_limit': 50000, 'lower_limit': 0}</li></ul></li><li><strong>wireless</strong>: False</li></ul></li></ul></li></ul>"
            ]
          },
          "metadata": {}
        }
      ]
    },
    {
      "cell_type": "code",
      "source": [
        "print_dict(redd.buildings)"
      ],
      "metadata": {
        "colab": {
          "base_uri": "https://localhost:8080/",
          "height": 133
        },
        "id": "lwE3sX0B4Rmq",
        "outputId": "6259a2ff-5fdd-411a-d122-4f96a5a5e7f1"
      },
      "execution_count": 28,
      "outputs": [
        {
          "output_type": "display_data",
          "data": {
            "text/plain": [
              "<IPython.core.display.HTML object>"
            ],
            "text/html": [
              "<ul><li><strong>1</strong>: Building(instance=1, dataset='REDD')</li><li><strong>2</strong>: Building(instance=2, dataset='REDD')</li><li><strong>3</strong>: Building(instance=3, dataset='REDD')</li><li><strong>4</strong>: Building(instance=4, dataset='REDD')</li><li><strong>5</strong>: Building(instance=5, dataset='REDD')</li><li><strong>6</strong>: Building(instance=6, dataset='REDD')</li></ul>"
            ]
          },
          "metadata": {}
        }
      ]
    },
    {
      "cell_type": "code",
      "source": [
        "redd.buildings[1].elec"
      ],
      "metadata": {
        "colab": {
          "base_uri": "https://localhost:8080/"
        },
        "id": "CJbRlSra4XAQ",
        "outputId": "c3c0c886-92d8-4000-d1a7-c5773c83dd17"
      },
      "execution_count": 29,
      "outputs": [
        {
          "output_type": "execute_result",
          "data": {
            "text/plain": [
              "MeterGroup(meters=\n",
              "  ElecMeter(instance=1, building=1, dataset='REDD', site_meter, appliances=[])\n",
              "  ElecMeter(instance=2, building=1, dataset='REDD', site_meter, appliances=[])\n",
              "  ElecMeter(instance=5, building=1, dataset='REDD', appliances=[Appliance(type='fridge', instance=1)])\n",
              "  ElecMeter(instance=6, building=1, dataset='REDD', appliances=[Appliance(type='dish washer', instance=1)])\n",
              "  ElecMeter(instance=7, building=1, dataset='REDD', appliances=[Appliance(type='sockets', instance=1)])\n",
              "  ElecMeter(instance=8, building=1, dataset='REDD', appliances=[Appliance(type='sockets', instance=2)])\n",
              "  ElecMeter(instance=9, building=1, dataset='REDD', appliances=[Appliance(type='light', instance=1)])\n",
              "  ElecMeter(instance=11, building=1, dataset='REDD', appliances=[Appliance(type='microwave', instance=1)])\n",
              "  ElecMeter(instance=12, building=1, dataset='REDD', appliances=[Appliance(type='unknown', instance=1)])\n",
              "  ElecMeter(instance=13, building=1, dataset='REDD', appliances=[Appliance(type='electric space heater', instance=1)])\n",
              "  ElecMeter(instance=14, building=1, dataset='REDD', appliances=[Appliance(type='electric stove', instance=1)])\n",
              "  ElecMeter(instance=15, building=1, dataset='REDD', appliances=[Appliance(type='sockets', instance=3)])\n",
              "  ElecMeter(instance=16, building=1, dataset='REDD', appliances=[Appliance(type='sockets', instance=4)])\n",
              "  ElecMeter(instance=17, building=1, dataset='REDD', appliances=[Appliance(type='light', instance=2)])\n",
              "  ElecMeter(instance=18, building=1, dataset='REDD', appliances=[Appliance(type='light', instance=3)])\n",
              "  ElecMeter(instance=19, building=1, dataset='REDD', appliances=[Appliance(type='unknown', instance=2)])\n",
              "  MeterGroup(meters=\n",
              "    ElecMeter(instance=3, building=1, dataset='REDD', appliances=[Appliance(type='electric oven', instance=1)])\n",
              "    ElecMeter(instance=4, building=1, dataset='REDD', appliances=[Appliance(type='electric oven', instance=1)])\n",
              "  )\n",
              "  MeterGroup(meters=\n",
              "    ElecMeter(instance=10, building=1, dataset='REDD', appliances=[Appliance(type='washer dryer', instance=1)])\n",
              "    ElecMeter(instance=20, building=1, dataset='REDD', appliances=[Appliance(type='washer dryer', instance=1)])\n",
              "  )\n",
              ")"
            ]
          },
          "metadata": {},
          "execution_count": 29
        }
      ]
    },
    {
      "cell_type": "markdown",
      "source": [
        "2. UK-DALE dataset"
      ],
      "metadata": {
        "id": "-E23cd-8EF-e"
      }
    },
    {
      "cell_type": "code",
      "source": [
        ""
      ],
      "metadata": {
        "id": "RSFVVaH8D-vl"
      },
      "execution_count": null,
      "outputs": []
    }
  ]
}