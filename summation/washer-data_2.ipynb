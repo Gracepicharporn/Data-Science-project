{
 "cells": [
  {
   "cell_type": "code",
   "execution_count": 11,
   "id": "6a136ba3",
   "metadata": {},
   "outputs": [],
   "source": [
    "import pandas as pd\n",
    "import numpy as np\n",
    "import timeit\n",
    "import matplotlib.pyplot as plt\n",
    "from pyts.image import GramianAngularField\n",
    "\n",
    "%matplotlib inline"
   ]
  },
  {
   "cell_type": "code",
   "execution_count": 12,
   "id": "79f61a5a",
   "metadata": {},
   "outputs": [],
   "source": [
    "ukdale_building1 = pd.read_csv('/Users/gracepichar/Documents/GitHub/Data-Science-project/across-ukdale_building.csv')"
   ]
  },
  {
   "cell_type": "code",
   "execution_count": 13,
   "id": "75933e03",
   "metadata": {},
   "outputs": [],
   "source": [
    "ukdale_building1.drop('Unnamed: 0', axis=1, inplace=True)"
   ]
  },
  {
   "cell_type": "code",
   "execution_count": 14,
   "id": "00f3f6a1",
   "metadata": {},
   "outputs": [],
   "source": [
    "def ceated_deactiveimage(data1, data2, folder_name):\n",
    "\n",
    "    set_date = set()\n",
    "    temp_power = []\n",
    "    start = timeit.default_timer()\n",
    "    data = data1.join(data2.set_index('date'), on = 'date')\n",
    "    data['power_device']=data['power_device'].fillna(value = data['power_device'].mean())\n",
    "    data['power_deactive'] = pd.Series([max(0, i) for i in data['power_active']-data['power_device']])\n",
    "    stop = timeit.default_timer()\n",
    "    print('create Dataframe ' , stop-start)\n",
    "    \n",
    "    start = timeit.default_timer()\n",
    "    for index in range(len(data)):\n",
    "\n",
    "        year = data.iloc[index]['year']\n",
    "        month = data.iloc[index]['month']\n",
    "        day = data.iloc[index]['day']\n",
    "            \n",
    "        \n",
    "        if index == 0:\n",
    "            set_date.add(tuple((year,month,day)))\n",
    "            temp_power.append(data.iloc[index]['power_deactive'])\n",
    "        \n",
    "        else:\n",
    "            if tuple((year,month,day)) not in set_date:\n",
    "                set_date.add(tuple((year,month,day)))\n",
    "\n",
    "                #fit transform with gasf\n",
    "                gafs_diff = GramianAngularField(image_size=224/len(np.array(temp_power)), method='summation')\n",
    "                gafs_power = gafs_diff.fit_transform(np.array(temp_power).reshape((1,-1)))\n",
    "                #print(gafs_power[0])\n",
    "                name = str(year) + '-' + str(month) + '-' + str(day) + '.png'\n",
    "                #create image for this day\n",
    "                plt.imsave('/Users/gracepichar/Documents/GitHub/Data-Science-project/'+ folder_name +'/' + name, gafs_power[0] , cmap='gray')\n",
    "\n",
    "                #create new list for power series\n",
    "                temp_power = []\n",
    "                temp_power.append(data.iloc[index]['power_deactive'])\n",
    "\n",
    "            else:\n",
    "                temp_power.append(data.iloc[index]['power_deactive'])\n",
    "        \n",
    "        if (index+1)%1000000==0:\n",
    "            stop = timeit.default_timer()\n",
    "            print('iteration ' + str(index+1) + ' :', stop-start)\n",
    "            start = timeit.default_timer()\n"
   ]
  },
  {
   "cell_type": "code",
   "execution_count": 15,
   "id": "582a49d7",
   "metadata": {},
   "outputs": [
    {
     "name": "stdout",
     "output_type": "stream",
     "text": [
      "create Dataframe  49.36926750000566\n",
      "iteration 1000000 : 325.5706074000045\n",
      "iteration 2000000 : 340.5974666000038\n",
      "iteration 3000000 : 358.30040010000084\n",
      "iteration 4000000 : 402.6612304999944\n",
      "iteration 5000000 : 400.5941160000002\n",
      "iteration 6000000 : 405.42418429999816\n",
      "iteration 7000000 : 405.1637306000048\n",
      "iteration 8000000 : 399.530571299998\n",
      "iteration 9000000 : 406.0446826000043\n",
      "iteration 10000000 : 401.8360431999972\n",
      "iteration 11000000 : 401.30212530000426\n",
      "iteration 12000000 : 407.32998470000166\n",
      "iteration 13000000 : 405.0674689000007\n",
      "iteration 14000000 : 404.4414405999996\n",
      "iteration 15000000 : 403.91484160000255\n",
      "iteration 16000000 : 404.1862054000012\n",
      "iteration 17000000 : 404.03189060000295\n",
      "iteration 18000000 : 402.3339582999979\n",
      "iteration 19000000 : 406.63542489999963\n",
      "iteration 20000000 : 403.1142378000004\n",
      "iteration 21000000 : 398.69578719999845\n",
      "iteration 22000000 : 357.004849799996\n",
      "iteration 23000000 : 327.94992930000444\n"
     ]
    }
   ],
   "source": [
    "folder_names = ['OFF_WasherDryer_sum']\n",
    "file_name = ['washerdryer_building1']\n",
    "for j in [0]:\n",
    "    washerdryer_building1 =  pd.read_csv('/Users/gracepichar/Documents/GitHub/Data-Science-project/' + file_name[j] + '.csv')\n",
    "    washerdryer_building1.drop('Unnamed: 0', axis=1, inplace=True)\n",
    "    ceated_deactiveimage(ukdale_building1, washerdryer_building1, folder_names[j])"
   ]
  },
  {
   "cell_type": "code",
   "execution_count": null,
   "id": "9fd5125a",
   "metadata": {},
   "outputs": [],
   "source": []
  }
 ],
 "metadata": {
  "kernelspec": {
   "display_name": "Python 3",
   "language": "python",
   "name": "python3"
  },
  "language_info": {
   "codemirror_mode": {
    "name": "ipython",
    "version": 3
   },
   "file_extension": ".py",
   "mimetype": "text/x-python",
   "name": "python",
   "nbconvert_exporter": "python",
   "pygments_lexer": "ipython3",
   "version": "3.8.8"
  }
 },
 "nbformat": 4,
 "nbformat_minor": 5
}
