{
 "cells": [
  {
   "cell_type": "code",
   "execution_count": 6,
   "id": "19e23122",
   "metadata": {},
   "outputs": [],
   "source": [
    "import pandas as pd\n",
    "import numpy as np\n",
    "import timeit\n",
    "import matplotlib.pyplot as plt\n",
    "from pyts.image import GramianAngularField\n",
    "\n",
    "%matplotlib inline"
   ]
  },
  {
   "cell_type": "code",
   "execution_count": 7,
   "id": "a8adf566",
   "metadata": {},
   "outputs": [],
   "source": [
    "ukdale_building1 = pd.read_csv('/Users/gracepichar/Documents/GitHub/Data-Science-project/ukdale_building1.csv')"
   ]
  },
  {
   "cell_type": "code",
   "execution_count": 8,
   "id": "761b69ea",
   "metadata": {},
   "outputs": [],
   "source": [
    "ukdale_building1.drop('Unnamed: 0', axis=1, inplace=True)"
   ]
  },
  {
   "cell_type": "code",
   "execution_count": 9,
   "id": "cad43415",
   "metadata": {},
   "outputs": [],
   "source": [
    "def ceatedimage(data, folder_name):\n",
    "\n",
    "    set_date = set()\n",
    "    temp_power = []\n",
    "    \n",
    "    start = timeit.default_timer()\n",
    "    for index in range(len(data)):\n",
    "\n",
    "        year = data.iloc[index]['year']\n",
    "        month = data.iloc[index]['month']\n",
    "        day = data.iloc[index]['day']\n",
    "        \n",
    "        if index == 0:\n",
    "            set_date.add(tuple((year,month,day)))\n",
    "            temp_power.append(data.iloc[index]['power_active'])\n",
    "        \n",
    "        else:\n",
    "            if tuple((year,month,day)) not in set_date:\n",
    "                set_date.add(tuple((year,month,day)))\n",
    "\n",
    "                #fit transform with gasf\n",
    "                #print('len array: ', len(np.array(temp_power)))\n",
    "                gafs_diff = GramianAngularField(image_size=224/len(np.array(temp_power)), method='summation')\n",
    "                gafs_power = gafs_diff.fit_transform(np.array(temp_power).reshape((1,-1)))\n",
    "                #print('array transform shape: ', gafs_power.shape)\n",
    "\n",
    "                #print(gafs_power[0])\n",
    "                name = str(year) + '-' + str(month) + '-' + str(day) + '.png'\n",
    "                #create image for this day\n",
    "                plt.imsave('/Users/gracepichar/Documents/GitHub/Data-Science-project/'+ folder_name +'/' + name, gafs_power[0] , cmap='gray')\n",
    "\n",
    "                #create new list for power series\n",
    "                temp_power = []\n",
    "                temp_power.append(data.iloc[index]['power_active'])\n",
    "\n",
    "            else:\n",
    "                temp_power.append(data.iloc[index]['power_active'])\n",
    "                \n",
    "        if (index+1)%1000000==0:\n",
    "            stop = timeit.default_timer()\n",
    "            print('iteration ' + str(index+1) + ' :', stop-start)\n",
    "            start = timeit.default_timer()"
   ]
  },
  {
   "cell_type": "code",
   "execution_count": 10,
   "id": "55626cb1",
   "metadata": {},
   "outputs": [
    {
     "name": "stdout",
     "output_type": "stream",
     "text": [
      "iteration 1000000 : 291.75904900000023\n",
      "iteration 2000000 : 299.40094919999683\n",
      "iteration 3000000 : 315.48675199999707\n",
      "iteration 4000000 : 334.33559430000605\n",
      "iteration 5000000 : 350.1480131999997\n",
      "iteration 6000000 : 389.2245158000005\n",
      "iteration 7000000 : 385.7283873999986\n",
      "iteration 8000000 : 392.1981245999996\n",
      "iteration 9000000 : 389.5434297999964\n",
      "iteration 10000000 : 386.1646477999966\n",
      "iteration 11000000 : 393.2890553000034\n",
      "iteration 12000000 : 386.5521504999997\n",
      "iteration 13000000 : 388.3424694999994\n",
      "iteration 14000000 : 386.0752882000015\n",
      "iteration 15000000 : 385.63881189999665\n",
      "iteration 16000000 : 389.7469949000006\n",
      "iteration 17000000 : 388.1194048000034\n",
      "iteration 18000000 : 384.2574005999995\n",
      "iteration 19000000 : 388.1542898999978\n",
      "iteration 20000000 : 386.1362511000043\n",
      "iteration 21000000 : 391.15970240000024\n",
      "iteration 22000000 : 388.34376619999966\n",
      "iteration 23000000 : 388.84050910000224\n"
     ]
    }
   ],
   "source": [
    "folder_names = ['UKdale_ON_sum']\n",
    "for j in [0]:\n",
    "    ceatedimage(ukdale_building1, folder_names[j])"
   ]
  },
  {
   "cell_type": "code",
   "execution_count": null,
   "id": "5960ac98",
   "metadata": {},
   "outputs": [],
   "source": []
  }
 ],
 "metadata": {
  "kernelspec": {
   "display_name": "Python 3",
   "language": "python",
   "name": "python3"
  },
  "language_info": {
   "codemirror_mode": {
    "name": "ipython",
    "version": 3
   },
   "file_extension": ".py",
   "mimetype": "text/x-python",
   "name": "python",
   "nbconvert_exporter": "python",
   "pygments_lexer": "ipython3",
   "version": "3.8.8"
  }
 },
 "nbformat": 4,
 "nbformat_minor": 5
}
