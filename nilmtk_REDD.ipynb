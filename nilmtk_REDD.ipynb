{
 "cells": [
  {
   "cell_type": "markdown",
   "metadata": {
    "colab_type": "text",
    "id": "view-in-github"
   },
   "source": [
    "<a href=\"https://colab.research.google.com/github/Gracepicharporn/Data-Science-project/blob/main/nilmtk_data.ipynb\" target=\"_parent\"><img src=\"https://colab.research.google.com/assets/colab-badge.svg\" alt=\"Open In Colab\"/></a>"
   ]
  },
  {
   "cell_type": "markdown",
   "metadata": {
    "id": "Bd5b3Rlf6r-J"
   },
   "source": [
    "## Install NILMTK package"
   ]
  },
  {
   "cell_type": "code",
   "execution_count": null,
   "metadata": {
    "colab": {
     "base_uri": "https://localhost:8080/"
    },
    "id": "mCl3iclBmKI2",
    "outputId": "ad832930-47e8-4cce-8d37-c8862c1914b4"
   },
   "outputs": [
    {
     "name": "stdout",
     "output_type": "stream",
     "text": [
      "fatal: destination path 'nilmtk' already exists and is not an empty directory.\n"
     ]
    }
   ],
   "source": [
    "!git clone https://github.com/nilmtk/nilmtk.git"
   ]
  },
  {
   "cell_type": "code",
   "execution_count": 1,
   "metadata": {
    "colab": {
     "base_uri": "https://localhost:8080/"
    },
    "id": "cOYXajsbmMdI",
    "outputId": "9ac943c0-b109-45f6-9acd-d2f3eef389b2"
   },
   "outputs": [
    {
     "name": "stdout",
     "output_type": "stream",
     "text": [
      "Collecting git+https://github.com/nilmtk/nilmtk.git\n",
      "  Cloning https://github.com/nilmtk/nilmtk.git to /private/var/folders/yj/2rdwvkw174v8rv0n8_br_x840000gn/T/pip-req-build-9scm47ls\n",
      "  Running command git clone --filter=blob:none --quiet https://github.com/nilmtk/nilmtk.git /private/var/folders/yj/2rdwvkw174v8rv0n8_br_x840000gn/T/pip-req-build-9scm47ls\n",
      "  Resolved https://github.com/nilmtk/nilmtk.git to commit ddd3a34ef0442c86fb806028022c9f9f7c2526dd\n",
      "  Preparing metadata (setup.py) ... \u001b[?25ldone\n",
      "\u001b[?25hRequirement already satisfied: pandas==0.25.3 in /opt/anaconda3/lib/python3.8/site-packages (from nilmtk==0.4.0.dev1+git.ddd3a34) (0.25.3)\n",
      "Requirement already satisfied: numpy<1.20.0,>=1.13.3 in /opt/anaconda3/lib/python3.8/site-packages (from nilmtk==0.4.0.dev1+git.ddd3a34) (1.19.5)\n",
      "Requirement already satisfied: networkx==2.1 in /opt/anaconda3/lib/python3.8/site-packages (from nilmtk==0.4.0.dev1+git.ddd3a34) (2.1)\n",
      "Requirement already satisfied: scipy in /opt/anaconda3/lib/python3.8/site-packages (from nilmtk==0.4.0.dev1+git.ddd3a34) (1.6.2)\n",
      "Requirement already satisfied: tables in /opt/anaconda3/lib/python3.8/site-packages (from nilmtk==0.4.0.dev1+git.ddd3a34) (3.6.1)\n",
      "Requirement already satisfied: scikit-learn>=0.21.2 in /opt/anaconda3/lib/python3.8/site-packages (from nilmtk==0.4.0.dev1+git.ddd3a34) (0.24.1)\n",
      "Requirement already satisfied: hmmlearn>=0.2.1 in /opt/anaconda3/lib/python3.8/site-packages (from nilmtk==0.4.0.dev1+git.ddd3a34) (0.2.7)\n",
      "Requirement already satisfied: pyyaml in /opt/anaconda3/lib/python3.8/site-packages (from nilmtk==0.4.0.dev1+git.ddd3a34) (5.4.1)\n",
      "Requirement already satisfied: matplotlib==3.1.3 in /opt/anaconda3/lib/python3.8/site-packages (from nilmtk==0.4.0.dev1+git.ddd3a34) (3.1.3)\n",
      "Requirement already satisfied: jupyterlab in /opt/anaconda3/lib/python3.8/site-packages (from nilmtk==0.4.0.dev1+git.ddd3a34) (3.0.14)\n",
      "Requirement already satisfied: cycler>=0.10 in /opt/anaconda3/lib/python3.8/site-packages (from matplotlib==3.1.3->nilmtk==0.4.0.dev1+git.ddd3a34) (0.10.0)\n",
      "Requirement already satisfied: pyparsing!=2.0.4,!=2.1.2,!=2.1.6,>=2.0.1 in /opt/anaconda3/lib/python3.8/site-packages (from matplotlib==3.1.3->nilmtk==0.4.0.dev1+git.ddd3a34) (2.4.7)\n",
      "Requirement already satisfied: kiwisolver>=1.0.1 in /opt/anaconda3/lib/python3.8/site-packages (from matplotlib==3.1.3->nilmtk==0.4.0.dev1+git.ddd3a34) (1.3.1)\n",
      "Requirement already satisfied: python-dateutil>=2.1 in /opt/anaconda3/lib/python3.8/site-packages (from matplotlib==3.1.3->nilmtk==0.4.0.dev1+git.ddd3a34) (2.8.1)\n",
      "Requirement already satisfied: decorator>=4.1.0 in /opt/anaconda3/lib/python3.8/site-packages (from networkx==2.1->nilmtk==0.4.0.dev1+git.ddd3a34) (5.0.6)\n",
      "Requirement already satisfied: pytz>=2017.2 in /opt/anaconda3/lib/python3.8/site-packages (from pandas==0.25.3->nilmtk==0.4.0.dev1+git.ddd3a34) (2021.1)\n",
      "Requirement already satisfied: threadpoolctl>=2.0.0 in /opt/anaconda3/lib/python3.8/site-packages (from scikit-learn>=0.21.2->nilmtk==0.4.0.dev1+git.ddd3a34) (2.1.0)\n",
      "Requirement already satisfied: joblib>=0.11 in /opt/anaconda3/lib/python3.8/site-packages (from scikit-learn>=0.21.2->nilmtk==0.4.0.dev1+git.ddd3a34) (1.0.1)\n",
      "Requirement already satisfied: jupyter-packaging~=0.7 in /opt/anaconda3/lib/python3.8/site-packages (from jupyterlab->nilmtk==0.4.0.dev1+git.ddd3a34) (0.7.12)\n",
      "Requirement already satisfied: jupyter-server~=1.4 in /opt/anaconda3/lib/python3.8/site-packages (from jupyterlab->nilmtk==0.4.0.dev1+git.ddd3a34) (1.4.1)\n",
      "Requirement already satisfied: jinja2>=2.10 in /opt/anaconda3/lib/python3.8/site-packages (from jupyterlab->nilmtk==0.4.0.dev1+git.ddd3a34) (2.11.3)\n",
      "Requirement already satisfied: tornado>=6.1.0 in /opt/anaconda3/lib/python3.8/site-packages (from jupyterlab->nilmtk==0.4.0.dev1+git.ddd3a34) (6.1)\n",
      "Requirement already satisfied: packaging in /opt/anaconda3/lib/python3.8/site-packages (from jupyterlab->nilmtk==0.4.0.dev1+git.ddd3a34) (20.9)\n",
      "Requirement already satisfied: jupyterlab-server~=2.3 in /opt/anaconda3/lib/python3.8/site-packages (from jupyterlab->nilmtk==0.4.0.dev1+git.ddd3a34) (2.4.0)\n",
      "Requirement already satisfied: ipython in /opt/anaconda3/lib/python3.8/site-packages (from jupyterlab->nilmtk==0.4.0.dev1+git.ddd3a34) (7.22.0)\n",
      "Requirement already satisfied: nbclassic~=0.2 in /opt/anaconda3/lib/python3.8/site-packages (from jupyterlab->nilmtk==0.4.0.dev1+git.ddd3a34) (0.2.6)\n",
      "Requirement already satisfied: jupyter-core in /opt/anaconda3/lib/python3.8/site-packages (from jupyterlab->nilmtk==0.4.0.dev1+git.ddd3a34) (4.7.1)\n",
      "Requirement already satisfied: numexpr>=2.6.2 in /opt/anaconda3/lib/python3.8/site-packages (from tables->nilmtk==0.4.0.dev1+git.ddd3a34) (2.7.3)\n",
      "Requirement already satisfied: six in /opt/anaconda3/lib/python3.8/site-packages (from cycler>=0.10->matplotlib==3.1.3->nilmtk==0.4.0.dev1+git.ddd3a34) (1.15.0)\n",
      "Requirement already satisfied: MarkupSafe>=0.23 in /opt/anaconda3/lib/python3.8/site-packages (from jinja2>=2.10->jupyterlab->nilmtk==0.4.0.dev1+git.ddd3a34) (1.1.1)\n",
      "Requirement already satisfied: prometheus-client in /opt/anaconda3/lib/python3.8/site-packages (from jupyter-server~=1.4->jupyterlab->nilmtk==0.4.0.dev1+git.ddd3a34) (0.10.1)\n",
      "Requirement already satisfied: nbconvert in /opt/anaconda3/lib/python3.8/site-packages (from jupyter-server~=1.4->jupyterlab->nilmtk==0.4.0.dev1+git.ddd3a34) (6.0.7)\n",
      "Requirement already satisfied: traitlets>=4.2.1 in /opt/anaconda3/lib/python3.8/site-packages (from jupyter-server~=1.4->jupyterlab->nilmtk==0.4.0.dev1+git.ddd3a34) (5.0.5)\n",
      "Requirement already satisfied: jupyter-client>=6.1.1 in /opt/anaconda3/lib/python3.8/site-packages (from jupyter-server~=1.4->jupyterlab->nilmtk==0.4.0.dev1+git.ddd3a34) (6.1.12)\n",
      "Requirement already satisfied: nbformat in /opt/anaconda3/lib/python3.8/site-packages (from jupyter-server~=1.4->jupyterlab->nilmtk==0.4.0.dev1+git.ddd3a34) (5.1.3)\n",
      "Requirement already satisfied: Send2Trash in /opt/anaconda3/lib/python3.8/site-packages (from jupyter-server~=1.4->jupyterlab->nilmtk==0.4.0.dev1+git.ddd3a34) (1.5.0)\n",
      "Requirement already satisfied: terminado>=0.8.3 in /opt/anaconda3/lib/python3.8/site-packages (from jupyter-server~=1.4->jupyterlab->nilmtk==0.4.0.dev1+git.ddd3a34) (0.9.4)\n",
      "Requirement already satisfied: pyzmq>=17 in /opt/anaconda3/lib/python3.8/site-packages (from jupyter-server~=1.4->jupyterlab->nilmtk==0.4.0.dev1+git.ddd3a34) (20.0.0)\n",
      "Requirement already satisfied: ipython-genutils in /opt/anaconda3/lib/python3.8/site-packages (from jupyter-server~=1.4->jupyterlab->nilmtk==0.4.0.dev1+git.ddd3a34) (0.2.0)\n",
      "Requirement already satisfied: anyio>=2.0.2 in /opt/anaconda3/lib/python3.8/site-packages (from jupyter-server~=1.4->jupyterlab->nilmtk==0.4.0.dev1+git.ddd3a34) (2.2.0)\n",
      "Requirement already satisfied: json5 in /opt/anaconda3/lib/python3.8/site-packages (from jupyterlab-server~=2.3->jupyterlab->nilmtk==0.4.0.dev1+git.ddd3a34) (0.9.5)\n",
      "Requirement already satisfied: babel in /opt/anaconda3/lib/python3.8/site-packages (from jupyterlab-server~=2.3->jupyterlab->nilmtk==0.4.0.dev1+git.ddd3a34) (2.9.0)\n",
      "Requirement already satisfied: jsonschema>=3.0.1 in /opt/anaconda3/lib/python3.8/site-packages (from jupyterlab-server~=2.3->jupyterlab->nilmtk==0.4.0.dev1+git.ddd3a34) (3.2.0)\n",
      "Requirement already satisfied: requests in /opt/anaconda3/lib/python3.8/site-packages (from jupyterlab-server~=2.3->jupyterlab->nilmtk==0.4.0.dev1+git.ddd3a34) (2.25.1)\n",
      "Requirement already satisfied: notebook<7 in /opt/anaconda3/lib/python3.8/site-packages (from nbclassic~=0.2->jupyterlab->nilmtk==0.4.0.dev1+git.ddd3a34) (6.3.0)\n",
      "Requirement already satisfied: prompt-toolkit!=3.0.0,!=3.0.1,<3.1.0,>=2.0.0 in /opt/anaconda3/lib/python3.8/site-packages (from ipython->jupyterlab->nilmtk==0.4.0.dev1+git.ddd3a34) (3.0.17)\n",
      "Requirement already satisfied: setuptools>=18.5 in /opt/anaconda3/lib/python3.8/site-packages (from ipython->jupyterlab->nilmtk==0.4.0.dev1+git.ddd3a34) (62.1.0)\n",
      "Requirement already satisfied: backcall in /opt/anaconda3/lib/python3.8/site-packages (from ipython->jupyterlab->nilmtk==0.4.0.dev1+git.ddd3a34) (0.2.0)\n",
      "Requirement already satisfied: appnope in /opt/anaconda3/lib/python3.8/site-packages (from ipython->jupyterlab->nilmtk==0.4.0.dev1+git.ddd3a34) (0.1.2)\n",
      "Requirement already satisfied: pexpect>4.3 in /opt/anaconda3/lib/python3.8/site-packages (from ipython->jupyterlab->nilmtk==0.4.0.dev1+git.ddd3a34) (4.8.0)\n",
      "Requirement already satisfied: pygments in /opt/anaconda3/lib/python3.8/site-packages (from ipython->jupyterlab->nilmtk==0.4.0.dev1+git.ddd3a34) (2.8.1)\n",
      "Requirement already satisfied: jedi>=0.16 in /opt/anaconda3/lib/python3.8/site-packages (from ipython->jupyterlab->nilmtk==0.4.0.dev1+git.ddd3a34) (0.17.2)\n",
      "Requirement already satisfied: pickleshare in /opt/anaconda3/lib/python3.8/site-packages (from ipython->jupyterlab->nilmtk==0.4.0.dev1+git.ddd3a34) (0.7.5)\n"
     ]
    },
    {
     "name": "stdout",
     "output_type": "stream",
     "text": [
      "Requirement already satisfied: sniffio>=1.1 in /opt/anaconda3/lib/python3.8/site-packages (from anyio>=2.0.2->jupyter-server~=1.4->jupyterlab->nilmtk==0.4.0.dev1+git.ddd3a34) (1.2.0)\n",
      "Requirement already satisfied: idna>=2.8 in /opt/anaconda3/lib/python3.8/site-packages (from anyio>=2.0.2->jupyter-server~=1.4->jupyterlab->nilmtk==0.4.0.dev1+git.ddd3a34) (2.10)\n",
      "Requirement already satisfied: parso<0.8.0,>=0.7.0 in /opt/anaconda3/lib/python3.8/site-packages (from jedi>=0.16->ipython->jupyterlab->nilmtk==0.4.0.dev1+git.ddd3a34) (0.7.0)\n",
      "Requirement already satisfied: attrs>=17.4.0 in /opt/anaconda3/lib/python3.8/site-packages (from jsonschema>=3.0.1->jupyterlab-server~=2.3->jupyterlab->nilmtk==0.4.0.dev1+git.ddd3a34) (20.3.0)\n",
      "Requirement already satisfied: pyrsistent>=0.14.0 in /opt/anaconda3/lib/python3.8/site-packages (from jsonschema>=3.0.1->jupyterlab-server~=2.3->jupyterlab->nilmtk==0.4.0.dev1+git.ddd3a34) (0.17.3)\n",
      "Requirement already satisfied: ipykernel in /opt/anaconda3/lib/python3.8/site-packages (from notebook<7->nbclassic~=0.2->jupyterlab->nilmtk==0.4.0.dev1+git.ddd3a34) (5.3.4)\n",
      "Requirement already satisfied: argon2-cffi in /opt/anaconda3/lib/python3.8/site-packages (from notebook<7->nbclassic~=0.2->jupyterlab->nilmtk==0.4.0.dev1+git.ddd3a34) (20.1.0)\n",
      "Requirement already satisfied: ptyprocess>=0.5 in /opt/anaconda3/lib/python3.8/site-packages (from pexpect>4.3->ipython->jupyterlab->nilmtk==0.4.0.dev1+git.ddd3a34) (0.7.0)\n",
      "Requirement already satisfied: wcwidth in /opt/anaconda3/lib/python3.8/site-packages (from prompt-toolkit!=3.0.0,!=3.0.1,<3.1.0,>=2.0.0->ipython->jupyterlab->nilmtk==0.4.0.dev1+git.ddd3a34) (0.2.5)\n",
      "Requirement already satisfied: bleach in /opt/anaconda3/lib/python3.8/site-packages (from nbconvert->jupyter-server~=1.4->jupyterlab->nilmtk==0.4.0.dev1+git.ddd3a34) (3.3.0)\n",
      "Requirement already satisfied: entrypoints>=0.2.2 in /opt/anaconda3/lib/python3.8/site-packages (from nbconvert->jupyter-server~=1.4->jupyterlab->nilmtk==0.4.0.dev1+git.ddd3a34) (0.3)\n",
      "Requirement already satisfied: testpath in /opt/anaconda3/lib/python3.8/site-packages (from nbconvert->jupyter-server~=1.4->jupyterlab->nilmtk==0.4.0.dev1+git.ddd3a34) (0.4.4)\n",
      "Requirement already satisfied: jupyterlab-pygments in /opt/anaconda3/lib/python3.8/site-packages (from nbconvert->jupyter-server~=1.4->jupyterlab->nilmtk==0.4.0.dev1+git.ddd3a34) (0.1.2)\n",
      "Requirement already satisfied: pandocfilters>=1.4.1 in /opt/anaconda3/lib/python3.8/site-packages (from nbconvert->jupyter-server~=1.4->jupyterlab->nilmtk==0.4.0.dev1+git.ddd3a34) (1.4.3)\n",
      "Requirement already satisfied: nbclient<0.6.0,>=0.5.0 in /opt/anaconda3/lib/python3.8/site-packages (from nbconvert->jupyter-server~=1.4->jupyterlab->nilmtk==0.4.0.dev1+git.ddd3a34) (0.5.3)\n",
      "Requirement already satisfied: defusedxml in /opt/anaconda3/lib/python3.8/site-packages (from nbconvert->jupyter-server~=1.4->jupyterlab->nilmtk==0.4.0.dev1+git.ddd3a34) (0.7.1)\n",
      "Requirement already satisfied: mistune<2,>=0.8.1 in /opt/anaconda3/lib/python3.8/site-packages (from nbconvert->jupyter-server~=1.4->jupyterlab->nilmtk==0.4.0.dev1+git.ddd3a34) (0.8.4)\n",
      "Requirement already satisfied: chardet<5,>=3.0.2 in /opt/anaconda3/lib/python3.8/site-packages (from requests->jupyterlab-server~=2.3->jupyterlab->nilmtk==0.4.0.dev1+git.ddd3a34) (4.0.0)\n",
      "Requirement already satisfied: certifi>=2017.4.17 in /opt/anaconda3/lib/python3.8/site-packages (from requests->jupyterlab-server~=2.3->jupyterlab->nilmtk==0.4.0.dev1+git.ddd3a34) (2020.12.5)\n",
      "Requirement already satisfied: urllib3<1.27,>=1.21.1 in /opt/anaconda3/lib/python3.8/site-packages (from requests->jupyterlab-server~=2.3->jupyterlab->nilmtk==0.4.0.dev1+git.ddd3a34) (1.26.4)\n",
      "Requirement already satisfied: nest-asyncio in /opt/anaconda3/lib/python3.8/site-packages (from nbclient<0.6.0,>=0.5.0->nbconvert->jupyter-server~=1.4->jupyterlab->nilmtk==0.4.0.dev1+git.ddd3a34) (1.5.1)\n",
      "Requirement already satisfied: async-generator in /opt/anaconda3/lib/python3.8/site-packages (from nbclient<0.6.0,>=0.5.0->nbconvert->jupyter-server~=1.4->jupyterlab->nilmtk==0.4.0.dev1+git.ddd3a34) (1.10)\n",
      "Requirement already satisfied: cffi>=1.0.0 in /opt/anaconda3/lib/python3.8/site-packages (from argon2-cffi->notebook<7->nbclassic~=0.2->jupyterlab->nilmtk==0.4.0.dev1+git.ddd3a34) (1.14.5)\n",
      "Requirement already satisfied: webencodings in /opt/anaconda3/lib/python3.8/site-packages (from bleach->nbconvert->jupyter-server~=1.4->jupyterlab->nilmtk==0.4.0.dev1+git.ddd3a34) (0.5.1)\n",
      "Requirement already satisfied: pycparser in /opt/anaconda3/lib/python3.8/site-packages (from cffi>=1.0.0->argon2-cffi->notebook<7->nbclassic~=0.2->jupyterlab->nilmtk==0.4.0.dev1+git.ddd3a34) (2.20)\n",
      "Building wheels for collected packages: nilmtk\n",
      "  Building wheel for nilmtk (setup.py) ... \u001b[?25ldone\n",
      "\u001b[?25h  Created wheel for nilmtk: filename=nilmtk-0.4.0.dev1+git.ddd3a34-py3-none-any.whl size=279074 sha256=c58b2333a41de8835745551e9623f15f4bbe1e296fa4a4769f5b6c00dfb331ce\n",
      "  Stored in directory: /private/var/folders/yj/2rdwvkw174v8rv0n8_br_x840000gn/T/pip-ephem-wheel-cache-6l1vzh7_/wheels/a2/b3/34/cfd5020206594ebf6577708dcdcd726bc58997ee0136e3133d\n",
      "Successfully built nilmtk\n",
      "Installing collected packages: nilmtk\n",
      "  Attempting uninstall: nilmtk\n",
      "    Found existing installation: nilmtk 0.4.0.dev1+git.303d45b\n",
      "    Uninstalling nilmtk-0.4.0.dev1+git.303d45b:\n",
      "      Successfully uninstalled nilmtk-0.4.0.dev1+git.303d45b\n",
      "Successfully installed nilmtk-0.4.0.dev1+git.ddd3a34\n",
      "\u001b[33mWARNING: You are using pip version 22.0.3; however, version 22.1.2 is available.\n",
      "You should consider upgrading via the '/opt/anaconda3/bin/python3 -m pip install --upgrade pip' command.\u001b[0m\u001b[33m\n",
      "\u001b[0m"
     ]
    }
   ],
   "source": [
    "!pip install git+https://github.com/nilmtk/nilmtk.git"
   ]
  },
  {
   "cell_type": "code",
   "execution_count": 2,
   "metadata": {
    "id": "KgnRVkkgwB5y",
    "outputId": "8941285c-5237-4633-82cd-06614e234b65"
   },
   "outputs": [
    {
     "name": "stdout",
     "output_type": "stream",
     "text": [
      "Collecting git+https://github.com/nilmtk/nilmtk@0.4.3\n",
      "  Cloning https://github.com/nilmtk/nilmtk (to revision 0.4.3) to /private/var/folders/yj/2rdwvkw174v8rv0n8_br_x840000gn/T/pip-req-build-o8lpt7zg\n",
      "  Running command git clone --filter=blob:none --quiet https://github.com/nilmtk/nilmtk /private/var/folders/yj/2rdwvkw174v8rv0n8_br_x840000gn/T/pip-req-build-o8lpt7zg\n",
      "  Running command git checkout -q 303d45bf6c39b44d76c35e8aaa690cef6af8ae38\n",
      "  Resolved https://github.com/nilmtk/nilmtk to commit 303d45bf6c39b44d76c35e8aaa690cef6af8ae38\n",
      "  Preparing metadata (setup.py) ... \u001b[?25ldone\n",
      "\u001b[?25hRequirement already satisfied: pandas==0.25.3 in /opt/anaconda3/lib/python3.8/site-packages (from nilmtk==0.4.0.dev1+git.303d45b) (0.25.3)\n",
      "Requirement already satisfied: numpy<1.20.0,>=1.13.3 in /opt/anaconda3/lib/python3.8/site-packages (from nilmtk==0.4.0.dev1+git.303d45b) (1.19.5)\n",
      "Requirement already satisfied: networkx==2.1 in /opt/anaconda3/lib/python3.8/site-packages (from nilmtk==0.4.0.dev1+git.303d45b) (2.1)\n",
      "Requirement already satisfied: scipy in /opt/anaconda3/lib/python3.8/site-packages (from nilmtk==0.4.0.dev1+git.303d45b) (1.6.2)\n",
      "Requirement already satisfied: tables in /opt/anaconda3/lib/python3.8/site-packages (from nilmtk==0.4.0.dev1+git.303d45b) (3.6.1)\n",
      "Requirement already satisfied: scikit-learn>=0.21.2 in /opt/anaconda3/lib/python3.8/site-packages (from nilmtk==0.4.0.dev1+git.303d45b) (0.24.1)\n",
      "Requirement already satisfied: hmmlearn>=0.2.1 in /opt/anaconda3/lib/python3.8/site-packages (from nilmtk==0.4.0.dev1+git.303d45b) (0.2.7)\n",
      "Requirement already satisfied: pyyaml in /opt/anaconda3/lib/python3.8/site-packages (from nilmtk==0.4.0.dev1+git.303d45b) (5.4.1)\n",
      "Requirement already satisfied: matplotlib==3.1.3 in /opt/anaconda3/lib/python3.8/site-packages (from nilmtk==0.4.0.dev1+git.303d45b) (3.1.3)\n",
      "Requirement already satisfied: jupyterlab in /opt/anaconda3/lib/python3.8/site-packages (from nilmtk==0.4.0.dev1+git.303d45b) (3.0.14)\n",
      "Requirement already satisfied: cycler>=0.10 in /opt/anaconda3/lib/python3.8/site-packages (from matplotlib==3.1.3->nilmtk==0.4.0.dev1+git.303d45b) (0.10.0)\n",
      "Requirement already satisfied: kiwisolver>=1.0.1 in /opt/anaconda3/lib/python3.8/site-packages (from matplotlib==3.1.3->nilmtk==0.4.0.dev1+git.303d45b) (1.3.1)\n",
      "Requirement already satisfied: python-dateutil>=2.1 in /opt/anaconda3/lib/python3.8/site-packages (from matplotlib==3.1.3->nilmtk==0.4.0.dev1+git.303d45b) (2.8.1)\n",
      "Requirement already satisfied: pyparsing!=2.0.4,!=2.1.2,!=2.1.6,>=2.0.1 in /opt/anaconda3/lib/python3.8/site-packages (from matplotlib==3.1.3->nilmtk==0.4.0.dev1+git.303d45b) (2.4.7)\n",
      "Requirement already satisfied: decorator>=4.1.0 in /opt/anaconda3/lib/python3.8/site-packages (from networkx==2.1->nilmtk==0.4.0.dev1+git.303d45b) (5.0.6)\n",
      "Requirement already satisfied: pytz>=2017.2 in /opt/anaconda3/lib/python3.8/site-packages (from pandas==0.25.3->nilmtk==0.4.0.dev1+git.303d45b) (2021.1)\n",
      "Requirement already satisfied: joblib>=0.11 in /opt/anaconda3/lib/python3.8/site-packages (from scikit-learn>=0.21.2->nilmtk==0.4.0.dev1+git.303d45b) (1.0.1)\n",
      "Requirement already satisfied: threadpoolctl>=2.0.0 in /opt/anaconda3/lib/python3.8/site-packages (from scikit-learn>=0.21.2->nilmtk==0.4.0.dev1+git.303d45b) (2.1.0)\n",
      "Requirement already satisfied: ipython in /opt/anaconda3/lib/python3.8/site-packages (from jupyterlab->nilmtk==0.4.0.dev1+git.303d45b) (7.22.0)\n",
      "Requirement already satisfied: tornado>=6.1.0 in /opt/anaconda3/lib/python3.8/site-packages (from jupyterlab->nilmtk==0.4.0.dev1+git.303d45b) (6.1)\n",
      "Requirement already satisfied: jupyter-core in /opt/anaconda3/lib/python3.8/site-packages (from jupyterlab->nilmtk==0.4.0.dev1+git.303d45b) (4.7.1)\n",
      "Requirement already satisfied: packaging in /opt/anaconda3/lib/python3.8/site-packages (from jupyterlab->nilmtk==0.4.0.dev1+git.303d45b) (20.9)\n",
      "Requirement already satisfied: jupyter-server~=1.4 in /opt/anaconda3/lib/python3.8/site-packages (from jupyterlab->nilmtk==0.4.0.dev1+git.303d45b) (1.4.1)\n",
      "Requirement already satisfied: jupyter-packaging~=0.7 in /opt/anaconda3/lib/python3.8/site-packages (from jupyterlab->nilmtk==0.4.0.dev1+git.303d45b) (0.7.12)\n",
      "Requirement already satisfied: nbclassic~=0.2 in /opt/anaconda3/lib/python3.8/site-packages (from jupyterlab->nilmtk==0.4.0.dev1+git.303d45b) (0.2.6)\n",
      "Requirement already satisfied: jinja2>=2.10 in /opt/anaconda3/lib/python3.8/site-packages (from jupyterlab->nilmtk==0.4.0.dev1+git.303d45b) (2.11.3)\n",
      "Requirement already satisfied: jupyterlab-server~=2.3 in /opt/anaconda3/lib/python3.8/site-packages (from jupyterlab->nilmtk==0.4.0.dev1+git.303d45b) (2.4.0)\n",
      "Requirement already satisfied: numexpr>=2.6.2 in /opt/anaconda3/lib/python3.8/site-packages (from tables->nilmtk==0.4.0.dev1+git.303d45b) (2.7.3)\n",
      "Requirement already satisfied: six in /opt/anaconda3/lib/python3.8/site-packages (from cycler>=0.10->matplotlib==3.1.3->nilmtk==0.4.0.dev1+git.303d45b) (1.15.0)\n",
      "Requirement already satisfied: MarkupSafe>=0.23 in /opt/anaconda3/lib/python3.8/site-packages (from jinja2>=2.10->jupyterlab->nilmtk==0.4.0.dev1+git.303d45b) (1.1.1)\n",
      "Requirement already satisfied: Send2Trash in /opt/anaconda3/lib/python3.8/site-packages (from jupyter-server~=1.4->jupyterlab->nilmtk==0.4.0.dev1+git.303d45b) (1.5.0)\n",
      "Requirement already satisfied: anyio>=2.0.2 in /opt/anaconda3/lib/python3.8/site-packages (from jupyter-server~=1.4->jupyterlab->nilmtk==0.4.0.dev1+git.303d45b) (2.2.0)\n",
      "Requirement already satisfied: ipython-genutils in /opt/anaconda3/lib/python3.8/site-packages (from jupyter-server~=1.4->jupyterlab->nilmtk==0.4.0.dev1+git.303d45b) (0.2.0)\n",
      "Requirement already satisfied: traitlets>=4.2.1 in /opt/anaconda3/lib/python3.8/site-packages (from jupyter-server~=1.4->jupyterlab->nilmtk==0.4.0.dev1+git.303d45b) (5.0.5)\n",
      "Requirement already satisfied: prometheus-client in /opt/anaconda3/lib/python3.8/site-packages (from jupyter-server~=1.4->jupyterlab->nilmtk==0.4.0.dev1+git.303d45b) (0.10.1)\n",
      "Requirement already satisfied: nbconvert in /opt/anaconda3/lib/python3.8/site-packages (from jupyter-server~=1.4->jupyterlab->nilmtk==0.4.0.dev1+git.303d45b) (6.0.7)\n",
      "Requirement already satisfied: pyzmq>=17 in /opt/anaconda3/lib/python3.8/site-packages (from jupyter-server~=1.4->jupyterlab->nilmtk==0.4.0.dev1+git.303d45b) (20.0.0)\n",
      "Requirement already satisfied: terminado>=0.8.3 in /opt/anaconda3/lib/python3.8/site-packages (from jupyter-server~=1.4->jupyterlab->nilmtk==0.4.0.dev1+git.303d45b) (0.9.4)\n",
      "Requirement already satisfied: nbformat in /opt/anaconda3/lib/python3.8/site-packages (from jupyter-server~=1.4->jupyterlab->nilmtk==0.4.0.dev1+git.303d45b) (5.1.3)\n",
      "Requirement already satisfied: jupyter-client>=6.1.1 in /opt/anaconda3/lib/python3.8/site-packages (from jupyter-server~=1.4->jupyterlab->nilmtk==0.4.0.dev1+git.303d45b) (6.1.12)\n",
      "Requirement already satisfied: json5 in /opt/anaconda3/lib/python3.8/site-packages (from jupyterlab-server~=2.3->jupyterlab->nilmtk==0.4.0.dev1+git.303d45b) (0.9.5)\n",
      "Requirement already satisfied: jsonschema>=3.0.1 in /opt/anaconda3/lib/python3.8/site-packages (from jupyterlab-server~=2.3->jupyterlab->nilmtk==0.4.0.dev1+git.303d45b) (3.2.0)\n",
      "Requirement already satisfied: babel in /opt/anaconda3/lib/python3.8/site-packages (from jupyterlab-server~=2.3->jupyterlab->nilmtk==0.4.0.dev1+git.303d45b) (2.9.0)\n",
      "Requirement already satisfied: requests in /opt/anaconda3/lib/python3.8/site-packages (from jupyterlab-server~=2.3->jupyterlab->nilmtk==0.4.0.dev1+git.303d45b) (2.25.1)\n",
      "Requirement already satisfied: notebook<7 in /opt/anaconda3/lib/python3.8/site-packages (from nbclassic~=0.2->jupyterlab->nilmtk==0.4.0.dev1+git.303d45b) (6.3.0)\n",
      "Requirement already satisfied: pexpect>4.3 in /opt/anaconda3/lib/python3.8/site-packages (from ipython->jupyterlab->nilmtk==0.4.0.dev1+git.303d45b) (4.8.0)\n",
      "Requirement already satisfied: appnope in /opt/anaconda3/lib/python3.8/site-packages (from ipython->jupyterlab->nilmtk==0.4.0.dev1+git.303d45b) (0.1.2)\n",
      "Requirement already satisfied: pygments in /opt/anaconda3/lib/python3.8/site-packages (from ipython->jupyterlab->nilmtk==0.4.0.dev1+git.303d45b) (2.8.1)\n",
      "Requirement already satisfied: pickleshare in /opt/anaconda3/lib/python3.8/site-packages (from ipython->jupyterlab->nilmtk==0.4.0.dev1+git.303d45b) (0.7.5)\n",
      "Requirement already satisfied: setuptools>=18.5 in /opt/anaconda3/lib/python3.8/site-packages (from ipython->jupyterlab->nilmtk==0.4.0.dev1+git.303d45b) (62.1.0)\n",
      "Requirement already satisfied: prompt-toolkit!=3.0.0,!=3.0.1,<3.1.0,>=2.0.0 in /opt/anaconda3/lib/python3.8/site-packages (from ipython->jupyterlab->nilmtk==0.4.0.dev1+git.303d45b) (3.0.17)\n",
      "Requirement already satisfied: jedi>=0.16 in /opt/anaconda3/lib/python3.8/site-packages (from ipython->jupyterlab->nilmtk==0.4.0.dev1+git.303d45b) (0.17.2)\n",
      "Requirement already satisfied: backcall in /opt/anaconda3/lib/python3.8/site-packages (from ipython->jupyterlab->nilmtk==0.4.0.dev1+git.303d45b) (0.2.0)\n"
     ]
    },
    {
     "name": "stdout",
     "output_type": "stream",
     "text": [
      "Requirement already satisfied: idna>=2.8 in /opt/anaconda3/lib/python3.8/site-packages (from anyio>=2.0.2->jupyter-server~=1.4->jupyterlab->nilmtk==0.4.0.dev1+git.303d45b) (2.10)\n",
      "Requirement already satisfied: sniffio>=1.1 in /opt/anaconda3/lib/python3.8/site-packages (from anyio>=2.0.2->jupyter-server~=1.4->jupyterlab->nilmtk==0.4.0.dev1+git.303d45b) (1.2.0)\n",
      "Requirement already satisfied: parso<0.8.0,>=0.7.0 in /opt/anaconda3/lib/python3.8/site-packages (from jedi>=0.16->ipython->jupyterlab->nilmtk==0.4.0.dev1+git.303d45b) (0.7.0)\n",
      "Requirement already satisfied: attrs>=17.4.0 in /opt/anaconda3/lib/python3.8/site-packages (from jsonschema>=3.0.1->jupyterlab-server~=2.3->jupyterlab->nilmtk==0.4.0.dev1+git.303d45b) (20.3.0)\n",
      "Requirement already satisfied: pyrsistent>=0.14.0 in /opt/anaconda3/lib/python3.8/site-packages (from jsonschema>=3.0.1->jupyterlab-server~=2.3->jupyterlab->nilmtk==0.4.0.dev1+git.303d45b) (0.17.3)\n",
      "Requirement already satisfied: argon2-cffi in /opt/anaconda3/lib/python3.8/site-packages (from notebook<7->nbclassic~=0.2->jupyterlab->nilmtk==0.4.0.dev1+git.303d45b) (20.1.0)\n",
      "Requirement already satisfied: ipykernel in /opt/anaconda3/lib/python3.8/site-packages (from notebook<7->nbclassic~=0.2->jupyterlab->nilmtk==0.4.0.dev1+git.303d45b) (5.3.4)\n",
      "Requirement already satisfied: ptyprocess>=0.5 in /opt/anaconda3/lib/python3.8/site-packages (from pexpect>4.3->ipython->jupyterlab->nilmtk==0.4.0.dev1+git.303d45b) (0.7.0)\n",
      "Requirement already satisfied: wcwidth in /opt/anaconda3/lib/python3.8/site-packages (from prompt-toolkit!=3.0.0,!=3.0.1,<3.1.0,>=2.0.0->ipython->jupyterlab->nilmtk==0.4.0.dev1+git.303d45b) (0.2.5)\n",
      "Requirement already satisfied: bleach in /opt/anaconda3/lib/python3.8/site-packages (from nbconvert->jupyter-server~=1.4->jupyterlab->nilmtk==0.4.0.dev1+git.303d45b) (3.3.0)\n",
      "Requirement already satisfied: testpath in /opt/anaconda3/lib/python3.8/site-packages (from nbconvert->jupyter-server~=1.4->jupyterlab->nilmtk==0.4.0.dev1+git.303d45b) (0.4.4)\n",
      "Requirement already satisfied: jupyterlab-pygments in /opt/anaconda3/lib/python3.8/site-packages (from nbconvert->jupyter-server~=1.4->jupyterlab->nilmtk==0.4.0.dev1+git.303d45b) (0.1.2)\n",
      "Requirement already satisfied: nbclient<0.6.0,>=0.5.0 in /opt/anaconda3/lib/python3.8/site-packages (from nbconvert->jupyter-server~=1.4->jupyterlab->nilmtk==0.4.0.dev1+git.303d45b) (0.5.3)\n",
      "Requirement already satisfied: mistune<2,>=0.8.1 in /opt/anaconda3/lib/python3.8/site-packages (from nbconvert->jupyter-server~=1.4->jupyterlab->nilmtk==0.4.0.dev1+git.303d45b) (0.8.4)\n",
      "Requirement already satisfied: pandocfilters>=1.4.1 in /opt/anaconda3/lib/python3.8/site-packages (from nbconvert->jupyter-server~=1.4->jupyterlab->nilmtk==0.4.0.dev1+git.303d45b) (1.4.3)\n",
      "Requirement already satisfied: defusedxml in /opt/anaconda3/lib/python3.8/site-packages (from nbconvert->jupyter-server~=1.4->jupyterlab->nilmtk==0.4.0.dev1+git.303d45b) (0.7.1)\n",
      "Requirement already satisfied: entrypoints>=0.2.2 in /opt/anaconda3/lib/python3.8/site-packages (from nbconvert->jupyter-server~=1.4->jupyterlab->nilmtk==0.4.0.dev1+git.303d45b) (0.3)\n",
      "Requirement already satisfied: chardet<5,>=3.0.2 in /opt/anaconda3/lib/python3.8/site-packages (from requests->jupyterlab-server~=2.3->jupyterlab->nilmtk==0.4.0.dev1+git.303d45b) (4.0.0)\n",
      "Requirement already satisfied: certifi>=2017.4.17 in /opt/anaconda3/lib/python3.8/site-packages (from requests->jupyterlab-server~=2.3->jupyterlab->nilmtk==0.4.0.dev1+git.303d45b) (2020.12.5)\n",
      "Requirement already satisfied: urllib3<1.27,>=1.21.1 in /opt/anaconda3/lib/python3.8/site-packages (from requests->jupyterlab-server~=2.3->jupyterlab->nilmtk==0.4.0.dev1+git.303d45b) (1.26.4)\n",
      "Requirement already satisfied: nest-asyncio in /opt/anaconda3/lib/python3.8/site-packages (from nbclient<0.6.0,>=0.5.0->nbconvert->jupyter-server~=1.4->jupyterlab->nilmtk==0.4.0.dev1+git.303d45b) (1.5.1)\n",
      "Requirement already satisfied: async-generator in /opt/anaconda3/lib/python3.8/site-packages (from nbclient<0.6.0,>=0.5.0->nbconvert->jupyter-server~=1.4->jupyterlab->nilmtk==0.4.0.dev1+git.303d45b) (1.10)\n",
      "Requirement already satisfied: cffi>=1.0.0 in /opt/anaconda3/lib/python3.8/site-packages (from argon2-cffi->notebook<7->nbclassic~=0.2->jupyterlab->nilmtk==0.4.0.dev1+git.303d45b) (1.14.5)\n",
      "Requirement already satisfied: webencodings in /opt/anaconda3/lib/python3.8/site-packages (from bleach->nbconvert->jupyter-server~=1.4->jupyterlab->nilmtk==0.4.0.dev1+git.303d45b) (0.5.1)\n",
      "Requirement already satisfied: pycparser in /opt/anaconda3/lib/python3.8/site-packages (from cffi>=1.0.0->argon2-cffi->notebook<7->nbclassic~=0.2->jupyterlab->nilmtk==0.4.0.dev1+git.303d45b) (2.20)\n",
      "Building wheels for collected packages: nilmtk\n",
      "  Building wheel for nilmtk (setup.py) ... \u001b[?25ldone\n",
      "\u001b[?25h  Created wheel for nilmtk: filename=nilmtk-0.4.0.dev1+git.303d45b-py3-none-any.whl size=241785 sha256=cbebd7f8ec7fa499c75ec3459e89ce7ed14da8b92c59b437822f899e0146b9b9\n",
      "  Stored in directory: /private/var/folders/yj/2rdwvkw174v8rv0n8_br_x840000gn/T/pip-ephem-wheel-cache-ejy8tojq/wheels/61/34/b1/f24db198a3c147dd335962da785d3f98f8b46e26fcf7f3dd66\n",
      "Successfully built nilmtk\n",
      "Installing collected packages: nilmtk\n",
      "  Attempting uninstall: nilmtk\n",
      "    Found existing installation: nilmtk 0.4.0.dev1+git.ddd3a34\n",
      "    Uninstalling nilmtk-0.4.0.dev1+git.ddd3a34:\n",
      "      Successfully uninstalled nilmtk-0.4.0.dev1+git.ddd3a34\n",
      "Successfully installed nilmtk-0.4.0.dev1+git.303d45b\n",
      "\u001b[33mWARNING: You are using pip version 22.0.3; however, version 22.1.2 is available.\n",
      "You should consider upgrading via the '/opt/anaconda3/bin/python3 -m pip install --upgrade pip' command.\u001b[0m\u001b[33m\n",
      "\u001b[0m"
     ]
    }
   ],
   "source": [
    "!pip install git+https://github.com/nilmtk/nilmtk@0.4.3"
   ]
  },
  {
   "cell_type": "code",
   "execution_count": 3,
   "metadata": {
    "colab": {
     "base_uri": "https://localhost:8080/"
    },
    "id": "dafvNECqmQXr",
    "outputId": "3b819ec1-b0e2-40f3-9dc8-860b45947f8e",
    "scrolled": false
   },
   "outputs": [
    {
     "name": "stdout",
     "output_type": "stream",
     "text": [
      "Collecting git+https://github.com/nilmtk/nilm_metadata.git\n",
      "  Cloning https://github.com/nilmtk/nilm_metadata.git to /private/var/folders/yj/2rdwvkw174v8rv0n8_br_x840000gn/T/pip-req-build-falo6epm\n",
      "  Running command git clone --filter=blob:none --quiet https://github.com/nilmtk/nilm_metadata.git /private/var/folders/yj/2rdwvkw174v8rv0n8_br_x840000gn/T/pip-req-build-falo6epm\n",
      "  Resolved https://github.com/nilmtk/nilm_metadata.git to commit 7ed4bab9062d04cb35c6b6000b451715dc5ab4af\n",
      "  Preparing metadata (setup.py) ... \u001b[?25ldone\n",
      "\u001b[?25hRequirement already satisfied: PyYAML in /opt/anaconda3/lib/python3.8/site-packages (from nilm-metadata==0.2.5) (5.4.1)\n",
      "Requirement already satisfied: six in /opt/anaconda3/lib/python3.8/site-packages (from nilm-metadata==0.2.5) (1.15.0)\n",
      "Requirement already satisfied: pandas in /opt/anaconda3/lib/python3.8/site-packages (from nilm-metadata==0.2.5) (0.25.3)\n",
      "Requirement already satisfied: python-dateutil>=2.6.1 in /opt/anaconda3/lib/python3.8/site-packages (from pandas->nilm-metadata==0.2.5) (2.8.1)\n",
      "Requirement already satisfied: numpy>=1.13.3 in /opt/anaconda3/lib/python3.8/site-packages (from pandas->nilm-metadata==0.2.5) (1.19.5)\n",
      "Requirement already satisfied: pytz>=2017.2 in /opt/anaconda3/lib/python3.8/site-packages (from pandas->nilm-metadata==0.2.5) (2021.1)\n",
      "\u001b[33mWARNING: You are using pip version 22.0.3; however, version 22.1.2 is available.\n",
      "You should consider upgrading via the '/opt/anaconda3/bin/python3 -m pip install --upgrade pip' command.\u001b[0m\u001b[33m\n",
      "\u001b[0m"
     ]
    }
   ],
   "source": [
    "!pip install git+https://github.com/nilmtk/nilm_metadata.git"
   ]
  },
  {
   "cell_type": "code",
   "execution_count": 4,
   "metadata": {
    "scrolled": true
   },
   "outputs": [
    {
     "name": "stdout",
     "output_type": "stream",
     "text": [
      "Requirement already satisfied: Pillow==6.1.0 in /opt/anaconda3/lib/python3.8/site-packages (6.1.0)\n",
      "\u001b[33mWARNING: You are using pip version 22.0.3; however, version 22.1.2 is available.\n",
      "You should consider upgrading via the '/opt/anaconda3/bin/python3 -m pip install --upgrade pip' command.\u001b[0m\u001b[33m\n",
      "\u001b[0m"
     ]
    }
   ],
   "source": [
    "!pip install -U Pillow==6.1.0"
   ]
  },
  {
   "cell_type": "code",
   "execution_count": 32,
   "metadata": {
    "scrolled": true
   },
   "outputs": [
    {
     "name": "stdout",
     "output_type": "stream",
     "text": [
      "Collecting pyts\n",
      "  Downloading pyts-0.12.0-py3-none-any.whl (2.5 MB)\n",
      "\u001b[2K     \u001b[90m━━━━━━━━━━━━━━━━━━━━━━━━━━━━━━━━━━━━━━━━\u001b[0m \u001b[32m2.5/2.5 MB\u001b[0m \u001b[31m2.6 MB/s\u001b[0m eta \u001b[36m0:00:00\u001b[0m00:01\u001b[0m00:01\u001b[0m0m\n",
      "\u001b[?25hRequirement already satisfied: numpy>=1.17.5 in /opt/anaconda3/lib/python3.8/site-packages (from pyts) (1.19.5)\n",
      "Requirement already satisfied: joblib>=0.12 in /opt/anaconda3/lib/python3.8/site-packages (from pyts) (1.0.1)\n",
      "Requirement already satisfied: numba>=0.48.0 in /opt/anaconda3/lib/python3.8/site-packages (from pyts) (0.53.1)\n",
      "Requirement already satisfied: scipy>=1.3.0 in /opt/anaconda3/lib/python3.8/site-packages (from pyts) (1.6.2)\n",
      "Requirement already satisfied: scikit-learn>=0.22.1 in /opt/anaconda3/lib/python3.8/site-packages (from pyts) (0.24.1)\n",
      "Requirement already satisfied: llvmlite<0.37,>=0.36.0rc1 in /opt/anaconda3/lib/python3.8/site-packages (from numba>=0.48.0->pyts) (0.36.0)\n",
      "Requirement already satisfied: setuptools in /opt/anaconda3/lib/python3.8/site-packages (from numba>=0.48.0->pyts) (62.1.0)\n",
      "Requirement already satisfied: threadpoolctl>=2.0.0 in /opt/anaconda3/lib/python3.8/site-packages (from scikit-learn>=0.22.1->pyts) (2.1.0)\n",
      "Installing collected packages: pyts\n",
      "Successfully installed pyts-0.12.0\n",
      "\u001b[33mWARNING: You are using pip version 22.0.3; however, version 22.1.2 is available.\n",
      "You should consider upgrading via the '/opt/anaconda3/bin/python3 -m pip install --upgrade pip' command.\u001b[0m\u001b[33m\n",
      "\u001b[0m"
     ]
    }
   ],
   "source": [
    "!pip install pyts"
   ]
  },
  {
   "cell_type": "markdown",
   "metadata": {
    "id": "HOVeLNiO7m8O"
   },
   "source": [
    "## Import the important package for this project"
   ]
  },
  {
   "cell_type": "code",
   "execution_count": 1,
   "metadata": {
    "id": "8gzOJvr9mfLH"
   },
   "outputs": [],
   "source": [
    "import nilmtk\n",
    "from nilmtk import DataSet, MeterGroup, ElecMeter\n",
    "import numpy as np\n",
    "import pandas as pd\n",
    "import matplotlib as plt\n",
    "from nilmtk.utils import print_dict\n",
    "import matplotlib.pyplot as plt\n",
    "from matplotlib.dates import DateFormatter\n",
    "import matplotlib.font_manager\n",
    "from datetime import datetime, timedelta\n",
    "import matplotlib.pyplot as plt\n",
    "\n",
    "%matplotlib inline"
   ]
  },
  {
   "cell_type": "markdown",
   "metadata": {
    "id": "CpCJZHW4wB50"
   },
   "source": [
    "## Try to use the NILMTK with the randaom.h5 dataset"
   ]
  },
  {
   "cell_type": "code",
   "execution_count": 5,
   "metadata": {
    "colab": {
     "base_uri": "https://localhost:8080/",
     "height": 464
    },
    "id": "sS6NmhgWmHIS",
    "outputId": "b21f02b8-1518-4880-ab94-8e0a4fe59227"
   },
   "outputs": [
    {
     "name": "stdout",
     "output_type": "stream",
     "text": [
      "MeterGroup(meters=\n",
      "  ElecMeter(instance=1, building=1, dataset=None, appliances=[])\n",
      "  ElecMeter(instance=2, building=1, dataset=None, appliances=[])\n",
      "  ElecMeter(instance=3, building=1, dataset=None, appliances=[])\n",
      "  ElecMeter(instance=4, building=1, dataset=None, appliances=[])\n",
      "  ElecMeter(instance=5, building=1, dataset=None, appliances=[])\n",
      ")\n"
     ]
    },
    {
     "name": "stderr",
     "output_type": "stream",
     "text": [
      "/opt/anaconda3/lib/python3.8/site-packages/nilmtk/metergroup.py:85: RuntimeWarning: Building 1 has an empty 'appliances' list.\n",
      "  warnings.warn(\"Building {} has an empty 'appliances' list.\"\n",
      "/opt/anaconda3/lib/python3.8/site-packages/pandas/plotting/_matplotlib/converter.py:103: FutureWarning: Using an implicitly registered datetime converter for a matplotlib plotting method. The converter was registered by pandas on import. Future versions of pandas will require you to explicitly register matplotlib converters.\n",
      "\n",
      "To register the converters:\n",
      "\t>>> from pandas.plotting import register_matplotlib_converters\n",
      "\t>>> register_matplotlib_converters()\n",
      "  warnings.warn(msg, FutureWarning)\n"
     ]
    },
    {
     "data": {
      "text/plain": [
       "[<matplotlib.lines.Line2D at 0x7feb4262afd0>]"
      ]
     },
     "execution_count": 5,
     "metadata": {},
     "output_type": "execute_result"
    },
    {
     "data": {
      "image/png": "[encoded data removed]",
      "text/plain": [
       "<Figure size 432x288 with 1 Axes>"
      ]
     },
     "metadata": {
      "needs_background": "light"
     },
     "output_type": "display_data"
    }
   ],
   "source": [
    "data_random = DataSet('random.h5')\n",
    "elec_buliding1 = data_random.buildings[1].elec #extract meter buliding 1 \n",
    "\n",
    "print(elec_buliding1)\n",
    "plt.plot(elec_buliding1[1].power_series_all_data()) #plot instant 1 with power series "
   ]
  },
  {
   "cell_type": "markdown",
   "metadata": {
    "id": "FcbUQN2N8Ixs"
   },
   "source": [
    "## Import and Download the REDD and UK-DALE dataset"
   ]
  },
  {
   "cell_type": "markdown",
   "metadata": {
    "id": "kuyDm3Mk82yl"
   },
   "source": [
    "**1. REDD dataset** "
   ]
  },
  {
   "cell_type": "markdown",
   "metadata": {
    "id": "o7fJhUBn8lb_"
   },
   "source": [
    "* open google drive which store files"
   ]
  },
  {
   "cell_type": "code",
   "execution_count": 1,
   "metadata": {
    "colab": {
     "base_uri": "https://localhost:8080/"
    },
    "id": "WPmBbwdJormN",
    "outputId": "ea44e6aa-6f08-43af-df40-0c8835709f4c"
   },
   "outputs": [
    {
     "name": "stdout",
     "output_type": "stream",
     "text": [
      "Mounted at /content/gdrive\n"
     ]
    }
   ],
   "source": [
    "from google.colab import drive\n",
    "drive.mount('/content/gdrive')"
   ]
  },
  {
   "cell_type": "markdown",
   "metadata": {
    "id": "lndHcoICCMVc"
   },
   "source": [
    "* unzip the REEDD dataset"
   ]
  },
  {
   "cell_type": "code",
   "execution_count": null,
   "metadata": {
    "colab": {
     "base_uri": "https://localhost:8080/"
    },
    "id": "_4B6FWhWpDnG",
    "outputId": "f4234a97-b41b-46a6-f0fa-97c074505334"
   },
   "outputs": [
    {
     "name": "stdout",
     "output_type": "stream",
     "text": [
      "Archive:  gdrive/My Drive/data/low_freq.zip\n",
      "replace __MACOSX/._low_freq? [y]es, [n]o, [A]ll, [N]one, [r]ename: A\n",
      "  inflating: __MACOSX/._low_freq     \n",
      "  inflating: low_freq/.DS_Store      \n",
      "  inflating: __MACOSX/low_freq/._.DS_Store  \n",
      "  inflating: __MACOSX/low_freq/._house_2  \n",
      "  inflating: __MACOSX/low_freq/._house_5  \n",
      "  inflating: __MACOSX/low_freq/._house_4  \n",
      "  inflating: __MACOSX/low_freq/._house_3  \n",
      "  inflating: __MACOSX/low_freq/._house_6  \n",
      "  inflating: __MACOSX/low_freq/._house_1  \n",
      "  inflating: low_freq/house_2/channel_9.dat  \n",
      "  inflating: __MACOSX/low_freq/house_2/._channel_9.dat  \n",
      "  inflating: low_freq/house_2/channel_8.dat  \n",
      "  inflating: __MACOSX/low_freq/house_2/._channel_8.dat  \n",
      "  inflating: low_freq/house_2/channel_1.dat  \n",
      "  inflating: __MACOSX/low_freq/house_2/._channel_1.dat  \n",
      "  inflating: low_freq/house_2/channel_3.dat  \n",
      "  inflating: __MACOSX/low_freq/house_2/._channel_3.dat  \n",
      "  inflating: low_freq/house_2/channel_2.dat  \n",
      "  inflating: __MACOSX/low_freq/house_2/._channel_2.dat  \n",
      "  inflating: low_freq/house_2/channel_6.dat  \n",
      "  inflating: __MACOSX/low_freq/house_2/._channel_6.dat  \n",
      "  inflating: low_freq/house_2/channel_7.dat  \n",
      "  inflating: __MACOSX/low_freq/house_2/._channel_7.dat  \n",
      "  inflating: low_freq/house_2/channel_5.dat  \n",
      "  inflating: __MACOSX/low_freq/house_2/._channel_5.dat  \n",
      "  inflating: low_freq/house_2/channel_4.dat  \n",
      "  inflating: __MACOSX/low_freq/house_2/._channel_4.dat  \n",
      "  inflating: low_freq/house_2/channel_11.dat  \n",
      "  inflating: __MACOSX/low_freq/house_2/._channel_11.dat  \n",
      "  inflating: low_freq/house_2/labels.dat  \n",
      "  inflating: __MACOSX/low_freq/house_2/._labels.dat  \n",
      "  inflating: low_freq/house_2/channel_10.dat  \n",
      "  inflating: __MACOSX/low_freq/house_2/._channel_10.dat  \n",
      "  inflating: low_freq/house_5/channel_22.dat  \n",
      "  inflating: __MACOSX/low_freq/house_5/._channel_22.dat  \n",
      "  inflating: low_freq/house_5/channel_23.dat  \n",
      "  inflating: __MACOSX/low_freq/house_5/._channel_23.dat  \n",
      "  inflating: low_freq/house_5/channel_21.dat  \n",
      "  inflating: __MACOSX/low_freq/house_5/._channel_21.dat  \n",
      "  inflating: low_freq/house_5/channel_20.dat  \n",
      "  inflating: __MACOSX/low_freq/house_5/._channel_20.dat  \n",
      "  inflating: low_freq/house_5/channel_18.dat  \n",
      "  inflating: __MACOSX/low_freq/house_5/._channel_18.dat  \n",
      "  inflating: low_freq/house_5/channel_24.dat  \n",
      "  inflating: __MACOSX/low_freq/house_5/._channel_24.dat  \n",
      "  inflating: low_freq/house_5/channel_25.dat  \n",
      "  inflating: __MACOSX/low_freq/house_5/._channel_25.dat  \n",
      "  inflating: low_freq/house_5/channel_19.dat  \n",
      "  inflating: __MACOSX/low_freq/house_5/._channel_19.dat  \n",
      "  inflating: low_freq/house_5/channel_26.dat  \n",
      "  inflating: __MACOSX/low_freq/house_5/._channel_26.dat  \n",
      "  inflating: low_freq/house_5/channel_9.dat  \n",
      "  inflating: __MACOSX/low_freq/house_5/._channel_9.dat  \n",
      "  inflating: low_freq/house_5/channel_8.dat  \n",
      "  inflating: __MACOSX/low_freq/house_5/._channel_8.dat  \n",
      "  inflating: low_freq/house_5/channel_1.dat  \n",
      "  inflating: __MACOSX/low_freq/house_5/._channel_1.dat  \n",
      "  inflating: low_freq/house_5/channel_3.dat  \n",
      "  inflating: __MACOSX/low_freq/house_5/._channel_3.dat  \n",
      "  inflating: low_freq/house_5/channel_2.dat  \n",
      "  inflating: __MACOSX/low_freq/house_5/._channel_2.dat  \n",
      "  inflating: low_freq/house_5/channel_6.dat  \n",
      "  inflating: __MACOSX/low_freq/house_5/._channel_6.dat  \n",
      "  inflating: low_freq/house_5/channel_7.dat  \n",
      "  inflating: __MACOSX/low_freq/house_5/._channel_7.dat  \n",
      "  inflating: low_freq/house_5/channel_5.dat  \n",
      "  inflating: __MACOSX/low_freq/house_5/._channel_5.dat  \n",
      "  inflating: low_freq/house_5/channel_4.dat  \n",
      "  inflating: __MACOSX/low_freq/house_5/._channel_4.dat  \n",
      "  inflating: low_freq/house_5/channel_17.dat  \n",
      "  inflating: __MACOSX/low_freq/house_5/._channel_17.dat  \n",
      "  inflating: low_freq/house_5/channel_16.dat  \n",
      "  inflating: __MACOSX/low_freq/house_5/._channel_16.dat  \n",
      "  inflating: low_freq/house_5/channel_14.dat  \n",
      "  inflating: __MACOSX/low_freq/house_5/._channel_14.dat  \n",
      "  inflating: low_freq/house_5/channel_15.dat  \n",
      "  inflating: __MACOSX/low_freq/house_5/._channel_15.dat  \n",
      "  inflating: low_freq/house_5/channel_11.dat  \n",
      "  inflating: __MACOSX/low_freq/house_5/._channel_11.dat  \n",
      "  inflating: low_freq/house_5/labels.dat  \n",
      "  inflating: __MACOSX/low_freq/house_5/._labels.dat  \n",
      "  inflating: low_freq/house_5/channel_10.dat  \n",
      "  inflating: __MACOSX/low_freq/house_5/._channel_10.dat  \n",
      "  inflating: low_freq/house_5/channel_12.dat  \n",
      "  inflating: __MACOSX/low_freq/house_5/._channel_12.dat  \n",
      "  inflating: low_freq/house_5/channel_13.dat  \n",
      "  inflating: __MACOSX/low_freq/house_5/._channel_13.dat  \n",
      "  inflating: low_freq/house_4/channel_20.dat  \n",
      "  inflating: __MACOSX/low_freq/house_4/._channel_20.dat  \n",
      "  inflating: low_freq/house_4/channel_18.dat  \n",
      "  inflating: __MACOSX/low_freq/house_4/._channel_18.dat  \n",
      "  inflating: low_freq/house_4/channel_19.dat  \n",
      "  inflating: __MACOSX/low_freq/house_4/._channel_19.dat  \n",
      "  inflating: low_freq/house_4/channel_9.dat  \n",
      "  inflating: __MACOSX/low_freq/house_4/._channel_9.dat  \n",
      "  inflating: low_freq/house_4/channel_8.dat  \n",
      "  inflating: __MACOSX/low_freq/house_4/._channel_8.dat  \n",
      "  inflating: low_freq/house_4/channel_1.dat  \n",
      "  inflating: __MACOSX/low_freq/house_4/._channel_1.dat  \n",
      "  inflating: low_freq/house_4/channel_3.dat  \n",
      "  inflating: __MACOSX/low_freq/house_4/._channel_3.dat  \n",
      "  inflating: low_freq/house_4/channel_2.dat  \n",
      "  inflating: __MACOSX/low_freq/house_4/._channel_2.dat  \n",
      "  inflating: low_freq/house_4/channel_6.dat  \n",
      "  inflating: __MACOSX/low_freq/house_4/._channel_6.dat  \n",
      "  inflating: low_freq/house_4/channel_7.dat  \n",
      "  inflating: __MACOSX/low_freq/house_4/._channel_7.dat  \n",
      "  inflating: low_freq/house_4/channel_5.dat  \n",
      "  inflating: __MACOSX/low_freq/house_4/._channel_5.dat  \n",
      "  inflating: low_freq/house_4/channel_4.dat  \n",
      "  inflating: __MACOSX/low_freq/house_4/._channel_4.dat  \n",
      "  inflating: low_freq/house_4/channel_17.dat  \n",
      "  inflating: __MACOSX/low_freq/house_4/._channel_17.dat  \n",
      "  inflating: low_freq/house_4/channel_16.dat  \n",
      "  inflating: __MACOSX/low_freq/house_4/._channel_16.dat  \n",
      "  inflating: low_freq/house_4/channel_14.dat  \n",
      "  inflating: __MACOSX/low_freq/house_4/._channel_14.dat  \n",
      "  inflating: low_freq/house_4/channel_15.dat  \n",
      "  inflating: __MACOSX/low_freq/house_4/._channel_15.dat  \n",
      "  inflating: low_freq/house_4/channel_11.dat  \n",
      "  inflating: __MACOSX/low_freq/house_4/._channel_11.dat  \n",
      "  inflating: low_freq/house_4/labels.dat  \n",
      "  inflating: __MACOSX/low_freq/house_4/._labels.dat  \n",
      "  inflating: low_freq/house_4/channel_10.dat  \n",
      "  inflating: __MACOSX/low_freq/house_4/._channel_10.dat  \n",
      "  inflating: low_freq/house_4/channel_12.dat  \n",
      "  inflating: __MACOSX/low_freq/house_4/._channel_12.dat  \n",
      "  inflating: low_freq/house_4/channel_13.dat  \n",
      "  inflating: __MACOSX/low_freq/house_4/._channel_13.dat  \n",
      "  inflating: low_freq/house_3/channel_22.dat  \n",
      "  inflating: __MACOSX/low_freq/house_3/._channel_22.dat  \n",
      "  inflating: low_freq/house_3/channel_21.dat  \n",
      "  inflating: __MACOSX/low_freq/house_3/._channel_21.dat  \n",
      "  inflating: low_freq/house_3/channel_20.dat  \n",
      "  inflating: __MACOSX/low_freq/house_3/._channel_20.dat  \n",
      "  inflating: low_freq/house_3/channel_18.dat  \n",
      "  inflating: __MACOSX/low_freq/house_3/._channel_18.dat  \n",
      "  inflating: low_freq/house_3/channel_19.dat  \n",
      "  inflating: __MACOSX/low_freq/house_3/._channel_19.dat  \n",
      "  inflating: low_freq/house_3/channel_9.dat  \n",
      "  inflating: __MACOSX/low_freq/house_3/._channel_9.dat  \n",
      "  inflating: low_freq/house_3/channel_8.dat  \n",
      "  inflating: __MACOSX/low_freq/house_3/._channel_8.dat  \n",
      "  inflating: low_freq/house_3/channel_1.dat  \n",
      "  inflating: __MACOSX/low_freq/house_3/._channel_1.dat  \n",
      "  inflating: low_freq/house_3/channel_3.dat  \n",
      "  inflating: __MACOSX/low_freq/house_3/._channel_3.dat  \n",
      "  inflating: low_freq/house_3/channel_2.dat  \n",
      "  inflating: __MACOSX/low_freq/house_3/._channel_2.dat  \n",
      "  inflating: low_freq/house_3/channel_6.dat  \n",
      "  inflating: __MACOSX/low_freq/house_3/._channel_6.dat  \n",
      "  inflating: low_freq/house_3/channel_7.dat  \n",
      "  inflating: __MACOSX/low_freq/house_3/._channel_7.dat  \n",
      "  inflating: low_freq/house_3/channel_5.dat  \n",
      "  inflating: __MACOSX/low_freq/house_3/._channel_5.dat  \n",
      "  inflating: low_freq/house_3/channel_4.dat  \n",
      "  inflating: __MACOSX/low_freq/house_3/._channel_4.dat  \n",
      "  inflating: low_freq/house_3/channel_17.dat  \n",
      "  inflating: __MACOSX/low_freq/house_3/._channel_17.dat  \n",
      "  inflating: low_freq/house_3/channel_16.dat  \n",
      "  inflating: __MACOSX/low_freq/house_3/._channel_16.dat  \n",
      "  inflating: low_freq/house_3/channel_14.dat  \n",
      "  inflating: __MACOSX/low_freq/house_3/._channel_14.dat  \n",
      "  inflating: low_freq/house_3/channel_15.dat  \n",
      "  inflating: __MACOSX/low_freq/house_3/._channel_15.dat  \n",
      "  inflating: low_freq/house_3/channel_11.dat  \n",
      "  inflating: __MACOSX/low_freq/house_3/._channel_11.dat  \n",
      "  inflating: low_freq/house_3/labels.dat  \n",
      "  inflating: __MACOSX/low_freq/house_3/._labels.dat  \n",
      "  inflating: low_freq/house_3/channel_10.dat  \n",
      "  inflating: __MACOSX/low_freq/house_3/._channel_10.dat  \n",
      "  inflating: low_freq/house_3/channel_12.dat  \n",
      "  inflating: __MACOSX/low_freq/house_3/._channel_12.dat  \n",
      "  inflating: low_freq/house_3/channel_13.dat  \n",
      "  inflating: __MACOSX/low_freq/house_3/._channel_13.dat  \n",
      "  inflating: low_freq/house_6/channel_9.dat  \n",
      "  inflating: __MACOSX/low_freq/house_6/._channel_9.dat  \n",
      "  inflating: low_freq/house_6/channel_8.dat  \n",
      "  inflating: __MACOSX/low_freq/house_6/._channel_8.dat  \n",
      "  inflating: low_freq/house_6/channel_1.dat  \n",
      "  inflating: __MACOSX/low_freq/house_6/._channel_1.dat  \n",
      "  inflating: low_freq/house_6/channel_3.dat  \n",
      "  inflating: __MACOSX/low_freq/house_6/._channel_3.dat  \n",
      "  inflating: low_freq/house_6/channel_2.dat  \n",
      "  inflating: __MACOSX/low_freq/house_6/._channel_2.dat  \n",
      "  inflating: low_freq/house_6/channel_6.dat  \n",
      "  inflating: __MACOSX/low_freq/house_6/._channel_6.dat  \n",
      "  inflating: low_freq/house_6/channel_7.dat  \n",
      "  inflating: __MACOSX/low_freq/house_6/._channel_7.dat  \n",
      "  inflating: low_freq/house_6/channel_5.dat  \n",
      "  inflating: __MACOSX/low_freq/house_6/._channel_5.dat  \n",
      "  inflating: low_freq/house_6/channel_4.dat  \n",
      "  inflating: __MACOSX/low_freq/house_6/._channel_4.dat  \n",
      "  inflating: low_freq/house_6/channel_17.dat  \n",
      "  inflating: __MACOSX/low_freq/house_6/._channel_17.dat  \n",
      "  inflating: low_freq/house_6/channel_16.dat  \n",
      "  inflating: __MACOSX/low_freq/house_6/._channel_16.dat  \n",
      "  inflating: low_freq/house_6/channel_14.dat  \n",
      "  inflating: __MACOSX/low_freq/house_6/._channel_14.dat  \n",
      "  inflating: low_freq/house_6/channel_15.dat  \n",
      "  inflating: __MACOSX/low_freq/house_6/._channel_15.dat  \n",
      "  inflating: low_freq/house_6/channel_11.dat  \n",
      "  inflating: __MACOSX/low_freq/house_6/._channel_11.dat  \n",
      "  inflating: low_freq/house_6/labels.dat  \n",
      "  inflating: __MACOSX/low_freq/house_6/._labels.dat  \n",
      "  inflating: low_freq/house_6/channel_10.dat  \n",
      "  inflating: __MACOSX/low_freq/house_6/._channel_10.dat  \n",
      "  inflating: low_freq/house_6/channel_12.dat  \n",
      "  inflating: __MACOSX/low_freq/house_6/._channel_12.dat  \n",
      "  inflating: low_freq/house_6/channel_13.dat  \n",
      "  inflating: __MACOSX/low_freq/house_6/._channel_13.dat  \n",
      "  inflating: low_freq/house_1/channel_20.dat  \n",
      "  inflating: __MACOSX/low_freq/house_1/._channel_20.dat  \n",
      "  inflating: low_freq/house_1/channel_18.dat  \n",
      "  inflating: __MACOSX/low_freq/house_1/._channel_18.dat  \n",
      "  inflating: low_freq/house_1/channel_19.dat  \n",
      "  inflating: __MACOSX/low_freq/house_1/._channel_19.dat  \n",
      "  inflating: low_freq/house_1/channel_9.dat  \n",
      "  inflating: __MACOSX/low_freq/house_1/._channel_9.dat  \n",
      "  inflating: low_freq/house_1/channel_8.dat  \n",
      "  inflating: __MACOSX/low_freq/house_1/._channel_8.dat  \n",
      "  inflating: low_freq/house_1/channel_1.dat  \n",
      "  inflating: __MACOSX/low_freq/house_1/._channel_1.dat  \n",
      "  inflating: low_freq/house_1/channel_3.dat  \n",
      "  inflating: __MACOSX/low_freq/house_1/._channel_3.dat  \n",
      "  inflating: low_freq/house_1/channel_2.dat  \n",
      "  inflating: __MACOSX/low_freq/house_1/._channel_2.dat  \n",
      "  inflating: low_freq/house_1/channel_6.dat  \n",
      "  inflating: __MACOSX/low_freq/house_1/._channel_6.dat  \n",
      "  inflating: low_freq/house_1/channel_7.dat  \n",
      "  inflating: __MACOSX/low_freq/house_1/._channel_7.dat  \n",
      "  inflating: low_freq/house_1/channel_5.dat  \n",
      "  inflating: __MACOSX/low_freq/house_1/._channel_5.dat  \n",
      "  inflating: low_freq/house_1/channel_4.dat  \n",
      "  inflating: __MACOSX/low_freq/house_1/._channel_4.dat  \n",
      "  inflating: low_freq/house_1/channel_17.dat  \n",
      "  inflating: __MACOSX/low_freq/house_1/._channel_17.dat  \n",
      "  inflating: low_freq/house_1/channel_16.dat  \n",
      "  inflating: __MACOSX/low_freq/house_1/._channel_16.dat  \n",
      "  inflating: low_freq/house_1/channel_14.dat  \n",
      "  inflating: __MACOSX/low_freq/house_1/._channel_14.dat  \n",
      "  inflating: low_freq/house_1/channel_15.dat  \n",
      "  inflating: __MACOSX/low_freq/house_1/._channel_15.dat  \n",
      "  inflating: low_freq/house_1/channel_11.dat  \n",
      "  inflating: __MACOSX/low_freq/house_1/._channel_11.dat  \n",
      "  inflating: low_freq/house_1/labels.dat  \n",
      "  inflating: __MACOSX/low_freq/house_1/._labels.dat  \n",
      "  inflating: low_freq/house_1/channel_10.dat  \n",
      "  inflating: __MACOSX/low_freq/house_1/._channel_10.dat  \n",
      "  inflating: low_freq/house_1/channel_12.dat  \n",
      "  inflating: __MACOSX/low_freq/house_1/._channel_12.dat  \n",
      "  inflating: low_freq/house_1/channel_13.dat  \n",
      "  inflating: __MACOSX/low_freq/house_1/._channel_13.dat  \n"
     ]
    }
   ],
   "source": [
    "!unzip gdrive/My\\ Drive/data/low_freq.zip"
   ]
  },
  {
   "cell_type": "markdown",
   "metadata": {
    "id": "moKfVfHRCWsG"
   },
   "source": [
    "* convert this file to HDF5 version"
   ]
  },
  {
   "cell_type": "code",
   "execution_count": null,
   "metadata": {
    "colab": {
     "base_uri": "https://localhost:8080/"
    },
    "id": "mv0DrBtDzld3",
    "outputId": "5adcb66e-4d4c-4c62-e1ce-0c08373a95af"
   },
   "outputs": [
    {
     "name": "stdout",
     "output_type": "stream",
     "text": [
      "Loading house 1... 1 2 3 4 5 6 7 8 9 10 11 12 13 14 15 16 17 18 19 20 \n",
      "Loading house 2... 1 2 3 4 5 6 7 8 9 10 11 \n",
      "Loading house 3... 1 2 3 4 5 6 7 8 9 10 11 12 13 14 15 16 17 18 19 20 21 22 \n",
      "Loading house 4... 1 2 3 4 5 6 7 8 9 10 11 12 13 14 15 16 17 18 19 20 \n",
      "Loading house 5... 1 2 3 4 5 6 7 8 9 10 11 12 13 14 15 16 17 18 19 20 21 22 23 24 25 26 \n",
      "Loading house 6... 1 2 3 4 5 6 7 8 9 10 11 12 13 14 15 16 17 \n",
      "Loaded metadata\n",
      "Done converting YAML metadata to HDF5!\n",
      "Done converting REDD to HDF5!\n"
     ]
    }
   ],
   "source": [
    "from nilmtk.dataset_converters import convert_redd\n",
    "convert_redd('/Users/gracepichar/Desktop/thesis/dataset/REDD/low_freq', 'reddd.h5')"
   ]
  },
  {
   "cell_type": "markdown",
   "metadata": {
    "id": "s227FDmcDwmK"
   },
   "source": [
    "* download the REEDD dataset"
   ]
  },
  {
   "cell_type": "code",
   "execution_count": 2,
   "metadata": {
    "id": "M5jWqkWc3Ul3"
   },
   "outputs": [],
   "source": [
    "data_reedd = DataSet('reddd.h5')"
   ]
  },
  {
   "cell_type": "code",
   "execution_count": 7,
   "metadata": {
    "colab": {
     "base_uri": "https://localhost:8080/",
     "height": 929
    },
    "id": "_A2f0vqy4EUF",
    "outputId": "2e640841-0960-4ce3-bec6-e611dcf070a4"
   },
   "outputs": [
    {
     "data": {
      "text/html": [
       "<ul><li><strong>name</strong>: REDD</li><li><strong>long_name</strong>: The Reference Energy Disaggregation Data set</li><li><strong>creators</strong>: <ul><li>Kolter, Zico</li><li>Johnson, Matthew</li></ul></li><li><strong>publication_date</strong>: 2011</li><li><strong>institution</strong>: Massachusetts Institute of Technology (MIT)</li><li><strong>contact</strong>: zkolter@cs.cmu.edu</li><li><strong>description</strong>: Several weeks of power data for 6 different homes.</li><li><strong>subject</strong>: Disaggregated power demand from domestic buildings.</li><li><strong>number_of_buildings</strong>: 6</li><li><strong>timezone</strong>: US/Eastern</li><li><strong>geo_location</strong>: <ul><li><strong>locality</strong>: Massachusetts</li><li><strong>country</strong>: US</li><li><strong>latitude</strong>: 42.360091</li><li><strong>longitude</strong>: -71.09416</li></ul></li><li><strong>related_documents</strong>: <ul><li><a href=\"http://redd.csail.mit.edu\">http://redd.csail.mit.edu</a></li><li>J. Zico Kolter and Matthew J. Johnson. REDD: A public data set for energy disaggregation research. In proceedings of the SustKDD workshop on Data Mining Applications in Sustainability, 2011. <a href=\"http://redd.csail.mit.edu/kolter-kddsust11.pdf\">http://redd.csail.mit.edu/kolter-kddsust11.pdf</a>\n",
       "</li></ul></li><li><strong>schema</strong>: <a href=\"https://github.com/nilmtk/nilm_metadata/tree/v0.2\">https://github.com/nilmtk/nilm_metadata/tree/v0.2</a></li><li><strong>meter_devices</strong>: <ul><li><strong>eMonitor</strong>: <ul><li><strong>model</strong>: eMonitor</li><li><strong>manufacturer</strong>: Powerhouse Dynamics</li><li><strong>manufacturer_url</strong>: <a href=\"http://powerhousedynamics.com\">http://powerhousedynamics.com</a></li><li><strong>description</strong>: Measures circuit-level power demand.  Comes with 24 CTs. This FAQ page suggests the eMonitor measures real (active) power: <a href=\"http://www.energycircle.com/node/14103\">http://www.energycircle.com/node/14103</a>  although the REDD readme.txt says all channels record apparent power.\n",
       "</li><li><strong>sample_period</strong>: 3</li><li><strong>max_sample_period</strong>: 50</li><li><strong>measurements</strong>: <ul><li>{'physical_quantity': 'power', 'type': 'active', 'upper_limit': 5000, 'lower_limit': 0}</li></ul></li><li><strong>wireless</strong>: False</li></ul></li><li><strong>REDD_whole_house</strong>: <ul><li><strong>description</strong>: REDD's DIY power meter used to measure whole-home AC waveforms at high frequency.  To quote from their paper: \"CTs from TED (<a href=\"http://www.theenergydetective.com\">http://www.theenergydetective.com</a>) to measure current in the power mains, a Pico TA041 oscilloscope probe (<a href=\"http://www.picotechnologies.com\">http://www.picotechnologies.com</a>) to measure voltage for one of the two phases in the home, and a National Instruments NI-9239 analog to digital converter to transform both these analog signals to digital readings. This A/D converter has 24 bit resolution with noise of approximately 70 µV, which determines the noise level of our current and voltage readings: the TED CTs are rated for 200 amp circuits and a maximum of 3 volts, so we are able to differentiate between currents of approximately ((200))(70 × 10−6)/(3) = 4.66mA, corresponding to power changes of about 0.5 watts. Similarly, since we use a 1:100 voltage stepdown in the oscilloscope probe, we can detect voltage differences of about 7mV.\"\n",
       "</li><li><strong>sample_period</strong>: 1</li><li><strong>max_sample_period</strong>: 30</li><li><strong>measurements</strong>: <ul><li>{'physical_quantity': 'power', 'type': 'apparent', 'upper_limit': 50000, 'lower_limit': 0}</li></ul></li><li><strong>wireless</strong>: False</li></ul></li></ul></li></ul>"
      ],
      "text/plain": [
       "<IPython.core.display.HTML object>"
      ]
     },
     "metadata": {},
     "output_type": "display_data"
    }
   ],
   "source": [
    "print_dict(data_reedd.metadata) #explore the REEDD Metadata"
   ]
  },
  {
   "cell_type": "code",
   "execution_count": 8,
   "metadata": {
    "colab": {
     "base_uri": "https://localhost:8080/",
     "height": 133
    },
    "id": "lwE3sX0B4Rmq",
    "outputId": "8c050ed3-48ec-4170-886c-6f98eacfaf03"
   },
   "outputs": [
    {
     "data": {
      "text/html": [
       "<ul><li><strong>1</strong>: Building(instance=1, dataset='REDD')</li><li><strong>2</strong>: Building(instance=2, dataset='REDD')</li><li><strong>3</strong>: Building(instance=3, dataset='REDD')</li><li><strong>4</strong>: Building(instance=4, dataset='REDD')</li><li><strong>5</strong>: Building(instance=5, dataset='REDD')</li><li><strong>6</strong>: Building(instance=6, dataset='REDD')</li></ul>"
      ],
      "text/plain": [
       "<IPython.core.display.HTML object>"
      ]
     },
     "metadata": {},
     "output_type": "display_data"
    }
   ],
   "source": [
    "print_dict(data_reedd.buildings) #explore the number of building in REEDD dataset"
   ]
  },
  {
   "cell_type": "code",
   "execution_count": 9,
   "metadata": {
    "id": "fp8IHF-hwB56",
    "outputId": "f815d018-b5aa-4f46-efe1-36c77ff9d29e"
   },
   "outputs": [
    {
     "data": {
      "text/html": [
       "<ul><li><strong>instance</strong>: 1</li><li><strong>original_name</strong>: house_1</li><li><strong>dataset</strong>: REDD</li></ul>"
      ],
      "text/plain": [
       "<IPython.core.display.HTML object>"
      ]
     },
     "metadata": {},
     "output_type": "display_data"
    }
   ],
   "source": [
    "print_dict(data_reedd.buildings[1].metadata) #explore metadata in house 1"
   ]
  },
  {
   "cell_type": "code",
   "execution_count": 33,
   "metadata": {},
   "outputs": [
    {
     "name": "stdout",
     "output_type": "stream",
     "text": [
      "Calculating total_energy for ElecMeterID(instance=20, building=1, dataset='REDD') ...   ataset='REDD'), ElecMeterID(instance=20, building=1, dataset='REDD'))) ...   "
     ]
    },
    {
     "data": {
      "text/plain": [
       "apparent   NaN\n",
       "dtype: float64"
      ]
     },
     "execution_count": 33,
     "metadata": {},
     "output_type": "execute_result"
    }
   ],
   "source": [
    "data_reedd.buildings[1].elec.total_energy() #calculate the total energy"
   ]
  },
  {
   "cell_type": "code",
   "execution_count": 14,
   "metadata": {
    "id": "_bLjQPJgwB58",
    "outputId": "92420be8-3e2f-4223-96d3-e9735095cb1d"
   },
   "outputs": [
    {
     "data": {
      "text/plain": [
       "MeterGroup(meters=\n",
       "  ElecMeter(instance=1, building=1, dataset='REDD', site_meter, appliances=[])\n",
       "  ElecMeter(instance=2, building=1, dataset='REDD', site_meter, appliances=[])\n",
       ")"
      ]
     },
     "execution_count": 14,
     "metadata": {},
     "output_type": "execute_result"
    }
   ],
   "source": [
    "data_reedd.buildings[1].elec.mains() #explore the main meter in buliding 1"
   ]
  },
  {
   "cell_type": "code",
   "execution_count": 25,
   "metadata": {},
   "outputs": [
    {
     "data": {
      "text/plain": [
       "[Appliance(type='electric space heater', instance=1),\n",
       " Appliance(type='electric stove', instance=1),\n",
       " Appliance(type='sockets', instance=2),\n",
       " Appliance(type='microwave', instance=1),\n",
       " Appliance(type='washer dryer', instance=1),\n",
       " Appliance(type='light', instance=2),\n",
       " Appliance(type='sockets', instance=4),\n",
       " Appliance(type='fridge', instance=1),\n",
       " Appliance(type='dish washer', instance=1),\n",
       " Appliance(type='sockets', instance=1),\n",
       " Appliance(type='light', instance=1),\n",
       " Appliance(type='unknown', instance=2),\n",
       " Appliance(type='electric oven', instance=1),\n",
       " Appliance(type='unknown', instance=1),\n",
       " Appliance(type='light', instance=3),\n",
       " Appliance(type='sockets', instance=3)]"
      ]
     },
     "execution_count": 25,
     "metadata": {},
     "output_type": "execute_result"
    }
   ],
   "source": [
    "data_reedd.buildings[1].elec.appliances"
   ]
  },
  {
   "cell_type": "code",
   "execution_count": 10,
   "metadata": {
    "colab": {
     "base_uri": "https://localhost:8080/"
    },
    "id": "CJbRlSra4XAQ",
    "outputId": "17e870c8-bb38-4346-be52-d8554df1c11b"
   },
   "outputs": [
    {
     "data": {
      "text/plain": [
       "MeterGroup(meters=\n",
       "  ElecMeter(instance=1, building=1, dataset='REDD', site_meter, appliances=[])\n",
       "  ElecMeter(instance=2, building=1, dataset='REDD', site_meter, appliances=[])\n",
       "  ElecMeter(instance=5, building=1, dataset='REDD', appliances=[Appliance(type='fridge', instance=1)])\n",
       "  ElecMeter(instance=6, building=1, dataset='REDD', appliances=[Appliance(type='dish washer', instance=1)])\n",
       "  ElecMeter(instance=7, building=1, dataset='REDD', appliances=[Appliance(type='sockets', instance=1)])\n",
       "  ElecMeter(instance=8, building=1, dataset='REDD', appliances=[Appliance(type='sockets', instance=2)])\n",
       "  ElecMeter(instance=9, building=1, dataset='REDD', appliances=[Appliance(type='light', instance=1)])\n",
       "  ElecMeter(instance=11, building=1, dataset='REDD', appliances=[Appliance(type='microwave', instance=1)])\n",
       "  ElecMeter(instance=12, building=1, dataset='REDD', appliances=[Appliance(type='unknown', instance=1)])\n",
       "  ElecMeter(instance=13, building=1, dataset='REDD', appliances=[Appliance(type='electric space heater', instance=1)])\n",
       "  ElecMeter(instance=14, building=1, dataset='REDD', appliances=[Appliance(type='electric stove', instance=1)])\n",
       "  ElecMeter(instance=15, building=1, dataset='REDD', appliances=[Appliance(type='sockets', instance=3)])\n",
       "  ElecMeter(instance=16, building=1, dataset='REDD', appliances=[Appliance(type='sockets', instance=4)])\n",
       "  ElecMeter(instance=17, building=1, dataset='REDD', appliances=[Appliance(type='light', instance=2)])\n",
       "  ElecMeter(instance=18, building=1, dataset='REDD', appliances=[Appliance(type='light', instance=3)])\n",
       "  ElecMeter(instance=19, building=1, dataset='REDD', appliances=[Appliance(type='unknown', instance=2)])\n",
       "  MeterGroup(meters=\n",
       "    ElecMeter(instance=3, building=1, dataset='REDD', appliances=[Appliance(type='electric oven', instance=1)])\n",
       "    ElecMeter(instance=4, building=1, dataset='REDD', appliances=[Appliance(type='electric oven', instance=1)])\n",
       "  )\n",
       "  MeterGroup(meters=\n",
       "    ElecMeter(instance=10, building=1, dataset='REDD', appliances=[Appliance(type='washer dryer', instance=1)])\n",
       "    ElecMeter(instance=20, building=1, dataset='REDD', appliances=[Appliance(type='washer dryer', instance=1)])\n",
       "  )\n",
       ")"
      ]
     },
     "execution_count": 10,
     "metadata": {},
     "output_type": "execute_result"
    }
   ],
   "source": [
    "data_reedd.buildings[1].elec #explore the appliance in buliding1"
   ]
  },
  {
   "cell_type": "code",
   "execution_count": 11,
   "metadata": {
    "id": "y_X_cIwFwB57",
    "outputId": "c9d2b1a0-30e3-4e85-abd5-dc66ac9da10c"
   },
   "outputs": [
    {
     "data": {
      "text/plain": [
       "[MeterGroup(meters=\n",
       "   ElecMeter(instance=3, building=1, dataset='REDD', appliances=[Appliance(type='electric oven', instance=1)])\n",
       "   ElecMeter(instance=4, building=1, dataset='REDD', appliances=[Appliance(type='electric oven', instance=1)])\n",
       " ),\n",
       " MeterGroup(meters=\n",
       "   ElecMeter(instance=10, building=1, dataset='REDD', appliances=[Appliance(type='washer dryer', instance=1)])\n",
       "   ElecMeter(instance=20, building=1, dataset='REDD', appliances=[Appliance(type='washer dryer', instance=1)])\n",
       " )]"
      ]
     },
     "execution_count": 11,
     "metadata": {},
     "output_type": "execute_result"
    }
   ],
   "source": [
    "data_reedd.buildings[1].elec.nested_metergroups() #Explore the appliance which have two meter"
   ]
  },
  {
   "cell_type": "code",
   "execution_count": 39,
   "metadata": {},
   "outputs": [
    {
     "name": "stdout",
     "output_type": "stream",
     "text": [
      "17/18 MeterGroup(meters==19, building=1, dataset='REDD', appliances=[Appliance(type='unknown', instance=2)])ce=1)])ce=1)])\n",
      "  ElecMeter(instance=3, building=1, dataset='REDD', appliances=[Appliance(type='electric oven', instance=1)])\n",
      "  ElecMeter(instance=4, building=1, dataset='REDD', appliances=[Appliance(type='electric oven', instance=1)])\n",
      "18/18 MeterGroup(meters= for ElecMeterID(instance=4, building=1, dataset='REDD') ...   \n",
      "  ElecMeter(instance=10, building=1, dataset='REDD', appliances=[Appliance(type='washer dryer', instance=1)])\n",
      "  ElecMeter(instance=20, building=1, dataset='REDD', appliances=[Appliance(type='washer dryer', instance=1)])\n",
      "Calculating total_energy for ElecMeterID(instance=20, building=1, dataset='REDD') ...   "
     ]
    },
    {
     "data": {
      "text/plain": [
       "(1, 1, REDD)                         2.458343e-01\n",
       "(2, 1, REDD)                         1.696196e-01\n",
       "(5, 1, REDD)                         1.108205e-01\n",
       "(6, 1, REDD)                         4.933175e-02\n",
       "(7, 1, REDD)                         4.156929e-02\n",
       "(8, 1, REDD)                         5.680739e-02\n",
       "(9, 1, REDD)                         7.611047e-02\n",
       "(11, 1, REDD)                        4.182679e-02\n",
       "(12, 1, REDD)                        1.292976e-02\n",
       "(13, 1, REDD)                        2.384800e-04\n",
       "(14, 1, REDD)                        1.019260e-03\n",
       "(15, 1, REDD)                        1.116189e-02\n",
       "(16, 1, REDD)                        5.588167e-03\n",
       "(17, 1, REDD)                        4.528959e-02\n",
       "(18, 1, REDD)                        2.924913e-02\n",
       "(19, 1, REDD)                        2.115245e-07\n",
       "(((3, 1, REDD), (4, 1, REDD)),)      2.183666e-02\n",
       "(((10, 1, REDD), (20, 1, REDD)),)    8.076681e-02\n",
       "dtype: float64"
      ]
     },
     "execution_count": 39,
     "metadata": {},
     "output_type": "execute_result"
    }
   ],
   "source": [
    "data_reedd.buildings[1].elec.fraction_per_meter() #calculate energy permeter"
   ]
  },
  {
   "cell_type": "code",
   "execution_count": 15,
   "metadata": {
    "id": "nIFXXGE9wB58",
    "outputId": "16bf4328-30c7-44c5-fcf1-938a33c14aef"
   },
   "outputs": [
    {
     "data": {
      "text/plain": [
       "(<networkx.classes.digraph.DiGraph at 0x7feb4267f2b0>,\n",
       " <matplotlib.axes._axes.Axes at 0x7feb4274e5e0>)"
      ]
     },
     "execution_count": 15,
     "metadata": {},
     "output_type": "execute_result"
    },
    {
     "data": {
      "image/png": "[encoded data removed]",
      "text/plain": [
       "<Figure size 432x288 with 1 Axes>"
      ]
     },
     "metadata": {},
     "output_type": "display_data"
    }
   ],
   "source": [
    "data_reedd.buildings[1].elec.draw_wiring_graph() #draw a wiring diagram for meter hierachy"
   ]
  },
  {
   "cell_type": "markdown",
   "metadata": {},
   "source": [
    "# Extract the power series"
   ]
  },
  {
   "cell_type": "code",
   "execution_count": 9,
   "metadata": {
    "id": "5KMuGAIdwB58",
    "outputId": "0bd233f9-af53-4164-d97b-9f751ff89392"
   },
   "outputs": [
    {
     "name": "stdout",
     "output_type": "stream",
     "text": [
      "Loading data for meter ElecMeterID(instance=4, building=1, dataset='REDD')      dataset='REDD'), ElecMeterID(instance=4, building=1, dataset='REDD')))     \n",
      "Done loading data all meters for this chunk.\n",
      "Loading data for meter ElecMeterID(instance=20, building=1, dataset='REDD')      dataset='REDD'), ElecMeterID(instance=20, building=1, dataset='REDD')))     \n",
      "Done loading data all meters for this chunk.\n",
      "\n",
      "Done loading data all meters for this chunk.\n"
     ]
    }
   ],
   "source": [
    "reedd_allpowerseries = data_reedd.buildings[1].elec.power_series_all_data()"
   ]
  },
  {
   "cell_type": "code",
   "execution_count": 4,
   "metadata": {},
   "outputs": [
    {
     "name": "stdout",
     "output_type": "stream",
     "text": [
      "Loading data for meter ElecMeterID(instance=4, building=1, dataset='REDD')      dataset='REDD'), ElecMeterID(instance=4, building=1, dataset='REDD')))     \n",
      "Done loading data all meters for this chunk.\n",
      "Loading data for meter ElecMeterID(instance=20, building=1, dataset='REDD')      dataset='REDD'), ElecMeterID(instance=20, building=1, dataset='REDD')))     \n",
      "Done loading data all meters for this chunk.\n",
      "\n",
      "Done loading data all meters for this chunk.\n"
     ]
    }
   ],
   "source": [
    "reedd_allpowerseries2 = data_reedd.buildings[1].elec.power_series_all_data()['2011-04-18 09:22:13-04:00':'2011-04-19 09:22:13-04:00'].resample('10S').pad()"
   ]
  },
  {
   "cell_type": "code",
   "execution_count": 5,
   "metadata": {},
   "outputs": [],
   "source": [
    "reedd_allpowerseries2 = reedd_allpowerseries2.fillna(0)"
   ]
  },
  {
   "cell_type": "code",
   "execution_count": 6,
   "metadata": {},
   "outputs": [
    {
     "data": {
      "text/plain": [
       "2011-04-18 09:22:10-04:00      0.000000\n",
       "2011-04-18 09:22:20-04:00    603.683350\n",
       "2011-04-18 09:22:30-04:00    601.250000\n",
       "2011-04-18 09:22:40-04:00    611.356689\n",
       "2011-04-18 09:22:50-04:00    603.683350\n",
       "                                ...    \n",
       "2011-04-19 09:21:30-04:00    422.963348\n",
       "2011-04-19 09:21:40-04:00    429.029999\n",
       "2011-04-19 09:21:50-04:00    423.556671\n",
       "2011-04-19 09:22:00-04:00    418.966675\n",
       "2011-04-19 09:22:10-04:00    421.859985\n",
       "Freq: 10S, Name: (power, apparent+active), Length: 8641, dtype: float32"
      ]
     },
     "execution_count": 6,
     "metadata": {},
     "output_type": "execute_result"
    }
   ],
   "source": [
    "reedd_allpowerseries2"
   ]
  },
  {
   "cell_type": "code",
   "execution_count": 10,
   "metadata": {},
   "outputs": [
    {
     "name": "stderr",
     "output_type": "stream",
     "text": [
      "/opt/anaconda3/lib/python3.8/site-packages/pandas/plotting/_matplotlib/converter.py:103: FutureWarning: Using an implicitly registered datetime converter for a matplotlib plotting method. The converter was registered by pandas on import. Future versions of pandas will require you to explicitly register matplotlib converters.\n",
      "\n",
      "To register the converters:\n",
      "\t>>> from pandas.plotting import register_matplotlib_converters\n",
      "\t>>> register_matplotlib_converters()\n",
      "  warnings.warn(msg, FutureWarning)\n"
     ]
    },
    {
     "data": {
      "image/png": "[encoded data removed]",
      "text/plain": [
       "<Figure size 432x288 with 1 Axes>"
      ]
     },
     "metadata": {
      "needs_background": "light"
     },
     "output_type": "display_data"
    }
   ],
   "source": [
    "plt.figure()\n",
    "plt.plot(reedd_allpowerseries2)\n",
    "plt.show()"
   ]
  },
  {
   "cell_type": "code",
   "execution_count": 7,
   "metadata": {},
   "outputs": [],
   "source": [
    "reedd_allpowerseries2 = pd.DataFrame(reedd_allpowerseries2)"
   ]
  },
  {
   "cell_type": "code",
   "execution_count": 8,
   "metadata": {},
   "outputs": [
    {
     "data": {
      "text/html": [
       "<div>\n",
       "<style scoped>\n",
       "    .dataframe tbody tr th:only-of-type {\n",
       "        vertical-align: middle;\n",
       "    }\n",
       "\n",
       "    .dataframe tbody tr th {\n",
       "        vertical-align: top;\n",
       "    }\n",
       "\n",
       "    .dataframe thead th {\n",
       "        text-align: right;\n",
       "    }\n",
       "</style>\n",
       "<table border=\"1\" class=\"dataframe\">\n",
       "  <thead>\n",
       "    <tr style=\"text-align: right;\">\n",
       "      <th></th>\n",
       "      <th>power_active</th>\n",
       "    </tr>\n",
       "    <tr>\n",
       "      <th>date</th>\n",
       "      <th></th>\n",
       "    </tr>\n",
       "  </thead>\n",
       "  <tbody>\n",
       "    <tr>\n",
       "      <th>2011-04-18 09:22:10-04:00</th>\n",
       "      <td>0.000000</td>\n",
       "    </tr>\n",
       "    <tr>\n",
       "      <th>2011-04-18 09:22:20-04:00</th>\n",
       "      <td>603.683350</td>\n",
       "    </tr>\n",
       "    <tr>\n",
       "      <th>2011-04-18 09:22:30-04:00</th>\n",
       "      <td>601.250000</td>\n",
       "    </tr>\n",
       "    <tr>\n",
       "      <th>2011-04-18 09:22:40-04:00</th>\n",
       "      <td>611.356689</td>\n",
       "    </tr>\n",
       "    <tr>\n",
       "      <th>2011-04-18 09:22:50-04:00</th>\n",
       "      <td>603.683350</td>\n",
       "    </tr>\n",
       "    <tr>\n",
       "      <th>...</th>\n",
       "      <td>...</td>\n",
       "    </tr>\n",
       "    <tr>\n",
       "      <th>2011-04-19 09:21:30-04:00</th>\n",
       "      <td>422.963348</td>\n",
       "    </tr>\n",
       "    <tr>\n",
       "      <th>2011-04-19 09:21:40-04:00</th>\n",
       "      <td>429.029999</td>\n",
       "    </tr>\n",
       "    <tr>\n",
       "      <th>2011-04-19 09:21:50-04:00</th>\n",
       "      <td>423.556671</td>\n",
       "    </tr>\n",
       "    <tr>\n",
       "      <th>2011-04-19 09:22:00-04:00</th>\n",
       "      <td>418.966675</td>\n",
       "    </tr>\n",
       "    <tr>\n",
       "      <th>2011-04-19 09:22:10-04:00</th>\n",
       "      <td>421.859985</td>\n",
       "    </tr>\n",
       "  </tbody>\n",
       "</table>\n",
       "<p>8641 rows × 1 columns</p>\n",
       "</div>"
      ],
      "text/plain": [
       "                           power_active\n",
       "date                                   \n",
       "2011-04-18 09:22:10-04:00      0.000000\n",
       "2011-04-18 09:22:20-04:00    603.683350\n",
       "2011-04-18 09:22:30-04:00    601.250000\n",
       "2011-04-18 09:22:40-04:00    611.356689\n",
       "2011-04-18 09:22:50-04:00    603.683350\n",
       "...                                 ...\n",
       "2011-04-19 09:21:30-04:00    422.963348\n",
       "2011-04-19 09:21:40-04:00    429.029999\n",
       "2011-04-19 09:21:50-04:00    423.556671\n",
       "2011-04-19 09:22:00-04:00    418.966675\n",
       "2011-04-19 09:22:10-04:00    421.859985\n",
       "\n",
       "[8641 rows x 1 columns]"
      ]
     },
     "execution_count": 8,
     "metadata": {},
     "output_type": "execute_result"
    }
   ],
   "source": [
    "reedd_allpowerseries2.index.name = 'date'\n",
    "reedd_allpowerseries2.columns = ['power_active']\n",
    "reedd_allpowerseries2 "
   ]
  },
  {
   "cell_type": "code",
   "execution_count": 11,
   "metadata": {},
   "outputs": [],
   "source": [
    "gasf = GramianAngularField( method='summation')\n",
    "all_gasf = gasf.fit_transform(reedd_allpowerseries2.values.reshape((1,-1)))"
   ]
  },
  {
   "cell_type": "code",
   "execution_count": 17,
   "metadata": {},
   "outputs": [
    {
     "data": {
      "image/png": "[encoded data removed]",
      "text/plain": [
       "<Figure size 576x576 with 2 Axes>"
      ]
     },
     "metadata": {
      "needs_background": "light"
     },
     "output_type": "display_data"
    }
   ],
   "source": [
    "fig, ax = plt.subplots(figsize=(8, 8))\n",
    "plt.imshow(all_gasf[0], cmap='hot',interpolation='nearest')\n",
    "color_bar = plt.colorbar(ticks=[-1.0,0.0,1.0])\n",
    "color_bar.set_label('Angle')\n",
    "color_bar.ax.set_xticklabels(['-1.0', '0.0', '1.0'])\n",
    "plt.xlabel('Time (second)')\n",
    "plt.ylabel('Time (second)')\n",
    "plt.gca().invert_yaxis()\n",
    "plt.title('Gramian angular summation field for all')\n",
    "plt.show()"
   ]
  },
  {
   "cell_type": "code",
   "execution_count": 44,
   "metadata": {},
   "outputs": [],
   "source": [
    "minus_fridge = reedd_allpowerseries2['power_active']-timeframe_prepocess['power_active']"
   ]
  },
  {
   "cell_type": "code",
   "execution_count": 45,
   "metadata": {},
   "outputs": [
    {
     "data": {
      "text/html": [
       "<div>\n",
       "<style scoped>\n",
       "    .dataframe tbody tr th:only-of-type {\n",
       "        vertical-align: middle;\n",
       "    }\n",
       "\n",
       "    .dataframe tbody tr th {\n",
       "        vertical-align: top;\n",
       "    }\n",
       "\n",
       "    .dataframe thead th {\n",
       "        text-align: right;\n",
       "    }\n",
       "</style>\n",
       "<table border=\"1\" class=\"dataframe\">\n",
       "  <thead>\n",
       "    <tr style=\"text-align: right;\">\n",
       "      <th></th>\n",
       "      <th>power_active</th>\n",
       "    </tr>\n",
       "    <tr>\n",
       "      <th>date</th>\n",
       "      <th></th>\n",
       "    </tr>\n",
       "  </thead>\n",
       "  <tbody>\n",
       "    <tr>\n",
       "      <th>2011-04-18 09:22:10-04:00</th>\n",
       "      <td>0.000000</td>\n",
       "    </tr>\n",
       "    <tr>\n",
       "      <th>2011-04-18 09:22:20-04:00</th>\n",
       "      <td>597.683350</td>\n",
       "    </tr>\n",
       "    <tr>\n",
       "      <th>2011-04-18 09:22:30-04:00</th>\n",
       "      <td>595.250000</td>\n",
       "    </tr>\n",
       "    <tr>\n",
       "      <th>2011-04-18 09:22:40-04:00</th>\n",
       "      <td>605.356689</td>\n",
       "    </tr>\n",
       "    <tr>\n",
       "      <th>2011-04-18 09:22:50-04:00</th>\n",
       "      <td>597.683350</td>\n",
       "    </tr>\n",
       "    <tr>\n",
       "      <th>...</th>\n",
       "      <td>...</td>\n",
       "    </tr>\n",
       "    <tr>\n",
       "      <th>2011-04-19 09:21:30-04:00</th>\n",
       "      <td>416.963348</td>\n",
       "    </tr>\n",
       "    <tr>\n",
       "      <th>2011-04-19 09:21:40-04:00</th>\n",
       "      <td>422.029999</td>\n",
       "    </tr>\n",
       "    <tr>\n",
       "      <th>2011-04-19 09:21:50-04:00</th>\n",
       "      <td>416.556671</td>\n",
       "    </tr>\n",
       "    <tr>\n",
       "      <th>2011-04-19 09:22:00-04:00</th>\n",
       "      <td>412.966675</td>\n",
       "    </tr>\n",
       "    <tr>\n",
       "      <th>2011-04-19 09:22:10-04:00</th>\n",
       "      <td>415.859985</td>\n",
       "    </tr>\n",
       "  </tbody>\n",
       "</table>\n",
       "<p>8641 rows × 1 columns</p>\n",
       "</div>"
      ],
      "text/plain": [
       "                           power_active\n",
       "date                                   \n",
       "2011-04-18 09:22:10-04:00      0.000000\n",
       "2011-04-18 09:22:20-04:00    597.683350\n",
       "2011-04-18 09:22:30-04:00    595.250000\n",
       "2011-04-18 09:22:40-04:00    605.356689\n",
       "2011-04-18 09:22:50-04:00    597.683350\n",
       "...                                 ...\n",
       "2011-04-19 09:21:30-04:00    416.963348\n",
       "2011-04-19 09:21:40-04:00    422.029999\n",
       "2011-04-19 09:21:50-04:00    416.556671\n",
       "2011-04-19 09:22:00-04:00    412.966675\n",
       "2011-04-19 09:22:10-04:00    415.859985\n",
       "\n",
       "[8641 rows x 1 columns]"
      ]
     },
     "execution_count": 45,
     "metadata": {},
     "output_type": "execute_result"
    }
   ],
   "source": [
    "minus_fridge = pd.DataFrame(minus_fridge)\n",
    "minus_fridge.index.name = 'date'\n",
    "minus_fridge.columns = ['power_active']\n",
    "minus_fridge"
   ]
  },
  {
   "cell_type": "code",
   "execution_count": 46,
   "metadata": {},
   "outputs": [],
   "source": [
    "gasf = GramianAngularField( method='summation')\n",
    "minus_fridge_gafs = gasf.fit_transform(minus_fridge.values.reshape((1,-1)))"
   ]
  },
  {
   "cell_type": "code",
   "execution_count": 48,
   "metadata": {},
   "outputs": [
    {
     "data": {
      "image/png": "[encoded data removed]",
      "text/plain": [
       "<Figure size 576x576 with 2 Axes>"
      ]
     },
     "metadata": {
      "needs_background": "light"
     },
     "output_type": "display_data"
    }
   ],
   "source": [
    "fig, ax = plt.subplots(figsize=(8, 8))\n",
    "plt.imshow(minus_fridge_gafs[0], cmap='hot',interpolation='nearest')\n",
    "color_bar = plt.colorbar(ticks=[-1.0,0.0,1.0])\n",
    "color_bar.set_label('Angle')\n",
    "color_bar.ax.set_xticklabels(['-1.0', '0.0', '1.0'])\n",
    "plt.xlabel('Time (second)')\n",
    "plt.ylabel('Time (second)')\n",
    "plt.gca().invert_yaxis()\n",
    "plt.title('Gramian angular summation field for all-fridge')\n",
    "plt.show()"
   ]
  },
  {
   "cell_type": "markdown",
   "metadata": {},
   "source": [
    "**Covert the power series into dataframe**"
   ]
  },
  {
   "cell_type": "code",
   "execution_count": 28,
   "metadata": {},
   "outputs": [],
   "source": [
    "import pandas as pd\n",
    "\n",
    "df_reedd = pd.DataFrame(reedd_allpowerseries)\n",
    "df_reedd.to_csv('REEDD_allpowerseries.csv')"
   ]
  },
  {
   "cell_type": "code",
   "execution_count": 29,
   "metadata": {},
   "outputs": [
    {
     "name": "stderr",
     "output_type": "stream",
     "text": [
      "/opt/anaconda3/lib/python3.8/site-packages/IPython/core/interactiveshell.py:3165: DtypeWarning: Columns (1) have mixed types. Specify dtype option on import or set low_memory=False.\n",
      "  has_raised = await self.run_ast_nodes(code_ast.body, cell_name,\n"
     ]
    }
   ],
   "source": [
    "df_reedd = pd.read_csv('REEDD_allpowerseries.csv')"
   ]
  },
  {
   "cell_type": "code",
   "execution_count": 30,
   "metadata": {},
   "outputs": [
    {
     "data": {
      "text/html": [
       "<div>\n",
       "<style scoped>\n",
       "    .dataframe tbody tr th:only-of-type {\n",
       "        vertical-align: middle;\n",
       "    }\n",
       "\n",
       "    .dataframe tbody tr th {\n",
       "        vertical-align: top;\n",
       "    }\n",
       "\n",
       "    .dataframe thead th {\n",
       "        text-align: right;\n",
       "    }\n",
       "</style>\n",
       "<table border=\"1\" class=\"dataframe\">\n",
       "  <thead>\n",
       "    <tr style=\"text-align: right;\">\n",
       "      <th></th>\n",
       "      <th>Unnamed: 0</th>\n",
       "      <th>power</th>\n",
       "    </tr>\n",
       "  </thead>\n",
       "  <tbody>\n",
       "    <tr>\n",
       "      <th>0</th>\n",
       "      <td>NaN</td>\n",
       "      <td>apparent+active</td>\n",
       "    </tr>\n",
       "    <tr>\n",
       "      <th>1</th>\n",
       "      <td>2011-04-18 09:22:09-04:00</td>\n",
       "      <td>NaN</td>\n",
       "    </tr>\n",
       "    <tr>\n",
       "      <th>2</th>\n",
       "      <td>2011-04-18 09:22:12-04:00</td>\n",
       "      <td>602.17004</td>\n",
       "    </tr>\n",
       "    <tr>\n",
       "      <th>3</th>\n",
       "      <td>2011-04-18 09:22:15-04:00</td>\n",
       "      <td>602.9733</td>\n",
       "    </tr>\n",
       "    <tr>\n",
       "      <th>4</th>\n",
       "      <td>2011-04-18 09:22:18-04:00</td>\n",
       "      <td>603.68335</td>\n",
       "    </tr>\n",
       "  </tbody>\n",
       "</table>\n",
       "</div>"
      ],
      "text/plain": [
       "                  Unnamed: 0            power\n",
       "0                        NaN  apparent+active\n",
       "1  2011-04-18 09:22:09-04:00              NaN\n",
       "2  2011-04-18 09:22:12-04:00        602.17004\n",
       "3  2011-04-18 09:22:15-04:00         602.9733\n",
       "4  2011-04-18 09:22:18-04:00        603.68335"
      ]
     },
     "execution_count": 30,
     "metadata": {},
     "output_type": "execute_result"
    }
   ],
   "source": [
    "df_reedd.head()"
   ]
  },
  {
   "cell_type": "code",
   "execution_count": 31,
   "metadata": {},
   "outputs": [
    {
     "data": {
      "text/html": [
       "<div>\n",
       "<style scoped>\n",
       "    .dataframe tbody tr th:only-of-type {\n",
       "        vertical-align: middle;\n",
       "    }\n",
       "\n",
       "    .dataframe tbody tr th {\n",
       "        vertical-align: top;\n",
       "    }\n",
       "\n",
       "    .dataframe thead th {\n",
       "        text-align: right;\n",
       "    }\n",
       "</style>\n",
       "<table border=\"1\" class=\"dataframe\">\n",
       "  <thead>\n",
       "    <tr style=\"text-align: right;\">\n",
       "      <th></th>\n",
       "      <th>Unnamed: 0</th>\n",
       "      <th>power</th>\n",
       "    </tr>\n",
       "  </thead>\n",
       "  <tbody>\n",
       "    <tr>\n",
       "      <th>count</th>\n",
       "      <td>1044698</td>\n",
       "      <td>525736</td>\n",
       "    </tr>\n",
       "    <tr>\n",
       "      <th>unique</th>\n",
       "      <td>1044698</td>\n",
       "      <td>253735</td>\n",
       "    </tr>\n",
       "    <tr>\n",
       "      <th>top</th>\n",
       "      <td>2011-05-19 11:41:33-04:00</td>\n",
       "      <td>309.0</td>\n",
       "    </tr>\n",
       "    <tr>\n",
       "      <th>freq</th>\n",
       "      <td>1</td>\n",
       "      <td>39</td>\n",
       "    </tr>\n",
       "  </tbody>\n",
       "</table>\n",
       "</div>"
      ],
      "text/plain": [
       "                       Unnamed: 0   power\n",
       "count                     1044698  525736\n",
       "unique                    1044698  253735\n",
       "top     2011-05-19 11:41:33-04:00   309.0\n",
       "freq                            1      39"
      ]
     },
     "execution_count": 31,
     "metadata": {},
     "output_type": "execute_result"
    }
   ],
   "source": [
    "df_reedd.describe()"
   ]
  },
  {
   "cell_type": "markdown",
   "metadata": {},
   "source": [
    "**Extract power series for fridge**"
   ]
  },
  {
   "cell_type": "code",
   "execution_count": 5,
   "metadata": {},
   "outputs": [],
   "source": [
    "reed_fridges = data_reedd.buildings[1].elec['fridge']"
   ]
  },
  {
   "cell_type": "code",
   "execution_count": 8,
   "metadata": {},
   "outputs": [
    {
     "data": {
      "text/plain": [
       "{'model': 'eMonitor',\n",
       " 'manufacturer': 'Powerhouse Dynamics',\n",
       " 'manufacturer_url': 'http://powerhousedynamics.com',\n",
       " 'description': 'Measures circuit-level power demand.  Comes with 24 CTs. This FAQ page suggests the eMonitor measures real (active) power: http://www.energycircle.com/node/14103  although the REDD readme.txt says all channels record apparent power.\\n',\n",
       " 'sample_period': 3,\n",
       " 'max_sample_period': 50,\n",
       " 'measurements': [{'physical_quantity': 'power',\n",
       "   'type': 'active',\n",
       "   'upper_limit': 5000,\n",
       "   'lower_limit': 0}],\n",
       " 'wireless': False}"
      ]
     },
     "execution_count": 8,
     "metadata": {},
     "output_type": "execute_result"
    }
   ],
   "source": [
    "reed_fridges.device"
   ]
  },
  {
   "cell_type": "code",
   "execution_count": 9,
   "metadata": {},
   "outputs": [
    {
     "data": {
      "text/plain": [
       "active    44.750925\n",
       "dtype: float64"
      ]
     },
     "execution_count": 9,
     "metadata": {},
     "output_type": "execute_result"
    }
   ],
   "source": [
    "reed_fridges.total_energy()"
   ]
  },
  {
   "cell_type": "code",
   "execution_count": 10,
   "metadata": {},
   "outputs": [
    {
     "data": {
      "text/plain": [
       "<matplotlib.axes._subplots.AxesSubplot at 0x7fc980594190>"
      ]
     },
     "execution_count": 10,
     "metadata": {},
     "output_type": "execute_result"
    },
    {
     "data": {
      "image/png": "[encoded data removed]",
      "text/plain": [
       "<Figure size 432x288 with 1 Axes>"
      ]
     },
     "metadata": {
      "needs_background": "light"
     },
     "output_type": "display_data"
    }
   ],
   "source": [
    "reed_fridges.plot()"
   ]
  },
  {
   "cell_type": "code",
   "execution_count": 12,
   "metadata": {},
   "outputs": [],
   "source": [
    "fridges_goodtimeframe = reed_fridges.good_sections(full_results=True)"
   ]
  },
  {
   "cell_type": "code",
   "execution_count": 13,
   "metadata": {},
   "outputs": [
    {
     "data": {
      "text/plain": [
       "<matplotlib.axes._subplots.AxesSubplot at 0x7fc97ef132b0>"
      ]
     },
     "execution_count": 13,
     "metadata": {},
     "output_type": "execute_result"
    },
    {
     "data": {
      "image/png": "[encoded data removed]",
      "text/plain": [
       "<Figure size 432x288 with 1 Axes>"
      ]
     },
     "metadata": {
      "needs_background": "light"
     },
     "output_type": "display_data"
    }
   ],
   "source": [
    "fridges_goodtimeframe.plot()"
   ]
  },
  {
   "cell_type": "code",
   "execution_count": 14,
   "metadata": {},
   "outputs": [
    {
     "data": {
      "text/plain": [
       "[TimeFrame(start='2011-04-18 09:22:13-04:00', end='2011-04-18 14:00:33-04:00', empty=False),\n",
       " TimeFrame(start='2011-04-18 14:03:11-04:00', end='2011-04-19 18:45:09-04:00', empty=False),\n",
       " TimeFrame(start='2011-04-19 20:20:05-04:00', end='2011-04-20 01:54:26-04:00', empty=False),\n",
       " TimeFrame(start='2011-04-20 01:55:33-04:00', end='2011-04-21 06:14:43-04:00', empty=False),\n",
       " TimeFrame(start='2011-04-21 06:17:22-04:00', end='2011-04-21 17:45:02-04:00', empty=False),\n",
       " TimeFrame(start='2011-04-21 19:41:23-04:00', end='2011-04-22 22:46:53-04:00', empty=False),\n",
       " TimeFrame(start='2011-04-22 22:48:31-04:00', end='2011-04-24 03:48:44-04:00', empty=False),\n",
       " TimeFrame(start='2011-04-24 03:52:28-04:00', end='2011-04-27 02:50:14-04:00', empty=False),\n",
       " TimeFrame(start='2011-04-27 02:51:25-04:00', end='2011-04-27 03:17:31-04:00', empty=False),\n",
       " TimeFrame(start='2011-04-27 03:21:19-04:00', end='2011-04-29 23:07:52-04:00', empty=False),\n",
       " TimeFrame(start='2011-04-29 23:10:38-04:00', end='2011-05-01 09:44:36-04:00', empty=False),\n",
       " TimeFrame(start='2011-05-01 09:47:22-04:00', end='2011-05-02 17:04:54-04:00', empty=False),\n",
       " TimeFrame(start='2011-05-02 17:07:31-04:00', end='2011-05-03 17:30:12-04:00', empty=False),\n",
       " TimeFrame(start='2011-05-03 17:32:53-04:00', end='2011-05-03 17:33:17-04:00', empty=False),\n",
       " TimeFrame(start='2011-05-06 10:51:50-04:00', end='2011-05-07 02:38:12-04:00', empty=False),\n",
       " TimeFrame(start='2011-05-07 02:40:47-04:00', end='2011-05-08 13:32:42-04:00', empty=False),\n",
       " TimeFrame(start='2011-05-08 13:33:34-04:00', end='2011-05-11 03:16:14-04:00', empty=False),\n",
       " TimeFrame(start='2011-05-11 03:19:47-04:00', end='2011-05-12 17:48:31-04:00', empty=False),\n",
       " TimeFrame(start='2011-05-12 20:14:27-04:00', end='2011-05-22 01:00:03-04:00', empty=False),\n",
       " TimeFrame(start='2011-05-22 01:01:01-04:00', end='2011-05-22 16:03:54-04:00', empty=False),\n",
       " TimeFrame(start='2011-05-22 16:04:50-04:00', end='2011-05-22 23:38:54-04:00', empty=False),\n",
       " TimeFrame(start='2011-05-22 23:41:39-04:00', end='2011-05-23 09:22:00-04:00', empty=False),\n",
       " TimeFrame(start='2011-05-23 10:31:31-04:00', end='2011-05-24 14:32:01-04:00', empty=False),\n",
       " TimeFrame(start='2011-05-24 15:55:38-04:00', end='2011-05-24 15:56:34-04:00', empty=False)]"
      ]
     },
     "execution_count": 14,
     "metadata": {},
     "output_type": "execute_result"
    }
   ],
   "source": [
    "fridges_goodtimeframe.combined()"
   ]
  },
  {
   "cell_type": "code",
   "execution_count": 26,
   "metadata": {},
   "outputs": [
    {
     "data": {
      "text/plain": [
       "0.21922786156570626"
      ]
     },
     "execution_count": 26,
     "metadata": {},
     "output_type": "execute_result"
    }
   ],
   "source": [
    "from nilmtk.elecmeter import ElecMeter\n",
    "reed_fridges.dropout_rate()"
   ]
  },
  {
   "cell_type": "markdown",
   "metadata": {},
   "source": [
    "**Extract power series for fridge with all meter**"
   ]
  },
  {
   "cell_type": "code",
   "execution_count": 20,
   "metadata": {
    "id": "XP5Nx5yYwB58"
   },
   "outputs": [],
   "source": [
    "REEDD_fridges_all = nilmtk.global_meter_group.select_using_appliances(type='fridge')"
   ]
  },
  {
   "cell_type": "code",
   "execution_count": 8,
   "metadata": {},
   "outputs": [
    {
     "data": {
      "text/plain": [
       "MeterGroup(meters=\n",
       "  ElecMeter(instance=5, building=1, dataset='REDD', appliances=[Appliance(type='fridge', instance=1)])\n",
       "  ElecMeter(instance=9, building=2, dataset='REDD', appliances=[Appliance(type='fridge', instance=1)])\n",
       "  ElecMeter(instance=7, building=3, dataset='REDD', appliances=[Appliance(type='fridge', instance=1)])\n",
       "  ElecMeter(instance=18, building=5, dataset='REDD', appliances=[Appliance(type='fridge', instance=1)])\n",
       "  ElecMeter(instance=8, building=6, dataset='REDD', appliances=[Appliance(type='fridge', instance=1)])\n",
       ")"
      ]
     },
     "execution_count": 8,
     "metadata": {},
     "output_type": "execute_result"
    }
   ],
   "source": [
    "REEDD_fridges_all "
   ]
  },
  {
   "cell_type": "code",
   "execution_count": 10,
   "metadata": {
    "id": "Mhu60d1wwB59",
    "outputId": "f8829202-12f5-4b69-fca4-164566eb97cc"
   },
   "outputs": [
    {
     "name": "stderr",
     "output_type": "stream",
     "text": [
      "/opt/anaconda3/lib/python3.8/site-packages/nilmtk/metergroup.py:939: UserWarning: As a quick implementation we only get Good Sections from the first meter in the meter group.  We should really return the intersection of the good sections for all meters.  This will be fixed...\n",
      "  warnings.warn(\"As a quick implementation we only get Good Sections from\"\n"
     ]
    },
    {
     "name": "stdout",
     "output_type": "stream",
     "text": [
      "1/5 ElecMeter(instance=5, building=1, dataset='REDD', appliances=[Appliance(type='fridge', instance=1)]) = nan"
     ]
    },
    {
     "name": "stderr",
     "output_type": "stream",
     "text": [
      "/opt/anaconda3/lib/python3.8/site-packages/nilmtk/metergroup.py:939: UserWarning: As a quick implementation we only get Good Sections from the first meter in the meter group.  We should really return the intersection of the good sections for all meters.  This will be fixed...\n",
      "  warnings.warn(\"As a quick implementation we only get Good Sections from\"\n"
     ]
    },
    {
     "name": "stdout",
     "output_type": "stream",
     "text": [
      "2/5 ElecMeter(instance=9, building=2, dataset='REDD', appliances=[Appliance(type='fridge', instance=1)]) = nan"
     ]
    },
    {
     "name": "stderr",
     "output_type": "stream",
     "text": [
      "/opt/anaconda3/lib/python3.8/site-packages/nilmtk/metergroup.py:939: UserWarning: As a quick implementation we only get Good Sections from the first meter in the meter group.  We should really return the intersection of the good sections for all meters.  This will be fixed...\n",
      "  warnings.warn(\"As a quick implementation we only get Good Sections from\"\n"
     ]
    },
    {
     "name": "stdout",
     "output_type": "stream",
     "text": [
      "3/5 ElecMeter(instance=7, building=3, dataset='REDD', appliances=[Appliance(type='fridge', instance=1)]) = nan"
     ]
    },
    {
     "name": "stderr",
     "output_type": "stream",
     "text": [
      "/opt/anaconda3/lib/python3.8/site-packages/nilmtk/metergroup.py:939: UserWarning: As a quick implementation we only get Good Sections from the first meter in the meter group.  We should really return the intersection of the good sections for all meters.  This will be fixed...\n",
      "  warnings.warn(\"As a quick implementation we only get Good Sections from\"\n"
     ]
    },
    {
     "name": "stdout",
     "output_type": "stream",
     "text": [
      "4/5 ElecMeter(instance=18, building=5, dataset='REDD', appliances=[Appliance(type='fridge', instance=1)]) = nan"
     ]
    },
    {
     "name": "stderr",
     "output_type": "stream",
     "text": [
      "/opt/anaconda3/lib/python3.8/site-packages/nilmtk/metergroup.py:939: UserWarning: As a quick implementation we only get Good Sections from the first meter in the meter group.  We should really return the intersection of the good sections for all meters.  This will be fixed...\n",
      "  warnings.warn(\"As a quick implementation we only get Good Sections from\"\n"
     ]
    },
    {
     "name": "stdout",
     "output_type": "stream",
     "text": [
      "5/5 ElecMeter(instance=8, building=6, dataset='REDD', appliances=[Appliance(type='fridge', instance=1)]) = nan"
     ]
    }
   ],
   "source": [
    "energyconsumed_fridge = REEDD_fridges_all.proportion_of_upstream_total_per_meter()"
   ]
  },
  {
   "cell_type": "code",
   "execution_count": 23,
   "metadata": {},
   "outputs": [
    {
     "data": {
      "text/plain": [
       "<matplotlib.axes._subplots.AxesSubplot at 0x7f81cab2d430>"
      ]
     },
     "execution_count": 23,
     "metadata": {},
     "output_type": "execute_result"
    },
    {
     "data": {
      "image/png": "[encoded data removed]",
      "text/plain": [
       "<Figure size 432x288 with 1 Axes>"
      ]
     },
     "metadata": {
      "needs_background": "light"
     },
     "output_type": "display_data"
    }
   ],
   "source": [
    "REEDD_fridges_all.plot()"
   ]
  },
  {
   "cell_type": "code",
   "execution_count": 26,
   "metadata": {},
   "outputs": [
    {
     "data": {
      "image/png": "[encoded data removed]",
      "text/plain": [
       "<Figure size 432x288 with 1 Axes>"
      ]
     },
     "metadata": {
      "needs_background": "light"
     },
     "output_type": "display_data"
    }
   ],
   "source": [
    "REEDD_fridges_all.select(building=1).plot();"
   ]
  },
  {
   "cell_type": "code",
   "execution_count": 31,
   "metadata": {},
   "outputs": [
    {
     "data": {
      "image/png": "[encoded data removed]",
      "text/plain": [
       "<Figure size 432x288 with 1 Axes>"
      ]
     },
     "metadata": {
      "needs_background": "light"
     },
     "output_type": "display_data"
    },
    {
     "data": {
      "image/png": "[encoded data removed]",
      "text/plain": [
       "<Figure size 432x288 with 1 Axes>"
      ]
     },
     "metadata": {
      "needs_background": "light"
     },
     "output_type": "display_data"
    },
    {
     "data": {
      "image/png": "[encoded data removed]",
      "text/plain": [
       "<Figure size 432x288 with 1 Axes>"
      ]
     },
     "metadata": {
      "needs_background": "light"
     },
     "output_type": "display_data"
    },
    {
     "data": {
      "image/png": "[encoded data removed]",
      "text/plain": [
       "<Figure size 432x288 with 1 Axes>"
      ]
     },
     "metadata": {
      "needs_background": "light"
     },
     "output_type": "display_data"
    },
    {
     "data": {
      "image/png": "[encoded data removed]",
      "text/plain": [
       "<Figure size 432x288 with 1 Axes>"
      ]
     },
     "metadata": {
      "needs_background": "light"
     },
     "output_type": "display_data"
    }
   ],
   "source": [
    "building_num = [1,2,3,5,6] #except buliding 4\n",
    "for i in building_num:\n",
    "    plt.figure(i)\n",
    "    REEDD_fridges_all.select(building=i).plot()\n",
    "    plt.title('building='+ str(i))"
   ]
  },
  {
   "cell_type": "markdown",
   "metadata": {},
   "source": [
    "**Create the image from power series for fridge**"
   ]
  },
  {
   "cell_type": "code",
   "execution_count": 6,
   "metadata": {},
   "outputs": [],
   "source": [
    "from pyts.image import GramianAngularField"
   ]
  },
  {
   "cell_type": "code",
   "execution_count": 14,
   "metadata": {},
   "outputs": [],
   "source": [
    "time_points = np.linspace(0, 4 * np.pi, 1000)\n",
    "X = np.sin(time_points)\n",
    "X = np.array([x])"
   ]
  },
  {
   "cell_type": "code",
   "execution_count": 15,
   "metadata": {},
   "outputs": [
    {
     "data": {
      "text/plain": [
       "array([[ 0.00000000e+00,  1.25786178e-02,  2.51552454e-02,\n",
       "         3.77278927e-02,  5.02945704e-02,  6.28532900e-02,\n",
       "         7.54020646e-02,  8.79389084e-02,  1.00461838e-01,\n",
       "         1.12968871e-01,  1.25458030e-01,  1.37927338e-01,\n",
       "         1.50374822e-01,  1.62798512e-01,  1.75196443e-01,\n",
       "         1.87566653e-01,  1.99907185e-01,  2.12216086e-01,\n",
       "         2.24491409e-01,  2.36731210e-01,  2.48933554e-01,\n",
       "         2.61096510e-01,  2.73218154e-01,  2.85296566e-01,\n",
       "         2.97329837e-01,  3.09316061e-01,  3.21253344e-01,\n",
       "         3.33139795e-01,  3.44973534e-01,  3.56752688e-01,\n",
       "         3.68475395e-01,  3.80139798e-01,  3.91744053e-01,\n",
       "         4.03286322e-01,  4.14764781e-01,  4.26177612e-01,\n",
       "         4.37523010e-01,  4.48799180e-01,  4.60004337e-01,\n",
       "         4.71136709e-01,  4.82194534e-01,  4.93176062e-01,\n",
       "         5.04079556e-01,  5.14903290e-01,  5.25645553e-01,\n",
       "         5.36304643e-01,  5.46878875e-01,  5.57366576e-01,\n",
       "         5.67766086e-01,  5.78075760e-01,  5.88293965e-01,\n",
       "         5.98419086e-01,  6.08449521e-01,  6.18383682e-01,\n",
       "         6.28219997e-01,  6.37956911e-01,  6.47592882e-01,\n",
       "         6.57126385e-01,  6.66555913e-01,  6.75879973e-01,\n",
       "         6.85097090e-01,  6.94205806e-01,  7.03204679e-01,\n",
       "         7.12092285e-01,  7.20867219e-01,  7.29528091e-01,\n",
       "         7.38073532e-01,  7.46502188e-01,  7.54812728e-01,\n",
       "         7.63003834e-01,  7.71074213e-01,  7.79022586e-01,\n",
       "         7.86847695e-01,  7.94548304e-01,  8.02123193e-01,\n",
       "         8.09571163e-01,  8.16891037e-01,  8.24081656e-01,\n",
       "         8.31141882e-01,  8.38070599e-01,  8.44866709e-01,\n",
       "         8.51529138e-01,  8.58056831e-01,  8.64448755e-01,\n",
       "         8.70703900e-01,  8.76821275e-01,  8.82799913e-01,\n",
       "         8.88638867e-01,  8.94337213e-01,  8.99894051e-01,\n",
       "         9.05308500e-01,  9.10579704e-01,  9.15706829e-01,\n",
       "         9.20689063e-01,  9.25525619e-01,  9.30215731e-01,\n",
       "         9.34758657e-01,  9.39153678e-01,  9.43400098e-01,\n",
       "         9.47497247e-01,  9.51444475e-01,  9.55241158e-01,\n",
       "         9.58886695e-01,  9.62380509e-01,  9.65722048e-01,\n",
       "         9.68910783e-01,  9.71946209e-01,  9.74827847e-01,\n",
       "         9.77555239e-01,  9.80127955e-01,  9.82545587e-01,\n",
       "         9.84807753e-01,  9.86914095e-01,  9.88864280e-01,\n",
       "         9.90657999e-01,  9.92294968e-01,  9.93774928e-01,\n",
       "         9.95097645e-01,  9.96262911e-01,  9.97270539e-01,\n",
       "         9.98120372e-01,  9.98812274e-01,  9.99346136e-01,\n",
       "         9.99721874e-01,  9.99939428e-01,  9.99998764e-01,\n",
       "         9.99899872e-01,  9.99642768e-01,  9.99227492e-01,\n",
       "         9.98654111e-01,  9.97922715e-01,  9.97033420e-01,\n",
       "         9.95986366e-01,  9.94781719e-01,  9.93419671e-01,\n",
       "         9.91900435e-01,  9.90224253e-01,  9.88391391e-01,\n",
       "         9.86402137e-01,  9.84256806e-01,  9.81955739e-01,\n",
       "         9.79499299e-01,  9.76887875e-01,  9.74121880e-01,\n",
       "         9.71201752e-01,  9.68127953e-01,  9.64900969e-01,\n",
       "         9.61521310e-01,  9.57989512e-01,  9.54306134e-01,\n",
       "         9.50471757e-01,  9.46486990e-01,  9.42352462e-01,\n",
       "         9.38068827e-01,  9.33636764e-01,  9.29056973e-01,\n",
       "         9.24330180e-01,  9.19457131e-01,  9.14438599e-01,\n",
       "         9.09275378e-01,  9.03968283e-01,  8.98518156e-01,\n",
       "         8.92925858e-01,  8.87192274e-01,  8.81318312e-01,\n",
       "         8.75304901e-01,  8.69152992e-01,  8.62863558e-01,\n",
       "         8.56437596e-01,  8.49876121e-01,  8.43180172e-01,\n",
       "         8.36350809e-01,  8.29389112e-01,  8.22296182e-01,\n",
       "         8.15073141e-01,  8.07721134e-01,  8.00241323e-01,\n",
       "         7.92634891e-01,  7.84903042e-01,  7.77046999e-01,\n",
       "         7.69068007e-01,  7.60967326e-01,  7.52746238e-01,\n",
       "         7.44406046e-01,  7.35948067e-01,  7.27373642e-01,\n",
       "         7.18684125e-01,  7.09880892e-01,  7.00965337e-01,\n",
       "         6.91938869e-01,  6.82802917e-01,  6.73558927e-01,\n",
       "         6.64208361e-01,  6.54752698e-01,  6.45193436e-01,\n",
       "         6.35532086e-01,  6.25770177e-01,  6.15909254e-01,\n",
       "         6.05950876e-01,  5.95896621e-01,  5.85748078e-01,\n",
       "         5.75506853e-01,  5.65174567e-01,  5.54752854e-01,\n",
       "         5.44243365e-01,  5.33647760e-01,  5.22967718e-01,\n",
       "         5.12204928e-01,  5.01361093e-01,  4.90437928e-01,\n",
       "         4.79437162e-01,  4.68360536e-01,  4.57209803e-01,\n",
       "         4.45986726e-01,  4.34693081e-01,  4.23330656e-01,\n",
       "         4.11901248e-01,  4.00406666e-01,  3.88848729e-01,\n",
       "         3.77229264e-01,  3.65550112e-01,  3.53813119e-01,\n",
       "         3.42020143e-01,  3.30173050e-01,  3.18273715e-01,\n",
       "         3.06324020e-01,  2.94325855e-01,  2.82281120e-01,\n",
       "         2.70191721e-01,  2.58059569e-01,  2.45886586e-01,\n",
       "         2.33674696e-01,  2.21425832e-01,  2.09141933e-01,\n",
       "         1.96824941e-01,  1.84476807e-01,  1.72099483e-01,\n",
       "         1.59694928e-01,  1.47265105e-01,  1.34811980e-01,\n",
       "         1.22337524e-01,  1.09843712e-01,  9.73325184e-02,\n",
       "         8.48059245e-02,  7.22659119e-02,  5.97144649e-02,\n",
       "         4.71535694e-02,  3.45852128e-02,  2.20113839e-02,\n",
       "         9.43407223e-03, -3.14473221e-03, -1.57230391e-02,\n",
       "        -2.82988581e-02, -4.08701994e-02, -5.34350740e-02,\n",
       "        -6.59914936e-02, -7.85374716e-02, -9.10710227e-02,\n",
       "        -1.03590164e-01, -1.16092914e-01, -1.28577295e-01,\n",
       "        -1.41041332e-01, -1.53483052e-01, -1.65900487e-01,\n",
       "        -1.78291671e-01, -1.90654645e-01, -2.02987452e-01,\n",
       "        -2.15288141e-01, -2.27554765e-01, -2.39785383e-01,\n",
       "        -2.51978061e-01, -2.64130869e-01, -2.76241884e-01,\n",
       "        -2.88309190e-01, -3.00330878e-01, -3.12305044e-01,\n",
       "        -3.24229795e-01, -3.36103245e-01, -3.47923513e-01,\n",
       "        -3.59688730e-01, -3.71397034e-01, -3.83046573e-01,\n",
       "        -3.94635503e-01, -4.06161991e-01, -4.17624212e-01,\n",
       "        -4.29020354e-01, -4.40348613e-01, -4.51607196e-01,\n",
       "        -4.62794323e-01, -4.73908223e-01, -4.84947137e-01,\n",
       "        -4.95909319e-01, -5.06793034e-01, -5.17596560e-01,\n",
       "        -5.28318189e-01, -5.38956222e-01, -5.49508978e-01,\n",
       "        -5.59974786e-01, -5.70351991e-01, -5.80638949e-01,\n",
       "        -5.90834035e-01, -6.00935634e-01, -6.10942149e-01,\n",
       "        -6.20851995e-01, -6.30663605e-01, -6.40375427e-01,\n",
       "        -6.49985923e-01, -6.59493574e-01, -6.68896874e-01,\n",
       "        -6.78194336e-01, -6.87384489e-01, -6.96465878e-01,\n",
       "        -7.05437067e-01, -7.14296636e-01, -7.23043184e-01,\n",
       "        -7.31675326e-01, -7.40191697e-01, -7.48590948e-01,\n",
       "        -7.56871752e-01, -7.65032797e-01, -7.73072793e-01,\n",
       "        -7.80990468e-01, -7.88784567e-01, -7.96453860e-01,\n",
       "        -8.03997130e-01, -8.11413186e-01, -8.18700854e-01,\n",
       "        -8.25858981e-01, -8.32886434e-01, -8.39782100e-01,\n",
       "        -8.46544890e-01, -8.53173733e-01, -8.59667580e-01,\n",
       "        -8.66025404e-01, -8.72246198e-01, -8.78328979e-01,\n",
       "        -8.84272783e-01, -8.90076671e-01, -8.95739724e-01,\n",
       "        -9.01261046e-01, -9.06639763e-01, -9.11875024e-01,\n",
       "        -9.16966002e-01, -9.21911890e-01, -9.26711905e-01,\n",
       "        -9.31365289e-01, -9.35871306e-01, -9.40229241e-01,\n",
       "        -9.44438405e-01, -9.48498134e-01, -9.52407783e-01,\n",
       "        -9.56166735e-01, -9.59774394e-01, -9.63230191e-01,\n",
       "        -9.66533578e-01, -9.69684032e-01, -9.72681055e-01,\n",
       "        -9.75524172e-01, -9.78212935e-01, -9.80746917e-01,\n",
       "        -9.83125718e-01, -9.85348960e-01, -9.87416293e-01,\n",
       "        -9.89327390e-01, -9.91081947e-01, -9.92679687e-01,\n",
       "        -9.94120357e-01, -9.95403731e-01, -9.96529603e-01,\n",
       "        -9.97497797e-01, -9.98308158e-01, -9.98960560e-01,\n",
       "        -9.99454898e-01, -9.99791094e-01, -9.99969096e-01,\n",
       "        -9.99988874e-01, -9.99850427e-01, -9.99553775e-01,\n",
       "        -9.99098966e-01, -9.98486072e-01, -9.97715189e-01,\n",
       "        -9.96786440e-01, -9.95699972e-01, -9.94455956e-01,\n",
       "        -9.93054589e-01, -9.91496094e-01, -9.89780716e-01,\n",
       "        -9.87908727e-01, -9.85880423e-01, -9.83696126e-01,\n",
       "        -9.81356181e-01, -9.78860957e-01, -9.76210851e-01,\n",
       "        -9.73406281e-01, -9.70447691e-01, -9.67335548e-01,\n",
       "        -9.64070347e-01, -9.60652602e-01, -9.57082856e-01,\n",
       "        -9.53361672e-01, -9.49489640e-01, -9.45467373e-01,\n",
       "        -9.41295506e-01, -9.36974699e-01, -9.32505637e-01,\n",
       "        -9.27889027e-01, -9.23125599e-01, -9.18216107e-01,\n",
       "        -9.13161327e-01, -9.07962060e-01, -9.02619128e-01,\n",
       "        -8.97133376e-01, -8.91505673e-01, -8.85736908e-01,\n",
       "        -8.79827996e-01, -8.73779870e-01, -8.67593488e-01,\n",
       "        -8.61269828e-01, -8.54809891e-01, -8.48214700e-01,\n",
       "        -8.41485297e-01, -8.34622748e-01, -8.27628139e-01,\n",
       "        -8.20502575e-01, -8.13247185e-01, -8.05863117e-01,\n",
       "        -7.98351539e-01, -7.90713639e-01, -7.82950626e-01,\n",
       "        -7.75063729e-01, -7.67054195e-01, -7.58923291e-01,\n",
       "        -7.50672305e-01, -7.42302542e-01, -7.33815325e-01,\n",
       "        -7.25211999e-01, -7.16493923e-01, -7.07662479e-01,\n",
       "        -6.98719062e-01, -6.89665089e-01, -6.80501991e-01,\n",
       "        -6.71231219e-01, -6.61854240e-01, -6.52372537e-01,\n",
       "        -6.42787610e-01, -6.33100976e-01, -6.23314168e-01,\n",
       "        -6.13428734e-01, -6.03446239e-01, -5.93368262e-01,\n",
       "        -5.83196397e-01, -5.72932255e-01, -5.62577458e-01,\n",
       "        -5.52133646e-01, -5.41602472e-01, -5.30985600e-01,\n",
       "        -5.20284712e-01, -5.09501500e-01, -4.98637671e-01,\n",
       "        -4.87694944e-01, -4.76675049e-01, -4.65579732e-01,\n",
       "        -4.54410746e-01, -4.43169861e-01, -4.31858853e-01,\n",
       "        -4.20479513e-01, -4.09033642e-01, -3.97523050e-01,\n",
       "        -3.85949559e-01, -3.74315000e-01, -3.62621214e-01,\n",
       "        -3.50870051e-01, -3.39063370e-01, -3.27203041e-01,\n",
       "        -3.15290939e-01, -3.03328948e-01, -2.91318963e-01,\n",
       "        -2.79262883e-01, -2.67162616e-01, -2.55020076e-01,\n",
       "        -2.42837185e-01, -2.30615871e-01, -2.18358066e-01,\n",
       "        -2.06065711e-01, -1.93740751e-01, -1.81385136e-01,\n",
       "        -1.69000820e-01, -1.56589764e-01, -1.44153931e-01,\n",
       "        -1.31695289e-01, -1.19215809e-01, -1.06717465e-01,\n",
       "        -9.42022363e-02, -8.16721019e-02, -6.91290446e-02,\n",
       "        -5.65750492e-02, -4.40121020e-02, -3.14421909e-02,\n",
       "        -1.88673048e-02, -6.28943332e-03,  6.28943332e-03,\n",
       "         1.88673048e-02,  3.14421909e-02,  4.40121020e-02,\n",
       "         5.65750492e-02,  6.91290446e-02,  8.16721019e-02,\n",
       "         9.42022363e-02,  1.06717465e-01,  1.19215809e-01,\n",
       "         1.31695289e-01,  1.44153931e-01,  1.56589764e-01,\n",
       "         1.69000820e-01,  1.81385136e-01,  1.93740751e-01,\n",
       "         2.06065711e-01,  2.18358066e-01,  2.30615871e-01,\n",
       "         2.42837185e-01,  2.55020076e-01,  2.67162616e-01,\n",
       "         2.79262883e-01,  2.91318963e-01,  3.03328948e-01,\n",
       "         3.15290939e-01,  3.27203041e-01,  3.39063370e-01,\n",
       "         3.50870051e-01,  3.62621214e-01,  3.74315000e-01,\n",
       "         3.85949559e-01,  3.97523050e-01,  4.09033642e-01,\n",
       "         4.20479513e-01,  4.31858853e-01,  4.43169861e-01,\n",
       "         4.54410746e-01,  4.65579732e-01,  4.76675049e-01,\n",
       "         4.87694944e-01,  4.98637671e-01,  5.09501500e-01,\n",
       "         5.20284712e-01,  5.30985600e-01,  5.41602472e-01,\n",
       "         5.52133646e-01,  5.62577458e-01,  5.72932255e-01,\n",
       "         5.83196397e-01,  5.93368262e-01,  6.03446239e-01,\n",
       "         6.13428734e-01,  6.23314168e-01,  6.33100976e-01,\n",
       "         6.42787610e-01,  6.52372537e-01,  6.61854240e-01,\n",
       "         6.71231219e-01,  6.80501991e-01,  6.89665089e-01,\n",
       "         6.98719062e-01,  7.07662479e-01,  7.16493923e-01,\n",
       "         7.25211999e-01,  7.33815325e-01,  7.42302542e-01,\n",
       "         7.50672305e-01,  7.58923291e-01,  7.67054195e-01,\n",
       "         7.75063729e-01,  7.82950626e-01,  7.90713639e-01,\n",
       "         7.98351539e-01,  8.05863117e-01,  8.13247185e-01,\n",
       "         8.20502575e-01,  8.27628139e-01,  8.34622748e-01,\n",
       "         8.41485297e-01,  8.48214700e-01,  8.54809891e-01,\n",
       "         8.61269828e-01,  8.67593488e-01,  8.73779870e-01,\n",
       "         8.79827996e-01,  8.85736908e-01,  8.91505673e-01,\n",
       "         8.97133376e-01,  9.02619128e-01,  9.07962060e-01,\n",
       "         9.13161327e-01,  9.18216107e-01,  9.23125599e-01,\n",
       "         9.27889027e-01,  9.32505637e-01,  9.36974699e-01,\n",
       "         9.41295506e-01,  9.45467373e-01,  9.49489640e-01,\n",
       "         9.53361672e-01,  9.57082856e-01,  9.60652602e-01,\n",
       "         9.64070347e-01,  9.67335548e-01,  9.70447691e-01,\n",
       "         9.73406281e-01,  9.76210851e-01,  9.78860957e-01,\n",
       "         9.81356181e-01,  9.83696126e-01,  9.85880423e-01,\n",
       "         9.87908727e-01,  9.89780716e-01,  9.91496094e-01,\n",
       "         9.93054589e-01,  9.94455956e-01,  9.95699972e-01,\n",
       "         9.96786440e-01,  9.97715189e-01,  9.98486072e-01,\n",
       "         9.99098966e-01,  9.99553775e-01,  9.99850427e-01,\n",
       "         9.99988874e-01,  9.99969096e-01,  9.99791094e-01,\n",
       "         9.99454898e-01,  9.98960560e-01,  9.98308158e-01,\n",
       "         9.97497797e-01,  9.96529603e-01,  9.95403731e-01,\n",
       "         9.94120357e-01,  9.92679687e-01,  9.91081947e-01,\n",
       "         9.89327390e-01,  9.87416293e-01,  9.85348960e-01,\n",
       "         9.83125718e-01,  9.80746917e-01,  9.78212935e-01,\n",
       "         9.75524172e-01,  9.72681055e-01,  9.69684032e-01,\n",
       "         9.66533578e-01,  9.63230191e-01,  9.59774394e-01,\n",
       "         9.56166735e-01,  9.52407783e-01,  9.48498134e-01,\n",
       "         9.44438405e-01,  9.40229241e-01,  9.35871306e-01,\n",
       "         9.31365289e-01,  9.26711905e-01,  9.21911890e-01,\n",
       "         9.16966002e-01,  9.11875024e-01,  9.06639763e-01,\n",
       "         9.01261046e-01,  8.95739724e-01,  8.90076671e-01,\n",
       "         8.84272783e-01,  8.78328979e-01,  8.72246198e-01,\n",
       "         8.66025404e-01,  8.59667580e-01,  8.53173733e-01,\n",
       "         8.46544890e-01,  8.39782100e-01,  8.32886434e-01,\n",
       "         8.25858981e-01,  8.18700854e-01,  8.11413186e-01,\n",
       "         8.03997130e-01,  7.96453860e-01,  7.88784567e-01,\n",
       "         7.80990468e-01,  7.73072793e-01,  7.65032797e-01,\n",
       "         7.56871752e-01,  7.48590948e-01,  7.40191697e-01,\n",
       "         7.31675326e-01,  7.23043184e-01,  7.14296636e-01,\n",
       "         7.05437067e-01,  6.96465878e-01,  6.87384489e-01,\n",
       "         6.78194336e-01,  6.68896874e-01,  6.59493574e-01,\n",
       "         6.49985923e-01,  6.40375427e-01,  6.30663605e-01,\n",
       "         6.20851995e-01,  6.10942149e-01,  6.00935634e-01,\n",
       "         5.90834035e-01,  5.80638949e-01,  5.70351991e-01,\n",
       "         5.59974786e-01,  5.49508978e-01,  5.38956222e-01,\n",
       "         5.28318189e-01,  5.17596560e-01,  5.06793034e-01,\n",
       "         4.95909319e-01,  4.84947137e-01,  4.73908223e-01,\n",
       "         4.62794323e-01,  4.51607196e-01,  4.40348613e-01,\n",
       "         4.29020354e-01,  4.17624212e-01,  4.06161991e-01,\n",
       "         3.94635503e-01,  3.83046573e-01,  3.71397034e-01,\n",
       "         3.59688730e-01,  3.47923513e-01,  3.36103245e-01,\n",
       "         3.24229795e-01,  3.12305044e-01,  3.00330878e-01,\n",
       "         2.88309190e-01,  2.76241884e-01,  2.64130869e-01,\n",
       "         2.51978061e-01,  2.39785383e-01,  2.27554765e-01,\n",
       "         2.15288141e-01,  2.02987452e-01,  1.90654645e-01,\n",
       "         1.78291671e-01,  1.65900487e-01,  1.53483052e-01,\n",
       "         1.41041332e-01,  1.28577295e-01,  1.16092914e-01,\n",
       "         1.03590164e-01,  9.10710227e-02,  7.85374716e-02,\n",
       "         6.59914936e-02,  5.34350740e-02,  4.08701994e-02,\n",
       "         2.82988581e-02,  1.57230391e-02,  3.14473221e-03,\n",
       "        -9.43407223e-03, -2.20113839e-02, -3.45852128e-02,\n",
       "        -4.71535694e-02, -5.97144649e-02, -7.22659119e-02,\n",
       "        -8.48059245e-02, -9.73325184e-02, -1.09843712e-01,\n",
       "        -1.22337524e-01, -1.34811980e-01, -1.47265105e-01,\n",
       "        -1.59694928e-01, -1.72099483e-01, -1.84476807e-01,\n",
       "        -1.96824941e-01, -2.09141933e-01, -2.21425832e-01,\n",
       "        -2.33674696e-01, -2.45886586e-01, -2.58059569e-01,\n",
       "        -2.70191721e-01, -2.82281120e-01, -2.94325855e-01,\n",
       "        -3.06324020e-01, -3.18273715e-01, -3.30173050e-01,\n",
       "        -3.42020143e-01, -3.53813119e-01, -3.65550112e-01,\n",
       "        -3.77229264e-01, -3.88848729e-01, -4.00406666e-01,\n",
       "        -4.11901248e-01, -4.23330656e-01, -4.34693081e-01,\n",
       "        -4.45986726e-01, -4.57209803e-01, -4.68360536e-01,\n",
       "        -4.79437162e-01, -4.90437928e-01, -5.01361093e-01,\n",
       "        -5.12204928e-01, -5.22967718e-01, -5.33647760e-01,\n",
       "        -5.44243365e-01, -5.54752854e-01, -5.65174567e-01,\n",
       "        -5.75506853e-01, -5.85748078e-01, -5.95896621e-01,\n",
       "        -6.05950876e-01, -6.15909254e-01, -6.25770177e-01,\n",
       "        -6.35532086e-01, -6.45193436e-01, -6.54752698e-01,\n",
       "        -6.64208361e-01, -6.73558927e-01, -6.82802917e-01,\n",
       "        -6.91938869e-01, -7.00965337e-01, -7.09880892e-01,\n",
       "        -7.18684125e-01, -7.27373642e-01, -7.35948067e-01,\n",
       "        -7.44406046e-01, -7.52746238e-01, -7.60967326e-01,\n",
       "        -7.69068007e-01, -7.77046999e-01, -7.84903042e-01,\n",
       "        -7.92634891e-01, -8.00241323e-01, -8.07721134e-01,\n",
       "        -8.15073141e-01, -8.22296182e-01, -8.29389112e-01,\n",
       "        -8.36350809e-01, -8.43180172e-01, -8.49876121e-01,\n",
       "        -8.56437596e-01, -8.62863558e-01, -8.69152992e-01,\n",
       "        -8.75304901e-01, -8.81318312e-01, -8.87192274e-01,\n",
       "        -8.92925858e-01, -8.98518156e-01, -9.03968283e-01,\n",
       "        -9.09275378e-01, -9.14438599e-01, -9.19457131e-01,\n",
       "        -9.24330180e-01, -9.29056973e-01, -9.33636764e-01,\n",
       "        -9.38068827e-01, -9.42352462e-01, -9.46486990e-01,\n",
       "        -9.50471757e-01, -9.54306134e-01, -9.57989512e-01,\n",
       "        -9.61521310e-01, -9.64900969e-01, -9.68127953e-01,\n",
       "        -9.71201752e-01, -9.74121880e-01, -9.76887875e-01,\n",
       "        -9.79499299e-01, -9.81955739e-01, -9.84256806e-01,\n",
       "        -9.86402137e-01, -9.88391391e-01, -9.90224253e-01,\n",
       "        -9.91900435e-01, -9.93419671e-01, -9.94781719e-01,\n",
       "        -9.95986366e-01, -9.97033420e-01, -9.97922715e-01,\n",
       "        -9.98654111e-01, -9.99227492e-01, -9.99642768e-01,\n",
       "        -9.99899872e-01, -9.99998764e-01, -9.99939428e-01,\n",
       "        -9.99721874e-01, -9.99346136e-01, -9.98812274e-01,\n",
       "        -9.98120372e-01, -9.97270539e-01, -9.96262911e-01,\n",
       "        -9.95097645e-01, -9.93774928e-01, -9.92294968e-01,\n",
       "        -9.90657999e-01, -9.88864280e-01, -9.86914095e-01,\n",
       "        -9.84807753e-01, -9.82545587e-01, -9.80127955e-01,\n",
       "        -9.77555239e-01, -9.74827847e-01, -9.71946209e-01,\n",
       "        -9.68910783e-01, -9.65722048e-01, -9.62380509e-01,\n",
       "        -9.58886695e-01, -9.55241158e-01, -9.51444475e-01,\n",
       "        -9.47497247e-01, -9.43400098e-01, -9.39153678e-01,\n",
       "        -9.34758657e-01, -9.30215731e-01, -9.25525619e-01,\n",
       "        -9.20689063e-01, -9.15706829e-01, -9.10579704e-01,\n",
       "        -9.05308500e-01, -8.99894051e-01, -8.94337213e-01,\n",
       "        -8.88638867e-01, -8.82799913e-01, -8.76821275e-01,\n",
       "        -8.70703900e-01, -8.64448755e-01, -8.58056831e-01,\n",
       "        -8.51529138e-01, -8.44866709e-01, -8.38070599e-01,\n",
       "        -8.31141882e-01, -8.24081656e-01, -8.16891037e-01,\n",
       "        -8.09571163e-01, -8.02123193e-01, -7.94548304e-01,\n",
       "        -7.86847695e-01, -7.79022586e-01, -7.71074213e-01,\n",
       "        -7.63003834e-01, -7.54812728e-01, -7.46502188e-01,\n",
       "        -7.38073532e-01, -7.29528091e-01, -7.20867219e-01,\n",
       "        -7.12092285e-01, -7.03204679e-01, -6.94205806e-01,\n",
       "        -6.85097090e-01, -6.75879973e-01, -6.66555913e-01,\n",
       "        -6.57126385e-01, -6.47592882e-01, -6.37956911e-01,\n",
       "        -6.28219997e-01, -6.18383682e-01, -6.08449521e-01,\n",
       "        -5.98419086e-01, -5.88293965e-01, -5.78075760e-01,\n",
       "        -5.67766086e-01, -5.57366576e-01, -5.46878875e-01,\n",
       "        -5.36304643e-01, -5.25645553e-01, -5.14903290e-01,\n",
       "        -5.04079556e-01, -4.93176062e-01, -4.82194534e-01,\n",
       "        -4.71136709e-01, -4.60004337e-01, -4.48799180e-01,\n",
       "        -4.37523010e-01, -4.26177612e-01, -4.14764781e-01,\n",
       "        -4.03286322e-01, -3.91744053e-01, -3.80139798e-01,\n",
       "        -3.68475395e-01, -3.56752688e-01, -3.44973534e-01,\n",
       "        -3.33139795e-01, -3.21253344e-01, -3.09316061e-01,\n",
       "        -2.97329837e-01, -2.85296566e-01, -2.73218154e-01,\n",
       "        -2.61096510e-01, -2.48933554e-01, -2.36731210e-01,\n",
       "        -2.24491409e-01, -2.12216086e-01, -1.99907185e-01,\n",
       "        -1.87566653e-01, -1.75196443e-01, -1.62798512e-01,\n",
       "        -1.50374822e-01, -1.37927338e-01, -1.25458030e-01,\n",
       "        -1.12968871e-01, -1.00461838e-01, -8.79389084e-02,\n",
       "        -7.54020646e-02, -6.28532900e-02, -5.02945704e-02,\n",
       "        -3.77278927e-02, -2.51552454e-02, -1.25786178e-02,\n",
       "        -4.89858720e-16]])"
      ]
     },
     "execution_count": 15,
     "metadata": {},
     "output_type": "execute_result"
    }
   ],
   "source": [
    "X"
   ]
  },
  {
   "cell_type": "code",
   "execution_count": 16,
   "metadata": {},
   "outputs": [
    {
     "data": {
      "text/plain": [
       "array([ 0.        ,  0.01257895,  0.0251579 ,  0.03773685,  0.0503158 ,\n",
       "        0.06289475,  0.0754737 ,  0.08805265,  0.1006316 ,  0.11321055,\n",
       "        0.1257895 ,  0.13836845,  0.15094739,  0.16352634,  0.17610529,\n",
       "        0.18868424,  0.20126319,  0.21384214,  0.22642109,  0.23900004,\n",
       "        0.25157899,  0.26415794,  0.27673689,  0.28931584,  0.30189479,\n",
       "        0.31447374,  0.32705269,  0.33963164,  0.35221059,  0.36478954,\n",
       "        0.37736849,  0.38994744,  0.40252639,  0.41510534,  0.42768429,\n",
       "        0.44026323,  0.45284218,  0.46542113,  0.47800008,  0.49057903,\n",
       "        0.50315798,  0.51573693,  0.52831588,  0.54089483,  0.55347378,\n",
       "        0.56605273,  0.57863168,  0.59121063,  0.60378958,  0.61636853,\n",
       "        0.62894748,  0.64152643,  0.65410538,  0.66668433,  0.67926328,\n",
       "        0.69184223,  0.70442118,  0.71700013,  0.72957907,  0.74215802,\n",
       "        0.75473697,  0.76731592,  0.77989487,  0.79247382,  0.80505277,\n",
       "        0.81763172,  0.83021067,  0.84278962,  0.85536857,  0.86794752,\n",
       "        0.88052647,  0.89310542,  0.90568437,  0.91826332,  0.93084227,\n",
       "        0.94342122,  0.95600017,  0.96857912,  0.98115807,  0.99373702,\n",
       "        1.00631597,  1.01889491,  1.03147386,  1.04405281,  1.05663176,\n",
       "        1.06921071,  1.08178966,  1.09436861,  1.10694756,  1.11952651,\n",
       "        1.13210546,  1.14468441,  1.15726336,  1.16984231,  1.18242126,\n",
       "        1.19500021,  1.20757916,  1.22015811,  1.23273706,  1.24531601,\n",
       "        1.25789496,  1.27047391,  1.28305286,  1.29563181,  1.30821075,\n",
       "        1.3207897 ,  1.33336865,  1.3459476 ,  1.35852655,  1.3711055 ,\n",
       "        1.38368445,  1.3962634 ,  1.40884235,  1.4214213 ,  1.43400025,\n",
       "        1.4465792 ,  1.45915815,  1.4717371 ,  1.48431605,  1.496895  ,\n",
       "        1.50947395,  1.5220529 ,  1.53463185,  1.5472108 ,  1.55978975,\n",
       "        1.5723687 ,  1.58494765,  1.59752659,  1.61010554,  1.62268449,\n",
       "        1.63526344,  1.64784239,  1.66042134,  1.67300029,  1.68557924,\n",
       "        1.69815819,  1.71073714,  1.72331609,  1.73589504,  1.74847399,\n",
       "        1.76105294,  1.77363189,  1.78621084,  1.79878979,  1.81136874,\n",
       "        1.82394769,  1.83652664,  1.84910559,  1.86168454,  1.87426349,\n",
       "        1.88684243,  1.89942138,  1.91200033,  1.92457928,  1.93715823,\n",
       "        1.94973718,  1.96231613,  1.97489508,  1.98747403,  2.00005298,\n",
       "        2.01263193,  2.02521088,  2.03778983,  2.05036878,  2.06294773,\n",
       "        2.07552668,  2.08810563,  2.10068458,  2.11326353,  2.12584248,\n",
       "        2.13842143,  2.15100038,  2.16357932,  2.17615827,  2.18873722,\n",
       "        2.20131617,  2.21389512,  2.22647407,  2.23905302,  2.25163197,\n",
       "        2.26421092,  2.27678987,  2.28936882,  2.30194777,  2.31452672,\n",
       "        2.32710567,  2.33968462,  2.35226357,  2.36484252,  2.37742147,\n",
       "        2.39000042,  2.40257937,  2.41515832,  2.42773727,  2.44031622,\n",
       "        2.45289516,  2.46547411,  2.47805306,  2.49063201,  2.50321096,\n",
       "        2.51578991,  2.52836886,  2.54094781,  2.55352676,  2.56610571,\n",
       "        2.57868466,  2.59126361,  2.60384256,  2.61642151,  2.62900046,\n",
       "        2.64157941,  2.65415836,  2.66673731,  2.67931626,  2.69189521,\n",
       "        2.70447416,  2.71705311,  2.72963206,  2.742211  ,  2.75478995,\n",
       "        2.7673689 ,  2.77994785,  2.7925268 ,  2.80510575,  2.8176847 ,\n",
       "        2.83026365,  2.8428426 ,  2.85542155,  2.8680005 ,  2.88057945,\n",
       "        2.8931584 ,  2.90573735,  2.9183163 ,  2.93089525,  2.9434742 ,\n",
       "        2.95605315,  2.9686321 ,  2.98121105,  2.99379   ,  3.00636895,\n",
       "        3.0189479 ,  3.03152684,  3.04410579,  3.05668474,  3.06926369,\n",
       "        3.08184264,  3.09442159,  3.10700054,  3.11957949,  3.13215844,\n",
       "        3.14473739,  3.15731634,  3.16989529,  3.18247424,  3.19505319,\n",
       "        3.20763214,  3.22021109,  3.23279004,  3.24536899,  3.25794794,\n",
       "        3.27052689,  3.28310584,  3.29568479,  3.30826374,  3.32084268,\n",
       "        3.33342163,  3.34600058,  3.35857953,  3.37115848,  3.38373743,\n",
       "        3.39631638,  3.40889533,  3.42147428,  3.43405323,  3.44663218,\n",
       "        3.45921113,  3.47179008,  3.48436903,  3.49694798,  3.50952693,\n",
       "        3.52210588,  3.53468483,  3.54726378,  3.55984273,  3.57242168,\n",
       "        3.58500063,  3.59757958,  3.61015852,  3.62273747,  3.63531642,\n",
       "        3.64789537,  3.66047432,  3.67305327,  3.68563222,  3.69821117,\n",
       "        3.71079012,  3.72336907,  3.73594802,  3.74852697,  3.76110592,\n",
       "        3.77368487,  3.78626382,  3.79884277,  3.81142172,  3.82400067,\n",
       "        3.83657962,  3.84915857,  3.86173752,  3.87431647,  3.88689542,\n",
       "        3.89947436,  3.91205331,  3.92463226,  3.93721121,  3.94979016,\n",
       "        3.96236911,  3.97494806,  3.98752701,  4.00010596,  4.01268491,\n",
       "        4.02526386,  4.03784281,  4.05042176,  4.06300071,  4.07557966,\n",
       "        4.08815861,  4.10073756,  4.11331651,  4.12589546,  4.13847441,\n",
       "        4.15105336,  4.16363231,  4.17621126,  4.1887902 ,  4.20136915,\n",
       "        4.2139481 ,  4.22652705,  4.239106  ,  4.25168495,  4.2642639 ,\n",
       "        4.27684285,  4.2894218 ,  4.30200075,  4.3145797 ,  4.32715865,\n",
       "        4.3397376 ,  4.35231655,  4.3648955 ,  4.37747445,  4.3900534 ,\n",
       "        4.40263235,  4.4152113 ,  4.42779025,  4.4403692 ,  4.45294815,\n",
       "        4.4655271 ,  4.47810604,  4.49068499,  4.50326394,  4.51584289,\n",
       "        4.52842184,  4.54100079,  4.55357974,  4.56615869,  4.57873764,\n",
       "        4.59131659,  4.60389554,  4.61647449,  4.62905344,  4.64163239,\n",
       "        4.65421134,  4.66679029,  4.67936924,  4.69194819,  4.70452714,\n",
       "        4.71710609,  4.72968504,  4.74226399,  4.75484294,  4.76742188,\n",
       "        4.78000083,  4.79257978,  4.80515873,  4.81773768,  4.83031663,\n",
       "        4.84289558,  4.85547453,  4.86805348,  4.88063243,  4.89321138,\n",
       "        4.90579033,  4.91836928,  4.93094823,  4.94352718,  4.95610613,\n",
       "        4.96868508,  4.98126403,  4.99384298,  5.00642193,  5.01900088,\n",
       "        5.03157983,  5.04415878,  5.05673772,  5.06931667,  5.08189562,\n",
       "        5.09447457,  5.10705352,  5.11963247,  5.13221142,  5.14479037,\n",
       "        5.15736932,  5.16994827,  5.18252722,  5.19510617,  5.20768512,\n",
       "        5.22026407,  5.23284302,  5.24542197,  5.25800092,  5.27057987,\n",
       "        5.28315882,  5.29573777,  5.30831672,  5.32089567,  5.33347462,\n",
       "        5.34605356,  5.35863251,  5.37121146,  5.38379041,  5.39636936,\n",
       "        5.40894831,  5.42152726,  5.43410621,  5.44668516,  5.45926411,\n",
       "        5.47184306,  5.48442201,  5.49700096,  5.50957991,  5.52215886,\n",
       "        5.53473781,  5.54731676,  5.55989571,  5.57247466,  5.58505361,\n",
       "        5.59763256,  5.61021151,  5.62279046,  5.6353694 ,  5.64794835,\n",
       "        5.6605273 ,  5.67310625,  5.6856852 ,  5.69826415,  5.7108431 ,\n",
       "        5.72342205,  5.736001  ,  5.74857995,  5.7611589 ,  5.77373785,\n",
       "        5.7863168 ,  5.79889575,  5.8114747 ,  5.82405365,  5.8366326 ,\n",
       "        5.84921155,  5.8617905 ,  5.87436945,  5.8869484 ,  5.89952735,\n",
       "        5.9121063 ,  5.92468524,  5.93726419,  5.94984314,  5.96242209,\n",
       "        5.97500104,  5.98757999,  6.00015894,  6.01273789,  6.02531684,\n",
       "        6.03789579,  6.05047474,  6.06305369,  6.07563264,  6.08821159,\n",
       "        6.10079054,  6.11336949,  6.12594844,  6.13852739,  6.15110634,\n",
       "        6.16368529,  6.17626424,  6.18884319,  6.20142214,  6.21400108,\n",
       "        6.22658003,  6.23915898,  6.25173793,  6.26431688,  6.27689583,\n",
       "        6.28947478,  6.30205373,  6.31463268,  6.32721163,  6.33979058,\n",
       "        6.35236953,  6.36494848,  6.37752743,  6.39010638,  6.40268533,\n",
       "        6.41526428,  6.42784323,  6.44042218,  6.45300113,  6.46558008,\n",
       "        6.47815903,  6.49073797,  6.50331692,  6.51589587,  6.52847482,\n",
       "        6.54105377,  6.55363272,  6.56621167,  6.57879062,  6.59136957,\n",
       "        6.60394852,  6.61652747,  6.62910642,  6.64168537,  6.65426432,\n",
       "        6.66684327,  6.67942222,  6.69200117,  6.70458012,  6.71715907,\n",
       "        6.72973802,  6.74231697,  6.75489592,  6.76747487,  6.78005381,\n",
       "        6.79263276,  6.80521171,  6.81779066,  6.83036961,  6.84294856,\n",
       "        6.85552751,  6.86810646,  6.88068541,  6.89326436,  6.90584331,\n",
       "        6.91842226,  6.93100121,  6.94358016,  6.95615911,  6.96873806,\n",
       "        6.98131701,  6.99389596,  7.00647491,  7.01905386,  7.03163281,\n",
       "        7.04421176,  7.05679071,  7.06936965,  7.0819486 ,  7.09452755,\n",
       "        7.1071065 ,  7.11968545,  7.1322644 ,  7.14484335,  7.1574223 ,\n",
       "        7.17000125,  7.1825802 ,  7.19515915,  7.2077381 ,  7.22031705,\n",
       "        7.232896  ,  7.24547495,  7.2580539 ,  7.27063285,  7.2832118 ,\n",
       "        7.29579075,  7.3083697 ,  7.32094865,  7.3335276 ,  7.34610655,\n",
       "        7.35868549,  7.37126444,  7.38384339,  7.39642234,  7.40900129,\n",
       "        7.42158024,  7.43415919,  7.44673814,  7.45931709,  7.47189604,\n",
       "        7.48447499,  7.49705394,  7.50963289,  7.52221184,  7.53479079,\n",
       "        7.54736974,  7.55994869,  7.57252764,  7.58510659,  7.59768554,\n",
       "        7.61026449,  7.62284344,  7.63542239,  7.64800133,  7.66058028,\n",
       "        7.67315923,  7.68573818,  7.69831713,  7.71089608,  7.72347503,\n",
       "        7.73605398,  7.74863293,  7.76121188,  7.77379083,  7.78636978,\n",
       "        7.79894873,  7.81152768,  7.82410663,  7.83668558,  7.84926453,\n",
       "        7.86184348,  7.87442243,  7.88700138,  7.89958033,  7.91215928,\n",
       "        7.92473823,  7.93731717,  7.94989612,  7.96247507,  7.97505402,\n",
       "        7.98763297,  8.00021192,  8.01279087,  8.02536982,  8.03794877,\n",
       "        8.05052772,  8.06310667,  8.07568562,  8.08826457,  8.10084352,\n",
       "        8.11342247,  8.12600142,  8.13858037,  8.15115932,  8.16373827,\n",
       "        8.17631722,  8.18889617,  8.20147512,  8.21405407,  8.22663301,\n",
       "        8.23921196,  8.25179091,  8.26436986,  8.27694881,  8.28952776,\n",
       "        8.30210671,  8.31468566,  8.32726461,  8.33984356,  8.35242251,\n",
       "        8.36500146,  8.37758041,  8.39015936,  8.40273831,  8.41531726,\n",
       "        8.42789621,  8.44047516,  8.45305411,  8.46563306,  8.47821201,\n",
       "        8.49079096,  8.50336991,  8.51594885,  8.5285278 ,  8.54110675,\n",
       "        8.5536857 ,  8.56626465,  8.5788436 ,  8.59142255,  8.6040015 ,\n",
       "        8.61658045,  8.6291594 ,  8.64173835,  8.6543173 ,  8.66689625,\n",
       "        8.6794752 ,  8.69205415,  8.7046331 ,  8.71721205,  8.729791  ,\n",
       "        8.74236995,  8.7549489 ,  8.76752785,  8.7801068 ,  8.79268575,\n",
       "        8.80526469,  8.81784364,  8.83042259,  8.84300154,  8.85558049,\n",
       "        8.86815944,  8.88073839,  8.89331734,  8.90589629,  8.91847524,\n",
       "        8.93105419,  8.94363314,  8.95621209,  8.96879104,  8.98136999,\n",
       "        8.99394894,  9.00652789,  9.01910684,  9.03168579,  9.04426474,\n",
       "        9.05684369,  9.06942264,  9.08200159,  9.09458053,  9.10715948,\n",
       "        9.11973843,  9.13231738,  9.14489633,  9.15747528,  9.17005423,\n",
       "        9.18263318,  9.19521213,  9.20779108,  9.22037003,  9.23294898,\n",
       "        9.24552793,  9.25810688,  9.27068583,  9.28326478,  9.29584373,\n",
       "        9.30842268,  9.32100163,  9.33358058,  9.34615953,  9.35873848,\n",
       "        9.37131743,  9.38389637,  9.39647532,  9.40905427,  9.42163322,\n",
       "        9.43421217,  9.44679112,  9.45937007,  9.47194902,  9.48452797,\n",
       "        9.49710692,  9.50968587,  9.52226482,  9.53484377,  9.54742272,\n",
       "        9.56000167,  9.57258062,  9.58515957,  9.59773852,  9.61031747,\n",
       "        9.62289642,  9.63547537,  9.64805432,  9.66063327,  9.67321221,\n",
       "        9.68579116,  9.69837011,  9.71094906,  9.72352801,  9.73610696,\n",
       "        9.74868591,  9.76126486,  9.77384381,  9.78642276,  9.79900171,\n",
       "        9.81158066,  9.82415961,  9.83673856,  9.84931751,  9.86189646,\n",
       "        9.87447541,  9.88705436,  9.89963331,  9.91221226,  9.92479121,\n",
       "        9.93737016,  9.94994911,  9.96252805,  9.975107  ,  9.98768595,\n",
       "       10.0002649 , 10.01284385, 10.0254228 , 10.03800175, 10.0505807 ,\n",
       "       10.06315965, 10.0757386 , 10.08831755, 10.1008965 , 10.11347545,\n",
       "       10.1260544 , 10.13863335, 10.1512123 , 10.16379125, 10.1763702 ,\n",
       "       10.18894915, 10.2015281 , 10.21410705, 10.226686  , 10.23926495,\n",
       "       10.25184389, 10.26442284, 10.27700179, 10.28958074, 10.30215969,\n",
       "       10.31473864, 10.32731759, 10.33989654, 10.35247549, 10.36505444,\n",
       "       10.37763339, 10.39021234, 10.40279129, 10.41537024, 10.42794919,\n",
       "       10.44052814, 10.45310709, 10.46568604, 10.47826499, 10.49084394,\n",
       "       10.50342289, 10.51600184, 10.52858079, 10.54115973, 10.55373868,\n",
       "       10.56631763, 10.57889658, 10.59147553, 10.60405448, 10.61663343,\n",
       "       10.62921238, 10.64179133, 10.65437028, 10.66694923, 10.67952818,\n",
       "       10.69210713, 10.70468608, 10.71726503, 10.72984398, 10.74242293,\n",
       "       10.75500188, 10.76758083, 10.78015978, 10.79273873, 10.80531768,\n",
       "       10.81789662, 10.83047557, 10.84305452, 10.85563347, 10.86821242,\n",
       "       10.88079137, 10.89337032, 10.90594927, 10.91852822, 10.93110717,\n",
       "       10.94368612, 10.95626507, 10.96884402, 10.98142297, 10.99400192,\n",
       "       11.00658087, 11.01915982, 11.03173877, 11.04431772, 11.05689667,\n",
       "       11.06947562, 11.08205457, 11.09463352, 11.10721246, 11.11979141,\n",
       "       11.13237036, 11.14494931, 11.15752826, 11.17010721, 11.18268616,\n",
       "       11.19526511, 11.20784406, 11.22042301, 11.23300196, 11.24558091,\n",
       "       11.25815986, 11.27073881, 11.28331776, 11.29589671, 11.30847566,\n",
       "       11.32105461, 11.33363356, 11.34621251, 11.35879146, 11.37137041,\n",
       "       11.38394936, 11.3965283 , 11.40910725, 11.4216862 , 11.43426515,\n",
       "       11.4468441 , 11.45942305, 11.472002  , 11.48458095, 11.4971599 ,\n",
       "       11.50973885, 11.5223178 , 11.53489675, 11.5474757 , 11.56005465,\n",
       "       11.5726336 , 11.58521255, 11.5977915 , 11.61037045, 11.6229494 ,\n",
       "       11.63552835, 11.6481073 , 11.66068625, 11.6732652 , 11.68584414,\n",
       "       11.69842309, 11.71100204, 11.72358099, 11.73615994, 11.74873889,\n",
       "       11.76131784, 11.77389679, 11.78647574, 11.79905469, 11.81163364,\n",
       "       11.82421259, 11.83679154, 11.84937049, 11.86194944, 11.87452839,\n",
       "       11.88710734, 11.89968629, 11.91226524, 11.92484419, 11.93742314,\n",
       "       11.95000209, 11.96258104, 11.97515998, 11.98773893, 12.00031788,\n",
       "       12.01289683, 12.02547578, 12.03805473, 12.05063368, 12.06321263,\n",
       "       12.07579158, 12.08837053, 12.10094948, 12.11352843, 12.12610738,\n",
       "       12.13868633, 12.15126528, 12.16384423, 12.17642318, 12.18900213,\n",
       "       12.20158108, 12.21416003, 12.22673898, 12.23931793, 12.25189688,\n",
       "       12.26447582, 12.27705477, 12.28963372, 12.30221267, 12.31479162,\n",
       "       12.32737057, 12.33994952, 12.35252847, 12.36510742, 12.37768637,\n",
       "       12.39026532, 12.40284427, 12.41542322, 12.42800217, 12.44058112,\n",
       "       12.45316007, 12.46573902, 12.47831797, 12.49089692, 12.50347587,\n",
       "       12.51605482, 12.52863377, 12.54121272, 12.55379166, 12.56637061])"
      ]
     },
     "execution_count": 16,
     "metadata": {},
     "output_type": "execute_result"
    }
   ],
   "source": [
    "time_points "
   ]
  },
  {
   "cell_type": "code",
   "execution_count": 17,
   "metadata": {},
   "outputs": [],
   "source": [
    "gasf = GramianAngularField(method='summation')\n",
    "X_gasf = gasf.fit_transform(X)"
   ]
  },
  {
   "cell_type": "code",
   "execution_count": 18,
   "metadata": {},
   "outputs": [
    {
     "data": {
      "text/plain": [
       "array([[[-1.        , -0.99992089, -0.99968356, ..., -0.99968356,\n",
       "         -0.99992089, -1.        ],\n",
       "        [-0.99992089, -0.99968356, -0.99928805, ..., -0.99992089,\n",
       "         -1.        , -0.99992089],\n",
       "        [-0.99968356, -0.99928805, -0.99873442, ..., -1.        ,\n",
       "         -0.99992089, -0.99968356],\n",
       "        ...,\n",
       "        [-0.99968356, -0.99992089, -1.        , ..., -0.99873442,\n",
       "         -0.99928805, -0.99968356],\n",
       "        [-0.99992089, -1.        , -0.99992089, ..., -0.99928805,\n",
       "         -0.99968356, -0.99992089],\n",
       "        [-1.        , -0.99992089, -0.99968356, ..., -0.99968356,\n",
       "         -0.99992089, -1.        ]]])"
      ]
     },
     "execution_count": 18,
     "metadata": {},
     "output_type": "execute_result"
    }
   ],
   "source": [
    "X_gasf "
   ]
  },
  {
   "cell_type": "markdown",
   "metadata": {},
   "source": [
    "* fridge in buliding 1"
   ]
  },
  {
   "cell_type": "code",
   "execution_count": 27,
   "metadata": {},
   "outputs": [
    {
     "name": "stdout",
     "output_type": "stream",
     "text": [
      "Loading data for meter ElecMeterID(instance=5, building=1, dataset='REDD')     \n",
      "Done loading data all meters for this chunk.\n"
     ]
    }
   ],
   "source": [
    "#choose the time frame 2011-04-18 09:22:13-04:00 - 2011-05-03 17:33:17-04:00\n",
    "time_frame  = REEDD_fridges_all.select(building=1).power_series_all_data()['2011-04-18 09:22:13-04:00':'2011-04-19 09:22:13-04:00'].resample('10S').pad()"
   ]
  },
  {
   "cell_type": "code",
   "execution_count": 28,
   "metadata": {},
   "outputs": [
    {
     "data": {
      "text/plain": [
       "2011-04-18 09:22:10-04:00    NaN\n",
       "2011-04-18 09:22:20-04:00    6.0\n",
       "2011-04-18 09:22:30-04:00    6.0\n",
       "2011-04-18 09:22:40-04:00    6.0\n",
       "2011-04-18 09:22:50-04:00    6.0\n",
       "                            ... \n",
       "2011-04-19 09:21:30-04:00    6.0\n",
       "2011-04-19 09:21:40-04:00    7.0\n",
       "2011-04-19 09:21:50-04:00    7.0\n",
       "2011-04-19 09:22:00-04:00    6.0\n",
       "2011-04-19 09:22:10-04:00    6.0\n",
       "Freq: 10S, Name: (power, active), Length: 8641, dtype: float32"
      ]
     },
     "execution_count": 28,
     "metadata": {},
     "output_type": "execute_result"
    }
   ],
   "source": [
    "time_frame "
   ]
  },
  {
   "cell_type": "code",
   "execution_count": 29,
   "metadata": {},
   "outputs": [
    {
     "data": {
      "image/png": "[encoded data removed]",
      "text/plain": [
       "<Figure size 432x288 with 1 Axes>"
      ]
     },
     "metadata": {
      "needs_background": "light"
     },
     "output_type": "display_data"
    }
   ],
   "source": [
    "plt.figure()\n",
    "plt.plot(time_frame)\n",
    "plt.show()"
   ]
  },
  {
   "cell_type": "code",
   "execution_count": 30,
   "metadata": {},
   "outputs": [],
   "source": [
    "timeframe_prepocess = time_frame.fillna(0)"
   ]
  },
  {
   "cell_type": "code",
   "execution_count": 31,
   "metadata": {},
   "outputs": [
    {
     "data": {
      "text/plain": [
       "2011-04-18 09:22:10-04:00    0.0\n",
       "2011-04-18 09:22:20-04:00    6.0\n",
       "2011-04-18 09:22:30-04:00    6.0\n",
       "2011-04-18 09:22:40-04:00    6.0\n",
       "2011-04-18 09:22:50-04:00    6.0\n",
       "                            ... \n",
       "2011-04-19 09:21:30-04:00    6.0\n",
       "2011-04-19 09:21:40-04:00    7.0\n",
       "2011-04-19 09:21:50-04:00    7.0\n",
       "2011-04-19 09:22:00-04:00    6.0\n",
       "2011-04-19 09:22:10-04:00    6.0\n",
       "Freq: 10S, Name: (power, active), Length: 8641, dtype: float32"
      ]
     },
     "execution_count": 31,
     "metadata": {},
     "output_type": "execute_result"
    }
   ],
   "source": [
    "timeframe_prepocess "
   ]
  },
  {
   "cell_type": "code",
   "execution_count": 32,
   "metadata": {},
   "outputs": [
    {
     "data": {
      "image/png": "[encoded data removed]",
      "text/plain": [
       "<Figure size 432x288 with 1 Axes>"
      ]
     },
     "metadata": {
      "needs_background": "light"
     },
     "output_type": "display_data"
    }
   ],
   "source": [
    "plt.figure()\n",
    "plt.plot(timeframe_prepocess)\n",
    "plt.show()"
   ]
  },
  {
   "cell_type": "code",
   "execution_count": 33,
   "metadata": {},
   "outputs": [],
   "source": [
    "timeframe_prepocess = pd.DataFrame(timeframe_prepocess)"
   ]
  },
  {
   "cell_type": "code",
   "execution_count": 34,
   "metadata": {},
   "outputs": [
    {
     "data": {
      "text/html": [
       "<div>\n",
       "<style scoped>\n",
       "    .dataframe tbody tr th:only-of-type {\n",
       "        vertical-align: middle;\n",
       "    }\n",
       "\n",
       "    .dataframe tbody tr th {\n",
       "        vertical-align: top;\n",
       "    }\n",
       "\n",
       "    .dataframe thead tr th {\n",
       "        text-align: left;\n",
       "    }\n",
       "</style>\n",
       "<table border=\"1\" class=\"dataframe\">\n",
       "  <thead>\n",
       "    <tr>\n",
       "      <th></th>\n",
       "      <th>power</th>\n",
       "    </tr>\n",
       "    <tr>\n",
       "      <th></th>\n",
       "      <th>active</th>\n",
       "    </tr>\n",
       "  </thead>\n",
       "  <tbody>\n",
       "    <tr>\n",
       "      <th>2011-04-18 09:22:10-04:00</th>\n",
       "      <td>0.0</td>\n",
       "    </tr>\n",
       "    <tr>\n",
       "      <th>2011-04-18 09:22:20-04:00</th>\n",
       "      <td>6.0</td>\n",
       "    </tr>\n",
       "    <tr>\n",
       "      <th>2011-04-18 09:22:30-04:00</th>\n",
       "      <td>6.0</td>\n",
       "    </tr>\n",
       "    <tr>\n",
       "      <th>2011-04-18 09:22:40-04:00</th>\n",
       "      <td>6.0</td>\n",
       "    </tr>\n",
       "    <tr>\n",
       "      <th>2011-04-18 09:22:50-04:00</th>\n",
       "      <td>6.0</td>\n",
       "    </tr>\n",
       "    <tr>\n",
       "      <th>...</th>\n",
       "      <td>...</td>\n",
       "    </tr>\n",
       "    <tr>\n",
       "      <th>2011-04-19 09:21:30-04:00</th>\n",
       "      <td>6.0</td>\n",
       "    </tr>\n",
       "    <tr>\n",
       "      <th>2011-04-19 09:21:40-04:00</th>\n",
       "      <td>7.0</td>\n",
       "    </tr>\n",
       "    <tr>\n",
       "      <th>2011-04-19 09:21:50-04:00</th>\n",
       "      <td>7.0</td>\n",
       "    </tr>\n",
       "    <tr>\n",
       "      <th>2011-04-19 09:22:00-04:00</th>\n",
       "      <td>6.0</td>\n",
       "    </tr>\n",
       "    <tr>\n",
       "      <th>2011-04-19 09:22:10-04:00</th>\n",
       "      <td>6.0</td>\n",
       "    </tr>\n",
       "  </tbody>\n",
       "</table>\n",
       "<p>8641 rows × 1 columns</p>\n",
       "</div>"
      ],
      "text/plain": [
       "                           power\n",
       "                          active\n",
       "2011-04-18 09:22:10-04:00    0.0\n",
       "2011-04-18 09:22:20-04:00    6.0\n",
       "2011-04-18 09:22:30-04:00    6.0\n",
       "2011-04-18 09:22:40-04:00    6.0\n",
       "2011-04-18 09:22:50-04:00    6.0\n",
       "...                          ...\n",
       "2011-04-19 09:21:30-04:00    6.0\n",
       "2011-04-19 09:21:40-04:00    7.0\n",
       "2011-04-19 09:21:50-04:00    7.0\n",
       "2011-04-19 09:22:00-04:00    6.0\n",
       "2011-04-19 09:22:10-04:00    6.0\n",
       "\n",
       "[8641 rows x 1 columns]"
      ]
     },
     "execution_count": 34,
     "metadata": {},
     "output_type": "execute_result"
    }
   ],
   "source": [
    "timeframe_prepocess"
   ]
  },
  {
   "cell_type": "code",
   "execution_count": 35,
   "metadata": {},
   "outputs": [
    {
     "data": {
      "text/plain": [
       "power  active    float32\n",
       "dtype: object"
      ]
     },
     "execution_count": 35,
     "metadata": {},
     "output_type": "execute_result"
    }
   ],
   "source": [
    "timeframe_prepocess.dtypes"
   ]
  },
  {
   "cell_type": "code",
   "execution_count": 36,
   "metadata": {},
   "outputs": [
    {
     "data": {
      "text/html": [
       "<div>\n",
       "<style scoped>\n",
       "    .dataframe tbody tr th:only-of-type {\n",
       "        vertical-align: middle;\n",
       "    }\n",
       "\n",
       "    .dataframe tbody tr th {\n",
       "        vertical-align: top;\n",
       "    }\n",
       "\n",
       "    .dataframe thead th {\n",
       "        text-align: right;\n",
       "    }\n",
       "</style>\n",
       "<table border=\"1\" class=\"dataframe\">\n",
       "  <thead>\n",
       "    <tr style=\"text-align: right;\">\n",
       "      <th></th>\n",
       "      <th>power_active</th>\n",
       "    </tr>\n",
       "    <tr>\n",
       "      <th>date</th>\n",
       "      <th></th>\n",
       "    </tr>\n",
       "  </thead>\n",
       "  <tbody>\n",
       "    <tr>\n",
       "      <th>2011-04-18 09:22:10-04:00</th>\n",
       "      <td>0.0</td>\n",
       "    </tr>\n",
       "    <tr>\n",
       "      <th>2011-04-18 09:22:20-04:00</th>\n",
       "      <td>6.0</td>\n",
       "    </tr>\n",
       "    <tr>\n",
       "      <th>2011-04-18 09:22:30-04:00</th>\n",
       "      <td>6.0</td>\n",
       "    </tr>\n",
       "    <tr>\n",
       "      <th>2011-04-18 09:22:40-04:00</th>\n",
       "      <td>6.0</td>\n",
       "    </tr>\n",
       "    <tr>\n",
       "      <th>2011-04-18 09:22:50-04:00</th>\n",
       "      <td>6.0</td>\n",
       "    </tr>\n",
       "    <tr>\n",
       "      <th>...</th>\n",
       "      <td>...</td>\n",
       "    </tr>\n",
       "    <tr>\n",
       "      <th>2011-04-19 09:21:30-04:00</th>\n",
       "      <td>6.0</td>\n",
       "    </tr>\n",
       "    <tr>\n",
       "      <th>2011-04-19 09:21:40-04:00</th>\n",
       "      <td>7.0</td>\n",
       "    </tr>\n",
       "    <tr>\n",
       "      <th>2011-04-19 09:21:50-04:00</th>\n",
       "      <td>7.0</td>\n",
       "    </tr>\n",
       "    <tr>\n",
       "      <th>2011-04-19 09:22:00-04:00</th>\n",
       "      <td>6.0</td>\n",
       "    </tr>\n",
       "    <tr>\n",
       "      <th>2011-04-19 09:22:10-04:00</th>\n",
       "      <td>6.0</td>\n",
       "    </tr>\n",
       "  </tbody>\n",
       "</table>\n",
       "<p>8641 rows × 1 columns</p>\n",
       "</div>"
      ],
      "text/plain": [
       "                           power_active\n",
       "date                                   \n",
       "2011-04-18 09:22:10-04:00           0.0\n",
       "2011-04-18 09:22:20-04:00           6.0\n",
       "2011-04-18 09:22:30-04:00           6.0\n",
       "2011-04-18 09:22:40-04:00           6.0\n",
       "2011-04-18 09:22:50-04:00           6.0\n",
       "...                                 ...\n",
       "2011-04-19 09:21:30-04:00           6.0\n",
       "2011-04-19 09:21:40-04:00           7.0\n",
       "2011-04-19 09:21:50-04:00           7.0\n",
       "2011-04-19 09:22:00-04:00           6.0\n",
       "2011-04-19 09:22:10-04:00           6.0\n",
       "\n",
       "[8641 rows x 1 columns]"
      ]
     },
     "execution_count": 36,
     "metadata": {},
     "output_type": "execute_result"
    }
   ],
   "source": [
    "timeframe_prepocess.index.name = 'date'\n",
    "timeframe_prepocess.columns = ['power_active']\n",
    "timeframe_prepocess"
   ]
  },
  {
   "cell_type": "code",
   "execution_count": 94,
   "metadata": {},
   "outputs": [],
   "source": [
    "# Gramian angular summation field\n",
    "gasf = GramianAngularField( method='summation')\n",
    "fridge_gasf = gasf.fit_transform(np.array(timeframe_prepocess['power_active']).reshape((1,-1)))\n",
    "\n",
    "#Gramian angular difference field\n",
    "#gadf = GramianAngularField(method='difference')\n",
    "#fridge_gadf = gadf.fit_transform(timeframe_prepocess.values.reshape((1,-1)))"
   ]
  },
  {
   "cell_type": "code",
   "execution_count": 95,
   "metadata": {},
   "outputs": [
    {
     "data": {
      "text/plain": [
       "array([[[1.        , 0.99191919, 0.99191919, ..., 0.99057239,\n",
       "         0.99191919, 0.99191919],\n",
       "        [0.99191919, 0.96780737, 0.96780737, ..., 0.96518763,\n",
       "         0.96780737, 0.96780737],\n",
       "        [0.99191919, 0.96780737, 0.96780737, ..., 0.96518763,\n",
       "         0.96780737, 0.96780737],\n",
       "        ...,\n",
       "        [0.99057239, 0.96518763, 0.96518763, ..., 0.96246732,\n",
       "         0.96518763, 0.96518763],\n",
       "        [0.99191919, 0.96780737, 0.96780737, ..., 0.96518763,\n",
       "         0.96780737, 0.96780737],\n",
       "        [0.99191919, 0.96780737, 0.96780737, ..., 0.96518763,\n",
       "         0.96780737, 0.96780737]]])"
      ]
     },
     "execution_count": 95,
     "metadata": {},
     "output_type": "execute_result"
    }
   ],
   "source": [
    "fridge_gasf"
   ]
  },
  {
   "cell_type": "code",
   "execution_count": 96,
   "metadata": {},
   "outputs": [
    {
     "data": {
      "text/plain": [
       "8641"
      ]
     },
     "execution_count": 96,
     "metadata": {},
     "output_type": "execute_result"
    }
   ],
   "source": [
    "len(fridge_gasf[0])"
   ]
  },
  {
   "cell_type": "code",
   "execution_count": 97,
   "metadata": {},
   "outputs": [
    {
     "data": {
      "text/plain": [
       "-1.0"
      ]
     },
     "execution_count": 97,
     "metadata": {},
     "output_type": "execute_result"
    }
   ],
   "source": [
    "fridge_gasf.min()"
   ]
  },
  {
   "cell_type": "code",
   "execution_count": 98,
   "metadata": {},
   "outputs": [
    {
     "data": {
      "text/plain": [
       "1.0"
      ]
     },
     "execution_count": 98,
     "metadata": {},
     "output_type": "execute_result"
    }
   ],
   "source": [
    "fridge_gasf.max()"
   ]
  },
  {
   "cell_type": "code",
   "execution_count": 99,
   "metadata": {},
   "outputs": [
    {
     "data": {
      "image/png": "[encoded data removed]",
      "text/plain": [
       "<Figure size 576x576 with 2 Axes>"
      ]
     },
     "metadata": {
      "needs_background": "light"
     },
     "output_type": "display_data"
    }
   ],
   "source": [
    "fig, ax = plt.subplots(figsize=(8, 8))\n",
    "plt.imshow(fridge_gasf[0], cmap='hot',interpolation='nearest')\n",
    "color_bar = plt.colorbar(ticks=[-1.0,0.0,1.0])\n",
    "color_bar.set_label('Angle')\n",
    "color_bar.ax.set_xticklabels(['-1.0', '0.0', '1.0'])\n",
    "plt.xlabel('Time (second)')\n",
    "plt.ylabel('Time (second)')\n",
    "plt.gca().invert_yaxis()\n",
    "plt.title('Gramian angular summation field for fridge')\n",
    "plt.show()"
   ]
  },
  {
   "cell_type": "code",
   "execution_count": 39,
   "metadata": {},
   "outputs": [],
   "source": [
    "#Gramian angular difference field\n",
    "gadf = GramianAngularField(method='difference')\n",
    "fridge_gadf = gadf.fit_transform(timeframe_prepocess.values.reshape((1,-1)))"
   ]
  },
  {
   "cell_type": "code",
   "execution_count": 40,
   "metadata": {},
   "outputs": [
    {
     "data": {
      "text/plain": [
       "array([[[ 0.        ,  0.22643631,  0.22643631, ...,  0.22643631,\n",
       "          0.24431084,  0.24431084],\n",
       "        [-0.22643631,  0.        ,  0.        , ...,  0.        ,\n",
       "          0.0183905 ,  0.0183905 ],\n",
       "        [-0.22643631,  0.        ,  0.        , ...,  0.        ,\n",
       "          0.0183905 ,  0.0183905 ],\n",
       "        ...,\n",
       "        [-0.22643631,  0.        ,  0.        , ...,  0.        ,\n",
       "          0.0183905 ,  0.0183905 ],\n",
       "        [-0.24431084, -0.0183905 , -0.0183905 , ..., -0.0183905 ,\n",
       "          0.        ,  0.        ],\n",
       "        [-0.24431084, -0.0183905 , -0.0183905 , ..., -0.0183905 ,\n",
       "          0.        ,  0.        ]]])"
      ]
     },
     "execution_count": 40,
     "metadata": {},
     "output_type": "execute_result"
    }
   ],
   "source": [
    "fridge_gadf"
   ]
  },
  {
   "cell_type": "code",
   "execution_count": 41,
   "metadata": {},
   "outputs": [
    {
     "data": {
      "text/plain": [
       "-1.0"
      ]
     },
     "execution_count": 41,
     "metadata": {},
     "output_type": "execute_result"
    }
   ],
   "source": [
    "fridge_gadf.min()"
   ]
  },
  {
   "cell_type": "code",
   "execution_count": 42,
   "metadata": {},
   "outputs": [
    {
     "data": {
      "text/plain": [
       "1.0"
      ]
     },
     "execution_count": 42,
     "metadata": {},
     "output_type": "execute_result"
    }
   ],
   "source": [
    "fridge_gadf.max()"
   ]
  },
  {
   "cell_type": "code",
   "execution_count": 43,
   "metadata": {},
   "outputs": [
    {
     "data": {
      "image/png": "[encoded data removed]",
      "text/plain": [
       "<Figure size 576x576 with 2 Axes>"
      ]
     },
     "metadata": {
      "needs_background": "light"
     },
     "output_type": "display_data"
    }
   ],
   "source": [
    "fig, ax = plt.subplots(figsize=(8, 8))\n",
    "plt.imshow(fridge_gadf[0], cmap='hot',interpolation='nearest')\n",
    "color_bar = plt.colorbar(ticks=[-1.0,0.0,1.0])\n",
    "color_bar.set_label('Angle')\n",
    "color_bar.ax.set_xticklabels(['-1.0', '0.0', '1.0'])\n",
    "plt.xlabel('Time (second)')\n",
    "plt.ylabel('Time (second)')\n",
    "plt.gca().invert_yaxis()\n",
    "plt.title('Gramian angular difference field for fridge')\n",
    "plt.show()"
   ]
  },
  {
   "cell_type": "code",
   "execution_count": 53,
   "metadata": {},
   "outputs": [
    {
     "data": {
      "text/html": [
       "<div>\n",
       "<style scoped>\n",
       "    .dataframe tbody tr th:only-of-type {\n",
       "        vertical-align: middle;\n",
       "    }\n",
       "\n",
       "    .dataframe tbody tr th {\n",
       "        vertical-align: top;\n",
       "    }\n",
       "\n",
       "    .dataframe thead th {\n",
       "        text-align: right;\n",
       "    }\n",
       "</style>\n",
       "<table border=\"1\" class=\"dataframe\">\n",
       "  <thead>\n",
       "    <tr style=\"text-align: right;\">\n",
       "      <th></th>\n",
       "      <th>stationid</th>\n",
       "      <th>date</th>\n",
       "      <th>hour</th>\n",
       "      <th>temp</th>\n",
       "      <th>flag</th>\n",
       "    </tr>\n",
       "  </thead>\n",
       "  <tbody>\n",
       "    <tr>\n",
       "      <th>0</th>\n",
       "      <td>T0001</td>\n",
       "      <td>2004/01/01</td>\n",
       "      <td>0</td>\n",
       "      <td>-1.7</td>\n",
       "      <td>1</td>\n",
       "    </tr>\n",
       "    <tr>\n",
       "      <th>1</th>\n",
       "      <td>T0001</td>\n",
       "      <td>2004/01/01</td>\n",
       "      <td>1</td>\n",
       "      <td>-1.8</td>\n",
       "      <td>1</td>\n",
       "    </tr>\n",
       "    <tr>\n",
       "      <th>2</th>\n",
       "      <td>T0001</td>\n",
       "      <td>2004/01/01</td>\n",
       "      <td>2</td>\n",
       "      <td>-1.8</td>\n",
       "      <td>1</td>\n",
       "    </tr>\n",
       "    <tr>\n",
       "      <th>3</th>\n",
       "      <td>T0001</td>\n",
       "      <td>2004/01/01</td>\n",
       "      <td>3</td>\n",
       "      <td>-2.2</td>\n",
       "      <td>1</td>\n",
       "    </tr>\n",
       "    <tr>\n",
       "      <th>4</th>\n",
       "      <td>T0001</td>\n",
       "      <td>2004/01/01</td>\n",
       "      <td>4</td>\n",
       "      <td>-3.2</td>\n",
       "      <td>1</td>\n",
       "    </tr>\n",
       "    <tr>\n",
       "      <th>...</th>\n",
       "      <td>...</td>\n",
       "      <td>...</td>\n",
       "      <td>...</td>\n",
       "      <td>...</td>\n",
       "      <td>...</td>\n",
       "    </tr>\n",
       "    <tr>\n",
       "      <th>17539</th>\n",
       "      <td>T0001</td>\n",
       "      <td>2005/12/31</td>\n",
       "      <td>19</td>\n",
       "      <td>-3.4</td>\n",
       "      <td>1</td>\n",
       "    </tr>\n",
       "    <tr>\n",
       "      <th>17540</th>\n",
       "      <td>T0001</td>\n",
       "      <td>2005/12/31</td>\n",
       "      <td>20</td>\n",
       "      <td>-3.3</td>\n",
       "      <td>1</td>\n",
       "    </tr>\n",
       "    <tr>\n",
       "      <th>17541</th>\n",
       "      <td>T0001</td>\n",
       "      <td>2005/12/31</td>\n",
       "      <td>21</td>\n",
       "      <td>-3.3</td>\n",
       "      <td>1</td>\n",
       "    </tr>\n",
       "    <tr>\n",
       "      <th>17542</th>\n",
       "      <td>T0001</td>\n",
       "      <td>2005/12/31</td>\n",
       "      <td>22</td>\n",
       "      <td>-3.3</td>\n",
       "      <td>1</td>\n",
       "    </tr>\n",
       "    <tr>\n",
       "      <th>17543</th>\n",
       "      <td>T0001</td>\n",
       "      <td>2005/12/31</td>\n",
       "      <td>23</td>\n",
       "      <td>-3.3</td>\n",
       "      <td>1</td>\n",
       "    </tr>\n",
       "  </tbody>\n",
       "</table>\n",
       "<p>17544 rows × 5 columns</p>\n",
       "</div>"
      ],
      "text/plain": [
       "      stationid        date  hour  temp  flag\n",
       "0         T0001  2004/01/01     0  -1.7     1\n",
       "1         T0001  2004/01/01     1  -1.8     1\n",
       "2         T0001  2004/01/01     2  -1.8     1\n",
       "3         T0001  2004/01/01     3  -2.2     1\n",
       "4         T0001  2004/01/01     4  -3.2     1\n",
       "...         ...         ...   ...   ...   ...\n",
       "17539     T0001  2005/12/31    19  -3.4     1\n",
       "17540     T0001  2005/12/31    20  -3.3     1\n",
       "17541     T0001  2005/12/31    21  -3.3     1\n",
       "17542     T0001  2005/12/31    22  -3.3     1\n",
       "17543     T0001  2005/12/31    23  -3.3     1\n",
       "\n",
       "[17544 rows x 5 columns]"
      ]
     },
     "execution_count": 53,
     "metadata": {},
     "output_type": "execute_result"
    }
   ],
   "source": [
    "data = pd.read_csv(\"https://raw.githubusercontent.com/holtzy/The-Python-Graph-Gallery/master/static/data/trentino_temperature.csv\")\n",
    "data"
   ]
  },
  {
   "cell_type": "code",
   "execution_count": 55,
   "metadata": {},
   "outputs": [],
   "source": [
    "data[\"date\"] = pd.to_datetime(data[\"date\"])"
   ]
  },
  {
   "cell_type": "code",
   "execution_count": 73,
   "metadata": {},
   "outputs": [],
   "source": [
    "# Subset data\n",
    "subset = data[(data[\"date\"].dt.year == 2004) & (data[\"date\"].dt.month == 1)]\n",
    "\n",
    "# Extract hour, day, and temperature\n",
    "hour = subset[\"hour\"]\n",
    "day = subset[\"date\"].dt.day\n",
    "temp = subset[\"temp\"]\n",
    "\n",
    "# Re-arrange temperature values\n",
    "temp = temp.values.reshape(24, len(day.unique()), order=\"F\")\n",
    "\n",
    "# Compute x and y grids, passed to `ax.pcolormesh()`.\n",
    "\n",
    "# The first + 1 increases the length\n",
    "# The outer + 1 ensures days start at 1, and not at 0.\n",
    "xgrid = np.arange(day.max() + 1) + 1\n",
    "\n",
    "# Hours start at 0, length 2\n",
    "ygrid = np.arange(25)"
   ]
  },
  {
   "cell_type": "code",
   "execution_count": 74,
   "metadata": {},
   "outputs": [
    {
     "data": {
      "text/plain": [
       "array([ 1,  2,  3,  4,  5,  6,  7,  8,  9, 10, 11, 12, 13, 14, 15, 16, 17,\n",
       "       18, 19, 20, 21, 22, 23, 24, 25, 26, 27, 28, 29, 30, 31, 32])"
      ]
     },
     "execution_count": 74,
     "metadata": {},
     "output_type": "execute_result"
    }
   ],
   "source": [
    "xgrid"
   ]
  },
  {
   "cell_type": "code",
   "execution_count": 76,
   "metadata": {},
   "outputs": [
    {
     "data": {
      "text/plain": [
       "array([ 1,  2,  3,  4,  5,  6,  7,  8,  9, 10, 11, 12, 13, 14, 15, 16, 17,\n",
       "       18, 19, 20, 21, 22, 23, 24, 25, 26, 27, 28, 29, 30, 31])"
      ]
     },
     "execution_count": 76,
     "metadata": {},
     "output_type": "execute_result"
    }
   ],
   "source": [
    "day.unique()"
   ]
  },
  {
   "cell_type": "code",
   "execution_count": 75,
   "metadata": {},
   "outputs": [
    {
     "data": {
      "text/plain": [
       "array([ 0,  1,  2,  3,  4,  5,  6,  7,  8,  9, 10, 11, 12, 13, 14, 15, 16,\n",
       "       17, 18, 19, 20, 21, 22, 23, 24])"
      ]
     },
     "execution_count": 75,
     "metadata": {},
     "output_type": "execute_result"
    }
   ],
   "source": [
    "ygrid"
   ]
  },
  {
   "cell_type": "code",
   "execution_count": 66,
   "metadata": {},
   "outputs": [
    {
     "data": {
      "text/html": [
       "<div>\n",
       "<style scoped>\n",
       "    .dataframe tbody tr th:only-of-type {\n",
       "        vertical-align: middle;\n",
       "    }\n",
       "\n",
       "    .dataframe tbody tr th {\n",
       "        vertical-align: top;\n",
       "    }\n",
       "\n",
       "    .dataframe thead th {\n",
       "        text-align: right;\n",
       "    }\n",
       "</style>\n",
       "<table border=\"1\" class=\"dataframe\">\n",
       "  <thead>\n",
       "    <tr style=\"text-align: right;\">\n",
       "      <th></th>\n",
       "      <th>stationid</th>\n",
       "      <th>date</th>\n",
       "      <th>hour</th>\n",
       "      <th>temp</th>\n",
       "      <th>flag</th>\n",
       "    </tr>\n",
       "  </thead>\n",
       "  <tbody>\n",
       "    <tr>\n",
       "      <th>0</th>\n",
       "      <td>T0001</td>\n",
       "      <td>2004-01-01</td>\n",
       "      <td>0</td>\n",
       "      <td>-1.7</td>\n",
       "      <td>1</td>\n",
       "    </tr>\n",
       "    <tr>\n",
       "      <th>1</th>\n",
       "      <td>T0001</td>\n",
       "      <td>2004-01-01</td>\n",
       "      <td>1</td>\n",
       "      <td>-1.8</td>\n",
       "      <td>1</td>\n",
       "    </tr>\n",
       "    <tr>\n",
       "      <th>2</th>\n",
       "      <td>T0001</td>\n",
       "      <td>2004-01-01</td>\n",
       "      <td>2</td>\n",
       "      <td>-1.8</td>\n",
       "      <td>1</td>\n",
       "    </tr>\n",
       "    <tr>\n",
       "      <th>3</th>\n",
       "      <td>T0001</td>\n",
       "      <td>2004-01-01</td>\n",
       "      <td>3</td>\n",
       "      <td>-2.2</td>\n",
       "      <td>1</td>\n",
       "    </tr>\n",
       "    <tr>\n",
       "      <th>4</th>\n",
       "      <td>T0001</td>\n",
       "      <td>2004-01-01</td>\n",
       "      <td>4</td>\n",
       "      <td>-3.2</td>\n",
       "      <td>1</td>\n",
       "    </tr>\n",
       "    <tr>\n",
       "      <th>...</th>\n",
       "      <td>...</td>\n",
       "      <td>...</td>\n",
       "      <td>...</td>\n",
       "      <td>...</td>\n",
       "      <td>...</td>\n",
       "    </tr>\n",
       "    <tr>\n",
       "      <th>739</th>\n",
       "      <td>T0001</td>\n",
       "      <td>2004-01-31</td>\n",
       "      <td>19</td>\n",
       "      <td>-0.7</td>\n",
       "      <td>1</td>\n",
       "    </tr>\n",
       "    <tr>\n",
       "      <th>740</th>\n",
       "      <td>T0001</td>\n",
       "      <td>2004-01-31</td>\n",
       "      <td>20</td>\n",
       "      <td>-0.2</td>\n",
       "      <td>1</td>\n",
       "    </tr>\n",
       "    <tr>\n",
       "      <th>741</th>\n",
       "      <td>T0001</td>\n",
       "      <td>2004-01-31</td>\n",
       "      <td>21</td>\n",
       "      <td>0.0</td>\n",
       "      <td>1</td>\n",
       "    </tr>\n",
       "    <tr>\n",
       "      <th>742</th>\n",
       "      <td>T0001</td>\n",
       "      <td>2004-01-31</td>\n",
       "      <td>22</td>\n",
       "      <td>0.0</td>\n",
       "      <td>1</td>\n",
       "    </tr>\n",
       "    <tr>\n",
       "      <th>743</th>\n",
       "      <td>T0001</td>\n",
       "      <td>2004-01-31</td>\n",
       "      <td>23</td>\n",
       "      <td>0.0</td>\n",
       "      <td>1</td>\n",
       "    </tr>\n",
       "  </tbody>\n",
       "</table>\n",
       "<p>744 rows × 5 columns</p>\n",
       "</div>"
      ],
      "text/plain": [
       "    stationid       date  hour  temp  flag\n",
       "0       T0001 2004-01-01     0  -1.7     1\n",
       "1       T0001 2004-01-01     1  -1.8     1\n",
       "2       T0001 2004-01-01     2  -1.8     1\n",
       "3       T0001 2004-01-01     3  -2.2     1\n",
       "4       T0001 2004-01-01     4  -3.2     1\n",
       "..        ...        ...   ...   ...   ...\n",
       "739     T0001 2004-01-31    19  -0.7     1\n",
       "740     T0001 2004-01-31    20  -0.2     1\n",
       "741     T0001 2004-01-31    21   0.0     1\n",
       "742     T0001 2004-01-31    22   0.0     1\n",
       "743     T0001 2004-01-31    23   0.0     1\n",
       "\n",
       "[744 rows x 5 columns]"
      ]
     },
     "execution_count": 66,
     "metadata": {},
     "output_type": "execute_result"
    }
   ],
   "source": [
    "subset "
   ]
  },
  {
   "cell_type": "code",
   "execution_count": 67,
   "metadata": {},
   "outputs": [
    {
     "data": {
      "text/plain": [
       "0       0\n",
       "1       1\n",
       "2       2\n",
       "3       3\n",
       "4       4\n",
       "       ..\n",
       "739    19\n",
       "740    20\n",
       "741    21\n",
       "742    22\n",
       "743    23\n",
       "Name: hour, Length: 744, dtype: int64"
      ]
     },
     "execution_count": 67,
     "metadata": {},
     "output_type": "execute_result"
    }
   ],
   "source": [
    "hour "
   ]
  },
  {
   "cell_type": "code",
   "execution_count": 68,
   "metadata": {},
   "outputs": [
    {
     "data": {
      "text/plain": [
       "0       1\n",
       "1       1\n",
       "2       1\n",
       "3       1\n",
       "4       1\n",
       "       ..\n",
       "739    31\n",
       "740    31\n",
       "741    31\n",
       "742    31\n",
       "743    31\n",
       "Name: date, Length: 744, dtype: int64"
      ]
     },
     "execution_count": 68,
     "metadata": {},
     "output_type": "execute_result"
    }
   ],
   "source": [
    "day"
   ]
  },
  {
   "cell_type": "code",
   "execution_count": 80,
   "metadata": {},
   "outputs": [
    {
     "data": {
      "text/plain": [
       "31"
      ]
     },
     "execution_count": 80,
     "metadata": {},
     "output_type": "execute_result"
    }
   ],
   "source": [
    "len(temp[0])"
   ]
  },
  {
   "cell_type": "code",
   "execution_count": 57,
   "metadata": {},
   "outputs": [
    {
     "data": {
      "image/png": "[encoded data removed]",
      "text/plain": [
       "<Figure size 432x288 with 1 Axes>"
      ]
     },
     "metadata": {
      "needs_background": "light"
     },
     "output_type": "display_data"
    }
   ],
   "source": [
    "fig, ax = plt.subplots()\n",
    "ax.pcolormesh(xgrid, ygrid, temp)\n",
    "ax.set_frame_on(False) # remove all spines"
   ]
  },
  {
   "cell_type": "code",
   "execution_count": 44,
   "metadata": {},
   "outputs": [],
   "source": [
    "import matplotlib.colors as mc\n",
    "from matplotlib.cm import ScalarMappable"
   ]
  },
  {
   "cell_type": "code",
   "execution_count": 88,
   "metadata": {},
   "outputs": [],
   "source": [
    "timeframe_prepocess.index = pd.to_datetime(timeframe_prepocess.index)"
   ]
  },
  {
   "cell_type": "code",
   "execution_count": 65,
   "metadata": {},
   "outputs": [
    {
     "ename": "ValueError",
     "evalue": "not enough values to unpack (expected 2, got 1)",
     "output_type": "error",
     "traceback": [
      "\u001b[0;31m---------------------------------------------------------------------------\u001b[0m",
      "\u001b[0;31mValueError\u001b[0m                                Traceback (most recent call last)",
      "\u001b[0;32m<ipython-input-65-11d7f6b26045>\u001b[0m in \u001b[0;36m<module>\u001b[0;34m\u001b[0m\n\u001b[1;32m      1\u001b[0m \u001b[0mfig\u001b[0m\u001b[0;34m,\u001b[0m \u001b[0max\u001b[0m \u001b[0;34m=\u001b[0m \u001b[0mplt\u001b[0m\u001b[0;34m.\u001b[0m\u001b[0msubplots\u001b[0m\u001b[0;34m(\u001b[0m\u001b[0;34m)\u001b[0m\u001b[0;34m\u001b[0m\u001b[0;34m\u001b[0m\u001b[0m\n\u001b[0;32m----> 2\u001b[0;31m \u001b[0max\u001b[0m\u001b[0;34m.\u001b[0m\u001b[0mpcolormesh\u001b[0m\u001b[0;34m(\u001b[0m\u001b[0mxgrid\u001b[0m\u001b[0;34m,\u001b[0m \u001b[0mygrid\u001b[0m\u001b[0;34m,\u001b[0m \u001b[0mfridge_gadf\u001b[0m\u001b[0;34m[\u001b[0m\u001b[0;36m0\u001b[0m\u001b[0;34m]\u001b[0m\u001b[0;34m[\u001b[0m\u001b[0;36m0\u001b[0m\u001b[0;34m]\u001b[0m\u001b[0;34m)\u001b[0m\u001b[0;34m\u001b[0m\u001b[0;34m\u001b[0m\u001b[0m\n\u001b[0m",
      "\u001b[0;32m/opt/anaconda3/lib/python3.8/site-packages/matplotlib/__init__.py\u001b[0m in \u001b[0;36minner\u001b[0;34m(ax, data, *args, **kwargs)\u001b[0m\n\u001b[1;32m   1597\u001b[0m     \u001b[0;32mdef\u001b[0m \u001b[0minner\u001b[0m\u001b[0;34m(\u001b[0m\u001b[0max\u001b[0m\u001b[0;34m,\u001b[0m \u001b[0;34m*\u001b[0m\u001b[0margs\u001b[0m\u001b[0;34m,\u001b[0m \u001b[0mdata\u001b[0m\u001b[0;34m=\u001b[0m\u001b[0;32mNone\u001b[0m\u001b[0;34m,\u001b[0m \u001b[0;34m**\u001b[0m\u001b[0mkwargs\u001b[0m\u001b[0;34m)\u001b[0m\u001b[0;34m:\u001b[0m\u001b[0;34m\u001b[0m\u001b[0;34m\u001b[0m\u001b[0m\n\u001b[1;32m   1598\u001b[0m         \u001b[0;32mif\u001b[0m \u001b[0mdata\u001b[0m \u001b[0;32mis\u001b[0m \u001b[0;32mNone\u001b[0m\u001b[0;34m:\u001b[0m\u001b[0;34m\u001b[0m\u001b[0;34m\u001b[0m\u001b[0m\n\u001b[0;32m-> 1599\u001b[0;31m             \u001b[0;32mreturn\u001b[0m \u001b[0mfunc\u001b[0m\u001b[0;34m(\u001b[0m\u001b[0max\u001b[0m\u001b[0;34m,\u001b[0m \u001b[0;34m*\u001b[0m\u001b[0mmap\u001b[0m\u001b[0;34m(\u001b[0m\u001b[0msanitize_sequence\u001b[0m\u001b[0;34m,\u001b[0m \u001b[0margs\u001b[0m\u001b[0;34m)\u001b[0m\u001b[0;34m,\u001b[0m \u001b[0;34m**\u001b[0m\u001b[0mkwargs\u001b[0m\u001b[0;34m)\u001b[0m\u001b[0;34m\u001b[0m\u001b[0;34m\u001b[0m\u001b[0m\n\u001b[0m\u001b[1;32m   1600\u001b[0m \u001b[0;34m\u001b[0m\u001b[0m\n\u001b[1;32m   1601\u001b[0m         \u001b[0mbound\u001b[0m \u001b[0;34m=\u001b[0m \u001b[0mnew_sig\u001b[0m\u001b[0;34m.\u001b[0m\u001b[0mbind\u001b[0m\u001b[0;34m(\u001b[0m\u001b[0max\u001b[0m\u001b[0;34m,\u001b[0m \u001b[0;34m*\u001b[0m\u001b[0margs\u001b[0m\u001b[0;34m,\u001b[0m \u001b[0;34m**\u001b[0m\u001b[0mkwargs\u001b[0m\u001b[0;34m)\u001b[0m\u001b[0;34m\u001b[0m\u001b[0;34m\u001b[0m\u001b[0m\n",
      "\u001b[0;32m/opt/anaconda3/lib/python3.8/site-packages/matplotlib/axes/_axes.py\u001b[0m in \u001b[0;36mpcolormesh\u001b[0;34m(self, alpha, norm, cmap, vmin, vmax, shading, antialiased, *args, **kwargs)\u001b[0m\n\u001b[1;32m   6163\u001b[0m         \u001b[0mallmatch\u001b[0m \u001b[0;34m=\u001b[0m \u001b[0;34m(\u001b[0m\u001b[0mshading\u001b[0m \u001b[0;34m==\u001b[0m \u001b[0;34m'gouraud'\u001b[0m\u001b[0;34m)\u001b[0m\u001b[0;34m\u001b[0m\u001b[0;34m\u001b[0m\u001b[0m\n\u001b[1;32m   6164\u001b[0m \u001b[0;34m\u001b[0m\u001b[0m\n\u001b[0;32m-> 6165\u001b[0;31m         \u001b[0mX\u001b[0m\u001b[0;34m,\u001b[0m \u001b[0mY\u001b[0m\u001b[0;34m,\u001b[0m \u001b[0mC\u001b[0m \u001b[0;34m=\u001b[0m \u001b[0mself\u001b[0m\u001b[0;34m.\u001b[0m\u001b[0m_pcolorargs\u001b[0m\u001b[0;34m(\u001b[0m\u001b[0;34m'pcolormesh'\u001b[0m\u001b[0;34m,\u001b[0m \u001b[0;34m*\u001b[0m\u001b[0margs\u001b[0m\u001b[0;34m,\u001b[0m \u001b[0mallmatch\u001b[0m\u001b[0;34m=\u001b[0m\u001b[0mallmatch\u001b[0m\u001b[0;34m)\u001b[0m\u001b[0;34m\u001b[0m\u001b[0;34m\u001b[0m\u001b[0m\n\u001b[0m\u001b[1;32m   6166\u001b[0m         \u001b[0mNy\u001b[0m\u001b[0;34m,\u001b[0m \u001b[0mNx\u001b[0m \u001b[0;34m=\u001b[0m \u001b[0mX\u001b[0m\u001b[0;34m.\u001b[0m\u001b[0mshape\u001b[0m\u001b[0;34m\u001b[0m\u001b[0;34m\u001b[0m\u001b[0m\n\u001b[1;32m   6167\u001b[0m         \u001b[0mX\u001b[0m \u001b[0;34m=\u001b[0m \u001b[0mX\u001b[0m\u001b[0;34m.\u001b[0m\u001b[0mravel\u001b[0m\u001b[0;34m(\u001b[0m\u001b[0;34m)\u001b[0m\u001b[0;34m\u001b[0m\u001b[0;34m\u001b[0m\u001b[0m\n",
      "\u001b[0;32m/opt/anaconda3/lib/python3.8/site-packages/matplotlib/axes/_axes.py\u001b[0m in \u001b[0;36m_pcolorargs\u001b[0;34m(funcname, allmatch, *args)\u001b[0m\n\u001b[1;32m   5732\u001b[0m                 \u001b[0;32mif\u001b[0m \u001b[0misinstance\u001b[0m\u001b[0;34m(\u001b[0m\u001b[0mY\u001b[0m\u001b[0;34m,\u001b[0m \u001b[0mnp\u001b[0m\u001b[0;34m.\u001b[0m\u001b[0mma\u001b[0m\u001b[0;34m.\u001b[0m\u001b[0mcore\u001b[0m\u001b[0;34m.\u001b[0m\u001b[0mMaskedArray\u001b[0m\u001b[0;34m)\u001b[0m\u001b[0;34m:\u001b[0m\u001b[0;34m\u001b[0m\u001b[0;34m\u001b[0m\u001b[0m\n\u001b[1;32m   5733\u001b[0m                     \u001b[0mY\u001b[0m \u001b[0;34m=\u001b[0m \u001b[0mY\u001b[0m\u001b[0;34m.\u001b[0m\u001b[0mdata\u001b[0m\u001b[0;34m\u001b[0m\u001b[0;34m\u001b[0m\u001b[0m\n\u001b[0;32m-> 5734\u001b[0;31m             \u001b[0mnumRows\u001b[0m\u001b[0;34m,\u001b[0m \u001b[0mnumCols\u001b[0m \u001b[0;34m=\u001b[0m \u001b[0mC\u001b[0m\u001b[0;34m.\u001b[0m\u001b[0mshape\u001b[0m\u001b[0;34m\u001b[0m\u001b[0;34m\u001b[0m\u001b[0m\n\u001b[0m\u001b[1;32m   5735\u001b[0m         \u001b[0;32melse\u001b[0m\u001b[0;34m:\u001b[0m\u001b[0;34m\u001b[0m\u001b[0;34m\u001b[0m\u001b[0m\n\u001b[1;32m   5736\u001b[0m             raise TypeError(\n",
      "\u001b[0;31mValueError\u001b[0m: not enough values to unpack (expected 2, got 1)"
     ]
    },
    {
     "data": {
      "image/png": "[encoded data removed]",
      "text/plain": [
       "<Figure size 432x288 with 1 Axes>"
      ]
     },
     "metadata": {
      "needs_background": "light"
     },
     "output_type": "display_data"
    }
   ],
   "source": [
    "fig, ax = plt.subplots()\n",
    "ax.pcolormesh(xgrid, ygrid, g)"
   ]
  },
  {
   "cell_type": "markdown",
   "metadata": {},
   "source": [
    "**Buliding1**"
   ]
  },
  {
   "cell_type": "code",
   "execution_count": 10,
   "metadata": {},
   "outputs": [
    {
     "data": {
      "text/plain": [
       "2011-04-18 09:22:09-04:00           NaN\n",
       "2011-04-18 09:22:12-04:00    602.170044\n",
       "2011-04-18 09:22:15-04:00    602.973328\n",
       "2011-04-18 09:22:18-04:00    603.683350\n",
       "2011-04-18 09:22:21-04:00    603.796631\n",
       "                                ...    \n",
       "2011-05-24 15:56:48-04:00           NaN\n",
       "2011-05-24 15:56:51-04:00           NaN\n",
       "2011-05-24 15:56:54-04:00           NaN\n",
       "2011-05-24 15:56:57-04:00           NaN\n",
       "2011-05-24 15:57:00-04:00           NaN\n",
       "Freq: 3S, Name: (power, apparent+active), Length: 1044698, dtype: float32"
      ]
     },
     "execution_count": 10,
     "metadata": {},
     "output_type": "execute_result"
    }
   ],
   "source": [
    "reedd_allpowerseries"
   ]
  },
  {
   "cell_type": "code",
   "execution_count": 11,
   "metadata": {},
   "outputs": [
    {
     "data": {
      "text/html": [
       "<div>\n",
       "<style scoped>\n",
       "    .dataframe tbody tr th:only-of-type {\n",
       "        vertical-align: middle;\n",
       "    }\n",
       "\n",
       "    .dataframe tbody tr th {\n",
       "        vertical-align: top;\n",
       "    }\n",
       "\n",
       "    .dataframe thead th {\n",
       "        text-align: right;\n",
       "    }\n",
       "</style>\n",
       "<table border=\"1\" class=\"dataframe\">\n",
       "  <thead>\n",
       "    <tr style=\"text-align: right;\">\n",
       "      <th></th>\n",
       "      <th>power_active</th>\n",
       "    </tr>\n",
       "    <tr>\n",
       "      <th>date</th>\n",
       "      <th></th>\n",
       "    </tr>\n",
       "  </thead>\n",
       "  <tbody>\n",
       "    <tr>\n",
       "      <th>2011-04-18 09:22:09-04:00</th>\n",
       "      <td>0.000000</td>\n",
       "    </tr>\n",
       "    <tr>\n",
       "      <th>2011-04-18 09:22:12-04:00</th>\n",
       "      <td>602.170044</td>\n",
       "    </tr>\n",
       "    <tr>\n",
       "      <th>2011-04-18 09:22:15-04:00</th>\n",
       "      <td>602.973328</td>\n",
       "    </tr>\n",
       "    <tr>\n",
       "      <th>2011-04-18 09:22:18-04:00</th>\n",
       "      <td>603.683350</td>\n",
       "    </tr>\n",
       "    <tr>\n",
       "      <th>2011-04-18 09:22:21-04:00</th>\n",
       "      <td>603.796631</td>\n",
       "    </tr>\n",
       "    <tr>\n",
       "      <th>...</th>\n",
       "      <td>...</td>\n",
       "    </tr>\n",
       "    <tr>\n",
       "      <th>2011-05-24 15:56:48-04:00</th>\n",
       "      <td>0.000000</td>\n",
       "    </tr>\n",
       "    <tr>\n",
       "      <th>2011-05-24 15:56:51-04:00</th>\n",
       "      <td>0.000000</td>\n",
       "    </tr>\n",
       "    <tr>\n",
       "      <th>2011-05-24 15:56:54-04:00</th>\n",
       "      <td>0.000000</td>\n",
       "    </tr>\n",
       "    <tr>\n",
       "      <th>2011-05-24 15:56:57-04:00</th>\n",
       "      <td>0.000000</td>\n",
       "    </tr>\n",
       "    <tr>\n",
       "      <th>2011-05-24 15:57:00-04:00</th>\n",
       "      <td>0.000000</td>\n",
       "    </tr>\n",
       "  </tbody>\n",
       "</table>\n",
       "<p>1044698 rows × 1 columns</p>\n",
       "</div>"
      ],
      "text/plain": [
       "                           power_active\n",
       "date                                   \n",
       "2011-04-18 09:22:09-04:00      0.000000\n",
       "2011-04-18 09:22:12-04:00    602.170044\n",
       "2011-04-18 09:22:15-04:00    602.973328\n",
       "2011-04-18 09:22:18-04:00    603.683350\n",
       "2011-04-18 09:22:21-04:00    603.796631\n",
       "...                                 ...\n",
       "2011-05-24 15:56:48-04:00      0.000000\n",
       "2011-05-24 15:56:51-04:00      0.000000\n",
       "2011-05-24 15:56:54-04:00      0.000000\n",
       "2011-05-24 15:56:57-04:00      0.000000\n",
       "2011-05-24 15:57:00-04:00      0.000000\n",
       "\n",
       "[1044698 rows x 1 columns]"
      ]
     },
     "execution_count": 11,
     "metadata": {},
     "output_type": "execute_result"
    }
   ],
   "source": [
    "reedd_allpowerseries = pd.DataFrame(reedd_allpowerseries)\n",
    "reedd_allpowerseries.index.name = 'date'\n",
    "reedd_allpowerseries.columns = ['power_active']\n",
    "reedd_allpowerseries['power_active'] = reedd_allpowerseries['power_active'].fillna(0)\n",
    "reedd_allpowerseries"
   ]
  },
  {
   "cell_type": "code",
   "execution_count": 12,
   "metadata": {},
   "outputs": [],
   "source": [
    "reedd_allpowerseries = reedd_allpowerseries.reset_index()"
   ]
  },
  {
   "cell_type": "code",
   "execution_count": 13,
   "metadata": {},
   "outputs": [
    {
     "data": {
      "text/plain": [
       "date            0\n",
       "power_active    0\n",
       "dtype: int64"
      ]
     },
     "execution_count": 13,
     "metadata": {},
     "output_type": "execute_result"
    }
   ],
   "source": [
    "reedd_allpowerseries.isnull().sum()"
   ]
  },
  {
   "cell_type": "code",
   "execution_count": 14,
   "metadata": {},
   "outputs": [],
   "source": [
    "reedd_allpowerseries['year'] = reedd_allpowerseries['date'].dt.year\n",
    "reedd_allpowerseries['month'] = reedd_allpowerseries['date'].dt.month\n",
    "reedd_allpowerseries['day'] = reedd_allpowerseries['date'].dt.day\n",
    "reedd_allpowerseries['hour'] = reedd_allpowerseries['date'].dt.hour\n",
    "reedd_allpowerseries['minute'] = reedd_allpowerseries['date'].dt.minute\n",
    "reedd_allpowerseries['second'] = reedd_allpowerseries['date'].dt.second"
   ]
  },
  {
   "cell_type": "code",
   "execution_count": 15,
   "metadata": {},
   "outputs": [
    {
     "data": {
      "text/html": [
       "<div>\n",
       "<style scoped>\n",
       "    .dataframe tbody tr th:only-of-type {\n",
       "        vertical-align: middle;\n",
       "    }\n",
       "\n",
       "    .dataframe tbody tr th {\n",
       "        vertical-align: top;\n",
       "    }\n",
       "\n",
       "    .dataframe thead th {\n",
       "        text-align: right;\n",
       "    }\n",
       "</style>\n",
       "<table border=\"1\" class=\"dataframe\">\n",
       "  <thead>\n",
       "    <tr style=\"text-align: right;\">\n",
       "      <th></th>\n",
       "      <th>date</th>\n",
       "      <th>power_active</th>\n",
       "      <th>year</th>\n",
       "      <th>month</th>\n",
       "      <th>day</th>\n",
       "      <th>hour</th>\n",
       "      <th>minute</th>\n",
       "      <th>second</th>\n",
       "    </tr>\n",
       "  </thead>\n",
       "  <tbody>\n",
       "    <tr>\n",
       "      <th>0</th>\n",
       "      <td>2011-04-18 09:22:09-04:00</td>\n",
       "      <td>0.000000</td>\n",
       "      <td>2011</td>\n",
       "      <td>4</td>\n",
       "      <td>18</td>\n",
       "      <td>9</td>\n",
       "      <td>22</td>\n",
       "      <td>9</td>\n",
       "    </tr>\n",
       "    <tr>\n",
       "      <th>1</th>\n",
       "      <td>2011-04-18 09:22:12-04:00</td>\n",
       "      <td>602.170044</td>\n",
       "      <td>2011</td>\n",
       "      <td>4</td>\n",
       "      <td>18</td>\n",
       "      <td>9</td>\n",
       "      <td>22</td>\n",
       "      <td>12</td>\n",
       "    </tr>\n",
       "    <tr>\n",
       "      <th>2</th>\n",
       "      <td>2011-04-18 09:22:15-04:00</td>\n",
       "      <td>602.973328</td>\n",
       "      <td>2011</td>\n",
       "      <td>4</td>\n",
       "      <td>18</td>\n",
       "      <td>9</td>\n",
       "      <td>22</td>\n",
       "      <td>15</td>\n",
       "    </tr>\n",
       "    <tr>\n",
       "      <th>3</th>\n",
       "      <td>2011-04-18 09:22:18-04:00</td>\n",
       "      <td>603.683350</td>\n",
       "      <td>2011</td>\n",
       "      <td>4</td>\n",
       "      <td>18</td>\n",
       "      <td>9</td>\n",
       "      <td>22</td>\n",
       "      <td>18</td>\n",
       "    </tr>\n",
       "    <tr>\n",
       "      <th>4</th>\n",
       "      <td>2011-04-18 09:22:21-04:00</td>\n",
       "      <td>603.796631</td>\n",
       "      <td>2011</td>\n",
       "      <td>4</td>\n",
       "      <td>18</td>\n",
       "      <td>9</td>\n",
       "      <td>22</td>\n",
       "      <td>21</td>\n",
       "    </tr>\n",
       "    <tr>\n",
       "      <th>...</th>\n",
       "      <td>...</td>\n",
       "      <td>...</td>\n",
       "      <td>...</td>\n",
       "      <td>...</td>\n",
       "      <td>...</td>\n",
       "      <td>...</td>\n",
       "      <td>...</td>\n",
       "      <td>...</td>\n",
       "    </tr>\n",
       "    <tr>\n",
       "      <th>1044693</th>\n",
       "      <td>2011-05-24 15:56:48-04:00</td>\n",
       "      <td>0.000000</td>\n",
       "      <td>2011</td>\n",
       "      <td>5</td>\n",
       "      <td>24</td>\n",
       "      <td>15</td>\n",
       "      <td>56</td>\n",
       "      <td>48</td>\n",
       "    </tr>\n",
       "    <tr>\n",
       "      <th>1044694</th>\n",
       "      <td>2011-05-24 15:56:51-04:00</td>\n",
       "      <td>0.000000</td>\n",
       "      <td>2011</td>\n",
       "      <td>5</td>\n",
       "      <td>24</td>\n",
       "      <td>15</td>\n",
       "      <td>56</td>\n",
       "      <td>51</td>\n",
       "    </tr>\n",
       "    <tr>\n",
       "      <th>1044695</th>\n",
       "      <td>2011-05-24 15:56:54-04:00</td>\n",
       "      <td>0.000000</td>\n",
       "      <td>2011</td>\n",
       "      <td>5</td>\n",
       "      <td>24</td>\n",
       "      <td>15</td>\n",
       "      <td>56</td>\n",
       "      <td>54</td>\n",
       "    </tr>\n",
       "    <tr>\n",
       "      <th>1044696</th>\n",
       "      <td>2011-05-24 15:56:57-04:00</td>\n",
       "      <td>0.000000</td>\n",
       "      <td>2011</td>\n",
       "      <td>5</td>\n",
       "      <td>24</td>\n",
       "      <td>15</td>\n",
       "      <td>56</td>\n",
       "      <td>57</td>\n",
       "    </tr>\n",
       "    <tr>\n",
       "      <th>1044697</th>\n",
       "      <td>2011-05-24 15:57:00-04:00</td>\n",
       "      <td>0.000000</td>\n",
       "      <td>2011</td>\n",
       "      <td>5</td>\n",
       "      <td>24</td>\n",
       "      <td>15</td>\n",
       "      <td>57</td>\n",
       "      <td>0</td>\n",
       "    </tr>\n",
       "  </tbody>\n",
       "</table>\n",
       "<p>1044698 rows × 8 columns</p>\n",
       "</div>"
      ],
      "text/plain": [
       "                             date  power_active  year  month  day  hour  \\\n",
       "0       2011-04-18 09:22:09-04:00      0.000000  2011      4   18     9   \n",
       "1       2011-04-18 09:22:12-04:00    602.170044  2011      4   18     9   \n",
       "2       2011-04-18 09:22:15-04:00    602.973328  2011      4   18     9   \n",
       "3       2011-04-18 09:22:18-04:00    603.683350  2011      4   18     9   \n",
       "4       2011-04-18 09:22:21-04:00    603.796631  2011      4   18     9   \n",
       "...                           ...           ...   ...    ...  ...   ...   \n",
       "1044693 2011-05-24 15:56:48-04:00      0.000000  2011      5   24    15   \n",
       "1044694 2011-05-24 15:56:51-04:00      0.000000  2011      5   24    15   \n",
       "1044695 2011-05-24 15:56:54-04:00      0.000000  2011      5   24    15   \n",
       "1044696 2011-05-24 15:56:57-04:00      0.000000  2011      5   24    15   \n",
       "1044697 2011-05-24 15:57:00-04:00      0.000000  2011      5   24    15   \n",
       "\n",
       "         minute  second  \n",
       "0            22       9  \n",
       "1            22      12  \n",
       "2            22      15  \n",
       "3            22      18  \n",
       "4            22      21  \n",
       "...         ...     ...  \n",
       "1044693      56      48  \n",
       "1044694      56      51  \n",
       "1044695      56      54  \n",
       "1044696      56      57  \n",
       "1044697      57       0  \n",
       "\n",
       "[1044698 rows x 8 columns]"
      ]
     },
     "execution_count": 15,
     "metadata": {},
     "output_type": "execute_result"
    }
   ],
   "source": [
    "reedd_allpowerseries"
   ]
  },
  {
   "cell_type": "code",
   "execution_count": 16,
   "metadata": {},
   "outputs": [
    {
     "data": {
      "text/plain": [
       "date            0\n",
       "power_active    0\n",
       "year            0\n",
       "month           0\n",
       "day             0\n",
       "hour            0\n",
       "minute          0\n",
       "second          0\n",
       "dtype: int64"
      ]
     },
     "execution_count": 16,
     "metadata": {},
     "output_type": "execute_result"
    }
   ],
   "source": [
    "reedd_allpowerseries.isnull().sum()"
   ]
  },
  {
   "cell_type": "code",
   "execution_count": 67,
   "metadata": {},
   "outputs": [],
   "source": [
    "reedd_allpowerseries.to_csv('REDD_building1.csv')"
   ]
  },
  {
   "cell_type": "code",
   "execution_count": 11,
   "metadata": {},
   "outputs": [],
   "source": [
    "gafs_diff = GramianAngularField( method='difference')"
   ]
  },
  {
   "cell_type": "code",
   "execution_count": 7,
   "metadata": {},
   "outputs": [],
   "source": [
    "def ceatedimage(data):\n",
    "\n",
    "    set_date = set()\n",
    "    temp_power = []\n",
    "    \n",
    "    \n",
    "    for index in range(len(data)):\n",
    "\n",
    "        year = data.iloc[index]['year']\n",
    "        month = data.iloc[index]['month']\n",
    "        day = data.iloc[index]['day']\n",
    "        \n",
    "        if index == 0:\n",
    "            set_date.add(tuple((year,month,day)))\n",
    "            temp_power.append(data.iloc[index]['power_active'])\n",
    "        \n",
    "        else:\n",
    "            if tuple((year,month,day)) not in set_date:\n",
    "                set_date.add(tuple((year,month,day)))\n",
    "\n",
    "                #fit transform with gasf\n",
    "                gafs_diff = GramianAngularField(image_size=224/len(np.array(temp_power)), method='summation')\n",
    "                gafs_power = gafs_diff.fit_transform(np.array(temp_power).reshape((1,-1)))\n",
    "                #print(gafs_power[0])\n",
    "                name = str(year) + '-' + str(month) + '-' + str(day) + '.png'\n",
    "                #create image for this day\n",
    "                plt.imsave('/Users/gracepichar/Documents/GitHub/Data-Science-project/REDD/before-process/builidg-1/ON/' + name, gafs_power[0] , cmap='gray')\n",
    "\n",
    "                #create new list for power series\n",
    "                temp_power = []\n",
    "                temp_power.append(data.iloc[index]['power_active'])\n",
    "\n",
    "            else:\n",
    "                temp_power.append(data.iloc[index]['power_active'])"
   ]
  },
  {
   "cell_type": "code",
   "execution_count": null,
   "metadata": {},
   "outputs": [],
   "source": [
    "ceatedimage(reedd_allpowerseries)"
   ]
  },
  {
   "cell_type": "markdown",
   "metadata": {},
   "source": [
    "**Building 1 fridge**"
   ]
  },
  {
   "cell_type": "code",
   "execution_count": 44,
   "metadata": {},
   "outputs": [],
   "source": [
    "fridge_building1 = data_reedd.buildings[1].elec['fridge'].power_series_all_data()"
   ]
  },
  {
   "cell_type": "code",
   "execution_count": 45,
   "metadata": {},
   "outputs": [
    {
     "data": {
      "text/plain": [
       "2011-04-18 09:22:13-04:00      6.0\n",
       "2011-04-18 09:22:16-04:00      6.0\n",
       "2011-04-18 09:22:20-04:00      6.0\n",
       "2011-04-18 09:22:23-04:00      6.0\n",
       "2011-04-18 09:22:26-04:00      6.0\n",
       "                             ...  \n",
       "2011-05-24 15:56:20-04:00    186.0\n",
       "2011-05-24 15:56:23-04:00    187.0\n",
       "2011-05-24 15:56:27-04:00    190.0\n",
       "2011-05-24 15:56:30-04:00    189.0\n",
       "2011-05-24 15:56:34-04:00    186.0\n",
       "Name: (power, active), Length: 745878, dtype: float32"
      ]
     },
     "execution_count": 45,
     "metadata": {},
     "output_type": "execute_result"
    }
   ],
   "source": [
    "fridge_building1 "
   ]
  },
  {
   "cell_type": "code",
   "execution_count": 46,
   "metadata": {},
   "outputs": [
    {
     "data": {
      "text/html": [
       "<div>\n",
       "<style scoped>\n",
       "    .dataframe tbody tr th:only-of-type {\n",
       "        vertical-align: middle;\n",
       "    }\n",
       "\n",
       "    .dataframe tbody tr th {\n",
       "        vertical-align: top;\n",
       "    }\n",
       "\n",
       "    .dataframe thead th {\n",
       "        text-align: right;\n",
       "    }\n",
       "</style>\n",
       "<table border=\"1\" class=\"dataframe\">\n",
       "  <thead>\n",
       "    <tr style=\"text-align: right;\">\n",
       "      <th></th>\n",
       "      <th>power_device</th>\n",
       "    </tr>\n",
       "    <tr>\n",
       "      <th>date</th>\n",
       "      <th></th>\n",
       "    </tr>\n",
       "  </thead>\n",
       "  <tbody>\n",
       "    <tr>\n",
       "      <th>2011-04-18 09:22:13-04:00</th>\n",
       "      <td>6.0</td>\n",
       "    </tr>\n",
       "    <tr>\n",
       "      <th>2011-04-18 09:22:16-04:00</th>\n",
       "      <td>6.0</td>\n",
       "    </tr>\n",
       "    <tr>\n",
       "      <th>2011-04-18 09:22:20-04:00</th>\n",
       "      <td>6.0</td>\n",
       "    </tr>\n",
       "    <tr>\n",
       "      <th>2011-04-18 09:22:23-04:00</th>\n",
       "      <td>6.0</td>\n",
       "    </tr>\n",
       "    <tr>\n",
       "      <th>2011-04-18 09:22:26-04:00</th>\n",
       "      <td>6.0</td>\n",
       "    </tr>\n",
       "    <tr>\n",
       "      <th>...</th>\n",
       "      <td>...</td>\n",
       "    </tr>\n",
       "    <tr>\n",
       "      <th>2011-05-24 15:56:20-04:00</th>\n",
       "      <td>186.0</td>\n",
       "    </tr>\n",
       "    <tr>\n",
       "      <th>2011-05-24 15:56:23-04:00</th>\n",
       "      <td>187.0</td>\n",
       "    </tr>\n",
       "    <tr>\n",
       "      <th>2011-05-24 15:56:27-04:00</th>\n",
       "      <td>190.0</td>\n",
       "    </tr>\n",
       "    <tr>\n",
       "      <th>2011-05-24 15:56:30-04:00</th>\n",
       "      <td>189.0</td>\n",
       "    </tr>\n",
       "    <tr>\n",
       "      <th>2011-05-24 15:56:34-04:00</th>\n",
       "      <td>186.0</td>\n",
       "    </tr>\n",
       "  </tbody>\n",
       "</table>\n",
       "<p>745878 rows × 1 columns</p>\n",
       "</div>"
      ],
      "text/plain": [
       "                           power_device\n",
       "date                                   \n",
       "2011-04-18 09:22:13-04:00           6.0\n",
       "2011-04-18 09:22:16-04:00           6.0\n",
       "2011-04-18 09:22:20-04:00           6.0\n",
       "2011-04-18 09:22:23-04:00           6.0\n",
       "2011-04-18 09:22:26-04:00           6.0\n",
       "...                                 ...\n",
       "2011-05-24 15:56:20-04:00         186.0\n",
       "2011-05-24 15:56:23-04:00         187.0\n",
       "2011-05-24 15:56:27-04:00         190.0\n",
       "2011-05-24 15:56:30-04:00         189.0\n",
       "2011-05-24 15:56:34-04:00         186.0\n",
       "\n",
       "[745878 rows x 1 columns]"
      ]
     },
     "execution_count": 46,
     "metadata": {},
     "output_type": "execute_result"
    }
   ],
   "source": [
    "fridge_building1 = pd.DataFrame(fridge_building1)\n",
    "fridge_building1.index.name = 'date'\n",
    "fridge_building1.columns = ['power_device']\n",
    "fridge_building1['power_device'] = fridge_building1['power_device'].fillna(0)\n",
    "fridge_building1"
   ]
  },
  {
   "cell_type": "code",
   "execution_count": 17,
   "metadata": {},
   "outputs": [
    {
     "data": {
      "text/plain": [
       "power_device    0\n",
       "dtype: int64"
      ]
     },
     "execution_count": 17,
     "metadata": {},
     "output_type": "execute_result"
    }
   ],
   "source": [
    "fridge_building1.isnull().sum()"
   ]
  },
  {
   "cell_type": "code",
   "execution_count": 18,
   "metadata": {},
   "outputs": [],
   "source": [
    "fridge_building1 = fridge_building1.reset_index()"
   ]
  },
  {
   "cell_type": "code",
   "execution_count": 19,
   "metadata": {},
   "outputs": [
    {
     "data": {
      "text/html": [
       "<div>\n",
       "<style scoped>\n",
       "    .dataframe tbody tr th:only-of-type {\n",
       "        vertical-align: middle;\n",
       "    }\n",
       "\n",
       "    .dataframe tbody tr th {\n",
       "        vertical-align: top;\n",
       "    }\n",
       "\n",
       "    .dataframe thead th {\n",
       "        text-align: right;\n",
       "    }\n",
       "</style>\n",
       "<table border=\"1\" class=\"dataframe\">\n",
       "  <thead>\n",
       "    <tr style=\"text-align: right;\">\n",
       "      <th></th>\n",
       "      <th>date</th>\n",
       "      <th>power_device</th>\n",
       "    </tr>\n",
       "  </thead>\n",
       "  <tbody>\n",
       "    <tr>\n",
       "      <th>0</th>\n",
       "      <td>2011-04-18 09:22:13-04:00</td>\n",
       "      <td>6.0</td>\n",
       "    </tr>\n",
       "    <tr>\n",
       "      <th>1</th>\n",
       "      <td>2011-04-18 09:22:16-04:00</td>\n",
       "      <td>6.0</td>\n",
       "    </tr>\n",
       "    <tr>\n",
       "      <th>2</th>\n",
       "      <td>2011-04-18 09:22:20-04:00</td>\n",
       "      <td>6.0</td>\n",
       "    </tr>\n",
       "    <tr>\n",
       "      <th>3</th>\n",
       "      <td>2011-04-18 09:22:23-04:00</td>\n",
       "      <td>6.0</td>\n",
       "    </tr>\n",
       "    <tr>\n",
       "      <th>4</th>\n",
       "      <td>2011-04-18 09:22:26-04:00</td>\n",
       "      <td>6.0</td>\n",
       "    </tr>\n",
       "    <tr>\n",
       "      <th>...</th>\n",
       "      <td>...</td>\n",
       "      <td>...</td>\n",
       "    </tr>\n",
       "    <tr>\n",
       "      <th>745873</th>\n",
       "      <td>2011-05-24 15:56:20-04:00</td>\n",
       "      <td>186.0</td>\n",
       "    </tr>\n",
       "    <tr>\n",
       "      <th>745874</th>\n",
       "      <td>2011-05-24 15:56:23-04:00</td>\n",
       "      <td>187.0</td>\n",
       "    </tr>\n",
       "    <tr>\n",
       "      <th>745875</th>\n",
       "      <td>2011-05-24 15:56:27-04:00</td>\n",
       "      <td>190.0</td>\n",
       "    </tr>\n",
       "    <tr>\n",
       "      <th>745876</th>\n",
       "      <td>2011-05-24 15:56:30-04:00</td>\n",
       "      <td>189.0</td>\n",
       "    </tr>\n",
       "    <tr>\n",
       "      <th>745877</th>\n",
       "      <td>2011-05-24 15:56:34-04:00</td>\n",
       "      <td>186.0</td>\n",
       "    </tr>\n",
       "  </tbody>\n",
       "</table>\n",
       "<p>745878 rows × 2 columns</p>\n",
       "</div>"
      ],
      "text/plain": [
       "                            date  power_device\n",
       "0      2011-04-18 09:22:13-04:00           6.0\n",
       "1      2011-04-18 09:22:16-04:00           6.0\n",
       "2      2011-04-18 09:22:20-04:00           6.0\n",
       "3      2011-04-18 09:22:23-04:00           6.0\n",
       "4      2011-04-18 09:22:26-04:00           6.0\n",
       "...                          ...           ...\n",
       "745873 2011-05-24 15:56:20-04:00         186.0\n",
       "745874 2011-05-24 15:56:23-04:00         187.0\n",
       "745875 2011-05-24 15:56:27-04:00         190.0\n",
       "745876 2011-05-24 15:56:30-04:00         189.0\n",
       "745877 2011-05-24 15:56:34-04:00         186.0\n",
       "\n",
       "[745878 rows x 2 columns]"
      ]
     },
     "execution_count": 19,
     "metadata": {},
     "output_type": "execute_result"
    }
   ],
   "source": [
    "fridge_building1"
   ]
  },
  {
   "cell_type": "code",
   "execution_count": 20,
   "metadata": {},
   "outputs": [],
   "source": [
    "fridge_building1.to_csv('REDD-fridge_building1.csv')"
   ]
  },
  {
   "cell_type": "markdown",
   "metadata": {},
   "source": [
    "**Washer Dryer Building1**"
   ]
  },
  {
   "cell_type": "code",
   "execution_count": 47,
   "metadata": {},
   "outputs": [
    {
     "name": "stdout",
     "output_type": "stream",
     "text": [
      "Loading data for meter ElecMeterID(instance=20, building=1, dataset='REDD')     \n",
      "Done loading data all meters for this chunk.\n"
     ]
    }
   ],
   "source": [
    "washer_building1 = data_reedd.buildings[1].elec['washer dryer'].power_series_all_data()"
   ]
  },
  {
   "cell_type": "code",
   "execution_count": 48,
   "metadata": {},
   "outputs": [
    {
     "data": {
      "text/plain": [
       "2011-04-18 09:22:12-04:00    0.0\n",
       "2011-04-18 09:22:15-04:00    0.0\n",
       "2011-04-18 09:22:18-04:00    0.0\n",
       "2011-04-18 09:22:21-04:00    0.0\n",
       "2011-04-18 09:22:24-04:00    0.0\n",
       "                            ... \n",
       "2011-05-24 15:56:21-04:00    0.0\n",
       "2011-05-24 15:56:24-04:00    0.0\n",
       "2011-05-24 15:56:27-04:00    0.0\n",
       "2011-05-24 15:56:30-04:00    0.0\n",
       "2011-05-24 15:56:33-04:00    NaN\n",
       "Freq: 3S, Name: (power, active), Length: 1044688, dtype: float32"
      ]
     },
     "execution_count": 48,
     "metadata": {},
     "output_type": "execute_result"
    }
   ],
   "source": [
    "washer_building1"
   ]
  },
  {
   "cell_type": "code",
   "execution_count": 31,
   "metadata": {},
   "outputs": [],
   "source": [
    "washer_building1 = pd.DataFrame(washer_building1)\n",
    "washer_building1.index.name = 'date'\n",
    "washer_building1.columns = ['power_device']\n",
    "washer_building1['power_device'] = washer_building1['power_device'].fillna(0)\n",
    "washer_building1 = washer_building1.reset_index()"
   ]
  },
  {
   "cell_type": "code",
   "execution_count": 40,
   "metadata": {},
   "outputs": [
    {
     "data": {
      "text/html": [
       "<div>\n",
       "<style scoped>\n",
       "    .dataframe tbody tr th:only-of-type {\n",
       "        vertical-align: middle;\n",
       "    }\n",
       "\n",
       "    .dataframe tbody tr th {\n",
       "        vertical-align: top;\n",
       "    }\n",
       "\n",
       "    .dataframe thead th {\n",
       "        text-align: right;\n",
       "    }\n",
       "</style>\n",
       "<table border=\"1\" class=\"dataframe\">\n",
       "  <thead>\n",
       "    <tr style=\"text-align: right;\">\n",
       "      <th></th>\n",
       "      <th>power_device</th>\n",
       "    </tr>\n",
       "  </thead>\n",
       "  <tbody>\n",
       "    <tr>\n",
       "      <th>count</th>\n",
       "      <td>1.044688e+06</td>\n",
       "    </tr>\n",
       "    <tr>\n",
       "      <th>mean</th>\n",
       "      <td>3.747009e+01</td>\n",
       "    </tr>\n",
       "    <tr>\n",
       "      <th>std</th>\n",
       "      <td>3.119188e+02</td>\n",
       "    </tr>\n",
       "    <tr>\n",
       "      <th>min</th>\n",
       "      <td>0.000000e+00</td>\n",
       "    </tr>\n",
       "    <tr>\n",
       "      <th>25%</th>\n",
       "      <td>0.000000e+00</td>\n",
       "    </tr>\n",
       "    <tr>\n",
       "      <th>50%</th>\n",
       "      <td>0.000000e+00</td>\n",
       "    </tr>\n",
       "    <tr>\n",
       "      <th>75%</th>\n",
       "      <td>0.000000e+00</td>\n",
       "    </tr>\n",
       "    <tr>\n",
       "      <th>max</th>\n",
       "      <td>4.856000e+03</td>\n",
       "    </tr>\n",
       "  </tbody>\n",
       "</table>\n",
       "</div>"
      ],
      "text/plain": [
       "       power_device\n",
       "count  1.044688e+06\n",
       "mean   3.747009e+01\n",
       "std    3.119188e+02\n",
       "min    0.000000e+00\n",
       "25%    0.000000e+00\n",
       "50%    0.000000e+00\n",
       "75%    0.000000e+00\n",
       "max    4.856000e+03"
      ]
     },
     "execution_count": 40,
     "metadata": {},
     "output_type": "execute_result"
    }
   ],
   "source": [
    "washer_building1.describe()"
   ]
  },
  {
   "cell_type": "code",
   "execution_count": 41,
   "metadata": {},
   "outputs": [],
   "source": [
    "washer_building1.to_csv('REDD-washer_building1.csv')"
   ]
  },
  {
   "cell_type": "markdown",
   "metadata": {},
   "source": [
    "**Microwave**"
   ]
  },
  {
   "cell_type": "code",
   "execution_count": 49,
   "metadata": {},
   "outputs": [],
   "source": [
    "microwave_building1 = data_reedd.buildings[1].elec['microwave'].power_series_all_data()"
   ]
  },
  {
   "cell_type": "code",
   "execution_count": 50,
   "metadata": {},
   "outputs": [
    {
     "data": {
      "text/plain": [
       "2011-04-18 09:22:13-04:00    5.0\n",
       "2011-04-18 09:22:16-04:00    5.0\n",
       "2011-04-18 09:22:20-04:00    5.0\n",
       "2011-04-18 09:22:23-04:00    5.0\n",
       "2011-04-18 09:22:26-04:00    5.0\n",
       "                            ... \n",
       "2011-05-24 15:56:20-04:00    4.0\n",
       "2011-05-24 15:56:23-04:00    4.0\n",
       "2011-05-24 15:56:27-04:00    4.0\n",
       "2011-05-24 15:56:30-04:00    4.0\n",
       "2011-05-24 15:56:34-04:00    4.0\n",
       "Name: (power, active), Length: 745878, dtype: float32"
      ]
     },
     "execution_count": 50,
     "metadata": {},
     "output_type": "execute_result"
    }
   ],
   "source": [
    "microwave_building1"
   ]
  },
  {
   "cell_type": "code",
   "execution_count": 51,
   "metadata": {},
   "outputs": [],
   "source": [
    "microwave_building1 = pd.DataFrame(microwave_building1)\n",
    "microwave_building1.index.name = 'date'\n",
    "microwave_building1.columns = ['power_device']\n",
    "microwave_building1['power_device'] = microwave_building1['power_device'].fillna(0)\n",
    "microwave_building1 = microwave_building1.reset_index()"
   ]
  },
  {
   "cell_type": "code",
   "execution_count": 52,
   "metadata": {},
   "outputs": [
    {
     "data": {
      "text/html": [
       "<div>\n",
       "<style scoped>\n",
       "    .dataframe tbody tr th:only-of-type {\n",
       "        vertical-align: middle;\n",
       "    }\n",
       "\n",
       "    .dataframe tbody tr th {\n",
       "        vertical-align: top;\n",
       "    }\n",
       "\n",
       "    .dataframe thead th {\n",
       "        text-align: right;\n",
       "    }\n",
       "</style>\n",
       "<table border=\"1\" class=\"dataframe\">\n",
       "  <thead>\n",
       "    <tr style=\"text-align: right;\">\n",
       "      <th></th>\n",
       "      <th>date</th>\n",
       "      <th>power_device</th>\n",
       "    </tr>\n",
       "  </thead>\n",
       "  <tbody>\n",
       "    <tr>\n",
       "      <th>0</th>\n",
       "      <td>2011-04-18 09:22:13-04:00</td>\n",
       "      <td>5.0</td>\n",
       "    </tr>\n",
       "    <tr>\n",
       "      <th>1</th>\n",
       "      <td>2011-04-18 09:22:16-04:00</td>\n",
       "      <td>5.0</td>\n",
       "    </tr>\n",
       "    <tr>\n",
       "      <th>2</th>\n",
       "      <td>2011-04-18 09:22:20-04:00</td>\n",
       "      <td>5.0</td>\n",
       "    </tr>\n",
       "    <tr>\n",
       "      <th>3</th>\n",
       "      <td>2011-04-18 09:22:23-04:00</td>\n",
       "      <td>5.0</td>\n",
       "    </tr>\n",
       "    <tr>\n",
       "      <th>4</th>\n",
       "      <td>2011-04-18 09:22:26-04:00</td>\n",
       "      <td>5.0</td>\n",
       "    </tr>\n",
       "    <tr>\n",
       "      <th>...</th>\n",
       "      <td>...</td>\n",
       "      <td>...</td>\n",
       "    </tr>\n",
       "    <tr>\n",
       "      <th>745873</th>\n",
       "      <td>2011-05-24 15:56:20-04:00</td>\n",
       "      <td>4.0</td>\n",
       "    </tr>\n",
       "    <tr>\n",
       "      <th>745874</th>\n",
       "      <td>2011-05-24 15:56:23-04:00</td>\n",
       "      <td>4.0</td>\n",
       "    </tr>\n",
       "    <tr>\n",
       "      <th>745875</th>\n",
       "      <td>2011-05-24 15:56:27-04:00</td>\n",
       "      <td>4.0</td>\n",
       "    </tr>\n",
       "    <tr>\n",
       "      <th>745876</th>\n",
       "      <td>2011-05-24 15:56:30-04:00</td>\n",
       "      <td>4.0</td>\n",
       "    </tr>\n",
       "    <tr>\n",
       "      <th>745877</th>\n",
       "      <td>2011-05-24 15:56:34-04:00</td>\n",
       "      <td>4.0</td>\n",
       "    </tr>\n",
       "  </tbody>\n",
       "</table>\n",
       "<p>745878 rows × 2 columns</p>\n",
       "</div>"
      ],
      "text/plain": [
       "                            date  power_device\n",
       "0      2011-04-18 09:22:13-04:00           5.0\n",
       "1      2011-04-18 09:22:16-04:00           5.0\n",
       "2      2011-04-18 09:22:20-04:00           5.0\n",
       "3      2011-04-18 09:22:23-04:00           5.0\n",
       "4      2011-04-18 09:22:26-04:00           5.0\n",
       "...                          ...           ...\n",
       "745873 2011-05-24 15:56:20-04:00           4.0\n",
       "745874 2011-05-24 15:56:23-04:00           4.0\n",
       "745875 2011-05-24 15:56:27-04:00           4.0\n",
       "745876 2011-05-24 15:56:30-04:00           4.0\n",
       "745877 2011-05-24 15:56:34-04:00           4.0\n",
       "\n",
       "[745878 rows x 2 columns]"
      ]
     },
     "execution_count": 52,
     "metadata": {},
     "output_type": "execute_result"
    }
   ],
   "source": [
    "microwave_building1"
   ]
  },
  {
   "cell_type": "code",
   "execution_count": 53,
   "metadata": {},
   "outputs": [],
   "source": [
    "microwave_building1.to_csv('REDD-microwave_building1.csv')"
   ]
  },
  {
   "cell_type": "markdown",
   "metadata": {},
   "source": [
    "**fridge-across buliding**"
   ]
  },
  {
   "cell_type": "code",
   "execution_count": 3,
   "metadata": {},
   "outputs": [
    {
     "name": "stdout",
     "output_type": "stream",
     "text": [
      "Loading data for meter ElecMeterID(instance=8, building=6, dataset='REDD')      \n",
      "Done loading data all meters for this chunk.\n"
     ]
    }
   ],
   "source": [
    "fridge_across_building = nilmtk.global_meter_group.select_using_appliances(type='fridge').power_series_all_data()"
   ]
  },
  {
   "cell_type": "code",
   "execution_count": 4,
   "metadata": {},
   "outputs": [],
   "source": [
    "fridge_across_building = pd.DataFrame(fridge_across_building)\n",
    "fridge_across_building.index.name = 'date'\n",
    "fridge_across_building.columns = ['power_device']\n",
    "fridge_across_building['power_device'] = fridge_across_building['power_device'].fillna(0)\n",
    "fridge_across_building = fridge_across_building.reset_index()"
   ]
  },
  {
   "cell_type": "code",
   "execution_count": 5,
   "metadata": {},
   "outputs": [
    {
     "data": {
      "text/html": [
       "<div>\n",
       "<style scoped>\n",
       "    .dataframe tbody tr th:only-of-type {\n",
       "        vertical-align: middle;\n",
       "    }\n",
       "\n",
       "    .dataframe tbody tr th {\n",
       "        vertical-align: top;\n",
       "    }\n",
       "\n",
       "    .dataframe thead th {\n",
       "        text-align: right;\n",
       "    }\n",
       "</style>\n",
       "<table border=\"1\" class=\"dataframe\">\n",
       "  <thead>\n",
       "    <tr style=\"text-align: right;\">\n",
       "      <th></th>\n",
       "      <th>date</th>\n",
       "      <th>power_device</th>\n",
       "    </tr>\n",
       "  </thead>\n",
       "  <tbody>\n",
       "    <tr>\n",
       "      <th>0</th>\n",
       "      <td>2011-04-16 01:11:30-04:00</td>\n",
       "      <td>119.0</td>\n",
       "    </tr>\n",
       "    <tr>\n",
       "      <th>1</th>\n",
       "      <td>2011-04-16 01:11:33-04:00</td>\n",
       "      <td>118.0</td>\n",
       "    </tr>\n",
       "    <tr>\n",
       "      <th>2</th>\n",
       "      <td>2011-04-16 01:11:36-04:00</td>\n",
       "      <td>119.0</td>\n",
       "    </tr>\n",
       "    <tr>\n",
       "      <th>3</th>\n",
       "      <td>2011-04-16 01:11:39-04:00</td>\n",
       "      <td>119.0</td>\n",
       "    </tr>\n",
       "    <tr>\n",
       "      <th>4</th>\n",
       "      <td>2011-04-16 01:11:42-04:00</td>\n",
       "      <td>117.0</td>\n",
       "    </tr>\n",
       "    <tr>\n",
       "      <th>...</th>\n",
       "      <td>...</td>\n",
       "      <td>...</td>\n",
       "    </tr>\n",
       "    <tr>\n",
       "      <th>1694417</th>\n",
       "      <td>2011-06-13 21:12:21-04:00</td>\n",
       "      <td>138.0</td>\n",
       "    </tr>\n",
       "    <tr>\n",
       "      <th>1694418</th>\n",
       "      <td>2011-06-13 21:12:24-04:00</td>\n",
       "      <td>140.0</td>\n",
       "    </tr>\n",
       "    <tr>\n",
       "      <th>1694419</th>\n",
       "      <td>2011-06-13 21:12:27-04:00</td>\n",
       "      <td>140.0</td>\n",
       "    </tr>\n",
       "    <tr>\n",
       "      <th>1694420</th>\n",
       "      <td>2011-06-13 21:12:30-04:00</td>\n",
       "      <td>140.0</td>\n",
       "    </tr>\n",
       "    <tr>\n",
       "      <th>1694421</th>\n",
       "      <td>2011-06-13 21:12:33-04:00</td>\n",
       "      <td>143.0</td>\n",
       "    </tr>\n",
       "  </tbody>\n",
       "</table>\n",
       "<p>1694422 rows × 2 columns</p>\n",
       "</div>"
      ],
      "text/plain": [
       "                             date  power_device\n",
       "0       2011-04-16 01:11:30-04:00         119.0\n",
       "1       2011-04-16 01:11:33-04:00         118.0\n",
       "2       2011-04-16 01:11:36-04:00         119.0\n",
       "3       2011-04-16 01:11:39-04:00         119.0\n",
       "4       2011-04-16 01:11:42-04:00         117.0\n",
       "...                           ...           ...\n",
       "1694417 2011-06-13 21:12:21-04:00         138.0\n",
       "1694418 2011-06-13 21:12:24-04:00         140.0\n",
       "1694419 2011-06-13 21:12:27-04:00         140.0\n",
       "1694420 2011-06-13 21:12:30-04:00         140.0\n",
       "1694421 2011-06-13 21:12:33-04:00         143.0\n",
       "\n",
       "[1694422 rows x 2 columns]"
      ]
     },
     "execution_count": 5,
     "metadata": {},
     "output_type": "execute_result"
    }
   ],
   "source": [
    "fridge_across_building"
   ]
  },
  {
   "cell_type": "code",
   "execution_count": 9,
   "metadata": {},
   "outputs": [],
   "source": [
    "fridge_across_building.to_csv('fridge_across-building.csv')"
   ]
  },
  {
   "cell_type": "code",
   "execution_count": 20,
   "metadata": {},
   "outputs": [],
   "source": [
    "import timeit"
   ]
  },
  {
   "cell_type": "markdown",
   "metadata": {},
   "source": [
    "**Summation**"
   ]
  },
  {
   "cell_type": "code",
   "execution_count": 34,
   "metadata": {},
   "outputs": [],
   "source": [
    "def ceated_deactiveimage_acrossbuliding(data1, data2):\n",
    "\n",
    "    set_date = set()\n",
    "    temp_power = []\n",
    "    start = timeit.default_timer()\n",
    "    data = data1.join(data2.set_index('date'), on = 'date')\n",
    "    data['power_device']=data['power_device'].fillna(value = data['power_device'].mean())\n",
    "    data['power_deactive'] = pd.Series([max(0, i) for i in data['power_active']-data['power_device']])\n",
    "    stop = timeit.default_timer()\n",
    "    print('create Dataframe ' , stop-start)\n",
    "    \n",
    "    start = timeit.default_timer()\n",
    "    for index in range(len(data)):\n",
    "\n",
    "        year = data.iloc[index]['year']\n",
    "        month = data.iloc[index]['month']\n",
    "        day = data.iloc[index]['day']\n",
    "            \n",
    "        \n",
    "        if index == 0:\n",
    "            set_date.add(tuple((year,month,day)))\n",
    "            temp_power.append(data.iloc[index]['power_deactive'])\n",
    "        \n",
    "        else:\n",
    "            if tuple((year,month,day)) not in set_date:\n",
    "                set_date.add(tuple((year,month,day)))\n",
    "                #gafs\n",
    "                gafs_diff = GramianAngularField(image_size=224/len(np.array(temp_power)), method='summation')\n",
    "                #fit transform with gasf\n",
    "                gafs_power = gafs_diff.fit_transform(np.array(temp_power).reshape((1,-1)))\n",
    "                \n",
    "                #print(gafs_power[0])\n",
    "                name = str(year) + '-' + str(month) + '-' + str(day) + '.png'\n",
    "                \n",
    "                #create image for this day\n",
    "                \n",
    "                plt.imsave('/Users/gracepichar/Documents/GitHub/Data-Science-project/REDD/reshape-across-building/sum/OFF_microwave_SUM/' + name, gafs_power[0] , cmap='gray')\n",
    "                #image = imageio.imwrite(name, gafs_power)\n",
    "                #image = im.fromarray(gafs_power, 'RGB')\n",
    "                #resize = image.resize((224, 224))\n",
    "                #gray_scale = ImageOps.grayscale(resize) \n",
    "                #gray_scale.save('/Users/gracepichar/Documents/GitHub/Data-Science-project/acrosshouse/OFF-acoss-kettle/' + name)\n",
    "\n",
    "                #create new list for power series\n",
    "                temp_power = []\n",
    "                temp_power.append(data.iloc[index]['power_deactive'])\n",
    "\n",
    "            else:\n",
    "                temp_power.append(data.iloc[index]['power_deactive'])\n",
    "        \n",
    "    if (index+1)%1000000==0:\n",
    "        stop = timeit.default_timer()\n",
    "        print('iteration ' + str(index+1) + ' :', stop-start)\n",
    "        start = timeit.default_timer()\n"
   ]
  },
  {
   "cell_type": "code",
   "execution_count": 22,
   "metadata": {},
   "outputs": [
    {
     "name": "stdout",
     "output_type": "stream",
     "text": [
      "create Dataframe  0.7637488359999907\n"
     ]
    }
   ],
   "source": [
    "ceated_deactiveimage_acrossbuliding(reedd_allpowerseries, fridge_across_building)"
   ]
  },
  {
   "cell_type": "markdown",
   "metadata": {},
   "source": [
    "**Difference**"
   ]
  },
  {
   "cell_type": "code",
   "execution_count": 44,
   "metadata": {},
   "outputs": [],
   "source": [
    "def ceated_deactiveimage_acrossbuliding2(data1, data2):\n",
    "\n",
    "    set_date = set()\n",
    "    temp_power = []\n",
    "    start = timeit.default_timer()\n",
    "    data = data1.join(data2.set_index('date'), on = 'date')\n",
    "    data['power_device']=data['power_device'].fillna(value = data['power_device'].mean())\n",
    "    data['power_deactive'] = pd.Series([max(0, i) for i in data['power_active']-data['power_device']])\n",
    "    stop = timeit.default_timer()\n",
    "    print('create Dataframe ' , stop-start)\n",
    "    \n",
    "    start = timeit.default_timer()\n",
    "    for index in range(len(data)):\n",
    "\n",
    "        year = data.iloc[index]['year']\n",
    "        month = data.iloc[index]['month']\n",
    "        day = data.iloc[index]['day']\n",
    "            \n",
    "        \n",
    "        if index == 0:\n",
    "            set_date.add(tuple((year,month,day)))\n",
    "            temp_power.append(data.iloc[index]['power_deactive'])\n",
    "        \n",
    "        else:\n",
    "            if tuple((year,month,day)) not in set_date:\n",
    "                set_date.add(tuple((year,month,day)))\n",
    "                #gafs\n",
    "                gafs_diff = GramianAngularField(image_size=224/len(np.array(temp_power)), method='difference')\n",
    "                #fit transform with gasf\n",
    "                gafs_power = gafs_diff.fit_transform(np.array(temp_power).reshape((1,-1)))\n",
    "                \n",
    "                #print(gafs_power[0])\n",
    "                name = str(year) + '-' + str(month) + '-' + str(day) + '.png'\n",
    "                \n",
    "                #create image for this day\n",
    "                \n",
    "                plt.imsave('/Users/gracepichar/Documents/GitHub/Data-Science-project/REDD/reshape-across-building/diff/OFF_microwave_diff/' + name, gafs_power[0] , cmap='gray')\n",
    "                #image = imageio.imwrite(name, gafs_power)\n",
    "                #image = im.fromarray(gafs_power, 'RGB')\n",
    "                #resize = image.resize((224, 224))\n",
    "                #gray_scale = ImageOps.grayscale(resize) \n",
    "                #gray_scale.save('/Users/gracepichar/Documents/GitHub/Data-Science-project/acrosshouse/OFF-acoss-kettle/' + name)\n",
    "\n",
    "                #create new list for power series\n",
    "                temp_power = []\n",
    "                temp_power.append(data.iloc[index]['power_deactive'])\n",
    "\n",
    "            else:\n",
    "                temp_power.append(data.iloc[index]['power_deactive'])\n",
    "        \n",
    "    if (index+1)%1000000==0:\n",
    "        stop = timeit.default_timer()\n",
    "        print('iteration ' + str(index+1) + ' :', stop-start)\n",
    "        start = timeit.default_timer()"
   ]
  },
  {
   "cell_type": "code",
   "execution_count": 39,
   "metadata": {},
   "outputs": [
    {
     "name": "stdout",
     "output_type": "stream",
     "text": [
      "create Dataframe  0.8679561879998801\n"
     ]
    }
   ],
   "source": [
    "ceated_deactiveimage_acrossbuliding2(reedd_allpowerseries, fridge_across_building)"
   ]
  },
  {
   "cell_type": "markdown",
   "metadata": {},
   "source": [
    "**Washer Dryer-across buliding**"
   ]
  },
  {
   "cell_type": "code",
   "execution_count": 23,
   "metadata": {},
   "outputs": [
    {
     "name": "stdout",
     "output_type": "stream",
     "text": [
      "Loading data for meter ElecMeterID(instance=4, building=6, dataset='REDD')      \n",
      "Done loading data all meters for this chunk.\n"
     ]
    }
   ],
   "source": [
    "washer_across_building = nilmtk.global_meter_group.select_using_appliances(type='washer dryer').power_series_all_data()"
   ]
  },
  {
   "cell_type": "code",
   "execution_count": 24,
   "metadata": {},
   "outputs": [],
   "source": [
    "washer_across_building = pd.DataFrame(washer_across_building)\n",
    "washer_across_building.index.name = 'date'\n",
    "washer_across_building.columns = ['power_device']\n",
    "washer_across_building['power_device'] = washer_across_building['power_device'].fillna(0)\n",
    "washer_across_building= washer_across_building.reset_index()"
   ]
  },
  {
   "cell_type": "code",
   "execution_count": 25,
   "metadata": {},
   "outputs": [
    {
     "data": {
      "text/html": [
       "<div>\n",
       "<style scoped>\n",
       "    .dataframe tbody tr th:only-of-type {\n",
       "        vertical-align: middle;\n",
       "    }\n",
       "\n",
       "    .dataframe tbody tr th {\n",
       "        vertical-align: top;\n",
       "    }\n",
       "\n",
       "    .dataframe thead th {\n",
       "        text-align: right;\n",
       "    }\n",
       "</style>\n",
       "<table border=\"1\" class=\"dataframe\">\n",
       "  <thead>\n",
       "    <tr style=\"text-align: right;\">\n",
       "      <th></th>\n",
       "      <th>date</th>\n",
       "      <th>power_device</th>\n",
       "    </tr>\n",
       "  </thead>\n",
       "  <tbody>\n",
       "    <tr>\n",
       "      <th>0</th>\n",
       "      <td>2011-04-16 01:11:30-04:00</td>\n",
       "      <td>0.0</td>\n",
       "    </tr>\n",
       "    <tr>\n",
       "      <th>1</th>\n",
       "      <td>2011-04-16 01:11:33-04:00</td>\n",
       "      <td>0.0</td>\n",
       "    </tr>\n",
       "    <tr>\n",
       "      <th>2</th>\n",
       "      <td>2011-04-16 01:11:36-04:00</td>\n",
       "      <td>0.0</td>\n",
       "    </tr>\n",
       "    <tr>\n",
       "      <th>3</th>\n",
       "      <td>2011-04-16 01:11:39-04:00</td>\n",
       "      <td>0.0</td>\n",
       "    </tr>\n",
       "    <tr>\n",
       "      <th>4</th>\n",
       "      <td>2011-04-16 01:11:42-04:00</td>\n",
       "      <td>0.0</td>\n",
       "    </tr>\n",
       "    <tr>\n",
       "      <th>...</th>\n",
       "      <td>...</td>\n",
       "      <td>...</td>\n",
       "    </tr>\n",
       "    <tr>\n",
       "      <th>1694417</th>\n",
       "      <td>2011-06-13 21:12:21-04:00</td>\n",
       "      <td>3.0</td>\n",
       "    </tr>\n",
       "    <tr>\n",
       "      <th>1694418</th>\n",
       "      <td>2011-06-13 21:12:24-04:00</td>\n",
       "      <td>3.0</td>\n",
       "    </tr>\n",
       "    <tr>\n",
       "      <th>1694419</th>\n",
       "      <td>2011-06-13 21:12:27-04:00</td>\n",
       "      <td>3.0</td>\n",
       "    </tr>\n",
       "    <tr>\n",
       "      <th>1694420</th>\n",
       "      <td>2011-06-13 21:12:30-04:00</td>\n",
       "      <td>3.0</td>\n",
       "    </tr>\n",
       "    <tr>\n",
       "      <th>1694421</th>\n",
       "      <td>2011-06-13 21:12:33-04:00</td>\n",
       "      <td>3.0</td>\n",
       "    </tr>\n",
       "  </tbody>\n",
       "</table>\n",
       "<p>1694422 rows × 2 columns</p>\n",
       "</div>"
      ],
      "text/plain": [
       "                             date  power_device\n",
       "0       2011-04-16 01:11:30-04:00           0.0\n",
       "1       2011-04-16 01:11:33-04:00           0.0\n",
       "2       2011-04-16 01:11:36-04:00           0.0\n",
       "3       2011-04-16 01:11:39-04:00           0.0\n",
       "4       2011-04-16 01:11:42-04:00           0.0\n",
       "...                           ...           ...\n",
       "1694417 2011-06-13 21:12:21-04:00           3.0\n",
       "1694418 2011-06-13 21:12:24-04:00           3.0\n",
       "1694419 2011-06-13 21:12:27-04:00           3.0\n",
       "1694420 2011-06-13 21:12:30-04:00           3.0\n",
       "1694421 2011-06-13 21:12:33-04:00           3.0\n",
       "\n",
       "[1694422 rows x 2 columns]"
      ]
     },
     "execution_count": 25,
     "metadata": {},
     "output_type": "execute_result"
    }
   ],
   "source": [
    "washer_across_building"
   ]
  },
  {
   "cell_type": "code",
   "execution_count": 14,
   "metadata": {},
   "outputs": [],
   "source": [
    "washer_across_building.to_csv('washer_across-building.csv')"
   ]
  },
  {
   "cell_type": "markdown",
   "metadata": {},
   "source": [
    "**Summation**"
   ]
  },
  {
   "cell_type": "code",
   "execution_count": 27,
   "metadata": {},
   "outputs": [
    {
     "name": "stdout",
     "output_type": "stream",
     "text": [
      "create Dataframe  0.7525876219999645\n"
     ]
    }
   ],
   "source": [
    "ceated_deactiveimage_acrossbuliding(reedd_allpowerseries, washer_across_building)"
   ]
  },
  {
   "cell_type": "markdown",
   "metadata": {},
   "source": [
    "**Difference**"
   ]
  },
  {
   "cell_type": "code",
   "execution_count": 43,
   "metadata": {},
   "outputs": [
    {
     "name": "stdout",
     "output_type": "stream",
     "text": [
      "create Dataframe  0.7956617859999824\n"
     ]
    }
   ],
   "source": [
    "ceated_deactiveimage_acrossbuliding2(reedd_allpowerseries, washer_across_building)"
   ]
  },
  {
   "cell_type": "markdown",
   "metadata": {},
   "source": [
    "**Microwave-across buliding**"
   ]
  },
  {
   "cell_type": "code",
   "execution_count": 45,
   "metadata": {},
   "outputs": [
    {
     "name": "stdout",
     "output_type": "stream",
     "text": [
      "Loading data for meter ElecMeterID(instance=3, building=5, dataset='REDD')      \n",
      "Done loading data all meters for this chunk.\n"
     ]
    }
   ],
   "source": [
    "microwave_across_building = nilmtk.global_meter_group.select_using_appliances(type='microwave').power_series_all_data()"
   ]
  },
  {
   "cell_type": "code",
   "execution_count": 46,
   "metadata": {},
   "outputs": [],
   "source": [
    "microwave_across_building = pd.DataFrame(microwave_across_building)\n",
    "microwave_across_building.index.name = 'date'\n",
    "microwave_across_building.columns = ['power_device']\n",
    "microwave_across_building['power_device'] = microwave_across_building['power_device'].fillna(0)\n",
    "microwave_across_building= microwave_across_building.reset_index()"
   ]
  },
  {
   "cell_type": "code",
   "execution_count": 47,
   "metadata": {},
   "outputs": [
    {
     "data": {
      "text/html": [
       "<div>\n",
       "<style scoped>\n",
       "    .dataframe tbody tr th:only-of-type {\n",
       "        vertical-align: middle;\n",
       "    }\n",
       "\n",
       "    .dataframe tbody tr th {\n",
       "        vertical-align: top;\n",
       "    }\n",
       "\n",
       "    .dataframe thead th {\n",
       "        text-align: right;\n",
       "    }\n",
       "</style>\n",
       "<table border=\"1\" class=\"dataframe\">\n",
       "  <thead>\n",
       "    <tr style=\"text-align: right;\">\n",
       "      <th></th>\n",
       "      <th>date</th>\n",
       "      <th>power_device</th>\n",
       "    </tr>\n",
       "  </thead>\n",
       "  <tbody>\n",
       "    <tr>\n",
       "      <th>0</th>\n",
       "      <td>2011-04-16 01:11:30-04:00</td>\n",
       "      <td>2.0</td>\n",
       "    </tr>\n",
       "    <tr>\n",
       "      <th>1</th>\n",
       "      <td>2011-04-16 01:11:33-04:00</td>\n",
       "      <td>2.0</td>\n",
       "    </tr>\n",
       "    <tr>\n",
       "      <th>2</th>\n",
       "      <td>2011-04-16 01:11:36-04:00</td>\n",
       "      <td>2.0</td>\n",
       "    </tr>\n",
       "    <tr>\n",
       "      <th>3</th>\n",
       "      <td>2011-04-16 01:11:39-04:00</td>\n",
       "      <td>2.0</td>\n",
       "    </tr>\n",
       "    <tr>\n",
       "      <th>4</th>\n",
       "      <td>2011-04-16 01:11:42-04:00</td>\n",
       "      <td>2.0</td>\n",
       "    </tr>\n",
       "    <tr>\n",
       "      <th>...</th>\n",
       "      <td>...</td>\n",
       "      <td>...</td>\n",
       "    </tr>\n",
       "    <tr>\n",
       "      <th>1318970</th>\n",
       "      <td>2011-05-31 20:20:00-04:00</td>\n",
       "      <td>3.0</td>\n",
       "    </tr>\n",
       "    <tr>\n",
       "      <th>1318971</th>\n",
       "      <td>2011-05-31 20:20:03-04:00</td>\n",
       "      <td>3.0</td>\n",
       "    </tr>\n",
       "    <tr>\n",
       "      <th>1318972</th>\n",
       "      <td>2011-05-31 20:20:06-04:00</td>\n",
       "      <td>3.0</td>\n",
       "    </tr>\n",
       "    <tr>\n",
       "      <th>1318973</th>\n",
       "      <td>2011-05-31 20:20:09-04:00</td>\n",
       "      <td>3.0</td>\n",
       "    </tr>\n",
       "    <tr>\n",
       "      <th>1318974</th>\n",
       "      <td>2011-05-31 20:20:12-04:00</td>\n",
       "      <td>0.0</td>\n",
       "    </tr>\n",
       "  </tbody>\n",
       "</table>\n",
       "<p>1318975 rows × 2 columns</p>\n",
       "</div>"
      ],
      "text/plain": [
       "                             date  power_device\n",
       "0       2011-04-16 01:11:30-04:00           2.0\n",
       "1       2011-04-16 01:11:33-04:00           2.0\n",
       "2       2011-04-16 01:11:36-04:00           2.0\n",
       "3       2011-04-16 01:11:39-04:00           2.0\n",
       "4       2011-04-16 01:11:42-04:00           2.0\n",
       "...                           ...           ...\n",
       "1318970 2011-05-31 20:20:00-04:00           3.0\n",
       "1318971 2011-05-31 20:20:03-04:00           3.0\n",
       "1318972 2011-05-31 20:20:06-04:00           3.0\n",
       "1318973 2011-05-31 20:20:09-04:00           3.0\n",
       "1318974 2011-05-31 20:20:12-04:00           0.0\n",
       "\n",
       "[1318975 rows x 2 columns]"
      ]
     },
     "execution_count": 47,
     "metadata": {},
     "output_type": "execute_result"
    }
   ],
   "source": [
    "microwave_across_building"
   ]
  },
  {
   "cell_type": "code",
   "execution_count": 19,
   "metadata": {},
   "outputs": [],
   "source": [
    "microwave_across_building.to_csv('microwave_across-building.csv')"
   ]
  },
  {
   "cell_type": "markdown",
   "metadata": {},
   "source": [
    "**Summation**"
   ]
  },
  {
   "cell_type": "code",
   "execution_count": 35,
   "metadata": {},
   "outputs": [
    {
     "name": "stdout",
     "output_type": "stream",
     "text": [
      "create Dataframe  0.6490739199998643\n"
     ]
    }
   ],
   "source": [
    "ceated_deactiveimage_acrossbuliding(reedd_allpowerseries, microwave_across_building)"
   ]
  },
  {
   "cell_type": "markdown",
   "metadata": {},
   "source": [
    "**Difference**"
   ]
  },
  {
   "cell_type": "code",
   "execution_count": 48,
   "metadata": {},
   "outputs": [
    {
     "name": "stdout",
     "output_type": "stream",
     "text": [
      "create Dataframe  0.5969049089999316\n"
     ]
    }
   ],
   "source": [
    "ceated_deactiveimage_acrossbuliding2(reedd_allpowerseries, microwave_across_building)"
   ]
  },
  {
   "cell_type": "markdown",
   "metadata": {
    "id": "-E23cd-8EF-e"
   },
   "source": [
    "## 2. UK-DALE dataset"
   ]
  },
  {
   "cell_type": "code",
   "execution_count": null,
   "metadata": {
    "colab": {
     "base_uri": "https://localhost:8080/"
    },
    "id": "CaUdn2Ivy1qW",
    "outputId": "e592ca6f-8dde-4c7f-ee88-400447400294"
   },
   "outputs": [
    {
     "name": "stdout",
     "output_type": "stream",
     "text": [
      "--2022-07-12 15:14:49--  https://data.ukedc.rl.ac.uk/browse/edc/efficiency/residential/EnergyConsumption/Domestic/UK-DALE-2017/UK-DALE-FULL-disaggregated/ukdale.h5.zip\n",
      "Resolving data.ukedc.rl.ac.uk (data.ukedc.rl.ac.uk)... 130.246.130.113\n",
      "Connecting to data.ukedc.rl.ac.uk (data.ukedc.rl.ac.uk)|130.246.130.113|:443... connected.\n",
      "HTTP request sent, awaiting response... 200 OK\n",
      "Length: 5466002082 (5.1G) [badc/data]\n",
      "Saving to: ‘ukdale.h5.zip’\n",
      "\n",
      "ukdale.h5.zip       100%[===================>]   5.09G  37.1MB/s    in 2m 26s  \n",
      "\n",
      "2022-07-12 15:17:16 (35.8 MB/s) - ‘ukdale.h5.zip’ saved [5466002082/5466002082]\n",
      "\n"
     ]
    }
   ],
   "source": [
    "!wget https://data.ukedc.rl.ac.uk/browse/edc/efficiency/residential/EnergyConsumption/Domestic/UK-DALE-2017/UK-DALE-FULL-disaggregated/ukdale.h5.zip"
   ]
  },
  {
   "cell_type": "code",
   "execution_count": null,
   "metadata": {
    "colab": {
     "base_uri": "https://localhost:8080/"
    },
    "id": "7q45ErVG3Wj_",
    "outputId": "846cf49c-7116-499c-982d-c2ce92582d5c"
   },
   "outputs": [
    {
     "name": "stdout",
     "output_type": "stream",
     "text": [
      "Archive:  /content/ukdale.h5.zip\n",
      "  inflating: ukdale.h5               \n"
     ]
    }
   ],
   "source": [
    "!unzip /content/ukdale.h5.zip"
   ]
  },
  {
   "cell_type": "code",
   "execution_count": 3,
   "metadata": {
    "id": "EKq4Mhlf4WS3"
   },
   "outputs": [],
   "source": [
    "uk_dale = DataSet('ukdale.h5')"
   ]
  },
  {
   "cell_type": "code",
   "execution_count": 4,
   "metadata": {
    "colab": {
     "base_uri": "https://localhost:8080/",
     "height": 1000
    },
    "id": "HhmZCXp8_e3Y",
    "outputId": "cb6a1ee2-1be0-4b4c-d5a9-20faf3ecf2a6"
   },
   "outputs": [
    {
     "data": {
      "text/html": [
       "<ul><li><strong>description_of_subjects</strong>: 4 MSc students and 1 PhD student.</li><li><strong>meter_devices</strong>: <ul><li><strong>EcoManagerTxPlug</strong>: <ul><li><strong>max_sample_period</strong>: 120</li><li><strong>model_url</strong>: <a href=\"https://shop.edfenergy.com/Item.aspx?id=540\">https://shop.edfenergy.com/Item.aspx?id=540</a></li><li><strong>wireless_configuration</strong>: <ul><li><strong>base</strong>: creators: [Jack Kelly] model: rfm_edf_ecomanager model_url: <a href=\"https://github.com/JackKelly/rfm_edf_ecomanager/\">https://github.com/JackKelly/rfm_edf_ecomanager/</a>\n",
       "</li><li><strong>protocol</strong>: custom</li><li><strong>carrier_frequency</strong>: 434</li></ul></li><li><strong>brand</strong>: EcoManager</li><li><strong>measurements</strong>: <ul><li>{'lower_limit': 0, 'upper_limit': 3300, 'physical_quantity': 'power', 'type': 'active'}</li></ul></li><li><strong>data_logger</strong>: <ul><li><strong>model</strong>: rfm_ecomanager_logger</li><li><strong>creators</strong>: <ul><li>Jack Kelly</li></ul></li><li><strong>model_url</strong>: <a href=\"https://github.com/JackKelly/rfm_ecomanager_logger\">https://github.com/JackKelly/rfm_ecomanager_logger</a></li></ul></li><li><strong>sample_period</strong>: 6</li><li><strong>wireless</strong>: True</li><li><strong>brand_url</strong>: <a href=\"http://www.edfenergy.com/products-services/for-your-home/ecomanager\">http://www.edfenergy.com/products-services/for-your-home/ecomanager</a></li><li><strong>model</strong>: EcoManagerTxPlug</li><li><strong>seller</strong>: EDF Energy</li><li><strong>manufacturer</strong>: Current Cost / Sailwider</li></ul></li><li><strong>CurrentCostTx</strong>: <ul><li><strong>max_sample_period</strong>: 120</li><li><strong>model_url</strong>: <a href=\"http://www.currentcost.com/product-transmitter.html\">http://www.currentcost.com/product-transmitter.html</a></li><li><strong>wireless_configuration</strong>: <ul><li><strong>base</strong>: creators: [Jack Kelly] model: rfm_edf_ecomanager model_url: <a href=\"https://github.com/JackKelly/rfm_edf_ecomanager/\">https://github.com/JackKelly/rfm_edf_ecomanager/</a>\n",
       "</li><li><strong>protocol</strong>: custom</li><li><strong>carrier_frequency</strong>: 434</li></ul></li><li><strong>measurements</strong>: <ul><li>{'lower_limit': 0, 'upper_limit': 25000, 'physical_quantity': 'power', 'type': 'apparent'}</li></ul></li><li><strong>data_logger</strong>: <ul><li><strong>model</strong>: rfm_ecomanager_logger</li><li><strong>creators</strong>: <ul><li>Jack Kelly</li></ul></li><li><strong>model_url</strong>: <a href=\"https://github.com/JackKelly/rfm_ecomanager_logger\">https://github.com/JackKelly/rfm_ecomanager_logger</a></li></ul></li><li><strong>sample_period</strong>: 6</li><li><strong>wireless</strong>: True</li><li><strong>model</strong>: CurrentCost Tx</li><li><strong>manufacturer</strong>: Current Cost</li></ul></li><li><strong>SoundCardPowerMeter</strong>: <ul><li><strong>max_sample_period</strong>: 3</li><li><strong>wireless</strong>: False</li><li><strong>model_url</strong>: <a href=\"https://github.com/JackKelly/snd_card_power_meter\">https://github.com/JackKelly/snd_card_power_meter</a></li><li><strong>model</strong>: Sound Card Power Meter</li><li><strong>measurements</strong>: <ul><li>{'lower_limit': 0, 'upper_limit': 25000, 'physical_quantity': 'power', 'type': 'active'}</li><li>{'lower_limit': 0, 'upper_limit': 25000, 'physical_quantity': 'power', 'type': 'apparent'}</li><li>{'lower_limit': 180, 'upper_limit': 275, 'physical_quantity': 'voltage', 'description': 'RMS voltage'}</li></ul></li><li><strong>manufacturer</strong>: Jack Kelly / Imperial College London</li><li><strong>sample_period</strong>: 1</li></ul></li><li><strong>EcoManagerWholeHouseTx</strong>: <ul><li><strong>max_sample_period</strong>: 120</li><li><strong>model_url</strong>: <a href=\"https://shop.edfenergy.com/Item.aspx?id=547\">https://shop.edfenergy.com/Item.aspx?id=547</a></li><li><strong>wireless_configuration</strong>: <ul><li><strong>base</strong>: creators: [Jack Kelly] model: rfm_edf_ecomanager model_url: <a href=\"https://github.com/JackKelly/rfm_edf_ecomanager/\">https://github.com/JackKelly/rfm_edf_ecomanager/</a>\n",
       "</li><li><strong>protocol</strong>: custom</li><li><strong>carrier_frequency</strong>: 434</li></ul></li><li><strong>brand</strong>: EcoManager</li><li><strong>measurements</strong>: <ul><li>{'lower_limit': 0, 'upper_limit': 25000, 'physical_quantity': 'power', 'type': 'apparent'}</li></ul></li><li><strong>data_logger</strong>: <ul><li><strong>model</strong>: rfm_ecomanager_logger</li><li><strong>creators</strong>: <ul><li>Jack Kelly</li></ul></li><li><strong>model_url</strong>: <a href=\"https://github.com/JackKelly/rfm_ecomanager_logger\">https://github.com/JackKelly/rfm_ecomanager_logger</a></li></ul></li><li><strong>sample_period</strong>: 6</li><li><strong>wireless</strong>: True</li><li><strong>brand_url</strong>: <a href=\"http://www.edfenergy.com/products-services/for-your-home/ecomanager\">http://www.edfenergy.com/products-services/for-your-home/ecomanager</a></li><li><strong>model</strong>: EcoManagerWholeHouseTx</li><li><strong>seller</strong>: EDF Energy</li><li><strong>site_meter</strong>: True</li><li><strong>manufacturer</strong>: Current Cost / Sailwider</li></ul></li></ul></li><li><strong>description</strong>: Appliance-by-appliance and whole-home power demand for 5 UK homes. Appliance power demand was recorded once every 6 seconds. Whole-home power demand was recorded once every 6 seconds for all homes and additionally at 16kHz for homes 1, 2 and 5. Detailed metadata is included.</li><li><strong>rights_list</strong>: <ul><li>{'name': 'Creative Commons Attribution 4.0 International (CC BY 4.0)', 'uri': 'http://creativecommons.org/licenses/by/4.0/'}</li></ul></li><li><strong>long_name</strong>: UK Domestic Appliance-Level Electricity</li><li><strong>geo_location</strong>: <ul><li><strong>latitude</strong>: 51.464462</li><li><strong>country</strong>: GB</li><li><strong>longitude</strong>: -0.076544</li><li><strong>locality</strong>: London</li></ul></li><li><strong>date</strong>: 2017-04-26</li><li><strong>timezone</strong>: Europe/London</li><li><strong>institution</strong>: Imperial College London</li><li><strong>subject</strong>: Disaggregated domestic electricity demand</li><li><strong>publisher</strong>: UK Energy Research Centre Energy Data Centre (UKERC EDC)</li><li><strong>funding</strong>: <ul><li>Jack Kelly's PhD is funded by an EPSRC DTA</li><li>Hardware necessary for this project was funded from Jack Kelly's Intel EU PhD Fellowship</li></ul></li><li><strong>name</strong>: UK-DALE</li><li><strong>number_of_buildings</strong>: 5</li><li><strong>related_documents</strong>: <ul><li>Jack Kelly and William Knottenbelt. The UK-DALE dataset, domestic appliance-level electricity demand and whole-house demand from five UK homes.  To appear in Scientific Data 2:150007.  DOI:10.1038/sdata.2015.7 arXiv:1404.0284 (2015).</li><li>Dataset is available for download from <a href=\"http://www.doc.ic.ac.uk/~dk3810/data/\">http://www.doc.ic.ac.uk/~dk3810/data/</a></li><li>Dataset is also available from the UK Energy Research Council's Energy Data Centre: The 1-second data is available from <a href=\"http://data.ukedc.rl.ac.uk/cgi-bin/dataset_catalogue/view.cgi.py?id=19\">http://data.ukedc.rl.ac.uk/cgi-bin/dataset_catalogue/view.cgi.py?id=19</a> and the 6-second data is available from <a href=\"http://data.ukedc.rl.ac.uk/cgi-bin/dataset_catalogue/view.cgi.py?id=18\">http://data.ukedc.rl.ac.uk/cgi-bin/dataset_catalogue/view.cgi.py?id=18</a> but please note that this archive is updated less frequently than the data on www.doc.ic.ac.uk/~dk3810/data/</li></ul></li><li><strong>contact</strong>: jack.kelly@imperial.ac.uk</li><li><strong>timeframe</strong>: <ul><li><strong>start</strong>: 2012-11-09T22:28:15+00:00</li><li><strong>end</strong>: 2017-04-26T18:35:53+01:00</li></ul></li><li><strong>geospatial_coverage</strong>: Southern England</li><li><strong>creators</strong>: <ul><li>Kelly, Jack</li></ul></li><li><strong>schema</strong>: <a href=\"https://github.com/nilmtk/nilm_metadata/tree/v0.2\">https://github.com/nilmtk/nilm_metadata/tree/v0.2</a></li></ul>"
      ],
      "text/plain": [
       "<IPython.core.display.HTML object>"
      ]
     },
     "metadata": {},
     "output_type": "display_data"
    }
   ],
   "source": [
    "print_dict(uk_dale.metadata)"
   ]
  },
  {
   "cell_type": "code",
   "execution_count": null,
   "metadata": {
    "colab": {
     "base_uri": "https://localhost:8080/",
     "height": 116
    },
    "id": "R9rb4-pU_oHA",
    "outputId": "d0a2450b-ff10-4f7b-b2fb-b6785e187991"
   },
   "outputs": [
    {
     "data": {
      "text/html": [
       "<ul><li><strong>1</strong>: Building(instance=1, dataset='UK-DALE')</li><li><strong>2</strong>: Building(instance=2, dataset='UK-DALE')</li><li><strong>3</strong>: Building(instance=3, dataset='UK-DALE')</li><li><strong>4</strong>: Building(instance=4, dataset='UK-DALE')</li><li><strong>5</strong>: Building(instance=5, dataset='UK-DALE')</li></ul>"
      ],
      "text/plain": [
       "<IPython.core.display.HTML object>"
      ]
     },
     "metadata": {},
     "output_type": "display_data"
    }
   ],
   "source": [
    "print_dict(uk_dale.buildings)"
   ]
  },
  {
   "cell_type": "code",
   "execution_count": null,
   "metadata": {
    "colab": {
     "base_uri": "https://localhost:8080/"
    },
    "id": "n-xXmTs-_yM_",
    "outputId": "fd50ab90-f79e-4cfe-982f-8e3f311207fa"
   },
   "outputs": [
    {
     "data": {
      "text/plain": [
       "MeterGroup(meters=\n",
       "  ElecMeter(instance=2, building=1, dataset='UK-DALE', appliances=[Appliance(type='boiler', instance=1)])\n",
       "  ElecMeter(instance=3, building=1, dataset='UK-DALE', appliances=[Appliance(type='solar thermal pumping station', instance=1)])\n",
       "  ElecMeter(instance=4, building=1, dataset='UK-DALE', appliances=[Appliance(type='laptop computer', instance=1), Appliance(type='laptop computer', instance=3)])\n",
       "  ElecMeter(instance=5, building=1, dataset='UK-DALE', appliances=[Appliance(type='washer dryer', instance=1), Appliance(type='washer dryer', instance=2)])\n",
       "  ElecMeter(instance=6, building=1, dataset='UK-DALE', appliances=[Appliance(type='dish washer', instance=1)])\n",
       "  ElecMeter(instance=7, building=1, dataset='UK-DALE', appliances=[Appliance(type='television', instance=1)])\n",
       "  ElecMeter(instance=8, building=1, dataset='UK-DALE', appliances=[Appliance(type='light', instance=1), Appliance(type='light', instance=2)])\n",
       "  ElecMeter(instance=9, building=1, dataset='UK-DALE', appliances=[Appliance(type='HTPC', instance=1)])\n",
       "  ElecMeter(instance=10, building=1, dataset='UK-DALE', appliances=[Appliance(type='kettle', instance=1), Appliance(type='food processor', instance=1), Appliance(type='toasted sandwich maker', instance=1)])\n",
       "  ElecMeter(instance=11, building=1, dataset='UK-DALE', appliances=[Appliance(type='toaster', instance=1), Appliance(type='kitchen aid', instance=1), Appliance(type='food processor', instance=2)])\n",
       "  ElecMeter(instance=12, building=1, dataset='UK-DALE', appliances=[Appliance(type='fridge freezer', instance=1)])\n",
       "  ElecMeter(instance=13, building=1, dataset='UK-DALE', appliances=[Appliance(type='microwave', instance=1)])\n",
       "  ElecMeter(instance=14, building=1, dataset='UK-DALE', appliances=[Appliance(type='computer monitor', instance=1)])\n",
       "  ElecMeter(instance=15, building=1, dataset='UK-DALE', appliances=[Appliance(type='audio system', instance=1)])\n",
       "  ElecMeter(instance=16, building=1, dataset='UK-DALE', appliances=[Appliance(type='breadmaker', instance=1)])\n",
       "  ElecMeter(instance=17, building=1, dataset='UK-DALE', appliances=[Appliance(type='audio amplifier', instance=1)])\n",
       "  ElecMeter(instance=18, building=1, dataset='UK-DALE', appliances=[Appliance(type='broadband router', instance=1), Appliance(type='broadband router', instance=2)])\n",
       "  ElecMeter(instance=19, building=1, dataset='UK-DALE', appliances=[Appliance(type='light', instance=3), Appliance(type='bouncy castle pump', instance=1)])\n",
       "  ElecMeter(instance=20, building=1, dataset='UK-DALE', appliances=[Appliance(type='soldering iron', instance=1)])\n",
       "  ElecMeter(instance=21, building=1, dataset='UK-DALE', appliances=[Appliance(type='ethernet switch', instance=1), Appliance(type='USB hub', instance=1)])\n",
       "  ElecMeter(instance=22, building=1, dataset='UK-DALE', appliances=[Appliance(type='vacuum cleaner', instance=1)])\n",
       "  ElecMeter(instance=23, building=1, dataset='UK-DALE', appliances=[Appliance(type='light', instance=4)])\n",
       "  ElecMeter(instance=24, building=1, dataset='UK-DALE', appliances=[Appliance(type='light', instance=5)])\n",
       "  ElecMeter(instance=25, building=1, dataset='UK-DALE', appliances=[Appliance(type='light', instance=16)])\n",
       "  ElecMeter(instance=26, building=1, dataset='UK-DALE', appliances=[Appliance(type='light', instance=6)])\n",
       "  ElecMeter(instance=27, building=1, dataset='UK-DALE', appliances=[Appliance(type='tablet computer charger', instance=1)])\n",
       "  ElecMeter(instance=28, building=1, dataset='UK-DALE', appliances=[Appliance(type='active subwoofer', instance=1)])\n",
       "  ElecMeter(instance=29, building=1, dataset='UK-DALE', appliances=[Appliance(type='light', instance=7)])\n",
       "  ElecMeter(instance=30, building=1, dataset='UK-DALE', appliances=[Appliance(type='radio', instance=1)])\n",
       "  ElecMeter(instance=31, building=1, dataset='UK-DALE', appliances=[Appliance(type='light', instance=8)])\n",
       "  ElecMeter(instance=32, building=1, dataset='UK-DALE', appliances=[Appliance(type='wireless phone charger', instance=1), Appliance(type='audio system', instance=2)])\n",
       "  ElecMeter(instance=33, building=1, dataset='UK-DALE', appliances=[Appliance(type='light', instance=9)])\n",
       "  ElecMeter(instance=34, building=1, dataset='UK-DALE', appliances=[Appliance(type='mobile phone charger', instance=1)])\n",
       "  ElecMeter(instance=35, building=1, dataset='UK-DALE', appliances=[Appliance(type='light', instance=10)])\n",
       "  ElecMeter(instance=36, building=1, dataset='UK-DALE', appliances=[Appliance(type='coffee maker', instance=1)])\n",
       "  ElecMeter(instance=37, building=1, dataset='UK-DALE', appliances=[Appliance(type='radio', instance=2)])\n",
       "  ElecMeter(instance=38, building=1, dataset='UK-DALE', appliances=[Appliance(type='mobile phone charger', instance=2), Appliance(type='baby monitor', instance=2), Appliance(type='radio', instance=3)])\n",
       "  ElecMeter(instance=39, building=1, dataset='UK-DALE', appliances=[Appliance(type='hair dryer', instance=1)])\n",
       "  ElecMeter(instance=40, building=1, dataset='UK-DALE', appliances=[Appliance(type='hair straighteners', instance=1)])\n",
       "  ElecMeter(instance=41, building=1, dataset='UK-DALE', appliances=[Appliance(type='clothes iron', instance=1)])\n",
       "  ElecMeter(instance=42, building=1, dataset='UK-DALE', appliances=[Appliance(type='oven', instance=1)])\n",
       "  ElecMeter(instance=43, building=1, dataset='UK-DALE', appliances=[Appliance(type='computer', instance=1), Appliance(type='external hard disk', instance=1)])\n",
       "  ElecMeter(instance=44, building=1, dataset='UK-DALE', appliances=[Appliance(type='light', instance=11)])\n",
       "  ElecMeter(instance=45, building=1, dataset='UK-DALE', appliances=[Appliance(type='light', instance=12)])\n",
       "  ElecMeter(instance=46, building=1, dataset='UK-DALE', appliances=[Appliance(type='baby monitor', instance=1)])\n",
       "  ElecMeter(instance=47, building=1, dataset='UK-DALE', appliances=[Appliance(type='charger', instance=1)])\n",
       "  ElecMeter(instance=48, building=1, dataset='UK-DALE', appliances=[Appliance(type='light', instance=13)])\n",
       "  ElecMeter(instance=49, building=1, dataset='UK-DALE', appliances=[Appliance(type='light', instance=14)])\n",
       "  ElecMeter(instance=50, building=1, dataset='UK-DALE', appliances=[Appliance(type='light', instance=15)])\n",
       "  ElecMeter(instance=51, building=1, dataset='UK-DALE', appliances=[Appliance(type='desktop computer', instance=1)])\n",
       "  ElecMeter(instance=52, building=1, dataset='UK-DALE', appliances=[Appliance(type='fan', instance=1)])\n",
       "  ElecMeter(instance=53, building=1, dataset='UK-DALE', appliances=[Appliance(type='printer', instance=1)])\n",
       "  ElecMeter(instance=54, building=1, dataset='UK-DALE', site_meter, appliances=[Appliance(type='immersion heater', instance=1), Appliance(type='water pump', instance=1), Appliance(type='security alarm', instance=1), Appliance(type='fan', instance=2), Appliance(type='drill', instance=1), Appliance(type='laptop computer', instance=2)])\n",
       ")"
      ]
     },
     "execution_count": 59,
     "metadata": {},
     "output_type": "execute_result"
    }
   ],
   "source": [
    "uk_dale.buildings[1].elec"
   ]
  },
  {
   "cell_type": "code",
   "execution_count": null,
   "metadata": {
    "id": "8HZRFohs_3Qf"
   },
   "outputs": [],
   "source": []
  }
 ],
 "metadata": {
  "colab": {
   "include_colab_link": true,
   "name": " nilmtk-data.ipynb",
   "provenance": []
  },
  "kernelspec": {
   "display_name": "Python 3",
   "language": "python",
   "name": "python3"
  },
  "language_info": {
   "codemirror_mode": {
    "name": "ipython",
    "version": 3
   },
   "file_extension": ".py",
   "mimetype": "text/x-python",
   "name": "python",
   "nbconvert_exporter": "python",
   "pygments_lexer": "ipython3",
   "version": "3.8.8"
  }
 },
 "nbformat": 4,
 "nbformat_minor": 1
}
