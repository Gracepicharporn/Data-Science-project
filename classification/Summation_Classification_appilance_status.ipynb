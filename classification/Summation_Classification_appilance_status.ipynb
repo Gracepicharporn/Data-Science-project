{
  "cells": [
    {
      "cell_type": "markdown",
      "metadata": {
        "id": "view-in-github",
        "colab_type": "text"
      },
      "source": [
        "<a href=\"https://colab.research.google.com/github/Gracepicharporn/Data-Science-project/blob/main/classification/Summation_Classification_appilance_status.ipynb\" target=\"_parent\"><img src=\"https://colab.research.google.com/assets/colab-badge.svg\" alt=\"Open In Colab\"/></a>"
      ]
    },
    {
      "cell_type": "markdown",
      "source": [
        "#Summation method"
      ],
      "metadata": {
        "id": "HcBTdJ7kIhJe"
      }
    },
    {
      "cell_type": "markdown",
      "source": [
        "## UK-DALE"
      ],
      "metadata": {
        "id": "yojJgzDXIlIZ"
      }
    },
    {
      "cell_type": "markdown",
      "source": [
        "### Building1"
      ],
      "metadata": {
        "id": "S6kzJykUI6Fw"
      }
    },
    {
      "cell_type": "markdown",
      "metadata": {
        "id": "CyIDjHbY3JUE"
      },
      "source": [
        "Dowload Dataset"
      ]
    },
    {
      "cell_type": "code",
      "execution_count": 1,
      "metadata": {
        "colab": {
          "base_uri": "https://localhost:8080/"
        },
        "id": "6ySv17MU1ik2",
        "outputId": "156b6f84-bd3d-4522-d2b0-dd0becd2aadc"
      },
      "outputs": [
        {
          "output_type": "stream",
          "name": "stdout",
          "text": [
            "Mounted at /content/gdrive\n"
          ]
        }
      ],
      "source": [
        "from google.colab import drive\n",
        "drive.mount('/content/gdrive')"
      ]
    },
    {
      "cell_type": "code",
      "execution_count": 2,
      "metadata": {
        "id": "MpNhkV-76eYj"
      },
      "outputs": [],
      "source": [
        "import matplotlib.pyplot as plt\n",
        "from PIL import Image\n",
        "import numpy as np"
      ]
    },
    {
      "cell_type": "code",
      "execution_count": 3,
      "metadata": {
        "id": "CNcc8lAgB5Qm"
      },
      "outputs": [],
      "source": [
        "from tensorflow.keras.preprocessing.image import ImageDataGenerator"
      ]
    },
    {
      "cell_type": "markdown",
      "source": [
        "**Image with fridge**"
      ],
      "metadata": {
        "id": "4_wUPEWdn2va"
      }
    },
    {
      "cell_type": "code",
      "execution_count": 4,
      "metadata": {
        "colab": {
          "base_uri": "https://localhost:8080/"
        },
        "id": "GsifLo83BDax",
        "outputId": "7fc7c6dc-dcaa-49ed-bb49-e378a6fc18e4"
      },
      "outputs": [
        {
          "output_type": "stream",
          "name": "stderr",
          "text": [
            "/usr/local/lib/python3.7/dist-packages/keras_preprocessing/image/image_data_generator.py:356: UserWarning: This ImageDataGenerator specifies `samplewise_std_normalization`, which overrides setting of `samplewise_center`.\n",
            "  warnings.warn('This ImageDataGenerator specifies '\n"
          ]
        },
        {
          "output_type": "stream",
          "name": "stdout",
          "text": [
            "Found 2608 images belonging to 2 classes.\n",
            "Found 650 images belonging to 2 classes.\n"
          ]
        }
      ],
      "source": [
        "dir = '/content/gdrive/MyDrive/data-device/UK-DALE-data/sum/building1/train-fridge'\n",
        "train_datagen = ImageDataGenerator(\n",
        "      samplewise_std_normalization= True,\n",
        "      validation_split = 0.2)\n",
        "train_generator =train_datagen.flow_from_directory(\n",
        "     dir,  # train folder\n",
        "     batch_size = 64,  # define batch size\n",
        "     shuffle=True,  # shuffle the train dataset\n",
        "     subset = 'training',\n",
        "     target_size = (224,224)\n",
        "\n",
        ")\n",
        "\n",
        "test_generator =train_datagen.flow_from_directory(\n",
        "     dir,  # test folder\n",
        "     batch_size= 1,  # define batch size (1 for test dataset)\n",
        "     shuffle=True,  \n",
        "     subset = 'validation',\n",
        "     target_size = (224, 224)\n",
        "\n",
        ")\n",
        "                    "
      ]
    },
    {
      "cell_type": "code",
      "execution_count": null,
      "metadata": {
        "colab": {
          "base_uri": "https://localhost:8080/"
        },
        "id": "oqsK1XDDEJKp",
        "outputId": "2c937f12-8b9e-43c2-e52a-a47f314ebc22"
      },
      "outputs": [
        {
          "output_type": "stream",
          "name": "stdout",
          "text": [
            "Train Shape \n",
            " (64, 224, 224, 3)\n",
            "Test Shape \n",
            " (1, 224, 224, 3)\n"
          ]
        }
      ],
      "source": [
        "# shape of dataset\n",
        "trainShape=train_generator.__getitem__(0)[0].shape  # train shape\n",
        "testShape=test_generator.__getitem__(0)[0].shape  # test shape\n",
        "print(\"Train Shape \\n\",trainShape)\n",
        "print(\"Test Shape \\n\",testShape)"
      ]
    },
    {
      "cell_type": "code",
      "execution_count": 5,
      "metadata": {
        "id": "DXo-IFPRFtfa"
      },
      "outputs": [],
      "source": [
        "from tensorflow.keras.applications import VGG16  # VGG16 pre-trained model\n",
        "import tensorflow as tf  # for deep learning\n",
        "from tensorflow.keras import Model  # for creating a model\n",
        "from sklearn.metrics import confusion_matrix, classification_report  # for calculating precision, recall, f1-score, and accuracy\n",
        "import pandas as pd  # for creating a table\n",
        "import numpy as np  # for calculating numeric values\n",
        "from tensorflow.keras.callbacks import ReduceLROnPlateau , EarlyStopping  # for learning rate reduction and early stopping\n",
        "lr_reduce = ReduceLROnPlateau(monitor='accuracy', patience=1)  # learning rate reduction\n",
        "early_stop = tf.keras.callbacks.EarlyStopping(monitor='accuracy', patience=3)  # early stopping\n",
        "\n",
        "def pretrained_model(model):\n",
        "  '''\n",
        "    Create a model from a pre-trained model by adding 1 3-nodes dense layer on top\n",
        "    of the model\n",
        "    Input:\n",
        "      model: a pre-trained model\n",
        "    Output:\n",
        "      a model \n",
        "  '''\n",
        "  # define a pre-trained model without the top layers, and with the default weights\n",
        "  pre_trained_model = model(input_shape = (224, 224, 3), include_top = False, weights = 'imagenet')\n",
        "  pre_trained_model.trainable = False  # freeze the weights\n",
        "  pre_trained_model.summary()\n",
        "\n",
        "  x = tf.keras.layers.Flatten()(pre_trained_model.output)  # flatten layer\n",
        "  x = tf.keras.layers.Dense(2 , activation='sigmoid')(x)  # 1 3-nodes dense layer\n",
        "  model = Model(pre_trained_model.input, x) \n",
        "  model.summary()\n",
        "\n",
        "  return model\n",
        "\n",
        "def train(model):\n",
        "  '''\n",
        "    train the model\n",
        "    Input:\n",
        "      model: a model\n",
        "    Output:\n",
        "      history of the training process\n",
        "  '''\n",
        "  # compile the model with specific configuration\n",
        "  model.compile(optimizer='adam', loss=\"binary_crossentropy\",metrics=['accuracy'])\n",
        "  # train the model for 10 epochs and 30 steps for each epoch\n",
        "  history = model.fit(train_generator, validation_data = test_generator, epochs = 30, \n",
        "                      callbacks=[lr_reduce, early_stop])\n",
        "  return history\n",
        "\n",
        "def plot_train_evaluation(history, model):\n",
        "  '''\n",
        "    Plot train loss and acuracy. Then, evaluate the model (precision, recall, f1-score, and accuracy) with test dataset\n",
        "    Input:\n",
        "      history: a history of the training process\n",
        "      model: a model\n",
        "    Output:\n",
        "      test report (DataFrame)\n",
        "  '''\n",
        "  # train loss and accuracy plot\n",
        "  plt.figure(figsize=(12, 8))  # define figure size\n",
        "  plt.subplot(2, 2, 1)  # create a subplot\n",
        "  plt.plot(history.history['val_accuracy'], label='val_accuracy') \n",
        "  plt.plot(history.history['accuracy'], label='train_accuracy') \n",
        "  plt.legend()  # plot legend\n",
        "  plt.xlabel('epochs')  # define x label\n",
        "  plt.title('Accuracy plot')  # define title\n",
        "\n",
        "  plt.subplot(2, 2, 2)  # create a subplot\n",
        "  plt.plot(history.history['val_loss'], label='val_loss') \n",
        "  plt.plot(history.history['loss'], label='train_loss') \n",
        "  plt.legend()  # plot legend\n",
        "  plt.xlabel('epochs')  # define x label\n",
        "  plt.title('Loss plot')  # define title\n",
        "  plt.show()  # show all plots\n",
        "\n",
        "  # print out average, max, and min of train accuracy and loss\n",
        "  print('average train accuracy: ', sum(history.history['accuracy'])/len(history.history['accuracy']))\n",
        "  print('max train accuracy: ', max(history.history['accuracy']))\n",
        "  print('average train loss: ', sum(history.history['loss'])/len(history.history['loss']))\n",
        "  print('min train loss: ', min(history.history['loss']))\n",
        "\n",
        "  print('#########################################################')\n",
        "  # print out average, max, and min of validation accuracy and loss\n",
        "  print('average train accuracy: ', sum(history.history['val_accuracy'])/len(history.history['val_accuracy']))\n",
        "  print('max train accuracy: ', max(history.history['val_accuracy']))\n",
        "  print('average train loss: ', sum(history.history['val_loss'])/len(history.history['val_loss']))\n",
        "  print('min train loss: ', min(history.history['val_loss']))\n"
      ]
    },
    {
      "cell_type": "code",
      "execution_count": null,
      "metadata": {
        "colab": {
          "base_uri": "https://localhost:8080/"
        },
        "id": "1y09tRnYGV96",
        "outputId": "1b4f609c-fa06-46da-d94a-e8634e9df408"
      },
      "outputs": [
        {
          "output_type": "stream",
          "name": "stdout",
          "text": [
            "Downloading data from https://storage.googleapis.com/tensorflow/keras-applications/vgg16/vgg16_weights_tf_dim_ordering_tf_kernels_notop.h5\n",
            "58892288/58889256 [==============================] - 0s 0us/step\n",
            "58900480/58889256 [==============================] - 0s 0us/step\n",
            "Model: \"vgg16\"\n",
            "_________________________________________________________________\n",
            " Layer (type)                Output Shape              Param #   \n",
            "=================================================================\n",
            " input_1 (InputLayer)        [(None, 224, 224, 3)]     0         \n",
            "                                                                 \n",
            " block1_conv1 (Conv2D)       (None, 224, 224, 64)      1792      \n",
            "                                                                 \n",
            " block1_conv2 (Conv2D)       (None, 224, 224, 64)      36928     \n",
            "                                                                 \n",
            " block1_pool (MaxPooling2D)  (None, 112, 112, 64)      0         \n",
            "                                                                 \n",
            " block2_conv1 (Conv2D)       (None, 112, 112, 128)     73856     \n",
            "                                                                 \n",
            " block2_conv2 (Conv2D)       (None, 112, 112, 128)     147584    \n",
            "                                                                 \n",
            " block2_pool (MaxPooling2D)  (None, 56, 56, 128)       0         \n",
            "                                                                 \n",
            " block3_conv1 (Conv2D)       (None, 56, 56, 256)       295168    \n",
            "                                                                 \n",
            " block3_conv2 (Conv2D)       (None, 56, 56, 256)       590080    \n",
            "                                                                 \n",
            " block3_conv3 (Conv2D)       (None, 56, 56, 256)       590080    \n",
            "                                                                 \n",
            " block3_pool (MaxPooling2D)  (None, 28, 28, 256)       0         \n",
            "                                                                 \n",
            " block4_conv1 (Conv2D)       (None, 28, 28, 512)       1180160   \n",
            "                                                                 \n",
            " block4_conv2 (Conv2D)       (None, 28, 28, 512)       2359808   \n",
            "                                                                 \n",
            " block4_conv3 (Conv2D)       (None, 28, 28, 512)       2359808   \n",
            "                                                                 \n",
            " block4_pool (MaxPooling2D)  (None, 14, 14, 512)       0         \n",
            "                                                                 \n",
            " block5_conv1 (Conv2D)       (None, 14, 14, 512)       2359808   \n",
            "                                                                 \n",
            " block5_conv2 (Conv2D)       (None, 14, 14, 512)       2359808   \n",
            "                                                                 \n",
            " block5_conv3 (Conv2D)       (None, 14, 14, 512)       2359808   \n",
            "                                                                 \n",
            " block5_pool (MaxPooling2D)  (None, 7, 7, 512)         0         \n",
            "                                                                 \n",
            "=================================================================\n",
            "Total params: 14,714,688\n",
            "Trainable params: 0\n",
            "Non-trainable params: 14,714,688\n",
            "_________________________________________________________________\n",
            "Model: \"model\"\n",
            "_________________________________________________________________\n",
            " Layer (type)                Output Shape              Param #   \n",
            "=================================================================\n",
            " input_1 (InputLayer)        [(None, 224, 224, 3)]     0         \n",
            "                                                                 \n",
            " block1_conv1 (Conv2D)       (None, 224, 224, 64)      1792      \n",
            "                                                                 \n",
            " block1_conv2 (Conv2D)       (None, 224, 224, 64)      36928     \n",
            "                                                                 \n",
            " block1_pool (MaxPooling2D)  (None, 112, 112, 64)      0         \n",
            "                                                                 \n",
            " block2_conv1 (Conv2D)       (None, 112, 112, 128)     73856     \n",
            "                                                                 \n",
            " block2_conv2 (Conv2D)       (None, 112, 112, 128)     147584    \n",
            "                                                                 \n",
            " block2_pool (MaxPooling2D)  (None, 56, 56, 128)       0         \n",
            "                                                                 \n",
            " block3_conv1 (Conv2D)       (None, 56, 56, 256)       295168    \n",
            "                                                                 \n",
            " block3_conv2 (Conv2D)       (None, 56, 56, 256)       590080    \n",
            "                                                                 \n",
            " block3_conv3 (Conv2D)       (None, 56, 56, 256)       590080    \n",
            "                                                                 \n",
            " block3_pool (MaxPooling2D)  (None, 28, 28, 256)       0         \n",
            "                                                                 \n",
            " block4_conv1 (Conv2D)       (None, 28, 28, 512)       1180160   \n",
            "                                                                 \n",
            " block4_conv2 (Conv2D)       (None, 28, 28, 512)       2359808   \n",
            "                                                                 \n",
            " block4_conv3 (Conv2D)       (None, 28, 28, 512)       2359808   \n",
            "                                                                 \n",
            " block4_pool (MaxPooling2D)  (None, 14, 14, 512)       0         \n",
            "                                                                 \n",
            " block5_conv1 (Conv2D)       (None, 14, 14, 512)       2359808   \n",
            "                                                                 \n",
            " block5_conv2 (Conv2D)       (None, 14, 14, 512)       2359808   \n",
            "                                                                 \n",
            " block5_conv3 (Conv2D)       (None, 14, 14, 512)       2359808   \n",
            "                                                                 \n",
            " block5_pool (MaxPooling2D)  (None, 7, 7, 512)         0         \n",
            "                                                                 \n",
            " flatten (Flatten)           (None, 25088)             0         \n",
            "                                                                 \n",
            " dense (Dense)               (None, 2)                 50178     \n",
            "                                                                 \n",
            "=================================================================\n",
            "Total params: 14,764,866\n",
            "Trainable params: 50,178\n",
            "Non-trainable params: 14,714,688\n",
            "_________________________________________________________________\n"
          ]
        }
      ],
      "source": [
        "# VGG16 pre-trained model\n",
        "model1 = pretrained_model(VGG16)"
      ]
    },
    {
      "cell_type": "code",
      "execution_count": null,
      "metadata": {
        "colab": {
          "base_uri": "https://localhost:8080/"
        },
        "id": "iQCD35eEGatj",
        "outputId": "da523b05-a8ad-4eff-db0f-ba0eecdf866c"
      },
      "outputs": [
        {
          "output_type": "stream",
          "name": "stdout",
          "text": [
            "Epoch 1/30\n",
            "41/41 [==============================] - 688s 16s/step - loss: 0.7718 - accuracy: 0.4900 - val_loss: 0.7118 - val_accuracy: 0.5092 - lr: 0.0010\n",
            "Epoch 2/30\n",
            "41/41 [==============================] - 20s 487ms/step - loss: 0.7224 - accuracy: 0.4931 - val_loss: 0.6991 - val_accuracy: 0.5354 - lr: 0.0010\n",
            "Epoch 3/30\n",
            "41/41 [==============================] - 20s 494ms/step - loss: 0.7259 - accuracy: 0.5142 - val_loss: 0.8325 - val_accuracy: 0.5015 - lr: 0.0010\n",
            "Epoch 4/30\n",
            "41/41 [==============================] - 20s 489ms/step - loss: 0.7575 - accuracy: 0.4977 - val_loss: 0.7175 - val_accuracy: 0.5462 - lr: 0.0010\n",
            "Epoch 5/30\n",
            "41/41 [==============================] - 20s 486ms/step - loss: 0.6825 - accuracy: 0.5560 - val_loss: 0.7022 - val_accuracy: 0.5446 - lr: 1.0000e-04\n",
            "Epoch 6/30\n",
            "41/41 [==============================] - 20s 486ms/step - loss: 0.6837 - accuracy: 0.5525 - val_loss: 0.6980 - val_accuracy: 0.5400 - lr: 1.0000e-04\n",
            "Epoch 7/30\n",
            "41/41 [==============================] - 20s 487ms/step - loss: 0.6762 - accuracy: 0.5832 - val_loss: 0.6991 - val_accuracy: 0.5523 - lr: 1.0000e-05\n",
            "Epoch 8/30\n",
            "41/41 [==============================] - 21s 501ms/step - loss: 0.6763 - accuracy: 0.5801 - val_loss: 0.6978 - val_accuracy: 0.5415 - lr: 1.0000e-05\n",
            "Epoch 9/30\n",
            "41/41 [==============================] - 20s 483ms/step - loss: 0.6755 - accuracy: 0.5836 - val_loss: 0.6980 - val_accuracy: 0.5385 - lr: 1.0000e-06\n",
            "Epoch 10/30\n",
            "41/41 [==============================] - 20s 488ms/step - loss: 0.6754 - accuracy: 0.5828 - val_loss: 0.6980 - val_accuracy: 0.5385 - lr: 1.0000e-06\n",
            "Epoch 11/30\n",
            "41/41 [==============================] - 20s 489ms/step - loss: 0.6754 - accuracy: 0.5821 - val_loss: 0.6980 - val_accuracy: 0.5400 - lr: 1.0000e-07\n",
            "Epoch 12/30\n",
            "41/41 [==============================] - 20s 490ms/step - loss: 0.6753 - accuracy: 0.5828 - val_loss: 0.6980 - val_accuracy: 0.5400 - lr: 1.0000e-08\n"
          ]
        }
      ],
      "source": [
        "# train the model\n",
        "history1 = train(model1)"
      ]
    },
    {
      "cell_type": "code",
      "execution_count": null,
      "metadata": {
        "colab": {
          "base_uri": "https://localhost:8080/",
          "height": 437
        },
        "id": "b0ngo2FWGiqW",
        "outputId": "9823f1b3-b64a-4490-a8c0-e743e8e18536"
      },
      "outputs": [
        {
          "output_type": "display_data",
          "data": {
            "text/plain": [
              "<Figure size 864x576 with 2 Axes>"
            ],
            "image/png": "[encoded data removed]"
          },
          "metadata": {
            "needs_background": "light"
          }
        },
        {
          "output_type": "stream",
          "name": "stdout",
          "text": [
            "average train accuracy:  0.5498466193675995\n",
            "max train accuracy:  0.5835889577865601\n",
            "average train loss:  0.699827715754509\n",
            "min train loss:  0.6753414869308472\n",
            "#########################################################\n",
            "average train accuracy:  0.5356410344441732\n",
            "max train accuracy:  0.552307665348053\n",
            "average train loss:  0.712498719493548\n",
            "min train loss:  0.697836697101593\n"
          ]
        }
      ],
      "source": [
        "# training and testing results\n",
        "plot_train_evaluation(history1, model1)"
      ]
    },
    {
      "cell_type": "code",
      "execution_count": null,
      "metadata": {
        "id": "FzKimJGWKvbZ"
      },
      "outputs": [],
      "source": [
        "model1.save(\"baseline-Summation-UKDALE.h5\")"
      ]
    },
    {
      "cell_type": "code",
      "execution_count": 6,
      "metadata": {
        "id": "cYzlDJdQeHPR"
      },
      "outputs": [],
      "source": [
        "from tensorflow.keras.models import load_model\n",
        "from tensorflow.keras.applications import VGG16  \n",
        "import tensorflow as tf \n",
        "from tensorflow.keras import Model  \n",
        "from sklearn.metrics import confusion_matrix, classification_report  "
      ]
    },
    {
      "cell_type": "code",
      "execution_count": null,
      "metadata": {
        "id": "0n7TmmcJek_k"
      },
      "outputs": [],
      "source": [
        "model2 = load_model('baseline-Summation-UKDALE.h5')"
      ]
    },
    {
      "cell_type": "code",
      "execution_count": null,
      "metadata": {
        "colab": {
          "base_uri": "https://localhost:8080/"
        },
        "id": "TRHUzBKpe8xW",
        "outputId": "fdd50218-c3cc-4afa-959a-c57a168cd969"
      },
      "outputs": [
        {
          "output_type": "stream",
          "name": "stdout",
          "text": [
            "Model: \"model\"\n",
            "_________________________________________________________________\n",
            " Layer (type)                Output Shape              Param #   \n",
            "=================================================================\n",
            " input_1 (InputLayer)        [(None, 224, 224, 3)]     0         \n",
            "                                                                 \n",
            " block1_conv1 (Conv2D)       (None, 224, 224, 64)      1792      \n",
            "                                                                 \n",
            " block1_conv2 (Conv2D)       (None, 224, 224, 64)      36928     \n",
            "                                                                 \n",
            " block1_pool (MaxPooling2D)  (None, 112, 112, 64)      0         \n",
            "                                                                 \n",
            " block2_conv1 (Conv2D)       (None, 112, 112, 128)     73856     \n",
            "                                                                 \n",
            " block2_conv2 (Conv2D)       (None, 112, 112, 128)     147584    \n",
            "                                                                 \n",
            " block2_pool (MaxPooling2D)  (None, 56, 56, 128)       0         \n",
            "                                                                 \n",
            " block3_conv1 (Conv2D)       (None, 56, 56, 256)       295168    \n",
            "                                                                 \n",
            " block3_conv2 (Conv2D)       (None, 56, 56, 256)       590080    \n",
            "                                                                 \n",
            " block3_conv3 (Conv2D)       (None, 56, 56, 256)       590080    \n",
            "                                                                 \n",
            " block3_pool (MaxPooling2D)  (None, 28, 28, 256)       0         \n",
            "                                                                 \n",
            " block4_conv1 (Conv2D)       (None, 28, 28, 512)       1180160   \n",
            "                                                                 \n",
            " block4_conv2 (Conv2D)       (None, 28, 28, 512)       2359808   \n",
            "                                                                 \n",
            " block4_conv3 (Conv2D)       (None, 28, 28, 512)       2359808   \n",
            "                                                                 \n",
            " block4_pool (MaxPooling2D)  (None, 14, 14, 512)       0         \n",
            "                                                                 \n",
            " block5_conv1 (Conv2D)       (None, 14, 14, 512)       2359808   \n",
            "                                                                 \n",
            " block5_conv2 (Conv2D)       (None, 14, 14, 512)       2359808   \n",
            "                                                                 \n",
            " block5_conv3 (Conv2D)       (None, 14, 14, 512)       2359808   \n",
            "                                                                 \n",
            " block5_pool (MaxPooling2D)  (None, 7, 7, 512)         0         \n",
            "                                                                 \n",
            " flatten (Flatten)           (None, 25088)             0         \n",
            "                                                                 \n",
            " dense (Dense)               (None, 2)                 50178     \n",
            "                                                                 \n",
            "=================================================================\n",
            "Total params: 14,764,866\n",
            "Trainable params: 50,178\n",
            "Non-trainable params: 14,714,688\n",
            "_________________________________________________________________\n"
          ]
        }
      ],
      "source": [
        "model2.summary()"
      ]
    },
    {
      "cell_type": "markdown",
      "source": [
        "**Kettle**"
      ],
      "metadata": {
        "id": "GdWa8dxJoBQl"
      }
    },
    {
      "cell_type": "code",
      "execution_count": null,
      "metadata": {
        "id": "dIFkVQeOe9nY",
        "outputId": "392ff481-9cb3-457b-a616-79c57601f203",
        "colab": {
          "base_uri": "https://localhost:8080/"
        }
      },
      "outputs": [
        {
          "output_type": "stream",
          "name": "stderr",
          "text": [
            "/usr/local/lib/python3.7/dist-packages/keras_preprocessing/image/image_data_generator.py:356: UserWarning: This ImageDataGenerator specifies `samplewise_std_normalization`, which overrides setting of `samplewise_center`.\n",
            "  warnings.warn('This ImageDataGenerator specifies '\n"
          ]
        },
        {
          "output_type": "stream",
          "name": "stdout",
          "text": [
            "Found 3258 images belonging to 2 classes.\n"
          ]
        }
      ],
      "source": [
        "dir2 = '/content/gdrive/MyDrive/data-device/UK-DALE-data/sum/building1/train-kettle'\n",
        "train_datagen2 = ImageDataGenerator(\n",
        "      samplewise_std_normalization= True,\n",
        "      )\n",
        "\n",
        "train_generator2 = train_datagen2.flow_from_directory(\n",
        "     dir2,  # train folder\n",
        "     shuffle=True,  # shuffle the train dataset\n",
        "     target_size = (224,224)\n",
        "\n",
        ")"
      ]
    },
    {
      "cell_type": "code",
      "source": [
        "y_predict1 = model2.evaluate(train_generator2, return_dict = True, use_multiprocessing= True)"
      ],
      "metadata": {
        "id": "g1ikKcO0HM3G",
        "outputId": "ac78c1b9-f8aa-417f-b14a-eb09ee4686d8",
        "colab": {
          "base_uri": "https://localhost:8080/"
        }
      },
      "execution_count": null,
      "outputs": [
        {
          "output_type": "stream",
          "name": "stdout",
          "text": [
            "102/102 [==============================] - 507s 5s/step - loss: 0.7081 - accuracy: 0.4994\n"
          ]
        }
      ]
    },
    {
      "cell_type": "code",
      "source": [
        "y_predict1 "
      ],
      "metadata": {
        "id": "fMGZotbdPDia",
        "outputId": "043456df-0065-43c6-808d-3635d77024a2",
        "colab": {
          "base_uri": "https://localhost:8080/"
        }
      },
      "execution_count": null,
      "outputs": [
        {
          "output_type": "execute_result",
          "data": {
            "text/plain": [
              "{'loss': 0.7080569863319397, 'accuracy': 0.49938613176345825}"
            ]
          },
          "metadata": {},
          "execution_count": 16
        }
      ]
    },
    {
      "cell_type": "code",
      "source": [
        "model3 = load_model('baseline-Summation-UKDALE.h5')"
      ],
      "metadata": {
        "id": "hleebbRnIrAl"
      },
      "execution_count": null,
      "outputs": []
    },
    {
      "cell_type": "markdown",
      "source": [
        "**Washer Dryer**"
      ],
      "metadata": {
        "id": "nxqQ9k2noD6D"
      }
    },
    {
      "cell_type": "code",
      "source": [
        "dir3 = '/content/gdrive/MyDrive/data-device/UK-DALE-data/sum/building1/train-washer'\n",
        "train_datagen3 = ImageDataGenerator(\n",
        "      samplewise_std_normalization= True,\n",
        "      )\n",
        "\n",
        "train_generator3 = train_datagen3.flow_from_directory(\n",
        "     dir3,  # train folder\n",
        "     shuffle=True,  # shuffle the train dataset\n",
        "     target_size = (224,224)\n",
        "\n",
        ")"
      ],
      "metadata": {
        "id": "hkafLOnBOZAa",
        "outputId": "2d466dfa-e6a1-4542-ce04-853822bee343",
        "colab": {
          "base_uri": "https://localhost:8080/"
        }
      },
      "execution_count": null,
      "outputs": [
        {
          "output_type": "stream",
          "name": "stdout",
          "text": [
            "Found 3258 images belonging to 2 classes.\n"
          ]
        }
      ]
    },
    {
      "cell_type": "code",
      "source": [
        "y_predict2 = model3.evaluate(train_generator3, return_dict = True, use_multiprocessing= True)"
      ],
      "metadata": {
        "id": "Fqx9HVFCOqI8",
        "outputId": "ea9b928b-55d2-493c-ccab-99305453eb0a",
        "colab": {
          "base_uri": "https://localhost:8080/"
        }
      },
      "execution_count": null,
      "outputs": [
        {
          "output_type": "stream",
          "name": "stdout",
          "text": [
            "102/102 [==============================] - 698s 7s/step - loss: 0.7043 - accuracy: 0.5055\n"
          ]
        }
      ]
    },
    {
      "cell_type": "code",
      "source": [
        "y_predict2"
      ],
      "metadata": {
        "id": "n4qBUsTQPdH-",
        "outputId": "4aef8e93-04a9-4ace-e3fc-dd1148bc82d7",
        "colab": {
          "base_uri": "https://localhost:8080/"
        }
      },
      "execution_count": null,
      "outputs": [
        {
          "output_type": "execute_result",
          "data": {
            "text/plain": [
              "{'loss': 0.7043279409408569, 'accuracy': 0.5055248737335205}"
            ]
          },
          "metadata": {},
          "execution_count": 20
        }
      ]
    },
    {
      "cell_type": "markdown",
      "source": [
        "### Across House\n",
        "\n",
        "\n",
        "\n",
        "\n"
      ],
      "metadata": {
        "id": "dasxmalUDIQW"
      }
    },
    {
      "cell_type": "markdown",
      "source": [
        "**Fridge**"
      ],
      "metadata": {
        "id": "IOiRoUUSDh4O"
      }
    },
    {
      "cell_type": "code",
      "source": [
        "model4 = load_model('baseline-Summation-UKDALE.h5')"
      ],
      "metadata": {
        "id": "qtOZbsIYDqRX"
      },
      "execution_count": null,
      "outputs": []
    },
    {
      "cell_type": "code",
      "source": [
        "dir4 = '/content/gdrive/MyDrive/data-device/UK-DALE-data/sum/across-building/train-fridge'\n",
        "train_datagen4 = ImageDataGenerator(\n",
        "      samplewise_std_normalization= True,\n",
        "      )\n",
        "\n",
        "train_generator4 = train_datagen4.flow_from_directory(\n",
        "     dir4,  # train folder\n",
        "     shuffle=True,  # shuffle the train dataset\n",
        "     target_size = (224,224)\n",
        "\n",
        ")"
      ],
      "metadata": {
        "id": "eU9YooHrEena",
        "colab": {
          "base_uri": "https://localhost:8080/"
        },
        "outputId": "5470207f-3f8c-4c51-bec9-9afd9fd8f83f"
      },
      "execution_count": null,
      "outputs": [
        {
          "output_type": "stream",
          "name": "stderr",
          "text": [
            "/usr/local/lib/python3.7/dist-packages/keras_preprocessing/image/image_data_generator.py:356: UserWarning: This ImageDataGenerator specifies `samplewise_std_normalization`, which overrides setting of `samplewise_center`.\n",
            "  warnings.warn('This ImageDataGenerator specifies '\n"
          ]
        },
        {
          "output_type": "stream",
          "name": "stdout",
          "text": [
            "Found 3258 images belonging to 2 classes.\n"
          ]
        }
      ]
    },
    {
      "cell_type": "code",
      "source": [
        "y_predict4 = model4.evaluate(train_generator4, return_dict = True, use_multiprocessing= True)"
      ],
      "metadata": {
        "colab": {
          "base_uri": "https://localhost:8080/"
        },
        "id": "XTHhxhj1Ot35",
        "outputId": "d6cbcdb7-b0fb-4424-9496-cd575de58d9e"
      },
      "execution_count": null,
      "outputs": [
        {
          "output_type": "stream",
          "name": "stdout",
          "text": [
            "102/102 [==============================] - 23s 218ms/step - loss: 0.7043 - accuracy: 0.5055\n"
          ]
        }
      ]
    },
    {
      "cell_type": "code",
      "source": [
        "y_predict4"
      ],
      "metadata": {
        "colab": {
          "base_uri": "https://localhost:8080/"
        },
        "id": "q0k8f-VWO8lt",
        "outputId": "11d79831-ba3b-4deb-f54c-ef8f64060ba9"
      },
      "execution_count": null,
      "outputs": [
        {
          "output_type": "execute_result",
          "data": {
            "text/plain": [
              "{'loss': 0.704328179359436, 'accuracy': 0.5055248737335205}"
            ]
          },
          "metadata": {},
          "execution_count": 24
        }
      ]
    },
    {
      "cell_type": "markdown",
      "source": [
        "**Retain Fridge**"
      ],
      "metadata": {
        "id": "sLy4kB-dD5lx"
      }
    },
    {
      "cell_type": "code",
      "source": [
        "dir = '/content/gdrive/MyDrive/data-device/UK-DALE-data/sum/across-building/train-fridge'\n",
        "train_datagen = ImageDataGenerator(\n",
        "      samplewise_std_normalization= True,\n",
        "      validation_split = 0.2)\n",
        "train_generator =train_datagen.flow_from_directory(\n",
        "     dir,  # train folder\n",
        "     batch_size = 64,  # define batch size\n",
        "     shuffle=True,  # shuffle the train dataset\n",
        "     subset = 'training',\n",
        "     target_size = (224,224)\n",
        "\n",
        ")\n",
        "\n",
        "test_generator =train_datagen.flow_from_directory(\n",
        "     dir,  # test folder\n",
        "     batch_size= 1,  # define batch size (1 for test dataset)\n",
        "     shuffle=True,  \n",
        "     subset = 'validation',\n",
        "     target_size = (224, 224)\n",
        "\n",
        ")"
      ],
      "metadata": {
        "id": "dtstFitmD5UQ",
        "outputId": "a7d4ffb0-1669-4e6c-db8b-9d9ef0d969d9",
        "colab": {
          "base_uri": "https://localhost:8080/"
        }
      },
      "execution_count": 7,
      "outputs": [
        {
          "output_type": "stream",
          "name": "stderr",
          "text": [
            "/usr/local/lib/python3.7/dist-packages/keras_preprocessing/image/image_data_generator.py:356: UserWarning: This ImageDataGenerator specifies `samplewise_std_normalization`, which overrides setting of `samplewise_center`.\n",
            "  warnings.warn('This ImageDataGenerator specifies '\n"
          ]
        },
        {
          "output_type": "stream",
          "name": "stdout",
          "text": [
            "Found 2608 images belonging to 2 classes.\n",
            "Found 650 images belonging to 2 classes.\n"
          ]
        }
      ]
    },
    {
      "cell_type": "code",
      "source": [
        "model1_retrain = pretrained_model(VGG16)"
      ],
      "metadata": {
        "id": "j9IYkIZvEJgl",
        "outputId": "6c69efb2-56f8-4ee2-bc72-b49b36834908",
        "colab": {
          "base_uri": "https://localhost:8080/"
        }
      },
      "execution_count": 8,
      "outputs": [
        {
          "output_type": "stream",
          "name": "stdout",
          "text": [
            "Downloading data from https://storage.googleapis.com/tensorflow/keras-applications/vgg16/vgg16_weights_tf_dim_ordering_tf_kernels_notop.h5\n",
            "58892288/58889256 [==============================] - 0s 0us/step\n",
            "58900480/58889256 [==============================] - 0s 0us/step\n",
            "Model: \"vgg16\"\n",
            "_________________________________________________________________\n",
            " Layer (type)                Output Shape              Param #   \n",
            "=================================================================\n",
            " input_1 (InputLayer)        [(None, 224, 224, 3)]     0         \n",
            "                                                                 \n",
            " block1_conv1 (Conv2D)       (None, 224, 224, 64)      1792      \n",
            "                                                                 \n",
            " block1_conv2 (Conv2D)       (None, 224, 224, 64)      36928     \n",
            "                                                                 \n",
            " block1_pool (MaxPooling2D)  (None, 112, 112, 64)      0         \n",
            "                                                                 \n",
            " block2_conv1 (Conv2D)       (None, 112, 112, 128)     73856     \n",
            "                                                                 \n",
            " block2_conv2 (Conv2D)       (None, 112, 112, 128)     147584    \n",
            "                                                                 \n",
            " block2_pool (MaxPooling2D)  (None, 56, 56, 128)       0         \n",
            "                                                                 \n",
            " block3_conv1 (Conv2D)       (None, 56, 56, 256)       295168    \n",
            "                                                                 \n",
            " block3_conv2 (Conv2D)       (None, 56, 56, 256)       590080    \n",
            "                                                                 \n",
            " block3_conv3 (Conv2D)       (None, 56, 56, 256)       590080    \n",
            "                                                                 \n",
            " block3_pool (MaxPooling2D)  (None, 28, 28, 256)       0         \n",
            "                                                                 \n",
            " block4_conv1 (Conv2D)       (None, 28, 28, 512)       1180160   \n",
            "                                                                 \n",
            " block4_conv2 (Conv2D)       (None, 28, 28, 512)       2359808   \n",
            "                                                                 \n",
            " block4_conv3 (Conv2D)       (None, 28, 28, 512)       2359808   \n",
            "                                                                 \n",
            " block4_pool (MaxPooling2D)  (None, 14, 14, 512)       0         \n",
            "                                                                 \n",
            " block5_conv1 (Conv2D)       (None, 14, 14, 512)       2359808   \n",
            "                                                                 \n",
            " block5_conv2 (Conv2D)       (None, 14, 14, 512)       2359808   \n",
            "                                                                 \n",
            " block5_conv3 (Conv2D)       (None, 14, 14, 512)       2359808   \n",
            "                                                                 \n",
            " block5_pool (MaxPooling2D)  (None, 7, 7, 512)         0         \n",
            "                                                                 \n",
            "=================================================================\n",
            "Total params: 14,714,688\n",
            "Trainable params: 0\n",
            "Non-trainable params: 14,714,688\n",
            "_________________________________________________________________\n",
            "Model: \"model\"\n",
            "_________________________________________________________________\n",
            " Layer (type)                Output Shape              Param #   \n",
            "=================================================================\n",
            " input_1 (InputLayer)        [(None, 224, 224, 3)]     0         \n",
            "                                                                 \n",
            " block1_conv1 (Conv2D)       (None, 224, 224, 64)      1792      \n",
            "                                                                 \n",
            " block1_conv2 (Conv2D)       (None, 224, 224, 64)      36928     \n",
            "                                                                 \n",
            " block1_pool (MaxPooling2D)  (None, 112, 112, 64)      0         \n",
            "                                                                 \n",
            " block2_conv1 (Conv2D)       (None, 112, 112, 128)     73856     \n",
            "                                                                 \n",
            " block2_conv2 (Conv2D)       (None, 112, 112, 128)     147584    \n",
            "                                                                 \n",
            " block2_pool (MaxPooling2D)  (None, 56, 56, 128)       0         \n",
            "                                                                 \n",
            " block3_conv1 (Conv2D)       (None, 56, 56, 256)       295168    \n",
            "                                                                 \n",
            " block3_conv2 (Conv2D)       (None, 56, 56, 256)       590080    \n",
            "                                                                 \n",
            " block3_conv3 (Conv2D)       (None, 56, 56, 256)       590080    \n",
            "                                                                 \n",
            " block3_pool (MaxPooling2D)  (None, 28, 28, 256)       0         \n",
            "                                                                 \n",
            " block4_conv1 (Conv2D)       (None, 28, 28, 512)       1180160   \n",
            "                                                                 \n",
            " block4_conv2 (Conv2D)       (None, 28, 28, 512)       2359808   \n",
            "                                                                 \n",
            " block4_conv3 (Conv2D)       (None, 28, 28, 512)       2359808   \n",
            "                                                                 \n",
            " block4_pool (MaxPooling2D)  (None, 14, 14, 512)       0         \n",
            "                                                                 \n",
            " block5_conv1 (Conv2D)       (None, 14, 14, 512)       2359808   \n",
            "                                                                 \n",
            " block5_conv2 (Conv2D)       (None, 14, 14, 512)       2359808   \n",
            "                                                                 \n",
            " block5_conv3 (Conv2D)       (None, 14, 14, 512)       2359808   \n",
            "                                                                 \n",
            " block5_pool (MaxPooling2D)  (None, 7, 7, 512)         0         \n",
            "                                                                 \n",
            " flatten (Flatten)           (None, 25088)             0         \n",
            "                                                                 \n",
            " dense (Dense)               (None, 2)                 50178     \n",
            "                                                                 \n",
            "=================================================================\n",
            "Total params: 14,764,866\n",
            "Trainable params: 50,178\n",
            "Non-trainable params: 14,714,688\n",
            "_________________________________________________________________\n"
          ]
        }
      ]
    },
    {
      "cell_type": "code",
      "source": [
        "history1_retrain = train(model1_retrain)"
      ],
      "metadata": {
        "id": "058wKDOHERVi",
        "outputId": "952b7006-9b94-4f0c-e093-5b16d79a9d4d",
        "colab": {
          "base_uri": "https://localhost:8080/"
        }
      },
      "execution_count": 9,
      "outputs": [
        {
          "output_type": "stream",
          "name": "stdout",
          "text": [
            "Epoch 1/30\n",
            "41/41 [==============================] - 390s 9s/step - loss: 0.6350 - accuracy: 0.6929 - val_loss: 0.6373 - val_accuracy: 0.7538 - lr: 0.0010\n",
            "Epoch 2/30\n",
            "41/41 [==============================] - 22s 536ms/step - loss: 0.4485 - accuracy: 0.8029 - val_loss: 0.5301 - val_accuracy: 0.7646 - lr: 0.0010\n",
            "Epoch 3/30\n",
            "41/41 [==============================] - 21s 506ms/step - loss: 0.3880 - accuracy: 0.8382 - val_loss: 0.5627 - val_accuracy: 0.7754 - lr: 0.0010\n",
            "Epoch 4/30\n",
            "41/41 [==============================] - 21s 501ms/step - loss: 0.3459 - accuracy: 0.8650 - val_loss: 0.5327 - val_accuracy: 0.7723 - lr: 0.0010\n",
            "Epoch 5/30\n",
            "41/41 [==============================] - 20s 490ms/step - loss: 0.3227 - accuracy: 0.8708 - val_loss: 0.5182 - val_accuracy: 0.7800 - lr: 0.0010\n",
            "Epoch 6/30\n",
            "41/41 [==============================] - 20s 488ms/step - loss: 0.3090 - accuracy: 0.8692 - val_loss: 0.5705 - val_accuracy: 0.7892 - lr: 0.0010\n",
            "Epoch 7/30\n",
            "41/41 [==============================] - 21s 514ms/step - loss: 0.2712 - accuracy: 0.8995 - val_loss: 0.5398 - val_accuracy: 0.7815 - lr: 1.0000e-04\n",
            "Epoch 8/30\n",
            "41/41 [==============================] - 21s 517ms/step - loss: 0.2676 - accuracy: 0.9026 - val_loss: 0.5330 - val_accuracy: 0.7831 - lr: 1.0000e-04\n",
            "Epoch 9/30\n",
            "41/41 [==============================] - 20s 485ms/step - loss: 0.2655 - accuracy: 0.9053 - val_loss: 0.5290 - val_accuracy: 0.7846 - lr: 1.0000e-04\n",
            "Epoch 10/30\n",
            "41/41 [==============================] - 20s 490ms/step - loss: 0.2642 - accuracy: 0.8999 - val_loss: 0.5293 - val_accuracy: 0.7892 - lr: 1.0000e-04\n",
            "Epoch 11/30\n",
            "41/41 [==============================] - 21s 516ms/step - loss: 0.2609 - accuracy: 0.9038 - val_loss: 0.5301 - val_accuracy: 0.7877 - lr: 1.0000e-05\n",
            "Epoch 12/30\n",
            "41/41 [==============================] - 21s 510ms/step - loss: 0.2605 - accuracy: 0.9045 - val_loss: 0.5299 - val_accuracy: 0.7877 - lr: 1.0000e-06\n"
          ]
        }
      ]
    },
    {
      "cell_type": "code",
      "source": [
        "plot_train_evaluation(history1_retrain, model1_retrain)"
      ],
      "metadata": {
        "id": "XiCjSrAmEc2q",
        "outputId": "776bf724-9686-4db7-f27a-d3ba24ed52ba",
        "colab": {
          "base_uri": "https://localhost:8080/",
          "height": 437
        }
      },
      "execution_count": 11,
      "outputs": [
        {
          "output_type": "display_data",
          "data": {
            "text/plain": [
              "<Figure size 864x576 with 2 Axes>"
            ],
            "image/png": "[encoded data removed]"
          },
          "metadata": {
            "needs_background": "light"
          }
        },
        {
          "output_type": "stream",
          "name": "stdout",
          "text": [
            "average train accuracy:  0.8628898312648138\n",
            "max train accuracy:  0.9052914381027222\n",
            "average train loss:  0.33658504237731296\n",
            "min train loss:  0.2604972720146179\n",
            "#########################################################\n",
            "average train accuracy:  0.7791025638580322\n",
            "max train accuracy:  0.7892307639122009\n",
            "average train loss:  0.5452253570159277\n",
            "min train loss:  0.5181797742843628\n"
          ]
        }
      ]
    },
    {
      "cell_type": "code",
      "source": [
        "model1_retrain.save(\"/content/gdrive/MyDrive/data-device/model/UK-DALE/Sum/across-fridge.h5\")"
      ],
      "metadata": {
        "id": "HINcbNh5E9Eo"
      },
      "execution_count": 10,
      "outputs": []
    },
    {
      "cell_type": "markdown",
      "source": [
        "**kettle**"
      ],
      "metadata": {
        "id": "6MjfbOXDPWEJ"
      }
    },
    {
      "cell_type": "code",
      "source": [
        "dir5 = '/content/gdrive/MyDrive/data-device/UK-DALE-data/sum/across-building/train-kettle'\n",
        "train_datagen5 = ImageDataGenerator(\n",
        "      samplewise_std_normalization= True,\n",
        "      )\n",
        "\n",
        "train_generator5 = train_datagen5.flow_from_directory(\n",
        "     dir5,  # train folder\n",
        "     shuffle=True,  # shuffle the train dataset\n",
        "     target_size = (224,224)\n",
        "\n",
        ")"
      ],
      "metadata": {
        "colab": {
          "base_uri": "https://localhost:8080/"
        },
        "id": "i_Li-HxBPXgb",
        "outputId": "ef25b765-77ce-42e5-8665-7ceec5dfdee0"
      },
      "execution_count": 12,
      "outputs": [
        {
          "output_type": "stream",
          "name": "stderr",
          "text": [
            "/usr/local/lib/python3.7/dist-packages/keras_preprocessing/image/image_data_generator.py:356: UserWarning: This ImageDataGenerator specifies `samplewise_std_normalization`, which overrides setting of `samplewise_center`.\n",
            "  warnings.warn('This ImageDataGenerator specifies '\n"
          ]
        },
        {
          "output_type": "stream",
          "name": "stdout",
          "text": [
            "Found 3258 images belonging to 2 classes.\n"
          ]
        }
      ]
    },
    {
      "cell_type": "code",
      "source": [
        "y_predict5 = model4.evaluate(train_generator5, return_dict = True, use_multiprocessing= True)"
      ],
      "metadata": {
        "colab": {
          "base_uri": "https://localhost:8080/"
        },
        "id": "ZC9aBRBCQCv-",
        "outputId": "67ecaa3b-80e2-48be-ca71-1eef15511c40"
      },
      "execution_count": null,
      "outputs": [
        {
          "output_type": "stream",
          "name": "stdout",
          "text": [
            "102/102 [==============================] - 467s 5s/step - loss: 0.7252 - accuracy: 0.4570\n"
          ]
        }
      ]
    },
    {
      "cell_type": "code",
      "source": [
        "y_predict5"
      ],
      "metadata": {
        "colab": {
          "base_uri": "https://localhost:8080/"
        },
        "id": "WLVD7SCHQFth",
        "outputId": "c825400f-7e40-49a9-ef55-806377a99234"
      },
      "execution_count": null,
      "outputs": [
        {
          "output_type": "execute_result",
          "data": {
            "text/plain": [
              "{'loss': 0.7252278923988342, 'accuracy': 0.457028865814209}"
            ]
          },
          "metadata": {},
          "execution_count": 27
        }
      ]
    },
    {
      "cell_type": "markdown",
      "source": [
        "**Retrain Kettle**"
      ],
      "metadata": {
        "id": "UVGK5bbxExtv"
      }
    },
    {
      "cell_type": "code",
      "source": [
        "y_predict6_retrain = model1_retrain.evaluate(train_generator5, return_dict = True, use_multiprocessing= True)"
      ],
      "metadata": {
        "id": "eB6nM5fPE2Yd",
        "outputId": "aa93e448-2821-4981-ffb8-9bb610f304f8",
        "colab": {
          "base_uri": "https://localhost:8080/"
        }
      },
      "execution_count": 13,
      "outputs": [
        {
          "output_type": "stream",
          "name": "stdout",
          "text": [
            "102/102 [==============================] - 226s 2s/step - loss: 1.3488 - accuracy: 0.4850\n"
          ]
        }
      ]
    },
    {
      "cell_type": "code",
      "source": [
        "y_predict6_retrain"
      ],
      "metadata": {
        "id": "TcPHng5yF-EE",
        "outputId": "504d7f7b-fe3f-4d71-830f-52b29146a278",
        "colab": {
          "base_uri": "https://localhost:8080/"
        }
      },
      "execution_count": 14,
      "outputs": [
        {
          "output_type": "execute_result",
          "data": {
            "text/plain": [
              "{'loss': 1.3487553596496582, 'accuracy': 0.4849601089954376}"
            ]
          },
          "metadata": {},
          "execution_count": 14
        }
      ]
    },
    {
      "cell_type": "markdown",
      "source": [
        "**Washer Dyer**"
      ],
      "metadata": {
        "id": "8q-3sO8sQmeD"
      }
    },
    {
      "cell_type": "code",
      "source": [
        "dir6 = '/content/gdrive/MyDrive/data-device/UK-DALE-data/sum/across-building/train-washer'\n",
        "train_datagen6 = ImageDataGenerator(\n",
        "      samplewise_std_normalization= True,\n",
        "      )\n",
        "\n",
        "train_generator6 = train_datagen6.flow_from_directory(\n",
        "     dir6,  # train folder\n",
        "     shuffle=True,  # shuffle the train dataset\n",
        "     target_size = (224,224)\n",
        "\n",
        ")"
      ],
      "metadata": {
        "colab": {
          "base_uri": "https://localhost:8080/"
        },
        "id": "pvYytaKHQVZ2",
        "outputId": "69701e40-fd84-4ebc-8cbb-3ee7bb331af3"
      },
      "execution_count": 15,
      "outputs": [
        {
          "output_type": "stream",
          "name": "stdout",
          "text": [
            "Found 3258 images belonging to 2 classes.\n"
          ]
        }
      ]
    },
    {
      "cell_type": "code",
      "source": [
        "y_predict6 = model4.evaluate(train_generator6, return_dict = True, use_multiprocessing= True)"
      ],
      "metadata": {
        "colab": {
          "base_uri": "https://localhost:8080/"
        },
        "id": "qkYJo9m2QwN9",
        "outputId": "73ffbb5d-10ab-44a6-d25d-0c711f3a6531"
      },
      "execution_count": null,
      "outputs": [
        {
          "output_type": "stream",
          "name": "stdout",
          "text": [
            "102/102 [==============================] - 527s 5s/step - loss: 0.7159 - accuracy: 0.4831\n"
          ]
        }
      ]
    },
    {
      "cell_type": "code",
      "source": [
        "y_predict6"
      ],
      "metadata": {
        "colab": {
          "base_uri": "https://localhost:8080/"
        },
        "id": "h1QB_LO-RTdb",
        "outputId": "6396c2fa-45a7-4865-eeda-1b12f870bfa7"
      },
      "execution_count": null,
      "outputs": [
        {
          "output_type": "execute_result",
          "data": {
            "text/plain": [
              "{'loss': 0.7159176468849182, 'accuracy': 0.48311847448349}"
            ]
          },
          "metadata": {},
          "execution_count": 30
        }
      ]
    },
    {
      "cell_type": "markdown",
      "source": [
        "**Retrain Washer Dryer**"
      ],
      "metadata": {
        "id": "2Yet0gHLGBAC"
      }
    },
    {
      "cell_type": "code",
      "source": [
        "y_predict7_retrain = model1_retrain.evaluate(train_generator6, return_dict = True, use_multiprocessing= True)"
      ],
      "metadata": {
        "id": "VP-KpnZhF_43",
        "outputId": "0823a3e9-9afc-4600-eaa4-35802de6eebe",
        "colab": {
          "base_uri": "https://localhost:8080/"
        }
      },
      "execution_count": 16,
      "outputs": [
        {
          "output_type": "stream",
          "name": "stdout",
          "text": [
            "102/102 [==============================] - 403s 4s/step - loss: 1.2810 - accuracy: 0.4982\n"
          ]
        }
      ]
    },
    {
      "cell_type": "markdown",
      "source": [
        "## REDD dataset"
      ],
      "metadata": {
        "id": "qoIw3DKcUiwD"
      }
    },
    {
      "cell_type": "markdown",
      "source": [
        "### building1"
      ],
      "metadata": {
        "id": "pRQVZ5wkVC0f"
      }
    },
    {
      "cell_type": "markdown",
      "source": [
        "**fridge**"
      ],
      "metadata": {
        "id": "0dDj24-6VW8z"
      }
    },
    {
      "cell_type": "code",
      "source": [
        "dir7 = '/content/gdrive/MyDrive/data-device/REDD-data/SUM/building1/train-fridge'\n",
        "train_datagen7 = ImageDataGenerator(\n",
        "      samplewise_std_normalization= True,\n",
        "      )\n",
        "\n",
        "train_generator7 = train_datagen7.flow_from_directory(\n",
        "     dir7,  # train folder\n",
        "     shuffle=True,  # shuffle the train dataset\n",
        "     target_size = (224,224)\n",
        "\n",
        ")"
      ],
      "metadata": {
        "colab": {
          "base_uri": "https://localhost:8080/"
        },
        "id": "7pS-FJYiVDRR",
        "outputId": "87abdcad-a14c-41d4-9b9f-8e2b5ff56dc0"
      },
      "execution_count": null,
      "outputs": [
        {
          "output_type": "stream",
          "name": "stderr",
          "text": [
            "/usr/local/lib/python3.7/dist-packages/keras_preprocessing/image/image_data_generator.py:356: UserWarning: This ImageDataGenerator specifies `samplewise_std_normalization`, which overrides setting of `samplewise_center`.\n",
            "  warnings.warn('This ImageDataGenerator specifies '\n"
          ]
        },
        {
          "output_type": "stream",
          "name": "stdout",
          "text": [
            "Found 72 images belonging to 2 classes.\n"
          ]
        }
      ]
    },
    {
      "cell_type": "code",
      "source": [
        "y_predict7 = model4.evaluate(train_generator7, return_dict = True, use_multiprocessing= True)"
      ],
      "metadata": {
        "colab": {
          "base_uri": "https://localhost:8080/"
        },
        "id": "J7t720OoVI70",
        "outputId": "30acb459-0b1c-4c34-8591-28c2725fb26d"
      },
      "execution_count": null,
      "outputs": [
        {
          "output_type": "stream",
          "name": "stdout",
          "text": [
            "3/3 [==============================] - 16s 8s/step - loss: 0.7074 - accuracy: 0.5278\n"
          ]
        }
      ]
    },
    {
      "cell_type": "code",
      "source": [
        "y_predict7"
      ],
      "metadata": {
        "colab": {
          "base_uri": "https://localhost:8080/"
        },
        "id": "upYhqu1fVTFU",
        "outputId": "0fbce043-82d3-4276-fdb7-4cc27aa73b3c"
      },
      "execution_count": null,
      "outputs": [
        {
          "output_type": "execute_result",
          "data": {
            "text/plain": [
              "{'loss': 0.7073955535888672, 'accuracy': 0.5277777910232544}"
            ]
          },
          "metadata": {},
          "execution_count": 33
        }
      ]
    },
    {
      "cell_type": "markdown",
      "source": [
        "**microwave**"
      ],
      "metadata": {
        "id": "HclCTz3gVVl4"
      }
    },
    {
      "cell_type": "code",
      "source": [
        "dir8 = '/content/gdrive/MyDrive/data-device/REDD-data/SUM/building1/train-microwave'\n",
        "train_datagen8 = ImageDataGenerator(\n",
        "      samplewise_std_normalization= True,\n",
        "      )\n",
        "\n",
        "train_generator8 = train_datagen8.flow_from_directory(\n",
        "     dir8,  # train folder\n",
        "     shuffle=True,  # shuffle the train dataset\n",
        "     target_size = (224,224)\n",
        "\n",
        ")"
      ],
      "metadata": {
        "colab": {
          "base_uri": "https://localhost:8080/"
        },
        "id": "XBP2zNdrVblc",
        "outputId": "e5d6320d-90f9-407c-dba5-d7efcfbb6518"
      },
      "execution_count": null,
      "outputs": [
        {
          "output_type": "stream",
          "name": "stderr",
          "text": [
            "/usr/local/lib/python3.7/dist-packages/keras_preprocessing/image/image_data_generator.py:356: UserWarning: This ImageDataGenerator specifies `samplewise_std_normalization`, which overrides setting of `samplewise_center`.\n",
            "  warnings.warn('This ImageDataGenerator specifies '\n"
          ]
        },
        {
          "output_type": "stream",
          "name": "stdout",
          "text": [
            "Found 72 images belonging to 2 classes.\n"
          ]
        }
      ]
    },
    {
      "cell_type": "code",
      "source": [
        "y_predict8 = model4.evaluate(train_generator8, return_dict = True, use_multiprocessing= True)"
      ],
      "metadata": {
        "colab": {
          "base_uri": "https://localhost:8080/"
        },
        "id": "aU5bgKCgVoyd",
        "outputId": "a1ea3b35-1bdd-4ec9-cecc-aab7449e78da"
      },
      "execution_count": null,
      "outputs": [
        {
          "output_type": "stream",
          "name": "stdout",
          "text": [
            "3/3 [==============================] - 14s 7s/step - loss: 0.7116 - accuracy: 0.4861\n"
          ]
        }
      ]
    },
    {
      "cell_type": "code",
      "source": [
        "y_predict8 "
      ],
      "metadata": {
        "colab": {
          "base_uri": "https://localhost:8080/"
        },
        "id": "pPxrcyJnVum9",
        "outputId": "0379c7dc-3367-4c2d-d42e-62facf7bd6ef"
      },
      "execution_count": null,
      "outputs": [
        {
          "output_type": "execute_result",
          "data": {
            "text/plain": [
              "{'loss': 0.7115598320960999, 'accuracy': 0.4861111044883728}"
            ]
          },
          "metadata": {},
          "execution_count": 36
        }
      ]
    },
    {
      "cell_type": "markdown",
      "source": [
        "**washer Dryer**"
      ],
      "metadata": {
        "id": "M3QVgPklVxE6"
      }
    },
    {
      "cell_type": "code",
      "source": [
        "dir9 = '/content/gdrive/MyDrive/data-device/REDD-data/SUM/building1/train-washer'\n",
        "train_datagen9 = ImageDataGenerator(\n",
        "      samplewise_std_normalization= True,\n",
        "      )\n",
        "\n",
        "train_generator9 = train_datagen9.flow_from_directory(\n",
        "     dir9,  # train folder\n",
        "     shuffle=True,  # shuffle the train dataset\n",
        "     target_size = (224,224)\n",
        "\n",
        ")"
      ],
      "metadata": {
        "colab": {
          "base_uri": "https://localhost:8080/"
        },
        "id": "Vp1LY8DCV2U8",
        "outputId": "f145c6d2-a1fa-47be-bc20-5c942fde900c"
      },
      "execution_count": null,
      "outputs": [
        {
          "output_type": "stream",
          "name": "stderr",
          "text": [
            "/usr/local/lib/python3.7/dist-packages/keras_preprocessing/image/image_data_generator.py:356: UserWarning: This ImageDataGenerator specifies `samplewise_std_normalization`, which overrides setting of `samplewise_center`.\n",
            "  warnings.warn('This ImageDataGenerator specifies '\n"
          ]
        },
        {
          "output_type": "stream",
          "name": "stdout",
          "text": [
            "Found 72 images belonging to 2 classes.\n"
          ]
        }
      ]
    },
    {
      "cell_type": "code",
      "source": [
        "y_predict9 = model4.evaluate(train_generator9, return_dict = True, use_multiprocessing= True)"
      ],
      "metadata": {
        "colab": {
          "base_uri": "https://localhost:8080/"
        },
        "id": "F8E1d6ESV_UK",
        "outputId": "e35e6dcf-c0e8-4447-d327-8f1a5332e86e"
      },
      "execution_count": null,
      "outputs": [
        {
          "output_type": "stream",
          "name": "stdout",
          "text": [
            "3/3 [==============================] - 13s 6s/step - loss: 0.7165 - accuracy: 0.5000\n"
          ]
        }
      ]
    },
    {
      "cell_type": "code",
      "source": [
        "y_predict9"
      ],
      "metadata": {
        "colab": {
          "base_uri": "https://localhost:8080/"
        },
        "id": "9UdRQJHZWD4m",
        "outputId": "ebbff0cf-5e3d-4d7e-cce1-124b058c6cca"
      },
      "execution_count": null,
      "outputs": [
        {
          "output_type": "execute_result",
          "data": {
            "text/plain": [
              "{'loss': 0.7164817452430725, 'accuracy': 0.5}"
            ]
          },
          "metadata": {},
          "execution_count": 39
        }
      ]
    },
    {
      "cell_type": "markdown",
      "source": [
        "### Across Builidng"
      ],
      "metadata": {
        "id": "zOZ0bXttWHQt"
      }
    },
    {
      "cell_type": "markdown",
      "source": [
        "**fridge**"
      ],
      "metadata": {
        "id": "wJM_1a6QWcfe"
      }
    },
    {
      "cell_type": "code",
      "source": [
        "dir10 = '/content/gdrive/MyDrive/data-device/REDD-data/SUM/acoss-builing/train-fridge'\n",
        "train_datagen10 = ImageDataGenerator(\n",
        "      samplewise_std_normalization= True,\n",
        "      )\n",
        "\n",
        "train_generator10 = train_datagen10.flow_from_directory(\n",
        "     dir10,  # train folder\n",
        "     shuffle=True,  # shuffle the train dataset\n",
        "     target_size = (224,224)\n",
        "\n",
        ")"
      ],
      "metadata": {
        "colab": {
          "base_uri": "https://localhost:8080/"
        },
        "id": "lJhVPqFbWEvf",
        "outputId": "a263db0e-c34d-49c7-f200-3dbf531ec44e"
      },
      "execution_count": 18,
      "outputs": [
        {
          "output_type": "stream",
          "name": "stdout",
          "text": [
            "Found 72 images belonging to 2 classes.\n"
          ]
        }
      ]
    },
    {
      "cell_type": "code",
      "source": [
        "y_predict10 = model4.evaluate(train_generator10, return_dict = True, use_multiprocessing= True)"
      ],
      "metadata": {
        "colab": {
          "base_uri": "https://localhost:8080/"
        },
        "id": "HYupOFqdWiK0",
        "outputId": "57f120ef-3b97-42c9-bc79-ce815c0f9cfb"
      },
      "execution_count": null,
      "outputs": [
        {
          "output_type": "stream",
          "name": "stdout",
          "text": [
            "3/3 [==============================] - 15s 7s/step - loss: 0.6636 - accuracy: 0.5833\n"
          ]
        }
      ]
    },
    {
      "cell_type": "code",
      "source": [
        "y_predict10 "
      ],
      "metadata": {
        "colab": {
          "base_uri": "https://localhost:8080/"
        },
        "id": "PMtJTu0jWmph",
        "outputId": "dc1c0dd3-c611-4d80-a3bb-f41cbdd00c3a"
      },
      "execution_count": null,
      "outputs": [
        {
          "output_type": "execute_result",
          "data": {
            "text/plain": [
              "{'loss': 0.6635839939117432, 'accuracy': 0.5833333134651184}"
            ]
          },
          "metadata": {},
          "execution_count": 42
        }
      ]
    },
    {
      "cell_type": "markdown",
      "source": [
        "**Retrain fridge**"
      ],
      "metadata": {
        "id": "w83l4OJ2GVEx"
      }
    },
    {
      "cell_type": "code",
      "source": [
        "y_predict8_retrain = model1_retrain.evaluate(train_generator10, return_dict = True, use_multiprocessing= True)"
      ],
      "metadata": {
        "id": "VneL5eoKGYXZ",
        "outputId": "6474ea20-128c-4d81-b4ac-9fb353f91223",
        "colab": {
          "base_uri": "https://localhost:8080/"
        }
      },
      "execution_count": 19,
      "outputs": [
        {
          "output_type": "stream",
          "name": "stdout",
          "text": [
            "3/3 [==============================] - 9s 4s/step - loss: 0.7253 - accuracy: 0.6111\n"
          ]
        }
      ]
    },
    {
      "cell_type": "code",
      "source": [
        "y_predict8_retrain"
      ],
      "metadata": {
        "id": "RVAuSxakGeDs",
        "outputId": "2e24d55c-5b81-4967-8213-37ef1b7b4a1d",
        "colab": {
          "base_uri": "https://localhost:8080/"
        }
      },
      "execution_count": 20,
      "outputs": [
        {
          "output_type": "execute_result",
          "data": {
            "text/plain": [
              "{'loss': 0.7252712845802307, 'accuracy': 0.6111111044883728}"
            ]
          },
          "metadata": {},
          "execution_count": 20
        }
      ]
    },
    {
      "cell_type": "markdown",
      "source": [
        "**Microwave**"
      ],
      "metadata": {
        "id": "5XkTTLPCWqQK"
      }
    },
    {
      "cell_type": "code",
      "source": [
        "dir11 = '/content/gdrive/MyDrive/data-device/REDD-data/SUM/acoss-builing/train-microwave'\n",
        "train_datagen11 = ImageDataGenerator(\n",
        "      samplewise_std_normalization= True,\n",
        "      )\n",
        "\n",
        "train_generator11 = train_datagen11.flow_from_directory(\n",
        "     dir11,  # train folder\n",
        "     shuffle=True,  # shuffle the train dataset\n",
        "     target_size = (224,224)\n",
        "\n",
        ")"
      ],
      "metadata": {
        "colab": {
          "base_uri": "https://localhost:8080/"
        },
        "id": "i5GttwsuWnh4",
        "outputId": "1f3e6fac-95aa-4968-d4d3-4257c3c2589e"
      },
      "execution_count": 21,
      "outputs": [
        {
          "output_type": "stream",
          "name": "stdout",
          "text": [
            "Found 72 images belonging to 2 classes.\n"
          ]
        }
      ]
    },
    {
      "cell_type": "code",
      "source": [
        "y_predict11 = model4.evaluate(train_generator11, return_dict = True, use_multiprocessing= True)"
      ],
      "metadata": {
        "colab": {
          "base_uri": "https://localhost:8080/"
        },
        "id": "drpOgglIXB52",
        "outputId": "5c5cff20-8e16-4624-a183-26ce1ce7ab3e"
      },
      "execution_count": null,
      "outputs": [
        {
          "output_type": "stream",
          "name": "stdout",
          "text": [
            "3/3 [==============================] - 14s 7s/step - loss: 0.7054 - accuracy: 0.4722\n"
          ]
        }
      ]
    },
    {
      "cell_type": "code",
      "source": [
        "y_predict11"
      ],
      "metadata": {
        "colab": {
          "base_uri": "https://localhost:8080/"
        },
        "id": "2BFgNH3zXFUg",
        "outputId": "9caa8528-e576-4f52-9e82-f68e35df5a3f"
      },
      "execution_count": null,
      "outputs": [
        {
          "output_type": "execute_result",
          "data": {
            "text/plain": [
              "{'loss': 0.7053844928741455, 'accuracy': 0.4722222089767456}"
            ]
          },
          "metadata": {},
          "execution_count": 47
        }
      ]
    },
    {
      "cell_type": "markdown",
      "source": [
        "**Retrain Microwave**"
      ],
      "metadata": {
        "id": "GO_HFjXGGmN4"
      }
    },
    {
      "cell_type": "code",
      "source": [
        "y_predict9_retrain = model1_retrain.evaluate(train_generator11, return_dict = True, use_multiprocessing= True)"
      ],
      "metadata": {
        "id": "JD5Ze8dtGo0K",
        "outputId": "8fc019f3-dfce-41ff-d905-d1cdf193d8d2",
        "colab": {
          "base_uri": "https://localhost:8080/"
        }
      },
      "execution_count": 22,
      "outputs": [
        {
          "output_type": "stream",
          "name": "stdout",
          "text": [
            "3/3 [==============================] - 7s 3s/step - loss: 1.0478 - accuracy: 0.5139\n"
          ]
        }
      ]
    },
    {
      "cell_type": "code",
      "source": [
        "y_predict9_retrain "
      ],
      "metadata": {
        "id": "Rj_UVTupGvF3",
        "outputId": "57ce99a9-3828-43e7-cc47-0184bff9f36e",
        "colab": {
          "base_uri": "https://localhost:8080/"
        }
      },
      "execution_count": 23,
      "outputs": [
        {
          "output_type": "execute_result",
          "data": {
            "text/plain": [
              "{'loss': 1.0478466749191284, 'accuracy': 0.5138888955116272}"
            ]
          },
          "metadata": {},
          "execution_count": 23
        }
      ]
    },
    {
      "cell_type": "markdown",
      "source": [
        "**Washer Dryer**"
      ],
      "metadata": {
        "id": "e7kFd07rXBQJ"
      }
    },
    {
      "cell_type": "code",
      "source": [
        "dir12 = '/content/gdrive/MyDrive/data-device/REDD-data/SUM/acoss-builing/train-washer'\n",
        "train_datagen12 = ImageDataGenerator(\n",
        "      samplewise_std_normalization= True,\n",
        "      )\n",
        "\n",
        "train_generator12 = train_datagen12.flow_from_directory(\n",
        "     dir12,  # train folder\n",
        "     shuffle=True,  # shuffle the train dataset\n",
        "     target_size = (224,224)\n",
        "\n",
        ")"
      ],
      "metadata": {
        "colab": {
          "base_uri": "https://localhost:8080/"
        },
        "id": "v5O5P-EdXNfT",
        "outputId": "32eced0d-37f4-4e7e-e276-98258f18790e"
      },
      "execution_count": 24,
      "outputs": [
        {
          "output_type": "stream",
          "name": "stdout",
          "text": [
            "Found 72 images belonging to 2 classes.\n"
          ]
        }
      ]
    },
    {
      "cell_type": "code",
      "source": [
        "y_predict12 = model4.evaluate(train_generator12, return_dict = True, use_multiprocessing= True)"
      ],
      "metadata": {
        "colab": {
          "base_uri": "https://localhost:8080/"
        },
        "id": "QU4_iFUrXmXf",
        "outputId": "e227c9b0-4cad-498d-edfc-33b585b2fa08"
      },
      "execution_count": null,
      "outputs": [
        {
          "output_type": "stream",
          "name": "stdout",
          "text": [
            "3/3 [==============================] - 15s 7s/step - loss: 0.7138 - accuracy: 0.5000\n"
          ]
        }
      ]
    },
    {
      "cell_type": "code",
      "source": [
        "y_predict12"
      ],
      "metadata": {
        "colab": {
          "base_uri": "https://localhost:8080/"
        },
        "id": "8bFJfpD8XrEU",
        "outputId": "3266aa5b-be56-4851-c1c1-5eeecabfdb95"
      },
      "execution_count": null,
      "outputs": [
        {
          "output_type": "execute_result",
          "data": {
            "text/plain": [
              "{'loss': 0.7137542366981506, 'accuracy': 0.5}"
            ]
          },
          "metadata": {},
          "execution_count": 50
        }
      ]
    },
    {
      "cell_type": "markdown",
      "source": [
        "**Retrain Washer Dryer**"
      ],
      "metadata": {
        "id": "9eFSgB0sGwm6"
      }
    },
    {
      "cell_type": "code",
      "source": [
        "y_predict10_retrain = model1_retrain.evaluate(train_generator12, return_dict = True, use_multiprocessing= True)"
      ],
      "metadata": {
        "id": "RdW-c6EoXtM4",
        "outputId": "438b2716-6bbb-4e70-f7de-7978c90ce9c0",
        "colab": {
          "base_uri": "https://localhost:8080/"
        }
      },
      "execution_count": 25,
      "outputs": [
        {
          "output_type": "stream",
          "name": "stdout",
          "text": [
            "3/3 [==============================] - 7s 3s/step - loss: 1.0784 - accuracy: 0.5000\n"
          ]
        }
      ]
    },
    {
      "cell_type": "code",
      "source": [
        "y_predict10_retrain"
      ],
      "metadata": {
        "id": "J1gZLzmxG4l8",
        "outputId": "f676f3bf-6ca6-41da-e701-a00ba62013e6",
        "colab": {
          "base_uri": "https://localhost:8080/"
        }
      },
      "execution_count": 26,
      "outputs": [
        {
          "output_type": "execute_result",
          "data": {
            "text/plain": [
              "{'loss': 1.0783648490905762, 'accuracy': 0.5}"
            ]
          },
          "metadata": {},
          "execution_count": 26
        }
      ]
    },
    {
      "cell_type": "code",
      "source": [],
      "metadata": {
        "id": "wmtStS6KG6W-"
      },
      "execution_count": null,
      "outputs": []
    }
  ],
  "metadata": {
    "colab": {
      "collapsed_sections": [],
      "name": "Summation-Classification_appilance_status.ipynb",
      "provenance": [],
      "authorship_tag": "ABX9TyNKCCO8MShwwufqNdKr6Ke1",
      "include_colab_link": true
    },
    "gpuClass": "standard",
    "kernelspec": {
      "display_name": "Python 3",
      "name": "python3"
    },
    "language_info": {
      "name": "python"
    },
    "accelerator": "GPU"
  },
  "nbformat": 4,
  "nbformat_minor": 0
}