{
  "cells": [
    {
      "cell_type": "markdown",
      "metadata": {
        "id": "view-in-github",
        "colab_type": "text"
      },
      "source": [
        "<a href=\"https://colab.research.google.com/github/Gracepicharporn/Data-Science-project/blob/main/SVD_Classification_appilance_status.ipynb\" target=\"_parent\"><img src=\"https://colab.research.google.com/assets/colab-badge.svg\" alt=\"Open In Colab\"/></a>"
      ]
    },
    {
      "cell_type": "markdown",
      "metadata": {
        "id": "CyIDjHbY3JUE"
      },
      "source": [
        "Dowload Dataset"
      ]
    },
    {
      "cell_type": "code",
      "execution_count": 1,
      "metadata": {
        "colab": {
          "base_uri": "https://localhost:8080/"
        },
        "id": "6ySv17MU1ik2",
        "outputId": "eb388a09-e259-4955-e8cd-01a9ebda58bb"
      },
      "outputs": [
        {
          "output_type": "stream",
          "name": "stdout",
          "text": [
            "Mounted at /content/gdrive\n"
          ]
        }
      ],
      "source": [
        "from google.colab import drive\n",
        "drive.mount('/content/gdrive')"
      ]
    },
    {
      "cell_type": "code",
      "execution_count": 2,
      "metadata": {
        "id": "MpNhkV-76eYj"
      },
      "outputs": [],
      "source": [
        "import matplotlib.pyplot as plt\n",
        "from PIL import Image\n",
        "import numpy as np"
      ]
    },
    {
      "cell_type": "code",
      "execution_count": 3,
      "metadata": {
        "id": "CNcc8lAgB5Qm"
      },
      "outputs": [],
      "source": [
        "from tensorflow.keras.preprocessing.image import ImageDataGenerator"
      ]
    },
    {
      "cell_type": "markdown",
      "source": [
        "**Image with fridge**"
      ],
      "metadata": {
        "id": "4_wUPEWdn2va"
      }
    },
    {
      "cell_type": "code",
      "execution_count": 4,
      "metadata": {
        "colab": {
          "base_uri": "https://localhost:8080/"
        },
        "id": "GsifLo83BDax",
        "outputId": "e38db0ef-10fe-4735-d123-c464a0413bff"
      },
      "outputs": [
        {
          "output_type": "stream",
          "name": "stderr",
          "text": [
            "/usr/local/lib/python3.7/dist-packages/keras_preprocessing/image/image_data_generator.py:356: UserWarning: This ImageDataGenerator specifies `samplewise_std_normalization`, which overrides setting of `samplewise_center`.\n",
            "  warnings.warn('This ImageDataGenerator specifies '\n"
          ]
        },
        {
          "output_type": "stream",
          "name": "stdout",
          "text": [
            "Found 2608 images belonging to 2 classes.\n",
            "Found 650 images belonging to 2 classes.\n"
          ]
        }
      ],
      "source": [
        "dir = '/content/gdrive/MyDrive/data-device/SVD-fridge'\n",
        "\n",
        "train_datagen = ImageDataGenerator(\n",
        "      samplewise_std_normalization= True,\n",
        "      validation_split = 0.2)\n",
        "\n",
        "train_generator =train_datagen.flow_from_directory(\n",
        "     dir,  # train folder\n",
        "     batch_size = 64,  # define batch size\n",
        "     shuffle=True,  # shuffle the train dataset\n",
        "     subset = 'training',\n",
        "     target_size = (224,224)\n",
        "\n",
        ")\n",
        "\n",
        "test_generator =train_datagen.flow_from_directory(\n",
        "     dir,  # test folder\n",
        "     batch_size= 1,  # define batch size (1 for test dataset)\n",
        "     shuffle=True,  \n",
        "     subset = 'validation',\n",
        "     target_size = (224, 224)\n",
        "\n",
        ")\n",
        "                    "
      ]
    },
    {
      "cell_type": "code",
      "execution_count": 5,
      "metadata": {
        "colab": {
          "base_uri": "https://localhost:8080/"
        },
        "id": "oqsK1XDDEJKp",
        "outputId": "6540cf81-7c48-4e0d-9637-a3be7a599168"
      },
      "outputs": [
        {
          "output_type": "stream",
          "name": "stdout",
          "text": [
            "Train Shape \n",
            " (64, 224, 224, 3)\n",
            "Test Shape \n",
            " (1, 224, 224, 3)\n"
          ]
        }
      ],
      "source": [
        "# shape of dataset\n",
        "trainShape=train_generator.__getitem__(0)[0].shape  # train shape\n",
        "testShape=test_generator.__getitem__(0)[0].shape  # test shape\n",
        "print(\"Train Shape \\n\",trainShape)\n",
        "print(\"Test Shape \\n\",testShape)"
      ]
    },
    {
      "cell_type": "code",
      "execution_count": 6,
      "metadata": {
        "id": "DXo-IFPRFtfa"
      },
      "outputs": [],
      "source": [
        "from tensorflow.keras.applications import VGG16  # VGG16 pre-trained model\n",
        "import tensorflow as tf  # for deep learning\n",
        "from tensorflow.keras import Model  # for creating a model\n",
        "from sklearn.metrics import confusion_matrix, classification_report  # for calculating precision, recall, f1-score, and accuracy\n",
        "import pandas as pd  # for creating a table\n",
        "import numpy as np  # for calculating numeric values\n",
        "from tensorflow.keras.callbacks import ReduceLROnPlateau , EarlyStopping  # for learning rate reduction and early stopping\n",
        "lr_reduce = ReduceLROnPlateau(monitor='accuracy', patience=1)  # learning rate reduction\n",
        "early_stop = tf.keras.callbacks.EarlyStopping(monitor='accuracy', patience=3)  # early stopping\n",
        "\n",
        "def pretrained_model(model):\n",
        "  '''\n",
        "    Create a model from a pre-trained model by adding 1 3-nodes dense layer on top\n",
        "    of the model\n",
        "    Input:\n",
        "      model: a pre-trained model\n",
        "    Output:\n",
        "      a model \n",
        "  '''\n",
        "  # define a pre-trained model without the top layers, and with the default weights\n",
        "  pre_trained_model = model(input_shape = (224, 224, 3), include_top = False, weights = 'imagenet')\n",
        "  pre_trained_model.trainable = False  # freeze the weights\n",
        "  pre_trained_model.summary()\n",
        "\n",
        "  x = tf.keras.layers.Flatten()(pre_trained_model.output)  # flatten layer\n",
        "  x = tf.keras.layers.Dense(2 , activation='sigmoid')(x)  # 1 3-nodes dense layer\n",
        "  model = Model(pre_trained_model.input, x) \n",
        "  model.summary()\n",
        "\n",
        "  return model\n",
        "\n",
        "def train(model):\n",
        "  '''\n",
        "    train the model\n",
        "    Input:\n",
        "      model: a model\n",
        "    Output:\n",
        "      history of the training process\n",
        "  '''\n",
        "  # compile the model with specific configuration\n",
        "  model.compile(optimizer='adam', loss=\"binary_crossentropy\",metrics=['accuracy'])\n",
        "  # train the model for 10 epochs and 30 steps for each epoch\n",
        "  history = model.fit(train_generator, validation_data = test_generator, epochs = 30, \n",
        "                      callbacks=[lr_reduce, early_stop])\n",
        "  return history\n",
        "\n",
        "def plot_train_evaluation(history, model):\n",
        "  '''\n",
        "    Plot train loss and acuracy. Then, evaluate the model (precision, recall, f1-score, and accuracy) with test dataset\n",
        "    Input:\n",
        "      history: a history of the training process\n",
        "      model: a model\n",
        "    Output:\n",
        "      test report (DataFrame)\n",
        "  '''\n",
        "  # train loss and accuracy plot\n",
        "  plt.figure(figsize=(12, 8))  # define figure size\n",
        "  plt.subplot(2, 2, 1)  # create a subplot\n",
        "  plt.plot(history.history['val_accuracy'], label='val_accuracy') \n",
        "  plt.plot(history.history['accuracy'], label='train_accuracy') \n",
        "  plt.legend()  # plot legend\n",
        "  plt.xlabel('epochs')  # define x label\n",
        "  plt.title('Accuracy plot')  # define title\n",
        "\n",
        "  plt.subplot(2, 2, 2)  # create a subplot\n",
        "  plt.plot(history.history['val_loss'], label='val_loss') \n",
        "  plt.plot(history.history['loss'], label='train_loss') \n",
        "  plt.legend()  # plot legend\n",
        "  plt.xlabel('epochs')  # define x label\n",
        "  plt.title('Loss plot')  # define title\n",
        "  plt.show()  # show all plots\n",
        "\n",
        "  # print out average, max, and min of train accuracy and loss\n",
        "  print('average train accuracy: ', sum(history.history['accuracy'])/len(history.history['accuracy']))\n",
        "  print('max train accuracy: ', max(history.history['accuracy']))\n",
        "  print('average train loss: ', sum(history.history['loss'])/len(history.history['loss']))\n",
        "  print('min train loss: ', min(history.history['loss']))\n",
        "\n",
        "  print('#########################################################')\n",
        "  # print out average, max, and min of validation accuracy and loss\n",
        "  print('average train accuracy: ', sum(history.history['val_accuracy'])/len(history.history['val_accuracy']))\n",
        "  print('max train accuracy: ', max(history.history['val_accuracy']))\n",
        "  print('average train loss: ', sum(history.history['val_loss'])/len(history.history['val_loss']))\n",
        "  print('min train loss: ', min(history.history['val_loss']))\n"
      ]
    },
    {
      "cell_type": "code",
      "execution_count": 7,
      "metadata": {
        "colab": {
          "base_uri": "https://localhost:8080/"
        },
        "id": "1y09tRnYGV96",
        "outputId": "f49705a0-eb41-41ae-ab97-2529f422b938"
      },
      "outputs": [
        {
          "output_type": "stream",
          "name": "stdout",
          "text": [
            "Downloading data from https://storage.googleapis.com/tensorflow/keras-applications/vgg16/vgg16_weights_tf_dim_ordering_tf_kernels_notop.h5\n",
            "58892288/58889256 [==============================] - 1s 0us/step\n",
            "58900480/58889256 [==============================] - 1s 0us/step\n",
            "Model: \"vgg16\"\n",
            "_________________________________________________________________\n",
            " Layer (type)                Output Shape              Param #   \n",
            "=================================================================\n",
            " input_1 (InputLayer)        [(None, 224, 224, 3)]     0         \n",
            "                                                                 \n",
            " block1_conv1 (Conv2D)       (None, 224, 224, 64)      1792      \n",
            "                                                                 \n",
            " block1_conv2 (Conv2D)       (None, 224, 224, 64)      36928     \n",
            "                                                                 \n",
            " block1_pool (MaxPooling2D)  (None, 112, 112, 64)      0         \n",
            "                                                                 \n",
            " block2_conv1 (Conv2D)       (None, 112, 112, 128)     73856     \n",
            "                                                                 \n",
            " block2_conv2 (Conv2D)       (None, 112, 112, 128)     147584    \n",
            "                                                                 \n",
            " block2_pool (MaxPooling2D)  (None, 56, 56, 128)       0         \n",
            "                                                                 \n",
            " block3_conv1 (Conv2D)       (None, 56, 56, 256)       295168    \n",
            "                                                                 \n",
            " block3_conv2 (Conv2D)       (None, 56, 56, 256)       590080    \n",
            "                                                                 \n",
            " block3_conv3 (Conv2D)       (None, 56, 56, 256)       590080    \n",
            "                                                                 \n",
            " block3_pool (MaxPooling2D)  (None, 28, 28, 256)       0         \n",
            "                                                                 \n",
            " block4_conv1 (Conv2D)       (None, 28, 28, 512)       1180160   \n",
            "                                                                 \n",
            " block4_conv2 (Conv2D)       (None, 28, 28, 512)       2359808   \n",
            "                                                                 \n",
            " block4_conv3 (Conv2D)       (None, 28, 28, 512)       2359808   \n",
            "                                                                 \n",
            " block4_pool (MaxPooling2D)  (None, 14, 14, 512)       0         \n",
            "                                                                 \n",
            " block5_conv1 (Conv2D)       (None, 14, 14, 512)       2359808   \n",
            "                                                                 \n",
            " block5_conv2 (Conv2D)       (None, 14, 14, 512)       2359808   \n",
            "                                                                 \n",
            " block5_conv3 (Conv2D)       (None, 14, 14, 512)       2359808   \n",
            "                                                                 \n",
            " block5_pool (MaxPooling2D)  (None, 7, 7, 512)         0         \n",
            "                                                                 \n",
            "=================================================================\n",
            "Total params: 14,714,688\n",
            "Trainable params: 0\n",
            "Non-trainable params: 14,714,688\n",
            "_________________________________________________________________\n",
            "Model: \"model\"\n",
            "_________________________________________________________________\n",
            " Layer (type)                Output Shape              Param #   \n",
            "=================================================================\n",
            " input_1 (InputLayer)        [(None, 224, 224, 3)]     0         \n",
            "                                                                 \n",
            " block1_conv1 (Conv2D)       (None, 224, 224, 64)      1792      \n",
            "                                                                 \n",
            " block1_conv2 (Conv2D)       (None, 224, 224, 64)      36928     \n",
            "                                                                 \n",
            " block1_pool (MaxPooling2D)  (None, 112, 112, 64)      0         \n",
            "                                                                 \n",
            " block2_conv1 (Conv2D)       (None, 112, 112, 128)     73856     \n",
            "                                                                 \n",
            " block2_conv2 (Conv2D)       (None, 112, 112, 128)     147584    \n",
            "                                                                 \n",
            " block2_pool (MaxPooling2D)  (None, 56, 56, 128)       0         \n",
            "                                                                 \n",
            " block3_conv1 (Conv2D)       (None, 56, 56, 256)       295168    \n",
            "                                                                 \n",
            " block3_conv2 (Conv2D)       (None, 56, 56, 256)       590080    \n",
            "                                                                 \n",
            " block3_conv3 (Conv2D)       (None, 56, 56, 256)       590080    \n",
            "                                                                 \n",
            " block3_pool (MaxPooling2D)  (None, 28, 28, 256)       0         \n",
            "                                                                 \n",
            " block4_conv1 (Conv2D)       (None, 28, 28, 512)       1180160   \n",
            "                                                                 \n",
            " block4_conv2 (Conv2D)       (None, 28, 28, 512)       2359808   \n",
            "                                                                 \n",
            " block4_conv3 (Conv2D)       (None, 28, 28, 512)       2359808   \n",
            "                                                                 \n",
            " block4_pool (MaxPooling2D)  (None, 14, 14, 512)       0         \n",
            "                                                                 \n",
            " block5_conv1 (Conv2D)       (None, 14, 14, 512)       2359808   \n",
            "                                                                 \n",
            " block5_conv2 (Conv2D)       (None, 14, 14, 512)       2359808   \n",
            "                                                                 \n",
            " block5_conv3 (Conv2D)       (None, 14, 14, 512)       2359808   \n",
            "                                                                 \n",
            " block5_pool (MaxPooling2D)  (None, 7, 7, 512)         0         \n",
            "                                                                 \n",
            " flatten (Flatten)           (None, 25088)             0         \n",
            "                                                                 \n",
            " dense (Dense)               (None, 2)                 50178     \n",
            "                                                                 \n",
            "=================================================================\n",
            "Total params: 14,764,866\n",
            "Trainable params: 50,178\n",
            "Non-trainable params: 14,714,688\n",
            "_________________________________________________________________\n"
          ]
        }
      ],
      "source": [
        "# VGG16 pre-trained model\n",
        "model1 = pretrained_model(VGG16)"
      ]
    },
    {
      "cell_type": "code",
      "execution_count": 8,
      "metadata": {
        "colab": {
          "base_uri": "https://localhost:8080/"
        },
        "id": "iQCD35eEGatj",
        "outputId": "61c23235-0c9d-45b2-e951-a312735bfa0c"
      },
      "outputs": [
        {
          "output_type": "stream",
          "name": "stdout",
          "text": [
            "Epoch 1/30\n",
            "41/41 [==============================] - 351s 8s/step - loss: 0.5822 - accuracy: 0.7427 - val_loss: 0.4558 - val_accuracy: 0.8200 - lr: 0.0010\n",
            "Epoch 2/30\n",
            "41/41 [==============================] - 21s 520ms/step - loss: 0.3703 - accuracy: 0.8639 - val_loss: 0.3844 - val_accuracy: 0.8385 - lr: 0.0010\n",
            "Epoch 3/30\n",
            "41/41 [==============================] - 22s 528ms/step - loss: 0.3027 - accuracy: 0.8965 - val_loss: 0.3412 - val_accuracy: 0.8646 - lr: 0.0010\n",
            "Epoch 4/30\n",
            "41/41 [==============================] - 21s 521ms/step - loss: 0.2604 - accuracy: 0.9191 - val_loss: 0.3574 - val_accuracy: 0.8400 - lr: 0.0010\n",
            "Epoch 5/30\n",
            "41/41 [==============================] - 21s 509ms/step - loss: 0.2229 - accuracy: 0.9348 - val_loss: 0.3111 - val_accuracy: 0.8800 - lr: 0.0010\n",
            "Epoch 6/30\n",
            "41/41 [==============================] - 21s 514ms/step - loss: 0.2042 - accuracy: 0.9444 - val_loss: 0.3106 - val_accuracy: 0.8785 - lr: 0.0010\n",
            "Epoch 7/30\n",
            "41/41 [==============================] - 21s 517ms/step - loss: 0.1767 - accuracy: 0.9555 - val_loss: 0.3061 - val_accuracy: 0.8800 - lr: 0.0010\n",
            "Epoch 8/30\n",
            "41/41 [==============================] - 21s 514ms/step - loss: 0.1617 - accuracy: 0.9632 - val_loss: 0.3277 - val_accuracy: 0.8615 - lr: 0.0010\n",
            "Epoch 9/30\n",
            "41/41 [==============================] - 22s 523ms/step - loss: 0.1538 - accuracy: 0.9586 - val_loss: 0.2939 - val_accuracy: 0.8969 - lr: 0.0010\n",
            "Epoch 10/30\n",
            "41/41 [==============================] - 21s 516ms/step - loss: 0.1341 - accuracy: 0.9709 - val_loss: 0.3069 - val_accuracy: 0.8831 - lr: 1.0000e-04\n",
            "Epoch 11/30\n",
            "41/41 [==============================] - 21s 516ms/step - loss: 0.1335 - accuracy: 0.9705 - val_loss: 0.3019 - val_accuracy: 0.8908 - lr: 1.0000e-04\n",
            "Epoch 12/30\n",
            "41/41 [==============================] - 21s 512ms/step - loss: 0.1314 - accuracy: 0.9728 - val_loss: 0.3042 - val_accuracy: 0.8877 - lr: 1.0000e-05\n",
            "Epoch 13/30\n",
            "41/41 [==============================] - 21s 515ms/step - loss: 0.1313 - accuracy: 0.9716 - val_loss: 0.3038 - val_accuracy: 0.8877 - lr: 1.0000e-05\n",
            "Epoch 14/30\n",
            "41/41 [==============================] - 21s 514ms/step - loss: 0.1311 - accuracy: 0.9728 - val_loss: 0.3038 - val_accuracy: 0.8877 - lr: 1.0000e-06\n",
            "Epoch 15/30\n",
            "41/41 [==============================] - 22s 530ms/step - loss: 0.1311 - accuracy: 0.9728 - val_loss: 0.3038 - val_accuracy: 0.8877 - lr: 1.0000e-07\n"
          ]
        }
      ],
      "source": [
        "# train the model\n",
        "history1 = train(model1)"
      ]
    },
    {
      "cell_type": "code",
      "execution_count": 9,
      "metadata": {
        "colab": {
          "base_uri": "https://localhost:8080/",
          "height": 437
        },
        "id": "b0ngo2FWGiqW",
        "outputId": "bc395d2e-ee71-43b5-89e9-5cf66d401235"
      },
      "outputs": [
        {
          "output_type": "display_data",
          "data": {
            "text/plain": [
              "<Figure size 864x576 with 2 Axes>"
            ],
            "image/png": "[encoded data removed]"
          },
          "metadata": {
            "needs_background": "light"
          }
        },
        {
          "output_type": "stream",
          "name": "stdout",
          "text": [
            "average train accuracy:  0.9339979489644369\n",
            "max train accuracy:  0.9727760553359985\n",
            "average train loss:  0.21516537368297578\n",
            "min train loss:  0.1311139464378357\n",
            "#########################################################\n",
            "average train accuracy:  0.8723076939582824\n",
            "max train accuracy:  0.8969230651855469\n",
            "average train loss:  0.3275257388750712\n",
            "min train loss:  0.2939423620700836\n"
          ]
        }
      ],
      "source": [
        "# training and testing results\n",
        "plot_train_evaluation(history1, model1)"
      ]
    },
    {
      "cell_type": "code",
      "execution_count": 10,
      "metadata": {
        "id": "FzKimJGWKvbZ"
      },
      "outputs": [],
      "source": [
        "model1.save(\"svd_model.h5\")"
      ]
    },
    {
      "cell_type": "code",
      "execution_count": 11,
      "metadata": {
        "id": "cYzlDJdQeHPR"
      },
      "outputs": [],
      "source": [
        "from tensorflow.keras.models import load_model\n",
        "from tensorflow.keras.applications import VGG16  \n",
        "import tensorflow as tf \n",
        "from tensorflow.keras import Model  \n",
        "from sklearn.metrics import confusion_matrix, classification_report  "
      ]
    },
    {
      "cell_type": "code",
      "execution_count": 12,
      "metadata": {
        "id": "0n7TmmcJek_k"
      },
      "outputs": [],
      "source": [
        "model2 = load_model('svd_model.h5')"
      ]
    },
    {
      "cell_type": "code",
      "execution_count": 13,
      "metadata": {
        "colab": {
          "base_uri": "https://localhost:8080/"
        },
        "id": "TRHUzBKpe8xW",
        "outputId": "f45a29c9-aa3d-4b85-e2d3-f600df94c3d1"
      },
      "outputs": [
        {
          "output_type": "stream",
          "name": "stdout",
          "text": [
            "Model: \"model\"\n",
            "_________________________________________________________________\n",
            " Layer (type)                Output Shape              Param #   \n",
            "=================================================================\n",
            " input_1 (InputLayer)        [(None, 224, 224, 3)]     0         \n",
            "                                                                 \n",
            " block1_conv1 (Conv2D)       (None, 224, 224, 64)      1792      \n",
            "                                                                 \n",
            " block1_conv2 (Conv2D)       (None, 224, 224, 64)      36928     \n",
            "                                                                 \n",
            " block1_pool (MaxPooling2D)  (None, 112, 112, 64)      0         \n",
            "                                                                 \n",
            " block2_conv1 (Conv2D)       (None, 112, 112, 128)     73856     \n",
            "                                                                 \n",
            " block2_conv2 (Conv2D)       (None, 112, 112, 128)     147584    \n",
            "                                                                 \n",
            " block2_pool (MaxPooling2D)  (None, 56, 56, 128)       0         \n",
            "                                                                 \n",
            " block3_conv1 (Conv2D)       (None, 56, 56, 256)       295168    \n",
            "                                                                 \n",
            " block3_conv2 (Conv2D)       (None, 56, 56, 256)       590080    \n",
            "                                                                 \n",
            " block3_conv3 (Conv2D)       (None, 56, 56, 256)       590080    \n",
            "                                                                 \n",
            " block3_pool (MaxPooling2D)  (None, 28, 28, 256)       0         \n",
            "                                                                 \n",
            " block4_conv1 (Conv2D)       (None, 28, 28, 512)       1180160   \n",
            "                                                                 \n",
            " block4_conv2 (Conv2D)       (None, 28, 28, 512)       2359808   \n",
            "                                                                 \n",
            " block4_conv3 (Conv2D)       (None, 28, 28, 512)       2359808   \n",
            "                                                                 \n",
            " block4_pool (MaxPooling2D)  (None, 14, 14, 512)       0         \n",
            "                                                                 \n",
            " block5_conv1 (Conv2D)       (None, 14, 14, 512)       2359808   \n",
            "                                                                 \n",
            " block5_conv2 (Conv2D)       (None, 14, 14, 512)       2359808   \n",
            "                                                                 \n",
            " block5_conv3 (Conv2D)       (None, 14, 14, 512)       2359808   \n",
            "                                                                 \n",
            " block5_pool (MaxPooling2D)  (None, 7, 7, 512)         0         \n",
            "                                                                 \n",
            " flatten (Flatten)           (None, 25088)             0         \n",
            "                                                                 \n",
            " dense (Dense)               (None, 2)                 50178     \n",
            "                                                                 \n",
            "=================================================================\n",
            "Total params: 14,764,866\n",
            "Trainable params: 50,178\n",
            "Non-trainable params: 14,714,688\n",
            "_________________________________________________________________\n"
          ]
        }
      ],
      "source": [
        "model2.summary()"
      ]
    },
    {
      "cell_type": "markdown",
      "source": [
        "**Kettle**"
      ],
      "metadata": {
        "id": "GdWa8dxJoBQl"
      }
    },
    {
      "cell_type": "code",
      "execution_count": 14,
      "metadata": {
        "id": "dIFkVQeOe9nY",
        "outputId": "23890918-af70-4537-ef13-c5b42cffdcce",
        "colab": {
          "base_uri": "https://localhost:8080/"
        }
      },
      "outputs": [
        {
          "output_type": "stream",
          "name": "stderr",
          "text": [
            "/usr/local/lib/python3.7/dist-packages/keras_preprocessing/image/image_data_generator.py:356: UserWarning: This ImageDataGenerator specifies `samplewise_std_normalization`, which overrides setting of `samplewise_center`.\n",
            "  warnings.warn('This ImageDataGenerator specifies '\n"
          ]
        },
        {
          "output_type": "stream",
          "name": "stdout",
          "text": [
            "Found 3258 images belonging to 2 classes.\n"
          ]
        }
      ],
      "source": [
        "dir2 = '/content/gdrive/MyDrive/data-device/SVD-kettle'\n",
        "train_datagen2 = ImageDataGenerator(\n",
        "      samplewise_std_normalization= True,\n",
        "      )\n",
        "\n",
        "train_generator2 = train_datagen.flow_from_directory(\n",
        "     dir2,  # train folder\n",
        "     shuffle=True,  # shuffle the train dataset\n",
        "     target_size = (224,224)\n",
        "\n",
        ")"
      ]
    },
    {
      "cell_type": "code",
      "source": [
        "y_predict1 = model2.evaluate(train_generator2, return_dict = True, use_multiprocessing= True)"
      ],
      "metadata": {
        "id": "g1ikKcO0HM3G",
        "outputId": "328ddd9e-417a-4a15-c2a2-288b066a9778",
        "colab": {
          "base_uri": "https://localhost:8080/"
        }
      },
      "execution_count": 15,
      "outputs": [
        {
          "output_type": "stream",
          "name": "stdout",
          "text": [
            "102/102 [==============================] - 206s 2s/step - loss: 1.8842 - accuracy: 0.3720\n"
          ]
        }
      ]
    },
    {
      "cell_type": "code",
      "source": [
        "y_predict1 "
      ],
      "metadata": {
        "id": "fMGZotbdPDia",
        "outputId": "150afd86-eb7f-4601-9ba2-f81683f0dd29",
        "colab": {
          "base_uri": "https://localhost:8080/"
        }
      },
      "execution_count": 16,
      "outputs": [
        {
          "output_type": "execute_result",
          "data": {
            "text/plain": [
              "{'accuracy': 0.3720073699951172, 'loss': 1.8841989040374756}"
            ]
          },
          "metadata": {},
          "execution_count": 16
        }
      ]
    },
    {
      "cell_type": "code",
      "source": [
        "model3 = load_model('svd_model.h5')"
      ],
      "metadata": {
        "id": "hleebbRnIrAl"
      },
      "execution_count": 17,
      "outputs": []
    },
    {
      "cell_type": "markdown",
      "source": [
        "**Washer Dryer**"
      ],
      "metadata": {
        "id": "nxqQ9k2noD6D"
      }
    },
    {
      "cell_type": "code",
      "source": [
        "dir3 = '/content/gdrive/MyDrive/data-device/SVD-washer'\n",
        "train_datagen3 = ImageDataGenerator(\n",
        "      samplewise_std_normalization= True,\n",
        "      )\n",
        "\n",
        "train_generator3 = train_datagen.flow_from_directory(\n",
        "     dir3,  # train folder\n",
        "     shuffle=True,  # shuffle the train dataset\n",
        "     target_size = (224,224)\n",
        "\n",
        ")"
      ],
      "metadata": {
        "id": "hkafLOnBOZAa",
        "outputId": "5343c5c1-d18c-4ede-e24b-ad03756d96d2",
        "colab": {
          "base_uri": "https://localhost:8080/"
        }
      },
      "execution_count": 18,
      "outputs": [
        {
          "output_type": "stream",
          "name": "stderr",
          "text": [
            "/usr/local/lib/python3.7/dist-packages/keras_preprocessing/image/image_data_generator.py:356: UserWarning: This ImageDataGenerator specifies `samplewise_std_normalization`, which overrides setting of `samplewise_center`.\n",
            "  warnings.warn('This ImageDataGenerator specifies '\n"
          ]
        },
        {
          "output_type": "stream",
          "name": "stdout",
          "text": [
            "Found 3258 images belonging to 2 classes.\n"
          ]
        }
      ]
    },
    {
      "cell_type": "code",
      "source": [
        "y_predict2 = model3.evaluate(train_generator3, return_dict = True, use_multiprocessing= True)"
      ],
      "metadata": {
        "id": "Fqx9HVFCOqI8",
        "outputId": "fd7b23d4-1e67-4f16-e73a-eab66756f250",
        "colab": {
          "base_uri": "https://localhost:8080/"
        }
      },
      "execution_count": 19,
      "outputs": [
        {
          "output_type": "stream",
          "name": "stdout",
          "text": [
            "102/102 [==============================] - 366s 4s/step - loss: 0.1707 - accuracy: 0.9515\n"
          ]
        }
      ]
    },
    {
      "cell_type": "code",
      "source": [
        "y_predict2"
      ],
      "metadata": {
        "id": "n4qBUsTQPdH-",
        "outputId": "8abccdfd-6363-46fa-b88a-7e11983e4ffc",
        "colab": {
          "base_uri": "https://localhost:8080/"
        }
      },
      "execution_count": 20,
      "outputs": [
        {
          "output_type": "execute_result",
          "data": {
            "text/plain": [
              "{'accuracy': 0.9515039920806885, 'loss': 0.17073097825050354}"
            ]
          },
          "metadata": {},
          "execution_count": 20
        }
      ]
    },
    {
      "cell_type": "code",
      "source": [
        ""
      ],
      "metadata": {
        "id": "FPmmvlVbR8e5"
      },
      "execution_count": null,
      "outputs": []
    }
  ],
  "metadata": {
    "colab": {
      "collapsed_sections": [],
      "name": "SVD_Classification_appilance_status.ipynb",
      "provenance": [],
      "authorship_tag": "ABX9TyPWDGg94CuxxXGpoIk44IKD",
      "include_colab_link": true
    },
    "gpuClass": "standard",
    "kernelspec": {
      "display_name": "Python 3",
      "name": "python3"
    },
    "language_info": {
      "name": "python"
    },
    "accelerator": "GPU"
  },
  "nbformat": 4,
  "nbformat_minor": 0
}
