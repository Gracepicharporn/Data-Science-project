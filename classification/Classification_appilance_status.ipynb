{
  "cells": [
    {
      "cell_type": "markdown",
      "metadata": {
        "id": "view-in-github",
        "colab_type": "text"
      },
      "source": [
        "<a href=\"https://colab.research.google.com/github/Gracepicharporn/Data-Science-project/blob/main/classification/Classification_appilance_status.ipynb\" target=\"_parent\"><img src=\"https://colab.research.google.com/assets/colab-badge.svg\" alt=\"Open In Colab\"/></a>"
      ]
    },
    {
      "cell_type": "markdown",
      "metadata": {
        "id": "CyIDjHbY3JUE"
      },
      "source": [
        "Dowload Dataset"
      ]
    },
    {
      "cell_type": "code",
      "execution_count": 1,
      "metadata": {
        "colab": {
          "base_uri": "https://localhost:8080/"
        },
        "id": "6ySv17MU1ik2",
        "outputId": "8cd872ac-2389-48d3-8664-c82c0e1e87f0"
      },
      "outputs": [
        {
          "output_type": "stream",
          "name": "stdout",
          "text": [
            "Mounted at /content/gdrive\n"
          ]
        }
      ],
      "source": [
        "from google.colab import drive\n",
        "drive.mount('/content/gdrive')"
      ]
    },
    {
      "cell_type": "code",
      "execution_count": 2,
      "metadata": {
        "id": "MpNhkV-76eYj"
      },
      "outputs": [],
      "source": [
        "import matplotlib.pyplot as plt\n",
        "from PIL import Image\n",
        "import numpy as np"
      ]
    },
    {
      "cell_type": "code",
      "execution_count": null,
      "metadata": {
        "id": "usoUeBNc3aG9"
      },
      "outputs": [],
      "source": [
        "path = '/content/gdrive/MyDrive/data-device/train/ON-process/2017-4-26.png'\n",
        "image = Image.open(path)\n",
        "image_array = np.array(image)"
      ]
    },
    {
      "cell_type": "code",
      "execution_count": null,
      "metadata": {
        "colab": {
          "base_uri": "https://localhost:8080/"
        },
        "id": "YdkGarza-3N-",
        "outputId": "142e8ed4-7ec2-490f-898d-8a90bcdece0a"
      },
      "outputs": [
        {
          "data": {
            "text/plain": [
              "(224, 224)"
            ]
          },
          "execution_count": 5,
          "metadata": {},
          "output_type": "execute_result"
        }
      ],
      "source": [
        "image_array.shape"
      ]
    },
    {
      "cell_type": "code",
      "execution_count": 3,
      "metadata": {
        "id": "CNcc8lAgB5Qm"
      },
      "outputs": [],
      "source": [
        "from tensorflow.keras.preprocessing.image import ImageDataGenerator"
      ]
    },
    {
      "cell_type": "markdown",
      "source": [
        "**Image with fridge**"
      ],
      "metadata": {
        "id": "4_wUPEWdn2va"
      }
    },
    {
      "cell_type": "code",
      "execution_count": null,
      "metadata": {
        "colab": {
          "base_uri": "https://localhost:8080/"
        },
        "id": "GsifLo83BDax",
        "outputId": "e87c7eac-e467-4e75-bf5b-c826af85034d"
      },
      "outputs": [
        {
          "name": "stderr",
          "output_type": "stream",
          "text": [
            "/usr/local/lib/python3.7/dist-packages/keras_preprocessing/image/image_data_generator.py:356: UserWarning: This ImageDataGenerator specifies `samplewise_std_normalization`, which overrides setting of `samplewise_center`.\n",
            "  warnings.warn('This ImageDataGenerator specifies '\n"
          ]
        },
        {
          "name": "stdout",
          "output_type": "stream",
          "text": [
            "Found 2608 images belonging to 2 classes.\n",
            "Found 650 images belonging to 2 classes.\n"
          ]
        }
      ],
      "source": [
        "dir = '/content/gdrive/MyDrive/data-device/train'\n",
        "train_datagen = ImageDataGenerator(\n",
        "      samplewise_std_normalization= True,\n",
        "      validation_split = 0.2)\n",
        "train_generator =train_datagen.flow_from_directory(\n",
        "     dir,  # train folder\n",
        "     batch_size = 64,  # define batch size\n",
        "     shuffle=True,  # shuffle the train dataset\n",
        "     subset = 'training',\n",
        "     target_size = (224,224)\n",
        "\n",
        ")\n",
        "\n",
        "test_generator =train_datagen.flow_from_directory(\n",
        "     dir,  # test folder\n",
        "     batch_size= 1,  # define batch size (1 for test dataset)\n",
        "     shuffle=True,  \n",
        "     subset = 'validation',\n",
        "     target_size = (224, 224)\n",
        "\n",
        ")\n",
        "                    "
      ]
    },
    {
      "cell_type": "code",
      "execution_count": null,
      "metadata": {
        "colab": {
          "base_uri": "https://localhost:8080/"
        },
        "id": "oqsK1XDDEJKp",
        "outputId": "bed703ec-3cb1-471d-8f03-3c3d63d0870d"
      },
      "outputs": [
        {
          "name": "stdout",
          "output_type": "stream",
          "text": [
            "Train Shape \n",
            " (64, 224, 224, 3)\n",
            "Test Shape \n",
            " (1, 224, 224, 3)\n"
          ]
        }
      ],
      "source": [
        "# shape of dataset\n",
        "trainShape=train_generator.__getitem__(0)[0].shape  # train shape\n",
        "testShape=test_generator.__getitem__(0)[0].shape  # test shape\n",
        "print(\"Train Shape \\n\",trainShape)\n",
        "print(\"Test Shape \\n\",testShape)"
      ]
    },
    {
      "cell_type": "code",
      "execution_count": null,
      "metadata": {
        "id": "DXo-IFPRFtfa"
      },
      "outputs": [],
      "source": [
        "from tensorflow.keras.applications import VGG16  # VGG16 pre-trained model\n",
        "import tensorflow as tf  # for deep learning\n",
        "from tensorflow.keras import Model  # for creating a model\n",
        "from sklearn.metrics import confusion_matrix, classification_report  # for calculating precision, recall, f1-score, and accuracy\n",
        "import pandas as pd  # for creating a table\n",
        "import numpy as np  # for calculating numeric values\n",
        "from tensorflow.keras.callbacks import ReduceLROnPlateau , EarlyStopping  # for learning rate reduction and early stopping\n",
        "lr_reduce = ReduceLROnPlateau(monitor='accuracy', patience=1)  # learning rate reduction\n",
        "early_stop = tf.keras.callbacks.EarlyStopping(monitor='accuracy', patience=3)  # early stopping\n",
        "\n",
        "def pretrained_model(model):\n",
        "  '''\n",
        "    Create a model from a pre-trained model by adding 1 3-nodes dense layer on top\n",
        "    of the model\n",
        "    Input:\n",
        "      model: a pre-trained model\n",
        "    Output:\n",
        "      a model \n",
        "  '''\n",
        "  # define a pre-trained model without the top layers, and with the default weights\n",
        "  pre_trained_model = model(input_shape = (224, 224, 3), include_top = False, weights = 'imagenet')\n",
        "  pre_trained_model.trainable = False  # freeze the weights\n",
        "  pre_trained_model.summary()\n",
        "\n",
        "  x = tf.keras.layers.Flatten()(pre_trained_model.output)  # flatten layer\n",
        "  x = tf.keras.layers.Dense(2 , activation='sigmoid')(x)  # 1 3-nodes dense layer\n",
        "  model = Model(pre_trained_model.input, x) \n",
        "  model.summary()\n",
        "\n",
        "  return model\n",
        "\n",
        "def train(model):\n",
        "  '''\n",
        "    train the model\n",
        "    Input:\n",
        "      model: a model\n",
        "    Output:\n",
        "      history of the training process\n",
        "  '''\n",
        "  # compile the model with specific configuration\n",
        "  model.compile(optimizer='adam', loss=\"binary_crossentropy\",metrics=['accuracy'])\n",
        "  # train the model for 10 epochs and 30 steps for each epoch\n",
        "  history = model.fit(train_generator, validation_data = test_generator, epochs = 30, \n",
        "                      callbacks=[lr_reduce, early_stop])\n",
        "  return history\n",
        "\n",
        "def plot_train_evaluation(history, model):\n",
        "  '''\n",
        "    Plot train loss and acuracy. Then, evaluate the model (precision, recall, f1-score, and accuracy) with test dataset\n",
        "    Input:\n",
        "      history: a history of the training process\n",
        "      model: a model\n",
        "    Output:\n",
        "      test report (DataFrame)\n",
        "  '''\n",
        "  # train loss and accuracy plot\n",
        "  plt.figure(figsize=(12, 8))  # define figure size\n",
        "  plt.subplot(2, 2, 1)  # create a subplot\n",
        "  plt.plot(history.history['val_accuracy'], label='val_accuracy') \n",
        "  plt.plot(history.history['accuracy'], label='train_accuracy') \n",
        "  plt.legend()  # plot legend\n",
        "  plt.xlabel('epochs')  # define x label\n",
        "  plt.title('Accuracy plot')  # define title\n",
        "\n",
        "  plt.subplot(2, 2, 2)  # create a subplot\n",
        "  plt.plot(history.history['val_loss'], label='val_loss') \n",
        "  plt.plot(history.history['loss'], label='train_loss') \n",
        "  plt.legend()  # plot legend\n",
        "  plt.xlabel('epochs')  # define x label\n",
        "  plt.title('Loss plot')  # define title\n",
        "  plt.show()  # show all plots\n",
        "\n",
        "  # print out average, max, and min of train accuracy and loss\n",
        "  print('average train accuracy: ', sum(history.history['accuracy'])/len(history.history['accuracy']))\n",
        "  print('max train accuracy: ', max(history.history['accuracy']))\n",
        "  print('average train loss: ', sum(history.history['loss'])/len(history.history['loss']))\n",
        "  print('min train loss: ', min(history.history['loss']))\n",
        "\n",
        "  print('#########################################################')\n",
        "  # print out average, max, and min of validation accuracy and loss\n",
        "  print('average train accuracy: ', sum(history.history['val_accuracy'])/len(history.history['val_accuracy']))\n",
        "  print('max train accuracy: ', max(history.history['val_accuracy']))\n",
        "  print('average train loss: ', sum(history.history['val_loss'])/len(history.history['val_loss']))\n",
        "  print('min train loss: ', min(history.history['val_loss']))\n"
      ]
    },
    {
      "cell_type": "code",
      "execution_count": null,
      "metadata": {
        "colab": {
          "base_uri": "https://localhost:8080/"
        },
        "id": "1y09tRnYGV96",
        "outputId": "4ad8e225-ad36-4ed8-8c1e-aeb5d5aa1e19"
      },
      "outputs": [
        {
          "name": "stdout",
          "output_type": "stream",
          "text": [
            "Model: \"vgg16\"\n",
            "_________________________________________________________________\n",
            " Layer (type)                Output Shape              Param #   \n",
            "=================================================================\n",
            " input_5 (InputLayer)        [(None, 224, 224, 3)]     0         \n",
            "                                                                 \n",
            " block1_conv1 (Conv2D)       (None, 224, 224, 64)      1792      \n",
            "                                                                 \n",
            " block1_conv2 (Conv2D)       (None, 224, 224, 64)      36928     \n",
            "                                                                 \n",
            " block1_pool (MaxPooling2D)  (None, 112, 112, 64)      0         \n",
            "                                                                 \n",
            " block2_conv1 (Conv2D)       (None, 112, 112, 128)     73856     \n",
            "                                                                 \n",
            " block2_conv2 (Conv2D)       (None, 112, 112, 128)     147584    \n",
            "                                                                 \n",
            " block2_pool (MaxPooling2D)  (None, 56, 56, 128)       0         \n",
            "                                                                 \n",
            " block3_conv1 (Conv2D)       (None, 56, 56, 256)       295168    \n",
            "                                                                 \n",
            " block3_conv2 (Conv2D)       (None, 56, 56, 256)       590080    \n",
            "                                                                 \n",
            " block3_conv3 (Conv2D)       (None, 56, 56, 256)       590080    \n",
            "                                                                 \n",
            " block3_pool (MaxPooling2D)  (None, 28, 28, 256)       0         \n",
            "                                                                 \n",
            " block4_conv1 (Conv2D)       (None, 28, 28, 512)       1180160   \n",
            "                                                                 \n",
            " block4_conv2 (Conv2D)       (None, 28, 28, 512)       2359808   \n",
            "                                                                 \n",
            " block4_conv3 (Conv2D)       (None, 28, 28, 512)       2359808   \n",
            "                                                                 \n",
            " block4_pool (MaxPooling2D)  (None, 14, 14, 512)       0         \n",
            "                                                                 \n",
            " block5_conv1 (Conv2D)       (None, 14, 14, 512)       2359808   \n",
            "                                                                 \n",
            " block5_conv2 (Conv2D)       (None, 14, 14, 512)       2359808   \n",
            "                                                                 \n",
            " block5_conv3 (Conv2D)       (None, 14, 14, 512)       2359808   \n",
            "                                                                 \n",
            " block5_pool (MaxPooling2D)  (None, 7, 7, 512)         0         \n",
            "                                                                 \n",
            "=================================================================\n",
            "Total params: 14,714,688\n",
            "Trainable params: 0\n",
            "Non-trainable params: 14,714,688\n",
            "_________________________________________________________________\n",
            "Model: \"model_3\"\n",
            "_________________________________________________________________\n",
            " Layer (type)                Output Shape              Param #   \n",
            "=================================================================\n",
            " input_5 (InputLayer)        [(None, 224, 224, 3)]     0         \n",
            "                                                                 \n",
            " block1_conv1 (Conv2D)       (None, 224, 224, 64)      1792      \n",
            "                                                                 \n",
            " block1_conv2 (Conv2D)       (None, 224, 224, 64)      36928     \n",
            "                                                                 \n",
            " block1_pool (MaxPooling2D)  (None, 112, 112, 64)      0         \n",
            "                                                                 \n",
            " block2_conv1 (Conv2D)       (None, 112, 112, 128)     73856     \n",
            "                                                                 \n",
            " block2_conv2 (Conv2D)       (None, 112, 112, 128)     147584    \n",
            "                                                                 \n",
            " block2_pool (MaxPooling2D)  (None, 56, 56, 128)       0         \n",
            "                                                                 \n",
            " block3_conv1 (Conv2D)       (None, 56, 56, 256)       295168    \n",
            "                                                                 \n",
            " block3_conv2 (Conv2D)       (None, 56, 56, 256)       590080    \n",
            "                                                                 \n",
            " block3_conv3 (Conv2D)       (None, 56, 56, 256)       590080    \n",
            "                                                                 \n",
            " block3_pool (MaxPooling2D)  (None, 28, 28, 256)       0         \n",
            "                                                                 \n",
            " block4_conv1 (Conv2D)       (None, 28, 28, 512)       1180160   \n",
            "                                                                 \n",
            " block4_conv2 (Conv2D)       (None, 28, 28, 512)       2359808   \n",
            "                                                                 \n",
            " block4_conv3 (Conv2D)       (None, 28, 28, 512)       2359808   \n",
            "                                                                 \n",
            " block4_pool (MaxPooling2D)  (None, 14, 14, 512)       0         \n",
            "                                                                 \n",
            " block5_conv1 (Conv2D)       (None, 14, 14, 512)       2359808   \n",
            "                                                                 \n",
            " block5_conv2 (Conv2D)       (None, 14, 14, 512)       2359808   \n",
            "                                                                 \n",
            " block5_conv3 (Conv2D)       (None, 14, 14, 512)       2359808   \n",
            "                                                                 \n",
            " block5_pool (MaxPooling2D)  (None, 7, 7, 512)         0         \n",
            "                                                                 \n",
            " flatten_3 (Flatten)         (None, 25088)             0         \n",
            "                                                                 \n",
            " dense_3 (Dense)             (None, 2)                 50178     \n",
            "                                                                 \n",
            "=================================================================\n",
            "Total params: 14,764,866\n",
            "Trainable params: 50,178\n",
            "Non-trainable params: 14,714,688\n",
            "_________________________________________________________________\n"
          ]
        }
      ],
      "source": [
        "# VGG16 pre-trained model\n",
        "model1 = pretrained_model(VGG16)"
      ]
    },
    {
      "cell_type": "code",
      "execution_count": null,
      "metadata": {
        "colab": {
          "background_save": true,
          "base_uri": "https://localhost:8080/"
        },
        "id": "iQCD35eEGatj",
        "outputId": "33431654-3e2f-4930-8e61-67d40ce92693"
      },
      "outputs": [
        {
          "name": "stdout",
          "output_type": "stream",
          "text": [
            "Epoch 1/10\n",
            "30/30 [==============================] - 460s 16s/step - loss: 0.6571 - accuracy: 0.6367 - val_loss: 0.6215 - val_accuracy: 0.7892 - lr: 0.0010\n",
            "Epoch 2/10\n",
            "30/30 [==============================] - 446s 15s/step - loss: 0.4421 - accuracy: 0.8167 - val_loss: 0.4892 - val_accuracy: 0.7877 - lr: 0.0010\n",
            "Epoch 3/10\n",
            "30/30 [==============================] - 459s 16s/step - loss: 0.3787 - accuracy: 0.8400 - val_loss: 0.4187 - val_accuracy: 0.8200 - lr: 0.0010\n",
            "Epoch 4/10\n",
            "30/30 [==============================] - 443s 15s/step - loss: 0.3277 - accuracy: 0.8767 - val_loss: 0.3993 - val_accuracy: 0.8369 - lr: 0.0010\n",
            "Epoch 5/10\n",
            "30/30 [==============================] - 442s 15s/step - loss: 0.3246 - accuracy: 0.8933 - val_loss: 0.3896 - val_accuracy: 0.8385 - lr: 0.0010\n",
            "Epoch 6/10\n",
            "30/30 [==============================] - 446s 15s/step - loss: 0.2506 - accuracy: 0.9233 - val_loss: 0.3704 - val_accuracy: 0.8338 - lr: 0.0010\n",
            "Epoch 7/10\n",
            "30/30 [==============================] - 444s 15s/step - loss: 0.2489 - accuracy: 0.9200 - val_loss: 0.4021 - val_accuracy: 0.8600 - lr: 0.0010\n",
            "Epoch 8/10\n",
            "30/30 [==============================] - 448s 15s/step - loss: 0.2165 - accuracy: 0.9400 - val_loss: 0.3890 - val_accuracy: 0.8615 - lr: 1.0000e-04\n",
            "Epoch 9/10\n",
            "30/30 [==============================] - 445s 15s/step - loss: 0.2151 - accuracy: 0.9463 - val_loss: 0.3683 - val_accuracy: 0.8677 - lr: 1.0000e-04\n",
            "Epoch 10/10\n",
            "30/30 [==============================] - 446s 15s/step - loss: 0.1779 - accuracy: 0.9667 - val_loss: 0.3602 - val_accuracy: 0.8677 - lr: 1.0000e-04\n"
          ]
        }
      ],
      "source": [
        "# train the model\n",
        "history1 = train(model1)"
      ]
    },
    {
      "cell_type": "code",
      "execution_count": null,
      "metadata": {
        "colab": {
          "background_save": true,
          "base_uri": "https://localhost:8080/",
          "height": 437
        },
        "id": "b0ngo2FWGiqW",
        "outputId": "7a55fb3f-7859-4675-d9fb-1769fad0b899"
      },
      "outputs": [
        {
          "data": {
            "image/png": "[encoded data removed]",
            "text/plain": [
              "<Figure size 864x576 with 2 Axes>"
            ]
          },
          "metadata": {},
          "output_type": "display_data"
        },
        {
          "name": "stdout",
          "output_type": "stream",
          "text": [
            "average train accuracy:  0.8759642004966736\n",
            "max train accuracy:  0.9666666388511658\n",
            "average train loss:  0.323913112282753\n",
            "min train loss:  0.17786434292793274\n",
            "#########################################################\n",
            "average train accuracy:  0.8363076865673065\n",
            "max train accuracy:  0.8676922917366028\n",
            "average train loss:  0.42081938683986664\n",
            "min train loss:  0.36015790700912476\n"
          ]
        }
      ],
      "source": [
        "# training and testing results\n",
        "plot_train_evaluation(history1, model1)"
      ]
    },
    {
      "cell_type": "code",
      "execution_count": null,
      "metadata": {
        "id": "FzKimJGWKvbZ"
      },
      "outputs": [],
      "source": [
        "model1.save(\"baseline.h5\")"
      ]
    },
    {
      "cell_type": "code",
      "execution_count": 4,
      "metadata": {
        "id": "cYzlDJdQeHPR"
      },
      "outputs": [],
      "source": [
        "from tensorflow.keras.models import load_model\n",
        "from tensorflow.keras.applications import VGG16  \n",
        "import tensorflow as tf \n",
        "from tensorflow.keras import Model  \n",
        "from sklearn.metrics import confusion_matrix, classification_report  "
      ]
    },
    {
      "cell_type": "code",
      "execution_count": null,
      "metadata": {
        "id": "0n7TmmcJek_k"
      },
      "outputs": [],
      "source": [
        "model2 = load_model('/content/gdrive/MyDrive/data-device/model/baseline.h5')"
      ]
    },
    {
      "cell_type": "code",
      "execution_count": null,
      "metadata": {
        "colab": {
          "base_uri": "https://localhost:8080/"
        },
        "id": "TRHUzBKpe8xW",
        "outputId": "7736cb73-08c0-4b74-ea3c-3e7ddbc8dcb9"
      },
      "outputs": [
        {
          "output_type": "stream",
          "name": "stdout",
          "text": [
            "Model: \"model_3\"\n",
            "_________________________________________________________________\n",
            " Layer (type)                Output Shape              Param #   \n",
            "=================================================================\n",
            " input_5 (InputLayer)        [(None, 224, 224, 3)]     0         \n",
            "                                                                 \n",
            " block1_conv1 (Conv2D)       (None, 224, 224, 64)      1792      \n",
            "                                                                 \n",
            " block1_conv2 (Conv2D)       (None, 224, 224, 64)      36928     \n",
            "                                                                 \n",
            " block1_pool (MaxPooling2D)  (None, 112, 112, 64)      0         \n",
            "                                                                 \n",
            " block2_conv1 (Conv2D)       (None, 112, 112, 128)     73856     \n",
            "                                                                 \n",
            " block2_conv2 (Conv2D)       (None, 112, 112, 128)     147584    \n",
            "                                                                 \n",
            " block2_pool (MaxPooling2D)  (None, 56, 56, 128)       0         \n",
            "                                                                 \n",
            " block3_conv1 (Conv2D)       (None, 56, 56, 256)       295168    \n",
            "                                                                 \n",
            " block3_conv2 (Conv2D)       (None, 56, 56, 256)       590080    \n",
            "                                                                 \n",
            " block3_conv3 (Conv2D)       (None, 56, 56, 256)       590080    \n",
            "                                                                 \n",
            " block3_pool (MaxPooling2D)  (None, 28, 28, 256)       0         \n",
            "                                                                 \n",
            " block4_conv1 (Conv2D)       (None, 28, 28, 512)       1180160   \n",
            "                                                                 \n",
            " block4_conv2 (Conv2D)       (None, 28, 28, 512)       2359808   \n",
            "                                                                 \n",
            " block4_conv3 (Conv2D)       (None, 28, 28, 512)       2359808   \n",
            "                                                                 \n",
            " block4_pool (MaxPooling2D)  (None, 14, 14, 512)       0         \n",
            "                                                                 \n",
            " block5_conv1 (Conv2D)       (None, 14, 14, 512)       2359808   \n",
            "                                                                 \n",
            " block5_conv2 (Conv2D)       (None, 14, 14, 512)       2359808   \n",
            "                                                                 \n",
            " block5_conv3 (Conv2D)       (None, 14, 14, 512)       2359808   \n",
            "                                                                 \n",
            " block5_pool (MaxPooling2D)  (None, 7, 7, 512)         0         \n",
            "                                                                 \n",
            " flatten_3 (Flatten)         (None, 25088)             0         \n",
            "                                                                 \n",
            " dense_3 (Dense)             (None, 2)                 50178     \n",
            "                                                                 \n",
            "=================================================================\n",
            "Total params: 14,764,866\n",
            "Trainable params: 50,178\n",
            "Non-trainable params: 14,714,688\n",
            "_________________________________________________________________\n"
          ]
        }
      ],
      "source": [
        "model2.summary()"
      ]
    },
    {
      "cell_type": "markdown",
      "source": [
        "**Kettle**"
      ],
      "metadata": {
        "id": "GdWa8dxJoBQl"
      }
    },
    {
      "cell_type": "code",
      "execution_count": null,
      "metadata": {
        "id": "dIFkVQeOe9nY",
        "outputId": "d18225c1-5de2-40f6-ce54-3aa026ac8ff5",
        "colab": {
          "base_uri": "https://localhost:8080/"
        }
      },
      "outputs": [
        {
          "output_type": "stream",
          "name": "stderr",
          "text": [
            "/usr/local/lib/python3.7/dist-packages/keras_preprocessing/image/image_data_generator.py:356: UserWarning: This ImageDataGenerator specifies `samplewise_std_normalization`, which overrides setting of `samplewise_center`.\n",
            "  warnings.warn('This ImageDataGenerator specifies '\n"
          ]
        },
        {
          "output_type": "stream",
          "name": "stdout",
          "text": [
            "Found 3258 images belonging to 2 classes.\n"
          ]
        }
      ],
      "source": [
        "dir2 = '/content/gdrive/MyDrive/data-device/train-kettle'\n",
        "train_datagen2 = ImageDataGenerator(\n",
        "      samplewise_std_normalization= True,\n",
        "      )\n",
        "\n",
        "train_generator2 = train_datagen2.flow_from_directory(\n",
        "     dir2,  # train folder\n",
        "     shuffle=True,  # shuffle the train dataset\n",
        "     target_size = (224,224)\n",
        "\n",
        ")"
      ]
    },
    {
      "cell_type": "code",
      "source": [
        "y_predict1 = model2.evaluate(train_generator2, return_dict = True, use_multiprocessing= True)"
      ],
      "metadata": {
        "id": "g1ikKcO0HM3G",
        "outputId": "8dc61d7d-9e7b-469d-db07-74795bab07c7",
        "colab": {
          "base_uri": "https://localhost:8080/"
        }
      },
      "execution_count": null,
      "outputs": [
        {
          "output_type": "stream",
          "name": "stdout",
          "text": [
            "102/102 [==============================] - 386s 4s/step - loss: 0.6507 - accuracy: 0.7044\n"
          ]
        }
      ]
    },
    {
      "cell_type": "code",
      "source": [
        "y_predict1 "
      ],
      "metadata": {
        "id": "fMGZotbdPDia",
        "outputId": "ef3487c3-bcb8-467b-cc44-a09afc335ecd",
        "colab": {
          "base_uri": "https://localhost:8080/"
        }
      },
      "execution_count": null,
      "outputs": [
        {
          "output_type": "execute_result",
          "data": {
            "text/plain": [
              "{'loss': 0.650668203830719, 'accuracy': 0.7044199109077454}"
            ]
          },
          "metadata": {},
          "execution_count": 11
        }
      ]
    },
    {
      "cell_type": "code",
      "source": [
        "model3 = load_model('/content/gdrive/MyDrive/data-device/model/baseline.h5')"
      ],
      "metadata": {
        "id": "hleebbRnIrAl"
      },
      "execution_count": null,
      "outputs": []
    },
    {
      "cell_type": "markdown",
      "source": [
        "**Washer Dryer**"
      ],
      "metadata": {
        "id": "nxqQ9k2noD6D"
      }
    },
    {
      "cell_type": "code",
      "source": [
        "dir3 = '/content/gdrive/MyDrive/data-device/train-washer'\n",
        "train_datagen3 = ImageDataGenerator(\n",
        "      samplewise_std_normalization= True,\n",
        "      )\n",
        "\n",
        "train_generator3 = train_datagen3.flow_from_directory(\n",
        "     dir3,  # train folder\n",
        "     shuffle=True,  # shuffle the train dataset\n",
        "     target_size = (224,224)\n",
        "\n",
        ")"
      ],
      "metadata": {
        "id": "hkafLOnBOZAa",
        "outputId": "dccb660d-c436-44dd-906a-b01361faf268",
        "colab": {
          "base_uri": "https://localhost:8080/"
        }
      },
      "execution_count": null,
      "outputs": [
        {
          "output_type": "stream",
          "name": "stderr",
          "text": [
            "/usr/local/lib/python3.7/dist-packages/keras_preprocessing/image/image_data_generator.py:356: UserWarning: This ImageDataGenerator specifies `samplewise_std_normalization`, which overrides setting of `samplewise_center`.\n",
            "  warnings.warn('This ImageDataGenerator specifies '\n"
          ]
        },
        {
          "output_type": "stream",
          "name": "stdout",
          "text": [
            "Found 3258 images belonging to 2 classes.\n"
          ]
        }
      ]
    },
    {
      "cell_type": "code",
      "source": [
        "y_predict2 = model3.evaluate(train_generator3, return_dict = True, use_multiprocessing= True)"
      ],
      "metadata": {
        "id": "Fqx9HVFCOqI8",
        "outputId": "74f89af2-4fd1-46d6-a8d8-314631c9c0c9",
        "colab": {
          "base_uri": "https://localhost:8080/"
        }
      },
      "execution_count": null,
      "outputs": [
        {
          "output_type": "stream",
          "name": "stdout",
          "text": [
            "102/102 [==============================] - 232s 2s/step - loss: 0.1488 - accuracy: 0.9583\n"
          ]
        }
      ]
    },
    {
      "cell_type": "code",
      "source": [
        "y_predict2"
      ],
      "metadata": {
        "id": "n4qBUsTQPdH-",
        "outputId": "6042ce19-5147-4215-fe60-a007200038af",
        "colab": {
          "base_uri": "https://localhost:8080/"
        }
      },
      "execution_count": null,
      "outputs": [
        {
          "output_type": "execute_result",
          "data": {
            "text/plain": [
              "{'loss': 0.14884604513645172, 'accuracy': 0.9582566022872925}"
            ]
          },
          "metadata": {},
          "execution_count": 15
        }
      ]
    },
    {
      "cell_type": "markdown",
      "source": [
        "## |Across House\n",
        "\n",
        "\n",
        "\n",
        "\n"
      ],
      "metadata": {
        "id": "dasxmalUDIQW"
      }
    },
    {
      "cell_type": "markdown",
      "source": [
        "**Fridge**"
      ],
      "metadata": {
        "id": "IOiRoUUSDh4O"
      }
    },
    {
      "cell_type": "code",
      "source": [
        "model4 = load_model('/content/gdrive/MyDrive/data-device/model/baseline.h5')"
      ],
      "metadata": {
        "id": "qtOZbsIYDqRX"
      },
      "execution_count": 5,
      "outputs": []
    },
    {
      "cell_type": "code",
      "source": [
        "dir2 = '/content/gdrive/MyDrive/data-device/train-kettle'\n",
        "train_datagen2 = ImageDataGenerator(\n",
        "      samplewise_std_normalization= True,\n",
        "      )\n",
        "\n",
        "train_generator2 = train_datagen2.flow_from_directory(\n",
        "     dir2,  # train folder\n",
        "     shuffle=True,  # shuffle the train dataset\n",
        "     target_size = (224,224)\n",
        "\n",
        ")"
      ],
      "metadata": {
        "id": "eU9YooHrEena"
      },
      "execution_count": null,
      "outputs": []
    }
  ],
  "metadata": {
    "colab": {
      "collapsed_sections": [],
      "name": "Classification_appilance_status.ipynb",
      "provenance": [],
      "authorship_tag": "ABX9TyM92QWwVtGKXFq3OUMWZ4KB",
      "include_colab_link": true
    },
    "gpuClass": "standard",
    "kernelspec": {
      "display_name": "Python 3",
      "name": "python3"
    },
    "language_info": {
      "name": "python"
    },
    "accelerator": "GPU"
  },
  "nbformat": 4,
  "nbformat_minor": 0
}