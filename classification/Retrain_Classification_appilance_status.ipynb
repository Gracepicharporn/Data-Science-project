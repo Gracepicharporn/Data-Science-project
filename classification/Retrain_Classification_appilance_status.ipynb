{
  "cells": [
    {
      "cell_type": "markdown",
      "metadata": {
        "id": "view-in-github",
        "colab_type": "text"
      },
      "source": [
        "<a href=\"https://colab.research.google.com/github/Gracepicharporn/Data-Science-project/blob/main/classification/Retrain_Classification_appilance_status.ipynb\" target=\"_parent\"><img src=\"https://colab.research.google.com/assets/colab-badge.svg\" alt=\"Open In Colab\"/></a>"
      ]
    },
    {
      "cell_type": "markdown",
      "source": [
        "# Different method (GADF)"
      ],
      "metadata": {
        "id": "wRmRHSmIZOV4"
      }
    },
    {
      "cell_type": "markdown",
      "source": [
        "## UK-DALE"
      ],
      "metadata": {
        "id": "CDQsAzD3ZYIe"
      }
    },
    {
      "cell_type": "markdown",
      "source": [
        "### Building 1"
      ],
      "metadata": {
        "id": "dUyh80qDZbXo"
      }
    },
    {
      "cell_type": "markdown",
      "metadata": {
        "id": "CyIDjHbY3JUE"
      },
      "source": [
        "Dowload Dataset"
      ]
    },
    {
      "cell_type": "code",
      "execution_count": null,
      "metadata": {
        "colab": {
          "base_uri": "https://localhost:8080/"
        },
        "id": "6ySv17MU1ik2",
        "outputId": "c0420125-4bbd-48d4-c289-8559b3d66ee6"
      },
      "outputs": [
        {
          "output_type": "stream",
          "name": "stdout",
          "text": [
            "Mounted at /content/gdrive\n"
          ]
        }
      ],
      "source": [
        "from google.colab import drive\n",
        "drive.mount('/content/gdrive')"
      ]
    },
    {
      "cell_type": "code",
      "execution_count": null,
      "metadata": {
        "id": "MpNhkV-76eYj"
      },
      "outputs": [],
      "source": [
        "import matplotlib.pyplot as plt\n",
        "from PIL import Image\n",
        "import numpy as np"
      ]
    },
    {
      "cell_type": "code",
      "execution_count": null,
      "metadata": {
        "id": "usoUeBNc3aG9"
      },
      "outputs": [],
      "source": [
        "path = '/content/gdrive/MyDrive/data-device/train/ON-process/2017-4-26.png'\n",
        "image = Image.open(path)\n",
        "image_array = np.array(image)"
      ]
    },
    {
      "cell_type": "code",
      "execution_count": null,
      "metadata": {
        "colab": {
          "base_uri": "https://localhost:8080/"
        },
        "id": "YdkGarza-3N-",
        "outputId": "142e8ed4-7ec2-490f-898d-8a90bcdece0a"
      },
      "outputs": [
        {
          "data": {
            "text/plain": [
              "(224, 224)"
            ]
          },
          "execution_count": 5,
          "metadata": {},
          "output_type": "execute_result"
        }
      ],
      "source": [
        "image_array.shape"
      ]
    },
    {
      "cell_type": "code",
      "execution_count": null,
      "metadata": {
        "id": "CNcc8lAgB5Qm"
      },
      "outputs": [],
      "source": [
        "from tensorflow.keras.preprocessing.image import ImageDataGenerator"
      ]
    },
    {
      "cell_type": "markdown",
      "source": [
        "**Image with fridge**"
      ],
      "metadata": {
        "id": "4_wUPEWdn2va"
      }
    },
    {
      "cell_type": "code",
      "execution_count": null,
      "metadata": {
        "colab": {
          "base_uri": "https://localhost:8080/"
        },
        "id": "GsifLo83BDax",
        "outputId": "2c45c5a2-eca1-426a-b559-4df9a6d6884d"
      },
      "outputs": [
        {
          "output_type": "stream",
          "name": "stderr",
          "text": [
            "/usr/local/lib/python3.7/dist-packages/keras_preprocessing/image/image_data_generator.py:356: UserWarning: This ImageDataGenerator specifies `samplewise_std_normalization`, which overrides setting of `samplewise_center`.\n",
            "  warnings.warn('This ImageDataGenerator specifies '\n"
          ]
        },
        {
          "output_type": "stream",
          "name": "stdout",
          "text": [
            "Found 2608 images belonging to 2 classes.\n",
            "Found 650 images belonging to 2 classes.\n"
          ]
        }
      ],
      "source": [
        "dir = '/content/gdrive/MyDrive/data-device/UK-DALE-data/diff/building1-diff/train-fridge'\n",
        "train_datagen = ImageDataGenerator(\n",
        "      samplewise_std_normalization= True,\n",
        "      validation_split = 0.2)\n",
        "train_generator =train_datagen.flow_from_directory(\n",
        "     dir,  # train folder\n",
        "     batch_size = 64,  # define batch size\n",
        "     shuffle=True,  # shuffle the train dataset\n",
        "     subset = 'training',\n",
        "     target_size = (224,224)\n",
        "\n",
        ")\n",
        "\n",
        "test_generator =train_datagen.flow_from_directory(\n",
        "     dir,  # test folder\n",
        "     batch_size= 1,  # define batch size (1 for test dataset)\n",
        "     shuffle=True,  \n",
        "     subset = 'validation',\n",
        "     target_size = (224, 224)\n",
        "\n",
        ")\n",
        "                    "
      ]
    },
    {
      "cell_type": "code",
      "execution_count": null,
      "metadata": {
        "colab": {
          "base_uri": "https://localhost:8080/"
        },
        "id": "oqsK1XDDEJKp",
        "outputId": "3d0d8858-36db-4ae5-bfa4-20edc27c5837"
      },
      "outputs": [
        {
          "output_type": "stream",
          "name": "stdout",
          "text": [
            "Train Shape \n",
            " (64, 224, 224, 3)\n",
            "Test Shape \n",
            " (1, 224, 224, 3)\n"
          ]
        }
      ],
      "source": [
        "# shape of dataset\n",
        "trainShape=train_generator.__getitem__(0)[0].shape  # train shape\n",
        "testShape=test_generator.__getitem__(0)[0].shape  # test shape\n",
        "print(\"Train Shape \\n\",trainShape)\n",
        "print(\"Test Shape \\n\",testShape)"
      ]
    },
    {
      "cell_type": "code",
      "execution_count": null,
      "metadata": {
        "id": "DXo-IFPRFtfa"
      },
      "outputs": [],
      "source": [
        "from tensorflow.keras.applications import VGG16  # VGG16 pre-trained model\n",
        "import tensorflow as tf  # for deep learning\n",
        "from tensorflow.keras import Model  # for creating a model\n",
        "from sklearn.metrics import confusion_matrix, classification_report  # for calculating precision, recall, f1-score, and accuracy\n",
        "import pandas as pd  # for creating a table\n",
        "import numpy as np  # for calculating numeric values\n",
        "from tensorflow.keras.callbacks import ReduceLROnPlateau , EarlyStopping  # for learning rate reduction and early stopping\n",
        "lr_reduce = ReduceLROnPlateau(monitor='accuracy', patience=1)  # learning rate reduction\n",
        "early_stop = tf.keras.callbacks.EarlyStopping(monitor='accuracy', patience=3)  # early stopping\n",
        "\n",
        "def pretrained_model(model):\n",
        "  '''\n",
        "    Create a model from a pre-trained model by adding 1 3-nodes dense layer on top\n",
        "    of the model\n",
        "    Input:\n",
        "      model: a pre-trained model\n",
        "    Output:\n",
        "      a model \n",
        "  '''\n",
        "  # define a pre-trained model without the top layers, and with the default weights\n",
        "  pre_trained_model = model(input_shape = (224, 224, 3), include_top = False, weights = 'imagenet')\n",
        "  pre_trained_model.trainable = False  # freeze the weights\n",
        "  pre_trained_model.summary()\n",
        "\n",
        "  x = tf.keras.layers.Flatten()(pre_trained_model.output)  # flatten layer\n",
        "  x = tf.keras.layers.Dense(2 , activation='sigmoid')(x)  # 1 3-nodes dense layer\n",
        "  model = Model(pre_trained_model.input, x) \n",
        "  model.summary()\n",
        "\n",
        "  return model\n",
        "\n",
        "def train(model):\n",
        "  '''\n",
        "    train the model\n",
        "    Input:\n",
        "      model: a model\n",
        "    Output:\n",
        "      history of the training process\n",
        "  '''\n",
        "  # compile the model with specific configuration\n",
        "  model.compile(optimizer='adam', loss=\"binary_crossentropy\", metrics=['accuracy'])\n",
        "  # train the model for 10 epochs and 30 steps for each epoch\n",
        "  history = model.fit(train_generator, validation_data = test_generator, epochs = 50, \n",
        "                      callbacks=[lr_reduce, early_stop])\n",
        "  return history\n",
        "\n",
        "def plot_train_evaluation(history, model):\n",
        "  '''\n",
        "    Plot train loss and acuracy. Then, evaluate the model (precision, recall, f1-score, and accuracy) with test dataset\n",
        "    Input:\n",
        "      history: a history of the training process\n",
        "      model: a model\n",
        "    Output:\n",
        "      test report (DataFrame)\n",
        "  '''\n",
        "  # train loss and accuracy plot\n",
        "  plt.figure(figsize=(12, 8))  # define figure size\n",
        "  plt.subplot(2, 2, 1)  # create a subplot\n",
        "  plt.plot(history.history['val_accuracy'], label='val_accuracy') \n",
        "  plt.plot(history.history['accuracy'], label='train_accuracy') \n",
        "  plt.legend()  # plot legend\n",
        "  plt.xlabel('epochs')  # define x label\n",
        "  plt.title('Accuracy plot')  # define title\n",
        "\n",
        "  plt.subplot(2, 2, 2)  # create a subplot\n",
        "  plt.plot(history.history['val_loss'], label='val_loss') \n",
        "  plt.plot(history.history['loss'], label='train_loss') \n",
        "  plt.legend()  # plot legend\n",
        "  plt.xlabel('epochs')  # define x label\n",
        "  plt.title('Loss plot')  # define title\n",
        "  plt.show()  # show all plots\n",
        "\n",
        "  # print out average, max, and min of train accuracy and loss\n",
        "  print('average train accuracy: ', sum(history.history['accuracy'])/len(history.history['accuracy']))\n",
        "  print('max train accuracy: ', max(history.history['accuracy']))\n",
        "  print('average train loss: ', sum(history.history['loss'])/len(history.history['loss']))\n",
        "  print('min train loss: ', min(history.history['loss']))\n",
        "\n",
        "  print('#########################################################')\n",
        "  # print out average, max, and min of validation accuracy and loss\n",
        "  print('average train accuracy: ', sum(history.history['val_accuracy'])/len(history.history['val_accuracy']))\n",
        "  print('max train accuracy: ', max(history.history['val_accuracy']))\n",
        "  print('average train loss: ', sum(history.history['val_loss'])/len(history.history['val_loss']))\n",
        "  print('min train loss: ', min(history.history['val_loss']))\n"
      ]
    },
    {
      "cell_type": "code",
      "execution_count": null,
      "metadata": {
        "colab": {
          "base_uri": "https://localhost:8080/"
        },
        "id": "1y09tRnYGV96",
        "outputId": "40231396-a4a0-4572-9045-6b9fe6c8f588"
      },
      "outputs": [
        {
          "output_type": "stream",
          "name": "stdout",
          "text": [
            "Model: \"vgg16\"\n",
            "_________________________________________________________________\n",
            " Layer (type)                Output Shape              Param #   \n",
            "=================================================================\n",
            " input_3 (InputLayer)        [(None, 224, 224, 3)]     0         \n",
            "                                                                 \n",
            " block1_conv1 (Conv2D)       (None, 224, 224, 64)      1792      \n",
            "                                                                 \n",
            " block1_conv2 (Conv2D)       (None, 224, 224, 64)      36928     \n",
            "                                                                 \n",
            " block1_pool (MaxPooling2D)  (None, 112, 112, 64)      0         \n",
            "                                                                 \n",
            " block2_conv1 (Conv2D)       (None, 112, 112, 128)     73856     \n",
            "                                                                 \n",
            " block2_conv2 (Conv2D)       (None, 112, 112, 128)     147584    \n",
            "                                                                 \n",
            " block2_pool (MaxPooling2D)  (None, 56, 56, 128)       0         \n",
            "                                                                 \n",
            " block3_conv1 (Conv2D)       (None, 56, 56, 256)       295168    \n",
            "                                                                 \n",
            " block3_conv2 (Conv2D)       (None, 56, 56, 256)       590080    \n",
            "                                                                 \n",
            " block3_conv3 (Conv2D)       (None, 56, 56, 256)       590080    \n",
            "                                                                 \n",
            " block3_pool (MaxPooling2D)  (None, 28, 28, 256)       0         \n",
            "                                                                 \n",
            " block4_conv1 (Conv2D)       (None, 28, 28, 512)       1180160   \n",
            "                                                                 \n",
            " block4_conv2 (Conv2D)       (None, 28, 28, 512)       2359808   \n",
            "                                                                 \n",
            " block4_conv3 (Conv2D)       (None, 28, 28, 512)       2359808   \n",
            "                                                                 \n",
            " block4_pool (MaxPooling2D)  (None, 14, 14, 512)       0         \n",
            "                                                                 \n",
            " block5_conv1 (Conv2D)       (None, 14, 14, 512)       2359808   \n",
            "                                                                 \n",
            " block5_conv2 (Conv2D)       (None, 14, 14, 512)       2359808   \n",
            "                                                                 \n",
            " block5_conv3 (Conv2D)       (None, 14, 14, 512)       2359808   \n",
            "                                                                 \n",
            " block5_pool (MaxPooling2D)  (None, 7, 7, 512)         0         \n",
            "                                                                 \n",
            "=================================================================\n",
            "Total params: 14,714,688\n",
            "Trainable params: 0\n",
            "Non-trainable params: 14,714,688\n",
            "_________________________________________________________________\n",
            "Model: \"model_2\"\n",
            "_________________________________________________________________\n",
            " Layer (type)                Output Shape              Param #   \n",
            "=================================================================\n",
            " input_3 (InputLayer)        [(None, 224, 224, 3)]     0         \n",
            "                                                                 \n",
            " block1_conv1 (Conv2D)       (None, 224, 224, 64)      1792      \n",
            "                                                                 \n",
            " block1_conv2 (Conv2D)       (None, 224, 224, 64)      36928     \n",
            "                                                                 \n",
            " block1_pool (MaxPooling2D)  (None, 112, 112, 64)      0         \n",
            "                                                                 \n",
            " block2_conv1 (Conv2D)       (None, 112, 112, 128)     73856     \n",
            "                                                                 \n",
            " block2_conv2 (Conv2D)       (None, 112, 112, 128)     147584    \n",
            "                                                                 \n",
            " block2_pool (MaxPooling2D)  (None, 56, 56, 128)       0         \n",
            "                                                                 \n",
            " block3_conv1 (Conv2D)       (None, 56, 56, 256)       295168    \n",
            "                                                                 \n",
            " block3_conv2 (Conv2D)       (None, 56, 56, 256)       590080    \n",
            "                                                                 \n",
            " block3_conv3 (Conv2D)       (None, 56, 56, 256)       590080    \n",
            "                                                                 \n",
            " block3_pool (MaxPooling2D)  (None, 28, 28, 256)       0         \n",
            "                                                                 \n",
            " block4_conv1 (Conv2D)       (None, 28, 28, 512)       1180160   \n",
            "                                                                 \n",
            " block4_conv2 (Conv2D)       (None, 28, 28, 512)       2359808   \n",
            "                                                                 \n",
            " block4_conv3 (Conv2D)       (None, 28, 28, 512)       2359808   \n",
            "                                                                 \n",
            " block4_pool (MaxPooling2D)  (None, 14, 14, 512)       0         \n",
            "                                                                 \n",
            " block5_conv1 (Conv2D)       (None, 14, 14, 512)       2359808   \n",
            "                                                                 \n",
            " block5_conv2 (Conv2D)       (None, 14, 14, 512)       2359808   \n",
            "                                                                 \n",
            " block5_conv3 (Conv2D)       (None, 14, 14, 512)       2359808   \n",
            "                                                                 \n",
            " block5_pool (MaxPooling2D)  (None, 7, 7, 512)         0         \n",
            "                                                                 \n",
            " flatten_2 (Flatten)         (None, 25088)             0         \n",
            "                                                                 \n",
            " dense_2 (Dense)             (None, 2)                 50178     \n",
            "                                                                 \n",
            "=================================================================\n",
            "Total params: 14,764,866\n",
            "Trainable params: 50,178\n",
            "Non-trainable params: 14,714,688\n",
            "_________________________________________________________________\n"
          ]
        }
      ],
      "source": [
        "# VGG16 pre-trained model\n",
        "model1 = pretrained_model(VGG16)"
      ]
    },
    {
      "cell_type": "code",
      "execution_count": null,
      "metadata": {
        "colab": {
          "base_uri": "https://localhost:8080/"
        },
        "id": "iQCD35eEGatj",
        "outputId": "e37509b2-437a-4eb2-db0e-92fa633ab04f"
      },
      "outputs": [
        {
          "output_type": "stream",
          "name": "stdout",
          "text": [
            "Epoch 1/50\n",
            "41/41 [==============================] - 19s 447ms/step - loss: 0.5880 - accuracy: 0.7558 - val_loss: 0.4536 - val_accuracy: 0.8154 - lr: 0.0010\n",
            "Epoch 2/50\n",
            "41/41 [==============================] - 19s 450ms/step - loss: 0.3363 - accuracy: 0.8892 - val_loss: 0.3971 - val_accuracy: 0.8400 - lr: 0.0010\n",
            "Epoch 3/50\n",
            "41/41 [==============================] - 19s 456ms/step - loss: 0.2625 - accuracy: 0.9183 - val_loss: 0.3581 - val_accuracy: 0.8446 - lr: 0.0010\n",
            "Epoch 4/50\n",
            "41/41 [==============================] - 19s 460ms/step - loss: 0.2125 - accuracy: 0.9467 - val_loss: 0.3255 - val_accuracy: 0.8723 - lr: 0.0010\n",
            "Epoch 5/50\n",
            "41/41 [==============================] - 19s 461ms/step - loss: 0.1787 - accuracy: 0.9559 - val_loss: 0.3146 - val_accuracy: 0.8785 - lr: 0.0010\n",
            "Epoch 6/50\n",
            "41/41 [==============================] - 19s 469ms/step - loss: 0.1574 - accuracy: 0.9601 - val_loss: 0.3003 - val_accuracy: 0.8692 - lr: 0.0010\n",
            "Epoch 7/50\n",
            "41/41 [==============================] - 20s 481ms/step - loss: 0.1419 - accuracy: 0.9640 - val_loss: 0.3109 - val_accuracy: 0.8692 - lr: 0.0010\n",
            "Epoch 8/50\n",
            "41/41 [==============================] - 19s 466ms/step - loss: 0.1288 - accuracy: 0.9716 - val_loss: 0.2893 - val_accuracy: 0.8862 - lr: 0.0010\n",
            "Epoch 9/50\n",
            "41/41 [==============================] - 19s 470ms/step - loss: 0.1161 - accuracy: 0.9758 - val_loss: 0.2900 - val_accuracy: 0.8785 - lr: 0.0010\n",
            "Epoch 10/50\n",
            "41/41 [==============================] - 19s 472ms/step - loss: 0.1044 - accuracy: 0.9781 - val_loss: 0.3364 - val_accuracy: 0.8585 - lr: 0.0010\n",
            "Epoch 11/50\n",
            "41/41 [==============================] - 19s 477ms/step - loss: 0.1047 - accuracy: 0.9758 - val_loss: 0.3120 - val_accuracy: 0.8723 - lr: 0.0010\n",
            "Epoch 12/50\n",
            "41/41 [==============================] - 20s 477ms/step - loss: 0.0870 - accuracy: 0.9858 - val_loss: 0.3085 - val_accuracy: 0.8723 - lr: 1.0000e-04\n",
            "Epoch 13/50\n",
            "41/41 [==============================] - 20s 480ms/step - loss: 0.0857 - accuracy: 0.9866 - val_loss: 0.2966 - val_accuracy: 0.8800 - lr: 1.0000e-04\n",
            "Epoch 14/50\n",
            "41/41 [==============================] - 20s 487ms/step - loss: 0.0854 - accuracy: 0.9873 - val_loss: 0.2998 - val_accuracy: 0.8754 - lr: 1.0000e-04\n",
            "Epoch 15/50\n",
            "41/41 [==============================] - 20s 480ms/step - loss: 0.0845 - accuracy: 0.9866 - val_loss: 0.3015 - val_accuracy: 0.8738 - lr: 1.0000e-04\n",
            "Epoch 16/50\n",
            "41/41 [==============================] - 20s 480ms/step - loss: 0.0836 - accuracy: 0.9873 - val_loss: 0.2993 - val_accuracy: 0.8754 - lr: 1.0000e-05\n",
            "Epoch 17/50\n",
            "41/41 [==============================] - 20s 479ms/step - loss: 0.0834 - accuracy: 0.9862 - val_loss: 0.2989 - val_accuracy: 0.8754 - lr: 1.0000e-06\n"
          ]
        }
      ],
      "source": [
        "# train the model\n",
        "history1 = train(model1)"
      ]
    },
    {
      "cell_type": "code",
      "execution_count": null,
      "metadata": {
        "colab": {
          "base_uri": "https://localhost:8080/",
          "height": 437
        },
        "id": "b0ngo2FWGiqW",
        "outputId": "5e8f9367-095c-4c2b-fe87-dba5d7a09ba4"
      },
      "outputs": [
        {
          "output_type": "display_data",
          "data": {
            "text/plain": [
              "<Figure size 864x576 with 2 Axes>"
            ],
            "image/png": "[encoded data removed]"
          },
          "metadata": {
            "needs_background": "light"
          }
        },
        {
          "output_type": "stream",
          "name": "stdout",
          "text": [
            "average train accuracy:  0.9536043019855723\n",
            "max train accuracy:  0.9873466491699219\n",
            "average train loss:  0.16711849631632075\n",
            "min train loss:  0.08341851085424423\n",
            "#########################################################\n",
            "average train accuracy:  0.8668778328334584\n",
            "max train accuracy:  0.8861538171768188\n",
            "average train loss:  0.32308685604263754\n",
            "min train loss:  0.289271742105484\n"
          ]
        }
      ],
      "source": [
        "# training and testing results\n",
        "plot_train_evaluation(history1, model1)"
      ]
    },
    {
      "cell_type": "code",
      "execution_count": null,
      "metadata": {
        "id": "FzKimJGWKvbZ"
      },
      "outputs": [],
      "source": [
        "model1.save(\"/content/gdrive/MyDrive/data-device/model/UK-DALE/diff/baseline-house1.h5\")"
      ]
    },
    {
      "cell_type": "code",
      "execution_count": null,
      "metadata": {
        "id": "cYzlDJdQeHPR"
      },
      "outputs": [],
      "source": [
        "from tensorflow.keras.models import load_model\n",
        "from tensorflow.keras.applications import VGG16  \n",
        "import tensorflow as tf \n",
        "from tensorflow.keras import Model  \n",
        "from sklearn.metrics import confusion_matrix, classification_report  "
      ]
    },
    {
      "cell_type": "code",
      "execution_count": null,
      "metadata": {
        "id": "0n7TmmcJek_k"
      },
      "outputs": [],
      "source": [
        "model2 = load_model('/content/gdrive/MyDrive/data-device/model/UK-DALE/diff/baseline-house1.h5')"
      ]
    },
    {
      "cell_type": "code",
      "execution_count": null,
      "metadata": {
        "colab": {
          "base_uri": "https://localhost:8080/"
        },
        "id": "TRHUzBKpe8xW",
        "outputId": "b6a58ed1-69b8-4fee-b691-cdfc4a545da1"
      },
      "outputs": [
        {
          "output_type": "stream",
          "name": "stdout",
          "text": [
            "Model: \"model_2\"\n",
            "_________________________________________________________________\n",
            " Layer (type)                Output Shape              Param #   \n",
            "=================================================================\n",
            " input_3 (InputLayer)        [(None, 224, 224, 3)]     0         \n",
            "                                                                 \n",
            " block1_conv1 (Conv2D)       (None, 224, 224, 64)      1792      \n",
            "                                                                 \n",
            " block1_conv2 (Conv2D)       (None, 224, 224, 64)      36928     \n",
            "                                                                 \n",
            " block1_pool (MaxPooling2D)  (None, 112, 112, 64)      0         \n",
            "                                                                 \n",
            " block2_conv1 (Conv2D)       (None, 112, 112, 128)     73856     \n",
            "                                                                 \n",
            " block2_conv2 (Conv2D)       (None, 112, 112, 128)     147584    \n",
            "                                                                 \n",
            " block2_pool (MaxPooling2D)  (None, 56, 56, 128)       0         \n",
            "                                                                 \n",
            " block3_conv1 (Conv2D)       (None, 56, 56, 256)       295168    \n",
            "                                                                 \n",
            " block3_conv2 (Conv2D)       (None, 56, 56, 256)       590080    \n",
            "                                                                 \n",
            " block3_conv3 (Conv2D)       (None, 56, 56, 256)       590080    \n",
            "                                                                 \n",
            " block3_pool (MaxPooling2D)  (None, 28, 28, 256)       0         \n",
            "                                                                 \n",
            " block4_conv1 (Conv2D)       (None, 28, 28, 512)       1180160   \n",
            "                                                                 \n",
            " block4_conv2 (Conv2D)       (None, 28, 28, 512)       2359808   \n",
            "                                                                 \n",
            " block4_conv3 (Conv2D)       (None, 28, 28, 512)       2359808   \n",
            "                                                                 \n",
            " block4_pool (MaxPooling2D)  (None, 14, 14, 512)       0         \n",
            "                                                                 \n",
            " block5_conv1 (Conv2D)       (None, 14, 14, 512)       2359808   \n",
            "                                                                 \n",
            " block5_conv2 (Conv2D)       (None, 14, 14, 512)       2359808   \n",
            "                                                                 \n",
            " block5_conv3 (Conv2D)       (None, 14, 14, 512)       2359808   \n",
            "                                                                 \n",
            " block5_pool (MaxPooling2D)  (None, 7, 7, 512)         0         \n",
            "                                                                 \n",
            " flatten_2 (Flatten)         (None, 25088)             0         \n",
            "                                                                 \n",
            " dense_2 (Dense)             (None, 2)                 50178     \n",
            "                                                                 \n",
            "=================================================================\n",
            "Total params: 14,764,866\n",
            "Trainable params: 50,178\n",
            "Non-trainable params: 14,714,688\n",
            "_________________________________________________________________\n"
          ]
        }
      ],
      "source": [
        "model2.summary()"
      ]
    },
    {
      "cell_type": "markdown",
      "source": [
        "**Kettle**"
      ],
      "metadata": {
        "id": "GdWa8dxJoBQl"
      }
    },
    {
      "cell_type": "code",
      "execution_count": null,
      "metadata": {
        "id": "dIFkVQeOe9nY",
        "outputId": "adfdffc8-d2ce-4c8e-8795-82ea572c6f82",
        "colab": {
          "base_uri": "https://localhost:8080/"
        }
      },
      "outputs": [
        {
          "output_type": "stream",
          "name": "stdout",
          "text": [
            "Found 3258 images belonging to 2 classes.\n"
          ]
        }
      ],
      "source": [
        "dir = '//content/gdrive/MyDrive/data-device/UK-DALE-data/diff/building1-diff/train-kettle'\n",
        "train_datagen = ImageDataGenerator(\n",
        "      samplewise_std_normalization= True,\n",
        "      )\n",
        "\n",
        "train_generator = train_datagen2.flow_from_directory(\n",
        "     dir,  # train folder\n",
        "     shuffle=True,  # shuffle the train dataset\n",
        "     target_size = (224,224)\n",
        "\n",
        ")"
      ]
    },
    {
      "cell_type": "code",
      "source": [
        "y_predict1 = model2.evaluate(train_generator, return_dict = True, use_multiprocessing= True)"
      ],
      "metadata": {
        "id": "g1ikKcO0HM3G",
        "outputId": "8c261a5d-ec79-434d-dcda-032359da6829",
        "colab": {
          "base_uri": "https://localhost:8080/"
        }
      },
      "execution_count": null,
      "outputs": [
        {
          "output_type": "stream",
          "name": "stdout",
          "text": [
            "102/102 [==============================] - 18s 177ms/step - loss: 0.6960 - accuracy: 0.6992\n"
          ]
        }
      ]
    },
    {
      "cell_type": "code",
      "source": [
        "y_predict1 "
      ],
      "metadata": {
        "id": "fMGZotbdPDia",
        "outputId": "5e5ea7ce-e578-473d-c133-83aa97534cf3",
        "colab": {
          "base_uri": "https://localhost:8080/"
        }
      },
      "execution_count": null,
      "outputs": [
        {
          "output_type": "execute_result",
          "data": {
            "text/plain": [
              "{'loss': 0.6959773898124695, 'accuracy': 0.6992019414901733}"
            ]
          },
          "metadata": {},
          "execution_count": 29
        }
      ]
    },
    {
      "cell_type": "markdown",
      "source": [
        "**train with kettle**"
      ],
      "metadata": {
        "id": "Vtv_RUu6CScu"
      }
    },
    {
      "cell_type": "code",
      "source": [
        "model2_retain = pretrained_model(VGG16)"
      ],
      "metadata": {
        "id": "WGa9fpejCP6s",
        "outputId": "dd2772f2-a1b8-4b1c-affe-c3b7ddc6a2a2",
        "colab": {
          "base_uri": "https://localhost:8080/"
        }
      },
      "execution_count": null,
      "outputs": [
        {
          "output_type": "stream",
          "name": "stdout",
          "text": [
            "Model: \"vgg16\"\n",
            "_________________________________________________________________\n",
            " Layer (type)                Output Shape              Param #   \n",
            "=================================================================\n",
            " input_8 (InputLayer)        [(None, 224, 224, 3)]     0         \n",
            "                                                                 \n",
            " block1_conv1 (Conv2D)       (None, 224, 224, 64)      1792      \n",
            "                                                                 \n",
            " block1_conv2 (Conv2D)       (None, 224, 224, 64)      36928     \n",
            "                                                                 \n",
            " block1_pool (MaxPooling2D)  (None, 112, 112, 64)      0         \n",
            "                                                                 \n",
            " block2_conv1 (Conv2D)       (None, 112, 112, 128)     73856     \n",
            "                                                                 \n",
            " block2_conv2 (Conv2D)       (None, 112, 112, 128)     147584    \n",
            "                                                                 \n",
            " block2_pool (MaxPooling2D)  (None, 56, 56, 128)       0         \n",
            "                                                                 \n",
            " block3_conv1 (Conv2D)       (None, 56, 56, 256)       295168    \n",
            "                                                                 \n",
            " block3_conv2 (Conv2D)       (None, 56, 56, 256)       590080    \n",
            "                                                                 \n",
            " block3_conv3 (Conv2D)       (None, 56, 56, 256)       590080    \n",
            "                                                                 \n",
            " block3_pool (MaxPooling2D)  (None, 28, 28, 256)       0         \n",
            "                                                                 \n",
            " block4_conv1 (Conv2D)       (None, 28, 28, 512)       1180160   \n",
            "                                                                 \n",
            " block4_conv2 (Conv2D)       (None, 28, 28, 512)       2359808   \n",
            "                                                                 \n",
            " block4_conv3 (Conv2D)       (None, 28, 28, 512)       2359808   \n",
            "                                                                 \n",
            " block4_pool (MaxPooling2D)  (None, 14, 14, 512)       0         \n",
            "                                                                 \n",
            " block5_conv1 (Conv2D)       (None, 14, 14, 512)       2359808   \n",
            "                                                                 \n",
            " block5_conv2 (Conv2D)       (None, 14, 14, 512)       2359808   \n",
            "                                                                 \n",
            " block5_conv3 (Conv2D)       (None, 14, 14, 512)       2359808   \n",
            "                                                                 \n",
            " block5_pool (MaxPooling2D)  (None, 7, 7, 512)         0         \n",
            "                                                                 \n",
            "=================================================================\n",
            "Total params: 14,714,688\n",
            "Trainable params: 0\n",
            "Non-trainable params: 14,714,688\n",
            "_________________________________________________________________\n",
            "Model: \"model_7\"\n",
            "_________________________________________________________________\n",
            " Layer (type)                Output Shape              Param #   \n",
            "=================================================================\n",
            " input_8 (InputLayer)        [(None, 224, 224, 3)]     0         \n",
            "                                                                 \n",
            " block1_conv1 (Conv2D)       (None, 224, 224, 64)      1792      \n",
            "                                                                 \n",
            " block1_conv2 (Conv2D)       (None, 224, 224, 64)      36928     \n",
            "                                                                 \n",
            " block1_pool (MaxPooling2D)  (None, 112, 112, 64)      0         \n",
            "                                                                 \n",
            " block2_conv1 (Conv2D)       (None, 112, 112, 128)     73856     \n",
            "                                                                 \n",
            " block2_conv2 (Conv2D)       (None, 112, 112, 128)     147584    \n",
            "                                                                 \n",
            " block2_pool (MaxPooling2D)  (None, 56, 56, 128)       0         \n",
            "                                                                 \n",
            " block3_conv1 (Conv2D)       (None, 56, 56, 256)       295168    \n",
            "                                                                 \n",
            " block3_conv2 (Conv2D)       (None, 56, 56, 256)       590080    \n",
            "                                                                 \n",
            " block3_conv3 (Conv2D)       (None, 56, 56, 256)       590080    \n",
            "                                                                 \n",
            " block3_pool (MaxPooling2D)  (None, 28, 28, 256)       0         \n",
            "                                                                 \n",
            " block4_conv1 (Conv2D)       (None, 28, 28, 512)       1180160   \n",
            "                                                                 \n",
            " block4_conv2 (Conv2D)       (None, 28, 28, 512)       2359808   \n",
            "                                                                 \n",
            " block4_conv3 (Conv2D)       (None, 28, 28, 512)       2359808   \n",
            "                                                                 \n",
            " block4_pool (MaxPooling2D)  (None, 14, 14, 512)       0         \n",
            "                                                                 \n",
            " block5_conv1 (Conv2D)       (None, 14, 14, 512)       2359808   \n",
            "                                                                 \n",
            " block5_conv2 (Conv2D)       (None, 14, 14, 512)       2359808   \n",
            "                                                                 \n",
            " block5_conv3 (Conv2D)       (None, 14, 14, 512)       2359808   \n",
            "                                                                 \n",
            " block5_pool (MaxPooling2D)  (None, 7, 7, 512)         0         \n",
            "                                                                 \n",
            " flatten_7 (Flatten)         (None, 25088)             0         \n",
            "                                                                 \n",
            " dense_7 (Dense)             (None, 2)                 50178     \n",
            "                                                                 \n",
            "=================================================================\n",
            "Total params: 14,764,866\n",
            "Trainable params: 50,178\n",
            "Non-trainable params: 14,714,688\n",
            "_________________________________________________________________\n"
          ]
        }
      ]
    },
    {
      "cell_type": "code",
      "source": [
        "history2 = train(model2_retain)"
      ],
      "metadata": {
        "id": "mhqP_EiSG4cf",
        "outputId": "a5fc2d32-bcb8-496f-88eb-886abf8bbcbd",
        "colab": {
          "base_uri": "https://localhost:8080/"
        }
      },
      "execution_count": null,
      "outputs": [
        {
          "output_type": "stream",
          "name": "stdout",
          "text": [
            "Epoch 1/50\n",
            "102/102 [==============================] - 25s 234ms/step - loss: 0.5413 - accuracy: 0.7419 - val_loss: 0.5288 - val_accuracy: 0.7369 - lr: 0.0010\n",
            "Epoch 2/50\n",
            "102/102 [==============================] - 24s 231ms/step - loss: 0.3547 - accuracy: 0.8585 - val_loss: 0.5529 - val_accuracy: 0.7785 - lr: 0.0010\n",
            "Epoch 3/50\n",
            "102/102 [==============================] - 23s 225ms/step - loss: 0.3093 - accuracy: 0.8742 - val_loss: 0.4895 - val_accuracy: 0.7662 - lr: 0.0010\n",
            "Epoch 4/50\n",
            "102/102 [==============================] - 23s 225ms/step - loss: 0.2733 - accuracy: 0.8926 - val_loss: 0.4081 - val_accuracy: 0.8169 - lr: 0.0010\n",
            "Epoch 5/50\n",
            "102/102 [==============================] - 23s 227ms/step - loss: 0.2447 - accuracy: 0.9070 - val_loss: 0.4459 - val_accuracy: 0.7862 - lr: 0.0010\n",
            "Epoch 6/50\n",
            "102/102 [==============================] - 23s 227ms/step - loss: 0.2353 - accuracy: 0.9076 - val_loss: 0.4045 - val_accuracy: 0.8169 - lr: 0.0010\n",
            "Epoch 7/50\n",
            "102/102 [==============================] - 23s 226ms/step - loss: 0.2111 - accuracy: 0.9239 - val_loss: 0.4368 - val_accuracy: 0.7831 - lr: 0.0010\n",
            "Epoch 8/50\n",
            "102/102 [==============================] - 23s 229ms/step - loss: 0.1971 - accuracy: 0.9288 - val_loss: 0.3444 - val_accuracy: 0.8538 - lr: 0.0010\n",
            "Epoch 9/50\n",
            "102/102 [==============================] - 23s 227ms/step - loss: 0.1847 - accuracy: 0.9319 - val_loss: 0.3308 - val_accuracy: 0.8538 - lr: 0.0010\n",
            "Epoch 10/50\n",
            "102/102 [==============================] - 23s 226ms/step - loss: 0.1702 - accuracy: 0.9395 - val_loss: 0.3620 - val_accuracy: 0.8492 - lr: 0.0010\n",
            "Epoch 11/50\n",
            "102/102 [==============================] - 24s 233ms/step - loss: 0.1668 - accuracy: 0.9395 - val_loss: 0.3750 - val_accuracy: 0.8308 - lr: 0.0010\n",
            "Epoch 12/50\n",
            "102/102 [==============================] - 23s 226ms/step - loss: 0.1399 - accuracy: 0.9586 - val_loss: 0.3512 - val_accuracy: 0.8385 - lr: 1.0000e-04\n",
            "Epoch 13/50\n",
            "102/102 [==============================] - 24s 231ms/step - loss: 0.1370 - accuracy: 0.9573 - val_loss: 0.3579 - val_accuracy: 0.8385 - lr: 1.0000e-04\n",
            "Epoch 14/50\n",
            "102/102 [==============================] - 23s 227ms/step - loss: 0.1347 - accuracy: 0.9595 - val_loss: 0.3439 - val_accuracy: 0.8431 - lr: 1.0000e-05\n",
            "Epoch 15/50\n",
            "102/102 [==============================] - 23s 227ms/step - loss: 0.1345 - accuracy: 0.9619 - val_loss: 0.3456 - val_accuracy: 0.8415 - lr: 1.0000e-05\n",
            "Epoch 16/50\n",
            "102/102 [==============================] - 23s 226ms/step - loss: 0.1343 - accuracy: 0.9604 - val_loss: 0.3405 - val_accuracy: 0.8446 - lr: 1.0000e-05\n",
            "Epoch 17/50\n",
            "102/102 [==============================] - 23s 226ms/step - loss: 0.1341 - accuracy: 0.9616 - val_loss: 0.3414 - val_accuracy: 0.8431 - lr: 1.0000e-06\n",
            "Epoch 18/50\n",
            "102/102 [==============================] - 23s 226ms/step - loss: 0.1340 - accuracy: 0.9619 - val_loss: 0.3415 - val_accuracy: 0.8431 - lr: 1.0000e-07\n"
          ]
        }
      ]
    },
    {
      "cell_type": "code",
      "source": [
        "plot_train_evaluation(history2, model2_retain)"
      ],
      "metadata": {
        "id": "XGZC8HfOIqko",
        "outputId": "044c6cfc-002a-489a-a2ff-2cb9bf2609a2",
        "colab": {
          "base_uri": "https://localhost:8080/",
          "height": 437
        }
      },
      "execution_count": null,
      "outputs": [
        {
          "output_type": "display_data",
          "data": {
            "text/plain": [
              "<Figure size 864x576 with 2 Axes>"
            ],
            "image/png": "[encoded data removed]"
          },
          "metadata": {
            "needs_background": "light"
          }
        },
        {
          "output_type": "stream",
          "name": "stdout",
          "text": [
            "average train accuracy:  0.9203669561280144\n",
            "max train accuracy:  0.961939811706543\n",
            "average train loss:  0.21316006862454945\n",
            "min train loss:  0.13400517404079437\n",
            "#########################################################\n",
            "average train accuracy:  0.8202564153406355\n",
            "max train accuracy:  0.8538461327552795\n",
            "average train loss:  0.394475143816736\n",
            "min train loss:  0.3307996988296509\n"
          ]
        }
      ]
    },
    {
      "cell_type": "code",
      "source": [
        "model3 = load_model('/content/gdrive/MyDrive/data-device/model/baseline.h5')"
      ],
      "metadata": {
        "id": "hleebbRnIrAl"
      },
      "execution_count": null,
      "outputs": []
    },
    {
      "cell_type": "markdown",
      "source": [
        "**Washer Dryer**"
      ],
      "metadata": {
        "id": "nxqQ9k2noD6D"
      }
    },
    {
      "cell_type": "code",
      "source": [
        "dir = '/content/gdrive/MyDrive/data-device/UK-DALE-data/diff/building1-diff/train-washer'\n",
        "train_datagen = ImageDataGenerator(\n",
        "      samplewise_std_normalization= True,\n",
        "      )\n",
        "\n",
        "train_generator = train_datagen.flow_from_directory(\n",
        "     dir,  # train folder\n",
        "     shuffle=True,  # shuffle the train dataset\n",
        "     target_size = (224,224)\n",
        "\n",
        ")"
      ],
      "metadata": {
        "id": "hkafLOnBOZAa",
        "outputId": "26fbdb9c-82cd-4c0f-e463-91a698abcbf6",
        "colab": {
          "base_uri": "https://localhost:8080/"
        }
      },
      "execution_count": null,
      "outputs": [
        {
          "output_type": "stream",
          "name": "stdout",
          "text": [
            "Found 3258 images belonging to 2 classes.\n"
          ]
        }
      ]
    },
    {
      "cell_type": "code",
      "source": [
        "y_predict2 = model3.evaluate(train_generator, return_dict = True, use_multiprocessing= True)"
      ],
      "metadata": {
        "id": "Fqx9HVFCOqI8",
        "outputId": "74f89af2-4fd1-46d6-a8d8-314631c9c0c9",
        "colab": {
          "base_uri": "https://localhost:8080/"
        }
      },
      "execution_count": null,
      "outputs": [
        {
          "output_type": "stream",
          "name": "stdout",
          "text": [
            "102/102 [==============================] - 232s 2s/step - loss: 0.1488 - accuracy: 0.9583\n"
          ]
        }
      ]
    },
    {
      "cell_type": "code",
      "source": [
        "y_predict2"
      ],
      "metadata": {
        "id": "n4qBUsTQPdH-",
        "outputId": "6042ce19-5147-4215-fe60-a007200038af",
        "colab": {
          "base_uri": "https://localhost:8080/"
        }
      },
      "execution_count": null,
      "outputs": [
        {
          "output_type": "execute_result",
          "data": {
            "text/plain": [
              "{'loss': 0.14884604513645172, 'accuracy': 0.9582566022872925}"
            ]
          },
          "metadata": {},
          "execution_count": 15
        }
      ]
    },
    {
      "cell_type": "markdown",
      "source": [
        "**Retain with Washer**"
      ],
      "metadata": {
        "id": "3mVu3zKzJC3t"
      }
    },
    {
      "cell_type": "code",
      "source": [
        "model3_retain = pretrained_model(VGG16)"
      ],
      "metadata": {
        "id": "UBH4x7S3JCBW",
        "outputId": "0b02cd03-0177-4f6a-c318-e9e28b34a038",
        "colab": {
          "base_uri": "https://localhost:8080/"
        }
      },
      "execution_count": null,
      "outputs": [
        {
          "output_type": "stream",
          "name": "stdout",
          "text": [
            "Downloading data from https://storage.googleapis.com/tensorflow/keras-applications/vgg16/vgg16_weights_tf_dim_ordering_tf_kernels_notop.h5\n",
            "58892288/58889256 [==============================] - 0s 0us/step\n",
            "58900480/58889256 [==============================] - 0s 0us/step\n",
            "Model: \"vgg16\"\n",
            "_________________________________________________________________\n",
            " Layer (type)                Output Shape              Param #   \n",
            "=================================================================\n",
            " input_1 (InputLayer)        [(None, 224, 224, 3)]     0         \n",
            "                                                                 \n",
            " block1_conv1 (Conv2D)       (None, 224, 224, 64)      1792      \n",
            "                                                                 \n",
            " block1_conv2 (Conv2D)       (None, 224, 224, 64)      36928     \n",
            "                                                                 \n",
            " block1_pool (MaxPooling2D)  (None, 112, 112, 64)      0         \n",
            "                                                                 \n",
            " block2_conv1 (Conv2D)       (None, 112, 112, 128)     73856     \n",
            "                                                                 \n",
            " block2_conv2 (Conv2D)       (None, 112, 112, 128)     147584    \n",
            "                                                                 \n",
            " block2_pool (MaxPooling2D)  (None, 56, 56, 128)       0         \n",
            "                                                                 \n",
            " block3_conv1 (Conv2D)       (None, 56, 56, 256)       295168    \n",
            "                                                                 \n",
            " block3_conv2 (Conv2D)       (None, 56, 56, 256)       590080    \n",
            "                                                                 \n",
            " block3_conv3 (Conv2D)       (None, 56, 56, 256)       590080    \n",
            "                                                                 \n",
            " block3_pool (MaxPooling2D)  (None, 28, 28, 256)       0         \n",
            "                                                                 \n",
            " block4_conv1 (Conv2D)       (None, 28, 28, 512)       1180160   \n",
            "                                                                 \n",
            " block4_conv2 (Conv2D)       (None, 28, 28, 512)       2359808   \n",
            "                                                                 \n",
            " block4_conv3 (Conv2D)       (None, 28, 28, 512)       2359808   \n",
            "                                                                 \n",
            " block4_pool (MaxPooling2D)  (None, 14, 14, 512)       0         \n",
            "                                                                 \n",
            " block5_conv1 (Conv2D)       (None, 14, 14, 512)       2359808   \n",
            "                                                                 \n",
            " block5_conv2 (Conv2D)       (None, 14, 14, 512)       2359808   \n",
            "                                                                 \n",
            " block5_conv3 (Conv2D)       (None, 14, 14, 512)       2359808   \n",
            "                                                                 \n",
            " block5_pool (MaxPooling2D)  (None, 7, 7, 512)         0         \n",
            "                                                                 \n",
            "=================================================================\n",
            "Total params: 14,714,688\n",
            "Trainable params: 0\n",
            "Non-trainable params: 14,714,688\n",
            "_________________________________________________________________\n",
            "Model: \"model\"\n",
            "_________________________________________________________________\n",
            " Layer (type)                Output Shape              Param #   \n",
            "=================================================================\n",
            " input_1 (InputLayer)        [(None, 224, 224, 3)]     0         \n",
            "                                                                 \n",
            " block1_conv1 (Conv2D)       (None, 224, 224, 64)      1792      \n",
            "                                                                 \n",
            " block1_conv2 (Conv2D)       (None, 224, 224, 64)      36928     \n",
            "                                                                 \n",
            " block1_pool (MaxPooling2D)  (None, 112, 112, 64)      0         \n",
            "                                                                 \n",
            " block2_conv1 (Conv2D)       (None, 112, 112, 128)     73856     \n",
            "                                                                 \n",
            " block2_conv2 (Conv2D)       (None, 112, 112, 128)     147584    \n",
            "                                                                 \n",
            " block2_pool (MaxPooling2D)  (None, 56, 56, 128)       0         \n",
            "                                                                 \n",
            " block3_conv1 (Conv2D)       (None, 56, 56, 256)       295168    \n",
            "                                                                 \n",
            " block3_conv2 (Conv2D)       (None, 56, 56, 256)       590080    \n",
            "                                                                 \n",
            " block3_conv3 (Conv2D)       (None, 56, 56, 256)       590080    \n",
            "                                                                 \n",
            " block3_pool (MaxPooling2D)  (None, 28, 28, 256)       0         \n",
            "                                                                 \n",
            " block4_conv1 (Conv2D)       (None, 28, 28, 512)       1180160   \n",
            "                                                                 \n",
            " block4_conv2 (Conv2D)       (None, 28, 28, 512)       2359808   \n",
            "                                                                 \n",
            " block4_conv3 (Conv2D)       (None, 28, 28, 512)       2359808   \n",
            "                                                                 \n",
            " block4_pool (MaxPooling2D)  (None, 14, 14, 512)       0         \n",
            "                                                                 \n",
            " block5_conv1 (Conv2D)       (None, 14, 14, 512)       2359808   \n",
            "                                                                 \n",
            " block5_conv2 (Conv2D)       (None, 14, 14, 512)       2359808   \n",
            "                                                                 \n",
            " block5_conv3 (Conv2D)       (None, 14, 14, 512)       2359808   \n",
            "                                                                 \n",
            " block5_pool (MaxPooling2D)  (None, 7, 7, 512)         0         \n",
            "                                                                 \n",
            " flatten (Flatten)           (None, 25088)             0         \n",
            "                                                                 \n",
            " dense (Dense)               (None, 2)                 50178     \n",
            "                                                                 \n",
            "=================================================================\n",
            "Total params: 14,764,866\n",
            "Trainable params: 50,178\n",
            "Non-trainable params: 14,714,688\n",
            "_________________________________________________________________\n"
          ]
        }
      ]
    },
    {
      "cell_type": "code",
      "source": [
        "history3 = train(model3_retain)"
      ],
      "metadata": {
        "id": "JzbB2d7kJqrU",
        "outputId": "cd9accce-d485-4fbb-9e58-20b39aa65062",
        "colab": {
          "base_uri": "https://localhost:8080/"
        }
      },
      "execution_count": null,
      "outputs": [
        {
          "output_type": "stream",
          "name": "stdout",
          "text": [
            "Epoch 1/50\n",
            "41/41 [==============================] - 380s 9s/step - loss: 0.5924 - accuracy: 0.7377 - val_loss: 0.4757 - val_accuracy: 0.7846 - lr: 0.0010\n",
            "Epoch 2/50\n",
            "41/41 [==============================] - 19s 459ms/step - loss: 0.3396 - accuracy: 0.8842 - val_loss: 0.3800 - val_accuracy: 0.8385 - lr: 0.0010\n",
            "Epoch 3/50\n",
            "41/41 [==============================] - 19s 471ms/step - loss: 0.2601 - accuracy: 0.9271 - val_loss: 0.3483 - val_accuracy: 0.8523 - lr: 0.0010\n",
            "Epoch 4/50\n",
            "41/41 [==============================] - 20s 484ms/step - loss: 0.2251 - accuracy: 0.9298 - val_loss: 0.3249 - val_accuracy: 0.8646 - lr: 0.0010\n",
            "Epoch 5/50\n",
            "41/41 [==============================] - 20s 490ms/step - loss: 0.1841 - accuracy: 0.9505 - val_loss: 0.3124 - val_accuracy: 0.8769 - lr: 0.0010\n",
            "Epoch 6/50\n",
            "41/41 [==============================] - 21s 501ms/step - loss: 0.1635 - accuracy: 0.9559 - val_loss: 0.3353 - val_accuracy: 0.8585 - lr: 0.0010\n",
            "Epoch 7/50\n",
            "41/41 [==============================] - 21s 506ms/step - loss: 0.1419 - accuracy: 0.9666 - val_loss: 0.3322 - val_accuracy: 0.8631 - lr: 0.0010\n",
            "Epoch 8/50\n",
            "41/41 [==============================] - 21s 509ms/step - loss: 0.1290 - accuracy: 0.9712 - val_loss: 0.3201 - val_accuracy: 0.8754 - lr: 0.0010\n",
            "Epoch 9/50\n",
            "41/41 [==============================] - 21s 512ms/step - loss: 0.1158 - accuracy: 0.9758 - val_loss: 0.3017 - val_accuracy: 0.8877 - lr: 0.0010\n",
            "Epoch 10/50\n",
            "41/41 [==============================] - 21s 521ms/step - loss: 0.1058 - accuracy: 0.9778 - val_loss: 0.2993 - val_accuracy: 0.8800 - lr: 0.0010\n",
            "Epoch 11/50\n",
            "41/41 [==============================] - 21s 512ms/step - loss: 0.0964 - accuracy: 0.9820 - val_loss: 0.3123 - val_accuracy: 0.8769 - lr: 0.0010\n",
            "Epoch 12/50\n",
            "41/41 [==============================] - 22s 541ms/step - loss: 0.0903 - accuracy: 0.9843 - val_loss: 0.3035 - val_accuracy: 0.8785 - lr: 0.0010\n",
            "Epoch 13/50\n",
            "41/41 [==============================] - 23s 555ms/step - loss: 0.0819 - accuracy: 0.9866 - val_loss: 0.2929 - val_accuracy: 0.8892 - lr: 0.0010\n",
            "Epoch 14/50\n",
            "41/41 [==============================] - 22s 545ms/step - loss: 0.0772 - accuracy: 0.9893 - val_loss: 0.3058 - val_accuracy: 0.8785 - lr: 0.0010\n",
            "Epoch 15/50\n",
            "41/41 [==============================] - 23s 555ms/step - loss: 0.0726 - accuracy: 0.9900 - val_loss: 0.2973 - val_accuracy: 0.8923 - lr: 0.0010\n",
            "Epoch 16/50\n",
            "41/41 [==============================] - 21s 511ms/step - loss: 0.0708 - accuracy: 0.9873 - val_loss: 0.3146 - val_accuracy: 0.8754 - lr: 0.0010\n",
            "Epoch 17/50\n",
            "41/41 [==============================] - 21s 522ms/step - loss: 0.0636 - accuracy: 0.9916 - val_loss: 0.3069 - val_accuracy: 0.8738 - lr: 1.0000e-04\n",
            "Epoch 18/50\n",
            "41/41 [==============================] - 21s 515ms/step - loss: 0.0623 - accuracy: 0.9923 - val_loss: 0.3063 - val_accuracy: 0.8754 - lr: 1.0000e-04\n",
            "Epoch 19/50\n",
            "41/41 [==============================] - 21s 519ms/step - loss: 0.0621 - accuracy: 0.9919 - val_loss: 0.3002 - val_accuracy: 0.8815 - lr: 1.0000e-04\n",
            "Epoch 20/50\n",
            "41/41 [==============================] - 21s 516ms/step - loss: 0.0614 - accuracy: 0.9931 - val_loss: 0.3014 - val_accuracy: 0.8800 - lr: 1.0000e-05\n",
            "Epoch 21/50\n",
            "41/41 [==============================] - 21s 522ms/step - loss: 0.0613 - accuracy: 0.9927 - val_loss: 0.3020 - val_accuracy: 0.8800 - lr: 1.0000e-05\n",
            "Epoch 22/50\n",
            "41/41 [==============================] - 21s 510ms/step - loss: 0.0612 - accuracy: 0.9927 - val_loss: 0.3020 - val_accuracy: 0.8800 - lr: 1.0000e-06\n",
            "Epoch 23/50\n",
            "41/41 [==============================] - 21s 513ms/step - loss: 0.0612 - accuracy: 0.9927 - val_loss: 0.3020 - val_accuracy: 0.8800 - lr: 1.0000e-07\n"
          ]
        }
      ]
    },
    {
      "cell_type": "code",
      "source": [
        "plot_train_evaluation(history3, model3_retain)"
      ],
      "metadata": {
        "id": "ymEvo1xmJ-kl",
        "outputId": "c155b466-749c-4ebd-9417-0b51b926ec69",
        "colab": {
          "base_uri": "https://localhost:8080/",
          "height": 437
        }
      },
      "execution_count": null,
      "outputs": [
        {
          "output_type": "display_data",
          "data": {
            "text/plain": [
              "<Figure size 864x576 with 2 Axes>"
            ],
            "image/png": "[encoded data removed]"
          },
          "metadata": {
            "needs_background": "light"
          }
        },
        {
          "output_type": "stream",
          "name": "stdout",
          "text": [
            "average train accuracy:  0.9627567296442778\n",
            "max train accuracy:  0.9930981397628784\n",
            "average train loss:  0.13823910980768825\n",
            "min train loss:  0.061192430555820465\n",
            "#########################################################\n",
            "average train accuracy:  0.8705685657003651\n",
            "max train accuracy:  0.892307698726654\n",
            "average train loss:  0.3207326570282812\n",
            "min train loss:  0.2928513288497925\n"
          ]
        }
      ]
    },
    {
      "cell_type": "code",
      "source": [
        "model3_retain.save(\"/content/gdrive/MyDrive/data-device/model/UK-DALE/diff/house1-washer-diff.h5\")"
      ],
      "metadata": {
        "id": "WNRlR7SU0D7h"
      },
      "execution_count": null,
      "outputs": []
    },
    {
      "cell_type": "markdown",
      "source": [
        "### Across House\n",
        "\n",
        "\n",
        "\n",
        "\n"
      ],
      "metadata": {
        "id": "dasxmalUDIQW"
      }
    },
    {
      "cell_type": "markdown",
      "source": [
        "**Fridge**"
      ],
      "metadata": {
        "id": "IOiRoUUSDh4O"
      }
    },
    {
      "cell_type": "code",
      "source": [
        "model4 = load_model('/content/gdrive/MyDrive/data-device/model/baseline.h5')"
      ],
      "metadata": {
        "id": "qtOZbsIYDqRX"
      },
      "execution_count": null,
      "outputs": []
    },
    {
      "cell_type": "code",
      "source": [
        "dir = '/content/gdrive/MyDrive/data-device/UK-DALE-data/diff/acrosshouse/train-fridge'\n",
        "train_datagen = ImageDataGenerator(\n",
        "      samplewise_std_normalization= True,\n",
        "      )\n",
        "\n",
        "train_generator = train_datagen.flow_from_directory(\n",
        "     dir,  # train folder\n",
        "     shuffle=True,  # shuffle the train dataset\n",
        "     target_size = (224,224)\n",
        "\n",
        ")"
      ],
      "metadata": {
        "id": "eU9YooHrEena",
        "colab": {
          "base_uri": "https://localhost:8080/"
        },
        "outputId": "cf33e5aa-01b7-432c-b84e-f57f5dbdd3f8"
      },
      "execution_count": null,
      "outputs": [
        {
          "output_type": "stream",
          "name": "stdout",
          "text": [
            "Found 3258 images belonging to 2 classes.\n"
          ]
        }
      ]
    },
    {
      "cell_type": "code",
      "source": [
        "y_predict4 = model4.evaluate(train_generator, return_dict = True, use_multiprocessing= True)"
      ],
      "metadata": {
        "colab": {
          "base_uri": "https://localhost:8080/"
        },
        "id": "MBRGTn8zcLoL",
        "outputId": "4d0feac6-d6a8-4a30-eb71-f75c10f7b951"
      },
      "execution_count": null,
      "outputs": [
        {
          "output_type": "stream",
          "name": "stdout",
          "text": [
            "102/102 [==============================] - 434s 4s/step - loss: 0.1590 - accuracy: 0.9515\n"
          ]
        }
      ]
    },
    {
      "cell_type": "code",
      "source": [
        "y_predict4"
      ],
      "metadata": {
        "colab": {
          "base_uri": "https://localhost:8080/"
        },
        "id": "r1kHEzEqcPkl",
        "outputId": "c3833463-8726-4482-bde9-5046dc3ed31c"
      },
      "execution_count": null,
      "outputs": [
        {
          "output_type": "execute_result",
          "data": {
            "text/plain": [
              "{'loss': 0.15904501080513, 'accuracy': 0.9515039920806885}"
            ]
          },
          "metadata": {},
          "execution_count": 8
        }
      ]
    },
    {
      "cell_type": "markdown",
      "source": [
        "**Retain-fridge**"
      ],
      "metadata": {
        "id": "9yQmVjS7PZIG"
      }
    },
    {
      "cell_type": "code",
      "source": [
        "model4_retain = pretrained_model(VGG16)"
      ],
      "metadata": {
        "id": "VwhnXABsPeWE",
        "outputId": "881796a9-7817-42e6-9e01-41bd5009f16f",
        "colab": {
          "base_uri": "https://localhost:8080/"
        }
      },
      "execution_count": null,
      "outputs": [
        {
          "output_type": "stream",
          "name": "stdout",
          "text": [
            "Model: \"vgg16\"\n",
            "_________________________________________________________________\n",
            " Layer (type)                Output Shape              Param #   \n",
            "=================================================================\n",
            " input_10 (InputLayer)       [(None, 224, 224, 3)]     0         \n",
            "                                                                 \n",
            " block1_conv1 (Conv2D)       (None, 224, 224, 64)      1792      \n",
            "                                                                 \n",
            " block1_conv2 (Conv2D)       (None, 224, 224, 64)      36928     \n",
            "                                                                 \n",
            " block1_pool (MaxPooling2D)  (None, 112, 112, 64)      0         \n",
            "                                                                 \n",
            " block2_conv1 (Conv2D)       (None, 112, 112, 128)     73856     \n",
            "                                                                 \n",
            " block2_conv2 (Conv2D)       (None, 112, 112, 128)     147584    \n",
            "                                                                 \n",
            " block2_pool (MaxPooling2D)  (None, 56, 56, 128)       0         \n",
            "                                                                 \n",
            " block3_conv1 (Conv2D)       (None, 56, 56, 256)       295168    \n",
            "                                                                 \n",
            " block3_conv2 (Conv2D)       (None, 56, 56, 256)       590080    \n",
            "                                                                 \n",
            " block3_conv3 (Conv2D)       (None, 56, 56, 256)       590080    \n",
            "                                                                 \n",
            " block3_pool (MaxPooling2D)  (None, 28, 28, 256)       0         \n",
            "                                                                 \n",
            " block4_conv1 (Conv2D)       (None, 28, 28, 512)       1180160   \n",
            "                                                                 \n",
            " block4_conv2 (Conv2D)       (None, 28, 28, 512)       2359808   \n",
            "                                                                 \n",
            " block4_conv3 (Conv2D)       (None, 28, 28, 512)       2359808   \n",
            "                                                                 \n",
            " block4_pool (MaxPooling2D)  (None, 14, 14, 512)       0         \n",
            "                                                                 \n",
            " block5_conv1 (Conv2D)       (None, 14, 14, 512)       2359808   \n",
            "                                                                 \n",
            " block5_conv2 (Conv2D)       (None, 14, 14, 512)       2359808   \n",
            "                                                                 \n",
            " block5_conv3 (Conv2D)       (None, 14, 14, 512)       2359808   \n",
            "                                                                 \n",
            " block5_pool (MaxPooling2D)  (None, 7, 7, 512)         0         \n",
            "                                                                 \n",
            "=================================================================\n",
            "Total params: 14,714,688\n",
            "Trainable params: 0\n",
            "Non-trainable params: 14,714,688\n",
            "_________________________________________________________________\n",
            "Model: \"model_9\"\n",
            "_________________________________________________________________\n",
            " Layer (type)                Output Shape              Param #   \n",
            "=================================================================\n",
            " input_10 (InputLayer)       [(None, 224, 224, 3)]     0         \n",
            "                                                                 \n",
            " block1_conv1 (Conv2D)       (None, 224, 224, 64)      1792      \n",
            "                                                                 \n",
            " block1_conv2 (Conv2D)       (None, 224, 224, 64)      36928     \n",
            "                                                                 \n",
            " block1_pool (MaxPooling2D)  (None, 112, 112, 64)      0         \n",
            "                                                                 \n",
            " block2_conv1 (Conv2D)       (None, 112, 112, 128)     73856     \n",
            "                                                                 \n",
            " block2_conv2 (Conv2D)       (None, 112, 112, 128)     147584    \n",
            "                                                                 \n",
            " block2_pool (MaxPooling2D)  (None, 56, 56, 128)       0         \n",
            "                                                                 \n",
            " block3_conv1 (Conv2D)       (None, 56, 56, 256)       295168    \n",
            "                                                                 \n",
            " block3_conv2 (Conv2D)       (None, 56, 56, 256)       590080    \n",
            "                                                                 \n",
            " block3_conv3 (Conv2D)       (None, 56, 56, 256)       590080    \n",
            "                                                                 \n",
            " block3_pool (MaxPooling2D)  (None, 28, 28, 256)       0         \n",
            "                                                                 \n",
            " block4_conv1 (Conv2D)       (None, 28, 28, 512)       1180160   \n",
            "                                                                 \n",
            " block4_conv2 (Conv2D)       (None, 28, 28, 512)       2359808   \n",
            "                                                                 \n",
            " block4_conv3 (Conv2D)       (None, 28, 28, 512)       2359808   \n",
            "                                                                 \n",
            " block4_pool (MaxPooling2D)  (None, 14, 14, 512)       0         \n",
            "                                                                 \n",
            " block5_conv1 (Conv2D)       (None, 14, 14, 512)       2359808   \n",
            "                                                                 \n",
            " block5_conv2 (Conv2D)       (None, 14, 14, 512)       2359808   \n",
            "                                                                 \n",
            " block5_conv3 (Conv2D)       (None, 14, 14, 512)       2359808   \n",
            "                                                                 \n",
            " block5_pool (MaxPooling2D)  (None, 7, 7, 512)         0         \n",
            "                                                                 \n",
            " flatten_9 (Flatten)         (None, 25088)             0         \n",
            "                                                                 \n",
            " dense_9 (Dense)             (None, 2)                 50178     \n",
            "                                                                 \n",
            "=================================================================\n",
            "Total params: 14,764,866\n",
            "Trainable params: 50,178\n",
            "Non-trainable params: 14,714,688\n",
            "_________________________________________________________________\n"
          ]
        }
      ]
    },
    {
      "cell_type": "code",
      "source": [
        "history4 = train(model4_retain)"
      ],
      "metadata": {
        "id": "_UjcOYFkPn8-",
        "outputId": "8df93db4-edcb-4205-afdb-bb0c2e7a64ee",
        "colab": {
          "base_uri": "https://localhost:8080/"
        }
      },
      "execution_count": null,
      "outputs": [
        {
          "output_type": "stream",
          "name": "stdout",
          "text": [
            "Epoch 1/50\n",
            "102/102 [==============================] - 1643s 16s/step - loss: 0.4116 - accuracy: 0.8278 - val_loss: 0.4020 - val_accuracy: 0.8138 - lr: 0.0010\n",
            "Epoch 2/50\n",
            "102/102 [==============================] - 24s 231ms/step - loss: 0.2022 - accuracy: 0.9365 - val_loss: 0.2767 - val_accuracy: 0.8785 - lr: 0.0010\n",
            "Epoch 3/50\n",
            "102/102 [==============================] - 23s 226ms/step - loss: 0.1466 - accuracy: 0.9549 - val_loss: 0.2925 - val_accuracy: 0.8662 - lr: 0.0010\n",
            "Epoch 4/50\n",
            "102/102 [==============================] - 23s 223ms/step - loss: 0.1214 - accuracy: 0.9610 - val_loss: 0.2376 - val_accuracy: 0.8923 - lr: 0.0010\n",
            "Epoch 5/50\n",
            "102/102 [==============================] - 23s 226ms/step - loss: 0.0984 - accuracy: 0.9687 - val_loss: 0.2171 - val_accuracy: 0.9123 - lr: 0.0010\n",
            "Epoch 6/50\n",
            "102/102 [==============================] - 23s 229ms/step - loss: 0.0940 - accuracy: 0.9699 - val_loss: 0.4113 - val_accuracy: 0.8046 - lr: 0.0010\n",
            "Epoch 7/50\n",
            "102/102 [==============================] - 23s 226ms/step - loss: 0.0842 - accuracy: 0.9730 - val_loss: 0.2745 - val_accuracy: 0.8831 - lr: 0.0010\n",
            "Epoch 8/50\n",
            "102/102 [==============================] - 23s 224ms/step - loss: 0.0777 - accuracy: 0.9754 - val_loss: 0.2717 - val_accuracy: 0.8908 - lr: 0.0010\n",
            "Epoch 9/50\n",
            "102/102 [==============================] - 23s 230ms/step - loss: 0.0626 - accuracy: 0.9822 - val_loss: 0.2191 - val_accuracy: 0.9062 - lr: 0.0010\n",
            "Epoch 10/50\n",
            "102/102 [==============================] - 23s 225ms/step - loss: 0.0578 - accuracy: 0.9850 - val_loss: 0.3027 - val_accuracy: 0.8708 - lr: 0.0010\n",
            "Epoch 11/50\n",
            "102/102 [==============================] - 23s 227ms/step - loss: 0.0545 - accuracy: 0.9862 - val_loss: 0.1957 - val_accuracy: 0.9215 - lr: 0.0010\n",
            "Epoch 12/50\n",
            "102/102 [==============================] - 27s 263ms/step - loss: 0.0561 - accuracy: 0.9843 - val_loss: 0.2146 - val_accuracy: 0.9185 - lr: 0.0010\n",
            "Epoch 13/50\n",
            "102/102 [==============================] - 23s 226ms/step - loss: 0.0415 - accuracy: 0.9896 - val_loss: 0.2033 - val_accuracy: 0.9169 - lr: 1.0000e-04\n",
            "Epoch 14/50\n",
            "102/102 [==============================] - 23s 227ms/step - loss: 0.0402 - accuracy: 0.9871 - val_loss: 0.2163 - val_accuracy: 0.9123 - lr: 1.0000e-04\n",
            "Epoch 15/50\n",
            "102/102 [==============================] - 23s 226ms/step - loss: 0.0395 - accuracy: 0.9896 - val_loss: 0.2094 - val_accuracy: 0.9154 - lr: 1.0000e-05\n",
            "Epoch 16/50\n",
            "102/102 [==============================] - 23s 228ms/step - loss: 0.0394 - accuracy: 0.9896 - val_loss: 0.2090 - val_accuracy: 0.9154 - lr: 1.0000e-06\n"
          ]
        }
      ]
    },
    {
      "cell_type": "code",
      "source": [
        "plot_train_evaluation(history4, model4_retain)"
      ],
      "metadata": {
        "id": "MwwYVk_-P1nW",
        "outputId": "5cbd94e2-fc54-4a62-a834-7bed1e6b858d",
        "colab": {
          "base_uri": "https://localhost:8080/",
          "height": 437
        }
      },
      "execution_count": null,
      "outputs": [
        {
          "output_type": "display_data",
          "data": {
            "text/plain": [
              "<Figure size 864x576 with 2 Axes>"
            ],
            "image/png": "[encoded data removed]"
          },
          "metadata": {
            "needs_background": "light"
          }
        },
        {
          "output_type": "stream",
          "name": "stdout",
          "text": [
            "average train accuracy:  0.9662944935262203\n",
            "max train accuracy:  0.9895641207695007\n",
            "average train loss:  0.10173173039220273\n",
            "min train loss:  0.03937060013413429\n",
            "#########################################################\n",
            "average train accuracy:  0.8886538445949554\n",
            "max train accuracy:  0.9215384721755981\n",
            "average train loss:  0.2595966625958681\n",
            "min train loss:  0.19570878148078918\n"
          ]
        }
      ]
    },
    {
      "cell_type": "code",
      "source": [
        "model4_retain.save(\"/content/gdrive/MyDrive/data-device/model/UK-DALE/diff/acrosshouse-fridge.h5\")"
      ],
      "metadata": {
        "id": "ZDq9VXwhY04v"
      },
      "execution_count": null,
      "outputs": []
    },
    {
      "cell_type": "markdown",
      "source": [
        "**Kettle**"
      ],
      "metadata": {
        "id": "ZRFEEpPoc6Av"
      }
    },
    {
      "cell_type": "code",
      "source": [
        "dir = '/content/gdrive/MyDrive/data-device/UK-DALE-data/diff/acrosshouse/train-kettle'\n",
        "train_datagen = ImageDataGenerator(\n",
        "      samplewise_std_normalization= True,\n",
        "      )\n",
        "\n",
        "train_generator = train_datagen.flow_from_directory(\n",
        "     dir,  # train folder\n",
        "     shuffle=True,  # shuffle the train dataset\n",
        "     target_size = (224,224)\n",
        "\n",
        ")"
      ],
      "metadata": {
        "colab": {
          "base_uri": "https://localhost:8080/"
        },
        "id": "S12k5qHWcQdY",
        "outputId": "b90d84b0-8872-4a2a-cdb4-9c730ede938a"
      },
      "execution_count": null,
      "outputs": [
        {
          "output_type": "stream",
          "name": "stdout",
          "text": [
            "Found 3258 images belonging to 2 classes.\n"
          ]
        }
      ]
    },
    {
      "cell_type": "code",
      "source": [
        "y_predict5 = model4.evaluate(train_generator5, return_dict = True, use_multiprocessing= True)"
      ],
      "metadata": {
        "colab": {
          "base_uri": "https://localhost:8080/"
        },
        "id": "SnrO0RYkdAfB",
        "outputId": "99292bc1-9090-40c0-ccac-becbc3c144c6"
      },
      "execution_count": null,
      "outputs": [
        {
          "output_type": "stream",
          "name": "stdout",
          "text": [
            "102/102 [==============================] - 298s 3s/step - loss: 2.0807 - accuracy: 0.3149\n"
          ]
        }
      ]
    },
    {
      "cell_type": "code",
      "source": [
        "y_predict5"
      ],
      "metadata": {
        "colab": {
          "base_uri": "https://localhost:8080/"
        },
        "id": "K8oqS8ExdK80",
        "outputId": "33dc5b28-0c95-49b9-daa9-cfdcaf3da038"
      },
      "execution_count": null,
      "outputs": [
        {
          "output_type": "execute_result",
          "data": {
            "text/plain": [
              "{'loss': 2.0807077884674072, 'accuracy': 0.31491711735725403}"
            ]
          },
          "metadata": {},
          "execution_count": 11
        }
      ]
    },
    {
      "cell_type": "markdown",
      "source": [
        "**Retain Kattle**"
      ],
      "metadata": {
        "id": "OhWdxY9oZetL"
      }
    },
    {
      "cell_type": "code",
      "source": [
        "model5_retain = pretrained_model(VGG16)"
      ],
      "metadata": {
        "id": "DzCxajG1ZWbU",
        "outputId": "0bc34da6-ca83-4a16-8341-573bc4acfcc0",
        "colab": {
          "base_uri": "https://localhost:8080/"
        }
      },
      "execution_count": null,
      "outputs": [
        {
          "output_type": "stream",
          "name": "stdout",
          "text": [
            "Model: \"vgg16\"\n",
            "_________________________________________________________________\n",
            " Layer (type)                Output Shape              Param #   \n",
            "=================================================================\n",
            " input_11 (InputLayer)       [(None, 224, 224, 3)]     0         \n",
            "                                                                 \n",
            " block1_conv1 (Conv2D)       (None, 224, 224, 64)      1792      \n",
            "                                                                 \n",
            " block1_conv2 (Conv2D)       (None, 224, 224, 64)      36928     \n",
            "                                                                 \n",
            " block1_pool (MaxPooling2D)  (None, 112, 112, 64)      0         \n",
            "                                                                 \n",
            " block2_conv1 (Conv2D)       (None, 112, 112, 128)     73856     \n",
            "                                                                 \n",
            " block2_conv2 (Conv2D)       (None, 112, 112, 128)     147584    \n",
            "                                                                 \n",
            " block2_pool (MaxPooling2D)  (None, 56, 56, 128)       0         \n",
            "                                                                 \n",
            " block3_conv1 (Conv2D)       (None, 56, 56, 256)       295168    \n",
            "                                                                 \n",
            " block3_conv2 (Conv2D)       (None, 56, 56, 256)       590080    \n",
            "                                                                 \n",
            " block3_conv3 (Conv2D)       (None, 56, 56, 256)       590080    \n",
            "                                                                 \n",
            " block3_pool (MaxPooling2D)  (None, 28, 28, 256)       0         \n",
            "                                                                 \n",
            " block4_conv1 (Conv2D)       (None, 28, 28, 512)       1180160   \n",
            "                                                                 \n",
            " block4_conv2 (Conv2D)       (None, 28, 28, 512)       2359808   \n",
            "                                                                 \n",
            " block4_conv3 (Conv2D)       (None, 28, 28, 512)       2359808   \n",
            "                                                                 \n",
            " block4_pool (MaxPooling2D)  (None, 14, 14, 512)       0         \n",
            "                                                                 \n",
            " block5_conv1 (Conv2D)       (None, 14, 14, 512)       2359808   \n",
            "                                                                 \n",
            " block5_conv2 (Conv2D)       (None, 14, 14, 512)       2359808   \n",
            "                                                                 \n",
            " block5_conv3 (Conv2D)       (None, 14, 14, 512)       2359808   \n",
            "                                                                 \n",
            " block5_pool (MaxPooling2D)  (None, 7, 7, 512)         0         \n",
            "                                                                 \n",
            "=================================================================\n",
            "Total params: 14,714,688\n",
            "Trainable params: 0\n",
            "Non-trainable params: 14,714,688\n",
            "_________________________________________________________________\n",
            "Model: \"model_10\"\n",
            "_________________________________________________________________\n",
            " Layer (type)                Output Shape              Param #   \n",
            "=================================================================\n",
            " input_11 (InputLayer)       [(None, 224, 224, 3)]     0         \n",
            "                                                                 \n",
            " block1_conv1 (Conv2D)       (None, 224, 224, 64)      1792      \n",
            "                                                                 \n",
            " block1_conv2 (Conv2D)       (None, 224, 224, 64)      36928     \n",
            "                                                                 \n",
            " block1_pool (MaxPooling2D)  (None, 112, 112, 64)      0         \n",
            "                                                                 \n",
            " block2_conv1 (Conv2D)       (None, 112, 112, 128)     73856     \n",
            "                                                                 \n",
            " block2_conv2 (Conv2D)       (None, 112, 112, 128)     147584    \n",
            "                                                                 \n",
            " block2_pool (MaxPooling2D)  (None, 56, 56, 128)       0         \n",
            "                                                                 \n",
            " block3_conv1 (Conv2D)       (None, 56, 56, 256)       295168    \n",
            "                                                                 \n",
            " block3_conv2 (Conv2D)       (None, 56, 56, 256)       590080    \n",
            "                                                                 \n",
            " block3_conv3 (Conv2D)       (None, 56, 56, 256)       590080    \n",
            "                                                                 \n",
            " block3_pool (MaxPooling2D)  (None, 28, 28, 256)       0         \n",
            "                                                                 \n",
            " block4_conv1 (Conv2D)       (None, 28, 28, 512)       1180160   \n",
            "                                                                 \n",
            " block4_conv2 (Conv2D)       (None, 28, 28, 512)       2359808   \n",
            "                                                                 \n",
            " block4_conv3 (Conv2D)       (None, 28, 28, 512)       2359808   \n",
            "                                                                 \n",
            " block4_pool (MaxPooling2D)  (None, 14, 14, 512)       0         \n",
            "                                                                 \n",
            " block5_conv1 (Conv2D)       (None, 14, 14, 512)       2359808   \n",
            "                                                                 \n",
            " block5_conv2 (Conv2D)       (None, 14, 14, 512)       2359808   \n",
            "                                                                 \n",
            " block5_conv3 (Conv2D)       (None, 14, 14, 512)       2359808   \n",
            "                                                                 \n",
            " block5_pool (MaxPooling2D)  (None, 7, 7, 512)         0         \n",
            "                                                                 \n",
            " flatten_10 (Flatten)        (None, 25088)             0         \n",
            "                                                                 \n",
            " dense_10 (Dense)            (None, 2)                 50178     \n",
            "                                                                 \n",
            "=================================================================\n",
            "Total params: 14,764,866\n",
            "Trainable params: 50,178\n",
            "Non-trainable params: 14,714,688\n",
            "_________________________________________________________________\n"
          ]
        }
      ]
    },
    {
      "cell_type": "code",
      "source": [
        "history5 = train(model5_retain)"
      ],
      "metadata": {
        "id": "67lntJo5ZbxT",
        "outputId": "981556e8-0338-445b-f9aa-362972f1c422",
        "colab": {
          "base_uri": "https://localhost:8080/"
        }
      },
      "execution_count": null,
      "outputs": [
        {
          "output_type": "stream",
          "name": "stdout",
          "text": [
            "Epoch 1/50\n",
            "102/102 [==============================] - 1065s 10s/step - loss: 0.5746 - accuracy: 0.6946 - val_loss: 1.1711 - val_accuracy: 0.2969 - lr: 0.0010\n",
            "Epoch 2/50\n",
            "102/102 [==============================] - 22s 218ms/step - loss: 0.4074 - accuracy: 0.8180 - val_loss: 1.5712 - val_accuracy: 0.3631 - lr: 0.0010\n",
            "Epoch 3/50\n",
            "102/102 [==============================] - 23s 227ms/step - loss: 0.3669 - accuracy: 0.8312 - val_loss: 1.6369 - val_accuracy: 0.1985 - lr: 0.0010\n",
            "Epoch 4/50\n",
            "102/102 [==============================] - 23s 230ms/step - loss: 0.3185 - accuracy: 0.8646 - val_loss: 1.9287 - val_accuracy: 0.3354 - lr: 0.0010\n",
            "Epoch 5/50\n",
            "102/102 [==============================] - 23s 225ms/step - loss: 0.2973 - accuracy: 0.8738 - val_loss: 1.9924 - val_accuracy: 0.2662 - lr: 0.0010\n",
            "Epoch 6/50\n",
            "102/102 [==============================] - 23s 224ms/step - loss: 0.2579 - accuracy: 0.8975 - val_loss: 1.9507 - val_accuracy: 0.1892 - lr: 0.0010\n",
            "Epoch 7/50\n",
            "102/102 [==============================] - 23s 227ms/step - loss: 0.2412 - accuracy: 0.9064 - val_loss: 2.1030 - val_accuracy: 0.2015 - lr: 0.0010\n",
            "Epoch 8/50\n",
            "102/102 [==============================] - 23s 227ms/step - loss: 0.2239 - accuracy: 0.9165 - val_loss: 2.0598 - val_accuracy: 0.1631 - lr: 0.0010\n",
            "Epoch 9/50\n",
            "102/102 [==============================] - 23s 227ms/step - loss: 0.2334 - accuracy: 0.9070 - val_loss: 2.1808 - val_accuracy: 0.1569 - lr: 0.0010\n",
            "Epoch 10/50\n",
            "102/102 [==============================] - 23s 226ms/step - loss: 0.1880 - accuracy: 0.9349 - val_loss: 2.1763 - val_accuracy: 0.1523 - lr: 1.0000e-04\n",
            "Epoch 11/50\n",
            "102/102 [==============================] - 23s 226ms/step - loss: 0.1846 - accuracy: 0.9398 - val_loss: 2.1687 - val_accuracy: 0.1446 - lr: 1.0000e-04\n",
            "Epoch 12/50\n",
            "102/102 [==============================] - 23s 227ms/step - loss: 0.1812 - accuracy: 0.9408 - val_loss: 2.2258 - val_accuracy: 0.1738 - lr: 1.0000e-04\n",
            "Epoch 13/50\n",
            "102/102 [==============================] - 23s 226ms/step - loss: 0.1806 - accuracy: 0.9420 - val_loss: 2.1883 - val_accuracy: 0.1492 - lr: 1.0000e-04\n",
            "Epoch 14/50\n",
            "102/102 [==============================] - 24s 233ms/step - loss: 0.1796 - accuracy: 0.9441 - val_loss: 2.2045 - val_accuracy: 0.1554 - lr: 1.0000e-04\n",
            "Epoch 15/50\n",
            "102/102 [==============================] - 24s 237ms/step - loss: 0.1784 - accuracy: 0.9423 - val_loss: 2.1965 - val_accuracy: 0.1462 - lr: 1.0000e-04\n",
            "Epoch 16/50\n",
            "102/102 [==============================] - 25s 244ms/step - loss: 0.1751 - accuracy: 0.9457 - val_loss: 2.2025 - val_accuracy: 0.1508 - lr: 1.0000e-05\n",
            "Epoch 17/50\n",
            "102/102 [==============================] - 23s 228ms/step - loss: 0.1751 - accuracy: 0.9451 - val_loss: 2.1993 - val_accuracy: 0.1446 - lr: 1.0000e-05\n",
            "Epoch 18/50\n",
            "102/102 [==============================] - 24s 233ms/step - loss: 0.1747 - accuracy: 0.9466 - val_loss: 2.2001 - val_accuracy: 0.1446 - lr: 1.0000e-06\n",
            "Epoch 19/50\n",
            "102/102 [==============================] - 23s 230ms/step - loss: 0.1747 - accuracy: 0.9463 - val_loss: 2.2009 - val_accuracy: 0.1446 - lr: 1.0000e-06\n",
            "Epoch 20/50\n",
            "102/102 [==============================] - 24s 232ms/step - loss: 0.1746 - accuracy: 0.9460 - val_loss: 2.2009 - val_accuracy: 0.1446 - lr: 1.0000e-07\n",
            "Epoch 21/50\n",
            "102/102 [==============================] - 24s 233ms/step - loss: 0.1746 - accuracy: 0.9460 - val_loss: 2.2009 - val_accuracy: 0.1446 - lr: 1.0000e-08\n"
          ]
        }
      ]
    },
    {
      "cell_type": "code",
      "source": [
        "plot_train_evaluation(history5, model5_retain)"
      ],
      "metadata": {
        "id": "eF5ETpGnZ0FZ",
        "outputId": "8b5eadef-0108-4353-d25d-b78b39ef45ee",
        "colab": {
          "base_uri": "https://localhost:8080/",
          "height": 437
        }
      },
      "execution_count": null,
      "outputs": [
        {
          "output_type": "display_data",
          "data": {
            "text/plain": [
              "<Figure size 864x576 with 2 Axes>"
            ],
            "image/png": "[encoded data removed]"
          },
          "metadata": {
            "needs_background": "light"
          }
        },
        {
          "output_type": "stream",
          "name": "stdout",
          "text": [
            "average train accuracy:  0.906150431860061\n",
            "max train accuracy:  0.9465929865837097\n",
            "average train loss:  0.24106468118372418\n",
            "min train loss:  0.1746070832014084\n",
            "#########################################################\n",
            "average train accuracy:  0.18886446668988183\n",
            "max train accuracy:  0.36307692527770996\n",
            "average train loss:  2.0456710940315608\n",
            "min train loss:  1.1710854768753052\n"
          ]
        }
      ]
    },
    {
      "cell_type": "code",
      "source": [
        "model5_retain.save(\"/content/gdrive/MyDrive/data-device/model/UK-DALE/diff/acrosshouse-kattle.h5\")"
      ],
      "metadata": {
        "id": "zRYsWun4gnEM"
      },
      "execution_count": null,
      "outputs": []
    },
    {
      "cell_type": "markdown",
      "source": [
        "**Washer Dryer**"
      ],
      "metadata": {
        "id": "Sq6V9goKdHqZ"
      }
    },
    {
      "cell_type": "code",
      "source": [
        "dir = '/content/gdrive/MyDrive/data-device/UK-DALE-data/diff/acrosshouse/train-washer'\n",
        "train_datagen = ImageDataGenerator(\n",
        "      samplewise_std_normalization= True,\n",
        "      )\n",
        "\n",
        "train_generator = train_datagen.flow_from_directory(\n",
        "     dir,  # train folder\n",
        "     shuffle=True,  # shuffle the train dataset\n",
        "     target_size = (224,224)\n",
        "\n",
        ")"
      ],
      "metadata": {
        "colab": {
          "base_uri": "https://localhost:8080/"
        },
        "id": "XJcXLlgjdG6l",
        "outputId": "8c68d114-e2bf-40f6-bdc1-716db20001a7"
      },
      "execution_count": null,
      "outputs": [
        {
          "output_type": "stream",
          "name": "stdout",
          "text": [
            "Found 3258 images belonging to 2 classes.\n"
          ]
        }
      ]
    },
    {
      "cell_type": "code",
      "source": [
        "y_predict6 = model4.evaluate(train_generator, return_dict = True, use_multiprocessing= True)"
      ],
      "metadata": {
        "colab": {
          "base_uri": "https://localhost:8080/"
        },
        "id": "z6wKsMPYdkvi",
        "outputId": "0bf3302b-226c-4ddf-c9d2-b2c4d0c243b6"
      },
      "execution_count": null,
      "outputs": [
        {
          "output_type": "stream",
          "name": "stdout",
          "text": [
            "102/102 [==============================] - 434s 4s/step - loss: 0.1479 - accuracy: 0.9586\n"
          ]
        }
      ]
    },
    {
      "cell_type": "code",
      "source": [
        "y_predict6"
      ],
      "metadata": {
        "colab": {
          "base_uri": "https://localhost:8080/"
        },
        "id": "sc14s155dqkj",
        "outputId": "ea826012-fea7-4161-9106-4d879e7261b3"
      },
      "execution_count": null,
      "outputs": [
        {
          "output_type": "execute_result",
          "data": {
            "text/plain": [
              "{'loss': 0.14791391789913177, 'accuracy': 0.958563506603241}"
            ]
          },
          "metadata": {},
          "execution_count": 14
        }
      ]
    },
    {
      "cell_type": "markdown",
      "source": [
        "**Retain with Washer Dryer**"
      ],
      "metadata": {
        "id": "7NKIoqQNe_7R"
      }
    },
    {
      "cell_type": "code",
      "source": [
        "model6_retain = pretrained_model(VGG16)"
      ],
      "metadata": {
        "id": "QaC3mXy1fJla",
        "outputId": "dfcbd75e-626c-41c7-f374-3cfbad950c87",
        "colab": {
          "base_uri": "https://localhost:8080/"
        }
      },
      "execution_count": null,
      "outputs": [
        {
          "output_type": "stream",
          "name": "stdout",
          "text": [
            "Model: \"vgg16\"\n",
            "_________________________________________________________________\n",
            " Layer (type)                Output Shape              Param #   \n",
            "=================================================================\n",
            " input_4 (InputLayer)        [(None, 224, 224, 3)]     0         \n",
            "                                                                 \n",
            " block1_conv1 (Conv2D)       (None, 224, 224, 64)      1792      \n",
            "                                                                 \n",
            " block1_conv2 (Conv2D)       (None, 224, 224, 64)      36928     \n",
            "                                                                 \n",
            " block1_pool (MaxPooling2D)  (None, 112, 112, 64)      0         \n",
            "                                                                 \n",
            " block2_conv1 (Conv2D)       (None, 112, 112, 128)     73856     \n",
            "                                                                 \n",
            " block2_conv2 (Conv2D)       (None, 112, 112, 128)     147584    \n",
            "                                                                 \n",
            " block2_pool (MaxPooling2D)  (None, 56, 56, 128)       0         \n",
            "                                                                 \n",
            " block3_conv1 (Conv2D)       (None, 56, 56, 256)       295168    \n",
            "                                                                 \n",
            " block3_conv2 (Conv2D)       (None, 56, 56, 256)       590080    \n",
            "                                                                 \n",
            " block3_conv3 (Conv2D)       (None, 56, 56, 256)       590080    \n",
            "                                                                 \n",
            " block3_pool (MaxPooling2D)  (None, 28, 28, 256)       0         \n",
            "                                                                 \n",
            " block4_conv1 (Conv2D)       (None, 28, 28, 512)       1180160   \n",
            "                                                                 \n",
            " block4_conv2 (Conv2D)       (None, 28, 28, 512)       2359808   \n",
            "                                                                 \n",
            " block4_conv3 (Conv2D)       (None, 28, 28, 512)       2359808   \n",
            "                                                                 \n",
            " block4_pool (MaxPooling2D)  (None, 14, 14, 512)       0         \n",
            "                                                                 \n",
            " block5_conv1 (Conv2D)       (None, 14, 14, 512)       2359808   \n",
            "                                                                 \n",
            " block5_conv2 (Conv2D)       (None, 14, 14, 512)       2359808   \n",
            "                                                                 \n",
            " block5_conv3 (Conv2D)       (None, 14, 14, 512)       2359808   \n",
            "                                                                 \n",
            " block5_pool (MaxPooling2D)  (None, 7, 7, 512)         0         \n",
            "                                                                 \n",
            "=================================================================\n",
            "Total params: 14,714,688\n",
            "Trainable params: 0\n",
            "Non-trainable params: 14,714,688\n",
            "_________________________________________________________________\n",
            "Model: \"model_3\"\n",
            "_________________________________________________________________\n",
            " Layer (type)                Output Shape              Param #   \n",
            "=================================================================\n",
            " input_4 (InputLayer)        [(None, 224, 224, 3)]     0         \n",
            "                                                                 \n",
            " block1_conv1 (Conv2D)       (None, 224, 224, 64)      1792      \n",
            "                                                                 \n",
            " block1_conv2 (Conv2D)       (None, 224, 224, 64)      36928     \n",
            "                                                                 \n",
            " block1_pool (MaxPooling2D)  (None, 112, 112, 64)      0         \n",
            "                                                                 \n",
            " block2_conv1 (Conv2D)       (None, 112, 112, 128)     73856     \n",
            "                                                                 \n",
            " block2_conv2 (Conv2D)       (None, 112, 112, 128)     147584    \n",
            "                                                                 \n",
            " block2_pool (MaxPooling2D)  (None, 56, 56, 128)       0         \n",
            "                                                                 \n",
            " block3_conv1 (Conv2D)       (None, 56, 56, 256)       295168    \n",
            "                                                                 \n",
            " block3_conv2 (Conv2D)       (None, 56, 56, 256)       590080    \n",
            "                                                                 \n",
            " block3_conv3 (Conv2D)       (None, 56, 56, 256)       590080    \n",
            "                                                                 \n",
            " block3_pool (MaxPooling2D)  (None, 28, 28, 256)       0         \n",
            "                                                                 \n",
            " block4_conv1 (Conv2D)       (None, 28, 28, 512)       1180160   \n",
            "                                                                 \n",
            " block4_conv2 (Conv2D)       (None, 28, 28, 512)       2359808   \n",
            "                                                                 \n",
            " block4_conv3 (Conv2D)       (None, 28, 28, 512)       2359808   \n",
            "                                                                 \n",
            " block4_pool (MaxPooling2D)  (None, 14, 14, 512)       0         \n",
            "                                                                 \n",
            " block5_conv1 (Conv2D)       (None, 14, 14, 512)       2359808   \n",
            "                                                                 \n",
            " block5_conv2 (Conv2D)       (None, 14, 14, 512)       2359808   \n",
            "                                                                 \n",
            " block5_conv3 (Conv2D)       (None, 14, 14, 512)       2359808   \n",
            "                                                                 \n",
            " block5_pool (MaxPooling2D)  (None, 7, 7, 512)         0         \n",
            "                                                                 \n",
            " flatten_3 (Flatten)         (None, 25088)             0         \n",
            "                                                                 \n",
            " dense_3 (Dense)             (None, 2)                 50178     \n",
            "                                                                 \n",
            "=================================================================\n",
            "Total params: 14,764,866\n",
            "Trainable params: 50,178\n",
            "Non-trainable params: 14,714,688\n",
            "_________________________________________________________________\n"
          ]
        }
      ]
    },
    {
      "cell_type": "code",
      "source": [
        "history6 = train(model6_retain)"
      ],
      "metadata": {
        "id": "z3X-h1xzfL2D",
        "outputId": "b764f3ac-89c4-4bbb-d7fb-654f89704658",
        "colab": {
          "base_uri": "https://localhost:8080/"
        }
      },
      "execution_count": null,
      "outputs": [
        {
          "output_type": "stream",
          "name": "stdout",
          "text": [
            "Epoch 1/50\n",
            "102/102 [==============================] - 406s 4s/step - loss: 0.4617 - accuracy: 0.7904 - val_loss: 0.3501 - val_accuracy: 0.8677 - lr: 0.0010\n",
            "Epoch 2/50\n",
            "102/102 [==============================] - 22s 213ms/step - loss: 0.2539 - accuracy: 0.9107 - val_loss: 0.2765 - val_accuracy: 0.8969 - lr: 0.0010\n",
            "Epoch 3/50\n",
            "102/102 [==============================] - 22s 217ms/step - loss: 0.1961 - accuracy: 0.9371 - val_loss: 0.2389 - val_accuracy: 0.9138 - lr: 0.0010\n",
            "Epoch 4/50\n",
            "102/102 [==============================] - 23s 227ms/step - loss: 0.1653 - accuracy: 0.9521 - val_loss: 0.2212 - val_accuracy: 0.9246 - lr: 0.0010\n",
            "Epoch 5/50\n",
            "102/102 [==============================] - 23s 223ms/step - loss: 0.1361 - accuracy: 0.9626 - val_loss: 0.2197 - val_accuracy: 0.9108 - lr: 0.0010\n",
            "Epoch 6/50\n",
            "102/102 [==============================] - 23s 228ms/step - loss: 0.1188 - accuracy: 0.9687 - val_loss: 0.1915 - val_accuracy: 0.9323 - lr: 0.0010\n",
            "Epoch 7/50\n",
            "102/102 [==============================] - 23s 228ms/step - loss: 0.1079 - accuracy: 0.9702 - val_loss: 0.1822 - val_accuracy: 0.9323 - lr: 0.0010\n",
            "Epoch 8/50\n",
            "102/102 [==============================] - 24s 233ms/step - loss: 0.0955 - accuracy: 0.9736 - val_loss: 0.1639 - val_accuracy: 0.9431 - lr: 0.0010\n",
            "Epoch 9/50\n",
            "102/102 [==============================] - 23s 229ms/step - loss: 0.0887 - accuracy: 0.9773 - val_loss: 0.2147 - val_accuracy: 0.9108 - lr: 0.0010\n",
            "Epoch 10/50\n",
            "102/102 [==============================] - 23s 228ms/step - loss: 0.0850 - accuracy: 0.9770 - val_loss: 0.1983 - val_accuracy: 0.9446 - lr: 0.0010\n",
            "Epoch 11/50\n",
            "102/102 [==============================] - 23s 228ms/step - loss: 0.0695 - accuracy: 0.9840 - val_loss: 0.1617 - val_accuracy: 0.9415 - lr: 1.0000e-04\n",
            "Epoch 12/50\n",
            "102/102 [==============================] - 24s 232ms/step - loss: 0.0653 - accuracy: 0.9837 - val_loss: 0.1599 - val_accuracy: 0.9400 - lr: 1.0000e-04\n",
            "Epoch 13/50\n",
            "102/102 [==============================] - 23s 228ms/step - loss: 0.0640 - accuracy: 0.9856 - val_loss: 0.1589 - val_accuracy: 0.9415 - lr: 1.0000e-05\n",
            "Epoch 14/50\n",
            "102/102 [==============================] - 23s 228ms/step - loss: 0.0639 - accuracy: 0.9859 - val_loss: 0.1599 - val_accuracy: 0.9385 - lr: 1.0000e-05\n",
            "Epoch 15/50\n",
            "102/102 [==============================] - 23s 229ms/step - loss: 0.0638 - accuracy: 0.9862 - val_loss: 0.1587 - val_accuracy: 0.9415 - lr: 1.0000e-05\n",
            "Epoch 16/50\n",
            "102/102 [==============================] - 24s 233ms/step - loss: 0.0637 - accuracy: 0.9859 - val_loss: 0.1586 - val_accuracy: 0.9415 - lr: 1.0000e-05\n",
            "Epoch 17/50\n",
            "102/102 [==============================] - 23s 228ms/step - loss: 0.0635 - accuracy: 0.9859 - val_loss: 0.1586 - val_accuracy: 0.9415 - lr: 1.0000e-06\n",
            "Epoch 18/50\n",
            "102/102 [==============================] - 23s 228ms/step - loss: 0.0635 - accuracy: 0.9859 - val_loss: 0.1586 - val_accuracy: 0.9415 - lr: 1.0000e-07\n"
          ]
        }
      ]
    },
    {
      "cell_type": "code",
      "source": [
        "plot_train_evaluation(history6, model6_retain)"
      ],
      "metadata": {
        "id": "hMfKaHIWfjJr",
        "outputId": "00ca5256-8325-4dff-cc72-6309d32b786f",
        "colab": {
          "base_uri": "https://localhost:8080/",
          "height": 437
        }
      },
      "execution_count": null,
      "outputs": [
        {
          "output_type": "display_data",
          "data": {
            "text/plain": [
              "<Figure size 864x576 with 2 Axes>"
            ],
            "image/png": "[encoded data removed]"
          },
          "metadata": {
            "needs_background": "light"
          }
        },
        {
          "output_type": "stream",
          "name": "stdout",
          "text": [
            "average train accuracy:  0.9612577557563782\n",
            "max train accuracy:  0.9861878156661987\n",
            "average train loss:  0.12368378457095888\n",
            "min train loss:  0.0635218545794487\n",
            "#########################################################\n",
            "average train accuracy:  0.928034183051851\n",
            "max train accuracy:  0.944615364074707\n",
            "average train loss:  0.19622352553738487\n",
            "min train loss:  0.15855319797992706\n"
          ]
        }
      ]
    },
    {
      "cell_type": "markdown",
      "source": [
        "## REDD"
      ],
      "metadata": {
        "id": "gTllBP_cduYz"
      }
    },
    {
      "cell_type": "markdown",
      "source": [
        "### Building1"
      ],
      "metadata": {
        "id": "7Ch9jnhbe5Y0"
      }
    },
    {
      "cell_type": "markdown",
      "source": [
        "**fridge**"
      ],
      "metadata": {
        "id": "tku6C-DhgSOn"
      }
    },
    {
      "cell_type": "code",
      "source": [
        "dir7 = '/content/gdrive/MyDrive/data-device/REDD-data/diff/building1/train-fridge'\n",
        "train_datagen7 = ImageDataGenerator(\n",
        "      samplewise_std_normalization= True,\n",
        "      )\n",
        "\n",
        "train_generator7 = train_datagen7.flow_from_directory(\n",
        "     dir7,  # train folder\n",
        "     shuffle = True,  # shuffle the train dataset\n",
        "     target_size = (224,224)\n",
        "\n",
        ")"
      ],
      "metadata": {
        "colab": {
          "base_uri": "https://localhost:8080/"
        },
        "id": "gFwMOXsxdtB6",
        "outputId": "d356ede4-20ca-4285-83c5-16405d129943"
      },
      "execution_count": null,
      "outputs": [
        {
          "output_type": "stream",
          "name": "stdout",
          "text": [
            "Found 72 images belonging to 2 classes.\n"
          ]
        }
      ]
    },
    {
      "cell_type": "code",
      "source": [
        "y_predict7 = model4.evaluate(train_generator7, return_dict = True, use_multiprocessing= True)"
      ],
      "metadata": {
        "colab": {
          "base_uri": "https://localhost:8080/"
        },
        "id": "dCQjXCkBfzV9",
        "outputId": "888a417c-dc1f-4cb4-ae16-2e9aced83496"
      },
      "execution_count": null,
      "outputs": [
        {
          "output_type": "stream",
          "name": "stdout",
          "text": [
            "3/3 [==============================] - 10s 5s/step - loss: 1.0809 - accuracy: 0.4861\n"
          ]
        }
      ]
    },
    {
      "cell_type": "code",
      "source": [
        "y_predict7"
      ],
      "metadata": {
        "colab": {
          "base_uri": "https://localhost:8080/"
        },
        "id": "gDCwdQ6DgQgS",
        "outputId": "61b545a5-6c95-47da-d3b6-ec8a73987005"
      },
      "execution_count": null,
      "outputs": [
        {
          "output_type": "execute_result",
          "data": {
            "text/plain": [
              "{'loss': 1.0808768272399902, 'accuracy': 0.4861111044883728}"
            ]
          },
          "metadata": {},
          "execution_count": 18
        }
      ]
    },
    {
      "cell_type": "markdown",
      "source": [
        "**microwave**"
      ],
      "metadata": {
        "id": "loYfSRIXfzDF"
      }
    },
    {
      "cell_type": "code",
      "source": [
        "dir8 = '/content/gdrive/MyDrive/data-device/REDD-data/diff/building1/train-microwave'\n",
        "train_datagen8 = ImageDataGenerator(\n",
        "      samplewise_std_normalization= True,\n",
        "      )\n",
        "\n",
        "train_generator8 = train_datagen8.flow_from_directory(\n",
        "     dir8,  # train folder\n",
        "     shuffle = True,  # shuffle the train dataset\n",
        "     target_size = (224,224)\n",
        "\n",
        ")"
      ],
      "metadata": {
        "colab": {
          "base_uri": "https://localhost:8080/"
        },
        "id": "Dw00a4dOgV3W",
        "outputId": "9d9837c8-9b1f-4af2-ee86-75b6559f3d29"
      },
      "execution_count": null,
      "outputs": [
        {
          "output_type": "stream",
          "name": "stdout",
          "text": [
            "Found 72 images belonging to 2 classes.\n"
          ]
        }
      ]
    },
    {
      "cell_type": "code",
      "source": [
        "y_predict8 = model4.evaluate(train_generator8, return_dict = True, use_multiprocessing= True)"
      ],
      "metadata": {
        "colab": {
          "base_uri": "https://localhost:8080/"
        },
        "id": "69v1rMisghnh",
        "outputId": "e70c5581-7cb7-47a5-e65c-13c8ef7c666e"
      },
      "execution_count": null,
      "outputs": [
        {
          "output_type": "stream",
          "name": "stdout",
          "text": [
            "3/3 [==============================] - 7s 4s/step - loss: 1.0985 - accuracy: 0.4861\n"
          ]
        }
      ]
    },
    {
      "cell_type": "code",
      "source": [
        "y_predict8"
      ],
      "metadata": {
        "colab": {
          "base_uri": "https://localhost:8080/"
        },
        "id": "YW-EJNKBgs5P",
        "outputId": "cb70b3d8-be84-435a-8845-55556793fa24"
      },
      "execution_count": null,
      "outputs": [
        {
          "output_type": "execute_result",
          "data": {
            "text/plain": [
              "{'loss': 1.0984779596328735, 'accuracy': 0.4861111044883728}"
            ]
          },
          "metadata": {},
          "execution_count": 21
        }
      ]
    },
    {
      "cell_type": "markdown",
      "source": [
        "**Washer Dryer**"
      ],
      "metadata": {
        "id": "Q0LvkPZHguem"
      }
    },
    {
      "cell_type": "code",
      "source": [
        "dir9 = '/content/gdrive/MyDrive/data-device/REDD-data/diff/building1/train-washer'\n",
        "train_datagen9 = ImageDataGenerator(\n",
        "      samplewise_std_normalization= True,\n",
        "      )\n",
        "\n",
        "train_generator9 = train_datagen9.flow_from_directory(\n",
        "     dir9,  # train folder\n",
        "     shuffle = True,  # shuffle the train dataset\n",
        "     target_size = (224,224)\n",
        "\n",
        ")"
      ],
      "metadata": {
        "colab": {
          "base_uri": "https://localhost:8080/"
        },
        "id": "21vEUBzogt_X",
        "outputId": "59dd5a71-2456-4935-f979-3e13e977139c"
      },
      "execution_count": null,
      "outputs": [
        {
          "output_type": "stream",
          "name": "stdout",
          "text": [
            "Found 72 images belonging to 2 classes.\n"
          ]
        },
        {
          "output_type": "stream",
          "name": "stderr",
          "text": [
            "/usr/local/lib/python3.7/dist-packages/keras_preprocessing/image/image_data_generator.py:356: UserWarning: This ImageDataGenerator specifies `samplewise_std_normalization`, which overrides setting of `samplewise_center`.\n",
            "  warnings.warn('This ImageDataGenerator specifies '\n"
          ]
        }
      ]
    },
    {
      "cell_type": "code",
      "source": [
        "y_predict9 = model4.evaluate(train_generator9, return_dict = True, use_multiprocessing= True)"
      ],
      "metadata": {
        "colab": {
          "base_uri": "https://localhost:8080/"
        },
        "id": "aahQFFS0hAMC",
        "outputId": "75d34487-20cc-43f2-bd2b-7b2430eae129"
      },
      "execution_count": null,
      "outputs": [
        {
          "output_type": "stream",
          "name": "stdout",
          "text": [
            "3/3 [==============================] - 1s 132ms/step - loss: 1.0906 - accuracy: 0.4861\n"
          ]
        }
      ]
    },
    {
      "cell_type": "code",
      "source": [
        "y_predict9"
      ],
      "metadata": {
        "colab": {
          "base_uri": "https://localhost:8080/"
        },
        "id": "ApsWVUKkhDG8",
        "outputId": "58d4acf0-7a93-4f46-e4ba-bb7460b9dca3"
      },
      "execution_count": null,
      "outputs": [
        {
          "output_type": "execute_result",
          "data": {
            "text/plain": [
              "{'loss': 1.0905508995056152, 'accuracy': 0.4861111044883728}"
            ]
          },
          "metadata": {},
          "execution_count": 34
        }
      ]
    },
    {
      "cell_type": "markdown",
      "source": [
        "###Across House"
      ],
      "metadata": {
        "id": "p7BWBnHyhRWn"
      }
    },
    {
      "cell_type": "markdown",
      "source": [
        "**fridge**"
      ],
      "metadata": {
        "id": "mAac948Vhy0S"
      }
    },
    {
      "cell_type": "code",
      "source": [
        "dir10 = '/content/gdrive/MyDrive/data-device/REDD-data/diff/across-builg/train-fridge'\n",
        "train_datagen10 = ImageDataGenerator(\n",
        "      samplewise_std_normalization= True,\n",
        "      )\n",
        "\n",
        "train_generator10 = train_datagen10.flow_from_directory(\n",
        "     dir10,  # train folder\n",
        "     shuffle = True,  # shuffle the train dataset\n",
        "     target_size = (224,224)\n",
        "\n",
        ")"
      ],
      "metadata": {
        "colab": {
          "base_uri": "https://localhost:8080/"
        },
        "id": "0LvqkULlhEAh",
        "outputId": "e543a191-59aa-4274-828c-2ab7f75adcd1"
      },
      "execution_count": null,
      "outputs": [
        {
          "output_type": "stream",
          "name": "stdout",
          "text": [
            "Found 72 images belonging to 2 classes.\n"
          ]
        }
      ]
    },
    {
      "cell_type": "code",
      "source": [
        "y_predict10 = model4.evaluate(train_generator10, return_dict = True, use_multiprocessing= True)"
      ],
      "metadata": {
        "colab": {
          "base_uri": "https://localhost:8080/"
        },
        "id": "0iEb5kULk1Cs",
        "outputId": "ae67e4a0-7ec8-47bf-9f7a-7eb7724f3afc"
      },
      "execution_count": null,
      "outputs": [
        {
          "output_type": "stream",
          "name": "stdout",
          "text": [
            "3/3 [==============================] - 7s 3s/step - loss: 0.8116 - accuracy: 0.5833\n"
          ]
        }
      ]
    },
    {
      "cell_type": "markdown",
      "source": [
        "**Microwave**"
      ],
      "metadata": {
        "id": "VC5XkgTYlMFa"
      }
    },
    {
      "cell_type": "code",
      "source": [
        "dir11 = '/content/gdrive/MyDrive/data-device/REDD-data/diff/across-builg/train-microwave'\n",
        "train_datagen11 = ImageDataGenerator(\n",
        "      samplewise_std_normalization= True,\n",
        "      )\n",
        "\n",
        "train_generator11 = train_datagen11.flow_from_directory(\n",
        "     dir11,  # train folder\n",
        "     shuffle = True,  # shuffle the train dataset\n",
        "     target_size = (224,224)\n",
        "\n",
        ")"
      ],
      "metadata": {
        "colab": {
          "base_uri": "https://localhost:8080/"
        },
        "id": "qOhjho1uk6pT",
        "outputId": "c7cec91c-5cd6-44a3-8ff1-717fc185903c"
      },
      "execution_count": null,
      "outputs": [
        {
          "output_type": "stream",
          "name": "stderr",
          "text": [
            "/usr/local/lib/python3.7/dist-packages/keras_preprocessing/image/image_data_generator.py:356: UserWarning: This ImageDataGenerator specifies `samplewise_std_normalization`, which overrides setting of `samplewise_center`.\n",
            "  warnings.warn('This ImageDataGenerator specifies '\n"
          ]
        },
        {
          "output_type": "stream",
          "name": "stdout",
          "text": [
            "Found 72 images belonging to 2 classes.\n"
          ]
        }
      ]
    },
    {
      "cell_type": "code",
      "source": [
        "y_predict11 = model4.evaluate(train_generator11, return_dict = True, use_multiprocessing= True)"
      ],
      "metadata": {
        "colab": {
          "base_uri": "https://localhost:8080/"
        },
        "id": "pxmm3UVblVLS",
        "outputId": "a87b65fe-4bd3-4ca4-b804-58b26de6bf7d"
      },
      "execution_count": null,
      "outputs": [
        {
          "output_type": "stream",
          "name": "stdout",
          "text": [
            "3/3 [==============================] - 8s 4s/step - loss: 1.0315 - accuracy: 0.5139\n"
          ]
        }
      ]
    },
    {
      "cell_type": "code",
      "source": [
        "y_predict11 "
      ],
      "metadata": {
        "colab": {
          "base_uri": "https://localhost:8080/"
        },
        "id": "t02clap5lad-",
        "outputId": "0776ecfa-2219-4a58-f2f2-2fa18023e166"
      },
      "execution_count": null,
      "outputs": [
        {
          "output_type": "execute_result",
          "data": {
            "text/plain": [
              "{'loss': 1.0315206050872803, 'accuracy': 0.5138888955116272}"
            ]
          },
          "metadata": {},
          "execution_count": 39
        }
      ]
    },
    {
      "cell_type": "markdown",
      "source": [
        "**Washer Dryer**"
      ],
      "metadata": {
        "id": "71Mk1B44lhQA"
      }
    },
    {
      "cell_type": "code",
      "source": [
        "dir12 = '/content/gdrive/MyDrive/data-device/REDD-data/diff/across-builg/train-washer'\n",
        "train_datagen12 = ImageDataGenerator(\n",
        "      samplewise_std_normalization= True,\n",
        "      )\n",
        "\n",
        "train_generator12 = train_datagen12.flow_from_directory(\n",
        "     dir12,  # train folder\n",
        "     shuffle = True,  # shuffle the train dataset\n",
        "     target_size = (224,224)\n",
        "\n",
        ")"
      ],
      "metadata": {
        "colab": {
          "base_uri": "https://localhost:8080/"
        },
        "id": "DK8iuauXlbmK",
        "outputId": "9ae2569a-3b16-4818-d8e6-2cfdf0c671c4"
      },
      "execution_count": null,
      "outputs": [
        {
          "output_type": "stream",
          "name": "stderr",
          "text": [
            "/usr/local/lib/python3.7/dist-packages/keras_preprocessing/image/image_data_generator.py:356: UserWarning: This ImageDataGenerator specifies `samplewise_std_normalization`, which overrides setting of `samplewise_center`.\n",
            "  warnings.warn('This ImageDataGenerator specifies '\n"
          ]
        },
        {
          "output_type": "stream",
          "name": "stdout",
          "text": [
            "Found 72 images belonging to 2 classes.\n"
          ]
        }
      ]
    },
    {
      "cell_type": "code",
      "source": [
        "y_predict12 = model4.evaluate(train_generator12, return_dict = True, use_multiprocessing= True)"
      ],
      "metadata": {
        "colab": {
          "base_uri": "https://localhost:8080/"
        },
        "id": "ySIiH_ZslnZa",
        "outputId": "e9bfa8af-8eaa-4849-cd84-85788fc380ab"
      },
      "execution_count": null,
      "outputs": [
        {
          "output_type": "stream",
          "name": "stdout",
          "text": [
            "3/3 [==============================] - 7s 3s/step - loss: 1.0585 - accuracy: 0.4861\n"
          ]
        }
      ]
    },
    {
      "cell_type": "code",
      "source": [
        "y_predict12"
      ],
      "metadata": {
        "colab": {
          "base_uri": "https://localhost:8080/"
        },
        "id": "0wftIH-IlxMk",
        "outputId": "3d636f3a-9be6-43cd-ce90-1595a9c72349"
      },
      "execution_count": null,
      "outputs": [
        {
          "output_type": "execute_result",
          "data": {
            "text/plain": [
              "{'loss': 1.0585179328918457, 'accuracy': 0.4861111044883728}"
            ]
          },
          "metadata": {},
          "execution_count": 42
        }
      ]
    }
  ],
  "metadata": {
    "colab": {
      "collapsed_sections": [],
      "provenance": [],
      "authorship_tag": "ABX9TyOfHwziy1bFif8ILwIVp5yG",
      "include_colab_link": true
    },
    "gpuClass": "standard",
    "kernelspec": {
      "display_name": "Python 3",
      "name": "python3"
    },
    "language_info": {
      "name": "python"
    },
    "accelerator": "GPU"
  },
  "nbformat": 4,
  "nbformat_minor": 0
}