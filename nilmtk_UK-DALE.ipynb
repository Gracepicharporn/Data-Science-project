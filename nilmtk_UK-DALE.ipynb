{
 "cells": [
  {
   "cell_type": "markdown",
   "id": "d88ba4b1",
   "metadata": {},
   "source": [
    "## 2. UK-DALE dataset"
   ]
  },
  {
   "cell_type": "markdown",
   "id": "0ae7a0be",
   "metadata": {},
   "source": [
    "* Import the important package for this project"
   ]
  },
  {
   "cell_type": "code",
   "execution_count": 1,
   "id": "117fcbe0",
   "metadata": {},
   "outputs": [],
   "source": [
    "import nilmtk\n",
    "from nilmtk import DataSet, MeterGroup, ElecMeter\n",
    "import numpy as np\n",
    "import pandas as pd\n",
    "import matplotlib as plt\n",
    "from nilmtk.utils import print_dict\n",
    "import matplotlib.pyplot as plt\n",
    "from matplotlib.dates import DateFormatter\n",
    "import matplotlib.font_manager\n",
    "from datetime import datetime, timedelta\n",
    "import matplotlib.pyplot as plt\n",
    "\n",
    "%matplotlib inline"
   ]
  },
  {
   "cell_type": "code",
   "execution_count": 2,
   "id": "236e75ee",
   "metadata": {},
   "outputs": [],
   "source": [
    "uk_dale = DataSet('ukdale.h5')"
   ]
  },
  {
   "cell_type": "markdown",
   "id": "a6db80fa",
   "metadata": {},
   "source": [
    "* explore the UK-DALE Metadata"
   ]
  },
  {
   "cell_type": "code",
   "execution_count": 4,
   "id": "5be51ef6",
   "metadata": {},
   "outputs": [
    {
     "data": {
      "text/html": [
       "<ul><li><strong>description_of_subjects</strong>: 4 MSc students and 1 PhD student.</li><li><strong>meter_devices</strong>: <ul><li><strong>EcoManagerTxPlug</strong>: <ul><li><strong>max_sample_period</strong>: 120</li><li><strong>model_url</strong>: <a href=\"https://shop.edfenergy.com/Item.aspx?id=540\">https://shop.edfenergy.com/Item.aspx?id=540</a></li><li><strong>wireless_configuration</strong>: <ul><li><strong>base</strong>: creators: [Jack Kelly] model: rfm_edf_ecomanager model_url: <a href=\"https://github.com/JackKelly/rfm_edf_ecomanager/\">https://github.com/JackKelly/rfm_edf_ecomanager/</a>\n",
       "</li><li><strong>protocol</strong>: custom</li><li><strong>carrier_frequency</strong>: 434</li></ul></li><li><strong>brand</strong>: EcoManager</li><li><strong>measurements</strong>: <ul><li>{'lower_limit': 0, 'upper_limit': 3300, 'physical_quantity': 'power', 'type': 'active'}</li></ul></li><li><strong>data_logger</strong>: <ul><li><strong>model</strong>: rfm_ecomanager_logger</li><li><strong>creators</strong>: <ul><li>Jack Kelly</li></ul></li><li><strong>model_url</strong>: <a href=\"https://github.com/JackKelly/rfm_ecomanager_logger\">https://github.com/JackKelly/rfm_ecomanager_logger</a></li></ul></li><li><strong>sample_period</strong>: 6</li><li><strong>wireless</strong>: True</li><li><strong>brand_url</strong>: <a href=\"http://www.edfenergy.com/products-services/for-your-home/ecomanager\">http://www.edfenergy.com/products-services/for-your-home/ecomanager</a></li><li><strong>model</strong>: EcoManagerTxPlug</li><li><strong>seller</strong>: EDF Energy</li><li><strong>manufacturer</strong>: Current Cost / Sailwider</li></ul></li><li><strong>CurrentCostTx</strong>: <ul><li><strong>max_sample_period</strong>: 120</li><li><strong>model_url</strong>: <a href=\"http://www.currentcost.com/product-transmitter.html\">http://www.currentcost.com/product-transmitter.html</a></li><li><strong>wireless_configuration</strong>: <ul><li><strong>base</strong>: creators: [Jack Kelly] model: rfm_edf_ecomanager model_url: <a href=\"https://github.com/JackKelly/rfm_edf_ecomanager/\">https://github.com/JackKelly/rfm_edf_ecomanager/</a>\n",
       "</li><li><strong>protocol</strong>: custom</li><li><strong>carrier_frequency</strong>: 434</li></ul></li><li><strong>measurements</strong>: <ul><li>{'lower_limit': 0, 'upper_limit': 25000, 'physical_quantity': 'power', 'type': 'apparent'}</li></ul></li><li><strong>data_logger</strong>: <ul><li><strong>model</strong>: rfm_ecomanager_logger</li><li><strong>creators</strong>: <ul><li>Jack Kelly</li></ul></li><li><strong>model_url</strong>: <a href=\"https://github.com/JackKelly/rfm_ecomanager_logger\">https://github.com/JackKelly/rfm_ecomanager_logger</a></li></ul></li><li><strong>sample_period</strong>: 6</li><li><strong>wireless</strong>: True</li><li><strong>model</strong>: CurrentCost Tx</li><li><strong>manufacturer</strong>: Current Cost</li></ul></li><li><strong>SoundCardPowerMeter</strong>: <ul><li><strong>max_sample_period</strong>: 3</li><li><strong>wireless</strong>: False</li><li><strong>model_url</strong>: <a href=\"https://github.com/JackKelly/snd_card_power_meter\">https://github.com/JackKelly/snd_card_power_meter</a></li><li><strong>model</strong>: Sound Card Power Meter</li><li><strong>measurements</strong>: <ul><li>{'lower_limit': 0, 'upper_limit': 25000, 'physical_quantity': 'power', 'type': 'active'}</li><li>{'lower_limit': 0, 'upper_limit': 25000, 'physical_quantity': 'power', 'type': 'apparent'}</li><li>{'lower_limit': 180, 'upper_limit': 275, 'physical_quantity': 'voltage', 'description': 'RMS voltage'}</li></ul></li><li><strong>manufacturer</strong>: Jack Kelly / Imperial College London</li><li><strong>sample_period</strong>: 1</li></ul></li><li><strong>EcoManagerWholeHouseTx</strong>: <ul><li><strong>max_sample_period</strong>: 120</li><li><strong>model_url</strong>: <a href=\"https://shop.edfenergy.com/Item.aspx?id=547\">https://shop.edfenergy.com/Item.aspx?id=547</a></li><li><strong>wireless_configuration</strong>: <ul><li><strong>base</strong>: creators: [Jack Kelly] model: rfm_edf_ecomanager model_url: <a href=\"https://github.com/JackKelly/rfm_edf_ecomanager/\">https://github.com/JackKelly/rfm_edf_ecomanager/</a>\n",
       "</li><li><strong>protocol</strong>: custom</li><li><strong>carrier_frequency</strong>: 434</li></ul></li><li><strong>brand</strong>: EcoManager</li><li><strong>measurements</strong>: <ul><li>{'lower_limit': 0, 'upper_limit': 25000, 'physical_quantity': 'power', 'type': 'apparent'}</li></ul></li><li><strong>data_logger</strong>: <ul><li><strong>model</strong>: rfm_ecomanager_logger</li><li><strong>creators</strong>: <ul><li>Jack Kelly</li></ul></li><li><strong>model_url</strong>: <a href=\"https://github.com/JackKelly/rfm_ecomanager_logger\">https://github.com/JackKelly/rfm_ecomanager_logger</a></li></ul></li><li><strong>sample_period</strong>: 6</li><li><strong>wireless</strong>: True</li><li><strong>brand_url</strong>: <a href=\"http://www.edfenergy.com/products-services/for-your-home/ecomanager\">http://www.edfenergy.com/products-services/for-your-home/ecomanager</a></li><li><strong>model</strong>: EcoManagerWholeHouseTx</li><li><strong>seller</strong>: EDF Energy</li><li><strong>site_meter</strong>: True</li><li><strong>manufacturer</strong>: Current Cost / Sailwider</li></ul></li></ul></li><li><strong>description</strong>: Appliance-by-appliance and whole-home power demand for 5 UK homes. Appliance power demand was recorded once every 6 seconds. Whole-home power demand was recorded once every 6 seconds for all homes and additionally at 16kHz for homes 1, 2 and 5. Detailed metadata is included.</li><li><strong>rights_list</strong>: <ul><li>{'name': 'Creative Commons Attribution 4.0 International (CC BY 4.0)', 'uri': 'http://creativecommons.org/licenses/by/4.0/'}</li></ul></li><li><strong>long_name</strong>: UK Domestic Appliance-Level Electricity</li><li><strong>geo_location</strong>: <ul><li><strong>latitude</strong>: 51.464462</li><li><strong>country</strong>: GB</li><li><strong>longitude</strong>: -0.076544</li><li><strong>locality</strong>: London</li></ul></li><li><strong>date</strong>: 2017-04-26</li><li><strong>timezone</strong>: Europe/London</li><li><strong>institution</strong>: Imperial College London</li><li><strong>subject</strong>: Disaggregated domestic electricity demand</li><li><strong>publisher</strong>: UK Energy Research Centre Energy Data Centre (UKERC EDC)</li><li><strong>funding</strong>: <ul><li>Jack Kelly's PhD is funded by an EPSRC DTA</li><li>Hardware necessary for this project was funded from Jack Kelly's Intel EU PhD Fellowship</li></ul></li><li><strong>name</strong>: UK-DALE</li><li><strong>number_of_buildings</strong>: 5</li><li><strong>related_documents</strong>: <ul><li>Jack Kelly and William Knottenbelt. The UK-DALE dataset, domestic appliance-level electricity demand and whole-house demand from five UK homes.  To appear in Scientific Data 2:150007.  DOI:10.1038/sdata.2015.7 arXiv:1404.0284 (2015).</li><li>Dataset is available for download from <a href=\"http://www.doc.ic.ac.uk/~dk3810/data/\">http://www.doc.ic.ac.uk/~dk3810/data/</a></li><li>Dataset is also available from the UK Energy Research Council's Energy Data Centre: The 1-second data is available from <a href=\"http://data.ukedc.rl.ac.uk/cgi-bin/dataset_catalogue/view.cgi.py?id=19\">http://data.ukedc.rl.ac.uk/cgi-bin/dataset_catalogue/view.cgi.py?id=19</a> and the 6-second data is available from <a href=\"http://data.ukedc.rl.ac.uk/cgi-bin/dataset_catalogue/view.cgi.py?id=18\">http://data.ukedc.rl.ac.uk/cgi-bin/dataset_catalogue/view.cgi.py?id=18</a> but please note that this archive is updated less frequently than the data on www.doc.ic.ac.uk/~dk3810/data/</li></ul></li><li><strong>contact</strong>: jack.kelly@imperial.ac.uk</li><li><strong>timeframe</strong>: <ul><li><strong>start</strong>: 2012-11-09T22:28:15+00:00</li><li><strong>end</strong>: 2017-04-26T18:35:53+01:00</li></ul></li><li><strong>geospatial_coverage</strong>: Southern England</li><li><strong>creators</strong>: <ul><li>Kelly, Jack</li></ul></li><li><strong>schema</strong>: <a href=\"https://github.com/nilmtk/nilm_metadata/tree/v0.2\">https://github.com/nilmtk/nilm_metadata/tree/v0.2</a></li></ul>"
      ],
      "text/plain": [
       "<IPython.core.display.HTML object>"
      ]
     },
     "metadata": {},
     "output_type": "display_data"
    }
   ],
   "source": [
    "print_dict(uk_dale.metadata)"
   ]
  },
  {
   "cell_type": "markdown",
   "id": "5c124c88",
   "metadata": {},
   "source": [
    "* explore the number of building in UK-DALE dataset"
   ]
  },
  {
   "cell_type": "code",
   "execution_count": 5,
   "id": "6df45371",
   "metadata": {},
   "outputs": [
    {
     "data": {
      "text/html": [
       "<ul><li><strong>1</strong>: Building(instance=1, dataset='UK-DALE')</li><li><strong>2</strong>: Building(instance=2, dataset='UK-DALE')</li><li><strong>3</strong>: Building(instance=3, dataset='UK-DALE')</li><li><strong>4</strong>: Building(instance=4, dataset='UK-DALE')</li><li><strong>5</strong>: Building(instance=5, dataset='UK-DALE')</li></ul>"
      ],
      "text/plain": [
       "<IPython.core.display.HTML object>"
      ]
     },
     "metadata": {},
     "output_type": "display_data"
    }
   ],
   "source": [
    "print_dict(uk_dale.buildings)"
   ]
  },
  {
   "cell_type": "markdown",
   "id": "e3f8df2e",
   "metadata": {},
   "source": [
    "* explore metadata UK-DALE in house 1"
   ]
  },
  {
   "cell_type": "code",
   "execution_count": 9,
   "id": "bb2e7335",
   "metadata": {},
   "outputs": [
    {
     "data": {
      "text/html": [
       "<ul><li><strong>description</strong>: Some individual appliance meters are switched off from the socket for significant portions of time.  These include (using original names): laptop, kettle, toaster, lcd_office, hifi_office, livingroom_s_lamp, soldering_iron, gigE_&_USBhub, hoover, iPad_charger, utilityrm_lamp, hair_dryer, straighteners, iron, childs_ds_lamp, office_lamp3, office_pc, gigE_switch</li><li><strong>description_of_occupants</strong>: 2 adults and 1 dog started living in the house in 2006 (i.e. before the dataset started recording).  One child born 2011-08-27 and a second child born 2014-04-27.</li><li><strong>original_name</strong>: house_1</li><li><strong>heating</strong>: <ul><li>natural gas</li></ul></li><li><strong>instance</strong>: 1</li><li><strong>building_type</strong>: end of terrace</li><li><strong>energy_improvements</strong>: <ul><li>solar thermal</li><li>loft insulation</li><li>solid wall insulation</li><li>double glazing</li></ul></li><li><strong>rooms</strong>: <ul><li>{'name': 'lounge', 'floor': 0}</li><li>{'instance': 1, 'name': 'hall', 'floor': 0}</li><li>{'instance': 2, 'name': 'hall', 'floor': 1}</li><li>{'name': 'kitchen', 'floor': 0}</li><li>{'name': 'utility', 'floor': 0}</li><li>{'name': 'dining room', 'floor': 0}</li><li>{'instance': 1, 'floor': 1, 'description': 'master bedroom', 'name': 'bedroom'}</li><li>{'instance': 2, 'floor': 1, 'description': \"kid's bedroom\", 'name': 'bedroom'}</li><li>{'instance': 1, 'floor': 1, 'description': 'occasionally used as a spare bedroom ', 'name': 'study'}</li><li>{'instance': 1, 'floor': 1, 'description': 'shower + bath + toilet + sink + cupboards + hot water tank + boiler + solar thermal pumping station', 'name': 'bathroom'}</li></ul></li><li><strong>ownership</strong>: bought</li><li><strong>timeframe</strong>: <ul><li><strong>start</strong>: 2012-11-09T22:28:15+00:00</li><li><strong>end</strong>: 2017-04-26T18:35:53+01:00</li></ul></li><li><strong>construction_year</strong>: 1905</li><li><strong>n_occupants</strong>: 4</li><li><strong>dataset</strong>: UK-DALE</li></ul>"
      ],
      "text/plain": [
       "<IPython.core.display.HTML object>"
      ]
     },
     "metadata": {},
     "output_type": "display_data"
    }
   ],
   "source": [
    "print_dict(uk_dale.buildings[1].metadata) "
   ]
  },
  {
   "cell_type": "markdown",
   "id": "c08f4617",
   "metadata": {},
   "source": [
    "* calculate the total energy in buliding 1"
   ]
  },
  {
   "cell_type": "code",
   "execution_count": 10,
   "id": "f32e20f8",
   "metadata": {},
   "outputs": [
    {
     "name": "stdout",
     "output_type": "stream",
     "text": [
      "Calculating total_energy for ElecMeterID(instance=54, building=1, dataset='UK-DALE') ...   "
     ]
    },
    {
     "name": "stderr",
     "output_type": "stream",
     "text": [
      "/opt/anaconda3/lib/python3.8/site-packages/nilmtk/preprocessing/clip.py:49: RuntimeWarning: No measurement limits for ('voltage', '').\n",
      "  warn('No measurement limits for {}.'.format(measurement), RuntimeWarning)\n"
     ]
    },
    {
     "data": {
      "text/plain": [
       "apparent   NaN\n",
       "dtype: float64"
      ]
     },
     "execution_count": 10,
     "metadata": {},
     "output_type": "execute_result"
    }
   ],
   "source": [
    "uk_dale.buildings[1].elec.total_energy()"
   ]
  },
  {
   "cell_type": "markdown",
   "id": "6cb5f5ce",
   "metadata": {},
   "source": [
    "* explore the main meter in buliding 1"
   ]
  },
  {
   "cell_type": "code",
   "execution_count": 12,
   "id": "52bc0dfd",
   "metadata": {},
   "outputs": [
    {
     "data": {
      "text/plain": [
       "ElecMeter(instance=54, building=1, dataset='UK-DALE', site_meter, appliances=[Appliance(type='immersion heater', instance=1), Appliance(type='water pump', instance=1), Appliance(type='security alarm', instance=1), Appliance(type='fan', instance=2), Appliance(type='drill', instance=1), Appliance(type='laptop computer', instance=2)])"
      ]
     },
     "execution_count": 12,
     "metadata": {},
     "output_type": "execute_result"
    }
   ],
   "source": [
    "uk_dale.buildings[1].elec.mains()"
   ]
  },
  {
   "cell_type": "markdown",
   "id": "f7886f03",
   "metadata": {},
   "source": [
    "* explore the appliance in buliding1"
   ]
  },
  {
   "cell_type": "code",
   "execution_count": 13,
   "id": "814556fc",
   "metadata": {},
   "outputs": [
    {
     "data": {
      "text/plain": [
       "[Appliance(type='fan', instance=2),\n",
       " Appliance(type='food processor', instance=1),\n",
       " Appliance(type='wireless phone charger', instance=1),\n",
       " Appliance(type='baby monitor', instance=2),\n",
       " Appliance(type='USB hub', instance=1),\n",
       " Appliance(type='active subwoofer', instance=1),\n",
       " Appliance(type='drill', instance=1),\n",
       " Appliance(type='security alarm', instance=1),\n",
       " Appliance(type='microwave', instance=1),\n",
       " Appliance(type='washer dryer', instance=2),\n",
       " Appliance(type='laptop computer', instance=1),\n",
       " Appliance(type='coffee maker', instance=1),\n",
       " Appliance(type='light', instance=2),\n",
       " Appliance(type='light', instance=8),\n",
       " Appliance(type='printer', instance=1),\n",
       " Appliance(type='light', instance=5),\n",
       " Appliance(type='mobile phone charger', instance=2),\n",
       " Appliance(type='light', instance=11),\n",
       " Appliance(type='light', instance=14),\n",
       " Appliance(type='radio', instance=1),\n",
       " Appliance(type='bouncy castle pump', instance=1),\n",
       " Appliance(type='soldering iron', instance=1),\n",
       " Appliance(type='fridge freezer', instance=1),\n",
       " Appliance(type='ethernet switch', instance=1),\n",
       " Appliance(type='toasted sandwich maker', instance=1),\n",
       " Appliance(type='television', instance=1),\n",
       " Appliance(type='mobile phone charger', instance=1),\n",
       " Appliance(type='fan', instance=1),\n",
       " Appliance(type='computer', instance=1),\n",
       " Appliance(type='baby monitor', instance=1),\n",
       " Appliance(type='hair straighteners', instance=1),\n",
       " Appliance(type='washer dryer', instance=1),\n",
       " Appliance(type='HTPC', instance=1),\n",
       " Appliance(type='hair dryer', instance=1),\n",
       " Appliance(type='light', instance=1),\n",
       " Appliance(type='immersion heater', instance=1),\n",
       " Appliance(type='laptop computer', instance=3),\n",
       " Appliance(type='tablet computer charger', instance=1),\n",
       " Appliance(type='light', instance=4),\n",
       " Appliance(type='audio system', instance=2),\n",
       " Appliance(type='light', instance=10),\n",
       " Appliance(type='light', instance=7),\n",
       " Appliance(type='light', instance=13),\n",
       " Appliance(type='broadband router', instance=2),\n",
       " Appliance(type='external hard disk', instance=1),\n",
       " Appliance(type='toaster', instance=1),\n",
       " Appliance(type='light', instance=16),\n",
       " Appliance(type='computer monitor', instance=1),\n",
       " Appliance(type='dish washer', instance=1),\n",
       " Appliance(type='radio', instance=3),\n",
       " Appliance(type='desktop computer', instance=1),\n",
       " Appliance(type='oven', instance=1),\n",
       " Appliance(type='breadmaker', instance=1),\n",
       " Appliance(type='food processor', instance=2),\n",
       " Appliance(type='solar thermal pumping station', instance=1),\n",
       " Appliance(type='water pump', instance=1),\n",
       " Appliance(type='kettle', instance=1),\n",
       " Appliance(type='vacuum cleaner', instance=1),\n",
       " Appliance(type='charger', instance=1),\n",
       " Appliance(type='audio system', instance=1),\n",
       " Appliance(type='light', instance=3),\n",
       " Appliance(type='light', instance=6),\n",
       " Appliance(type='kitchen aid', instance=1),\n",
       " Appliance(type='laptop computer', instance=2),\n",
       " Appliance(type='light', instance=9),\n",
       " Appliance(type='light', instance=15),\n",
       " Appliance(type='light', instance=12),\n",
       " Appliance(type='broadband router', instance=1),\n",
       " Appliance(type='boiler', instance=1),\n",
       " Appliance(type='radio', instance=2),\n",
       " Appliance(type='clothes iron', instance=1),\n",
       " Appliance(type='audio amplifier', instance=1)]"
      ]
     },
     "execution_count": 13,
     "metadata": {},
     "output_type": "execute_result"
    }
   ],
   "source": [
    "uk_dale.buildings[1].elec.appliances"
   ]
  },
  {
   "cell_type": "code",
   "execution_count": 6,
   "id": "3f4c828b",
   "metadata": {},
   "outputs": [
    {
     "data": {
      "text/plain": [
       "MeterGroup(meters=\n",
       "  ElecMeter(instance=2, building=1, dataset='UK-DALE', appliances=[Appliance(type='boiler', instance=1)])\n",
       "  ElecMeter(instance=3, building=1, dataset='UK-DALE', appliances=[Appliance(type='solar thermal pumping station', instance=1)])\n",
       "  ElecMeter(instance=4, building=1, dataset='UK-DALE', appliances=[Appliance(type='laptop computer', instance=1), Appliance(type='laptop computer', instance=3)])\n",
       "  ElecMeter(instance=5, building=1, dataset='UK-DALE', appliances=[Appliance(type='washer dryer', instance=1), Appliance(type='washer dryer', instance=2)])\n",
       "  ElecMeter(instance=6, building=1, dataset='UK-DALE', appliances=[Appliance(type='dish washer', instance=1)])\n",
       "  ElecMeter(instance=7, building=1, dataset='UK-DALE', appliances=[Appliance(type='television', instance=1)])\n",
       "  ElecMeter(instance=8, building=1, dataset='UK-DALE', appliances=[Appliance(type='light', instance=1), Appliance(type='light', instance=2)])\n",
       "  ElecMeter(instance=9, building=1, dataset='UK-DALE', appliances=[Appliance(type='HTPC', instance=1)])\n",
       "  ElecMeter(instance=10, building=1, dataset='UK-DALE', appliances=[Appliance(type='kettle', instance=1), Appliance(type='food processor', instance=1), Appliance(type='toasted sandwich maker', instance=1)])\n",
       "  ElecMeter(instance=11, building=1, dataset='UK-DALE', appliances=[Appliance(type='toaster', instance=1), Appliance(type='kitchen aid', instance=1), Appliance(type='food processor', instance=2)])\n",
       "  ElecMeter(instance=12, building=1, dataset='UK-DALE', appliances=[Appliance(type='fridge freezer', instance=1)])\n",
       "  ElecMeter(instance=13, building=1, dataset='UK-DALE', appliances=[Appliance(type='microwave', instance=1)])\n",
       "  ElecMeter(instance=14, building=1, dataset='UK-DALE', appliances=[Appliance(type='computer monitor', instance=1)])\n",
       "  ElecMeter(instance=15, building=1, dataset='UK-DALE', appliances=[Appliance(type='audio system', instance=1)])\n",
       "  ElecMeter(instance=16, building=1, dataset='UK-DALE', appliances=[Appliance(type='breadmaker', instance=1)])\n",
       "  ElecMeter(instance=17, building=1, dataset='UK-DALE', appliances=[Appliance(type='audio amplifier', instance=1)])\n",
       "  ElecMeter(instance=18, building=1, dataset='UK-DALE', appliances=[Appliance(type='broadband router', instance=1), Appliance(type='broadband router', instance=2)])\n",
       "  ElecMeter(instance=19, building=1, dataset='UK-DALE', appliances=[Appliance(type='light', instance=3), Appliance(type='bouncy castle pump', instance=1)])\n",
       "  ElecMeter(instance=20, building=1, dataset='UK-DALE', appliances=[Appliance(type='soldering iron', instance=1)])\n",
       "  ElecMeter(instance=21, building=1, dataset='UK-DALE', appliances=[Appliance(type='ethernet switch', instance=1), Appliance(type='USB hub', instance=1)])\n",
       "  ElecMeter(instance=22, building=1, dataset='UK-DALE', appliances=[Appliance(type='vacuum cleaner', instance=1)])\n",
       "  ElecMeter(instance=23, building=1, dataset='UK-DALE', appliances=[Appliance(type='light', instance=4)])\n",
       "  ElecMeter(instance=24, building=1, dataset='UK-DALE', appliances=[Appliance(type='light', instance=5)])\n",
       "  ElecMeter(instance=25, building=1, dataset='UK-DALE', appliances=[Appliance(type='light', instance=16)])\n",
       "  ElecMeter(instance=26, building=1, dataset='UK-DALE', appliances=[Appliance(type='light', instance=6)])\n",
       "  ElecMeter(instance=27, building=1, dataset='UK-DALE', appliances=[Appliance(type='tablet computer charger', instance=1)])\n",
       "  ElecMeter(instance=28, building=1, dataset='UK-DALE', appliances=[Appliance(type='active subwoofer', instance=1)])\n",
       "  ElecMeter(instance=29, building=1, dataset='UK-DALE', appliances=[Appliance(type='light', instance=7)])\n",
       "  ElecMeter(instance=30, building=1, dataset='UK-DALE', appliances=[Appliance(type='radio', instance=1)])\n",
       "  ElecMeter(instance=31, building=1, dataset='UK-DALE', appliances=[Appliance(type='light', instance=8)])\n",
       "  ElecMeter(instance=32, building=1, dataset='UK-DALE', appliances=[Appliance(type='wireless phone charger', instance=1), Appliance(type='audio system', instance=2)])\n",
       "  ElecMeter(instance=33, building=1, dataset='UK-DALE', appliances=[Appliance(type='light', instance=9)])\n",
       "  ElecMeter(instance=34, building=1, dataset='UK-DALE', appliances=[Appliance(type='mobile phone charger', instance=1)])\n",
       "  ElecMeter(instance=35, building=1, dataset='UK-DALE', appliances=[Appliance(type='light', instance=10)])\n",
       "  ElecMeter(instance=36, building=1, dataset='UK-DALE', appliances=[Appliance(type='coffee maker', instance=1)])\n",
       "  ElecMeter(instance=37, building=1, dataset='UK-DALE', appliances=[Appliance(type='radio', instance=2)])\n",
       "  ElecMeter(instance=38, building=1, dataset='UK-DALE', appliances=[Appliance(type='mobile phone charger', instance=2), Appliance(type='baby monitor', instance=2), Appliance(type='radio', instance=3)])\n",
       "  ElecMeter(instance=39, building=1, dataset='UK-DALE', appliances=[Appliance(type='hair dryer', instance=1)])\n",
       "  ElecMeter(instance=40, building=1, dataset='UK-DALE', appliances=[Appliance(type='hair straighteners', instance=1)])\n",
       "  ElecMeter(instance=41, building=1, dataset='UK-DALE', appliances=[Appliance(type='clothes iron', instance=1)])\n",
       "  ElecMeter(instance=42, building=1, dataset='UK-DALE', appliances=[Appliance(type='oven', instance=1)])\n",
       "  ElecMeter(instance=43, building=1, dataset='UK-DALE', appliances=[Appliance(type='computer', instance=1), Appliance(type='external hard disk', instance=1)])\n",
       "  ElecMeter(instance=44, building=1, dataset='UK-DALE', appliances=[Appliance(type='light', instance=11)])\n",
       "  ElecMeter(instance=45, building=1, dataset='UK-DALE', appliances=[Appliance(type='light', instance=12)])\n",
       "  ElecMeter(instance=46, building=1, dataset='UK-DALE', appliances=[Appliance(type='baby monitor', instance=1)])\n",
       "  ElecMeter(instance=47, building=1, dataset='UK-DALE', appliances=[Appliance(type='charger', instance=1)])\n",
       "  ElecMeter(instance=48, building=1, dataset='UK-DALE', appliances=[Appliance(type='light', instance=13)])\n",
       "  ElecMeter(instance=49, building=1, dataset='UK-DALE', appliances=[Appliance(type='light', instance=14)])\n",
       "  ElecMeter(instance=50, building=1, dataset='UK-DALE', appliances=[Appliance(type='light', instance=15)])\n",
       "  ElecMeter(instance=51, building=1, dataset='UK-DALE', appliances=[Appliance(type='desktop computer', instance=1)])\n",
       "  ElecMeter(instance=52, building=1, dataset='UK-DALE', appliances=[Appliance(type='fan', instance=1)])\n",
       "  ElecMeter(instance=53, building=1, dataset='UK-DALE', appliances=[Appliance(type='printer', instance=1)])\n",
       "  ElecMeter(instance=54, building=1, dataset='UK-DALE', site_meter, appliances=[Appliance(type='immersion heater', instance=1), Appliance(type='water pump', instance=1), Appliance(type='security alarm', instance=1), Appliance(type='fan', instance=2), Appliance(type='drill', instance=1), Appliance(type='laptop computer', instance=2)])\n",
       ")"
      ]
     },
     "execution_count": 6,
     "metadata": {},
     "output_type": "execute_result"
    }
   ],
   "source": [
    "uk_dale.buildings[1].elec"
   ]
  },
  {
   "cell_type": "markdown",
   "id": "f9dea14b",
   "metadata": {},
   "source": [
    "* calculate energy permeter"
   ]
  },
  {
   "cell_type": "code",
   "execution_count": 15,
   "id": "abf7069f",
   "metadata": {},
   "outputs": [
    {
     "name": "stdout",
     "output_type": "stream",
     "text": [
      "53/53 ElecMeter(instance=54, building=1, dataset='UK-DALE', site_meter, appliances=[Appliance(type='immersion heater', instance=1), Appliance(type='water pump', instance=1), Appliance(type='security alarm', instance=1), Appliance(type='fan', instance=2), Appliance(type='drill', instance=1), Appliance(type='laptop computer', instance=2)])"
     ]
    },
    {
     "data": {
      "text/plain": [
       "(2, 1, UK-DALE)     3.008161e-02\n",
       "(3, 1, UK-DALE)     1.557731e-02\n",
       "(4, 1, UK-DALE)     5.436703e-03\n",
       "(5, 1, UK-DALE)     4.328065e-02\n",
       "(6, 1, UK-DALE)     4.278134e-02\n",
       "(7, 1, UK-DALE)     2.090396e-02\n",
       "(8, 1, UK-DALE)     3.479559e-02\n",
       "(9, 1, UK-DALE)     3.063170e-02\n",
       "(10, 1, UK-DALE)    2.538753e-02\n",
       "(11, 1, UK-DALE)    1.286209e-02\n",
       "(12, 1, UK-DALE)    6.380339e-02\n",
       "(13, 1, UK-DALE)    1.287757e-02\n",
       "(14, 1, UK-DALE)    7.684689e-03\n",
       "(15, 1, UK-DALE)    1.273686e-03\n",
       "(16, 1, UK-DALE)    1.067748e-03\n",
       "(17, 1, UK-DALE)    5.685614e-03\n",
       "(18, 1, UK-DALE)    1.108645e-02\n",
       "(19, 1, UK-DALE)    4.802915e-03\n",
       "(20, 1, UK-DALE)    5.292711e-05\n",
       "(21, 1, UK-DALE)    2.446332e-03\n",
       "(22, 1, UK-DALE)    6.312797e-03\n",
       "(23, 1, UK-DALE)    8.053034e-04\n",
       "(24, 1, UK-DALE)    2.479174e-04\n",
       "(25, 1, UK-DALE)    4.424074e-02\n",
       "(26, 1, UK-DALE)    1.343897e-03\n",
       "(27, 1, UK-DALE)    3.476945e-04\n",
       "(28, 1, UK-DALE)    5.116972e-03\n",
       "(29, 1, UK-DALE)    2.076416e-03\n",
       "(30, 1, UK-DALE)    4.353814e-07\n",
       "(31, 1, UK-DALE)    3.798158e-03\n",
       "(32, 1, UK-DALE)    4.449657e-03\n",
       "(33, 1, UK-DALE)    1.190337e-04\n",
       "(34, 1, UK-DALE)    4.369319e-04\n",
       "(35, 1, UK-DALE)    5.112240e-04\n",
       "(36, 1, UK-DALE)    1.467867e-03\n",
       "(37, 1, UK-DALE)    1.435836e-03\n",
       "(38, 1, UK-DALE)    7.325604e-04\n",
       "(39, 1, UK-DALE)    1.729976e-03\n",
       "(40, 1, UK-DALE)    3.194037e-04\n",
       "(41, 1, UK-DALE)    2.323321e-04\n",
       "(42, 1, UK-DALE)    5.657155e-03\n",
       "(43, 1, UK-DALE)    2.045285e-02\n",
       "(44, 1, UK-DALE)    3.332511e-05\n",
       "(45, 1, UK-DALE)    4.331931e-04\n",
       "(46, 1, UK-DALE)    3.252175e-05\n",
       "(47, 1, UK-DALE)    6.403243e-04\n",
       "(48, 1, UK-DALE)    8.212420e-04\n",
       "(49, 1, UK-DALE)    1.602150e-03\n",
       "(50, 1, UK-DALE)    6.664565e-04\n",
       "(51, 1, UK-DALE)    3.478339e-03\n",
       "(52, 1, UK-DALE)    4.661168e-04\n",
       "(53, 1, UK-DALE)    4.920366e-04\n",
       "(54, 1, UK-DALE)    5.169793e-01\n",
       "dtype: float64"
      ]
     },
     "execution_count": 15,
     "metadata": {},
     "output_type": "execute_result"
    }
   ],
   "source": [
    "uk_dale.buildings[1].elec.fraction_per_meter() "
   ]
  },
  {
   "cell_type": "markdown",
   "id": "e35df293",
   "metadata": {},
   "source": [
    "* draw a wiring diagram for meter hierachy in building1"
   ]
  },
  {
   "cell_type": "code",
   "execution_count": 20,
   "id": "8146be1b",
   "metadata": {
    "scrolled": false
   },
   "outputs": [
    {
     "name": "stderr",
     "output_type": "stream",
     "text": [
      "/opt/anaconda3/lib/python3.8/site-packages/nilmtk/elecmeter.py:188: RuntimeWarning: Multiple appliances are associated with meter {} but none are marked as the dominant appliance. Hence returning the first appliance in the list.\n",
      "  warn('Multiple appliances are associated with meter {}'\n"
     ]
    },
    {
     "data": {
      "text/plain": [
       "(<networkx.classes.digraph.DiGraph at 0x7fdfc3e92070>,\n",
       " <matplotlib.axes._axes.Axes at 0x7fdfc2305f70>)"
      ]
     },
     "execution_count": 20,
     "metadata": {},
     "output_type": "execute_result"
    },
    {
     "data": {
      "image/png": "[encoded data removed]",
      "text/plain": [
       "<Figure size 800x800 with 1 Axes>"
      ]
     },
     "metadata": {},
     "output_type": "display_data"
    }
   ],
   "source": [
    "from matplotlib.pyplot import figure\n",
    "\n",
    "figure(figsize=(10, 10), dpi=80)\n",
    "uk_dale.buildings[1].elec.draw_wiring_graph()"
   ]
  },
  {
   "cell_type": "markdown",
   "id": "e56ce927",
   "metadata": {},
   "source": [
    "# Extract the power series"
   ]
  },
  {
   "cell_type": "code",
   "execution_count": 22,
   "id": "1c6b6d21",
   "metadata": {},
   "outputs": [
    {
     "name": "stdout",
     "output_type": "stream",
     "text": [
      "Loading data for meter ElecMeterID(instance=54, building=1, dataset='UK-DALE')     "
     ]
    },
    {
     "name": "stderr",
     "output_type": "stream",
     "text": [
      "/opt/anaconda3/lib/python3.8/site-packages/nilmtk/utils.py:509: UserWarning: Found duplicate index. Keeping first value\n",
      "  warnings.warn(\"Found duplicate index. Keeping first value\")\n"
     ]
    },
    {
     "name": "stdout",
     "output_type": "stream",
     "text": [
      "\n",
      "Done loading data all meters for this chunk.\n"
     ]
    }
   ],
   "source": [
    "ukdale_allpowerseries_building1 = uk_dale.buildings[1].elec.power_series_all_data()"
   ]
  },
  {
   "cell_type": "code",
   "execution_count": 23,
   "id": "dde65931",
   "metadata": {},
   "outputs": [],
   "source": [
    "ukdale_allpowerseries_building1 = pd.DataFrame(ukdale_allpowerseries_building1)"
   ]
  },
  {
   "cell_type": "code",
   "execution_count": 24,
   "id": "6fc6babe",
   "metadata": {},
   "outputs": [
    {
     "data": {
      "text/html": [
       "<div>\n",
       "<style scoped>\n",
       "    .dataframe tbody tr th:only-of-type {\n",
       "        vertical-align: middle;\n",
       "    }\n",
       "\n",
       "    .dataframe tbody tr th {\n",
       "        vertical-align: top;\n",
       "    }\n",
       "\n",
       "    .dataframe thead th {\n",
       "        text-align: right;\n",
       "    }\n",
       "</style>\n",
       "<table border=\"1\" class=\"dataframe\">\n",
       "  <thead>\n",
       "    <tr style=\"text-align: right;\">\n",
       "      <th></th>\n",
       "      <th>power_active</th>\n",
       "    </tr>\n",
       "    <tr>\n",
       "      <th>date</th>\n",
       "      <th></th>\n",
       "    </tr>\n",
       "  </thead>\n",
       "  <tbody>\n",
       "    <tr>\n",
       "      <th>2012-11-09 22:28:18+00:00</th>\n",
       "      <td>162.000000</td>\n",
       "    </tr>\n",
       "    <tr>\n",
       "      <th>2012-11-09 22:28:24+00:00</th>\n",
       "      <td>164.000000</td>\n",
       "    </tr>\n",
       "    <tr>\n",
       "      <th>2012-11-09 22:28:30+00:00</th>\n",
       "      <td>163.000000</td>\n",
       "    </tr>\n",
       "    <tr>\n",
       "      <th>2012-11-09 22:28:36+00:00</th>\n",
       "      <td>160.000000</td>\n",
       "    </tr>\n",
       "    <tr>\n",
       "      <th>2012-11-09 22:28:42+00:00</th>\n",
       "      <td>159.000000</td>\n",
       "    </tr>\n",
       "    <tr>\n",
       "      <th>...</th>\n",
       "      <td>...</td>\n",
       "    </tr>\n",
       "    <tr>\n",
       "      <th>2017-04-26 18:35:30+01:00</th>\n",
       "      <td>818.984985</td>\n",
       "    </tr>\n",
       "    <tr>\n",
       "      <th>2017-04-26 18:35:36+01:00</th>\n",
       "      <td>805.613342</td>\n",
       "    </tr>\n",
       "    <tr>\n",
       "      <th>2017-04-26 18:35:42+01:00</th>\n",
       "      <td>678.335022</td>\n",
       "    </tr>\n",
       "    <tr>\n",
       "      <th>2017-04-26 18:35:48+01:00</th>\n",
       "      <td>NaN</td>\n",
       "    </tr>\n",
       "    <tr>\n",
       "      <th>2017-04-26 18:35:54+01:00</th>\n",
       "      <td>NaN</td>\n",
       "    </tr>\n",
       "  </tbody>\n",
       "</table>\n",
       "<p>23454677 rows × 1 columns</p>\n",
       "</div>"
      ],
      "text/plain": [
       "                           power_active\n",
       "date                                   \n",
       "2012-11-09 22:28:18+00:00    162.000000\n",
       "2012-11-09 22:28:24+00:00    164.000000\n",
       "2012-11-09 22:28:30+00:00    163.000000\n",
       "2012-11-09 22:28:36+00:00    160.000000\n",
       "2012-11-09 22:28:42+00:00    159.000000\n",
       "...                                 ...\n",
       "2017-04-26 18:35:30+01:00    818.984985\n",
       "2017-04-26 18:35:36+01:00    805.613342\n",
       "2017-04-26 18:35:42+01:00    678.335022\n",
       "2017-04-26 18:35:48+01:00           NaN\n",
       "2017-04-26 18:35:54+01:00           NaN\n",
       "\n",
       "[23454677 rows x 1 columns]"
      ]
     },
     "execution_count": 24,
     "metadata": {},
     "output_type": "execute_result"
    }
   ],
   "source": [
    "ukdale_allpowerseries_building1.index.name = 'date'\n",
    "ukdale_allpowerseries_building1.columns = ['power_active']\n",
    "ukdale_allpowerseries_building1"
   ]
  },
  {
   "cell_type": "code",
   "execution_count": 6,
   "id": "1ab44fe8",
   "metadata": {},
   "outputs": [
    {
     "data": {
      "text/html": [
       "<div>\n",
       "<style scoped>\n",
       "    .dataframe tbody tr th:only-of-type {\n",
       "        vertical-align: middle;\n",
       "    }\n",
       "\n",
       "    .dataframe tbody tr th {\n",
       "        vertical-align: top;\n",
       "    }\n",
       "\n",
       "    .dataframe thead th {\n",
       "        text-align: right;\n",
       "    }\n",
       "</style>\n",
       "<table border=\"1\" class=\"dataframe\">\n",
       "  <thead>\n",
       "    <tr style=\"text-align: right;\">\n",
       "      <th></th>\n",
       "      <th>power_active</th>\n",
       "    </tr>\n",
       "    <tr>\n",
       "      <th>date</th>\n",
       "      <th></th>\n",
       "    </tr>\n",
       "  </thead>\n",
       "  <tbody>\n",
       "    <tr>\n",
       "      <th>2012-11-09 22:28:18+00:00</th>\n",
       "      <td>162.0</td>\n",
       "    </tr>\n",
       "    <tr>\n",
       "      <th>2012-11-09 22:28:24+00:00</th>\n",
       "      <td>164.0</td>\n",
       "    </tr>\n",
       "    <tr>\n",
       "      <th>2012-11-09 22:28:30+00:00</th>\n",
       "      <td>163.0</td>\n",
       "    </tr>\n",
       "    <tr>\n",
       "      <th>2012-11-09 22:28:36+00:00</th>\n",
       "      <td>160.0</td>\n",
       "    </tr>\n",
       "    <tr>\n",
       "      <th>2012-11-09 22:28:42+00:00</th>\n",
       "      <td>159.0</td>\n",
       "    </tr>\n",
       "  </tbody>\n",
       "</table>\n",
       "</div>"
      ],
      "text/plain": [
       "                           power_active\n",
       "date                                   \n",
       "2012-11-09 22:28:18+00:00         162.0\n",
       "2012-11-09 22:28:24+00:00         164.0\n",
       "2012-11-09 22:28:30+00:00         163.0\n",
       "2012-11-09 22:28:36+00:00         160.0\n",
       "2012-11-09 22:28:42+00:00         159.0"
      ]
     },
     "execution_count": 6,
     "metadata": {},
     "output_type": "execute_result"
    }
   ],
   "source": [
    "ukdale_allpowerseries_building1.head()"
   ]
  },
  {
   "cell_type": "code",
   "execution_count": 7,
   "id": "a96ebeb0",
   "metadata": {},
   "outputs": [
    {
     "data": {
      "text/html": [
       "<div>\n",
       "<style scoped>\n",
       "    .dataframe tbody tr th:only-of-type {\n",
       "        vertical-align: middle;\n",
       "    }\n",
       "\n",
       "    .dataframe tbody tr th {\n",
       "        vertical-align: top;\n",
       "    }\n",
       "\n",
       "    .dataframe thead th {\n",
       "        text-align: right;\n",
       "    }\n",
       "</style>\n",
       "<table border=\"1\" class=\"dataframe\">\n",
       "  <thead>\n",
       "    <tr style=\"text-align: right;\">\n",
       "      <th></th>\n",
       "      <th>power_active</th>\n",
       "    </tr>\n",
       "    <tr>\n",
       "      <th>date</th>\n",
       "      <th></th>\n",
       "    </tr>\n",
       "  </thead>\n",
       "  <tbody>\n",
       "    <tr>\n",
       "      <th>2017-04-26 18:35:30+01:00</th>\n",
       "      <td>818.984985</td>\n",
       "    </tr>\n",
       "    <tr>\n",
       "      <th>2017-04-26 18:35:36+01:00</th>\n",
       "      <td>805.613342</td>\n",
       "    </tr>\n",
       "    <tr>\n",
       "      <th>2017-04-26 18:35:42+01:00</th>\n",
       "      <td>678.335022</td>\n",
       "    </tr>\n",
       "    <tr>\n",
       "      <th>2017-04-26 18:35:48+01:00</th>\n",
       "      <td>NaN</td>\n",
       "    </tr>\n",
       "    <tr>\n",
       "      <th>2017-04-26 18:35:54+01:00</th>\n",
       "      <td>NaN</td>\n",
       "    </tr>\n",
       "  </tbody>\n",
       "</table>\n",
       "</div>"
      ],
      "text/plain": [
       "                           power_active\n",
       "date                                   \n",
       "2017-04-26 18:35:30+01:00    818.984985\n",
       "2017-04-26 18:35:36+01:00    805.613342\n",
       "2017-04-26 18:35:42+01:00    678.335022\n",
       "2017-04-26 18:35:48+01:00           NaN\n",
       "2017-04-26 18:35:54+01:00           NaN"
      ]
     },
     "execution_count": 7,
     "metadata": {},
     "output_type": "execute_result"
    }
   ],
   "source": [
    "ukdale_allpowerseries_building1.tail()"
   ]
  },
  {
   "cell_type": "code",
   "execution_count": 8,
   "id": "cbe30b43",
   "metadata": {},
   "outputs": [
    {
     "data": {
      "text/html": [
       "<div>\n",
       "<style scoped>\n",
       "    .dataframe tbody tr th:only-of-type {\n",
       "        vertical-align: middle;\n",
       "    }\n",
       "\n",
       "    .dataframe tbody tr th {\n",
       "        vertical-align: top;\n",
       "    }\n",
       "\n",
       "    .dataframe thead th {\n",
       "        text-align: right;\n",
       "    }\n",
       "</style>\n",
       "<table border=\"1\" class=\"dataframe\">\n",
       "  <thead>\n",
       "    <tr style=\"text-align: right;\">\n",
       "      <th></th>\n",
       "      <th>power_active</th>\n",
       "    </tr>\n",
       "  </thead>\n",
       "  <tbody>\n",
       "    <tr>\n",
       "      <th>count</th>\n",
       "      <td>2.275613e+07</td>\n",
       "    </tr>\n",
       "    <tr>\n",
       "      <th>mean</th>\n",
       "      <td>5.891127e+02</td>\n",
       "    </tr>\n",
       "    <tr>\n",
       "      <th>std</th>\n",
       "      <td>8.763763e+02</td>\n",
       "    </tr>\n",
       "    <tr>\n",
       "      <th>min</th>\n",
       "      <td>0.000000e+00</td>\n",
       "    </tr>\n",
       "    <tr>\n",
       "      <th>25%</th>\n",
       "      <td>2.289300e+02</td>\n",
       "    </tr>\n",
       "    <tr>\n",
       "      <th>50%</th>\n",
       "      <td>3.800000e+02</td>\n",
       "    </tr>\n",
       "    <tr>\n",
       "      <th>75%</th>\n",
       "      <td>6.735900e+02</td>\n",
       "    </tr>\n",
       "    <tr>\n",
       "      <th>max</th>\n",
       "      <td>1.573814e+04</td>\n",
       "    </tr>\n",
       "  </tbody>\n",
       "</table>\n",
       "</div>"
      ],
      "text/plain": [
       "       power_active\n",
       "count  2.275613e+07\n",
       "mean   5.891127e+02\n",
       "std    8.763763e+02\n",
       "min    0.000000e+00\n",
       "25%    2.289300e+02\n",
       "50%    3.800000e+02\n",
       "75%    6.735900e+02\n",
       "max    1.573814e+04"
      ]
     },
     "execution_count": 8,
     "metadata": {},
     "output_type": "execute_result"
    }
   ],
   "source": [
    "ukdale_allpowerseries_building1.describe()"
   ]
  },
  {
   "cell_type": "code",
   "execution_count": 30,
   "id": "9f68f8b3",
   "metadata": {},
   "outputs": [],
   "source": [
    "ukdale_allpowerseries_building1.to_csv('UKDALE-allpower_building1.csv')"
   ]
  },
  {
   "cell_type": "markdown",
   "id": "30fb739a",
   "metadata": {},
   "source": [
    "* plot the power series with the time frame"
   ]
  },
  {
   "cell_type": "code",
   "execution_count": 33,
   "id": "314bd323",
   "metadata": {},
   "outputs": [],
   "source": [
    "from pandas.plotting import register_matplotlib_converters\n",
    ">>> register_matplotlib_converters()"
   ]
  },
  {
   "cell_type": "code",
   "execution_count": 37,
   "id": "72f67ff1",
   "metadata": {
    "scrolled": false
   },
   "outputs": [
    {
     "data": {
      "image/png": "[encoded data removed]",
      "text/plain": [
       "<Figure size 640x480 with 1 Axes>"
      ]
     },
     "metadata": {
      "needs_background": "light"
     },
     "output_type": "display_data"
    },
    {
     "data": {
      "text/plain": [
       "<Figure size 432x288 with 0 Axes>"
      ]
     },
     "metadata": {},
     "output_type": "display_data"
    }
   ],
   "source": [
    "figure(figsize=(8, 6), dpi=80)\n",
    "plt.plot(ukdale_allpowerseries_building1)\n",
    "plt.figure()\n",
    "plt.show()"
   ]
  },
  {
   "cell_type": "markdown",
   "id": "e6c410c9",
   "metadata": {},
   "source": [
    "* plot the power series in 24 hr in 2013-01 to 2013-02"
   ]
  },
  {
   "cell_type": "code",
   "execution_count": 38,
   "id": "bd5ef3f4",
   "metadata": {},
   "outputs": [
    {
     "data": {
      "image/png": "[encoded data removed]",
      "text/plain": [
       "<Figure size 640x480 with 1 Axes>"
      ]
     },
     "metadata": {
      "needs_background": "light"
     },
     "output_type": "display_data"
    },
    {
     "data": {
      "text/plain": [
       "<Figure size 432x288 with 0 Axes>"
      ]
     },
     "metadata": {},
     "output_type": "display_data"
    }
   ],
   "source": [
    "figure(figsize=(8, 6), dpi=80)\n",
    "plt.plot(ukdale_allpowerseries_building1['2012-11-09 22:28:18': '2012-11-10 22:28:18'])\n",
    "plt.figure()\n",
    "plt.show()"
   ]
  },
  {
   "cell_type": "markdown",
   "id": "f07fbb8c",
   "metadata": {},
   "source": [
    "# Create the image from time series"
   ]
  },
  {
   "cell_type": "markdown",
   "id": "f19c038b",
   "metadata": {},
   "source": [
    "## 1. Use GramianAngularField"
   ]
  },
  {
   "cell_type": "code",
   "execution_count": 163,
   "id": "6c662556",
   "metadata": {},
   "outputs": [],
   "source": [
    "from pyts.image import GramianAngularField"
   ]
  },
  {
   "cell_type": "code",
   "execution_count": 51,
   "id": "299cc4dc",
   "metadata": {},
   "outputs": [],
   "source": [
    "ukdale_power_24 = ukdale_allpowerseries_building1['2012-11-09 22:28:18': '2012-11-10 22:28:18'].fillna(0)"
   ]
  },
  {
   "cell_type": "code",
   "execution_count": 52,
   "id": "7814704a",
   "metadata": {},
   "outputs": [
    {
     "data": {
      "text/html": [
       "<div>\n",
       "<style scoped>\n",
       "    .dataframe tbody tr th:only-of-type {\n",
       "        vertical-align: middle;\n",
       "    }\n",
       "\n",
       "    .dataframe tbody tr th {\n",
       "        vertical-align: top;\n",
       "    }\n",
       "\n",
       "    .dataframe thead th {\n",
       "        text-align: right;\n",
       "    }\n",
       "</style>\n",
       "<table border=\"1\" class=\"dataframe\">\n",
       "  <thead>\n",
       "    <tr style=\"text-align: right;\">\n",
       "      <th></th>\n",
       "      <th>power_active</th>\n",
       "    </tr>\n",
       "    <tr>\n",
       "      <th>date</th>\n",
       "      <th></th>\n",
       "    </tr>\n",
       "  </thead>\n",
       "  <tbody>\n",
       "    <tr>\n",
       "      <th>2012-11-09 22:28:18+00:00</th>\n",
       "      <td>162.0</td>\n",
       "    </tr>\n",
       "    <tr>\n",
       "      <th>2012-11-09 22:28:24+00:00</th>\n",
       "      <td>164.0</td>\n",
       "    </tr>\n",
       "    <tr>\n",
       "      <th>2012-11-09 22:28:30+00:00</th>\n",
       "      <td>163.0</td>\n",
       "    </tr>\n",
       "    <tr>\n",
       "      <th>2012-11-09 22:28:36+00:00</th>\n",
       "      <td>160.0</td>\n",
       "    </tr>\n",
       "    <tr>\n",
       "      <th>2012-11-09 22:28:42+00:00</th>\n",
       "      <td>159.0</td>\n",
       "    </tr>\n",
       "    <tr>\n",
       "      <th>...</th>\n",
       "      <td>...</td>\n",
       "    </tr>\n",
       "    <tr>\n",
       "      <th>2012-11-10 22:27:54+00:00</th>\n",
       "      <td>96.0</td>\n",
       "    </tr>\n",
       "    <tr>\n",
       "      <th>2012-11-10 22:28:00+00:00</th>\n",
       "      <td>91.0</td>\n",
       "    </tr>\n",
       "    <tr>\n",
       "      <th>2012-11-10 22:28:06+00:00</th>\n",
       "      <td>100.0</td>\n",
       "    </tr>\n",
       "    <tr>\n",
       "      <th>2012-11-10 22:28:12+00:00</th>\n",
       "      <td>98.0</td>\n",
       "    </tr>\n",
       "    <tr>\n",
       "      <th>2012-11-10 22:28:18+00:00</th>\n",
       "      <td>96.0</td>\n",
       "    </tr>\n",
       "  </tbody>\n",
       "</table>\n",
       "<p>14401 rows × 1 columns</p>\n",
       "</div>"
      ],
      "text/plain": [
       "                           power_active\n",
       "date                                   \n",
       "2012-11-09 22:28:18+00:00         162.0\n",
       "2012-11-09 22:28:24+00:00         164.0\n",
       "2012-11-09 22:28:30+00:00         163.0\n",
       "2012-11-09 22:28:36+00:00         160.0\n",
       "2012-11-09 22:28:42+00:00         159.0\n",
       "...                                 ...\n",
       "2012-11-10 22:27:54+00:00          96.0\n",
       "2012-11-10 22:28:00+00:00          91.0\n",
       "2012-11-10 22:28:06+00:00         100.0\n",
       "2012-11-10 22:28:12+00:00          98.0\n",
       "2012-11-10 22:28:18+00:00          96.0\n",
       "\n",
       "[14401 rows x 1 columns]"
      ]
     },
     "execution_count": 52,
     "metadata": {},
     "output_type": "execute_result"
    }
   ],
   "source": [
    "ukdale_power_24"
   ]
  },
  {
   "cell_type": "code",
   "execution_count": 53,
   "id": "ae155e6b",
   "metadata": {},
   "outputs": [
    {
     "data": {
      "text/plain": [
       "array([162., 164., 163., ..., 100.,  98.,  96.], dtype=float32)"
      ]
     },
     "execution_count": 53,
     "metadata": {},
     "output_type": "execute_result"
    }
   ],
   "source": [
    "np.array(ukdale_power_24['power_active'])"
   ]
  },
  {
   "cell_type": "code",
   "execution_count": 54,
   "id": "b1d839c4",
   "metadata": {},
   "outputs": [],
   "source": [
    "gasf = GramianAngularField( method='summation')\n",
    "ukdale_gasf = gasf.fit_transform(np.array(ukdale_power_24['power_active']).reshape((1,-1)))"
   ]
  },
  {
   "cell_type": "code",
   "execution_count": 55,
   "id": "100b39d4",
   "metadata": {},
   "outputs": [
    {
     "data": {
      "text/plain": [
       "array([[0.61008183, 0.6078094 , 0.60894459, ..., 0.68557352, 0.68821697,\n",
       "        0.69087742],\n",
       "       [0.6078094 , 0.60553197, 0.60666966, ..., 0.68348508, 0.68613568,\n",
       "        0.68880338],\n",
       "       [0.60894459, 0.60666966, 0.6078061 , ..., 0.68452849, 0.68717552,\n",
       "        0.6898396 ],\n",
       "       ...,\n",
       "       [0.68557352, 0.68348508, 0.68452849, ..., 0.75432054, 0.75670348,\n",
       "        0.75909991],\n",
       "       [0.68821697, 0.68613568, 0.68717552, ..., 0.75670348, 0.7590764 ,\n",
       "        0.76146269],\n",
       "       [0.69087742, 0.68880338, 0.6898396 , ..., 0.75909991, 0.76146269,\n",
       "        0.76383871]])"
      ]
     },
     "execution_count": 55,
     "metadata": {},
     "output_type": "execute_result"
    }
   ],
   "source": [
    "ukdale_gasf[0]"
   ]
  },
  {
   "cell_type": "code",
   "execution_count": 7,
   "id": "160cb776",
   "metadata": {},
   "outputs": [],
   "source": [
    "import matplotlib.ticker as tick\n",
    "from matplotlib.ticker import FuncFormatter\n",
    "def scale_xaxis(numbers):\n",
    "    return (numbers.astype(int)*6)//(60*60)"
   ]
  },
  {
   "cell_type": "code",
   "execution_count": 8,
   "id": "1f5d2c3a",
   "metadata": {},
   "outputs": [],
   "source": [
    "def scale_yaxis(numbers):\n",
    "    return numbers.astype(int)*6"
   ]
  },
  {
   "cell_type": "code",
   "execution_count": 95,
   "id": "f5197ec2",
   "metadata": {},
   "outputs": [
    {
     "data": {
      "image/png": "[encoded data removed]",
      "text/plain": [
       "<Figure size 432x432 with 2 Axes>"
      ]
     },
     "metadata": {
      "needs_background": "light"
     },
     "output_type": "display_data"
    }
   ],
   "source": [
    "fig, ax = plt.subplots(figsize=(6, 6))\n",
    "plt.imshow(ukdale_gasf[0], cmap='hot',interpolation='nearest')\n",
    "color_bar = plt.colorbar(ticks=[-1.0,0.0,1.0])\n",
    "color_bar.set_label('Angle')\n",
    "color_bar.ax.set_xticklabels(['-1.0', '0.0', '1.0'])\n",
    "plt.xlabel('Time (hour)')\n",
    "xticks = ax.get_xticks()\n",
    "yticks = ax.get_yticks()\n",
    "ax.autoscale(False)\n",
    "ax.xaxis.set_ticklabels(scale_xaxis(xticks))\n",
    "ax.yaxis.set_ticklabels(scale_yaxis(xticks))\n",
    "#plt.xlim([0, len(ukdale_gasf)*6])\n",
    "plt.ylabel('Time (second)')\n",
    "plt.gca().invert_yaxis()\n",
    "plt.title('Gramian angular summation field for ukdale')\n",
    "plt.show()"
   ]
  },
  {
   "cell_type": "code",
   "execution_count": 17,
   "id": "15358895",
   "metadata": {},
   "outputs": [],
   "source": [
    "ukdale_power_24_day2 = ukdale_allpowerseries_building1['2012-11-10 22:28:18': '2012-11-11 22:28:18'].fillna(0)"
   ]
  },
  {
   "cell_type": "code",
   "execution_count": 18,
   "id": "a944a150",
   "metadata": {},
   "outputs": [
    {
     "data": {
      "text/html": [
       "<div>\n",
       "<style scoped>\n",
       "    .dataframe tbody tr th:only-of-type {\n",
       "        vertical-align: middle;\n",
       "    }\n",
       "\n",
       "    .dataframe tbody tr th {\n",
       "        vertical-align: top;\n",
       "    }\n",
       "\n",
       "    .dataframe thead th {\n",
       "        text-align: right;\n",
       "    }\n",
       "</style>\n",
       "<table border=\"1\" class=\"dataframe\">\n",
       "  <thead>\n",
       "    <tr style=\"text-align: right;\">\n",
       "      <th></th>\n",
       "      <th>power_active</th>\n",
       "    </tr>\n",
       "    <tr>\n",
       "      <th>date</th>\n",
       "      <th></th>\n",
       "    </tr>\n",
       "  </thead>\n",
       "  <tbody>\n",
       "    <tr>\n",
       "      <th>2012-11-10 22:28:18+00:00</th>\n",
       "      <td>96.0</td>\n",
       "    </tr>\n",
       "    <tr>\n",
       "      <th>2012-11-10 22:28:24+00:00</th>\n",
       "      <td>96.0</td>\n",
       "    </tr>\n",
       "    <tr>\n",
       "      <th>2012-11-10 22:28:30+00:00</th>\n",
       "      <td>104.0</td>\n",
       "    </tr>\n",
       "    <tr>\n",
       "      <th>2012-11-10 22:28:36+00:00</th>\n",
       "      <td>113.0</td>\n",
       "    </tr>\n",
       "    <tr>\n",
       "      <th>2012-11-10 22:28:42+00:00</th>\n",
       "      <td>107.0</td>\n",
       "    </tr>\n",
       "    <tr>\n",
       "      <th>...</th>\n",
       "      <td>...</td>\n",
       "    </tr>\n",
       "    <tr>\n",
       "      <th>2012-11-11 22:27:54+00:00</th>\n",
       "      <td>141.0</td>\n",
       "    </tr>\n",
       "    <tr>\n",
       "      <th>2012-11-11 22:28:00+00:00</th>\n",
       "      <td>130.0</td>\n",
       "    </tr>\n",
       "    <tr>\n",
       "      <th>2012-11-11 22:28:06+00:00</th>\n",
       "      <td>126.0</td>\n",
       "    </tr>\n",
       "    <tr>\n",
       "      <th>2012-11-11 22:28:12+00:00</th>\n",
       "      <td>88.0</td>\n",
       "    </tr>\n",
       "    <tr>\n",
       "      <th>2012-11-11 22:28:18+00:00</th>\n",
       "      <td>89.0</td>\n",
       "    </tr>\n",
       "  </tbody>\n",
       "</table>\n",
       "<p>14401 rows × 1 columns</p>\n",
       "</div>"
      ],
      "text/plain": [
       "                           power_active\n",
       "date                                   \n",
       "2012-11-10 22:28:18+00:00          96.0\n",
       "2012-11-10 22:28:24+00:00          96.0\n",
       "2012-11-10 22:28:30+00:00         104.0\n",
       "2012-11-10 22:28:36+00:00         113.0\n",
       "2012-11-10 22:28:42+00:00         107.0\n",
       "...                                 ...\n",
       "2012-11-11 22:27:54+00:00         141.0\n",
       "2012-11-11 22:28:00+00:00         130.0\n",
       "2012-11-11 22:28:06+00:00         126.0\n",
       "2012-11-11 22:28:12+00:00          88.0\n",
       "2012-11-11 22:28:18+00:00          89.0\n",
       "\n",
       "[14401 rows x 1 columns]"
      ]
     },
     "execution_count": 18,
     "metadata": {},
     "output_type": "execute_result"
    }
   ],
   "source": [
    "ukdale_power_24_day2"
   ]
  },
  {
   "cell_type": "code",
   "execution_count": 19,
   "id": "74347744",
   "metadata": {},
   "outputs": [],
   "source": [
    "ukdale_gasf2 = gasf.fit_transform(np.array(ukdale_power_24_day2['power_active']).reshape((1,-1)))"
   ]
  },
  {
   "cell_type": "code",
   "execution_count": 20,
   "id": "be91c171",
   "metadata": {},
   "outputs": [
    {
     "data": {
      "image/png": "[encoded data removed]",
      "text/plain": [
       "<Figure size 432x432 with 2 Axes>"
      ]
     },
     "metadata": {
      "needs_background": "light"
     },
     "output_type": "display_data"
    }
   ],
   "source": [
    "fig, ax = plt.subplots(figsize=(6, 6))\n",
    "plt.imshow(ukdale_gasf2[0], cmap='hot',interpolation='nearest')\n",
    "color_bar = plt.colorbar(ticks=[-1.0,0.0,1.0])\n",
    "color_bar.set_label('Angle')\n",
    "color_bar.ax.set_xticklabels(['-1.0', '0.0', '1.0'])\n",
    "plt.xlabel('Time (hour)')\n",
    "xticks = ax.get_xticks()\n",
    "yticks = ax.get_yticks()\n",
    "ax.autoscale(False)\n",
    "ax.xaxis.set_ticklabels(scale_xaxis(xticks))\n",
    "ax.yaxis.set_ticklabels(scale_yaxis(xticks))\n",
    "#plt.xlim([0, len(ukdale_gasf)*6])\n",
    "plt.ylabel('Time (second)')\n",
    "plt.gca().invert_yaxis()\n",
    "plt.title('Gramian angular summation field for ukdale day2')\n",
    "plt.show()"
   ]
  },
  {
   "cell_type": "code",
   "execution_count": 66,
   "id": "e9c52344",
   "metadata": {},
   "outputs": [],
   "source": [
    "ukdale_power_24_day3 = ukdale_allpowerseries_building1['2012-11-25 00:00:00': '2012-11-25 23:59:59'].fillna(0)"
   ]
  },
  {
   "cell_type": "code",
   "execution_count": 67,
   "id": "803247c0",
   "metadata": {},
   "outputs": [
    {
     "data": {
      "text/html": [
       "<div>\n",
       "<style scoped>\n",
       "    .dataframe tbody tr th:only-of-type {\n",
       "        vertical-align: middle;\n",
       "    }\n",
       "\n",
       "    .dataframe tbody tr th {\n",
       "        vertical-align: top;\n",
       "    }\n",
       "\n",
       "    .dataframe thead th {\n",
       "        text-align: right;\n",
       "    }\n",
       "</style>\n",
       "<table border=\"1\" class=\"dataframe\">\n",
       "  <thead>\n",
       "    <tr style=\"text-align: right;\">\n",
       "      <th></th>\n",
       "      <th>power_active</th>\n",
       "    </tr>\n",
       "    <tr>\n",
       "      <th>date</th>\n",
       "      <th></th>\n",
       "    </tr>\n",
       "  </thead>\n",
       "  <tbody>\n",
       "    <tr>\n",
       "      <th>2012-11-25 00:00:00+00:00</th>\n",
       "      <td>0.0</td>\n",
       "    </tr>\n",
       "    <tr>\n",
       "      <th>2012-11-25 00:00:06+00:00</th>\n",
       "      <td>0.0</td>\n",
       "    </tr>\n",
       "    <tr>\n",
       "      <th>2012-11-25 00:00:12+00:00</th>\n",
       "      <td>0.0</td>\n",
       "    </tr>\n",
       "    <tr>\n",
       "      <th>2012-11-25 00:00:18+00:00</th>\n",
       "      <td>0.0</td>\n",
       "    </tr>\n",
       "    <tr>\n",
       "      <th>2012-11-25 00:00:24+00:00</th>\n",
       "      <td>0.0</td>\n",
       "    </tr>\n",
       "    <tr>\n",
       "      <th>...</th>\n",
       "      <td>...</td>\n",
       "    </tr>\n",
       "    <tr>\n",
       "      <th>2012-11-25 23:59:30+00:00</th>\n",
       "      <td>0.0</td>\n",
       "    </tr>\n",
       "    <tr>\n",
       "      <th>2012-11-25 23:59:36+00:00</th>\n",
       "      <td>0.0</td>\n",
       "    </tr>\n",
       "    <tr>\n",
       "      <th>2012-11-25 23:59:42+00:00</th>\n",
       "      <td>0.0</td>\n",
       "    </tr>\n",
       "    <tr>\n",
       "      <th>2012-11-25 23:59:48+00:00</th>\n",
       "      <td>0.0</td>\n",
       "    </tr>\n",
       "    <tr>\n",
       "      <th>2012-11-25 23:59:54+00:00</th>\n",
       "      <td>0.0</td>\n",
       "    </tr>\n",
       "  </tbody>\n",
       "</table>\n",
       "<p>14400 rows × 1 columns</p>\n",
       "</div>"
      ],
      "text/plain": [
       "                           power_active\n",
       "date                                   \n",
       "2012-11-25 00:00:00+00:00           0.0\n",
       "2012-11-25 00:00:06+00:00           0.0\n",
       "2012-11-25 00:00:12+00:00           0.0\n",
       "2012-11-25 00:00:18+00:00           0.0\n",
       "2012-11-25 00:00:24+00:00           0.0\n",
       "...                                 ...\n",
       "2012-11-25 23:59:30+00:00           0.0\n",
       "2012-11-25 23:59:36+00:00           0.0\n",
       "2012-11-25 23:59:42+00:00           0.0\n",
       "2012-11-25 23:59:48+00:00           0.0\n",
       "2012-11-25 23:59:54+00:00           0.0\n",
       "\n",
       "[14400 rows x 1 columns]"
      ]
     },
     "execution_count": 67,
     "metadata": {},
     "output_type": "execute_result"
    }
   ],
   "source": [
    "ukdale_power_24_day3"
   ]
  },
  {
   "cell_type": "code",
   "execution_count": 68,
   "id": "5d10677a",
   "metadata": {},
   "outputs": [],
   "source": [
    "gasf = GramianAngularField( method='summation')\n",
    "ukdale_gasf_day3 = gasf.fit_transform(np.array(ukdale_power_24_day3['power_active']).reshape((1,-1)))"
   ]
  },
  {
   "cell_type": "code",
   "execution_count": 69,
   "id": "a080d71a",
   "metadata": {},
   "outputs": [
    {
     "data": {
      "image/png": "[encoded data removed]",
      "text/plain": [
       "<Figure size 432x432 with 2 Axes>"
      ]
     },
     "metadata": {
      "needs_background": "light"
     },
     "output_type": "display_data"
    }
   ],
   "source": [
    "fig, ax = plt.subplots(figsize=(6, 6))\n",
    "plt.imshow(ukdale_gasf_day3[0], cmap='hot',interpolation='nearest')\n",
    "color_bar = plt.colorbar(ticks=[-1.0,0.0,1.0])\n",
    "color_bar.set_label('Angle')\n",
    "color_bar.ax.set_xticklabels(['-1.0', '0.0', '1.0'])\n",
    "plt.xlabel('Time (hour)')\n",
    "xticks = ax.get_xticks()\n",
    "yticks = ax.get_yticks()\n",
    "ax.autoscale(False)\n",
    "ax.xaxis.set_ticklabels(scale_xaxis(xticks))\n",
    "ax.yaxis.set_ticklabels(scale_yaxis(xticks))\n",
    "#plt.xlim([0, len(ukdale_gasf)*6])\n",
    "plt.ylabel('Time (second)')\n",
    "plt.gca().invert_yaxis()\n",
    "plt.title('Gramian angular summation field for ukdale day3')\n",
    "plt.show()"
   ]
  },
  {
   "cell_type": "markdown",
   "id": "5a483127",
   "metadata": {},
   "source": [
    "**Kettle in building 1**"
   ]
  },
  {
   "cell_type": "code",
   "execution_count": 20,
   "id": "5eb135df",
   "metadata": {},
   "outputs": [],
   "source": [
    "kettle_building1 = uk_dale.buildings[1].elec['kettle']"
   ]
  },
  {
   "cell_type": "code",
   "execution_count": 21,
   "id": "c03ac9d8",
   "metadata": {},
   "outputs": [
    {
     "data": {
      "text/plain": [
       "ElecMeter(instance=10, building=1, dataset='UK-DALE', appliances=[Appliance(type='kettle', instance=1), Appliance(type='food processor', instance=1), Appliance(type='toasted sandwich maker', instance=1)])"
      ]
     },
     "execution_count": 21,
     "metadata": {},
     "output_type": "execute_result"
    }
   ],
   "source": [
    "kettle_building1"
   ]
  },
  {
   "cell_type": "code",
   "execution_count": 138,
   "id": "e67a55ba",
   "metadata": {},
   "outputs": [],
   "source": [
    "kettle_building1_power = uk_dale.buildings[1].elec['kettle'].power_series_all_data()"
   ]
  },
  {
   "cell_type": "code",
   "execution_count": 139,
   "id": "f69f2420",
   "metadata": {},
   "outputs": [
    {
     "data": {
      "text/plain": [
       "2012-11-09 22:28:18+00:00    1.0\n",
       "2012-11-09 22:28:24+00:00    1.0\n",
       "2012-11-09 22:28:30+00:00    1.0\n",
       "2012-11-09 22:28:36+00:00    1.0\n",
       "2012-11-09 22:28:42+00:00    1.0\n",
       "                            ... \n",
       "2017-04-26 18:32:14+01:00    1.0\n",
       "2017-04-26 18:32:22+01:00    1.0\n",
       "2017-04-26 18:32:30+01:00    1.0\n",
       "2017-04-26 18:32:38+01:00    1.0\n",
       "2017-04-26 18:32:46+01:00    1.0\n",
       "Name: (power, active), Length: 18881051, dtype: float32"
      ]
     },
     "execution_count": 139,
     "metadata": {},
     "output_type": "execute_result"
    }
   ],
   "source": [
    "kettle_building1_power"
   ]
  },
  {
   "cell_type": "code",
   "execution_count": 24,
   "id": "1b2704a1",
   "metadata": {},
   "outputs": [
    {
     "data": {
      "text/plain": [
       "3948.0"
      ]
     },
     "execution_count": 24,
     "metadata": {},
     "output_type": "execute_result"
    }
   ],
   "source": [
    "kettle_building1_power.max()"
   ]
  },
  {
   "cell_type": "markdown",
   "id": "d98bcec5",
   "metadata": {},
   "source": [
    "**Visualization the kettle time series**"
   ]
  },
  {
   "cell_type": "markdown",
   "id": "d8010c9b",
   "metadata": {},
   "source": [
    "* the whole time frame"
   ]
  },
  {
   "cell_type": "code",
   "execution_count": 117,
   "id": "c810cb4a",
   "metadata": {},
   "outputs": [
    {
     "data": {
      "text/plain": [
       "<matplotlib.axes._subplots.AxesSubplot at 0x7fda971bc190>"
      ]
     },
     "execution_count": 117,
     "metadata": {},
     "output_type": "execute_result"
    },
    {
     "data": {
      "image/png": "[encoded data removed]",
      "text/plain": [
       "<Figure size 640x480 with 1 Axes>"
      ]
     },
     "metadata": {
      "needs_background": "light"
     },
     "output_type": "display_data"
    }
   ],
   "source": [
    "figure(figsize=(8, 6), dpi=80)\n",
    "kettle_building1_power.plot()"
   ]
  },
  {
   "cell_type": "code",
   "execution_count": 101,
   "id": "9dcacc29",
   "metadata": {},
   "outputs": [
    {
     "name": "stderr",
     "output_type": "stream",
     "text": [
      "/opt/anaconda3/lib/python3.8/site-packages/pandas/core/arrays/datetimes.py:1266: UserWarning: Converting to PeriodArray/Index representation will drop timezone information.\n",
      "  warnings.warn(\n"
     ]
    },
    {
     "data": {
      "text/plain": [
       "<matplotlib.axes._subplots.AxesSubplot at 0x7fda96a1df10>"
      ]
     },
     "execution_count": 101,
     "metadata": {},
     "output_type": "execute_result"
    },
    {
     "data": {
      "image/png": "[encoded data removed]",
      "text/plain": [
       "<Figure size 432x288 with 1 Axes>"
      ]
     },
     "metadata": {
      "needs_background": "light"
     },
     "output_type": "display_data"
    }
   ],
   "source": [
    "kettle_building1.plot()"
   ]
  },
  {
   "cell_type": "markdown",
   "id": "48aeeba0",
   "metadata": {},
   "source": [
    "* plot the power series for kettle in 24 hr in 2013-01 to 2013-02"
   ]
  },
  {
   "cell_type": "code",
   "execution_count": 115,
   "id": "02ff5703",
   "metadata": {},
   "outputs": [
    {
     "data": {
      "image/png": "[encoded data removed]",
      "text/plain": [
       "<Figure size 640x480 with 1 Axes>"
      ]
     },
     "metadata": {
      "needs_background": "light"
     },
     "output_type": "display_data"
    },
    {
     "data": {
      "text/plain": [
       "<Figure size 432x288 with 0 Axes>"
      ]
     },
     "metadata": {},
     "output_type": "display_data"
    }
   ],
   "source": [
    "figure(figsize=(8, 6), dpi=80)\n",
    "plt.plot(kettle_building1_power['2012-11-09 22:28:18': '2012-11-10 22:28:18'])\n",
    "plt.figure()\n",
    "plt.show()"
   ]
  },
  {
   "cell_type": "markdown",
   "id": "6dcdc638",
   "metadata": {},
   "source": [
    "* plot the power series for kettle and buliding1 in 24 hr in 2013-01 to 2013-02"
   ]
  },
  {
   "cell_type": "code",
   "execution_count": 121,
   "id": "75edc0ae",
   "metadata": {},
   "outputs": [
    {
     "data": {
      "image/png": "[encoded data removed]",
      "text/plain": [
       "<Figure size 640x480 with 1 Axes>"
      ]
     },
     "metadata": {
      "needs_background": "light"
     },
     "output_type": "display_data"
    },
    {
     "data": {
      "text/plain": [
       "<Figure size 432x288 with 0 Axes>"
      ]
     },
     "metadata": {},
     "output_type": "display_data"
    }
   ],
   "source": [
    "figure(figsize=(8, 6), dpi=80)\n",
    "plt.plot(kettle_building1_power['2012-11-09 22:28:18': '2012-11-10 22:28:18'], label='Kettle')\n",
    "plt.plot(ukdale_allpowerseries_building1['2012-11-09 22:28:18': '2012-11-10 22:28:18'], label='Buliding1')\n",
    "plt.legend()\n",
    "plt.figure()\n",
    "plt.show()"
   ]
  },
  {
   "cell_type": "markdown",
   "id": "121e6acb",
   "metadata": {},
   "source": [
    "**Calculate the kettle in total energy**"
   ]
  },
  {
   "cell_type": "code",
   "execution_count": 102,
   "id": "fa087832",
   "metadata": {},
   "outputs": [
    {
     "data": {
      "text/plain": [
       "active    598.594924\n",
       "dtype: float64"
      ]
     },
     "execution_count": 102,
     "metadata": {},
     "output_type": "execute_result"
    }
   ],
   "source": [
    "kettle_building1.total_energy()"
   ]
  },
  {
   "cell_type": "markdown",
   "id": "2be18f3e",
   "metadata": {},
   "source": [
    "**Calculate the total energy in buliding1 minus with kettle power series from '2012-11-09 22:28:18': '2012-11-10 22:28:18'**"
   ]
  },
  {
   "cell_type": "code",
   "execution_count": 26,
   "id": "d6ef9c20",
   "metadata": {},
   "outputs": [
    {
     "data": {
      "text/plain": [
       "2012-11-09 22:28:18+00:00    1.0\n",
       "2012-11-09 22:28:24+00:00    1.0\n",
       "2012-11-09 22:28:30+00:00    1.0\n",
       "2012-11-09 22:28:36+00:00    1.0\n",
       "2012-11-09 22:28:42+00:00    1.0\n",
       "                            ... \n",
       "2012-11-10 22:27:54+00:00    1.0\n",
       "2012-11-10 22:28:00+00:00    1.0\n",
       "2012-11-10 22:28:06+00:00    1.0\n",
       "2012-11-10 22:28:12+00:00    1.0\n",
       "2012-11-10 22:28:18+00:00    1.0\n",
       "Name: (power, active), Length: 14010, dtype: float32"
      ]
     },
     "execution_count": 26,
     "metadata": {},
     "output_type": "execute_result"
    }
   ],
   "source": [
    "kettle_building1_power2 = kettle_building1_power['2012-11-09 22:28:18': '2012-11-10 22:28:18'].fillna(0)\n",
    "kettle_building1_power2"
   ]
  },
  {
   "cell_type": "code",
   "execution_count": 27,
   "id": "579de50b",
   "metadata": {},
   "outputs": [
    {
     "data": {
      "text/html": [
       "<div>\n",
       "<style scoped>\n",
       "    .dataframe tbody tr th:only-of-type {\n",
       "        vertical-align: middle;\n",
       "    }\n",
       "\n",
       "    .dataframe tbody tr th {\n",
       "        vertical-align: top;\n",
       "    }\n",
       "\n",
       "    .dataframe thead th {\n",
       "        text-align: right;\n",
       "    }\n",
       "</style>\n",
       "<table border=\"1\" class=\"dataframe\">\n",
       "  <thead>\n",
       "    <tr style=\"text-align: right;\">\n",
       "      <th></th>\n",
       "      <th>power_active</th>\n",
       "    </tr>\n",
       "    <tr>\n",
       "      <th>date</th>\n",
       "      <th></th>\n",
       "    </tr>\n",
       "  </thead>\n",
       "  <tbody>\n",
       "    <tr>\n",
       "      <th>2012-11-09 22:28:18+00:00</th>\n",
       "      <td>1.0</td>\n",
       "    </tr>\n",
       "    <tr>\n",
       "      <th>2012-11-09 22:28:24+00:00</th>\n",
       "      <td>1.0</td>\n",
       "    </tr>\n",
       "    <tr>\n",
       "      <th>2012-11-09 22:28:30+00:00</th>\n",
       "      <td>1.0</td>\n",
       "    </tr>\n",
       "    <tr>\n",
       "      <th>2012-11-09 22:28:36+00:00</th>\n",
       "      <td>1.0</td>\n",
       "    </tr>\n",
       "    <tr>\n",
       "      <th>2012-11-09 22:28:42+00:00</th>\n",
       "      <td>1.0</td>\n",
       "    </tr>\n",
       "    <tr>\n",
       "      <th>...</th>\n",
       "      <td>...</td>\n",
       "    </tr>\n",
       "    <tr>\n",
       "      <th>2012-11-10 22:27:54+00:00</th>\n",
       "      <td>1.0</td>\n",
       "    </tr>\n",
       "    <tr>\n",
       "      <th>2012-11-10 22:28:00+00:00</th>\n",
       "      <td>1.0</td>\n",
       "    </tr>\n",
       "    <tr>\n",
       "      <th>2012-11-10 22:28:06+00:00</th>\n",
       "      <td>1.0</td>\n",
       "    </tr>\n",
       "    <tr>\n",
       "      <th>2012-11-10 22:28:12+00:00</th>\n",
       "      <td>1.0</td>\n",
       "    </tr>\n",
       "    <tr>\n",
       "      <th>2012-11-10 22:28:18+00:00</th>\n",
       "      <td>1.0</td>\n",
       "    </tr>\n",
       "  </tbody>\n",
       "</table>\n",
       "<p>14010 rows × 1 columns</p>\n",
       "</div>"
      ],
      "text/plain": [
       "                           power_active\n",
       "date                                   \n",
       "2012-11-09 22:28:18+00:00           1.0\n",
       "2012-11-09 22:28:24+00:00           1.0\n",
       "2012-11-09 22:28:30+00:00           1.0\n",
       "2012-11-09 22:28:36+00:00           1.0\n",
       "2012-11-09 22:28:42+00:00           1.0\n",
       "...                                 ...\n",
       "2012-11-10 22:27:54+00:00           1.0\n",
       "2012-11-10 22:28:00+00:00           1.0\n",
       "2012-11-10 22:28:06+00:00           1.0\n",
       "2012-11-10 22:28:12+00:00           1.0\n",
       "2012-11-10 22:28:18+00:00           1.0\n",
       "\n",
       "[14010 rows x 1 columns]"
      ]
     },
     "execution_count": 27,
     "metadata": {},
     "output_type": "execute_result"
    }
   ],
   "source": [
    "kettle_building1_power2 = pd.DataFrame(kettle_building1_power2)\n",
    "kettle_building1_power2.index.name = 'date'\n",
    "kettle_building1_power2.columns = ['power_active']\n",
    "kettle_building1_power2"
   ]
  },
  {
   "cell_type": "code",
   "execution_count": 28,
   "id": "64c6c7c7",
   "metadata": {},
   "outputs": [],
   "source": [
    "ukdale_power_24['power_without_kettle'] = ukdale_power_24['power_active'] - kettle_building1_power2['power_active']"
   ]
  },
  {
   "cell_type": "code",
   "execution_count": 29,
   "id": "26bba3fa",
   "metadata": {},
   "outputs": [],
   "source": [
    "ukdale_power_24['power_without_kettle'] = ukdale_power_24['power_without_kettle'].fillna(0)"
   ]
  },
  {
   "cell_type": "code",
   "execution_count": 30,
   "id": "c4a720cc",
   "metadata": {},
   "outputs": [],
   "source": [
    "kettle_gasf = gasf.fit_transform(np.array(ukdale_power_24['power_without_kettle']).reshape((1,-1)))"
   ]
  },
  {
   "cell_type": "code",
   "execution_count": 31,
   "id": "3411ed68",
   "metadata": {},
   "outputs": [
    {
     "data": {
      "image/png": "[encoded data removed]",
      "text/plain": [
       "<Figure size 432x432 with 2 Axes>"
      ]
     },
     "metadata": {
      "needs_background": "light"
     },
     "output_type": "display_data"
    }
   ],
   "source": [
    "fig, ax = plt.subplots(figsize=(6, 6))\n",
    "plt.imshow(kettle_gasf[0], cmap='hot',interpolation='nearest')\n",
    "color_bar = plt.colorbar(ticks=[-1.0,0.0,1.0])\n",
    "color_bar.set_label('Angle')\n",
    "color_bar.ax.set_xticklabels(['-1.0', '0.0', '1.0'])\n",
    "plt.xlabel('Time (hour)')\n",
    "xticks = ax.get_xticks()\n",
    "yticks = ax.get_yticks()\n",
    "ax.autoscale(False)\n",
    "ax.xaxis.set_ticklabels(scale_xaxis(xticks))\n",
    "ax.yaxis.set_ticklabels(scale_yaxis(xticks))\n",
    "plt.ylabel('Time (second)')\n",
    "plt.gca().invert_yaxis()\n",
    "plt.title('Gramian angular summation field for ukdale without kettle')\n",
    "plt.show()"
   ]
  },
  {
   "cell_type": "code",
   "execution_count": 32,
   "id": "df0214f0",
   "metadata": {},
   "outputs": [],
   "source": [
    "kettle_building1_power2_day2 = kettle_building1_power['2012-11-10 22:28:18': '2012-11-11 22:28:18'].fillna(0)"
   ]
  },
  {
   "cell_type": "code",
   "execution_count": 33,
   "id": "c101a44d",
   "metadata": {},
   "outputs": [
    {
     "data": {
      "text/html": [
       "<div>\n",
       "<style scoped>\n",
       "    .dataframe tbody tr th:only-of-type {\n",
       "        vertical-align: middle;\n",
       "    }\n",
       "\n",
       "    .dataframe tbody tr th {\n",
       "        vertical-align: top;\n",
       "    }\n",
       "\n",
       "    .dataframe thead th {\n",
       "        text-align: right;\n",
       "    }\n",
       "</style>\n",
       "<table border=\"1\" class=\"dataframe\">\n",
       "  <thead>\n",
       "    <tr style=\"text-align: right;\">\n",
       "      <th></th>\n",
       "      <th>power_active</th>\n",
       "    </tr>\n",
       "    <tr>\n",
       "      <th>date</th>\n",
       "      <th></th>\n",
       "    </tr>\n",
       "  </thead>\n",
       "  <tbody>\n",
       "    <tr>\n",
       "      <th>2012-11-10 22:28:18+00:00</th>\n",
       "      <td>1.0</td>\n",
       "    </tr>\n",
       "    <tr>\n",
       "      <th>2012-11-10 22:28:24+00:00</th>\n",
       "      <td>1.0</td>\n",
       "    </tr>\n",
       "    <tr>\n",
       "      <th>2012-11-10 22:28:30+00:00</th>\n",
       "      <td>1.0</td>\n",
       "    </tr>\n",
       "    <tr>\n",
       "      <th>2012-11-10 22:28:37+00:00</th>\n",
       "      <td>1.0</td>\n",
       "    </tr>\n",
       "    <tr>\n",
       "      <th>2012-11-10 22:28:43+00:00</th>\n",
       "      <td>1.0</td>\n",
       "    </tr>\n",
       "    <tr>\n",
       "      <th>...</th>\n",
       "      <td>...</td>\n",
       "    </tr>\n",
       "    <tr>\n",
       "      <th>2012-11-11 22:27:51+00:00</th>\n",
       "      <td>1.0</td>\n",
       "    </tr>\n",
       "    <tr>\n",
       "      <th>2012-11-11 22:27:57+00:00</th>\n",
       "      <td>1.0</td>\n",
       "    </tr>\n",
       "    <tr>\n",
       "      <th>2012-11-11 22:28:03+00:00</th>\n",
       "      <td>1.0</td>\n",
       "    </tr>\n",
       "    <tr>\n",
       "      <th>2012-11-11 22:28:09+00:00</th>\n",
       "      <td>1.0</td>\n",
       "    </tr>\n",
       "    <tr>\n",
       "      <th>2012-11-11 22:28:16+00:00</th>\n",
       "      <td>1.0</td>\n",
       "    </tr>\n",
       "  </tbody>\n",
       "</table>\n",
       "<p>13991 rows × 1 columns</p>\n",
       "</div>"
      ],
      "text/plain": [
       "                           power_active\n",
       "date                                   \n",
       "2012-11-10 22:28:18+00:00           1.0\n",
       "2012-11-10 22:28:24+00:00           1.0\n",
       "2012-11-10 22:28:30+00:00           1.0\n",
       "2012-11-10 22:28:37+00:00           1.0\n",
       "2012-11-10 22:28:43+00:00           1.0\n",
       "...                                 ...\n",
       "2012-11-11 22:27:51+00:00           1.0\n",
       "2012-11-11 22:27:57+00:00           1.0\n",
       "2012-11-11 22:28:03+00:00           1.0\n",
       "2012-11-11 22:28:09+00:00           1.0\n",
       "2012-11-11 22:28:16+00:00           1.0\n",
       "\n",
       "[13991 rows x 1 columns]"
      ]
     },
     "execution_count": 33,
     "metadata": {},
     "output_type": "execute_result"
    }
   ],
   "source": [
    "kettle_building1_power2_day2 = pd.DataFrame(kettle_building1_power2_day2)\n",
    "kettle_building1_power2_day2.index.name = 'date'\n",
    "kettle_building1_power2_day2.columns = ['power_active']\n",
    "kettle_building1_power2_day2"
   ]
  },
  {
   "cell_type": "code",
   "execution_count": 34,
   "id": "5ae23ccf",
   "metadata": {},
   "outputs": [],
   "source": [
    "ukdale_power_24_day2['power_without_kettle_day2'] = (ukdale_power_24_day2['power_active'] - kettle_building1_power2_day2['power_active']).fillna(0)"
   ]
  },
  {
   "cell_type": "code",
   "execution_count": 35,
   "id": "99cd9b5b",
   "metadata": {},
   "outputs": [
    {
     "data": {
      "text/html": [
       "<div>\n",
       "<style scoped>\n",
       "    .dataframe tbody tr th:only-of-type {\n",
       "        vertical-align: middle;\n",
       "    }\n",
       "\n",
       "    .dataframe tbody tr th {\n",
       "        vertical-align: top;\n",
       "    }\n",
       "\n",
       "    .dataframe thead th {\n",
       "        text-align: right;\n",
       "    }\n",
       "</style>\n",
       "<table border=\"1\" class=\"dataframe\">\n",
       "  <thead>\n",
       "    <tr style=\"text-align: right;\">\n",
       "      <th></th>\n",
       "      <th>power_active</th>\n",
       "      <th>power_without_kettle_day2</th>\n",
       "    </tr>\n",
       "    <tr>\n",
       "      <th>date</th>\n",
       "      <th></th>\n",
       "      <th></th>\n",
       "    </tr>\n",
       "  </thead>\n",
       "  <tbody>\n",
       "    <tr>\n",
       "      <th>2012-11-10 22:28:18+00:00</th>\n",
       "      <td>96.0</td>\n",
       "      <td>95.0</td>\n",
       "    </tr>\n",
       "    <tr>\n",
       "      <th>2012-11-10 22:28:24+00:00</th>\n",
       "      <td>96.0</td>\n",
       "      <td>95.0</td>\n",
       "    </tr>\n",
       "    <tr>\n",
       "      <th>2012-11-10 22:28:30+00:00</th>\n",
       "      <td>104.0</td>\n",
       "      <td>103.0</td>\n",
       "    </tr>\n",
       "    <tr>\n",
       "      <th>2012-11-10 22:28:36+00:00</th>\n",
       "      <td>113.0</td>\n",
       "      <td>0.0</td>\n",
       "    </tr>\n",
       "    <tr>\n",
       "      <th>2012-11-10 22:28:42+00:00</th>\n",
       "      <td>107.0</td>\n",
       "      <td>0.0</td>\n",
       "    </tr>\n",
       "    <tr>\n",
       "      <th>...</th>\n",
       "      <td>...</td>\n",
       "      <td>...</td>\n",
       "    </tr>\n",
       "    <tr>\n",
       "      <th>2012-11-11 22:27:54+00:00</th>\n",
       "      <td>141.0</td>\n",
       "      <td>0.0</td>\n",
       "    </tr>\n",
       "    <tr>\n",
       "      <th>2012-11-11 22:28:00+00:00</th>\n",
       "      <td>130.0</td>\n",
       "      <td>0.0</td>\n",
       "    </tr>\n",
       "    <tr>\n",
       "      <th>2012-11-11 22:28:06+00:00</th>\n",
       "      <td>126.0</td>\n",
       "      <td>0.0</td>\n",
       "    </tr>\n",
       "    <tr>\n",
       "      <th>2012-11-11 22:28:12+00:00</th>\n",
       "      <td>88.0</td>\n",
       "      <td>0.0</td>\n",
       "    </tr>\n",
       "    <tr>\n",
       "      <th>2012-11-11 22:28:18+00:00</th>\n",
       "      <td>89.0</td>\n",
       "      <td>0.0</td>\n",
       "    </tr>\n",
       "  </tbody>\n",
       "</table>\n",
       "<p>14401 rows × 2 columns</p>\n",
       "</div>"
      ],
      "text/plain": [
       "                           power_active  power_without_kettle_day2\n",
       "date                                                              \n",
       "2012-11-10 22:28:18+00:00          96.0                       95.0\n",
       "2012-11-10 22:28:24+00:00          96.0                       95.0\n",
       "2012-11-10 22:28:30+00:00         104.0                      103.0\n",
       "2012-11-10 22:28:36+00:00         113.0                        0.0\n",
       "2012-11-10 22:28:42+00:00         107.0                        0.0\n",
       "...                                 ...                        ...\n",
       "2012-11-11 22:27:54+00:00         141.0                        0.0\n",
       "2012-11-11 22:28:00+00:00         130.0                        0.0\n",
       "2012-11-11 22:28:06+00:00         126.0                        0.0\n",
       "2012-11-11 22:28:12+00:00          88.0                        0.0\n",
       "2012-11-11 22:28:18+00:00          89.0                        0.0\n",
       "\n",
       "[14401 rows x 2 columns]"
      ]
     },
     "execution_count": 35,
     "metadata": {},
     "output_type": "execute_result"
    }
   ],
   "source": [
    "ukdale_power_24_day2"
   ]
  },
  {
   "cell_type": "code",
   "execution_count": 36,
   "id": "aa1ab181",
   "metadata": {},
   "outputs": [],
   "source": [
    "kettle_gasf_day2 = gasf.fit_transform(np.array(ukdale_power_24_day2['power_without_kettle_day2']).reshape((1,-1)))"
   ]
  },
  {
   "cell_type": "code",
   "execution_count": 37,
   "id": "80866687",
   "metadata": {},
   "outputs": [
    {
     "data": {
      "image/png": "[encoded data removed]",
      "text/plain": [
       "<Figure size 432x432 with 2 Axes>"
      ]
     },
     "metadata": {
      "needs_background": "light"
     },
     "output_type": "display_data"
    }
   ],
   "source": [
    "fig, ax = plt.subplots(figsize=(6, 6))\n",
    "plt.imshow(kettle_gasf_day2[0], cmap='hot',interpolation='nearest')\n",
    "color_bar = plt.colorbar(ticks=[-1.0,0.0,1.0])\n",
    "color_bar.set_label('Angle')\n",
    "color_bar.ax.set_xticklabels(['-1.0', '0.0', '1.0'])\n",
    "plt.xlabel('Time (hour)')\n",
    "xticks = ax.get_xticks()\n",
    "yticks = ax.get_yticks()\n",
    "ax.autoscale(False)\n",
    "ax.xaxis.set_ticklabels(scale_xaxis(xticks))\n",
    "ax.yaxis.set_ticklabels(scale_yaxis(xticks))\n",
    "plt.ylabel('Time (second)')\n",
    "plt.gca().invert_yaxis()\n",
    "plt.title('Gramian angular summation field for ukdale without kettle day2')\n",
    "plt.show()"
   ]
  },
  {
   "cell_type": "markdown",
   "id": "7937aa3f",
   "metadata": {},
   "source": [
    "# Create the image from the GAFs "
   ]
  },
  {
   "cell_type": "markdown",
   "id": "1268e428",
   "metadata": {},
   "source": [
    "* the aggregate power in house1"
   ]
  },
  {
   "cell_type": "code",
   "execution_count": 9,
   "id": "2526dacd",
   "metadata": {},
   "outputs": [
    {
     "data": {
      "text/plain": [
       "23454677"
      ]
     },
     "execution_count": 9,
     "metadata": {},
     "output_type": "execute_result"
    }
   ],
   "source": [
    "len(ukdale_allpowerseries_building1.index)"
   ]
  },
  {
   "cell_type": "code",
   "execution_count": 10,
   "id": "94dfabed",
   "metadata": {},
   "outputs": [
    {
     "data": {
      "text/plain": [
       "DatetimeIndex(['2012-11-09 22:28:18+00:00', '2012-11-09 22:28:24+00:00',\n",
       "               '2012-11-09 22:28:30+00:00', '2012-11-09 22:28:36+00:00',\n",
       "               '2012-11-09 22:28:42+00:00', '2012-11-09 22:28:48+00:00',\n",
       "               '2012-11-09 22:28:54+00:00', '2012-11-09 22:29:00+00:00',\n",
       "               '2012-11-09 22:29:06+00:00', '2012-11-09 22:29:12+00:00',\n",
       "               ...\n",
       "               '2012-11-10 22:27:24+00:00', '2012-11-10 22:27:30+00:00',\n",
       "               '2012-11-10 22:27:36+00:00', '2012-11-10 22:27:42+00:00',\n",
       "               '2012-11-10 22:27:48+00:00', '2012-11-10 22:27:54+00:00',\n",
       "               '2012-11-10 22:28:00+00:00', '2012-11-10 22:28:06+00:00',\n",
       "               '2012-11-10 22:28:12+00:00', '2012-11-10 22:28:18+00:00'],\n",
       "              dtype='datetime64[ns, Europe/London]', name='date', length=14401, freq='6S')"
      ]
     },
     "execution_count": 10,
     "metadata": {},
     "output_type": "execute_result"
    }
   ],
   "source": [
    "ukdale_allpowerseries_building1.index[:14401]"
   ]
  },
  {
   "cell_type": "code",
   "execution_count": 25,
   "id": "b81f9726",
   "metadata": {},
   "outputs": [],
   "source": [
    "import datetime as dt"
   ]
  },
  {
   "cell_type": "code",
   "execution_count": 26,
   "id": "c682aed8",
   "metadata": {},
   "outputs": [],
   "source": [
    "ukdale_building1 = ukdale_allpowerseries_building1.reset_index()"
   ]
  },
  {
   "cell_type": "code",
   "execution_count": 27,
   "id": "6dff5221",
   "metadata": {},
   "outputs": [
    {
     "data": {
      "text/html": [
       "<div>\n",
       "<style scoped>\n",
       "    .dataframe tbody tr th:only-of-type {\n",
       "        vertical-align: middle;\n",
       "    }\n",
       "\n",
       "    .dataframe tbody tr th {\n",
       "        vertical-align: top;\n",
       "    }\n",
       "\n",
       "    .dataframe thead th {\n",
       "        text-align: right;\n",
       "    }\n",
       "</style>\n",
       "<table border=\"1\" class=\"dataframe\">\n",
       "  <thead>\n",
       "    <tr style=\"text-align: right;\">\n",
       "      <th></th>\n",
       "      <th>date</th>\n",
       "      <th>power_active</th>\n",
       "    </tr>\n",
       "  </thead>\n",
       "  <tbody>\n",
       "    <tr>\n",
       "      <th>0</th>\n",
       "      <td>2012-11-09 22:28:18+00:00</td>\n",
       "      <td>162.000000</td>\n",
       "    </tr>\n",
       "    <tr>\n",
       "      <th>1</th>\n",
       "      <td>2012-11-09 22:28:24+00:00</td>\n",
       "      <td>164.000000</td>\n",
       "    </tr>\n",
       "    <tr>\n",
       "      <th>2</th>\n",
       "      <td>2012-11-09 22:28:30+00:00</td>\n",
       "      <td>163.000000</td>\n",
       "    </tr>\n",
       "    <tr>\n",
       "      <th>3</th>\n",
       "      <td>2012-11-09 22:28:36+00:00</td>\n",
       "      <td>160.000000</td>\n",
       "    </tr>\n",
       "    <tr>\n",
       "      <th>4</th>\n",
       "      <td>2012-11-09 22:28:42+00:00</td>\n",
       "      <td>159.000000</td>\n",
       "    </tr>\n",
       "    <tr>\n",
       "      <th>...</th>\n",
       "      <td>...</td>\n",
       "      <td>...</td>\n",
       "    </tr>\n",
       "    <tr>\n",
       "      <th>23454672</th>\n",
       "      <td>2017-04-26 18:35:30+01:00</td>\n",
       "      <td>818.984985</td>\n",
       "    </tr>\n",
       "    <tr>\n",
       "      <th>23454673</th>\n",
       "      <td>2017-04-26 18:35:36+01:00</td>\n",
       "      <td>805.613342</td>\n",
       "    </tr>\n",
       "    <tr>\n",
       "      <th>23454674</th>\n",
       "      <td>2017-04-26 18:35:42+01:00</td>\n",
       "      <td>678.335022</td>\n",
       "    </tr>\n",
       "    <tr>\n",
       "      <th>23454675</th>\n",
       "      <td>2017-04-26 18:35:48+01:00</td>\n",
       "      <td>NaN</td>\n",
       "    </tr>\n",
       "    <tr>\n",
       "      <th>23454676</th>\n",
       "      <td>2017-04-26 18:35:54+01:00</td>\n",
       "      <td>NaN</td>\n",
       "    </tr>\n",
       "  </tbody>\n",
       "</table>\n",
       "<p>23454677 rows × 2 columns</p>\n",
       "</div>"
      ],
      "text/plain": [
       "                              date  power_active\n",
       "0        2012-11-09 22:28:18+00:00    162.000000\n",
       "1        2012-11-09 22:28:24+00:00    164.000000\n",
       "2        2012-11-09 22:28:30+00:00    163.000000\n",
       "3        2012-11-09 22:28:36+00:00    160.000000\n",
       "4        2012-11-09 22:28:42+00:00    159.000000\n",
       "...                            ...           ...\n",
       "23454672 2017-04-26 18:35:30+01:00    818.984985\n",
       "23454673 2017-04-26 18:35:36+01:00    805.613342\n",
       "23454674 2017-04-26 18:35:42+01:00    678.335022\n",
       "23454675 2017-04-26 18:35:48+01:00           NaN\n",
       "23454676 2017-04-26 18:35:54+01:00           NaN\n",
       "\n",
       "[23454677 rows x 2 columns]"
      ]
     },
     "execution_count": 27,
     "metadata": {},
     "output_type": "execute_result"
    }
   ],
   "source": [
    "ukdale_building1 "
   ]
  },
  {
   "cell_type": "code",
   "execution_count": 28,
   "id": "c177d1cc",
   "metadata": {},
   "outputs": [],
   "source": [
    "ukdale_building1['year'] = ukdale_building1['date'].dt.year\n",
    "ukdale_building1['month'] = ukdale_building1['date'].dt.month\n",
    "ukdale_building1['day'] = ukdale_building1['date'].dt.day\n",
    "ukdale_building1['hour'] = ukdale_building1['date'].dt.hour\n",
    "ukdale_building1['minute'] = ukdale_building1['date'].dt.minute"
   ]
  },
  {
   "cell_type": "code",
   "execution_count": 29,
   "id": "346d915e",
   "metadata": {},
   "outputs": [],
   "source": [
    "ukdale_building1['second'] = ukdale_building1['date'].dt.second"
   ]
  },
  {
   "cell_type": "code",
   "execution_count": 30,
   "id": "52b9409a",
   "metadata": {},
   "outputs": [
    {
     "data": {
      "text/html": [
       "<div>\n",
       "<style scoped>\n",
       "    .dataframe tbody tr th:only-of-type {\n",
       "        vertical-align: middle;\n",
       "    }\n",
       "\n",
       "    .dataframe tbody tr th {\n",
       "        vertical-align: top;\n",
       "    }\n",
       "\n",
       "    .dataframe thead th {\n",
       "        text-align: right;\n",
       "    }\n",
       "</style>\n",
       "<table border=\"1\" class=\"dataframe\">\n",
       "  <thead>\n",
       "    <tr style=\"text-align: right;\">\n",
       "      <th></th>\n",
       "      <th>date</th>\n",
       "      <th>power_active</th>\n",
       "      <th>year</th>\n",
       "      <th>month</th>\n",
       "      <th>day</th>\n",
       "      <th>hour</th>\n",
       "      <th>minute</th>\n",
       "      <th>second</th>\n",
       "    </tr>\n",
       "  </thead>\n",
       "  <tbody>\n",
       "    <tr>\n",
       "      <th>0</th>\n",
       "      <td>2012-11-09 22:28:18+00:00</td>\n",
       "      <td>162.000000</td>\n",
       "      <td>2012</td>\n",
       "      <td>11</td>\n",
       "      <td>9</td>\n",
       "      <td>22</td>\n",
       "      <td>28</td>\n",
       "      <td>18</td>\n",
       "    </tr>\n",
       "    <tr>\n",
       "      <th>1</th>\n",
       "      <td>2012-11-09 22:28:24+00:00</td>\n",
       "      <td>164.000000</td>\n",
       "      <td>2012</td>\n",
       "      <td>11</td>\n",
       "      <td>9</td>\n",
       "      <td>22</td>\n",
       "      <td>28</td>\n",
       "      <td>24</td>\n",
       "    </tr>\n",
       "    <tr>\n",
       "      <th>2</th>\n",
       "      <td>2012-11-09 22:28:30+00:00</td>\n",
       "      <td>163.000000</td>\n",
       "      <td>2012</td>\n",
       "      <td>11</td>\n",
       "      <td>9</td>\n",
       "      <td>22</td>\n",
       "      <td>28</td>\n",
       "      <td>30</td>\n",
       "    </tr>\n",
       "    <tr>\n",
       "      <th>3</th>\n",
       "      <td>2012-11-09 22:28:36+00:00</td>\n",
       "      <td>160.000000</td>\n",
       "      <td>2012</td>\n",
       "      <td>11</td>\n",
       "      <td>9</td>\n",
       "      <td>22</td>\n",
       "      <td>28</td>\n",
       "      <td>36</td>\n",
       "    </tr>\n",
       "    <tr>\n",
       "      <th>4</th>\n",
       "      <td>2012-11-09 22:28:42+00:00</td>\n",
       "      <td>159.000000</td>\n",
       "      <td>2012</td>\n",
       "      <td>11</td>\n",
       "      <td>9</td>\n",
       "      <td>22</td>\n",
       "      <td>28</td>\n",
       "      <td>42</td>\n",
       "    </tr>\n",
       "    <tr>\n",
       "      <th>...</th>\n",
       "      <td>...</td>\n",
       "      <td>...</td>\n",
       "      <td>...</td>\n",
       "      <td>...</td>\n",
       "      <td>...</td>\n",
       "      <td>...</td>\n",
       "      <td>...</td>\n",
       "      <td>...</td>\n",
       "    </tr>\n",
       "    <tr>\n",
       "      <th>23454672</th>\n",
       "      <td>2017-04-26 18:35:30+01:00</td>\n",
       "      <td>818.984985</td>\n",
       "      <td>2017</td>\n",
       "      <td>4</td>\n",
       "      <td>26</td>\n",
       "      <td>18</td>\n",
       "      <td>35</td>\n",
       "      <td>30</td>\n",
       "    </tr>\n",
       "    <tr>\n",
       "      <th>23454673</th>\n",
       "      <td>2017-04-26 18:35:36+01:00</td>\n",
       "      <td>805.613342</td>\n",
       "      <td>2017</td>\n",
       "      <td>4</td>\n",
       "      <td>26</td>\n",
       "      <td>18</td>\n",
       "      <td>35</td>\n",
       "      <td>36</td>\n",
       "    </tr>\n",
       "    <tr>\n",
       "      <th>23454674</th>\n",
       "      <td>2017-04-26 18:35:42+01:00</td>\n",
       "      <td>678.335022</td>\n",
       "      <td>2017</td>\n",
       "      <td>4</td>\n",
       "      <td>26</td>\n",
       "      <td>18</td>\n",
       "      <td>35</td>\n",
       "      <td>42</td>\n",
       "    </tr>\n",
       "    <tr>\n",
       "      <th>23454675</th>\n",
       "      <td>2017-04-26 18:35:48+01:00</td>\n",
       "      <td>NaN</td>\n",
       "      <td>2017</td>\n",
       "      <td>4</td>\n",
       "      <td>26</td>\n",
       "      <td>18</td>\n",
       "      <td>35</td>\n",
       "      <td>48</td>\n",
       "    </tr>\n",
       "    <tr>\n",
       "      <th>23454676</th>\n",
       "      <td>2017-04-26 18:35:54+01:00</td>\n",
       "      <td>NaN</td>\n",
       "      <td>2017</td>\n",
       "      <td>4</td>\n",
       "      <td>26</td>\n",
       "      <td>18</td>\n",
       "      <td>35</td>\n",
       "      <td>54</td>\n",
       "    </tr>\n",
       "  </tbody>\n",
       "</table>\n",
       "<p>23454677 rows × 8 columns</p>\n",
       "</div>"
      ],
      "text/plain": [
       "                              date  power_active  year  month  day  hour  \\\n",
       "0        2012-11-09 22:28:18+00:00    162.000000  2012     11    9    22   \n",
       "1        2012-11-09 22:28:24+00:00    164.000000  2012     11    9    22   \n",
       "2        2012-11-09 22:28:30+00:00    163.000000  2012     11    9    22   \n",
       "3        2012-11-09 22:28:36+00:00    160.000000  2012     11    9    22   \n",
       "4        2012-11-09 22:28:42+00:00    159.000000  2012     11    9    22   \n",
       "...                            ...           ...   ...    ...  ...   ...   \n",
       "23454672 2017-04-26 18:35:30+01:00    818.984985  2017      4   26    18   \n",
       "23454673 2017-04-26 18:35:36+01:00    805.613342  2017      4   26    18   \n",
       "23454674 2017-04-26 18:35:42+01:00    678.335022  2017      4   26    18   \n",
       "23454675 2017-04-26 18:35:48+01:00           NaN  2017      4   26    18   \n",
       "23454676 2017-04-26 18:35:54+01:00           NaN  2017      4   26    18   \n",
       "\n",
       "          minute  second  \n",
       "0             28      18  \n",
       "1             28      24  \n",
       "2             28      30  \n",
       "3             28      36  \n",
       "4             28      42  \n",
       "...          ...     ...  \n",
       "23454672      35      30  \n",
       "23454673      35      36  \n",
       "23454674      35      42  \n",
       "23454675      35      48  \n",
       "23454676      35      54  \n",
       "\n",
       "[23454677 rows x 8 columns]"
      ]
     },
     "execution_count": 30,
     "metadata": {},
     "output_type": "execute_result"
    }
   ],
   "source": [
    "ukdale_building1"
   ]
  },
  {
   "cell_type": "code",
   "execution_count": 31,
   "id": "a505b926",
   "metadata": {},
   "outputs": [
    {
     "data": {
      "text/plain": [
       "['date', 'power_active', 'year', 'month', 'day', 'hour', 'minute', 'second']"
      ]
     },
     "execution_count": 31,
     "metadata": {},
     "output_type": "execute_result"
    }
   ],
   "source": [
    "list(ukdale_building1.columns)"
   ]
  },
  {
   "cell_type": "code",
   "execution_count": 32,
   "id": "f14c6a76",
   "metadata": {},
   "outputs": [],
   "source": [
    "ukdale_building1['power_active'] = ukdale_building1['power_active'].fillna(0)"
   ]
  },
  {
   "cell_type": "code",
   "execution_count": 33,
   "id": "383cca47",
   "metadata": {},
   "outputs": [
    {
     "data": {
      "text/html": [
       "<div>\n",
       "<style scoped>\n",
       "    .dataframe tbody tr th:only-of-type {\n",
       "        vertical-align: middle;\n",
       "    }\n",
       "\n",
       "    .dataframe tbody tr th {\n",
       "        vertical-align: top;\n",
       "    }\n",
       "\n",
       "    .dataframe thead th {\n",
       "        text-align: right;\n",
       "    }\n",
       "</style>\n",
       "<table border=\"1\" class=\"dataframe\">\n",
       "  <thead>\n",
       "    <tr style=\"text-align: right;\">\n",
       "      <th></th>\n",
       "      <th>date</th>\n",
       "      <th>power_active</th>\n",
       "      <th>year</th>\n",
       "      <th>month</th>\n",
       "      <th>day</th>\n",
       "      <th>hour</th>\n",
       "      <th>minute</th>\n",
       "      <th>second</th>\n",
       "    </tr>\n",
       "  </thead>\n",
       "  <tbody>\n",
       "    <tr>\n",
       "      <th>0</th>\n",
       "      <td>2012-11-09 22:28:18+00:00</td>\n",
       "      <td>162.000000</td>\n",
       "      <td>2012</td>\n",
       "      <td>11</td>\n",
       "      <td>9</td>\n",
       "      <td>22</td>\n",
       "      <td>28</td>\n",
       "      <td>18</td>\n",
       "    </tr>\n",
       "    <tr>\n",
       "      <th>1</th>\n",
       "      <td>2012-11-09 22:28:24+00:00</td>\n",
       "      <td>164.000000</td>\n",
       "      <td>2012</td>\n",
       "      <td>11</td>\n",
       "      <td>9</td>\n",
       "      <td>22</td>\n",
       "      <td>28</td>\n",
       "      <td>24</td>\n",
       "    </tr>\n",
       "    <tr>\n",
       "      <th>2</th>\n",
       "      <td>2012-11-09 22:28:30+00:00</td>\n",
       "      <td>163.000000</td>\n",
       "      <td>2012</td>\n",
       "      <td>11</td>\n",
       "      <td>9</td>\n",
       "      <td>22</td>\n",
       "      <td>28</td>\n",
       "      <td>30</td>\n",
       "    </tr>\n",
       "    <tr>\n",
       "      <th>3</th>\n",
       "      <td>2012-11-09 22:28:36+00:00</td>\n",
       "      <td>160.000000</td>\n",
       "      <td>2012</td>\n",
       "      <td>11</td>\n",
       "      <td>9</td>\n",
       "      <td>22</td>\n",
       "      <td>28</td>\n",
       "      <td>36</td>\n",
       "    </tr>\n",
       "    <tr>\n",
       "      <th>4</th>\n",
       "      <td>2012-11-09 22:28:42+00:00</td>\n",
       "      <td>159.000000</td>\n",
       "      <td>2012</td>\n",
       "      <td>11</td>\n",
       "      <td>9</td>\n",
       "      <td>22</td>\n",
       "      <td>28</td>\n",
       "      <td>42</td>\n",
       "    </tr>\n",
       "    <tr>\n",
       "      <th>...</th>\n",
       "      <td>...</td>\n",
       "      <td>...</td>\n",
       "      <td>...</td>\n",
       "      <td>...</td>\n",
       "      <td>...</td>\n",
       "      <td>...</td>\n",
       "      <td>...</td>\n",
       "      <td>...</td>\n",
       "    </tr>\n",
       "    <tr>\n",
       "      <th>23454672</th>\n",
       "      <td>2017-04-26 18:35:30+01:00</td>\n",
       "      <td>818.984985</td>\n",
       "      <td>2017</td>\n",
       "      <td>4</td>\n",
       "      <td>26</td>\n",
       "      <td>18</td>\n",
       "      <td>35</td>\n",
       "      <td>30</td>\n",
       "    </tr>\n",
       "    <tr>\n",
       "      <th>23454673</th>\n",
       "      <td>2017-04-26 18:35:36+01:00</td>\n",
       "      <td>805.613342</td>\n",
       "      <td>2017</td>\n",
       "      <td>4</td>\n",
       "      <td>26</td>\n",
       "      <td>18</td>\n",
       "      <td>35</td>\n",
       "      <td>36</td>\n",
       "    </tr>\n",
       "    <tr>\n",
       "      <th>23454674</th>\n",
       "      <td>2017-04-26 18:35:42+01:00</td>\n",
       "      <td>678.335022</td>\n",
       "      <td>2017</td>\n",
       "      <td>4</td>\n",
       "      <td>26</td>\n",
       "      <td>18</td>\n",
       "      <td>35</td>\n",
       "      <td>42</td>\n",
       "    </tr>\n",
       "    <tr>\n",
       "      <th>23454675</th>\n",
       "      <td>2017-04-26 18:35:48+01:00</td>\n",
       "      <td>0.000000</td>\n",
       "      <td>2017</td>\n",
       "      <td>4</td>\n",
       "      <td>26</td>\n",
       "      <td>18</td>\n",
       "      <td>35</td>\n",
       "      <td>48</td>\n",
       "    </tr>\n",
       "    <tr>\n",
       "      <th>23454676</th>\n",
       "      <td>2017-04-26 18:35:54+01:00</td>\n",
       "      <td>0.000000</td>\n",
       "      <td>2017</td>\n",
       "      <td>4</td>\n",
       "      <td>26</td>\n",
       "      <td>18</td>\n",
       "      <td>35</td>\n",
       "      <td>54</td>\n",
       "    </tr>\n",
       "  </tbody>\n",
       "</table>\n",
       "<p>23454677 rows × 8 columns</p>\n",
       "</div>"
      ],
      "text/plain": [
       "                              date  power_active  year  month  day  hour  \\\n",
       "0        2012-11-09 22:28:18+00:00    162.000000  2012     11    9    22   \n",
       "1        2012-11-09 22:28:24+00:00    164.000000  2012     11    9    22   \n",
       "2        2012-11-09 22:28:30+00:00    163.000000  2012     11    9    22   \n",
       "3        2012-11-09 22:28:36+00:00    160.000000  2012     11    9    22   \n",
       "4        2012-11-09 22:28:42+00:00    159.000000  2012     11    9    22   \n",
       "...                            ...           ...   ...    ...  ...   ...   \n",
       "23454672 2017-04-26 18:35:30+01:00    818.984985  2017      4   26    18   \n",
       "23454673 2017-04-26 18:35:36+01:00    805.613342  2017      4   26    18   \n",
       "23454674 2017-04-26 18:35:42+01:00    678.335022  2017      4   26    18   \n",
       "23454675 2017-04-26 18:35:48+01:00      0.000000  2017      4   26    18   \n",
       "23454676 2017-04-26 18:35:54+01:00      0.000000  2017      4   26    18   \n",
       "\n",
       "          minute  second  \n",
       "0             28      18  \n",
       "1             28      24  \n",
       "2             28      30  \n",
       "3             28      36  \n",
       "4             28      42  \n",
       "...          ...     ...  \n",
       "23454672      35      30  \n",
       "23454673      35      36  \n",
       "23454674      35      42  \n",
       "23454675      35      48  \n",
       "23454676      35      54  \n",
       "\n",
       "[23454677 rows x 8 columns]"
      ]
     },
     "execution_count": 33,
     "metadata": {},
     "output_type": "execute_result"
    }
   ],
   "source": [
    "ukdale_building1"
   ]
  },
  {
   "cell_type": "code",
   "execution_count": 173,
   "id": "5174f7b5",
   "metadata": {},
   "outputs": [],
   "source": [
    "ukdale_building1.to_csv('ukdale_building1.csv')"
   ]
  },
  {
   "cell_type": "code",
   "execution_count": 34,
   "id": "20f12a1e",
   "metadata": {},
   "outputs": [
    {
     "data": {
      "text/plain": [
       "date            0\n",
       "power_active    0\n",
       "year            0\n",
       "month           0\n",
       "day             0\n",
       "hour            0\n",
       "minute          0\n",
       "second          0\n",
       "dtype: int64"
      ]
     },
     "execution_count": 34,
     "metadata": {},
     "output_type": "execute_result"
    }
   ],
   "source": [
    "ukdale_building1.isnull().sum()"
   ]
  },
  {
   "cell_type": "code",
   "execution_count": 19,
   "id": "13c50207",
   "metadata": {},
   "outputs": [
    {
     "data": {
      "text/plain": [
       "RangeIndex(start=0, stop=23454677, step=1)"
      ]
     },
     "execution_count": 19,
     "metadata": {},
     "output_type": "execute_result"
    }
   ],
   "source": [
    "ukdale_building1.index"
   ]
  },
  {
   "cell_type": "code",
   "execution_count": 20,
   "id": "4d4b8032",
   "metadata": {},
   "outputs": [
    {
     "data": {
      "text/plain": [
       "2012"
      ]
     },
     "execution_count": 20,
     "metadata": {},
     "output_type": "execute_result"
    }
   ],
   "source": [
    "ukdale_building1.iloc[0]['year']"
   ]
  },
  {
   "cell_type": "code",
   "execution_count": 164,
   "id": "a7513581",
   "metadata": {},
   "outputs": [],
   "source": [
    "gafs_diff = GramianAngularField(method='difference')"
   ]
  },
  {
   "cell_type": "code",
   "execution_count": 75,
   "id": "8d4f9072",
   "metadata": {},
   "outputs": [
    {
     "data": {
      "text/plain": [
       "\"\\n    #fit transform with gasf\\n    gafs_power = gafs_diff.fit_transform(np.array(temp_power).reshape((1,-1)))\\n    \\n    name = str(day+1)\\n    #create image for this day\\n    plt.imsave(name, gafs_power[0] , cmap='hot')\\n\""
      ]
     },
     "execution_count": 75,
     "metadata": {},
     "output_type": "execute_result"
    }
   ],
   "source": [
    "#set_date = set()\n",
    "#temp_power = []\n",
    "\n",
    "def ceatedimage(data):\n",
    "\n",
    "    set_date = set()\n",
    "    temp_power = []\n",
    "    \n",
    "    \n",
    "    for index in range(len(data)):\n",
    "\n",
    "        year = data.iloc[index]['year']\n",
    "        month = data.iloc[index]['month']\n",
    "        day = data.iloc[index]['day']\n",
    "        \n",
    "        if index == 0:\n",
    "            set_date.add(tuple((year,month,day)))\n",
    "            temp_power.append(data.iloc[index]['power_active'])\n",
    "        \n",
    "        else:\n",
    "            if tuple((year,month,day)) not in set_date:\n",
    "                set_date.add(tuple((year,month,day)))\n",
    "\n",
    "                #fit transform with gasf\n",
    "                gafs_power = gafs_diff.fit_transform(np.array(temp_power).reshape((1,-1)))\n",
    "                #print(gafs_power[0])\n",
    "                name = str(year) + '-' + str(month) + '-' + str(day) + '.png'\n",
    "                #create image for this day\n",
    "                plt.imsave('/Users/gracepichar/Documents/GitHub/Data-Science-project/ON/' + name, gafs_power[0] , cmap='hot')\n",
    "\n",
    "                #create new list for power series\n",
    "                temp_power = []\n",
    "                temp_power.append(data.iloc[index]['power_active'])\n",
    "\n",
    "            else:\n",
    "                temp_power.append(data.iloc[index]['power_active'])\n",
    "'''\n",
    "    #fit transform with gasf\n",
    "    gafs_power = gafs_diff.fit_transform(np.array(temp_power).reshape((1,-1)))\n",
    "    \n",
    "    name = str(day+1)\n",
    "    #create image for this day\n",
    "    plt.imsave(name, gafs_power[0] , cmap='hot')\n",
    "'''   \n",
    "    "
   ]
  },
  {
   "cell_type": "code",
   "execution_count": 76,
   "id": "a9866a10",
   "metadata": {},
   "outputs": [],
   "source": [
    "ceatedimage(ukdale_building1)"
   ]
  },
  {
   "cell_type": "code",
   "execution_count": 62,
   "id": "932c2ba2",
   "metadata": {},
   "outputs": [
    {
     "data": {
      "text/plain": [
       "{(2012, 11, 9), (2012, 11, 10), (2012, 11, 11), (2012, 11, 12), (2012, 11, 13)}"
      ]
     },
     "execution_count": 62,
     "metadata": {},
     "output_type": "execute_result"
    }
   ],
   "source": [
    "set_date"
   ]
  },
  {
   "cell_type": "code",
   "execution_count": 80,
   "id": "631dcb64",
   "metadata": {
    "scrolled": true
   },
   "outputs": [
    {
     "data": {
      "text/plain": [
       "array([ 2., 14.,  2., ..., 56., 55., 56.], dtype=float32)"
      ]
     },
     "execution_count": 80,
     "metadata": {},
     "output_type": "execute_result"
    }
   ],
   "source": [
    "np.array(temp_power)"
   ]
  },
  {
   "cell_type": "markdown",
   "id": "e8a6ee78",
   "metadata": {},
   "source": [
    "# Create the aggregate image without kettle in buliding 1"
   ]
  },
  {
   "cell_type": "code",
   "execution_count": 140,
   "id": "89796c87",
   "metadata": {},
   "outputs": [
    {
     "data": {
      "text/plain": [
       "2012-11-09 22:28:18+00:00    1.0\n",
       "2012-11-09 22:28:24+00:00    1.0\n",
       "2012-11-09 22:28:30+00:00    1.0\n",
       "2012-11-09 22:28:36+00:00    1.0\n",
       "2012-11-09 22:28:42+00:00    1.0\n",
       "                            ... \n",
       "2017-04-26 18:32:14+01:00    1.0\n",
       "2017-04-26 18:32:22+01:00    1.0\n",
       "2017-04-26 18:32:30+01:00    1.0\n",
       "2017-04-26 18:32:38+01:00    1.0\n",
       "2017-04-26 18:32:46+01:00    1.0\n",
       "Name: (power, active), Length: 18881051, dtype: float32"
      ]
     },
     "execution_count": 140,
     "metadata": {},
     "output_type": "execute_result"
    }
   ],
   "source": [
    "kettle_building1_power"
   ]
  },
  {
   "cell_type": "code",
   "execution_count": 141,
   "id": "a6df21cd",
   "metadata": {},
   "outputs": [
    {
     "data": {
      "text/html": [
       "<div>\n",
       "<style scoped>\n",
       "    .dataframe tbody tr th:only-of-type {\n",
       "        vertical-align: middle;\n",
       "    }\n",
       "\n",
       "    .dataframe tbody tr th {\n",
       "        vertical-align: top;\n",
       "    }\n",
       "\n",
       "    .dataframe thead th {\n",
       "        text-align: right;\n",
       "    }\n",
       "</style>\n",
       "<table border=\"1\" class=\"dataframe\">\n",
       "  <thead>\n",
       "    <tr style=\"text-align: right;\">\n",
       "      <th></th>\n",
       "      <th>power_device</th>\n",
       "    </tr>\n",
       "    <tr>\n",
       "      <th>date</th>\n",
       "      <th></th>\n",
       "    </tr>\n",
       "  </thead>\n",
       "  <tbody>\n",
       "    <tr>\n",
       "      <th>2012-11-09 22:28:18+00:00</th>\n",
       "      <td>1.0</td>\n",
       "    </tr>\n",
       "    <tr>\n",
       "      <th>2012-11-09 22:28:24+00:00</th>\n",
       "      <td>1.0</td>\n",
       "    </tr>\n",
       "    <tr>\n",
       "      <th>2012-11-09 22:28:30+00:00</th>\n",
       "      <td>1.0</td>\n",
       "    </tr>\n",
       "    <tr>\n",
       "      <th>2012-11-09 22:28:36+00:00</th>\n",
       "      <td>1.0</td>\n",
       "    </tr>\n",
       "    <tr>\n",
       "      <th>2012-11-09 22:28:42+00:00</th>\n",
       "      <td>1.0</td>\n",
       "    </tr>\n",
       "    <tr>\n",
       "      <th>...</th>\n",
       "      <td>...</td>\n",
       "    </tr>\n",
       "    <tr>\n",
       "      <th>2017-04-26 18:32:14+01:00</th>\n",
       "      <td>1.0</td>\n",
       "    </tr>\n",
       "    <tr>\n",
       "      <th>2017-04-26 18:32:22+01:00</th>\n",
       "      <td>1.0</td>\n",
       "    </tr>\n",
       "    <tr>\n",
       "      <th>2017-04-26 18:32:30+01:00</th>\n",
       "      <td>1.0</td>\n",
       "    </tr>\n",
       "    <tr>\n",
       "      <th>2017-04-26 18:32:38+01:00</th>\n",
       "      <td>1.0</td>\n",
       "    </tr>\n",
       "    <tr>\n",
       "      <th>2017-04-26 18:32:46+01:00</th>\n",
       "      <td>1.0</td>\n",
       "    </tr>\n",
       "  </tbody>\n",
       "</table>\n",
       "<p>18881051 rows × 1 columns</p>\n",
       "</div>"
      ],
      "text/plain": [
       "                           power_device\n",
       "date                                   \n",
       "2012-11-09 22:28:18+00:00           1.0\n",
       "2012-11-09 22:28:24+00:00           1.0\n",
       "2012-11-09 22:28:30+00:00           1.0\n",
       "2012-11-09 22:28:36+00:00           1.0\n",
       "2012-11-09 22:28:42+00:00           1.0\n",
       "...                                 ...\n",
       "2017-04-26 18:32:14+01:00           1.0\n",
       "2017-04-26 18:32:22+01:00           1.0\n",
       "2017-04-26 18:32:30+01:00           1.0\n",
       "2017-04-26 18:32:38+01:00           1.0\n",
       "2017-04-26 18:32:46+01:00           1.0\n",
       "\n",
       "[18881051 rows x 1 columns]"
      ]
     },
     "execution_count": 141,
     "metadata": {},
     "output_type": "execute_result"
    }
   ],
   "source": [
    "kettle_building1_power = pd.DataFrame(kettle_building1_power)\n",
    "kettle_building1_power.index.name = 'date'\n",
    "kettle_building1_power.columns = ['power_device']\n",
    "kettle_building1_power['power_device'] = kettle_building1_power['power_device'].fillna(0)\n",
    "kettle_building1_power"
   ]
  },
  {
   "cell_type": "code",
   "execution_count": 124,
   "id": "b99090b2",
   "metadata": {},
   "outputs": [
    {
     "data": {
      "text/plain": [
       "power_active_kettle    0\n",
       "dtype: int64"
      ]
     },
     "execution_count": 124,
     "metadata": {},
     "output_type": "execute_result"
    }
   ],
   "source": [
    "kettle_building1_power.isnull().sum()"
   ]
  },
  {
   "cell_type": "code",
   "execution_count": 125,
   "id": "78ab1c7d",
   "metadata": {},
   "outputs": [],
   "source": [
    "kettle_building1_power = kettle_building1_power.reset_index()"
   ]
  },
  {
   "cell_type": "code",
   "execution_count": 133,
   "id": "48a6a579",
   "metadata": {},
   "outputs": [
    {
     "data": {
      "text/html": [
       "<div>\n",
       "<style scoped>\n",
       "    .dataframe tbody tr th:only-of-type {\n",
       "        vertical-align: middle;\n",
       "    }\n",
       "\n",
       "    .dataframe tbody tr th {\n",
       "        vertical-align: top;\n",
       "    }\n",
       "\n",
       "    .dataframe thead th {\n",
       "        text-align: right;\n",
       "    }\n",
       "</style>\n",
       "<table border=\"1\" class=\"dataframe\">\n",
       "  <thead>\n",
       "    <tr style=\"text-align: right;\">\n",
       "      <th></th>\n",
       "      <th>date</th>\n",
       "      <th>power_active_kettle</th>\n",
       "    </tr>\n",
       "  </thead>\n",
       "  <tbody>\n",
       "    <tr>\n",
       "      <th>0</th>\n",
       "      <td>2012-11-09 22:28:18+00:00</td>\n",
       "      <td>1.0</td>\n",
       "    </tr>\n",
       "    <tr>\n",
       "      <th>1</th>\n",
       "      <td>2012-11-09 22:28:24+00:00</td>\n",
       "      <td>1.0</td>\n",
       "    </tr>\n",
       "    <tr>\n",
       "      <th>2</th>\n",
       "      <td>2012-11-09 22:28:30+00:00</td>\n",
       "      <td>1.0</td>\n",
       "    </tr>\n",
       "    <tr>\n",
       "      <th>3</th>\n",
       "      <td>2012-11-09 22:28:36+00:00</td>\n",
       "      <td>1.0</td>\n",
       "    </tr>\n",
       "    <tr>\n",
       "      <th>4</th>\n",
       "      <td>2012-11-09 22:28:42+00:00</td>\n",
       "      <td>1.0</td>\n",
       "    </tr>\n",
       "    <tr>\n",
       "      <th>...</th>\n",
       "      <td>...</td>\n",
       "      <td>...</td>\n",
       "    </tr>\n",
       "    <tr>\n",
       "      <th>18881046</th>\n",
       "      <td>2017-04-26 18:32:14+01:00</td>\n",
       "      <td>1.0</td>\n",
       "    </tr>\n",
       "    <tr>\n",
       "      <th>18881047</th>\n",
       "      <td>2017-04-26 18:32:22+01:00</td>\n",
       "      <td>1.0</td>\n",
       "    </tr>\n",
       "    <tr>\n",
       "      <th>18881048</th>\n",
       "      <td>2017-04-26 18:32:30+01:00</td>\n",
       "      <td>1.0</td>\n",
       "    </tr>\n",
       "    <tr>\n",
       "      <th>18881049</th>\n",
       "      <td>2017-04-26 18:32:38+01:00</td>\n",
       "      <td>1.0</td>\n",
       "    </tr>\n",
       "    <tr>\n",
       "      <th>18881050</th>\n",
       "      <td>2017-04-26 18:32:46+01:00</td>\n",
       "      <td>1.0</td>\n",
       "    </tr>\n",
       "  </tbody>\n",
       "</table>\n",
       "<p>18881051 rows × 2 columns</p>\n",
       "</div>"
      ],
      "text/plain": [
       "                              date  power_active_kettle\n",
       "0        2012-11-09 22:28:18+00:00                  1.0\n",
       "1        2012-11-09 22:28:24+00:00                  1.0\n",
       "2        2012-11-09 22:28:30+00:00                  1.0\n",
       "3        2012-11-09 22:28:36+00:00                  1.0\n",
       "4        2012-11-09 22:28:42+00:00                  1.0\n",
       "...                            ...                  ...\n",
       "18881046 2017-04-26 18:32:14+01:00                  1.0\n",
       "18881047 2017-04-26 18:32:22+01:00                  1.0\n",
       "18881048 2017-04-26 18:32:30+01:00                  1.0\n",
       "18881049 2017-04-26 18:32:38+01:00                  1.0\n",
       "18881050 2017-04-26 18:32:46+01:00                  1.0\n",
       "\n",
       "[18881051 rows x 2 columns]"
      ]
     },
     "execution_count": 133,
     "metadata": {},
     "output_type": "execute_result"
    }
   ],
   "source": [
    "kettle_building1_power "
   ]
  },
  {
   "cell_type": "code",
   "execution_count": 189,
   "id": "1e1b6614",
   "metadata": {},
   "outputs": [],
   "source": [
    "kettle_building1_power.to_csv('kettle_building1.csv')"
   ]
  },
  {
   "cell_type": "code",
   "execution_count": 127,
   "id": "990dbddd",
   "metadata": {},
   "outputs": [],
   "source": [
    "ukdale_without_kettle = ukdale_building1.join(kettle_building1_power.set_index('date'), on = 'date')"
   ]
  },
  {
   "cell_type": "code",
   "execution_count": 128,
   "id": "0aa0b619",
   "metadata": {},
   "outputs": [
    {
     "data": {
      "text/html": [
       "<div>\n",
       "<style scoped>\n",
       "    .dataframe tbody tr th:only-of-type {\n",
       "        vertical-align: middle;\n",
       "    }\n",
       "\n",
       "    .dataframe tbody tr th {\n",
       "        vertical-align: top;\n",
       "    }\n",
       "\n",
       "    .dataframe thead th {\n",
       "        text-align: right;\n",
       "    }\n",
       "</style>\n",
       "<table border=\"1\" class=\"dataframe\">\n",
       "  <thead>\n",
       "    <tr style=\"text-align: right;\">\n",
       "      <th></th>\n",
       "      <th>date</th>\n",
       "      <th>power_active</th>\n",
       "      <th>year</th>\n",
       "      <th>month</th>\n",
       "      <th>day</th>\n",
       "      <th>hour</th>\n",
       "      <th>minute</th>\n",
       "      <th>second</th>\n",
       "      <th>power_active_kettle</th>\n",
       "    </tr>\n",
       "  </thead>\n",
       "  <tbody>\n",
       "    <tr>\n",
       "      <th>0</th>\n",
       "      <td>2012-11-09 22:28:18+00:00</td>\n",
       "      <td>162.000000</td>\n",
       "      <td>2012</td>\n",
       "      <td>11</td>\n",
       "      <td>9</td>\n",
       "      <td>22</td>\n",
       "      <td>28</td>\n",
       "      <td>18</td>\n",
       "      <td>1.0</td>\n",
       "    </tr>\n",
       "    <tr>\n",
       "      <th>1</th>\n",
       "      <td>2012-11-09 22:28:24+00:00</td>\n",
       "      <td>164.000000</td>\n",
       "      <td>2012</td>\n",
       "      <td>11</td>\n",
       "      <td>9</td>\n",
       "      <td>22</td>\n",
       "      <td>28</td>\n",
       "      <td>24</td>\n",
       "      <td>1.0</td>\n",
       "    </tr>\n",
       "    <tr>\n",
       "      <th>2</th>\n",
       "      <td>2012-11-09 22:28:30+00:00</td>\n",
       "      <td>163.000000</td>\n",
       "      <td>2012</td>\n",
       "      <td>11</td>\n",
       "      <td>9</td>\n",
       "      <td>22</td>\n",
       "      <td>28</td>\n",
       "      <td>30</td>\n",
       "      <td>1.0</td>\n",
       "    </tr>\n",
       "    <tr>\n",
       "      <th>3</th>\n",
       "      <td>2012-11-09 22:28:36+00:00</td>\n",
       "      <td>160.000000</td>\n",
       "      <td>2012</td>\n",
       "      <td>11</td>\n",
       "      <td>9</td>\n",
       "      <td>22</td>\n",
       "      <td>28</td>\n",
       "      <td>36</td>\n",
       "      <td>1.0</td>\n",
       "    </tr>\n",
       "    <tr>\n",
       "      <th>4</th>\n",
       "      <td>2012-11-09 22:28:42+00:00</td>\n",
       "      <td>159.000000</td>\n",
       "      <td>2012</td>\n",
       "      <td>11</td>\n",
       "      <td>9</td>\n",
       "      <td>22</td>\n",
       "      <td>28</td>\n",
       "      <td>42</td>\n",
       "      <td>1.0</td>\n",
       "    </tr>\n",
       "    <tr>\n",
       "      <th>...</th>\n",
       "      <td>...</td>\n",
       "      <td>...</td>\n",
       "      <td>...</td>\n",
       "      <td>...</td>\n",
       "      <td>...</td>\n",
       "      <td>...</td>\n",
       "      <td>...</td>\n",
       "      <td>...</td>\n",
       "      <td>...</td>\n",
       "    </tr>\n",
       "    <tr>\n",
       "      <th>23454672</th>\n",
       "      <td>2017-04-26 18:35:30+01:00</td>\n",
       "      <td>818.984985</td>\n",
       "      <td>2017</td>\n",
       "      <td>4</td>\n",
       "      <td>26</td>\n",
       "      <td>18</td>\n",
       "      <td>35</td>\n",
       "      <td>30</td>\n",
       "      <td>NaN</td>\n",
       "    </tr>\n",
       "    <tr>\n",
       "      <th>23454673</th>\n",
       "      <td>2017-04-26 18:35:36+01:00</td>\n",
       "      <td>805.613342</td>\n",
       "      <td>2017</td>\n",
       "      <td>4</td>\n",
       "      <td>26</td>\n",
       "      <td>18</td>\n",
       "      <td>35</td>\n",
       "      <td>36</td>\n",
       "      <td>NaN</td>\n",
       "    </tr>\n",
       "    <tr>\n",
       "      <th>23454674</th>\n",
       "      <td>2017-04-26 18:35:42+01:00</td>\n",
       "      <td>678.335022</td>\n",
       "      <td>2017</td>\n",
       "      <td>4</td>\n",
       "      <td>26</td>\n",
       "      <td>18</td>\n",
       "      <td>35</td>\n",
       "      <td>42</td>\n",
       "      <td>NaN</td>\n",
       "    </tr>\n",
       "    <tr>\n",
       "      <th>23454675</th>\n",
       "      <td>2017-04-26 18:35:48+01:00</td>\n",
       "      <td>0.000000</td>\n",
       "      <td>2017</td>\n",
       "      <td>4</td>\n",
       "      <td>26</td>\n",
       "      <td>18</td>\n",
       "      <td>35</td>\n",
       "      <td>48</td>\n",
       "      <td>NaN</td>\n",
       "    </tr>\n",
       "    <tr>\n",
       "      <th>23454676</th>\n",
       "      <td>2017-04-26 18:35:54+01:00</td>\n",
       "      <td>0.000000</td>\n",
       "      <td>2017</td>\n",
       "      <td>4</td>\n",
       "      <td>26</td>\n",
       "      <td>18</td>\n",
       "      <td>35</td>\n",
       "      <td>54</td>\n",
       "      <td>NaN</td>\n",
       "    </tr>\n",
       "  </tbody>\n",
       "</table>\n",
       "<p>23454677 rows × 9 columns</p>\n",
       "</div>"
      ],
      "text/plain": [
       "                              date  power_active  year  month  day  hour  \\\n",
       "0        2012-11-09 22:28:18+00:00    162.000000  2012     11    9    22   \n",
       "1        2012-11-09 22:28:24+00:00    164.000000  2012     11    9    22   \n",
       "2        2012-11-09 22:28:30+00:00    163.000000  2012     11    9    22   \n",
       "3        2012-11-09 22:28:36+00:00    160.000000  2012     11    9    22   \n",
       "4        2012-11-09 22:28:42+00:00    159.000000  2012     11    9    22   \n",
       "...                            ...           ...   ...    ...  ...   ...   \n",
       "23454672 2017-04-26 18:35:30+01:00    818.984985  2017      4   26    18   \n",
       "23454673 2017-04-26 18:35:36+01:00    805.613342  2017      4   26    18   \n",
       "23454674 2017-04-26 18:35:42+01:00    678.335022  2017      4   26    18   \n",
       "23454675 2017-04-26 18:35:48+01:00      0.000000  2017      4   26    18   \n",
       "23454676 2017-04-26 18:35:54+01:00      0.000000  2017      4   26    18   \n",
       "\n",
       "          minute  second  power_active_kettle  \n",
       "0             28      18                  1.0  \n",
       "1             28      24                  1.0  \n",
       "2             28      30                  1.0  \n",
       "3             28      36                  1.0  \n",
       "4             28      42                  1.0  \n",
       "...          ...     ...                  ...  \n",
       "23454672      35      30                  NaN  \n",
       "23454673      35      36                  NaN  \n",
       "23454674      35      42                  NaN  \n",
       "23454675      35      48                  NaN  \n",
       "23454676      35      54                  NaN  \n",
       "\n",
       "[23454677 rows x 9 columns]"
      ]
     },
     "execution_count": 128,
     "metadata": {},
     "output_type": "execute_result"
    }
   ],
   "source": [
    "ukdale_without_kettle "
   ]
  },
  {
   "cell_type": "code",
   "execution_count": 130,
   "id": "d7a65766",
   "metadata": {},
   "outputs": [],
   "source": [
    "ukdale_without_kettle['power_deactive'] = ukdale_without_kettle['power_active'] - ukdale_without_kettle['power_active_kettle']"
   ]
  },
  {
   "cell_type": "code",
   "execution_count": 131,
   "id": "8cb8dd36",
   "metadata": {},
   "outputs": [
    {
     "data": {
      "text/html": [
       "<div>\n",
       "<style scoped>\n",
       "    .dataframe tbody tr th:only-of-type {\n",
       "        vertical-align: middle;\n",
       "    }\n",
       "\n",
       "    .dataframe tbody tr th {\n",
       "        vertical-align: top;\n",
       "    }\n",
       "\n",
       "    .dataframe thead th {\n",
       "        text-align: right;\n",
       "    }\n",
       "</style>\n",
       "<table border=\"1\" class=\"dataframe\">\n",
       "  <thead>\n",
       "    <tr style=\"text-align: right;\">\n",
       "      <th></th>\n",
       "      <th>date</th>\n",
       "      <th>power_active</th>\n",
       "      <th>year</th>\n",
       "      <th>month</th>\n",
       "      <th>day</th>\n",
       "      <th>hour</th>\n",
       "      <th>minute</th>\n",
       "      <th>second</th>\n",
       "      <th>power_active_kettle</th>\n",
       "      <th>power_deactive</th>\n",
       "    </tr>\n",
       "  </thead>\n",
       "  <tbody>\n",
       "    <tr>\n",
       "      <th>0</th>\n",
       "      <td>2012-11-09 22:28:18+00:00</td>\n",
       "      <td>162.000000</td>\n",
       "      <td>2012</td>\n",
       "      <td>11</td>\n",
       "      <td>9</td>\n",
       "      <td>22</td>\n",
       "      <td>28</td>\n",
       "      <td>18</td>\n",
       "      <td>1.0</td>\n",
       "      <td>161.0</td>\n",
       "    </tr>\n",
       "    <tr>\n",
       "      <th>1</th>\n",
       "      <td>2012-11-09 22:28:24+00:00</td>\n",
       "      <td>164.000000</td>\n",
       "      <td>2012</td>\n",
       "      <td>11</td>\n",
       "      <td>9</td>\n",
       "      <td>22</td>\n",
       "      <td>28</td>\n",
       "      <td>24</td>\n",
       "      <td>1.0</td>\n",
       "      <td>163.0</td>\n",
       "    </tr>\n",
       "    <tr>\n",
       "      <th>2</th>\n",
       "      <td>2012-11-09 22:28:30+00:00</td>\n",
       "      <td>163.000000</td>\n",
       "      <td>2012</td>\n",
       "      <td>11</td>\n",
       "      <td>9</td>\n",
       "      <td>22</td>\n",
       "      <td>28</td>\n",
       "      <td>30</td>\n",
       "      <td>1.0</td>\n",
       "      <td>162.0</td>\n",
       "    </tr>\n",
       "    <tr>\n",
       "      <th>3</th>\n",
       "      <td>2012-11-09 22:28:36+00:00</td>\n",
       "      <td>160.000000</td>\n",
       "      <td>2012</td>\n",
       "      <td>11</td>\n",
       "      <td>9</td>\n",
       "      <td>22</td>\n",
       "      <td>28</td>\n",
       "      <td>36</td>\n",
       "      <td>1.0</td>\n",
       "      <td>159.0</td>\n",
       "    </tr>\n",
       "    <tr>\n",
       "      <th>4</th>\n",
       "      <td>2012-11-09 22:28:42+00:00</td>\n",
       "      <td>159.000000</td>\n",
       "      <td>2012</td>\n",
       "      <td>11</td>\n",
       "      <td>9</td>\n",
       "      <td>22</td>\n",
       "      <td>28</td>\n",
       "      <td>42</td>\n",
       "      <td>1.0</td>\n",
       "      <td>158.0</td>\n",
       "    </tr>\n",
       "    <tr>\n",
       "      <th>...</th>\n",
       "      <td>...</td>\n",
       "      <td>...</td>\n",
       "      <td>...</td>\n",
       "      <td>...</td>\n",
       "      <td>...</td>\n",
       "      <td>...</td>\n",
       "      <td>...</td>\n",
       "      <td>...</td>\n",
       "      <td>...</td>\n",
       "      <td>...</td>\n",
       "    </tr>\n",
       "    <tr>\n",
       "      <th>23454672</th>\n",
       "      <td>2017-04-26 18:35:30+01:00</td>\n",
       "      <td>818.984985</td>\n",
       "      <td>2017</td>\n",
       "      <td>4</td>\n",
       "      <td>26</td>\n",
       "      <td>18</td>\n",
       "      <td>35</td>\n",
       "      <td>30</td>\n",
       "      <td>NaN</td>\n",
       "      <td>NaN</td>\n",
       "    </tr>\n",
       "    <tr>\n",
       "      <th>23454673</th>\n",
       "      <td>2017-04-26 18:35:36+01:00</td>\n",
       "      <td>805.613342</td>\n",
       "      <td>2017</td>\n",
       "      <td>4</td>\n",
       "      <td>26</td>\n",
       "      <td>18</td>\n",
       "      <td>35</td>\n",
       "      <td>36</td>\n",
       "      <td>NaN</td>\n",
       "      <td>NaN</td>\n",
       "    </tr>\n",
       "    <tr>\n",
       "      <th>23454674</th>\n",
       "      <td>2017-04-26 18:35:42+01:00</td>\n",
       "      <td>678.335022</td>\n",
       "      <td>2017</td>\n",
       "      <td>4</td>\n",
       "      <td>26</td>\n",
       "      <td>18</td>\n",
       "      <td>35</td>\n",
       "      <td>42</td>\n",
       "      <td>NaN</td>\n",
       "      <td>NaN</td>\n",
       "    </tr>\n",
       "    <tr>\n",
       "      <th>23454675</th>\n",
       "      <td>2017-04-26 18:35:48+01:00</td>\n",
       "      <td>0.000000</td>\n",
       "      <td>2017</td>\n",
       "      <td>4</td>\n",
       "      <td>26</td>\n",
       "      <td>18</td>\n",
       "      <td>35</td>\n",
       "      <td>48</td>\n",
       "      <td>NaN</td>\n",
       "      <td>NaN</td>\n",
       "    </tr>\n",
       "    <tr>\n",
       "      <th>23454676</th>\n",
       "      <td>2017-04-26 18:35:54+01:00</td>\n",
       "      <td>0.000000</td>\n",
       "      <td>2017</td>\n",
       "      <td>4</td>\n",
       "      <td>26</td>\n",
       "      <td>18</td>\n",
       "      <td>35</td>\n",
       "      <td>54</td>\n",
       "      <td>NaN</td>\n",
       "      <td>NaN</td>\n",
       "    </tr>\n",
       "  </tbody>\n",
       "</table>\n",
       "<p>23454677 rows × 10 columns</p>\n",
       "</div>"
      ],
      "text/plain": [
       "                              date  power_active  year  month  day  hour  \\\n",
       "0        2012-11-09 22:28:18+00:00    162.000000  2012     11    9    22   \n",
       "1        2012-11-09 22:28:24+00:00    164.000000  2012     11    9    22   \n",
       "2        2012-11-09 22:28:30+00:00    163.000000  2012     11    9    22   \n",
       "3        2012-11-09 22:28:36+00:00    160.000000  2012     11    9    22   \n",
       "4        2012-11-09 22:28:42+00:00    159.000000  2012     11    9    22   \n",
       "...                            ...           ...   ...    ...  ...   ...   \n",
       "23454672 2017-04-26 18:35:30+01:00    818.984985  2017      4   26    18   \n",
       "23454673 2017-04-26 18:35:36+01:00    805.613342  2017      4   26    18   \n",
       "23454674 2017-04-26 18:35:42+01:00    678.335022  2017      4   26    18   \n",
       "23454675 2017-04-26 18:35:48+01:00      0.000000  2017      4   26    18   \n",
       "23454676 2017-04-26 18:35:54+01:00      0.000000  2017      4   26    18   \n",
       "\n",
       "          minute  second  power_active_kettle  power_deactive  \n",
       "0             28      18                  1.0           161.0  \n",
       "1             28      24                  1.0           163.0  \n",
       "2             28      30                  1.0           162.0  \n",
       "3             28      36                  1.0           159.0  \n",
       "4             28      42                  1.0           158.0  \n",
       "...          ...     ...                  ...             ...  \n",
       "23454672      35      30                  NaN             NaN  \n",
       "23454673      35      36                  NaN             NaN  \n",
       "23454674      35      42                  NaN             NaN  \n",
       "23454675      35      48                  NaN             NaN  \n",
       "23454676      35      54                  NaN             NaN  \n",
       "\n",
       "[23454677 rows x 10 columns]"
      ]
     },
     "execution_count": 131,
     "metadata": {},
     "output_type": "execute_result"
    }
   ],
   "source": [
    "ukdale_without_kettle "
   ]
  },
  {
   "cell_type": "code",
   "execution_count": 132,
   "id": "77786004",
   "metadata": {},
   "outputs": [
    {
     "data": {
      "text/plain": [
       "date                          0\n",
       "power_active                  0\n",
       "year                          0\n",
       "month                         0\n",
       "day                           0\n",
       "hour                          0\n",
       "minute                        0\n",
       "second                        0\n",
       "power_active_kettle    20305146\n",
       "power_deactive         20305146\n",
       "dtype: int64"
      ]
     },
     "execution_count": 132,
     "metadata": {},
     "output_type": "execute_result"
    }
   ],
   "source": [
    "ukdale_without_kettle.isnull().sum()"
   ]
  },
  {
   "cell_type": "code",
   "execution_count": 137,
   "id": "dd14ef69",
   "metadata": {},
   "outputs": [
    {
     "data": {
      "text/plain": [
       "23454677"
      ]
     },
     "execution_count": 137,
     "metadata": {},
     "output_type": "execute_result"
    }
   ],
   "source": [
    "len(ukdale_without_kettle)"
   ]
  },
  {
   "cell_type": "code",
   "execution_count": 47,
   "id": "75c1847a",
   "metadata": {},
   "outputs": [],
   "source": [
    "import timeit"
   ]
  },
  {
   "cell_type": "code",
   "execution_count": 169,
   "id": "1c520ddd",
   "metadata": {},
   "outputs": [],
   "source": [
    "def ceated_deactiveimage(data1, data2):\n",
    "\n",
    "    set_date = set()\n",
    "    temp_power = []\n",
    "    start = timeit.default_timer()\n",
    "    data = data1.join(data2.set_index('date'), on = 'date')\n",
    "    data['power_device']=data['power_device'].fillna(value = data['power_device'].mean())\n",
    "    data['power_deactive'] = pd.Series([max(0, i) for i in data['power_active']-data['power_device']])\n",
    "    stop = timeit.default_timer()\n",
    "    print('create Dataframe ' , stop-start)\n",
    "    \n",
    "    start = timeit.default_timer()\n",
    "    for index in range(len(data)):\n",
    "\n",
    "        year = data.iloc[index]['year']\n",
    "        month = data.iloc[index]['month']\n",
    "        day = data.iloc[index]['day']\n",
    "            \n",
    "        \n",
    "        if index == 0:\n",
    "            set_date.add(tuple((year,month,day)))\n",
    "            temp_power.append(data.iloc[index]['power_deactive'])\n",
    "        \n",
    "        else:\n",
    "            if tuple((year,month,day)) not in set_date:\n",
    "                set_date.add(tuple((year,month,day)))\n",
    "\n",
    "                #fit transform with gasf\n",
    "                gafs_power = gafs_diff.fit_transform(np.array(temp_power).reshape((1,-1)))\n",
    "                #print(gafs_power[0])\n",
    "                name = str(year) + '-' + str(month) + '-' + str(day) + '.png'\n",
    "                #create image for this day\n",
    "                plt.imsave('/Users/gracepichar/Documents/GitHub/Data-Science-project/OFF/Kettle/' + name, gafs_power[0] , cmap='gray')\n",
    "\n",
    "                #create new list for power series\n",
    "                temp_power = []\n",
    "                temp_power.append(data.iloc[index]['power_deactive'])\n",
    "\n",
    "            else:\n",
    "                temp_power.append(data.iloc[index]['power_deactive'])\n",
    "        \n",
    "    if (index+1)%1000000==0:\n",
    "        stop = timeit.default_timer()\n",
    "        print('iteration ' + str(index+1) + ' :', stop-start)\n",
    "        start = timeit.default_timer()\n",
    "\n"
   ]
  },
  {
   "cell_type": "code",
   "execution_count": 197,
   "id": "3f1916fa",
   "metadata": {},
   "outputs": [
    {
     "name": "stdout",
     "output_type": "stream",
     "text": [
      "create Dataframe  31.369594114999927\n"
     ]
    }
   ],
   "source": [
    "ceated_deactiveimage(ukdale_building1, kettle_building1_power)"
   ]
  },
  {
   "cell_type": "markdown",
   "id": "08c99b49",
   "metadata": {},
   "source": [
    "# Washer Dryer"
   ]
  },
  {
   "cell_type": "code",
   "execution_count": 180,
   "id": "c7925ce5",
   "metadata": {},
   "outputs": [],
   "source": [
    "washerdryer_building1 = uk_dale.buildings[1].elec['washer dryer'].power_series_all_data()"
   ]
  },
  {
   "cell_type": "code",
   "execution_count": 181,
   "id": "e18e2a59",
   "metadata": {},
   "outputs": [
    {
     "data": {
      "text/plain": [
       "2012-11-09 22:28:18+00:00     0.0\n",
       "2012-11-09 22:28:24+00:00     0.0\n",
       "2012-11-09 22:28:30+00:00     0.0\n",
       "2012-11-09 22:28:36+00:00     0.0\n",
       "2012-11-09 22:28:42+00:00     0.0\n",
       "                             ... \n",
       "2017-04-26 18:34:57+01:00    12.0\n",
       "2017-04-26 18:35:06+01:00    30.0\n",
       "2017-04-26 18:35:12+01:00    35.0\n",
       "2017-04-26 18:35:18+01:00    30.0\n",
       "2017-04-26 18:35:24+01:00    30.0\n",
       "Name: (power, active), Length: 19555935, dtype: float32"
      ]
     },
     "execution_count": 181,
     "metadata": {},
     "output_type": "execute_result"
    }
   ],
   "source": [
    "washerdryer_building1"
   ]
  },
  {
   "cell_type": "code",
   "execution_count": 182,
   "id": "e8949bda",
   "metadata": {},
   "outputs": [],
   "source": [
    "washerdryer_building1 = pd.DataFrame(washerdryer_building1)\n",
    "washerdryer_building1.index.name = 'date'\n",
    "washerdryer_building1.columns = ['power_device']\n",
    "washerdryer_building1['power_device'] = washerdryer_building1['power_device'].fillna(0)\n",
    "washerdryer_building1 = washerdryer_building1.reset_index()"
   ]
  },
  {
   "cell_type": "code",
   "execution_count": 183,
   "id": "f30e4627",
   "metadata": {},
   "outputs": [
    {
     "data": {
      "text/html": [
       "<div>\n",
       "<style scoped>\n",
       "    .dataframe tbody tr th:only-of-type {\n",
       "        vertical-align: middle;\n",
       "    }\n",
       "\n",
       "    .dataframe tbody tr th {\n",
       "        vertical-align: top;\n",
       "    }\n",
       "\n",
       "    .dataframe thead th {\n",
       "        text-align: right;\n",
       "    }\n",
       "</style>\n",
       "<table border=\"1\" class=\"dataframe\">\n",
       "  <thead>\n",
       "    <tr style=\"text-align: right;\">\n",
       "      <th></th>\n",
       "      <th>date</th>\n",
       "      <th>power_device</th>\n",
       "    </tr>\n",
       "  </thead>\n",
       "  <tbody>\n",
       "    <tr>\n",
       "      <th>0</th>\n",
       "      <td>2012-11-09 22:28:18+00:00</td>\n",
       "      <td>0.0</td>\n",
       "    </tr>\n",
       "    <tr>\n",
       "      <th>1</th>\n",
       "      <td>2012-11-09 22:28:24+00:00</td>\n",
       "      <td>0.0</td>\n",
       "    </tr>\n",
       "    <tr>\n",
       "      <th>2</th>\n",
       "      <td>2012-11-09 22:28:30+00:00</td>\n",
       "      <td>0.0</td>\n",
       "    </tr>\n",
       "    <tr>\n",
       "      <th>3</th>\n",
       "      <td>2012-11-09 22:28:36+00:00</td>\n",
       "      <td>0.0</td>\n",
       "    </tr>\n",
       "    <tr>\n",
       "      <th>4</th>\n",
       "      <td>2012-11-09 22:28:42+00:00</td>\n",
       "      <td>0.0</td>\n",
       "    </tr>\n",
       "    <tr>\n",
       "      <th>...</th>\n",
       "      <td>...</td>\n",
       "      <td>...</td>\n",
       "    </tr>\n",
       "    <tr>\n",
       "      <th>19555930</th>\n",
       "      <td>2017-04-26 18:34:57+01:00</td>\n",
       "      <td>12.0</td>\n",
       "    </tr>\n",
       "    <tr>\n",
       "      <th>19555931</th>\n",
       "      <td>2017-04-26 18:35:06+01:00</td>\n",
       "      <td>30.0</td>\n",
       "    </tr>\n",
       "    <tr>\n",
       "      <th>19555932</th>\n",
       "      <td>2017-04-26 18:35:12+01:00</td>\n",
       "      <td>35.0</td>\n",
       "    </tr>\n",
       "    <tr>\n",
       "      <th>19555933</th>\n",
       "      <td>2017-04-26 18:35:18+01:00</td>\n",
       "      <td>30.0</td>\n",
       "    </tr>\n",
       "    <tr>\n",
       "      <th>19555934</th>\n",
       "      <td>2017-04-26 18:35:24+01:00</td>\n",
       "      <td>30.0</td>\n",
       "    </tr>\n",
       "  </tbody>\n",
       "</table>\n",
       "<p>19555935 rows × 2 columns</p>\n",
       "</div>"
      ],
      "text/plain": [
       "                              date  power_device\n",
       "0        2012-11-09 22:28:18+00:00           0.0\n",
       "1        2012-11-09 22:28:24+00:00           0.0\n",
       "2        2012-11-09 22:28:30+00:00           0.0\n",
       "3        2012-11-09 22:28:36+00:00           0.0\n",
       "4        2012-11-09 22:28:42+00:00           0.0\n",
       "...                            ...           ...\n",
       "19555930 2017-04-26 18:34:57+01:00          12.0\n",
       "19555931 2017-04-26 18:35:06+01:00          30.0\n",
       "19555932 2017-04-26 18:35:12+01:00          35.0\n",
       "19555933 2017-04-26 18:35:18+01:00          30.0\n",
       "19555934 2017-04-26 18:35:24+01:00          30.0\n",
       "\n",
       "[19555935 rows x 2 columns]"
      ]
     },
     "execution_count": 183,
     "metadata": {},
     "output_type": "execute_result"
    }
   ],
   "source": [
    "washerdryer_building1 "
   ]
  },
  {
   "cell_type": "code",
   "execution_count": 184,
   "id": "dea9b3fa",
   "metadata": {},
   "outputs": [
    {
     "data": {
      "text/plain": [
       "date            0\n",
       "power_device    0\n",
       "dtype: int64"
      ]
     },
     "execution_count": 184,
     "metadata": {},
     "output_type": "execute_result"
    }
   ],
   "source": [
    "washerdryer_building1.isnull().sum()"
   ]
  },
  {
   "cell_type": "code",
   "execution_count": 185,
   "id": "a5bb1ff9",
   "metadata": {},
   "outputs": [],
   "source": [
    "washerdryer_building1.to_csv('washerdryer_building1.csv')"
   ]
  },
  {
   "cell_type": "markdown",
   "id": "00cbece2",
   "metadata": {},
   "source": [
    "# Fridge"
   ]
  },
  {
   "cell_type": "code",
   "execution_count": 190,
   "id": "1a91c282",
   "metadata": {},
   "outputs": [],
   "source": [
    "fridge_building1 = uk_dale.buildings[1].elec['fridge freezer'].power_series_all_data()"
   ]
  },
  {
   "cell_type": "code",
   "execution_count": 192,
   "id": "e79756a7",
   "metadata": {},
   "outputs": [
    {
     "data": {
      "text/plain": [
       "2012-12-14 22:21:32+00:00    85.0\n",
       "2012-12-14 22:21:38+00:00    85.0\n",
       "2012-12-14 22:21:44+00:00    84.0\n",
       "2012-12-14 22:21:50+00:00    85.0\n",
       "2012-12-14 22:21:56+00:00    85.0\n",
       "                             ... \n",
       "2017-04-26 18:32:22+01:00     0.0\n",
       "2017-04-26 18:32:30+01:00     0.0\n",
       "2017-04-26 18:32:38+01:00     0.0\n",
       "2017-04-26 18:32:45+01:00     0.0\n",
       "2017-04-26 18:32:51+01:00     0.0\n",
       "Name: (power, active), Length: 19381298, dtype: float32"
      ]
     },
     "execution_count": 192,
     "metadata": {},
     "output_type": "execute_result"
    }
   ],
   "source": [
    "fridge_building1"
   ]
  },
  {
   "cell_type": "code",
   "execution_count": 193,
   "id": "19e0348a",
   "metadata": {},
   "outputs": [],
   "source": [
    "fridge_building1 = pd.DataFrame(fridge_building1)\n",
    "fridge_building1.index.name = 'date'\n",
    "fridge_building1.columns = ['power_device']\n",
    "fridge_building1['power_device'] = fridge_building1['power_device'].fillna(0)\n",
    "fridge_building1 = fridge_building1.reset_index()"
   ]
  },
  {
   "cell_type": "code",
   "execution_count": 194,
   "id": "c498a6ab",
   "metadata": {},
   "outputs": [
    {
     "data": {
      "text/html": [
       "<div>\n",
       "<style scoped>\n",
       "    .dataframe tbody tr th:only-of-type {\n",
       "        vertical-align: middle;\n",
       "    }\n",
       "\n",
       "    .dataframe tbody tr th {\n",
       "        vertical-align: top;\n",
       "    }\n",
       "\n",
       "    .dataframe thead th {\n",
       "        text-align: right;\n",
       "    }\n",
       "</style>\n",
       "<table border=\"1\" class=\"dataframe\">\n",
       "  <thead>\n",
       "    <tr style=\"text-align: right;\">\n",
       "      <th></th>\n",
       "      <th>date</th>\n",
       "      <th>power_device</th>\n",
       "    </tr>\n",
       "  </thead>\n",
       "  <tbody>\n",
       "    <tr>\n",
       "      <th>0</th>\n",
       "      <td>2012-12-14 22:21:32+00:00</td>\n",
       "      <td>85.0</td>\n",
       "    </tr>\n",
       "    <tr>\n",
       "      <th>1</th>\n",
       "      <td>2012-12-14 22:21:38+00:00</td>\n",
       "      <td>85.0</td>\n",
       "    </tr>\n",
       "    <tr>\n",
       "      <th>2</th>\n",
       "      <td>2012-12-14 22:21:44+00:00</td>\n",
       "      <td>84.0</td>\n",
       "    </tr>\n",
       "    <tr>\n",
       "      <th>3</th>\n",
       "      <td>2012-12-14 22:21:50+00:00</td>\n",
       "      <td>85.0</td>\n",
       "    </tr>\n",
       "    <tr>\n",
       "      <th>4</th>\n",
       "      <td>2012-12-14 22:21:56+00:00</td>\n",
       "      <td>85.0</td>\n",
       "    </tr>\n",
       "    <tr>\n",
       "      <th>...</th>\n",
       "      <td>...</td>\n",
       "      <td>...</td>\n",
       "    </tr>\n",
       "    <tr>\n",
       "      <th>19381293</th>\n",
       "      <td>2017-04-26 18:32:22+01:00</td>\n",
       "      <td>0.0</td>\n",
       "    </tr>\n",
       "    <tr>\n",
       "      <th>19381294</th>\n",
       "      <td>2017-04-26 18:32:30+01:00</td>\n",
       "      <td>0.0</td>\n",
       "    </tr>\n",
       "    <tr>\n",
       "      <th>19381295</th>\n",
       "      <td>2017-04-26 18:32:38+01:00</td>\n",
       "      <td>0.0</td>\n",
       "    </tr>\n",
       "    <tr>\n",
       "      <th>19381296</th>\n",
       "      <td>2017-04-26 18:32:45+01:00</td>\n",
       "      <td>0.0</td>\n",
       "    </tr>\n",
       "    <tr>\n",
       "      <th>19381297</th>\n",
       "      <td>2017-04-26 18:32:51+01:00</td>\n",
       "      <td>0.0</td>\n",
       "    </tr>\n",
       "  </tbody>\n",
       "</table>\n",
       "<p>19381298 rows × 2 columns</p>\n",
       "</div>"
      ],
      "text/plain": [
       "                              date  power_device\n",
       "0        2012-12-14 22:21:32+00:00          85.0\n",
       "1        2012-12-14 22:21:38+00:00          85.0\n",
       "2        2012-12-14 22:21:44+00:00          84.0\n",
       "3        2012-12-14 22:21:50+00:00          85.0\n",
       "4        2012-12-14 22:21:56+00:00          85.0\n",
       "...                            ...           ...\n",
       "19381293 2017-04-26 18:32:22+01:00           0.0\n",
       "19381294 2017-04-26 18:32:30+01:00           0.0\n",
       "19381295 2017-04-26 18:32:38+01:00           0.0\n",
       "19381296 2017-04-26 18:32:45+01:00           0.0\n",
       "19381297 2017-04-26 18:32:51+01:00           0.0\n",
       "\n",
       "[19381298 rows x 2 columns]"
      ]
     },
     "execution_count": 194,
     "metadata": {},
     "output_type": "execute_result"
    }
   ],
   "source": [
    "fridge_building1"
   ]
  },
  {
   "cell_type": "code",
   "execution_count": 195,
   "id": "12de7129",
   "metadata": {},
   "outputs": [
    {
     "data": {
      "text/plain": [
       "date            0\n",
       "power_device    0\n",
       "dtype: int64"
      ]
     },
     "execution_count": 195,
     "metadata": {},
     "output_type": "execute_result"
    }
   ],
   "source": [
    "fridge_building1.isnull().sum()"
   ]
  },
  {
   "cell_type": "code",
   "execution_count": 196,
   "id": "851d6809",
   "metadata": {},
   "outputs": [],
   "source": [
    "fridge_building1.to_csv('fridge_building1.csv')"
   ]
  },
  {
   "cell_type": "markdown",
   "id": "38efe494",
   "metadata": {},
   "source": [
    "# Across building"
   ]
  },
  {
   "cell_type": "markdown",
   "id": "2998b7d4",
   "metadata": {},
   "source": [
    "**Kettle**"
   ]
  },
  {
   "cell_type": "code",
   "execution_count": 12,
   "id": "67241ef6",
   "metadata": {},
   "outputs": [],
   "source": [
    "import nilmtk"
   ]
  },
  {
   "cell_type": "code",
   "execution_count": 18,
   "id": "5e0ecc95",
   "metadata": {},
   "outputs": [
    {
     "name": "stdout",
     "output_type": "stream",
     "text": [
      "Loading data for meter ElecMeterID(instance=18, building=5, dataset='UK-DALE')     \n",
      "Done loading data all meters for this chunk.\n"
     ]
    }
   ],
   "source": [
    "kettle = nilmtk.global_meter_group.select_using_appliances(type='kettle').power_series_all_data()"
   ]
  },
  {
   "cell_type": "code",
   "execution_count": 20,
   "id": "3ae7c45d",
   "metadata": {},
   "outputs": [],
   "source": [
    "kettles = pd.DataFrame(kettle)\n",
    "kettles.index.name = 'date'\n",
    "kettles.columns = ['power_device']\n",
    "kettles['power_device'] = kettles['power_device'].fillna(0)"
   ]
  },
  {
   "cell_type": "code",
   "execution_count": 35,
   "id": "1d5dcb2b",
   "metadata": {},
   "outputs": [
    {
     "data": {
      "text/plain": [
       "power_device    0\n",
       "dtype: int64"
      ]
     },
     "execution_count": 35,
     "metadata": {},
     "output_type": "execute_result"
    }
   ],
   "source": [
    "kettles.isnull().sum()"
   ]
  },
  {
   "cell_type": "code",
   "execution_count": 36,
   "id": "d6ac2286",
   "metadata": {},
   "outputs": [],
   "source": [
    "kettles = kettles.reset_index()"
   ]
  },
  {
   "cell_type": "code",
   "execution_count": 37,
   "id": "05cf3679",
   "metadata": {},
   "outputs": [
    {
     "data": {
      "text/html": [
       "<div>\n",
       "<style scoped>\n",
       "    .dataframe tbody tr th:only-of-type {\n",
       "        vertical-align: middle;\n",
       "    }\n",
       "\n",
       "    .dataframe tbody tr th {\n",
       "        vertical-align: top;\n",
       "    }\n",
       "\n",
       "    .dataframe thead th {\n",
       "        text-align: right;\n",
       "    }\n",
       "</style>\n",
       "<table border=\"1\" class=\"dataframe\">\n",
       "  <thead>\n",
       "    <tr style=\"text-align: right;\">\n",
       "      <th></th>\n",
       "      <th>date</th>\n",
       "      <th>power_device</th>\n",
       "    </tr>\n",
       "  </thead>\n",
       "  <tbody>\n",
       "    <tr>\n",
       "      <th>0</th>\n",
       "      <td>2012-11-09 22:28:18+00:00</td>\n",
       "      <td>1.0</td>\n",
       "    </tr>\n",
       "    <tr>\n",
       "      <th>1</th>\n",
       "      <td>2012-11-09 22:28:24+00:00</td>\n",
       "      <td>1.0</td>\n",
       "    </tr>\n",
       "    <tr>\n",
       "      <th>2</th>\n",
       "      <td>2012-11-09 22:28:30+00:00</td>\n",
       "      <td>1.0</td>\n",
       "    </tr>\n",
       "    <tr>\n",
       "      <th>3</th>\n",
       "      <td>2012-11-09 22:28:36+00:00</td>\n",
       "      <td>1.0</td>\n",
       "    </tr>\n",
       "    <tr>\n",
       "      <th>4</th>\n",
       "      <td>2012-11-09 22:28:42+00:00</td>\n",
       "      <td>1.0</td>\n",
       "    </tr>\n",
       "    <tr>\n",
       "      <th>...</th>\n",
       "      <td>...</td>\n",
       "      <td>...</td>\n",
       "    </tr>\n",
       "    <tr>\n",
       "      <th>23454640</th>\n",
       "      <td>2017-04-26 18:32:18+01:00</td>\n",
       "      <td>1.0</td>\n",
       "    </tr>\n",
       "    <tr>\n",
       "      <th>23454641</th>\n",
       "      <td>2017-04-26 18:32:24+01:00</td>\n",
       "      <td>1.0</td>\n",
       "    </tr>\n",
       "    <tr>\n",
       "      <th>23454642</th>\n",
       "      <td>2017-04-26 18:32:30+01:00</td>\n",
       "      <td>1.0</td>\n",
       "    </tr>\n",
       "    <tr>\n",
       "      <th>23454643</th>\n",
       "      <td>2017-04-26 18:32:36+01:00</td>\n",
       "      <td>1.0</td>\n",
       "    </tr>\n",
       "    <tr>\n",
       "      <th>23454644</th>\n",
       "      <td>2017-04-26 18:32:42+01:00</td>\n",
       "      <td>0.0</td>\n",
       "    </tr>\n",
       "  </tbody>\n",
       "</table>\n",
       "<p>23454645 rows × 2 columns</p>\n",
       "</div>"
      ],
      "text/plain": [
       "                              date  power_device\n",
       "0        2012-11-09 22:28:18+00:00           1.0\n",
       "1        2012-11-09 22:28:24+00:00           1.0\n",
       "2        2012-11-09 22:28:30+00:00           1.0\n",
       "3        2012-11-09 22:28:36+00:00           1.0\n",
       "4        2012-11-09 22:28:42+00:00           1.0\n",
       "...                            ...           ...\n",
       "23454640 2017-04-26 18:32:18+01:00           1.0\n",
       "23454641 2017-04-26 18:32:24+01:00           1.0\n",
       "23454642 2017-04-26 18:32:30+01:00           1.0\n",
       "23454643 2017-04-26 18:32:36+01:00           1.0\n",
       "23454644 2017-04-26 18:32:42+01:00           0.0\n",
       "\n",
       "[23454645 rows x 2 columns]"
      ]
     },
     "execution_count": 37,
     "metadata": {},
     "output_type": "execute_result"
    }
   ],
   "source": [
    "kettles"
   ]
  },
  {
   "cell_type": "code",
   "execution_count": 51,
   "id": "b56e9691",
   "metadata": {},
   "outputs": [],
   "source": [
    "from PIL import Image as im\n",
    "import imageio"
   ]
  },
  {
   "cell_type": "code",
   "execution_count": 44,
   "id": "415c5970",
   "metadata": {},
   "outputs": [],
   "source": [
    "from pyts.image import GramianAngularField\n",
    "gafs_diff = GramianAngularField(method='difference')"
   ]
  },
  {
   "cell_type": "code",
   "execution_count": 76,
   "id": "dbc96bae",
   "metadata": {},
   "outputs": [],
   "source": [
    "def ceated_deactiveimage_acrossbuliding(data1, data2):\n",
    "\n",
    "    set_date = set()\n",
    "    temp_power = []\n",
    "    start = timeit.default_timer()\n",
    "    data = data1.join(data2.set_index('date'), on = 'date')\n",
    "    data['power_device']=data['power_device'].fillna(value = data['power_device'].mean())\n",
    "    data['power_deactive'] = pd.Series([max(0, i) for i in data['power_active']-data['power_device']])\n",
    "    stop = timeit.default_timer()\n",
    "    print('create Dataframe ' , stop-start)\n",
    "    \n",
    "    start = timeit.default_timer()\n",
    "    for index in range(len(data)):\n",
    "\n",
    "        year = data.iloc[index]['year']\n",
    "        month = data.iloc[index]['month']\n",
    "        day = data.iloc[index]['day']\n",
    "            \n",
    "        \n",
    "        if index == 0:\n",
    "            set_date.add(tuple((year,month,day)))\n",
    "            temp_power.append(data.iloc[index]['power_deactive'])\n",
    "        \n",
    "        else:\n",
    "            if tuple((year,month,day)) not in set_date:\n",
    "                set_date.add(tuple((year,month,day)))\n",
    "\n",
    "                #fit transform with gasf\n",
    "                gafs_power = gafs_diff.fit_transform(np.array(temp_power).reshape((1,-1)))\n",
    "                \n",
    "                #print(gafs_power[0])\n",
    "                name = str(year) + '-' + str(month) + '-' + str(day) + '.png'\n",
    "                \n",
    "                #create image for this day\n",
    "                \n",
    "                plt.imsave('/Users/gracepichar/Documents/GitHub/Data-Science-project/acrosshouse/OFF-acoss-kettle/' + name, gafs_power[0] , cmap='gray')\n",
    "                #image = imageio.imwrite(name, gafs_power)\n",
    "                #image = im.fromarray(gafs_power, 'RGB')\n",
    "                #resize = image.resize((224, 224))\n",
    "                #gray_scale = ImageOps.grayscale(resize) \n",
    "                #gray_scale.save('/Users/gracepichar/Documents/GitHub/Data-Science-project/acrosshouse/OFF-acoss-kettle/' + name)\n",
    "\n",
    "                #create new list for power series\n",
    "                temp_power = []\n",
    "                temp_power.append(data.iloc[index]['power_deactive'])\n",
    "\n",
    "            else:\n",
    "                temp_power.append(data.iloc[index]['power_deactive'])\n",
    "        \n",
    "    if (index+1)%1000000==0:\n",
    "        stop = timeit.default_timer()\n",
    "        print('iteration ' + str(index+1) + ' :', stop-start)\n",
    "        start = timeit.default_timer()\n"
   ]
  },
  {
   "cell_type": "code",
   "execution_count": 77,
   "id": "714fc489",
   "metadata": {},
   "outputs": [
    {
     "name": "stdout",
     "output_type": "stream",
     "text": [
      "create Dataframe  16.930404761999853\n"
     ]
    }
   ],
   "source": [
    "ceated_deactiveimage_acrossbuliding(ukdale_building1, kettles)"
   ]
  },
  {
   "cell_type": "code",
   "execution_count": null,
   "id": "16f49ae4",
   "metadata": {},
   "outputs": [],
   "source": []
  }
 ],
 "metadata": {
  "kernelspec": {
   "display_name": "Python 3",
   "language": "python",
   "name": "python3"
  },
  "language_info": {
   "codemirror_mode": {
    "name": "ipython",
    "version": 3
   },
   "file_extension": ".py",
   "mimetype": "text/x-python",
   "name": "python",
   "nbconvert_exporter": "python",
   "pygments_lexer": "ipython3",
   "version": "3.8.8"
  }
 },
 "nbformat": 4,
 "nbformat_minor": 5
}
