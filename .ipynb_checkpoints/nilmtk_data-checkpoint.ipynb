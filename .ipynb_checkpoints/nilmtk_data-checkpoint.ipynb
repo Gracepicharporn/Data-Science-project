{
 "cells": [
  {
   "cell_type": "markdown",
   "metadata": {
    "colab_type": "text",
    "id": "view-in-github"
   },
   "source": [
    "<a href=\"https://colab.research.google.com/github/Gracepicharporn/Data-Science-project/blob/main/nilmtk_data.ipynb\" target=\"_parent\"><img src=\"https://colab.research.google.com/assets/colab-badge.svg\" alt=\"Open In Colab\"/></a>"
   ]
  },
  {
   "cell_type": "markdown",
   "metadata": {
    "id": "Bd5b3Rlf6r-J"
   },
   "source": [
    "## Install NILMTK package"
   ]
  },
  {
   "cell_type": "code",
   "execution_count": 35,
   "metadata": {
    "colab": {
     "base_uri": "https://localhost:8080/"
    },
    "id": "mCl3iclBmKI2",
    "outputId": "ad832930-47e8-4cce-8d37-c8862c1914b4"
   },
   "outputs": [
    {
     "name": "stdout",
     "output_type": "stream",
     "text": [
      "fatal: destination path 'nilmtk' already exists and is not an empty directory.\n"
     ]
    }
   ],
   "source": [
    "!git clone https://github.com/nilmtk/nilmtk.git"
   ]
  },
  {
   "cell_type": "code",
   "execution_count": 1,
   "metadata": {
    "colab": {
     "base_uri": "https://localhost:8080/"
    },
    "id": "cOYXajsbmMdI",
    "outputId": "9ac943c0-b109-45f6-9acd-d2f3eef389b2"
   },
   "outputs": [
    {
     "name": "stdout",
     "output_type": "stream",
     "text": [
      "Collecting git+https://github.com/nilmtk/nilmtk.git\n",
      "  Cloning https://github.com/nilmtk/nilmtk.git to /private/var/folders/yj/2rdwvkw174v8rv0n8_br_x840000gn/T/pip-req-build-g_w8g2zt\n",
      "  Running command git clone --filter=blob:none --quiet https://github.com/nilmtk/nilmtk.git /private/var/folders/yj/2rdwvkw174v8rv0n8_br_x840000gn/T/pip-req-build-g_w8g2zt\n",
      "  Resolved https://github.com/nilmtk/nilmtk.git to commit ddd3a34ef0442c86fb806028022c9f9f7c2526dd\n",
      "  Preparing metadata (setup.py) ... \u001b[?25ldone\n",
      "\u001b[?25hRequirement already satisfied: pandas==0.25.3 in /opt/anaconda3/lib/python3.8/site-packages (from nilmtk==0.4.0.dev1+git.ddd3a34) (0.25.3)\n",
      "Requirement already satisfied: numpy<1.20.0,>=1.13.3 in /opt/anaconda3/lib/python3.8/site-packages (from nilmtk==0.4.0.dev1+git.ddd3a34) (1.19.5)\n",
      "Requirement already satisfied: networkx==2.1 in /opt/anaconda3/lib/python3.8/site-packages (from nilmtk==0.4.0.dev1+git.ddd3a34) (2.1)\n",
      "Requirement already satisfied: scipy in /opt/anaconda3/lib/python3.8/site-packages (from nilmtk==0.4.0.dev1+git.ddd3a34) (1.6.2)\n",
      "Requirement already satisfied: tables in /opt/anaconda3/lib/python3.8/site-packages (from nilmtk==0.4.0.dev1+git.ddd3a34) (3.6.1)\n",
      "Requirement already satisfied: scikit-learn>=0.21.2 in /opt/anaconda3/lib/python3.8/site-packages (from nilmtk==0.4.0.dev1+git.ddd3a34) (0.24.1)\n",
      "Requirement already satisfied: hmmlearn>=0.2.1 in /opt/anaconda3/lib/python3.8/site-packages (from nilmtk==0.4.0.dev1+git.ddd3a34) (0.2.7)\n",
      "Requirement already satisfied: pyyaml in /opt/anaconda3/lib/python3.8/site-packages (from nilmtk==0.4.0.dev1+git.ddd3a34) (5.4.1)\n",
      "Requirement already satisfied: matplotlib==3.1.3 in /opt/anaconda3/lib/python3.8/site-packages (from nilmtk==0.4.0.dev1+git.ddd3a34) (3.1.3)\n",
      "Requirement already satisfied: jupyterlab in /opt/anaconda3/lib/python3.8/site-packages (from nilmtk==0.4.0.dev1+git.ddd3a34) (3.0.14)\n",
      "Requirement already satisfied: python-dateutil>=2.1 in /opt/anaconda3/lib/python3.8/site-packages (from matplotlib==3.1.3->nilmtk==0.4.0.dev1+git.ddd3a34) (2.8.1)\n",
      "Requirement already satisfied: kiwisolver>=1.0.1 in /opt/anaconda3/lib/python3.8/site-packages (from matplotlib==3.1.3->nilmtk==0.4.0.dev1+git.ddd3a34) (1.3.1)\n",
      "Requirement already satisfied: pyparsing!=2.0.4,!=2.1.2,!=2.1.6,>=2.0.1 in /opt/anaconda3/lib/python3.8/site-packages (from matplotlib==3.1.3->nilmtk==0.4.0.dev1+git.ddd3a34) (2.4.7)\n",
      "Requirement already satisfied: cycler>=0.10 in /opt/anaconda3/lib/python3.8/site-packages (from matplotlib==3.1.3->nilmtk==0.4.0.dev1+git.ddd3a34) (0.10.0)\n",
      "Requirement already satisfied: decorator>=4.1.0 in /opt/anaconda3/lib/python3.8/site-packages (from networkx==2.1->nilmtk==0.4.0.dev1+git.ddd3a34) (5.0.6)\n",
      "Requirement already satisfied: pytz>=2017.2 in /opt/anaconda3/lib/python3.8/site-packages (from pandas==0.25.3->nilmtk==0.4.0.dev1+git.ddd3a34) (2021.1)\n",
      "Requirement already satisfied: threadpoolctl>=2.0.0 in /opt/anaconda3/lib/python3.8/site-packages (from scikit-learn>=0.21.2->nilmtk==0.4.0.dev1+git.ddd3a34) (2.1.0)\n",
      "Requirement already satisfied: joblib>=0.11 in /opt/anaconda3/lib/python3.8/site-packages (from scikit-learn>=0.21.2->nilmtk==0.4.0.dev1+git.ddd3a34) (1.0.1)\n",
      "Requirement already satisfied: packaging in /opt/anaconda3/lib/python3.8/site-packages (from jupyterlab->nilmtk==0.4.0.dev1+git.ddd3a34) (20.9)\n",
      "Requirement already satisfied: jupyter-packaging~=0.7 in /opt/anaconda3/lib/python3.8/site-packages (from jupyterlab->nilmtk==0.4.0.dev1+git.ddd3a34) (0.7.12)\n",
      "Requirement already satisfied: jupyter-server~=1.4 in /opt/anaconda3/lib/python3.8/site-packages (from jupyterlab->nilmtk==0.4.0.dev1+git.ddd3a34) (1.4.1)\n",
      "Requirement already satisfied: nbclassic~=0.2 in /opt/anaconda3/lib/python3.8/site-packages (from jupyterlab->nilmtk==0.4.0.dev1+git.ddd3a34) (0.2.6)\n",
      "Requirement already satisfied: ipython in /opt/anaconda3/lib/python3.8/site-packages (from jupyterlab->nilmtk==0.4.0.dev1+git.ddd3a34) (7.22.0)\n",
      "Requirement already satisfied: jupyterlab-server~=2.3 in /opt/anaconda3/lib/python3.8/site-packages (from jupyterlab->nilmtk==0.4.0.dev1+git.ddd3a34) (2.4.0)\n",
      "Requirement already satisfied: jupyter-core in /opt/anaconda3/lib/python3.8/site-packages (from jupyterlab->nilmtk==0.4.0.dev1+git.ddd3a34) (4.7.1)\n",
      "Requirement already satisfied: jinja2>=2.10 in /opt/anaconda3/lib/python3.8/site-packages (from jupyterlab->nilmtk==0.4.0.dev1+git.ddd3a34) (2.11.3)\n",
      "Requirement already satisfied: tornado>=6.1.0 in /opt/anaconda3/lib/python3.8/site-packages (from jupyterlab->nilmtk==0.4.0.dev1+git.ddd3a34) (6.1)\n",
      "Requirement already satisfied: numexpr>=2.6.2 in /opt/anaconda3/lib/python3.8/site-packages (from tables->nilmtk==0.4.0.dev1+git.ddd3a34) (2.7.3)\n",
      "Requirement already satisfied: six in /opt/anaconda3/lib/python3.8/site-packages (from cycler>=0.10->matplotlib==3.1.3->nilmtk==0.4.0.dev1+git.ddd3a34) (1.15.0)\n",
      "Requirement already satisfied: MarkupSafe>=0.23 in /opt/anaconda3/lib/python3.8/site-packages (from jinja2>=2.10->jupyterlab->nilmtk==0.4.0.dev1+git.ddd3a34) (1.1.1)\n",
      "Requirement already satisfied: nbconvert in /opt/anaconda3/lib/python3.8/site-packages (from jupyter-server~=1.4->jupyterlab->nilmtk==0.4.0.dev1+git.ddd3a34) (6.0.7)\n",
      "Requirement already satisfied: ipython-genutils in /opt/anaconda3/lib/python3.8/site-packages (from jupyter-server~=1.4->jupyterlab->nilmtk==0.4.0.dev1+git.ddd3a34) (0.2.0)\n",
      "Requirement already satisfied: terminado>=0.8.3 in /opt/anaconda3/lib/python3.8/site-packages (from jupyter-server~=1.4->jupyterlab->nilmtk==0.4.0.dev1+git.ddd3a34) (0.9.4)\n",
      "Requirement already satisfied: anyio>=2.0.2 in /opt/anaconda3/lib/python3.8/site-packages (from jupyter-server~=1.4->jupyterlab->nilmtk==0.4.0.dev1+git.ddd3a34) (2.2.0)\n",
      "Requirement already satisfied: nbformat in /opt/anaconda3/lib/python3.8/site-packages (from jupyter-server~=1.4->jupyterlab->nilmtk==0.4.0.dev1+git.ddd3a34) (5.1.3)\n",
      "Requirement already satisfied: prometheus-client in /opt/anaconda3/lib/python3.8/site-packages (from jupyter-server~=1.4->jupyterlab->nilmtk==0.4.0.dev1+git.ddd3a34) (0.10.1)\n",
      "Requirement already satisfied: pyzmq>=17 in /opt/anaconda3/lib/python3.8/site-packages (from jupyter-server~=1.4->jupyterlab->nilmtk==0.4.0.dev1+git.ddd3a34) (20.0.0)\n",
      "Requirement already satisfied: Send2Trash in /opt/anaconda3/lib/python3.8/site-packages (from jupyter-server~=1.4->jupyterlab->nilmtk==0.4.0.dev1+git.ddd3a34) (1.5.0)\n",
      "Requirement already satisfied: jupyter-client>=6.1.1 in /opt/anaconda3/lib/python3.8/site-packages (from jupyter-server~=1.4->jupyterlab->nilmtk==0.4.0.dev1+git.ddd3a34) (6.1.12)\n",
      "Requirement already satisfied: traitlets>=4.2.1 in /opt/anaconda3/lib/python3.8/site-packages (from jupyter-server~=1.4->jupyterlab->nilmtk==0.4.0.dev1+git.ddd3a34) (5.0.5)\n",
      "Requirement already satisfied: jsonschema>=3.0.1 in /opt/anaconda3/lib/python3.8/site-packages (from jupyterlab-server~=2.3->jupyterlab->nilmtk==0.4.0.dev1+git.ddd3a34) (3.2.0)\n",
      "Requirement already satisfied: requests in /opt/anaconda3/lib/python3.8/site-packages (from jupyterlab-server~=2.3->jupyterlab->nilmtk==0.4.0.dev1+git.ddd3a34) (2.25.1)\n",
      "Requirement already satisfied: json5 in /opt/anaconda3/lib/python3.8/site-packages (from jupyterlab-server~=2.3->jupyterlab->nilmtk==0.4.0.dev1+git.ddd3a34) (0.9.5)\n",
      "Requirement already satisfied: babel in /opt/anaconda3/lib/python3.8/site-packages (from jupyterlab-server~=2.3->jupyterlab->nilmtk==0.4.0.dev1+git.ddd3a34) (2.9.0)\n",
      "Requirement already satisfied: notebook<7 in /opt/anaconda3/lib/python3.8/site-packages (from nbclassic~=0.2->jupyterlab->nilmtk==0.4.0.dev1+git.ddd3a34) (6.3.0)\n",
      "Requirement already satisfied: pygments in /opt/anaconda3/lib/python3.8/site-packages (from ipython->jupyterlab->nilmtk==0.4.0.dev1+git.ddd3a34) (2.8.1)\n",
      "Requirement already satisfied: backcall in /opt/anaconda3/lib/python3.8/site-packages (from ipython->jupyterlab->nilmtk==0.4.0.dev1+git.ddd3a34) (0.2.0)\n",
      "Requirement already satisfied: jedi>=0.16 in /opt/anaconda3/lib/python3.8/site-packages (from ipython->jupyterlab->nilmtk==0.4.0.dev1+git.ddd3a34) (0.17.2)\n",
      "Requirement already satisfied: setuptools>=18.5 in /opt/anaconda3/lib/python3.8/site-packages (from ipython->jupyterlab->nilmtk==0.4.0.dev1+git.ddd3a34) (62.1.0)\n",
      "Requirement already satisfied: pexpect>4.3 in /opt/anaconda3/lib/python3.8/site-packages (from ipython->jupyterlab->nilmtk==0.4.0.dev1+git.ddd3a34) (4.8.0)\n",
      "Requirement already satisfied: appnope in /opt/anaconda3/lib/python3.8/site-packages (from ipython->jupyterlab->nilmtk==0.4.0.dev1+git.ddd3a34) (0.1.2)\n",
      "Requirement already satisfied: pickleshare in /opt/anaconda3/lib/python3.8/site-packages (from ipython->jupyterlab->nilmtk==0.4.0.dev1+git.ddd3a34) (0.7.5)\n",
      "Requirement already satisfied: prompt-toolkit!=3.0.0,!=3.0.1,<3.1.0,>=2.0.0 in /opt/anaconda3/lib/python3.8/site-packages (from ipython->jupyterlab->nilmtk==0.4.0.dev1+git.ddd3a34) (3.0.17)\n"
     ]
    },
    {
     "name": "stdout",
     "output_type": "stream",
     "text": [
      "Requirement already satisfied: idna>=2.8 in /opt/anaconda3/lib/python3.8/site-packages (from anyio>=2.0.2->jupyter-server~=1.4->jupyterlab->nilmtk==0.4.0.dev1+git.ddd3a34) (2.10)\n",
      "Requirement already satisfied: sniffio>=1.1 in /opt/anaconda3/lib/python3.8/site-packages (from anyio>=2.0.2->jupyter-server~=1.4->jupyterlab->nilmtk==0.4.0.dev1+git.ddd3a34) (1.2.0)\n",
      "Requirement already satisfied: parso<0.8.0,>=0.7.0 in /opt/anaconda3/lib/python3.8/site-packages (from jedi>=0.16->ipython->jupyterlab->nilmtk==0.4.0.dev1+git.ddd3a34) (0.7.0)\n",
      "Requirement already satisfied: pyrsistent>=0.14.0 in /opt/anaconda3/lib/python3.8/site-packages (from jsonschema>=3.0.1->jupyterlab-server~=2.3->jupyterlab->nilmtk==0.4.0.dev1+git.ddd3a34) (0.17.3)\n",
      "Requirement already satisfied: attrs>=17.4.0 in /opt/anaconda3/lib/python3.8/site-packages (from jsonschema>=3.0.1->jupyterlab-server~=2.3->jupyterlab->nilmtk==0.4.0.dev1+git.ddd3a34) (20.3.0)\n",
      "Requirement already satisfied: argon2-cffi in /opt/anaconda3/lib/python3.8/site-packages (from notebook<7->nbclassic~=0.2->jupyterlab->nilmtk==0.4.0.dev1+git.ddd3a34) (20.1.0)\n",
      "Requirement already satisfied: ipykernel in /opt/anaconda3/lib/python3.8/site-packages (from notebook<7->nbclassic~=0.2->jupyterlab->nilmtk==0.4.0.dev1+git.ddd3a34) (5.3.4)\n",
      "Requirement already satisfied: ptyprocess>=0.5 in /opt/anaconda3/lib/python3.8/site-packages (from pexpect>4.3->ipython->jupyterlab->nilmtk==0.4.0.dev1+git.ddd3a34) (0.7.0)\n",
      "Requirement already satisfied: wcwidth in /opt/anaconda3/lib/python3.8/site-packages (from prompt-toolkit!=3.0.0,!=3.0.1,<3.1.0,>=2.0.0->ipython->jupyterlab->nilmtk==0.4.0.dev1+git.ddd3a34) (0.2.5)\n",
      "Requirement already satisfied: entrypoints>=0.2.2 in /opt/anaconda3/lib/python3.8/site-packages (from nbconvert->jupyter-server~=1.4->jupyterlab->nilmtk==0.4.0.dev1+git.ddd3a34) (0.3)\n",
      "Requirement already satisfied: pandocfilters>=1.4.1 in /opt/anaconda3/lib/python3.8/site-packages (from nbconvert->jupyter-server~=1.4->jupyterlab->nilmtk==0.4.0.dev1+git.ddd3a34) (1.4.3)\n",
      "Requirement already satisfied: nbclient<0.6.0,>=0.5.0 in /opt/anaconda3/lib/python3.8/site-packages (from nbconvert->jupyter-server~=1.4->jupyterlab->nilmtk==0.4.0.dev1+git.ddd3a34) (0.5.3)\n",
      "Requirement already satisfied: defusedxml in /opt/anaconda3/lib/python3.8/site-packages (from nbconvert->jupyter-server~=1.4->jupyterlab->nilmtk==0.4.0.dev1+git.ddd3a34) (0.7.1)\n",
      "Requirement already satisfied: mistune<2,>=0.8.1 in /opt/anaconda3/lib/python3.8/site-packages (from nbconvert->jupyter-server~=1.4->jupyterlab->nilmtk==0.4.0.dev1+git.ddd3a34) (0.8.4)\n",
      "Requirement already satisfied: testpath in /opt/anaconda3/lib/python3.8/site-packages (from nbconvert->jupyter-server~=1.4->jupyterlab->nilmtk==0.4.0.dev1+git.ddd3a34) (0.4.4)\n",
      "Requirement already satisfied: jupyterlab-pygments in /opt/anaconda3/lib/python3.8/site-packages (from nbconvert->jupyter-server~=1.4->jupyterlab->nilmtk==0.4.0.dev1+git.ddd3a34) (0.1.2)\n",
      "Requirement already satisfied: bleach in /opt/anaconda3/lib/python3.8/site-packages (from nbconvert->jupyter-server~=1.4->jupyterlab->nilmtk==0.4.0.dev1+git.ddd3a34) (3.3.0)\n",
      "Requirement already satisfied: certifi>=2017.4.17 in /opt/anaconda3/lib/python3.8/site-packages (from requests->jupyterlab-server~=2.3->jupyterlab->nilmtk==0.4.0.dev1+git.ddd3a34) (2020.12.5)\n",
      "Requirement already satisfied: chardet<5,>=3.0.2 in /opt/anaconda3/lib/python3.8/site-packages (from requests->jupyterlab-server~=2.3->jupyterlab->nilmtk==0.4.0.dev1+git.ddd3a34) (4.0.0)\n",
      "Requirement already satisfied: urllib3<1.27,>=1.21.1 in /opt/anaconda3/lib/python3.8/site-packages (from requests->jupyterlab-server~=2.3->jupyterlab->nilmtk==0.4.0.dev1+git.ddd3a34) (1.26.4)\n",
      "Requirement already satisfied: nest-asyncio in /opt/anaconda3/lib/python3.8/site-packages (from nbclient<0.6.0,>=0.5.0->nbconvert->jupyter-server~=1.4->jupyterlab->nilmtk==0.4.0.dev1+git.ddd3a34) (1.5.1)\n",
      "Requirement already satisfied: async-generator in /opt/anaconda3/lib/python3.8/site-packages (from nbclient<0.6.0,>=0.5.0->nbconvert->jupyter-server~=1.4->jupyterlab->nilmtk==0.4.0.dev1+git.ddd3a34) (1.10)\n",
      "Requirement already satisfied: cffi>=1.0.0 in /opt/anaconda3/lib/python3.8/site-packages (from argon2-cffi->notebook<7->nbclassic~=0.2->jupyterlab->nilmtk==0.4.0.dev1+git.ddd3a34) (1.14.5)\n",
      "Requirement already satisfied: webencodings in /opt/anaconda3/lib/python3.8/site-packages (from bleach->nbconvert->jupyter-server~=1.4->jupyterlab->nilmtk==0.4.0.dev1+git.ddd3a34) (0.5.1)\n",
      "Requirement already satisfied: pycparser in /opt/anaconda3/lib/python3.8/site-packages (from cffi>=1.0.0->argon2-cffi->notebook<7->nbclassic~=0.2->jupyterlab->nilmtk==0.4.0.dev1+git.ddd3a34) (2.20)\n",
      "Building wheels for collected packages: nilmtk\n",
      "  Building wheel for nilmtk (setup.py) ... \u001b[?25ldone\n",
      "\u001b[?25h  Created wheel for nilmtk: filename=nilmtk-0.4.0.dev1+git.ddd3a34-py3-none-any.whl size=279074 sha256=f6693c57920b2f3af77ff90629a446469aa6565289043aba2506c32573b4979a\n",
      "  Stored in directory: /private/var/folders/yj/2rdwvkw174v8rv0n8_br_x840000gn/T/pip-ephem-wheel-cache-r7az2eir/wheels/a2/b3/34/cfd5020206594ebf6577708dcdcd726bc58997ee0136e3133d\n",
      "Successfully built nilmtk\n",
      "Installing collected packages: nilmtk\n",
      "  Attempting uninstall: nilmtk\n",
      "    Found existing installation: nilmtk 0.4.0.dev1+git.303d45b\n",
      "    Uninstalling nilmtk-0.4.0.dev1+git.303d45b:\n",
      "      Successfully uninstalled nilmtk-0.4.0.dev1+git.303d45b\n",
      "Successfully installed nilmtk-0.4.0.dev1+git.ddd3a34\n",
      "\u001b[33mWARNING: You are using pip version 22.0.3; however, version 22.1.2 is available.\n",
      "You should consider upgrading via the '/opt/anaconda3/bin/python3 -m pip install --upgrade pip' command.\u001b[0m\u001b[33m\n",
      "\u001b[0m"
     ]
    }
   ],
   "source": [
    "!pip install git+https://github.com/nilmtk/nilmtk.git"
   ]
  },
  {
   "cell_type": "code",
   "execution_count": 2,
   "metadata": {
    "colab": {
     "base_uri": "https://localhost:8080/"
    },
    "id": "dafvNECqmQXr",
    "outputId": "3b819ec1-b0e2-40f3-9dc8-860b45947f8e"
   },
   "outputs": [
    {
     "name": "stdout",
     "output_type": "stream",
     "text": [
      "Collecting git+https://github.com/nilmtk/nilm_metadata.git\n",
      "  Cloning https://github.com/nilmtk/nilm_metadata.git to /private/var/folders/yj/2rdwvkw174v8rv0n8_br_x840000gn/T/pip-req-build-vu4nnt00\n",
      "  Running command git clone --filter=blob:none --quiet https://github.com/nilmtk/nilm_metadata.git /private/var/folders/yj/2rdwvkw174v8rv0n8_br_x840000gn/T/pip-req-build-vu4nnt00\n",
      "  Resolved https://github.com/nilmtk/nilm_metadata.git to commit 7ed4bab9062d04cb35c6b6000b451715dc5ab4af\n",
      "  Preparing metadata (setup.py) ... \u001b[?25ldone\n",
      "\u001b[?25hRequirement already satisfied: PyYAML in /opt/anaconda3/lib/python3.8/site-packages (from nilm-metadata==0.2.5) (5.4.1)\n",
      "Requirement already satisfied: six in /opt/anaconda3/lib/python3.8/site-packages (from nilm-metadata==0.2.5) (1.15.0)\n",
      "Requirement already satisfied: pandas in /opt/anaconda3/lib/python3.8/site-packages (from nilm-metadata==0.2.5) (0.25.3)\n",
      "Requirement already satisfied: pytz>=2017.2 in /opt/anaconda3/lib/python3.8/site-packages (from pandas->nilm-metadata==0.2.5) (2021.1)\n",
      "Requirement already satisfied: numpy>=1.13.3 in /opt/anaconda3/lib/python3.8/site-packages (from pandas->nilm-metadata==0.2.5) (1.19.5)\n",
      "Requirement already satisfied: python-dateutil>=2.6.1 in /opt/anaconda3/lib/python3.8/site-packages (from pandas->nilm-metadata==0.2.5) (2.8.1)\n",
      "\u001b[33mWARNING: You are using pip version 22.0.3; however, version 22.1.2 is available.\n",
      "You should consider upgrading via the '/opt/anaconda3/bin/python3 -m pip install --upgrade pip' command.\u001b[0m\u001b[33m\n",
      "\u001b[0m"
     ]
    }
   ],
   "source": [
    "!pip install git+https://github.com/nilmtk/nilm_metadata.git"
   ]
  },
  {
   "cell_type": "markdown",
   "metadata": {
    "id": "HOVeLNiO7m8O"
   },
   "source": [
    "**import the important package**"
   ]
  },
  {
   "cell_type": "code",
   "execution_count": 3,
   "metadata": {
    "id": "8gzOJvr9mfLH"
   },
   "outputs": [],
   "source": [
    "import nilmtk\n",
    "from nilmtk import DataSet, MeterGroup\n",
    "import numpy as np\n",
    "import pandas as pd\n",
    "import matplotlib as plt\n",
    "from nilmtk.utils import print_dict\n",
    "import matplotlib.pyplot as plt\n",
    "from matplotlib.dates import DateFormatter\n",
    "import matplotlib.font_manager\n",
    "from datetime import datetime, timedelta\n",
    "import matplotlib.pyplot as plt\n",
    "\n",
    "%matplotlib inline"
   ]
  },
  {
   "cell_type": "code",
   "execution_count": 4,
   "metadata": {
    "id": "JBfjjfT4mh8K"
   },
   "outputs": [],
   "source": [
    "from nilmtk import DataSet, MeterGroup"
   ]
  },
  {
   "cell_type": "code",
   "execution_count": 40,
   "metadata": {
    "id": "WACDYGxakOaW"
   },
   "outputs": [],
   "source": [
    "from nilmtk import DataSet\n",
    "from nilmtk.utils import print_dict"
   ]
  },
  {
   "cell_type": "code",
   "execution_count": 41,
   "metadata": {
    "colab": {
     "base_uri": "https://localhost:8080/",
     "height": 464
    },
    "id": "sS6NmhgWmHIS",
    "outputId": "b21f02b8-1518-4880-ab94-8e0a4fe59227"
   },
   "outputs": [
    {
     "name": "stdout",
     "output_type": "stream",
     "text": [
      "MeterGroup(meters=\n",
      "  ElecMeter(instance=1, building=1, dataset=None, appliances=[])\n",
      "  ElecMeter(instance=2, building=1, dataset=None, appliances=[])\n",
      "  ElecMeter(instance=3, building=1, dataset=None, appliances=[])\n",
      "  ElecMeter(instance=4, building=1, dataset=None, appliances=[])\n",
      "  ElecMeter(instance=5, building=1, dataset=None, appliances=[])\n",
      ")\n"
     ]
    },
    {
     "name": "stderr",
     "output_type": "stream",
     "text": [
      "/usr/local/lib/python3.7/dist-packages/nilmtk/metergroup.py:86: RuntimeWarning: Building 1 has an empty 'appliances' list.\n",
      "  .format(building_id.instance), RuntimeWarning)\n"
     ]
    },
    {
     "data": {
      "text/plain": [
       "[<matplotlib.lines.Line2D at 0x7f02e035e810>]"
      ]
     },
     "execution_count": 41,
     "metadata": {},
     "output_type": "execute_result"
    },
    {
     "data": {
      "image/png": "[encoded data removed]",
      "text/plain": [
       "<Figure size 432x288 with 1 Axes>"
      ]
     },
     "metadata": {
      "needs_background": "light"
     },
     "output_type": "display_data"
    }
   ],
   "source": [
    "ds = DataSet('random.h5')\n",
    "elec = ds.buildings[1].elec\n",
    "\n",
    "print(elec)\n",
    "plt.plot(elec[1].power_series_all_data())"
   ]
  },
  {
   "cell_type": "markdown",
   "metadata": {
    "id": "FcbUQN2N8Ixs"
   },
   "source": [
    "## Import and Download the REDD and UK-DALE dataset"
   ]
  },
  {
   "cell_type": "markdown",
   "metadata": {
    "id": "kuyDm3Mk82yl"
   },
   "source": [
    "**1. REDD dataset** "
   ]
  },
  {
   "cell_type": "markdown",
   "metadata": {
    "id": "o7fJhUBn8lb_"
   },
   "source": [
    "* open google drive which store files"
   ]
  },
  {
   "cell_type": "code",
   "execution_count": 42,
   "metadata": {
    "colab": {
     "base_uri": "https://localhost:8080/"
    },
    "id": "WPmBbwdJormN",
    "outputId": "2ca60e69-565f-4721-f3c2-9f580f4c9fbd"
   },
   "outputs": [
    {
     "name": "stdout",
     "output_type": "stream",
     "text": [
      "Drive already mounted at /content/gdrive; to attempt to forcibly remount, call drive.mount(\"/content/gdrive\", force_remount=True).\n"
     ]
    }
   ],
   "source": [
    "from google.colab import drive\n",
    "drive.mount('/content/gdrive')"
   ]
  },
  {
   "cell_type": "markdown",
   "metadata": {
    "id": "lndHcoICCMVc"
   },
   "source": [
    "* unzip the REEDD dataset"
   ]
  },
  {
   "cell_type": "code",
   "execution_count": 43,
   "metadata": {
    "colab": {
     "base_uri": "https://localhost:8080/"
    },
    "id": "_4B6FWhWpDnG",
    "outputId": "f4234a97-b41b-46a6-f0fa-97c074505334"
   },
   "outputs": [
    {
     "name": "stdout",
     "output_type": "stream",
     "text": [
      "Archive:  gdrive/My Drive/data/low_freq.zip\n",
      "replace __MACOSX/._low_freq? [y]es, [n]o, [A]ll, [N]one, [r]ename: A\n",
      "  inflating: __MACOSX/._low_freq     \n",
      "  inflating: low_freq/.DS_Store      \n",
      "  inflating: __MACOSX/low_freq/._.DS_Store  \n",
      "  inflating: __MACOSX/low_freq/._house_2  \n",
      "  inflating: __MACOSX/low_freq/._house_5  \n",
      "  inflating: __MACOSX/low_freq/._house_4  \n",
      "  inflating: __MACOSX/low_freq/._house_3  \n",
      "  inflating: __MACOSX/low_freq/._house_6  \n",
      "  inflating: __MACOSX/low_freq/._house_1  \n",
      "  inflating: low_freq/house_2/channel_9.dat  \n",
      "  inflating: __MACOSX/low_freq/house_2/._channel_9.dat  \n",
      "  inflating: low_freq/house_2/channel_8.dat  \n",
      "  inflating: __MACOSX/low_freq/house_2/._channel_8.dat  \n",
      "  inflating: low_freq/house_2/channel_1.dat  \n",
      "  inflating: __MACOSX/low_freq/house_2/._channel_1.dat  \n",
      "  inflating: low_freq/house_2/channel_3.dat  \n",
      "  inflating: __MACOSX/low_freq/house_2/._channel_3.dat  \n",
      "  inflating: low_freq/house_2/channel_2.dat  \n",
      "  inflating: __MACOSX/low_freq/house_2/._channel_2.dat  \n",
      "  inflating: low_freq/house_2/channel_6.dat  \n",
      "  inflating: __MACOSX/low_freq/house_2/._channel_6.dat  \n",
      "  inflating: low_freq/house_2/channel_7.dat  \n",
      "  inflating: __MACOSX/low_freq/house_2/._channel_7.dat  \n",
      "  inflating: low_freq/house_2/channel_5.dat  \n",
      "  inflating: __MACOSX/low_freq/house_2/._channel_5.dat  \n",
      "  inflating: low_freq/house_2/channel_4.dat  \n",
      "  inflating: __MACOSX/low_freq/house_2/._channel_4.dat  \n",
      "  inflating: low_freq/house_2/channel_11.dat  \n",
      "  inflating: __MACOSX/low_freq/house_2/._channel_11.dat  \n",
      "  inflating: low_freq/house_2/labels.dat  \n",
      "  inflating: __MACOSX/low_freq/house_2/._labels.dat  \n",
      "  inflating: low_freq/house_2/channel_10.dat  \n",
      "  inflating: __MACOSX/low_freq/house_2/._channel_10.dat  \n",
      "  inflating: low_freq/house_5/channel_22.dat  \n",
      "  inflating: __MACOSX/low_freq/house_5/._channel_22.dat  \n",
      "  inflating: low_freq/house_5/channel_23.dat  \n",
      "  inflating: __MACOSX/low_freq/house_5/._channel_23.dat  \n",
      "  inflating: low_freq/house_5/channel_21.dat  \n",
      "  inflating: __MACOSX/low_freq/house_5/._channel_21.dat  \n",
      "  inflating: low_freq/house_5/channel_20.dat  \n",
      "  inflating: __MACOSX/low_freq/house_5/._channel_20.dat  \n",
      "  inflating: low_freq/house_5/channel_18.dat  \n",
      "  inflating: __MACOSX/low_freq/house_5/._channel_18.dat  \n",
      "  inflating: low_freq/house_5/channel_24.dat  \n",
      "  inflating: __MACOSX/low_freq/house_5/._channel_24.dat  \n",
      "  inflating: low_freq/house_5/channel_25.dat  \n",
      "  inflating: __MACOSX/low_freq/house_5/._channel_25.dat  \n",
      "  inflating: low_freq/house_5/channel_19.dat  \n",
      "  inflating: __MACOSX/low_freq/house_5/._channel_19.dat  \n",
      "  inflating: low_freq/house_5/channel_26.dat  \n",
      "  inflating: __MACOSX/low_freq/house_5/._channel_26.dat  \n",
      "  inflating: low_freq/house_5/channel_9.dat  \n",
      "  inflating: __MACOSX/low_freq/house_5/._channel_9.dat  \n",
      "  inflating: low_freq/house_5/channel_8.dat  \n",
      "  inflating: __MACOSX/low_freq/house_5/._channel_8.dat  \n",
      "  inflating: low_freq/house_5/channel_1.dat  \n",
      "  inflating: __MACOSX/low_freq/house_5/._channel_1.dat  \n",
      "  inflating: low_freq/house_5/channel_3.dat  \n",
      "  inflating: __MACOSX/low_freq/house_5/._channel_3.dat  \n",
      "  inflating: low_freq/house_5/channel_2.dat  \n",
      "  inflating: __MACOSX/low_freq/house_5/._channel_2.dat  \n",
      "  inflating: low_freq/house_5/channel_6.dat  \n",
      "  inflating: __MACOSX/low_freq/house_5/._channel_6.dat  \n",
      "  inflating: low_freq/house_5/channel_7.dat  \n",
      "  inflating: __MACOSX/low_freq/house_5/._channel_7.dat  \n",
      "  inflating: low_freq/house_5/channel_5.dat  \n",
      "  inflating: __MACOSX/low_freq/house_5/._channel_5.dat  \n",
      "  inflating: low_freq/house_5/channel_4.dat  \n",
      "  inflating: __MACOSX/low_freq/house_5/._channel_4.dat  \n",
      "  inflating: low_freq/house_5/channel_17.dat  \n",
      "  inflating: __MACOSX/low_freq/house_5/._channel_17.dat  \n",
      "  inflating: low_freq/house_5/channel_16.dat  \n",
      "  inflating: __MACOSX/low_freq/house_5/._channel_16.dat  \n",
      "  inflating: low_freq/house_5/channel_14.dat  \n",
      "  inflating: __MACOSX/low_freq/house_5/._channel_14.dat  \n",
      "  inflating: low_freq/house_5/channel_15.dat  \n",
      "  inflating: __MACOSX/low_freq/house_5/._channel_15.dat  \n",
      "  inflating: low_freq/house_5/channel_11.dat  \n",
      "  inflating: __MACOSX/low_freq/house_5/._channel_11.dat  \n",
      "  inflating: low_freq/house_5/labels.dat  \n",
      "  inflating: __MACOSX/low_freq/house_5/._labels.dat  \n",
      "  inflating: low_freq/house_5/channel_10.dat  \n",
      "  inflating: __MACOSX/low_freq/house_5/._channel_10.dat  \n",
      "  inflating: low_freq/house_5/channel_12.dat  \n",
      "  inflating: __MACOSX/low_freq/house_5/._channel_12.dat  \n",
      "  inflating: low_freq/house_5/channel_13.dat  \n",
      "  inflating: __MACOSX/low_freq/house_5/._channel_13.dat  \n",
      "  inflating: low_freq/house_4/channel_20.dat  \n",
      "  inflating: __MACOSX/low_freq/house_4/._channel_20.dat  \n",
      "  inflating: low_freq/house_4/channel_18.dat  \n",
      "  inflating: __MACOSX/low_freq/house_4/._channel_18.dat  \n",
      "  inflating: low_freq/house_4/channel_19.dat  \n",
      "  inflating: __MACOSX/low_freq/house_4/._channel_19.dat  \n",
      "  inflating: low_freq/house_4/channel_9.dat  \n",
      "  inflating: __MACOSX/low_freq/house_4/._channel_9.dat  \n",
      "  inflating: low_freq/house_4/channel_8.dat  \n",
      "  inflating: __MACOSX/low_freq/house_4/._channel_8.dat  \n",
      "  inflating: low_freq/house_4/channel_1.dat  \n",
      "  inflating: __MACOSX/low_freq/house_4/._channel_1.dat  \n",
      "  inflating: low_freq/house_4/channel_3.dat  \n",
      "  inflating: __MACOSX/low_freq/house_4/._channel_3.dat  \n",
      "  inflating: low_freq/house_4/channel_2.dat  \n",
      "  inflating: __MACOSX/low_freq/house_4/._channel_2.dat  \n",
      "  inflating: low_freq/house_4/channel_6.dat  \n",
      "  inflating: __MACOSX/low_freq/house_4/._channel_6.dat  \n",
      "  inflating: low_freq/house_4/channel_7.dat  \n",
      "  inflating: __MACOSX/low_freq/house_4/._channel_7.dat  \n",
      "  inflating: low_freq/house_4/channel_5.dat  \n",
      "  inflating: __MACOSX/low_freq/house_4/._channel_5.dat  \n",
      "  inflating: low_freq/house_4/channel_4.dat  \n",
      "  inflating: __MACOSX/low_freq/house_4/._channel_4.dat  \n",
      "  inflating: low_freq/house_4/channel_17.dat  \n",
      "  inflating: __MACOSX/low_freq/house_4/._channel_17.dat  \n",
      "  inflating: low_freq/house_4/channel_16.dat  \n",
      "  inflating: __MACOSX/low_freq/house_4/._channel_16.dat  \n",
      "  inflating: low_freq/house_4/channel_14.dat  \n",
      "  inflating: __MACOSX/low_freq/house_4/._channel_14.dat  \n",
      "  inflating: low_freq/house_4/channel_15.dat  \n",
      "  inflating: __MACOSX/low_freq/house_4/._channel_15.dat  \n",
      "  inflating: low_freq/house_4/channel_11.dat  \n",
      "  inflating: __MACOSX/low_freq/house_4/._channel_11.dat  \n",
      "  inflating: low_freq/house_4/labels.dat  \n",
      "  inflating: __MACOSX/low_freq/house_4/._labels.dat  \n",
      "  inflating: low_freq/house_4/channel_10.dat  \n",
      "  inflating: __MACOSX/low_freq/house_4/._channel_10.dat  \n",
      "  inflating: low_freq/house_4/channel_12.dat  \n",
      "  inflating: __MACOSX/low_freq/house_4/._channel_12.dat  \n",
      "  inflating: low_freq/house_4/channel_13.dat  \n",
      "  inflating: __MACOSX/low_freq/house_4/._channel_13.dat  \n",
      "  inflating: low_freq/house_3/channel_22.dat  \n",
      "  inflating: __MACOSX/low_freq/house_3/._channel_22.dat  \n",
      "  inflating: low_freq/house_3/channel_21.dat  \n",
      "  inflating: __MACOSX/low_freq/house_3/._channel_21.dat  \n",
      "  inflating: low_freq/house_3/channel_20.dat  \n",
      "  inflating: __MACOSX/low_freq/house_3/._channel_20.dat  \n",
      "  inflating: low_freq/house_3/channel_18.dat  \n",
      "  inflating: __MACOSX/low_freq/house_3/._channel_18.dat  \n",
      "  inflating: low_freq/house_3/channel_19.dat  \n",
      "  inflating: __MACOSX/low_freq/house_3/._channel_19.dat  \n",
      "  inflating: low_freq/house_3/channel_9.dat  \n",
      "  inflating: __MACOSX/low_freq/house_3/._channel_9.dat  \n",
      "  inflating: low_freq/house_3/channel_8.dat  \n",
      "  inflating: __MACOSX/low_freq/house_3/._channel_8.dat  \n",
      "  inflating: low_freq/house_3/channel_1.dat  \n",
      "  inflating: __MACOSX/low_freq/house_3/._channel_1.dat  \n",
      "  inflating: low_freq/house_3/channel_3.dat  \n",
      "  inflating: __MACOSX/low_freq/house_3/._channel_3.dat  \n",
      "  inflating: low_freq/house_3/channel_2.dat  \n",
      "  inflating: __MACOSX/low_freq/house_3/._channel_2.dat  \n",
      "  inflating: low_freq/house_3/channel_6.dat  \n",
      "  inflating: __MACOSX/low_freq/house_3/._channel_6.dat  \n",
      "  inflating: low_freq/house_3/channel_7.dat  \n",
      "  inflating: __MACOSX/low_freq/house_3/._channel_7.dat  \n",
      "  inflating: low_freq/house_3/channel_5.dat  \n",
      "  inflating: __MACOSX/low_freq/house_3/._channel_5.dat  \n",
      "  inflating: low_freq/house_3/channel_4.dat  \n",
      "  inflating: __MACOSX/low_freq/house_3/._channel_4.dat  \n",
      "  inflating: low_freq/house_3/channel_17.dat  \n",
      "  inflating: __MACOSX/low_freq/house_3/._channel_17.dat  \n",
      "  inflating: low_freq/house_3/channel_16.dat  \n",
      "  inflating: __MACOSX/low_freq/house_3/._channel_16.dat  \n",
      "  inflating: low_freq/house_3/channel_14.dat  \n",
      "  inflating: __MACOSX/low_freq/house_3/._channel_14.dat  \n",
      "  inflating: low_freq/house_3/channel_15.dat  \n",
      "  inflating: __MACOSX/low_freq/house_3/._channel_15.dat  \n",
      "  inflating: low_freq/house_3/channel_11.dat  \n",
      "  inflating: __MACOSX/low_freq/house_3/._channel_11.dat  \n",
      "  inflating: low_freq/house_3/labels.dat  \n",
      "  inflating: __MACOSX/low_freq/house_3/._labels.dat  \n",
      "  inflating: low_freq/house_3/channel_10.dat  \n",
      "  inflating: __MACOSX/low_freq/house_3/._channel_10.dat  \n",
      "  inflating: low_freq/house_3/channel_12.dat  \n",
      "  inflating: __MACOSX/low_freq/house_3/._channel_12.dat  \n",
      "  inflating: low_freq/house_3/channel_13.dat  \n",
      "  inflating: __MACOSX/low_freq/house_3/._channel_13.dat  \n",
      "  inflating: low_freq/house_6/channel_9.dat  \n",
      "  inflating: __MACOSX/low_freq/house_6/._channel_9.dat  \n",
      "  inflating: low_freq/house_6/channel_8.dat  \n",
      "  inflating: __MACOSX/low_freq/house_6/._channel_8.dat  \n",
      "  inflating: low_freq/house_6/channel_1.dat  \n",
      "  inflating: __MACOSX/low_freq/house_6/._channel_1.dat  \n",
      "  inflating: low_freq/house_6/channel_3.dat  \n",
      "  inflating: __MACOSX/low_freq/house_6/._channel_3.dat  \n",
      "  inflating: low_freq/house_6/channel_2.dat  \n",
      "  inflating: __MACOSX/low_freq/house_6/._channel_2.dat  \n",
      "  inflating: low_freq/house_6/channel_6.dat  \n",
      "  inflating: __MACOSX/low_freq/house_6/._channel_6.dat  \n",
      "  inflating: low_freq/house_6/channel_7.dat  \n",
      "  inflating: __MACOSX/low_freq/house_6/._channel_7.dat  \n",
      "  inflating: low_freq/house_6/channel_5.dat  \n",
      "  inflating: __MACOSX/low_freq/house_6/._channel_5.dat  \n",
      "  inflating: low_freq/house_6/channel_4.dat  \n",
      "  inflating: __MACOSX/low_freq/house_6/._channel_4.dat  \n",
      "  inflating: low_freq/house_6/channel_17.dat  \n",
      "  inflating: __MACOSX/low_freq/house_6/._channel_17.dat  \n",
      "  inflating: low_freq/house_6/channel_16.dat  \n",
      "  inflating: __MACOSX/low_freq/house_6/._channel_16.dat  \n",
      "  inflating: low_freq/house_6/channel_14.dat  \n",
      "  inflating: __MACOSX/low_freq/house_6/._channel_14.dat  \n",
      "  inflating: low_freq/house_6/channel_15.dat  \n",
      "  inflating: __MACOSX/low_freq/house_6/._channel_15.dat  \n",
      "  inflating: low_freq/house_6/channel_11.dat  \n",
      "  inflating: __MACOSX/low_freq/house_6/._channel_11.dat  \n",
      "  inflating: low_freq/house_6/labels.dat  \n",
      "  inflating: __MACOSX/low_freq/house_6/._labels.dat  \n",
      "  inflating: low_freq/house_6/channel_10.dat  \n",
      "  inflating: __MACOSX/low_freq/house_6/._channel_10.dat  \n",
      "  inflating: low_freq/house_6/channel_12.dat  \n",
      "  inflating: __MACOSX/low_freq/house_6/._channel_12.dat  \n",
      "  inflating: low_freq/house_6/channel_13.dat  \n",
      "  inflating: __MACOSX/low_freq/house_6/._channel_13.dat  \n",
      "  inflating: low_freq/house_1/channel_20.dat  \n",
      "  inflating: __MACOSX/low_freq/house_1/._channel_20.dat  \n",
      "  inflating: low_freq/house_1/channel_18.dat  \n",
      "  inflating: __MACOSX/low_freq/house_1/._channel_18.dat  \n",
      "  inflating: low_freq/house_1/channel_19.dat  \n",
      "  inflating: __MACOSX/low_freq/house_1/._channel_19.dat  \n",
      "  inflating: low_freq/house_1/channel_9.dat  \n",
      "  inflating: __MACOSX/low_freq/house_1/._channel_9.dat  \n",
      "  inflating: low_freq/house_1/channel_8.dat  \n",
      "  inflating: __MACOSX/low_freq/house_1/._channel_8.dat  \n",
      "  inflating: low_freq/house_1/channel_1.dat  \n",
      "  inflating: __MACOSX/low_freq/house_1/._channel_1.dat  \n",
      "  inflating: low_freq/house_1/channel_3.dat  \n",
      "  inflating: __MACOSX/low_freq/house_1/._channel_3.dat  \n",
      "  inflating: low_freq/house_1/channel_2.dat  \n",
      "  inflating: __MACOSX/low_freq/house_1/._channel_2.dat  \n",
      "  inflating: low_freq/house_1/channel_6.dat  \n",
      "  inflating: __MACOSX/low_freq/house_1/._channel_6.dat  \n",
      "  inflating: low_freq/house_1/channel_7.dat  \n",
      "  inflating: __MACOSX/low_freq/house_1/._channel_7.dat  \n",
      "  inflating: low_freq/house_1/channel_5.dat  \n",
      "  inflating: __MACOSX/low_freq/house_1/._channel_5.dat  \n",
      "  inflating: low_freq/house_1/channel_4.dat  \n",
      "  inflating: __MACOSX/low_freq/house_1/._channel_4.dat  \n",
      "  inflating: low_freq/house_1/channel_17.dat  \n",
      "  inflating: __MACOSX/low_freq/house_1/._channel_17.dat  \n",
      "  inflating: low_freq/house_1/channel_16.dat  \n",
      "  inflating: __MACOSX/low_freq/house_1/._channel_16.dat  \n",
      "  inflating: low_freq/house_1/channel_14.dat  \n",
      "  inflating: __MACOSX/low_freq/house_1/._channel_14.dat  \n",
      "  inflating: low_freq/house_1/channel_15.dat  \n",
      "  inflating: __MACOSX/low_freq/house_1/._channel_15.dat  \n",
      "  inflating: low_freq/house_1/channel_11.dat  \n",
      "  inflating: __MACOSX/low_freq/house_1/._channel_11.dat  \n",
      "  inflating: low_freq/house_1/labels.dat  \n",
      "  inflating: __MACOSX/low_freq/house_1/._labels.dat  \n",
      "  inflating: low_freq/house_1/channel_10.dat  \n",
      "  inflating: __MACOSX/low_freq/house_1/._channel_10.dat  \n",
      "  inflating: low_freq/house_1/channel_12.dat  \n",
      "  inflating: __MACOSX/low_freq/house_1/._channel_12.dat  \n",
      "  inflating: low_freq/house_1/channel_13.dat  \n",
      "  inflating: __MACOSX/low_freq/house_1/._channel_13.dat  \n"
     ]
    }
   ],
   "source": [
    "!unzip gdrive/My\\ Drive/data/low_freq.zip"
   ]
  },
  {
   "cell_type": "markdown",
   "metadata": {
    "id": "moKfVfHRCWsG"
   },
   "source": [
    "* convert this file to HDF5 version"
   ]
  },
  {
   "cell_type": "code",
   "execution_count": 44,
   "metadata": {
    "colab": {
     "base_uri": "https://localhost:8080/"
    },
    "id": "mv0DrBtDzld3",
    "outputId": "5adcb66e-4d4c-4c62-e1ce-0c08373a95af"
   },
   "outputs": [
    {
     "name": "stdout",
     "output_type": "stream",
     "text": [
      "Loading house 1... 1 2 3 4 5 6 7 8 9 10 11 12 13 14 15 16 17 18 19 20 \n",
      "Loading house 2... 1 2 3 4 5 6 7 8 9 10 11 \n",
      "Loading house 3... 1 2 3 4 5 6 7 8 9 10 11 12 13 14 15 16 17 18 19 20 21 22 \n",
      "Loading house 4... 1 2 3 4 5 6 7 8 9 10 11 12 13 14 15 16 17 18 19 20 \n",
      "Loading house 5... 1 2 3 4 5 6 7 8 9 10 11 12 13 14 15 16 17 18 19 20 21 22 23 24 25 26 \n",
      "Loading house 6... 1 2 3 4 5 6 7 8 9 10 11 12 13 14 15 16 17 \n",
      "Loaded metadata\n",
      "Done converting YAML metadata to HDF5!\n",
      "Done converting REDD to HDF5!\n"
     ]
    }
   ],
   "source": [
    "from nilmtk.dataset_converters import convert_redd\n",
    "convert_redd('/Users/gracepichar/Desktop/thesis/dataset/REDD', 'reddd.h5')"
   ]
  },
  {
   "cell_type": "markdown",
   "metadata": {
    "id": "s227FDmcDwmK"
   },
   "source": [
    "* download the REEDD dataset"
   ]
  },
  {
   "cell_type": "code",
   "execution_count": 46,
   "metadata": {
    "id": "M5jWqkWc3Ul3"
   },
   "outputs": [],
   "source": [
    "redd = DataSet('reddd.h5')"
   ]
  },
  {
   "cell_type": "code",
   "execution_count": 49,
   "metadata": {
    "colab": {
     "base_uri": "https://localhost:8080/",
     "height": 929
    },
    "id": "_A2f0vqy4EUF",
    "outputId": "2e640841-0960-4ce3-bec6-e611dcf070a4"
   },
   "outputs": [
    {
     "data": {
      "text/html": [
       "<ul><li><strong>name</strong>: REDD</li><li><strong>long_name</strong>: The Reference Energy Disaggregation Data set</li><li><strong>creators</strong>: <ul><li>Kolter, Zico</li><li>Johnson, Matthew</li></ul></li><li><strong>publication_date</strong>: 2011</li><li><strong>institution</strong>: Massachusetts Institute of Technology (MIT)</li><li><strong>contact</strong>: zkolter@cs.cmu.edu</li><li><strong>description</strong>: Several weeks of power data for 6 different homes.</li><li><strong>subject</strong>: Disaggregated power demand from domestic buildings.</li><li><strong>number_of_buildings</strong>: 6</li><li><strong>timezone</strong>: US/Eastern</li><li><strong>geo_location</strong>: <ul><li><strong>locality</strong>: Massachusetts</li><li><strong>country</strong>: US</li><li><strong>latitude</strong>: 42.360091</li><li><strong>longitude</strong>: -71.09416</li></ul></li><li><strong>related_documents</strong>: <ul><li><a href=\"http://redd.csail.mit.edu\">http://redd.csail.mit.edu</a></li><li>J. Zico Kolter and Matthew J. Johnson. REDD: A public data set for energy disaggregation research. In proceedings of the SustKDD workshop on Data Mining Applications in Sustainability, 2011. <a href=\"http://redd.csail.mit.edu/kolter-kddsust11.pdf\">http://redd.csail.mit.edu/kolter-kddsust11.pdf</a>\n",
       "</li></ul></li><li><strong>schema</strong>: <a href=\"https://github.com/nilmtk/nilm_metadata/tree/v0.2\">https://github.com/nilmtk/nilm_metadata/tree/v0.2</a></li><li><strong>meter_devices</strong>: <ul><li><strong>eMonitor</strong>: <ul><li><strong>model</strong>: eMonitor</li><li><strong>manufacturer</strong>: Powerhouse Dynamics</li><li><strong>manufacturer_url</strong>: <a href=\"http://powerhousedynamics.com\">http://powerhousedynamics.com</a></li><li><strong>description</strong>: Measures circuit-level power demand.  Comes with 24 CTs. This FAQ page suggests the eMonitor measures real (active) power: <a href=\"http://www.energycircle.com/node/14103\">http://www.energycircle.com/node/14103</a>  although the REDD readme.txt says all channels record apparent power.\n",
       "</li><li><strong>sample_period</strong>: 3</li><li><strong>max_sample_period</strong>: 50</li><li><strong>measurements</strong>: <ul><li>{'physical_quantity': 'power', 'type': 'active', 'upper_limit': 5000, 'lower_limit': 0}</li></ul></li><li><strong>wireless</strong>: False</li></ul></li><li><strong>REDD_whole_house</strong>: <ul><li><strong>description</strong>: REDD's DIY power meter used to measure whole-home AC waveforms at high frequency.  To quote from their paper: \"CTs from TED (<a href=\"http://www.theenergydetective.com\">http://www.theenergydetective.com</a>) to measure current in the power mains, a Pico TA041 oscilloscope probe (<a href=\"http://www.picotechnologies.com\">http://www.picotechnologies.com</a>) to measure voltage for one of the two phases in the home, and a National Instruments NI-9239 analog to digital converter to transform both these analog signals to digital readings. This A/D converter has 24 bit resolution with noise of approximately 70 µV, which determines the noise level of our current and voltage readings: the TED CTs are rated for 200 amp circuits and a maximum of 3 volts, so we are able to differentiate between currents of approximately ((200))(70 × 10−6)/(3) = 4.66mA, corresponding to power changes of about 0.5 watts. Similarly, since we use a 1:100 voltage stepdown in the oscilloscope probe, we can detect voltage differences of about 7mV.\"\n",
       "</li><li><strong>sample_period</strong>: 1</li><li><strong>max_sample_period</strong>: 30</li><li><strong>measurements</strong>: <ul><li>{'physical_quantity': 'power', 'type': 'apparent', 'upper_limit': 50000, 'lower_limit': 0}</li></ul></li><li><strong>wireless</strong>: False</li></ul></li></ul></li></ul>"
      ],
      "text/plain": [
       "<IPython.core.display.HTML object>"
      ]
     },
     "metadata": {},
     "output_type": "display_data"
    }
   ],
   "source": [
    "print_dict(redd.metadata)"
   ]
  },
  {
   "cell_type": "code",
   "execution_count": 51,
   "metadata": {
    "colab": {
     "base_uri": "https://localhost:8080/",
     "height": 133
    },
    "id": "lwE3sX0B4Rmq",
    "outputId": "8c050ed3-48ec-4170-886c-6f98eacfaf03"
   },
   "outputs": [
    {
     "data": {
      "text/html": [
       "<ul><li><strong>1</strong>: Building(instance=1, dataset='REDD')</li><li><strong>2</strong>: Building(instance=2, dataset='REDD')</li><li><strong>3</strong>: Building(instance=3, dataset='REDD')</li><li><strong>4</strong>: Building(instance=4, dataset='REDD')</li><li><strong>5</strong>: Building(instance=5, dataset='REDD')</li><li><strong>6</strong>: Building(instance=6, dataset='REDD')</li></ul>"
      ],
      "text/plain": [
       "<IPython.core.display.HTML object>"
      ]
     },
     "metadata": {},
     "output_type": "display_data"
    }
   ],
   "source": [
    "print_dict(redd.buildings)"
   ]
  },
  {
   "cell_type": "code",
   "execution_count": 52,
   "metadata": {
    "colab": {
     "base_uri": "https://localhost:8080/"
    },
    "id": "CJbRlSra4XAQ",
    "outputId": "17e870c8-bb38-4346-be52-d8554df1c11b"
   },
   "outputs": [
    {
     "data": {
      "text/plain": [
       "MeterGroup(meters=\n",
       "  ElecMeter(instance=1, building=1, dataset='REDD', site_meter, appliances=[])\n",
       "  ElecMeter(instance=2, building=1, dataset='REDD', site_meter, appliances=[])\n",
       "  ElecMeter(instance=5, building=1, dataset='REDD', appliances=[Appliance(type='fridge', instance=1)])\n",
       "  ElecMeter(instance=6, building=1, dataset='REDD', appliances=[Appliance(type='dish washer', instance=1)])\n",
       "  ElecMeter(instance=7, building=1, dataset='REDD', appliances=[Appliance(type='sockets', instance=1)])\n",
       "  ElecMeter(instance=8, building=1, dataset='REDD', appliances=[Appliance(type='sockets', instance=2)])\n",
       "  ElecMeter(instance=9, building=1, dataset='REDD', appliances=[Appliance(type='light', instance=1)])\n",
       "  ElecMeter(instance=11, building=1, dataset='REDD', appliances=[Appliance(type='microwave', instance=1)])\n",
       "  ElecMeter(instance=12, building=1, dataset='REDD', appliances=[Appliance(type='unknown', instance=1)])\n",
       "  ElecMeter(instance=13, building=1, dataset='REDD', appliances=[Appliance(type='electric space heater', instance=1)])\n",
       "  ElecMeter(instance=14, building=1, dataset='REDD', appliances=[Appliance(type='electric stove', instance=1)])\n",
       "  ElecMeter(instance=15, building=1, dataset='REDD', appliances=[Appliance(type='sockets', instance=3)])\n",
       "  ElecMeter(instance=16, building=1, dataset='REDD', appliances=[Appliance(type='sockets', instance=4)])\n",
       "  ElecMeter(instance=17, building=1, dataset='REDD', appliances=[Appliance(type='light', instance=2)])\n",
       "  ElecMeter(instance=18, building=1, dataset='REDD', appliances=[Appliance(type='light', instance=3)])\n",
       "  ElecMeter(instance=19, building=1, dataset='REDD', appliances=[Appliance(type='unknown', instance=2)])\n",
       "  MeterGroup(meters=\n",
       "    ElecMeter(instance=3, building=1, dataset='REDD', appliances=[Appliance(type='electric oven', instance=1)])\n",
       "    ElecMeter(instance=4, building=1, dataset='REDD', appliances=[Appliance(type='electric oven', instance=1)])\n",
       "  )\n",
       "  MeterGroup(meters=\n",
       "    ElecMeter(instance=10, building=1, dataset='REDD', appliances=[Appliance(type='washer dryer', instance=1)])\n",
       "    ElecMeter(instance=20, building=1, dataset='REDD', appliances=[Appliance(type='washer dryer', instance=1)])\n",
       "  )\n",
       ")"
      ]
     },
     "execution_count": 52,
     "metadata": {},
     "output_type": "execute_result"
    }
   ],
   "source": [
    "redd.buildings[1].elec"
   ]
  },
  {
   "cell_type": "markdown",
   "metadata": {
    "id": "-E23cd-8EF-e"
   },
   "source": [
    "2. UK-DALE dataset"
   ]
  },
  {
   "cell_type": "code",
   "execution_count": 53,
   "metadata": {
    "colab": {
     "base_uri": "https://localhost:8080/"
    },
    "id": "CaUdn2Ivy1qW",
    "outputId": "e592ca6f-8dde-4c7f-ee88-400447400294"
   },
   "outputs": [
    {
     "name": "stdout",
     "output_type": "stream",
     "text": [
      "--2022-07-12 15:14:49--  https://data.ukedc.rl.ac.uk/browse/edc/efficiency/residential/EnergyConsumption/Domestic/UK-DALE-2017/UK-DALE-FULL-disaggregated/ukdale.h5.zip\n",
      "Resolving data.ukedc.rl.ac.uk (data.ukedc.rl.ac.uk)... 130.246.130.113\n",
      "Connecting to data.ukedc.rl.ac.uk (data.ukedc.rl.ac.uk)|130.246.130.113|:443... connected.\n",
      "HTTP request sent, awaiting response... 200 OK\n",
      "Length: 5466002082 (5.1G) [badc/data]\n",
      "Saving to: ‘ukdale.h5.zip’\n",
      "\n",
      "ukdale.h5.zip       100%[===================>]   5.09G  37.1MB/s    in 2m 26s  \n",
      "\n",
      "2022-07-12 15:17:16 (35.8 MB/s) - ‘ukdale.h5.zip’ saved [5466002082/5466002082]\n",
      "\n"
     ]
    }
   ],
   "source": [
    "!wget https://data.ukedc.rl.ac.uk/browse/edc/efficiency/residential/EnergyConsumption/Domestic/UK-DALE-2017/UK-DALE-FULL-disaggregated/ukdale.h5.zip"
   ]
  },
  {
   "cell_type": "code",
   "execution_count": 54,
   "metadata": {
    "colab": {
     "base_uri": "https://localhost:8080/"
    },
    "id": "7q45ErVG3Wj_",
    "outputId": "846cf49c-7116-499c-982d-c2ce92582d5c"
   },
   "outputs": [
    {
     "name": "stdout",
     "output_type": "stream",
     "text": [
      "Archive:  /content/ukdale.h5.zip\n",
      "  inflating: ukdale.h5               \n"
     ]
    }
   ],
   "source": [
    "!unzip /content/ukdale.h5.zip"
   ]
  },
  {
   "cell_type": "code",
   "execution_count": 56,
   "metadata": {
    "id": "EKq4Mhlf4WS3"
   },
   "outputs": [],
   "source": [
    "uk_dale = DataSet('ukdale.h5')"
   ]
  },
  {
   "cell_type": "code",
   "execution_count": 57,
   "metadata": {
    "colab": {
     "base_uri": "https://localhost:8080/",
     "height": 1000
    },
    "id": "HhmZCXp8_e3Y",
    "outputId": "cb6a1ee2-1be0-4b4c-d5a9-20faf3ecf2a6"
   },
   "outputs": [
    {
     "data": {
      "text/html": [
       "<ul><li><strong>description_of_subjects</strong>: 4 MSc students and 1 PhD student.</li><li><strong>meter_devices</strong>: <ul><li><strong>EcoManagerTxPlug</strong>: <ul><li><strong>max_sample_period</strong>: 120</li><li><strong>model_url</strong>: <a href=\"https://shop.edfenergy.com/Item.aspx?id=540\">https://shop.edfenergy.com/Item.aspx?id=540</a></li><li><strong>wireless_configuration</strong>: <ul><li><strong>base</strong>: creators: [Jack Kelly] model: rfm_edf_ecomanager model_url: <a href=\"https://github.com/JackKelly/rfm_edf_ecomanager/\">https://github.com/JackKelly/rfm_edf_ecomanager/</a>\n",
       "</li><li><strong>protocol</strong>: custom</li><li><strong>carrier_frequency</strong>: 434</li></ul></li><li><strong>brand</strong>: EcoManager</li><li><strong>measurements</strong>: <ul><li>{'lower_limit': 0, 'upper_limit': 3300, 'physical_quantity': 'power', 'type': 'active'}</li></ul></li><li><strong>data_logger</strong>: <ul><li><strong>model</strong>: rfm_ecomanager_logger</li><li><strong>creators</strong>: <ul><li>Jack Kelly</li></ul></li><li><strong>model_url</strong>: <a href=\"https://github.com/JackKelly/rfm_ecomanager_logger\">https://github.com/JackKelly/rfm_ecomanager_logger</a></li></ul></li><li><strong>sample_period</strong>: 6</li><li><strong>wireless</strong>: True</li><li><strong>brand_url</strong>: <a href=\"http://www.edfenergy.com/products-services/for-your-home/ecomanager\">http://www.edfenergy.com/products-services/for-your-home/ecomanager</a></li><li><strong>model</strong>: EcoManagerTxPlug</li><li><strong>seller</strong>: EDF Energy</li><li><strong>manufacturer</strong>: Current Cost / Sailwider</li></ul></li><li><strong>CurrentCostTx</strong>: <ul><li><strong>max_sample_period</strong>: 120</li><li><strong>model_url</strong>: <a href=\"http://www.currentcost.com/product-transmitter.html\">http://www.currentcost.com/product-transmitter.html</a></li><li><strong>wireless_configuration</strong>: <ul><li><strong>base</strong>: creators: [Jack Kelly] model: rfm_edf_ecomanager model_url: <a href=\"https://github.com/JackKelly/rfm_edf_ecomanager/\">https://github.com/JackKelly/rfm_edf_ecomanager/</a>\n",
       "</li><li><strong>protocol</strong>: custom</li><li><strong>carrier_frequency</strong>: 434</li></ul></li><li><strong>measurements</strong>: <ul><li>{'lower_limit': 0, 'upper_limit': 25000, 'physical_quantity': 'power', 'type': 'apparent'}</li></ul></li><li><strong>data_logger</strong>: <ul><li><strong>model</strong>: rfm_ecomanager_logger</li><li><strong>creators</strong>: <ul><li>Jack Kelly</li></ul></li><li><strong>model_url</strong>: <a href=\"https://github.com/JackKelly/rfm_ecomanager_logger\">https://github.com/JackKelly/rfm_ecomanager_logger</a></li></ul></li><li><strong>sample_period</strong>: 6</li><li><strong>wireless</strong>: True</li><li><strong>model</strong>: CurrentCost Tx</li><li><strong>manufacturer</strong>: Current Cost</li></ul></li><li><strong>SoundCardPowerMeter</strong>: <ul><li><strong>max_sample_period</strong>: 3</li><li><strong>wireless</strong>: False</li><li><strong>model_url</strong>: <a href=\"https://github.com/JackKelly/snd_card_power_meter\">https://github.com/JackKelly/snd_card_power_meter</a></li><li><strong>model</strong>: Sound Card Power Meter</li><li><strong>measurements</strong>: <ul><li>{'lower_limit': 0, 'upper_limit': 25000, 'physical_quantity': 'power', 'type': 'active'}</li><li>{'lower_limit': 0, 'upper_limit': 25000, 'physical_quantity': 'power', 'type': 'apparent'}</li><li>{'lower_limit': 180, 'upper_limit': 275, 'physical_quantity': 'voltage', 'description': 'RMS voltage'}</li></ul></li><li><strong>manufacturer</strong>: Jack Kelly / Imperial College London</li><li><strong>sample_period</strong>: 1</li></ul></li><li><strong>EcoManagerWholeHouseTx</strong>: <ul><li><strong>max_sample_period</strong>: 120</li><li><strong>model_url</strong>: <a href=\"https://shop.edfenergy.com/Item.aspx?id=547\">https://shop.edfenergy.com/Item.aspx?id=547</a></li><li><strong>wireless_configuration</strong>: <ul><li><strong>base</strong>: creators: [Jack Kelly] model: rfm_edf_ecomanager model_url: <a href=\"https://github.com/JackKelly/rfm_edf_ecomanager/\">https://github.com/JackKelly/rfm_edf_ecomanager/</a>\n",
       "</li><li><strong>protocol</strong>: custom</li><li><strong>carrier_frequency</strong>: 434</li></ul></li><li><strong>brand</strong>: EcoManager</li><li><strong>measurements</strong>: <ul><li>{'lower_limit': 0, 'upper_limit': 25000, 'physical_quantity': 'power', 'type': 'apparent'}</li></ul></li><li><strong>data_logger</strong>: <ul><li><strong>model</strong>: rfm_ecomanager_logger</li><li><strong>creators</strong>: <ul><li>Jack Kelly</li></ul></li><li><strong>model_url</strong>: <a href=\"https://github.com/JackKelly/rfm_ecomanager_logger\">https://github.com/JackKelly/rfm_ecomanager_logger</a></li></ul></li><li><strong>sample_period</strong>: 6</li><li><strong>wireless</strong>: True</li><li><strong>brand_url</strong>: <a href=\"http://www.edfenergy.com/products-services/for-your-home/ecomanager\">http://www.edfenergy.com/products-services/for-your-home/ecomanager</a></li><li><strong>model</strong>: EcoManagerWholeHouseTx</li><li><strong>seller</strong>: EDF Energy</li><li><strong>site_meter</strong>: True</li><li><strong>manufacturer</strong>: Current Cost / Sailwider</li></ul></li></ul></li><li><strong>description</strong>: Appliance-by-appliance and whole-home power demand for 5 UK homes. Appliance power demand was recorded once every 6 seconds. Whole-home power demand was recorded once every 6 seconds for all homes and additionally at 16kHz for homes 1, 2 and 5. Detailed metadata is included.</li><li><strong>rights_list</strong>: <ul><li>{'name': 'Creative Commons Attribution 4.0 International (CC BY 4.0)', 'uri': 'http://creativecommons.org/licenses/by/4.0/'}</li></ul></li><li><strong>long_name</strong>: UK Domestic Appliance-Level Electricity</li><li><strong>geo_location</strong>: <ul><li><strong>latitude</strong>: 51.464462</li><li><strong>country</strong>: GB</li><li><strong>longitude</strong>: -0.076544</li><li><strong>locality</strong>: London</li></ul></li><li><strong>date</strong>: 2017-04-26</li><li><strong>timezone</strong>: Europe/London</li><li><strong>institution</strong>: Imperial College London</li><li><strong>subject</strong>: Disaggregated domestic electricity demand</li><li><strong>publisher</strong>: UK Energy Research Centre Energy Data Centre (UKERC EDC)</li><li><strong>funding</strong>: <ul><li>Jack Kelly's PhD is funded by an EPSRC DTA</li><li>Hardware necessary for this project was funded from Jack Kelly's Intel EU PhD Fellowship</li></ul></li><li><strong>name</strong>: UK-DALE</li><li><strong>number_of_buildings</strong>: 5</li><li><strong>related_documents</strong>: <ul><li>Jack Kelly and William Knottenbelt. The UK-DALE dataset, domestic appliance-level electricity demand and whole-house demand from five UK homes.  To appear in Scientific Data 2:150007.  DOI:10.1038/sdata.2015.7 arXiv:1404.0284 (2015).</li><li>Dataset is available for download from <a href=\"http://www.doc.ic.ac.uk/~dk3810/data/\">http://www.doc.ic.ac.uk/~dk3810/data/</a></li><li>Dataset is also available from the UK Energy Research Council's Energy Data Centre: The 1-second data is available from <a href=\"http://data.ukedc.rl.ac.uk/cgi-bin/dataset_catalogue/view.cgi.py?id=19\">http://data.ukedc.rl.ac.uk/cgi-bin/dataset_catalogue/view.cgi.py?id=19</a> and the 6-second data is available from <a href=\"http://data.ukedc.rl.ac.uk/cgi-bin/dataset_catalogue/view.cgi.py?id=18\">http://data.ukedc.rl.ac.uk/cgi-bin/dataset_catalogue/view.cgi.py?id=18</a> but please note that this archive is updated less frequently than the data on www.doc.ic.ac.uk/~dk3810/data/</li></ul></li><li><strong>contact</strong>: jack.kelly@imperial.ac.uk</li><li><strong>timeframe</strong>: <ul><li><strong>start</strong>: 2012-11-09T22:28:15+00:00</li><li><strong>end</strong>: 2017-04-26T18:35:53+01:00</li></ul></li><li><strong>geospatial_coverage</strong>: Southern England</li><li><strong>creators</strong>: <ul><li>Kelly, Jack</li></ul></li><li><strong>schema</strong>: <a href=\"https://github.com/nilmtk/nilm_metadata/tree/v0.2\">https://github.com/nilmtk/nilm_metadata/tree/v0.2</a></li></ul>"
      ],
      "text/plain": [
       "<IPython.core.display.HTML object>"
      ]
     },
     "metadata": {},
     "output_type": "display_data"
    }
   ],
   "source": [
    "print_dict(uk_dale.metadata)"
   ]
  },
  {
   "cell_type": "code",
   "execution_count": 58,
   "metadata": {
    "colab": {
     "base_uri": "https://localhost:8080/",
     "height": 116
    },
    "id": "R9rb4-pU_oHA",
    "outputId": "d0a2450b-ff10-4f7b-b2fb-b6785e187991"
   },
   "outputs": [
    {
     "data": {
      "text/html": [
       "<ul><li><strong>1</strong>: Building(instance=1, dataset='UK-DALE')</li><li><strong>2</strong>: Building(instance=2, dataset='UK-DALE')</li><li><strong>3</strong>: Building(instance=3, dataset='UK-DALE')</li><li><strong>4</strong>: Building(instance=4, dataset='UK-DALE')</li><li><strong>5</strong>: Building(instance=5, dataset='UK-DALE')</li></ul>"
      ],
      "text/plain": [
       "<IPython.core.display.HTML object>"
      ]
     },
     "metadata": {},
     "output_type": "display_data"
    }
   ],
   "source": [
    "print_dict(uk_dale.buildings)"
   ]
  },
  {
   "cell_type": "code",
   "execution_count": 59,
   "metadata": {
    "colab": {
     "base_uri": "https://localhost:8080/"
    },
    "id": "n-xXmTs-_yM_",
    "outputId": "fd50ab90-f79e-4cfe-982f-8e3f311207fa"
   },
   "outputs": [
    {
     "data": {
      "text/plain": [
       "MeterGroup(meters=\n",
       "  ElecMeter(instance=2, building=1, dataset='UK-DALE', appliances=[Appliance(type='boiler', instance=1)])\n",
       "  ElecMeter(instance=3, building=1, dataset='UK-DALE', appliances=[Appliance(type='solar thermal pumping station', instance=1)])\n",
       "  ElecMeter(instance=4, building=1, dataset='UK-DALE', appliances=[Appliance(type='laptop computer', instance=1), Appliance(type='laptop computer', instance=3)])\n",
       "  ElecMeter(instance=5, building=1, dataset='UK-DALE', appliances=[Appliance(type='washer dryer', instance=1), Appliance(type='washer dryer', instance=2)])\n",
       "  ElecMeter(instance=6, building=1, dataset='UK-DALE', appliances=[Appliance(type='dish washer', instance=1)])\n",
       "  ElecMeter(instance=7, building=1, dataset='UK-DALE', appliances=[Appliance(type='television', instance=1)])\n",
       "  ElecMeter(instance=8, building=1, dataset='UK-DALE', appliances=[Appliance(type='light', instance=1), Appliance(type='light', instance=2)])\n",
       "  ElecMeter(instance=9, building=1, dataset='UK-DALE', appliances=[Appliance(type='HTPC', instance=1)])\n",
       "  ElecMeter(instance=10, building=1, dataset='UK-DALE', appliances=[Appliance(type='kettle', instance=1), Appliance(type='food processor', instance=1), Appliance(type='toasted sandwich maker', instance=1)])\n",
       "  ElecMeter(instance=11, building=1, dataset='UK-DALE', appliances=[Appliance(type='toaster', instance=1), Appliance(type='kitchen aid', instance=1), Appliance(type='food processor', instance=2)])\n",
       "  ElecMeter(instance=12, building=1, dataset='UK-DALE', appliances=[Appliance(type='fridge freezer', instance=1)])\n",
       "  ElecMeter(instance=13, building=1, dataset='UK-DALE', appliances=[Appliance(type='microwave', instance=1)])\n",
       "  ElecMeter(instance=14, building=1, dataset='UK-DALE', appliances=[Appliance(type='computer monitor', instance=1)])\n",
       "  ElecMeter(instance=15, building=1, dataset='UK-DALE', appliances=[Appliance(type='audio system', instance=1)])\n",
       "  ElecMeter(instance=16, building=1, dataset='UK-DALE', appliances=[Appliance(type='breadmaker', instance=1)])\n",
       "  ElecMeter(instance=17, building=1, dataset='UK-DALE', appliances=[Appliance(type='audio amplifier', instance=1)])\n",
       "  ElecMeter(instance=18, building=1, dataset='UK-DALE', appliances=[Appliance(type='broadband router', instance=1), Appliance(type='broadband router', instance=2)])\n",
       "  ElecMeter(instance=19, building=1, dataset='UK-DALE', appliances=[Appliance(type='light', instance=3), Appliance(type='bouncy castle pump', instance=1)])\n",
       "  ElecMeter(instance=20, building=1, dataset='UK-DALE', appliances=[Appliance(type='soldering iron', instance=1)])\n",
       "  ElecMeter(instance=21, building=1, dataset='UK-DALE', appliances=[Appliance(type='ethernet switch', instance=1), Appliance(type='USB hub', instance=1)])\n",
       "  ElecMeter(instance=22, building=1, dataset='UK-DALE', appliances=[Appliance(type='vacuum cleaner', instance=1)])\n",
       "  ElecMeter(instance=23, building=1, dataset='UK-DALE', appliances=[Appliance(type='light', instance=4)])\n",
       "  ElecMeter(instance=24, building=1, dataset='UK-DALE', appliances=[Appliance(type='light', instance=5)])\n",
       "  ElecMeter(instance=25, building=1, dataset='UK-DALE', appliances=[Appliance(type='light', instance=16)])\n",
       "  ElecMeter(instance=26, building=1, dataset='UK-DALE', appliances=[Appliance(type='light', instance=6)])\n",
       "  ElecMeter(instance=27, building=1, dataset='UK-DALE', appliances=[Appliance(type='tablet computer charger', instance=1)])\n",
       "  ElecMeter(instance=28, building=1, dataset='UK-DALE', appliances=[Appliance(type='active subwoofer', instance=1)])\n",
       "  ElecMeter(instance=29, building=1, dataset='UK-DALE', appliances=[Appliance(type='light', instance=7)])\n",
       "  ElecMeter(instance=30, building=1, dataset='UK-DALE', appliances=[Appliance(type='radio', instance=1)])\n",
       "  ElecMeter(instance=31, building=1, dataset='UK-DALE', appliances=[Appliance(type='light', instance=8)])\n",
       "  ElecMeter(instance=32, building=1, dataset='UK-DALE', appliances=[Appliance(type='wireless phone charger', instance=1), Appliance(type='audio system', instance=2)])\n",
       "  ElecMeter(instance=33, building=1, dataset='UK-DALE', appliances=[Appliance(type='light', instance=9)])\n",
       "  ElecMeter(instance=34, building=1, dataset='UK-DALE', appliances=[Appliance(type='mobile phone charger', instance=1)])\n",
       "  ElecMeter(instance=35, building=1, dataset='UK-DALE', appliances=[Appliance(type='light', instance=10)])\n",
       "  ElecMeter(instance=36, building=1, dataset='UK-DALE', appliances=[Appliance(type='coffee maker', instance=1)])\n",
       "  ElecMeter(instance=37, building=1, dataset='UK-DALE', appliances=[Appliance(type='radio', instance=2)])\n",
       "  ElecMeter(instance=38, building=1, dataset='UK-DALE', appliances=[Appliance(type='mobile phone charger', instance=2), Appliance(type='baby monitor', instance=2), Appliance(type='radio', instance=3)])\n",
       "  ElecMeter(instance=39, building=1, dataset='UK-DALE', appliances=[Appliance(type='hair dryer', instance=1)])\n",
       "  ElecMeter(instance=40, building=1, dataset='UK-DALE', appliances=[Appliance(type='hair straighteners', instance=1)])\n",
       "  ElecMeter(instance=41, building=1, dataset='UK-DALE', appliances=[Appliance(type='clothes iron', instance=1)])\n",
       "  ElecMeter(instance=42, building=1, dataset='UK-DALE', appliances=[Appliance(type='oven', instance=1)])\n",
       "  ElecMeter(instance=43, building=1, dataset='UK-DALE', appliances=[Appliance(type='computer', instance=1), Appliance(type='external hard disk', instance=1)])\n",
       "  ElecMeter(instance=44, building=1, dataset='UK-DALE', appliances=[Appliance(type='light', instance=11)])\n",
       "  ElecMeter(instance=45, building=1, dataset='UK-DALE', appliances=[Appliance(type='light', instance=12)])\n",
       "  ElecMeter(instance=46, building=1, dataset='UK-DALE', appliances=[Appliance(type='baby monitor', instance=1)])\n",
       "  ElecMeter(instance=47, building=1, dataset='UK-DALE', appliances=[Appliance(type='charger', instance=1)])\n",
       "  ElecMeter(instance=48, building=1, dataset='UK-DALE', appliances=[Appliance(type='light', instance=13)])\n",
       "  ElecMeter(instance=49, building=1, dataset='UK-DALE', appliances=[Appliance(type='light', instance=14)])\n",
       "  ElecMeter(instance=50, building=1, dataset='UK-DALE', appliances=[Appliance(type='light', instance=15)])\n",
       "  ElecMeter(instance=51, building=1, dataset='UK-DALE', appliances=[Appliance(type='desktop computer', instance=1)])\n",
       "  ElecMeter(instance=52, building=1, dataset='UK-DALE', appliances=[Appliance(type='fan', instance=1)])\n",
       "  ElecMeter(instance=53, building=1, dataset='UK-DALE', appliances=[Appliance(type='printer', instance=1)])\n",
       "  ElecMeter(instance=54, building=1, dataset='UK-DALE', site_meter, appliances=[Appliance(type='immersion heater', instance=1), Appliance(type='water pump', instance=1), Appliance(type='security alarm', instance=1), Appliance(type='fan', instance=2), Appliance(type='drill', instance=1), Appliance(type='laptop computer', instance=2)])\n",
       ")"
      ]
     },
     "execution_count": 59,
     "metadata": {},
     "output_type": "execute_result"
    }
   ],
   "source": [
    "uk_dale.buildings[1].elec"
   ]
  },
  {
   "cell_type": "code",
   "execution_count": null,
   "metadata": {
    "id": "8HZRFohs_3Qf"
   },
   "outputs": [],
   "source": []
  }
 ],
 "metadata": {
  "colab": {
   "include_colab_link": true,
   "name": " nilmtk-data.ipynb",
   "provenance": []
  },
  "kernelspec": {
   "display_name": "Python 3",
   "language": "python",
   "name": "python3"
  },
  "language_info": {
   "codemirror_mode": {
    "name": "ipython",
    "version": 3
   },
   "file_extension": ".py",
   "mimetype": "text/x-python",
   "name": "python",
   "nbconvert_exporter": "python",
   "pygments_lexer": "ipython3",
   "version": "3.8.8"
  }
 },
 "nbformat": 4,
 "nbformat_minor": 1
}
