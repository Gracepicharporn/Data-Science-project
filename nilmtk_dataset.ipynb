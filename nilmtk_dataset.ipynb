{
  "nbformat": 4,
  "nbformat_minor": 0,
  "metadata": {
    "colab": {
      "name": "nilmtk-dataset.ipynb",
      "provenance": [],
      "include_colab_link": true
    },
    "kernelspec": {
      "name": "python3",
      "display_name": "Python 3"
    },
    "language_info": {
      "name": "python"
    }
  },
  "cells": [
    {
      "cell_type": "markdown",
      "metadata": {
        "id": "view-in-github",
        "colab_type": "text"
      },
      "source": [
        "<a href=\"https://colab.research.google.com/github/Gracepicharporn/Data-Science-project/blob/main/nilmtk_dataset.ipynb\" target=\"_parent\"><img src=\"https://colab.research.google.com/assets/colab-badge.svg\" alt=\"Open In Colab\"/></a>"
      ]
    },
    {
      "cell_type": "code",
      "execution_count": null,
      "metadata": {
        "colab": {
          "base_uri": "https://localhost:8080/"
        },
        "id": "mCl3iclBmKI2",
        "outputId": "7ca72bb7-8000-4be6-d576-ec95a76fd7b9"
      },
      "outputs": [
        {
          "output_type": "stream",
          "name": "stdout",
          "text": [
            "Cloning into 'nilmtk'...\n",
            "remote: Enumerating objects: 12349, done.\u001b[K\n",
            "remote: Counting objects: 100% (139/139), done.\u001b[K\n",
            "remote: Compressing objects: 100% (64/64), done.\u001b[K\n",
            "remote: Total 12349 (delta 78), reused 124 (delta 74), pack-reused 12210\u001b[K\n",
            "Receiving objects: 100% (12349/12349), 51.88 MiB | 13.89 MiB/s, done.\n",
            "Resolving deltas: 100% (8784/8784), done.\n"
          ]
        }
      ],
      "source": [
        "!git clone https://github.com/nilmtk/nilmtk.git"
      ]
    },
    {
      "cell_type": "code",
      "source": [
        "!pip install git+https://github.com/nilmtk/nilmtk.git"
      ],
      "metadata": {
        "colab": {
          "base_uri": "https://localhost:8080/",
          "height": 1000
        },
        "id": "cOYXajsbmMdI",
        "outputId": "669a86be-254b-42db-dd00-b6cf78f6cef2"
      },
      "execution_count": 1,
      "outputs": [
        {
          "output_type": "stream",
          "name": "stdout",
          "text": [
            "Looking in indexes: https://pypi.org/simple, https://us-python.pkg.dev/colab-wheels/public/simple/\n",
            "Collecting git+https://github.com/nilmtk/nilmtk.git\n",
            "  Cloning https://github.com/nilmtk/nilmtk.git to /tmp/pip-req-build-jz345bo5\n",
            "  Running command git clone -q https://github.com/nilmtk/nilmtk.git /tmp/pip-req-build-jz345bo5\n",
            "Collecting pandas==0.25.3\n",
            "  Downloading pandas-0.25.3-cp37-cp37m-manylinux1_x86_64.whl (10.4 MB)\n",
            "\u001b[K     |████████████████████████████████| 10.4 MB 8.4 MB/s \n",
            "\u001b[?25hCollecting numpy<1.20.0,>=1.13.3\n",
            "  Downloading numpy-1.19.5-cp37-cp37m-manylinux2010_x86_64.whl (14.8 MB)\n",
            "\u001b[K     |████████████████████████████████| 14.8 MB 45.6 MB/s \n",
            "\u001b[?25hCollecting networkx==2.1\n",
            "  Downloading networkx-2.1.zip (1.6 MB)\n",
            "\u001b[K     |████████████████████████████████| 1.6 MB 51.0 MB/s \n",
            "\u001b[?25hRequirement already satisfied: scipy in /usr/local/lib/python3.7/dist-packages (from nilmtk==0.4.0.dev1+git.ddd3a34) (1.4.1)\n",
            "Requirement already satisfied: tables in /usr/local/lib/python3.7/dist-packages (from nilmtk==0.4.0.dev1+git.ddd3a34) (3.7.0)\n",
            "Requirement already satisfied: scikit-learn>=0.21.2 in /usr/local/lib/python3.7/dist-packages (from nilmtk==0.4.0.dev1+git.ddd3a34) (1.0.2)\n",
            "Collecting hmmlearn>=0.2.1\n",
            "  Downloading hmmlearn-0.2.7-cp37-cp37m-manylinux_2_12_x86_64.manylinux2010_x86_64.whl (129 kB)\n",
            "\u001b[K     |████████████████████████████████| 129 kB 54.3 MB/s \n",
            "\u001b[?25hRequirement already satisfied: pyyaml in /usr/local/lib/python3.7/dist-packages (from nilmtk==0.4.0.dev1+git.ddd3a34) (3.13)\n",
            "Collecting matplotlib==3.1.3\n",
            "  Downloading matplotlib-3.1.3-cp37-cp37m-manylinux1_x86_64.whl (13.1 MB)\n",
            "\u001b[K     |████████████████████████████████| 13.1 MB 49.3 MB/s \n",
            "\u001b[?25hCollecting jupyterlab\n",
            "  Downloading jupyterlab-3.4.3-py3-none-any.whl (8.8 MB)\n",
            "\u001b[K     |████████████████████████████████| 8.8 MB 40.7 MB/s \n",
            "\u001b[?25hRequirement already satisfied: cycler>=0.10 in /usr/local/lib/python3.7/dist-packages (from matplotlib==3.1.3->nilmtk==0.4.0.dev1+git.ddd3a34) (0.11.0)\n",
            "Requirement already satisfied: pyparsing!=2.0.4,!=2.1.2,!=2.1.6,>=2.0.1 in /usr/local/lib/python3.7/dist-packages (from matplotlib==3.1.3->nilmtk==0.4.0.dev1+git.ddd3a34) (3.0.9)\n",
            "Requirement already satisfied: python-dateutil>=2.1 in /usr/local/lib/python3.7/dist-packages (from matplotlib==3.1.3->nilmtk==0.4.0.dev1+git.ddd3a34) (2.8.2)\n",
            "Requirement already satisfied: kiwisolver>=1.0.1 in /usr/local/lib/python3.7/dist-packages (from matplotlib==3.1.3->nilmtk==0.4.0.dev1+git.ddd3a34) (1.4.3)\n",
            "Requirement already satisfied: decorator>=4.1.0 in /usr/local/lib/python3.7/dist-packages (from networkx==2.1->nilmtk==0.4.0.dev1+git.ddd3a34) (4.4.2)\n",
            "Requirement already satisfied: pytz>=2017.2 in /usr/local/lib/python3.7/dist-packages (from pandas==0.25.3->nilmtk==0.4.0.dev1+git.ddd3a34) (2022.1)\n",
            "Requirement already satisfied: typing-extensions in /usr/local/lib/python3.7/dist-packages (from kiwisolver>=1.0.1->matplotlib==3.1.3->nilmtk==0.4.0.dev1+git.ddd3a34) (4.1.1)\n",
            "Requirement already satisfied: six>=1.5 in /usr/local/lib/python3.7/dist-packages (from python-dateutil>=2.1->matplotlib==3.1.3->nilmtk==0.4.0.dev1+git.ddd3a34) (1.15.0)\n",
            "Requirement already satisfied: joblib>=0.11 in /usr/local/lib/python3.7/dist-packages (from scikit-learn>=0.21.2->nilmtk==0.4.0.dev1+git.ddd3a34) (1.1.0)\n",
            "Requirement already satisfied: threadpoolctl>=2.0.0 in /usr/local/lib/python3.7/dist-packages (from scikit-learn>=0.21.2->nilmtk==0.4.0.dev1+git.ddd3a34) (3.1.0)\n",
            "Requirement already satisfied: packaging in /usr/local/lib/python3.7/dist-packages (from jupyterlab->nilmtk==0.4.0.dev1+git.ddd3a34) (21.3)\n",
            "Requirement already satisfied: ipython in /usr/local/lib/python3.7/dist-packages (from jupyterlab->nilmtk==0.4.0.dev1+git.ddd3a34) (5.5.0)\n",
            "Collecting tornado>=6.1.0\n",
            "  Downloading tornado-6.2-cp37-abi3-manylinux_2_5_x86_64.manylinux1_x86_64.manylinux_2_17_x86_64.manylinux2014_x86_64.whl (423 kB)\n",
            "\u001b[K     |████████████████████████████████| 423 kB 68.3 MB/s \n",
            "\u001b[?25hRequirement already satisfied: jupyter-core in /usr/local/lib/python3.7/dist-packages (from jupyterlab->nilmtk==0.4.0.dev1+git.ddd3a34) (4.10.0)\n",
            "Collecting jupyter-server~=1.16\n",
            "  Downloading jupyter_server-1.18.1-py3-none-any.whl (344 kB)\n",
            "\u001b[K     |████████████████████████████████| 344 kB 32.4 MB/s \n",
            "\u001b[?25hCollecting nbclassic~=0.2\n",
            "  Downloading nbclassic-0.4.2-py3-none-any.whl (9.7 MB)\n",
            "\u001b[K     |████████████████████████████████| 9.7 MB 42.3 MB/s \n",
            "\u001b[?25hCollecting jupyterlab-server~=2.10\n",
            "  Downloading jupyterlab_server-2.15.0-py3-none-any.whl (54 kB)\n",
            "\u001b[K     |████████████████████████████████| 54 kB 2.6 MB/s \n",
            "\u001b[?25hRequirement already satisfied: jinja2>=2.1 in /usr/local/lib/python3.7/dist-packages (from jupyterlab->nilmtk==0.4.0.dev1+git.ddd3a34) (2.11.3)\n",
            "Requirement already satisfied: MarkupSafe>=0.23 in /usr/local/lib/python3.7/dist-packages (from jinja2>=2.1->jupyterlab->nilmtk==0.4.0.dev1+git.ddd3a34) (2.0.1)\n",
            "Requirement already satisfied: terminado>=0.8.3 in /usr/local/lib/python3.7/dist-packages (from jupyter-server~=1.16->jupyterlab->nilmtk==0.4.0.dev1+git.ddd3a34) (0.13.3)\n",
            "Collecting websocket-client\n",
            "  Downloading websocket_client-1.3.3-py3-none-any.whl (54 kB)\n",
            "\u001b[K     |████████████████████████████████| 54 kB 2.9 MB/s \n",
            "\u001b[?25hCollecting anyio<4,>=3.1.0\n",
            "  Downloading anyio-3.6.1-py3-none-any.whl (80 kB)\n",
            "\u001b[K     |████████████████████████████████| 80 kB 10.0 MB/s \n",
            "\u001b[?25hRequirement already satisfied: Send2Trash in /usr/local/lib/python3.7/dist-packages (from jupyter-server~=1.16->jupyterlab->nilmtk==0.4.0.dev1+git.ddd3a34) (1.8.0)\n",
            "Collecting nbconvert>=6.4.4\n",
            "  Downloading nbconvert-6.5.0-py3-none-any.whl (561 kB)\n",
            "\u001b[K     |████████████████████████████████| 561 kB 58.4 MB/s \n",
            "\u001b[?25hRequirement already satisfied: pyzmq>=17 in /usr/local/lib/python3.7/dist-packages (from jupyter-server~=1.16->jupyterlab->nilmtk==0.4.0.dev1+git.ddd3a34) (23.1.0)\n",
            "Requirement already satisfied: nbformat>=5.2.0 in /usr/local/lib/python3.7/dist-packages (from jupyter-server~=1.16->jupyterlab->nilmtk==0.4.0.dev1+git.ddd3a34) (5.4.0)\n",
            "Collecting jupyter-client>=6.1.12\n",
            "  Downloading jupyter_client-7.3.4-py3-none-any.whl (132 kB)\n",
            "\u001b[K     |████████████████████████████████| 132 kB 61.2 MB/s \n",
            "\u001b[?25hRequirement already satisfied: traitlets>=5.1 in /usr/local/lib/python3.7/dist-packages (from jupyter-server~=1.16->jupyterlab->nilmtk==0.4.0.dev1+git.ddd3a34) (5.1.1)\n",
            "Requirement already satisfied: argon2-cffi in /usr/local/lib/python3.7/dist-packages (from jupyter-server~=1.16->jupyterlab->nilmtk==0.4.0.dev1+git.ddd3a34) (21.3.0)\n",
            "Requirement already satisfied: prometheus-client in /usr/local/lib/python3.7/dist-packages (from jupyter-server~=1.16->jupyterlab->nilmtk==0.4.0.dev1+git.ddd3a34) (0.14.1)\n",
            "Requirement already satisfied: idna>=2.8 in /usr/local/lib/python3.7/dist-packages (from anyio<4,>=3.1.0->jupyter-server~=1.16->jupyterlab->nilmtk==0.4.0.dev1+git.ddd3a34) (2.10)\n",
            "Collecting sniffio>=1.1\n",
            "  Downloading sniffio-1.2.0-py3-none-any.whl (10 kB)\n",
            "Requirement already satisfied: entrypoints in /usr/local/lib/python3.7/dist-packages (from jupyter-client>=6.1.12->jupyter-server~=1.16->jupyterlab->nilmtk==0.4.0.dev1+git.ddd3a34) (0.4)\n",
            "Requirement already satisfied: nest-asyncio>=1.5.4 in /usr/local/lib/python3.7/dist-packages (from jupyter-client>=6.1.12->jupyter-server~=1.16->jupyterlab->nilmtk==0.4.0.dev1+git.ddd3a34) (1.5.5)\n",
            "Requirement already satisfied: babel in /usr/local/lib/python3.7/dist-packages (from jupyterlab-server~=2.10->jupyterlab->nilmtk==0.4.0.dev1+git.ddd3a34) (2.10.2)\n",
            "Collecting jinja2>=2.1\n",
            "  Downloading Jinja2-3.1.2-py3-none-any.whl (133 kB)\n",
            "\u001b[K     |████████████████████████████████| 133 kB 62.4 MB/s \n",
            "\u001b[?25hRequirement already satisfied: requests in /usr/local/lib/python3.7/dist-packages (from jupyterlab-server~=2.10->jupyterlab->nilmtk==0.4.0.dev1+git.ddd3a34) (2.23.0)\n",
            "Requirement already satisfied: importlib-metadata>=3.6 in /usr/local/lib/python3.7/dist-packages (from jupyterlab-server~=2.10->jupyterlab->nilmtk==0.4.0.dev1+git.ddd3a34) (4.11.4)\n",
            "Collecting json5\n",
            "  Downloading json5-0.9.8.tar.gz (22 kB)\n",
            "Requirement already satisfied: jsonschema>=3.0.1 in /usr/local/lib/python3.7/dist-packages (from jupyterlab-server~=2.10->jupyterlab->nilmtk==0.4.0.dev1+git.ddd3a34) (4.3.3)\n",
            "Requirement already satisfied: zipp>=0.5 in /usr/local/lib/python3.7/dist-packages (from importlib-metadata>=3.6->jupyterlab-server~=2.10->jupyterlab->nilmtk==0.4.0.dev1+git.ddd3a34) (3.8.0)\n",
            "Requirement already satisfied: pyrsistent!=0.17.0,!=0.17.1,!=0.17.2,>=0.14.0 in /usr/local/lib/python3.7/dist-packages (from jsonschema>=3.0.1->jupyterlab-server~=2.10->jupyterlab->nilmtk==0.4.0.dev1+git.ddd3a34) (0.18.1)\n",
            "Requirement already satisfied: importlib-resources>=1.4.0 in /usr/local/lib/python3.7/dist-packages (from jsonschema>=3.0.1->jupyterlab-server~=2.10->jupyterlab->nilmtk==0.4.0.dev1+git.ddd3a34) (5.7.1)\n",
            "Requirement already satisfied: attrs>=17.4.0 in /usr/local/lib/python3.7/dist-packages (from jsonschema>=3.0.1->jupyterlab-server~=2.10->jupyterlab->nilmtk==0.4.0.dev1+git.ddd3a34) (21.4.0)\n",
            "Requirement already satisfied: ipykernel in /usr/local/lib/python3.7/dist-packages (from nbclassic~=0.2->jupyterlab->nilmtk==0.4.0.dev1+git.ddd3a34) (4.10.1)\n",
            "Collecting notebook-shim>=0.1.0\n",
            "  Downloading notebook_shim-0.1.0-py3-none-any.whl (13 kB)\n",
            "Requirement already satisfied: ipython-genutils in /usr/local/lib/python3.7/dist-packages (from nbclassic~=0.2->jupyterlab->nilmtk==0.4.0.dev1+git.ddd3a34) (0.2.0)\n",
            "Requirement already satisfied: pandocfilters>=1.4.1 in /usr/local/lib/python3.7/dist-packages (from nbconvert>=6.4.4->jupyter-server~=1.16->jupyterlab->nilmtk==0.4.0.dev1+git.ddd3a34) (1.5.0)\n",
            "Requirement already satisfied: bleach in /usr/local/lib/python3.7/dist-packages (from nbconvert>=6.4.4->jupyter-server~=1.16->jupyterlab->nilmtk==0.4.0.dev1+git.ddd3a34) (5.0.0)\n",
            "Requirement already satisfied: mistune<2,>=0.8.1 in /usr/local/lib/python3.7/dist-packages (from nbconvert>=6.4.4->jupyter-server~=1.16->jupyterlab->nilmtk==0.4.0.dev1+git.ddd3a34) (0.8.4)\n",
            "Requirement already satisfied: beautifulsoup4 in /usr/local/lib/python3.7/dist-packages (from nbconvert>=6.4.4->jupyter-server~=1.16->jupyterlab->nilmtk==0.4.0.dev1+git.ddd3a34) (4.6.3)\n",
            "Requirement already satisfied: nbclient>=0.5.0 in /usr/local/lib/python3.7/dist-packages (from nbconvert>=6.4.4->jupyter-server~=1.16->jupyterlab->nilmtk==0.4.0.dev1+git.ddd3a34) (0.6.6)\n",
            "Requirement already satisfied: defusedxml in /usr/local/lib/python3.7/dist-packages (from nbconvert>=6.4.4->jupyter-server~=1.16->jupyterlab->nilmtk==0.4.0.dev1+git.ddd3a34) (0.7.1)\n",
            "Requirement already satisfied: jupyterlab-pygments in /usr/local/lib/python3.7/dist-packages (from nbconvert>=6.4.4->jupyter-server~=1.16->jupyterlab->nilmtk==0.4.0.dev1+git.ddd3a34) (0.2.2)\n",
            "Requirement already satisfied: tinycss2 in /usr/local/lib/python3.7/dist-packages (from nbconvert>=6.4.4->jupyter-server~=1.16->jupyterlab->nilmtk==0.4.0.dev1+git.ddd3a34) (1.1.1)\n",
            "Requirement already satisfied: pygments>=2.4.1 in /usr/local/lib/python3.7/dist-packages (from nbconvert>=6.4.4->jupyter-server~=1.16->jupyterlab->nilmtk==0.4.0.dev1+git.ddd3a34) (2.6.1)\n",
            "Collecting traitlets>=5.1\n",
            "  Downloading traitlets-5.3.0-py3-none-any.whl (106 kB)\n",
            "\u001b[K     |████████████████████████████████| 106 kB 57.6 MB/s \n",
            "\u001b[?25hRequirement already satisfied: fastjsonschema in /usr/local/lib/python3.7/dist-packages (from nbformat>=5.2.0->jupyter-server~=1.16->jupyterlab->nilmtk==0.4.0.dev1+git.ddd3a34) (2.15.3)\n",
            "Requirement already satisfied: ptyprocess in /usr/local/lib/python3.7/dist-packages (from terminado>=0.8.3->jupyter-server~=1.16->jupyterlab->nilmtk==0.4.0.dev1+git.ddd3a34) (0.7.0)\n",
            "Requirement already satisfied: argon2-cffi-bindings in /usr/local/lib/python3.7/dist-packages (from argon2-cffi->jupyter-server~=1.16->jupyterlab->nilmtk==0.4.0.dev1+git.ddd3a34) (21.2.0)\n",
            "Requirement already satisfied: cffi>=1.0.1 in /usr/local/lib/python3.7/dist-packages (from argon2-cffi-bindings->argon2-cffi->jupyter-server~=1.16->jupyterlab->nilmtk==0.4.0.dev1+git.ddd3a34) (1.15.0)\n",
            "Requirement already satisfied: pycparser in /usr/local/lib/python3.7/dist-packages (from cffi>=1.0.1->argon2-cffi-bindings->argon2-cffi->jupyter-server~=1.16->jupyterlab->nilmtk==0.4.0.dev1+git.ddd3a34) (2.21)\n",
            "Requirement already satisfied: webencodings in /usr/local/lib/python3.7/dist-packages (from bleach->nbconvert>=6.4.4->jupyter-server~=1.16->jupyterlab->nilmtk==0.4.0.dev1+git.ddd3a34) (0.5.1)\n",
            "Requirement already satisfied: setuptools>=18.5 in /usr/local/lib/python3.7/dist-packages (from ipython->jupyterlab->nilmtk==0.4.0.dev1+git.ddd3a34) (57.4.0)\n",
            "Requirement already satisfied: simplegeneric>0.8 in /usr/local/lib/python3.7/dist-packages (from ipython->jupyterlab->nilmtk==0.4.0.dev1+git.ddd3a34) (0.8.1)\n",
            "Requirement already satisfied: prompt-toolkit<2.0.0,>=1.0.4 in /usr/local/lib/python3.7/dist-packages (from ipython->jupyterlab->nilmtk==0.4.0.dev1+git.ddd3a34) (1.0.18)\n",
            "Requirement already satisfied: pickleshare in /usr/local/lib/python3.7/dist-packages (from ipython->jupyterlab->nilmtk==0.4.0.dev1+git.ddd3a34) (0.7.5)\n",
            "Requirement already satisfied: pexpect in /usr/local/lib/python3.7/dist-packages (from ipython->jupyterlab->nilmtk==0.4.0.dev1+git.ddd3a34) (4.8.0)\n",
            "Requirement already satisfied: wcwidth in /usr/local/lib/python3.7/dist-packages (from prompt-toolkit<2.0.0,>=1.0.4->ipython->jupyterlab->nilmtk==0.4.0.dev1+git.ddd3a34) (0.2.5)\n",
            "Requirement already satisfied: chardet<4,>=3.0.2 in /usr/local/lib/python3.7/dist-packages (from requests->jupyterlab-server~=2.10->jupyterlab->nilmtk==0.4.0.dev1+git.ddd3a34) (3.0.4)\n",
            "Requirement already satisfied: urllib3!=1.25.0,!=1.25.1,<1.26,>=1.21.1 in /usr/local/lib/python3.7/dist-packages (from requests->jupyterlab-server~=2.10->jupyterlab->nilmtk==0.4.0.dev1+git.ddd3a34) (1.24.3)\n",
            "Requirement already satisfied: certifi>=2017.4.17 in /usr/local/lib/python3.7/dist-packages (from requests->jupyterlab-server~=2.10->jupyterlab->nilmtk==0.4.0.dev1+git.ddd3a34) (2022.6.15)\n",
            "Requirement already satisfied: numexpr>=2.6.2 in /usr/local/lib/python3.7/dist-packages (from tables->nilmtk==0.4.0.dev1+git.ddd3a34) (2.8.1)\n",
            "Building wheels for collected packages: nilmtk, networkx, json5\n",
            "  Building wheel for nilmtk (setup.py) ... \u001b[?25l\u001b[?25hdone\n",
            "  Created wheel for nilmtk: filename=nilmtk-0.4.0.dev1+git.ddd3a34-py3-none-any.whl size=279073 sha256=ca168a66dca5bd9f5eea9bd4ffe60ce64cce451a79440ec16e4a82dfaed22e4b\n",
            "  Stored in directory: /tmp/pip-ephem-wheel-cache-8y43cdyd/wheels/e9/f6/5b/7b9410192ab63291ae9bf1ba54765f8da5b8eb39839b36c923\n",
            "  Building wheel for networkx (setup.py) ... \u001b[?25l\u001b[?25hdone\n",
            "  Created wheel for networkx: filename=networkx-2.1-py2.py3-none-any.whl size=1447361 sha256=1088c6a311a59070426c9fa5745519388426ac3d3a4cdeb3e85d57aa54f04eed\n",
            "  Stored in directory: /root/.cache/pip/wheels/48/b1/c4/94ca0cdd84961331402e857d562d9822ccfcb0567c3d064bf2\n",
            "  Building wheel for json5 (setup.py) ... \u001b[?25l\u001b[?25hdone\n",
            "  Created wheel for json5: filename=json5-0.9.8-py2.py3-none-any.whl size=18604 sha256=c7c138c2bfa0170ba1dd24e6e313ce878672dd20532f9c3894bbdef7da71a501\n",
            "  Stored in directory: /root/.cache/pip/wheels/ac/9b/de/6e4fd8f159d3dfa42c42ceddf2184fda29ea7fb1e8f5f8371c\n",
            "Successfully built nilmtk networkx json5\n",
            "Installing collected packages: traitlets, tornado, jupyter-client, sniffio, jinja2, websocket-client, nbconvert, anyio, numpy, jupyter-server, notebook-shim, json5, nbclassic, jupyterlab-server, pandas, networkx, matplotlib, jupyterlab, hmmlearn, nilmtk\n",
            "  Attempting uninstall: traitlets\n",
            "    Found existing installation: traitlets 5.1.1\n",
            "    Uninstalling traitlets-5.1.1:\n",
            "      Successfully uninstalled traitlets-5.1.1\n",
            "  Attempting uninstall: tornado\n",
            "    Found existing installation: tornado 5.1.1\n",
            "    Uninstalling tornado-5.1.1:\n",
            "      Successfully uninstalled tornado-5.1.1\n",
            "  Attempting uninstall: jupyter-client\n",
            "    Found existing installation: jupyter-client 5.3.5\n",
            "    Uninstalling jupyter-client-5.3.5:\n",
            "      Successfully uninstalled jupyter-client-5.3.5\n",
            "  Attempting uninstall: jinja2\n",
            "    Found existing installation: Jinja2 2.11.3\n",
            "    Uninstalling Jinja2-2.11.3:\n",
            "      Successfully uninstalled Jinja2-2.11.3\n",
            "  Attempting uninstall: nbconvert\n",
            "    Found existing installation: nbconvert 5.6.1\n",
            "    Uninstalling nbconvert-5.6.1:\n",
            "      Successfully uninstalled nbconvert-5.6.1\n",
            "  Attempting uninstall: numpy\n",
            "    Found existing installation: numpy 1.21.6\n",
            "    Uninstalling numpy-1.21.6:\n",
            "      Successfully uninstalled numpy-1.21.6\n",
            "  Attempting uninstall: pandas\n",
            "    Found existing installation: pandas 1.3.5\n",
            "    Uninstalling pandas-1.3.5:\n",
            "      Successfully uninstalled pandas-1.3.5\n",
            "  Attempting uninstall: networkx\n",
            "    Found existing installation: networkx 2.6.3\n",
            "    Uninstalling networkx-2.6.3:\n",
            "      Successfully uninstalled networkx-2.6.3\n",
            "  Attempting uninstall: matplotlib\n",
            "    Found existing installation: matplotlib 3.2.2\n",
            "    Uninstalling matplotlib-3.2.2:\n",
            "      Successfully uninstalled matplotlib-3.2.2\n",
            "\u001b[31mERROR: pip's dependency resolver does not currently take into account all the packages that are installed. This behaviour is the source of the following dependency conflicts.\n",
            "xarray 0.20.2 requires pandas>=1.1, but you have pandas 0.25.3 which is incompatible.\n",
            "xarray-einstats 0.2.2 requires numpy>=1.21, but you have numpy 1.19.5 which is incompatible.\n",
            "tensorflow 2.8.2+zzzcolab20220527125636 requires numpy>=1.20, but you have numpy 1.19.5 which is incompatible.\n",
            "google-colab 1.0.0 requires pandas>=1.1.0; python_version >= \"3.0\", but you have pandas 0.25.3 which is incompatible.\n",
            "google-colab 1.0.0 requires tornado~=5.1.0; python_version >= \"3.0\", but you have tornado 6.2 which is incompatible.\n",
            "flask 1.1.4 requires Jinja2<3.0,>=2.10.1, but you have jinja2 3.1.2 which is incompatible.\n",
            "fbprophet 0.7.1 requires pandas>=1.0.4, but you have pandas 0.25.3 which is incompatible.\n",
            "datascience 0.10.6 requires folium==0.2.1, but you have folium 0.8.3 which is incompatible.\n",
            "albumentations 0.1.12 requires imgaug<0.2.7,>=0.2.5, but you have imgaug 0.2.9 which is incompatible.\u001b[0m\n",
            "Successfully installed anyio-3.6.1 hmmlearn-0.2.7 jinja2-3.1.2 json5-0.9.8 jupyter-client-7.3.4 jupyter-server-1.18.1 jupyterlab-3.4.3 jupyterlab-server-2.15.0 matplotlib-3.1.3 nbclassic-0.4.2 nbconvert-6.5.0 networkx-2.1 nilmtk-0.4.0.dev1+git.ddd3a34 notebook-shim-0.1.0 numpy-1.19.5 pandas-0.25.3 sniffio-1.2.0 tornado-6.2 traitlets-5.3.0 websocket-client-1.3.3\n"
          ]
        },
        {
          "output_type": "display_data",
          "data": {
            "application/vnd.colab-display-data+json": {
              "pip_warning": {
                "packages": [
                  "matplotlib",
                  "mpl_toolkits",
                  "numpy",
                  "tornado"
                ]
              }
            }
          },
          "metadata": {}
        }
      ]
    },
    {
      "cell_type": "code",
      "source": [
        "!pip install git+https://github.com/nilmtk/nilm_metadata.git"
      ],
      "metadata": {
        "colab": {
          "base_uri": "https://localhost:8080/"
        },
        "id": "dafvNECqmQXr",
        "outputId": "ec840a40-f50e-4b62-93e8-1f250394ec8f"
      },
      "execution_count": 2,
      "outputs": [
        {
          "output_type": "stream",
          "name": "stdout",
          "text": [
            "Looking in indexes: https://pypi.org/simple, https://us-python.pkg.dev/colab-wheels/public/simple/\n",
            "Collecting git+https://github.com/nilmtk/nilm_metadata.git\n",
            "  Cloning https://github.com/nilmtk/nilm_metadata.git to /tmp/pip-req-build-w8jcozqb\n",
            "  Running command git clone -q https://github.com/nilmtk/nilm_metadata.git /tmp/pip-req-build-w8jcozqb\n",
            "Requirement already satisfied: PyYAML in /usr/local/lib/python3.7/dist-packages (from nilm-metadata==0.2.5) (3.13)\n",
            "Requirement already satisfied: six in /usr/local/lib/python3.7/dist-packages (from nilm-metadata==0.2.5) (1.15.0)\n",
            "Requirement already satisfied: pandas in /usr/local/lib/python3.7/dist-packages (from nilm-metadata==0.2.5) (0.25.3)\n",
            "Requirement already satisfied: python-dateutil>=2.6.1 in /usr/local/lib/python3.7/dist-packages (from pandas->nilm-metadata==0.2.5) (2.8.2)\n",
            "Requirement already satisfied: pytz>=2017.2 in /usr/local/lib/python3.7/dist-packages (from pandas->nilm-metadata==0.2.5) (2022.1)\n",
            "Requirement already satisfied: numpy>=1.13.3 in /usr/local/lib/python3.7/dist-packages (from pandas->nilm-metadata==0.2.5) (1.19.5)\n",
            "Building wheels for collected packages: nilm-metadata\n",
            "  Building wheel for nilm-metadata (setup.py) ... \u001b[?25l\u001b[?25hdone\n",
            "  Created wheel for nilm-metadata: filename=nilm_metadata-0.2.5-py3-none-any.whl size=24357 sha256=624194d5b0f20862d9cffe7bad428415b16b2e47c3a5d6a38bfe576df38d6f91\n",
            "  Stored in directory: /tmp/pip-ephem-wheel-cache-o7k0iou5/wheels/41/4d/78/58358b558feb05c5f7be68f3ef65dc4ac6f3b75fa2af39bbf0\n",
            "Successfully built nilm-metadata\n",
            "Installing collected packages: nilm-metadata\n",
            "Successfully installed nilm-metadata-0.2.5\n"
          ]
        }
      ]
    },
    {
      "cell_type": "code",
      "source": [
        "import nilmtk\n",
        "from nilmtk import DataSet, MeterGroup\n",
        "import numpy as np\n",
        "import pandas as pd\n",
        "import matplotlib as plt\n",
        "from nilmtk.utils import print_dict\n",
        "import matplotlib.pyplot as plt\n",
        "from matplotlib.dates import DateFormatter\n",
        "import matplotlib.font_manager\n",
        "from datetime import datetime, timedelta\n",
        "import matplotlib.pyplot as plt\n",
        "\n",
        "%matplotlib inline"
      ],
      "metadata": {
        "id": "8gzOJvr9mfLH"
      },
      "execution_count": 3,
      "outputs": []
    },
    {
      "cell_type": "code",
      "source": [
        "from nilmtk import DataSet, MeterGroup"
      ],
      "metadata": {
        "id": "JBfjjfT4mh8K"
      },
      "execution_count": 5,
      "outputs": []
    },
    {
      "cell_type": "code",
      "source": [
        ""
      ],
      "metadata": {
        "id": "arXkrrSMmitT"
      },
      "execution_count": null,
      "outputs": []
    }
  ]
}